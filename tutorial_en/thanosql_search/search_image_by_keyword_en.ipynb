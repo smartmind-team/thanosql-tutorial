{
 "cells": [
  {
   "cell_type": "markdown",
   "id": "aa9f00fa-ab5b-47ad-8c1b-8519624b1d89",
   "metadata": {
    "tags": []
   },
   "source": [
    "# __Search image by keyword__\n",
    "\n",
    "**Understanding the keyword-image search service**\n",
    "---\n",
    "👉 ThanoSQL provides a search function that allows you to return images as results through keywords. Set the keyword desired by the user as a target using an image classification model, etc., and add a column that indexes the updated image using the learned model. If the text-image search function analyzes the meaning from the images and provides similar images, the keyword-image search finds the images corresponding to the desired target value (category).\n",
    "\n",
    "**In this tutorial**\n",
    "---\n",
    "👉 Use the \"__SEARCH__\" query syntax, which is the unstructured data search syntax provided by ThanoSQL, and the \"__SELECT__\" query syntax, which is the structured data search syntax provided by the existing PostgreSQL, to search for images using specific keywords.\n",
    "\n",
    " \n",
    "**Dataset description**\n",
    "---\n",
    "👉 ‘Introduction of food images and nutritional information’ dataset is the data established by the ‘Artificial Intelligence Learning Data Construction Project’ hosted by the Ministry of Science and ICT and supported by the Korea Intelligent Information Society Agency. It is composed of high-quality image data by selecting 400 types. It consists of 842,000 images, and this tutorial uses only some (10 species, 1,190 photos) photos from that dataset."
   ]
  },
  {
   "cell_type": "markdown",
   "id": "54e3f00c-4402-46e2-a589-02354f857383",
   "metadata": {},
   "source": [
    "## __0. Preparing a dataset__"
   ]
  },
  {
   "cell_type": "markdown",
   "id": "56f9f6bb",
   "metadata": {},
   "source": [
    "To use the query syntax of ThanoSQL, you must create an API token and run the query below, as mentioned in the [ThanoSQL Workspace](https://docs.thanosql.ai/quick_start/how_to_use_ThanoSQL/#5-thanosql)."
   ]
  },
  {
   "cell_type": "code",
   "execution_count": null,
   "id": "30339f0c-c6bc-44a3-b065-9aaf646b158a",
   "metadata": {},
   "outputs": [],
   "source": [
    "%load_ext thanosql\n",
    "%thanosql API_TOKEN=<Issued_API_TOKEN>"
   ]
  },
  {
   "cell_type": "code",
   "execution_count": null,
   "id": "981d411f-ae97-4c2a-87c5-f56180495daf",
   "metadata": {
    "tags": []
   },
   "outputs": [],
   "source": [
    "%%thanosql\n",
    "COPY diet \n",
    "OPTIONS(overwrite=True)\n",
    "FROM \"tutorial_data/diet_data/diet.csv\""
   ]
  },
  {
   "cell_type": "markdown",
   "id": "8c02be61",
   "metadata": {},
   "source": [
    "__OPTIONS__ : \n",
    "\n",
    "When __overwrite is true__, the user can create a data table with the same name as the previously created data table.  \n",
    "On the other hand, when __overwrite is False__, the user cannot create a data table with the same name as the previously created data table."
   ]
  },
  {
   "cell_type": "markdown",
   "id": "214a3dd0-ac55-4ed6-ad14-213ab233839e",
   "metadata": {
    "tags": []
   },
   "source": [
    "## __1. Check dataset__\n",
    "\n",
    "Use the data table stored in the ThanoSQL DB to create a keyword-image search model. Run the query syntax below and verify the contents of the table."
   ]
  },
  {
   "cell_type": "code",
   "execution_count": null,
   "id": "c74d985f-2d1a-4a54-aa26-dbf07d8fa3ef",
   "metadata": {},
   "outputs": [],
   "source": [
    "%%thanosql\n",
    "SELECT * \n",
    "FROM diet"
   ]
  },
  {
   "cell_type": "markdown",
   "id": "6e19359f",
   "metadata": {},
   "source": [
    "The diet table contains the following information.   \n",
    "\n",
    "-  image : image path \n",
    "-  label : File name"
   ]
  },
  {
   "cell_type": "markdown",
   "id": "a36b8390-9114-4e5c-9abc-ffb2e9eaea8d",
   "metadata": {},
   "source": [
    "## __2. Create a keyword search model__\n",
    "\n",
    "Image search requires learning existing data tables and creating criteria for future searches. To do this, create an image classification model using the dataset that you saw in the previous step. Run the query syntax below to create a model named dat_image_classification."
   ]
  },
  {
   "cell_type": "markdown",
   "id": "7280fe10",
   "metadata": {},
   "source": [
    "(Expected time required for query execution: 3 min)"
   ]
  },
  {
   "cell_type": "code",
   "execution_count": null,
   "id": "ebd1ac07-dfd3-44ce-a737-64608018163f",
   "metadata": {},
   "outputs": [],
   "source": [
    "%%thanosql\n",
    "BUILD MODEL diet_image_classification\n",
    "USING ConvNeXt_Tiny\n",
    "OPTIONS (\n",
    "    image_col='image_path', \n",
    "    label_col='label', \n",
    "    epochs=1,\n",
    "    overwrite=True\n",
    "    )\n",
    "AS \n",
    "SELECT *\n",
    "FROM diet "
   ]
  },
  {
   "cell_type": "markdown",
   "id": "620a4cc3",
   "metadata": {},
   "source": [
    "**Query Details**\n",
    "- Create and train a dat_image_classification model using the query syntax \"__BUILD MODEL__\".\n",
    "- The query syntax \"__USING__\" specifies the use of `ConvNeXt_Tiny` as the base model.\n",
    "- Specify the options to use for model creation via the query syntax \"__OPTIONS__\".\n",
    "    - \"image_col\" : Name of column containing image path\n",
    "    - \"label_col\" : Name of column containing information on target value\n",
    "    - \"epochs\" : the number of times all learning datasets are learned"
   ]
  },
  {
   "cell_type": "markdown",
   "id": "7e7f7686",
   "metadata": {},
   "source": [
    "When __overwrite is true__, the user can create a data table with the same name as the previously created data table.  \n",
    "On the other hand, when __overwrite is False__, the user cannot create a data table with the same name as the previously created data table."
   ]
  },
  {
   "cell_type": "markdown",
   "id": "1ad5e359-0ff1-4a5c-bbf1-5edb7bf15c38",
   "metadata": {},
   "source": [
    "## __3. Use the generated model to view keyword-image search models__\n",
    "\n",
    "Use the image prediction model dat_image_classification created in the previous step to predict the target value of a specific image. After performing the query below, the prediction results are stored in the predicated column and returned."
   ]
  },
  {
   "cell_type": "code",
   "execution_count": null,
   "id": "23e0c1be-8d4e-4ed7-9c3c-c984e1883b49",
   "metadata": {},
   "outputs": [],
   "source": [
    "%%thanosql\n",
    "PREDICT USING diet_image_classification\n",
    "AS \n",
    "SELECT *\n",
    "FROM diet"
   ]
  },
  {
   "cell_type": "markdown",
   "id": "a5ffdb8b",
   "metadata": {},
   "source": [
    "**Query Details**\n",
    "- Use the data_image_classification model created in the previous step with the query syntax \"__PREDICT USING__\"."
   ]
  }
 ],
 "metadata": {
  "kernelspec": {
   "display_name": "Python 3 (ipykernel)",
   "language": "python",
   "name": "python3"
  },
  "language_info": {
   "codemirror_mode": {
    "name": "ipython",
    "version": 3
   },
   "file_extension": ".py",
   "mimetype": "text/x-python",
   "name": "python",
   "nbconvert_exporter": "python",
   "pygments_lexer": "ipython3",
   "version": "3.9.12"
  },
  "vscode": {
   "interpreter": {
    "hash": "31f2aee4e71d21fbe5cf8b01ff0e069b9275f58929596ceb00d14d90e3e16cd6"
   }
  }
 },
 "nbformat": 4,
 "nbformat_minor": 5
}
