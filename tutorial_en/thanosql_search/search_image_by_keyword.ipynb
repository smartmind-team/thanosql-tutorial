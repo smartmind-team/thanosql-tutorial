{
 "cells": [
  {
   "cell_type": "markdown",
   "id": "aa9f00fa-ab5b-47ad-8c1b-8519624b1d89",
   "metadata": {
    "tags": []
   },
   "source": [
    "# __Search image by keyword__"
   ]
  },
  {
   "cell_type": "markdown",
   "id": "852d338d",
   "metadata": {},
   "source": [
    "## Preface\n",
    "\n",
    "- Tutorial Difficulty : ★☆☆☆☆\n",
    "- 10 min read\n",
    "- Languages : [SQL](https://ko.wikipedia.org/wiki/SQL) (100%)\n",
    "- File location : tutorial_en/thanosql_search/search_image_by_keyword.ipynb\n",
    "- References : [Food Image and Nutrition Text Introduction Dataset](https://aihub.or.kr/aihubdata/data/view.do?currMenu=115&topMenu=100&aihubDataSe=realm&dataSetSn=74)"
   ]
  },
  {
   "cell_type": "markdown",
   "id": "57b7f1dc",
   "metadata": {},
   "source": [
    "## Tutorial Introduction\n",
    "\n",
    "<div class=\"admonition note\">\n",
    "    <h4 class=\"admonition-title\">Understanding Keyword-Image Search Service</h4>\n",
    "    <p>ThanoSQL provides a search function that allows you to return images as results using keywords. The search uses a model such as the image classification model to set the keyword desired by the user as the target value, then adds a column that indexes the updated image using the learned model. In other words, keyword-image search finds images that corresponds to the desired target value (category). </p>\n",
    "</div>\n",
    "\n",
    "The word \"search\" has the dictionary meaning of \"finding the necessary materials in a book or computer according to its purpose.\" ThanoSQL keyword-image search works a little differently than searching for information within a DB that has the inclusion of a specific word (keyword). Instead, the keyword-based image search creates a model that pre-learns and predicts words from the features of an image, and provides the image with the highest probability of being included in a specific keyword using that model.\n",
    "\n",
    "**Below are examples and utilizations of the ThanoSQL keyword image search algorithm.**\n",
    "\n",
    "- Use shopping categories as learning data to create a learning model, and use that model to create an index column within an existing/new image. The index column combined with numerical attributes such as image registration dates provides more sophisticated searches.\n",
    "- You can create your own image search service by utilizing various results such as similar image search results and text-image search results covered in the next tutorial.\n",
    "\n",
    "<div class=\"admonition note\">\n",
    "    <h4 class=\"admonition-title\"> In this tutorial</h4>\n",
    "    <p>👉 Use a combination of the \"<strong>SEARCH</strong>\" query statement provided by ThanoSQL and the \"<strong>SELECT</strong>\" query statement provided by traditional PostgreSQL to search your desired image using specific keywords. </p>\n",
    "</div>\n",
    "\n",
    "<div class=\"admonition tip\">\n",
    "    <h4 class=\"admonition-title\">Dataset Description</h4>\n",
    "    <p>The <code>Introduction to Food Images and Nutrition Information Text</code> dataset is organized by the Ministry of Science and ICT and supported by the Korea Intelligence Information Society Agency, and consists of 400 Korean most consumed dine out menu items and traditional Korean menu items. The dataset consists of 842,000 images. This tutorial uses only a few (10 types, 1,190 photos) images from that dataset. </p>\n",
    "</div>"
   ]
  },
  {
   "cell_type": "markdown",
   "id": "54e3f00c-4402-46e2-a589-02354f857383",
   "metadata": {},
   "source": [
    "## __0. Prepare Dataset__\n",
    "\n",
    "To use the query syntax of ThanoSQL, you must create an API token and run the query below, as mentioned in the [ThanoSQL Workspace](https://docs.thanosql.ai/en/getting_started/how_to_use_ThanoSQL/#5-thanosql-workspace)."
   ]
  },
  {
   "cell_type": "code",
   "execution_count": null,
   "id": "30339f0c-c6bc-44a3-b065-9aaf646b158a",
   "metadata": {},
   "outputs": [],
   "source": [
    "%load_ext thanosql\n",
    "%thanosql API_TOKEN=<Issued_API_TOKEN>"
   ]
  },
  {
   "cell_type": "markdown",
   "id": "073a6182",
   "metadata": {},
   "source": [
    "### __Prepare Dataset__"
   ]
  },
  {
   "cell_type": "code",
   "execution_count": null,
   "id": "762e1d0d",
   "metadata": {},
   "outputs": [],
   "source": [
    "%%thanosql\n",
    "GET THANOSQL DATASET diet_data\n",
    "OPTIONS (overwrite=True)"
   ]
  },
  {
   "cell_type": "markdown",
   "id": "1374b00a",
   "metadata": {},
   "source": [
    "<div class=\"admonition note\">\n",
    "    <h4 class=\"admonition-title\">Query Details</h4>\n",
    "    <ul>\n",
    "        <li>\"<strong>GET THANOSQL DATASET</strong>\" Use this query to save the desired dataset to your workspace environment. </li>\n",
    "        <li>\"<strong>OPTIONS</strong>\"Use this statement to specify the options to use for the <strong>GET THANOSQL DATASET</strong> query.\n",
    "        <ul>\n",
    "            <li>\"overwrite\" : Overwrite if a dataset with the same name exists. If set as True, the existing dataset is replaced with the new dataset (True|False, DEFAULT : False) </li>\n",
    "        </ul>\n",
    "        </li>\n",
    "    </ul>\n",
    "</div>"
   ]
  },
  {
   "cell_type": "code",
   "execution_count": null,
   "id": "981d411f-ae97-4c2a-87c5-f56180495daf",
   "metadata": {
    "tags": []
   },
   "outputs": [],
   "source": [
    "%%thanosql\n",
    "COPY diet \n",
    "OPTIONS (overwrite=True)\n",
    "FROM \"thanosql-dataset/diet_data/diet.csv\""
   ]
  },
  {
   "cell_type": "markdown",
   "id": "8c02be61",
   "metadata": {},
   "source": [
    "<div class=\"admonition note\">\n",
    "    <h4 class=\"admonition-title\">Query Details</h4>\n",
    "    <ul>\n",
    "        <li>Use the \"<strong>COPY</strong>\" query statement to specify the dataset to be copied into the DB. </li>\n",
    "        <li>\"<strong>OPTIONS</strong>\" specifies the options to use for the <strong>COPY</strong> query statement.\n",
    "        <ul>\n",
    "            <li>\"overwrite\" : Overwrite if a dataset with the same name exists in the DB. If True, the existing dataset is overwritten with the new dataset (True|False, DEFAULT: False) </li>\n",
    "        </ul>\n",
    "        </li>\n",
    "    </ul>\n",
    "</div>"
   ]
  },
  {
   "cell_type": "markdown",
   "id": "214a3dd0-ac55-4ed6-ad14-213ab233839e",
   "metadata": {
    "tags": []
   },
   "source": [
    "## __1. Check Dataset__\n",
    "\n",
    "To create a keyword-image search model, we use the <mark style=\"background-color:#FFEC92\">diet</mark> table stored in ThanoSQL DB. Execute the query below and check the contents of the table."
   ]
  },
  {
   "cell_type": "code",
   "execution_count": null,
   "id": "c74d985f-2d1a-4a54-aa26-dbf07d8fa3ef",
   "metadata": {},
   "outputs": [],
   "source": [
    "%%thanosql\n",
    "SELECT * \n",
    "FROM diet"
   ]
  },
  {
   "cell_type": "markdown",
   "id": "6e19359f",
   "metadata": {},
   "source": [
    "<div class=\"admonition note\">\n",
    "    <h4 class=\"admonition-title\">Understanding the Data Table</h4>\n",
    "    <p>The <mark style=\"background-color:#FFEC92\">diet</mark> table contains the following information. </p>\n",
    "    <ul>\n",
    "        <li><mark style=\"background-color:#D7D0FF\">image_path</mark> : image path </li>\n",
    "        <li><mark style=\"background-color:#D7D0FF\">label</mark> : filename</li>\n",
    "    </ul>\n",
    "</div>"
   ]
  },
  {
   "cell_type": "markdown",
   "id": "a36b8390-9114-4e5c-9abc-ffb2e9eaea8d",
   "metadata": {},
   "source": [
    "## __2. Create Keyword Search Model__\n",
    "\n",
    "In order to search for images, it is necessary to train the existing data table to create a search criteria. To do this, we create an image classification model using the dataset mentioned prior. Execute the query syntax below to create a model named <mark style=\"background-color:#E9D7FD \">diet_image_classification</mark>.  \n",
    "(Estimated duration of query execution: 3 min)"
   ]
  },
  {
   "cell_type": "code",
   "execution_count": null,
   "id": "ebd1ac07-dfd3-44ce-a737-64608018163f",
   "metadata": {},
   "outputs": [],
   "source": [
    "%%thanosql\n",
    "BUILD MODEL diet_image_classification\n",
    "USING ConvNeXt_Tiny\n",
    "OPTIONS (\n",
    "    image_col='image_path', \n",
    "    label_col='label', \n",
    "    epochs=1,\n",
    "    overwrite=True\n",
    "    )\n",
    "AS \n",
    "SELECT *\n",
    "FROM diet"
   ]
  },
  {
   "cell_type": "markdown",
   "id": "c89d1c5d",
   "metadata": {},
   "source": [
    "<div class=\"admonition note\">\n",
    "    <h4 class=\"admonition-title\">Query Details</h4>\n",
    "    <ul>\n",
    "        <li>Create and train the model <mark style=\"background-color:#E9D7FD \">diet_image_classification</mark> using the query statement \"<strong>BUILD MODEL</strong>\".</li>\n",
    "        <li>Specify <code>ConvNeXt_Tiny</code> to be used as the base model with the query statement \"<strong>USING</strong>\".</li>\n",
    "        <li>\"<strong>OPTIONS</strong>\" specifies the options for the query used to create a model.\n",
    "        <ul>\n",
    "            <li>\"image_col\" : The name of the column containing the image path.</li>\n",
    "            <li>\"label_col\" : The name of the column containing the target value information</li>\n",
    "            <li>\"epochs\" : Number of times to train all training datasets</li>\n",
    "            <li>\"overwrite\" : Overwrite if a model with the same name exists. If true, the existing model is replaced with the new model (True|False, DEFAULT : False)</li>\n",
    "        </ul>\n",
    "        </li>\n",
    "    </ul>\n",
    "</div>"
   ]
  },
  {
   "cell_type": "markdown",
   "id": "1ad5e359-0ff1-4a5c-bbf1-5edb7bf15c38",
   "metadata": {},
   "source": [
    "## __3. Use The Generated Model to Check The kKeyword-Image Search Model__\n",
    "\n",
    "Use the image prediction model created in the previous step(<mark style=\"background-color:#E9D7FD \">diet_image_classification</mark>) to predict the target value of a specific image. After executing the query below, the prediction result is stored and returned in the <mark style=\"background-color:#D7D0FF\">predicted</mark> column."
   ]
  },
  {
   "cell_type": "code",
   "execution_count": null,
   "id": "23e0c1be-8d4e-4ed7-9c3c-c984e1883b49",
   "metadata": {},
   "outputs": [],
   "source": [
    "%%thanosql\n",
    "PREDICT USING diet_image_classification\n",
    "AS \n",
    "SELECT *\n",
    "FROM diet"
   ]
  },
  {
   "cell_type": "markdown",
   "id": "a5ffdb8b",
   "metadata": {},
   "source": [
    "<div class=\"admonition note\">\n",
    "    <h4 class=\"admonition-title\">Query Details</h4>\n",
    "    <ul>\n",
    "        <li>Use the <mark style=\"background-color:#E9D7FD \">diet_image_classification</mark> model created in the previous step for prediction via the query syntax \"<strong>PREDICT USING</strong>\".</li>\n",
    "    </ul>\n",
    "</div>"
   ]
  },
  {
   "cell_type": "markdown",
   "id": "25c2ebc5",
   "metadata": {},
   "source": [
    "## __4. Search Using The Generated Model__\n",
    "\n",
    "Now use the \"__PREDICT USING__\", \"__SELECT__\", \"__WHERE__\" query statements to retrieve data with a specific condition. You can search data for which the <mark style=\"background-color:#E9D7FD \">label</mark> is '사과파이'('apple pie') and the prediction result is also '사과파이' by writing the following query syntax."
   ]
  },
  {
   "cell_type": "code",
   "execution_count": null,
   "id": "9aee9ff1",
   "metadata": {},
   "outputs": [],
   "source": [
    "%%thanosql\n",
    "SELECT A.image_path, A.label, B.predicted \n",
    "FROM diet A\n",
    "LEFT JOIN (\n",
    "    SELECT * \n",
    "    FROM (PREDICT USING diet_image_classification \n",
    "    AS SELECT * FROM diet)) B \n",
    "ON A.image_path = B.image_path\n",
    "WHERE A.label = B.predicted\n",
    "AND A.label LIKE '사과파이'\n",
    "LIMIT 10"
   ]
  },
  {
   "cell_type": "markdown",
   "id": "d94933a2",
   "metadata": {},
   "source": [
    "<div class=\"admonition note\">\n",
    "    <h4 class=\"admonition-title\">Query Details</h4>\n",
    "    <ul>\n",
    "        <li>\"<strong>SELECT * FROM (...)</strong>\" query selects all the results of the query starting with \"<strong>PREDICT USING</strong>\".</li>\n",
    "        <li>Set the condition with the \"<strong>WHERE</strong> query statement\". This condition can be followed by \"<strong>AND</strong>\".\n",
    "        <ul>\n",
    "            <li>\"label = predicted\" : Queries only data where the<mark style=\"background-color:#D7D0FF \">label</mark> column and <mark style=\"background-color:#D7D0FF \">predicted</mark> column have the same values.</li>\n",
    "            <li>\"label = '사과파이'\" : Queries data where the <mark style=\"background-color:#D7D0FF \">label</mark> is 'apple pie'.</li>\n",
    "        </ul>\n",
    "        </li>\n",
    "    </ul>\n",
    "</div>"
   ]
  },
  {
   "cell_type": "markdown",
   "id": "5389cb4a",
   "metadata": {},
   "source": [
    "## **5. In Conclusion**\n",
    "\n",
    "In this tutorial, we constructed and utilized a model to search for food images related to keywords using the `food image dataset`. We focused on the operation side of things rather than accuracy. You can improve the accuracy of your model by adjusting various options, such as the number of training done and the number of data in the build option. Furthermore, try following along the image-image and image-text search tutorials to create your own search services.\n",
    "\n",
    "<div class=\"admonition tip\">\n",
    "    <h4 class=\"admonition-title\">Inquiries about deploying a model for your own service</h4>\n",
    "    <p>If you have any difficulties creating your own model using ThanoSQL or applying it to your services, please feel free to contact us below😊</p>\n",
    "    <p>For inquiries regarding building keyword-image search models: contact@smartmind.team</p>\n",
    "</div>"
   ]
  },
  {
   "cell_type": "markdown",
   "id": "00a9cdfd",
   "metadata": {},
   "source": []
  }
 ],
 "metadata": {
  "kernelspec": {
   "display_name": "Python 3 (ipykernel)",
   "language": "python",
   "name": "python3"
  },
  "language_info": {
   "codemirror_mode": {
    "name": "ipython",
    "version": 3
   },
   "file_extension": ".py",
   "mimetype": "text/x-python",
   "name": "python",
   "nbconvert_exporter": "python",
   "pygments_lexer": "ipython3",
   "version": "3.8.9"
  },
  "vscode": {
   "interpreter": {
    "hash": "31f2aee4e71d21fbe5cf8b01ff0e069b9275f58929596ceb00d14d90e3e16cd6"
   }
  }
 },
 "nbformat": 4,
 "nbformat_minor": 5
}
