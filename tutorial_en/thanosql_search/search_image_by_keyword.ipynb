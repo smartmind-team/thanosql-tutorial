{
 "cells": [
  {
   "attachments": {},
   "cell_type": "markdown",
   "id": "aa9f00fa-ab5b-47ad-8c1b-8519624b1d89",
   "metadata": {
    "tags": []
   },
   "source": [
    "# __Search Image by Keyword__"
   ]
  },
  {
   "attachments": {},
   "cell_type": "markdown",
   "id": "852d338d",
   "metadata": {},
   "source": [
    "- Tutorial Difficulty: ★☆☆☆☆\n",
    "- 10 min read\n",
    "- Languages: [SQL](https://en.wikipedia.org/wiki/SQL) (100%)\n",
    "- File location: tutorial_en/thanosql_search/search_image_by_keyword.ipynb\n",
    "- References: [Food Image and Nutrition Text Introduction Dataset](https://aihub.or.kr/aihubdata/data/view.do?currMenu=115&topMenu=100&aihubDataSe=realm&dataSetSn=74)"
   ]
  },
  {
   "attachments": {},
   "cell_type": "markdown",
   "id": "57b7f1dc",
   "metadata": {},
   "source": [
    "## Tutorial Introduction\n",
    "\n",
    "<div class=\"admonition note\">\n",
    "    <h4 class=\"admonition-title\">Understanding Keyword-Image Search</h4>\n",
    "    <p>ThanoSQL provides image search using keywords. The search uses an image classification model to set a keyword as the target value, then adds an index column with the images updated from the trained model. In other words, the keyword-image search finds images that correspond to the desired target value(category). </p>\n",
    "</div>\n",
    "\n",
    "The dictionary defines \"search\" as \"finding the necessary materials in a book or computer according to its purpose.\" The ThanoSQL keyword-image search does not search for information that includes a specific word(keyword). Instead, it creates a model that predicts words from the features of an image and returns the image with the highest relevance.\n",
    "\n",
    "__The following are examples and applications of the ThanoSQL keyword image search algorithm.__\n",
    "\n",
    "- Use shopping categories to create a model, and use it to create an index column. The index column combined with attributes such as image registration dates, provides more accurate searches.\n",
    "- You can create your own image search service by utilizing image-image search and text-image search from their respective tutorials.\n",
    "\n",
    "<div class=\"admonition note\">\n",
    "    <h4 class=\"admonition-title\"> In This Tutorial</h4>\n",
    "    <p>👉 Use a combination of the \"<strong>SEARCH</strong>\" query and the \"<strong>SELECT</strong>\" query to search images using specific keywords. </p>\n",
    "</div>\n",
    "\n",
    "<div class=\"admonition tip\">\n",
    "    <h4 class=\"admonition-title\">Dataset Description</h4>\n",
    "    <p>The Introduction to Food Images and Nutrition Information Text dataset was organized by the Ministry of Science and ICT and is supported by the Korea Intelligence Information Society Agency. It consists of 400 food items and 842,000 images. This tutorial uses only a few(10 types, 1,190 photos) images from that dataset. </p>\n",
    "</div>"
   ]
  },
  {
   "attachments": {},
   "cell_type": "markdown",
   "id": "54e3f00c-4402-46e2-a589-02354f857383",
   "metadata": {},
   "source": [
    "## __0. Prepare Dataset__\n",
    "\n",
    "As mentioned in the [ThanoSQL Workspace](https://docs.thanosql.ai/en/getting_started/paas/workspace/lab/), you must create an API token and run the query below to execute the query of ThanoSQL. "
   ]
  },
  {
   "cell_type": "code",
   "execution_count": null,
   "id": "30339f0c-c6bc-44a3-b065-9aaf646b158a",
   "metadata": {},
   "outputs": [],
   "source": [
    "%load_ext thanosql\n",
    "%thanosql API_TOKEN=<Issued_API_TOKEN>"
   ]
  },
  {
   "attachments": {},
   "cell_type": "markdown",
   "id": "073a6182",
   "metadata": {},
   "source": [
    "### __Prepare Dataset__"
   ]
  },
  {
   "cell_type": "code",
   "execution_count": 2,
   "id": "762e1d0d",
   "metadata": {
    "execution": {
     "iopub.execute_input": "2023-01-25T08:02:06.547840Z",
     "iopub.status.busy": "2023-01-25T08:02:06.547592Z",
     "iopub.status.idle": "2023-01-25T08:02:10.183978Z",
     "shell.execute_reply": "2023-01-25T08:02:10.183327Z",
     "shell.execute_reply.started": "2023-01-25T08:02:06.547822Z"
    }
   },
   "outputs": [
    {
     "name": "stdout",
     "output_type": "stream",
     "text": [
      "Success\n"
     ]
    }
   ],
   "source": [
    "%%thanosql\n",
    "GET THANOSQL DATASET diet_data\n",
    "OPTIONS (overwrite=True)"
   ]
  },
  {
   "attachments": {},
   "cell_type": "markdown",
   "id": "1374b00a",
   "metadata": {},
   "source": [
    "<div class=\"admonition note\">\n",
    "    <h4 class=\"admonition-title\">Query Details</h4>\n",
    "    <ul>\n",
    "        <li>\"<strong>GET THANOSQL DATASET</strong>\" downloads the specified dataset to the workspace.</li>\n",
    "        <li>\"<strong>OPTIONS</strong>\" specifies the option values to be used for the <strong>GET THANOSQL DATASET</strong> clause.\n",
    "        <ul>\n",
    "            <li>\"overwrite\": determines whether to overwrite a dataset if it already exists. If set as True, the old dataset is replaced with the new dataset (bool, optional, True|False, default: False)</li>\n",
    "        </ul>\n",
    "        </li>\n",
    "    </ul>\n",
    "</div>"
   ]
  },
  {
   "cell_type": "code",
   "execution_count": 3,
   "id": "981d411f-ae97-4c2a-87c5-f56180495daf",
   "metadata": {
    "execution": {
     "iopub.execute_input": "2023-01-25T08:02:10.185473Z",
     "iopub.status.busy": "2023-01-25T08:02:10.184814Z",
     "iopub.status.idle": "2023-01-25T08:02:12.852598Z",
     "shell.execute_reply": "2023-01-25T08:02:12.851986Z",
     "shell.execute_reply.started": "2023-01-25T08:02:10.185452Z"
    },
    "tags": []
   },
   "outputs": [
    {
     "name": "stdout",
     "output_type": "stream",
     "text": [
      "Success\n"
     ]
    }
   ],
   "source": [
    "%%thanosql\n",
    "COPY diet \n",
    "OPTIONS (if_exists='replace')\n",
    "FROM 'thanosql-dataset/diet_data/diet.csv'"
   ]
  },
  {
   "attachments": {},
   "cell_type": "markdown",
   "id": "8c02be61",
   "metadata": {},
   "source": [
    "<div class=\"admonition note\">\n",
    "    <h4 class=\"admonition-title\">Query Details</h4>\n",
    "    <ul>\n",
    "        <li>\"<strong>COPY</strong>\" specifies the name of the dataset to be saved as a database table.</li>\n",
    "        <li>\"<strong>OPTIONS</strong>\" specifies the option values to be used for the <strong>COPY</strong> clause.\n",
    "        <ul>\n",
    "           <li>\"if_exists\": determines how the function should handle the case where the table already exists, it can either raise an error, append to the existing table, or replace the existing table (str, optional, 'fail'|'replace'|'append', default: 'fail')</li>\n",
    "        </ul>\n",
    "        </li>\n",
    "    </ul>\n",
    "</div>"
   ]
  },
  {
   "attachments": {},
   "cell_type": "markdown",
   "id": "214a3dd0-ac55-4ed6-ad14-213ab233839e",
   "metadata": {
    "tags": []
   },
   "source": [
    "## __1. Check Dataset__\n",
    "\n",
    "To create a keyword-image search model, we use the __diet__ table located in the ThanoSQL workspace database. Run the query below to check the contents of the table."
   ]
  },
  {
   "cell_type": "code",
   "execution_count": 4,
   "id": "c74d985f-2d1a-4a54-aa26-dbf07d8fa3ef",
   "metadata": {
    "execution": {
     "iopub.execute_input": "2023-01-25T08:02:12.853874Z",
     "iopub.status.busy": "2023-01-25T08:02:12.853668Z",
     "iopub.status.idle": "2023-01-25T08:02:14.273693Z",
     "shell.execute_reply": "2023-01-25T08:02:14.273097Z",
     "shell.execute_reply.started": "2023-01-25T08:02:12.853856Z"
    },
    "tags": []
   },
   "outputs": [
    {
     "data": {
      "text/html": [
       "<div>\n",
       "<style scoped>\n",
       "    .dataframe tbody tr th:only-of-type {\n",
       "        vertical-align: middle;\n",
       "    }\n",
       "\n",
       "    .dataframe tbody tr th {\n",
       "        vertical-align: top;\n",
       "    }\n",
       "\n",
       "    .dataframe thead th {\n",
       "        text-align: right;\n",
       "    }\n",
       "</style>\n",
       "<table border=\"1\" class=\"dataframe\">\n",
       "  <thead>\n",
       "    <tr style=\"text-align: right;\">\n",
       "      <th></th>\n",
       "      <th>image_path</th>\n",
       "      <th>label</th>\n",
       "    </tr>\n",
       "  </thead>\n",
       "  <tbody>\n",
       "    <tr>\n",
       "      <th>0</th>\n",
       "      <td>thanosql-dataset/diet_data/diet/백향과/0_A220148X...</td>\n",
       "      <td>백향과</td>\n",
       "    </tr>\n",
       "    <tr>\n",
       "      <th>1</th>\n",
       "      <td>thanosql-dataset/diet_data/diet/백향과/0_A220148X...</td>\n",
       "      <td>백향과</td>\n",
       "    </tr>\n",
       "    <tr>\n",
       "      <th>2</th>\n",
       "      <td>thanosql-dataset/diet_data/diet/백향과/1_A220148X...</td>\n",
       "      <td>백향과</td>\n",
       "    </tr>\n",
       "    <tr>\n",
       "      <th>3</th>\n",
       "      <td>thanosql-dataset/diet_data/diet/백향과/0_A220148X...</td>\n",
       "      <td>백향과</td>\n",
       "    </tr>\n",
       "    <tr>\n",
       "      <th>4</th>\n",
       "      <td>thanosql-dataset/diet_data/diet/백향과/0_A220148X...</td>\n",
       "      <td>백향과</td>\n",
       "    </tr>\n",
       "  </tbody>\n",
       "</table>\n",
       "</div>"
      ],
      "text/plain": [
       "                                          image_path label\n",
       "0  thanosql-dataset/diet_data/diet/백향과/0_A220148X...   백향과\n",
       "1  thanosql-dataset/diet_data/diet/백향과/0_A220148X...   백향과\n",
       "2  thanosql-dataset/diet_data/diet/백향과/1_A220148X...   백향과\n",
       "3  thanosql-dataset/diet_data/diet/백향과/0_A220148X...   백향과\n",
       "4  thanosql-dataset/diet_data/diet/백향과/0_A220148X...   백향과"
      ]
     },
     "execution_count": 4,
     "metadata": {},
     "output_type": "execute_result"
    }
   ],
   "source": [
    "%%thanosql\n",
    "SELECT * \n",
    "FROM diet\n",
    "LIMIT 5"
   ]
  },
  {
   "attachments": {},
   "cell_type": "markdown",
   "id": "6e19359f",
   "metadata": {},
   "source": [
    "<div class=\"admonition note\">\n",
    "    <h4 class=\"admonition-title\">Understanding the Data Table</h4>\n",
    "    <p>The <strong>diet</strong> table contains the following information. </p>\n",
    "    <ul>\n",
    "        <li>image_path: image path </li>\n",
    "        <li>label: image label</li>\n",
    "    </ul>\n",
    "</div>"
   ]
  },
  {
   "attachments": {},
   "cell_type": "markdown",
   "id": "a36b8390-9114-4e5c-9abc-ffb2e9eaea8d",
   "metadata": {},
   "source": [
    "## __2. Build an Image Search Model__\n",
    "\n",
    "To create an image search model with the name __diet_image_classification__ using the __diet__ table, run the following query.  \n",
    "(Estimated duration of query execution: 3 min)"
   ]
  },
  {
   "cell_type": "code",
   "execution_count": 5,
   "id": "ebd1ac07-dfd3-44ce-a737-64608018163f",
   "metadata": {
    "execution": {
     "iopub.execute_input": "2023-01-25T08:02:14.275303Z",
     "iopub.status.busy": "2023-01-25T08:02:14.275123Z",
     "iopub.status.idle": "2023-01-25T08:03:09.255334Z",
     "shell.execute_reply": "2023-01-25T08:03:09.254587Z",
     "shell.execute_reply.started": "2023-01-25T08:02:14.275286Z"
    }
   },
   "outputs": [
    {
     "name": "stdout",
     "output_type": "stream",
     "text": [
      "Success\n"
     ]
    }
   ],
   "source": [
    "%%thanosql\n",
    "BUILD MODEL diet_image_classification\n",
    "USING ConvNeXt_Tiny\n",
    "OPTIONS (\n",
    "    image_col='image_path', \n",
    "    label_col='label', \n",
    "    max_epochs=1,\n",
    "    overwrite=True\n",
    "    )\n",
    "AS \n",
    "SELECT *\n",
    "FROM diet"
   ]
  },
  {
   "attachments": {},
   "cell_type": "markdown",
   "id": "c89d1c5d",
   "metadata": {},
   "source": [
    "<div class=\"admonition note\">\n",
    "    <h4 class=\"admonition-title\">Query Details</h4>\n",
    "    <ul>\n",
    "        <li>\"<strong>BUILD MODEL</strong>\" creates and trains a model named <strong>diet_image_classification</strong>.</li>\n",
    "        <li>\"<strong>USING</strong>\" specifies <strong>ConvNeXt_Tiny</strong> as the base model.</li>\n",
    "        <li>\"<strong>OPTIONS</strong>\" specifies the option values used to create a model.\n",
    "        <ul>\n",
    "            <li>\"image_col\": the name of the column containing the image path (str, default: 'image_path')</li>\n",
    "            <li>\"label_col\": the name of the column containing information about the target (str, default: 'label')</li>\n",
    "            <li>\"max_epochs\": number of times to train with the training dataset (int, optional, default: 3)</li>\n",
    "            <li>\"overwrite\": determines whether to overwrite a model if it already exists. If set as True, the old model is replaced with the new model (bool, optional, True|False, default: False) </li>\n",
    "        </ul>\n",
    "        </li>\n",
    "    </ul>\n",
    "</div>"
   ]
  },
  {
   "attachments": {},
   "cell_type": "markdown",
   "id": "1ad5e359-0ff1-4a5c-bbf1-5edb7bf15c38",
   "metadata": {},
   "source": [
    "## __3. Predict__\n",
    "\n",
    "To use the __diet_image_classification__ model created in the previous step for prediction of __diet__, run the following query."
   ]
  },
  {
   "cell_type": "code",
   "execution_count": 6,
   "id": "23e0c1be-8d4e-4ed7-9c3c-c984e1883b49",
   "metadata": {
    "execution": {
     "iopub.execute_input": "2023-01-25T08:03:09.256474Z",
     "iopub.status.busy": "2023-01-25T08:03:09.256283Z",
     "iopub.status.idle": "2023-01-25T08:03:40.846964Z",
     "shell.execute_reply": "2023-01-25T08:03:40.846351Z",
     "shell.execute_reply.started": "2023-01-25T08:03:09.256457Z"
    }
   },
   "outputs": [
    {
     "data": {
      "text/html": [
       "<div>\n",
       "<style scoped>\n",
       "    .dataframe tbody tr th:only-of-type {\n",
       "        vertical-align: middle;\n",
       "    }\n",
       "\n",
       "    .dataframe tbody tr th {\n",
       "        vertical-align: top;\n",
       "    }\n",
       "\n",
       "    .dataframe thead th {\n",
       "        text-align: right;\n",
       "    }\n",
       "</style>\n",
       "<table border=\"1\" class=\"dataframe\">\n",
       "  <thead>\n",
       "    <tr style=\"text-align: right;\">\n",
       "      <th></th>\n",
       "      <th>image_path</th>\n",
       "      <th>label</th>\n",
       "      <th>predict_result</th>\n",
       "    </tr>\n",
       "  </thead>\n",
       "  <tbody>\n",
       "    <tr>\n",
       "      <th>0</th>\n",
       "      <td>thanosql-dataset/diet_data/diet/백향과/0_A220148X...</td>\n",
       "      <td>백향과</td>\n",
       "      <td>백향과</td>\n",
       "    </tr>\n",
       "    <tr>\n",
       "      <th>1</th>\n",
       "      <td>thanosql-dataset/diet_data/diet/백향과/0_A220148X...</td>\n",
       "      <td>백향과</td>\n",
       "      <td>백향과</td>\n",
       "    </tr>\n",
       "    <tr>\n",
       "      <th>2</th>\n",
       "      <td>thanosql-dataset/diet_data/diet/백향과/1_A220148X...</td>\n",
       "      <td>백향과</td>\n",
       "      <td>백향과</td>\n",
       "    </tr>\n",
       "    <tr>\n",
       "      <th>3</th>\n",
       "      <td>thanosql-dataset/diet_data/diet/백향과/0_A220148X...</td>\n",
       "      <td>백향과</td>\n",
       "      <td>백향과</td>\n",
       "    </tr>\n",
       "    <tr>\n",
       "      <th>4</th>\n",
       "      <td>thanosql-dataset/diet_data/diet/백향과/0_A220148X...</td>\n",
       "      <td>백향과</td>\n",
       "      <td>백향과</td>\n",
       "    </tr>\n",
       "    <tr>\n",
       "      <th>...</th>\n",
       "      <td>...</td>\n",
       "      <td>...</td>\n",
       "      <td>...</td>\n",
       "    </tr>\n",
       "    <tr>\n",
       "      <th>1185</th>\n",
       "      <td>thanosql-dataset/diet_data/diet/사과파이/0_A020511...</td>\n",
       "      <td>사과파이</td>\n",
       "      <td>사과파이</td>\n",
       "    </tr>\n",
       "    <tr>\n",
       "      <th>1186</th>\n",
       "      <td>thanosql-dataset/diet_data/diet/사과파이/0_A020511...</td>\n",
       "      <td>사과파이</td>\n",
       "      <td>사과파이</td>\n",
       "    </tr>\n",
       "    <tr>\n",
       "      <th>1187</th>\n",
       "      <td>thanosql-dataset/diet_data/diet/사과파이/1_A020511...</td>\n",
       "      <td>사과파이</td>\n",
       "      <td>사과파이</td>\n",
       "    </tr>\n",
       "    <tr>\n",
       "      <th>1188</th>\n",
       "      <td>thanosql-dataset/diet_data/diet/사과파이/0_A020511...</td>\n",
       "      <td>사과파이</td>\n",
       "      <td>사과파이</td>\n",
       "    </tr>\n",
       "    <tr>\n",
       "      <th>1189</th>\n",
       "      <td>thanosql-dataset/diet_data/diet/사과파이/0_A020511...</td>\n",
       "      <td>사과파이</td>\n",
       "      <td>사과파이</td>\n",
       "    </tr>\n",
       "  </tbody>\n",
       "</table>\n",
       "<p>1190 rows × 3 columns</p>\n",
       "</div>"
      ],
      "text/plain": [
       "                                             image_path label predict_result\n",
       "0     thanosql-dataset/diet_data/diet/백향과/0_A220148X...   백향과            백향과\n",
       "1     thanosql-dataset/diet_data/diet/백향과/0_A220148X...   백향과            백향과\n",
       "2     thanosql-dataset/diet_data/diet/백향과/1_A220148X...   백향과            백향과\n",
       "3     thanosql-dataset/diet_data/diet/백향과/0_A220148X...   백향과            백향과\n",
       "4     thanosql-dataset/diet_data/diet/백향과/0_A220148X...   백향과            백향과\n",
       "...                                                 ...   ...            ...\n",
       "1185  thanosql-dataset/diet_data/diet/사과파이/0_A020511...  사과파이           사과파이\n",
       "1186  thanosql-dataset/diet_data/diet/사과파이/0_A020511...  사과파이           사과파이\n",
       "1187  thanosql-dataset/diet_data/diet/사과파이/1_A020511...  사과파이           사과파이\n",
       "1188  thanosql-dataset/diet_data/diet/사과파이/0_A020511...  사과파이           사과파이\n",
       "1189  thanosql-dataset/diet_data/diet/사과파이/0_A020511...  사과파이           사과파이\n",
       "\n",
       "[1190 rows x 3 columns]"
      ]
     },
     "execution_count": 6,
     "metadata": {},
     "output_type": "execute_result"
    }
   ],
   "source": [
    "%%thanosql\n",
    "PREDICT USING diet_image_classification\n",
    "OPTIONS (\n",
    "    image_col='image_path',\n",
    "    result_col='predict_result'\n",
    "    )\n",
    "AS \n",
    "SELECT *\n",
    "FROM diet"
   ]
  },
  {
   "attachments": {},
   "cell_type": "markdown",
   "id": "a5ffdb8b",
   "metadata": {},
   "source": [
    "<div class=\"admonition note\">\n",
    "    <h4 class=\"admonition-title\">Query Details</h4>\n",
    "    <ul>\n",
    "        <li>\"<strong>PREDICT USING</strong>\" predicts the outcome using the <strong>diet_image_classification</strong> model.</li>\n",
    "        <li>\"<strong>OPTIONS</strong>\" specifies the option values used to predict with the model.\n",
    "        <ul>\n",
    "            <li>\"image_col\": the name of the column containing the image path (str, default: 'image_path')</li>\n",
    "            <li>\"result_col\": the column that contains the predicted results (str, optional, default: 'predict_result')</li>\n",
    "        </ul>\n",
    "        </li>\n",
    "    </ul>\n",
    "</div>"
   ]
  },
  {
   "attachments": {},
   "cell_type": "markdown",
   "id": "25c2ebc5",
   "metadata": {},
   "source": [
    "## __4. Search__\n",
    "\n",
    "To retrieve data with specific conditions, run a query using the \"__PREDICT USING__\", \"__SELECT__\", \"__WHERE__\" clauses. You can search data where the label is '사과파이'('apple pie') and where the prediction result is also '사과파이' by running the following query."
   ]
  },
  {
   "cell_type": "code",
   "execution_count": 7,
   "id": "9aee9ff1",
   "metadata": {
    "execution": {
     "iopub.execute_input": "2023-01-25T08:03:40.847965Z",
     "iopub.status.busy": "2023-01-25T08:03:40.847778Z",
     "iopub.status.idle": "2023-01-25T08:04:09.785644Z",
     "shell.execute_reply": "2023-01-25T08:04:09.784978Z",
     "shell.execute_reply.started": "2023-01-25T08:03:40.847948Z"
    }
   },
   "outputs": [
    {
     "data": {
      "text/html": [
       "<div>\n",
       "<style scoped>\n",
       "    .dataframe tbody tr th:only-of-type {\n",
       "        vertical-align: middle;\n",
       "    }\n",
       "\n",
       "    .dataframe tbody tr th {\n",
       "        vertical-align: top;\n",
       "    }\n",
       "\n",
       "    .dataframe thead th {\n",
       "        text-align: right;\n",
       "    }\n",
       "</style>\n",
       "<table border=\"1\" class=\"dataframe\">\n",
       "  <thead>\n",
       "    <tr style=\"text-align: right;\">\n",
       "      <th></th>\n",
       "      <th>image_path</th>\n",
       "      <th>label</th>\n",
       "      <th>predict_result</th>\n",
       "    </tr>\n",
       "  </thead>\n",
       "  <tbody>\n",
       "    <tr>\n",
       "      <th>0</th>\n",
       "      <td>thanosql-dataset/diet_data/diet/사과파이/0_A020511...</td>\n",
       "      <td>사과파이</td>\n",
       "      <td>사과파이</td>\n",
       "    </tr>\n",
       "    <tr>\n",
       "      <th>1</th>\n",
       "      <td>thanosql-dataset/diet_data/diet/사과파이/0_A020511...</td>\n",
       "      <td>사과파이</td>\n",
       "      <td>사과파이</td>\n",
       "    </tr>\n",
       "    <tr>\n",
       "      <th>2</th>\n",
       "      <td>thanosql-dataset/diet_data/diet/사과파이/0_A020511...</td>\n",
       "      <td>사과파이</td>\n",
       "      <td>사과파이</td>\n",
       "    </tr>\n",
       "    <tr>\n",
       "      <th>3</th>\n",
       "      <td>thanosql-dataset/diet_data/diet/사과파이/0_A020511...</td>\n",
       "      <td>사과파이</td>\n",
       "      <td>사과파이</td>\n",
       "    </tr>\n",
       "    <tr>\n",
       "      <th>4</th>\n",
       "      <td>thanosql-dataset/diet_data/diet/사과파이/0_A020511...</td>\n",
       "      <td>사과파이</td>\n",
       "      <td>사과파이</td>\n",
       "    </tr>\n",
       "    <tr>\n",
       "      <th>5</th>\n",
       "      <td>thanosql-dataset/diet_data/diet/사과파이/0_A020511...</td>\n",
       "      <td>사과파이</td>\n",
       "      <td>사과파이</td>\n",
       "    </tr>\n",
       "    <tr>\n",
       "      <th>6</th>\n",
       "      <td>thanosql-dataset/diet_data/diet/사과파이/0_A020511...</td>\n",
       "      <td>사과파이</td>\n",
       "      <td>사과파이</td>\n",
       "    </tr>\n",
       "    <tr>\n",
       "      <th>7</th>\n",
       "      <td>thanosql-dataset/diet_data/diet/사과파이/0_A020511...</td>\n",
       "      <td>사과파이</td>\n",
       "      <td>사과파이</td>\n",
       "    </tr>\n",
       "    <tr>\n",
       "      <th>8</th>\n",
       "      <td>thanosql-dataset/diet_data/diet/사과파이/0_A020511...</td>\n",
       "      <td>사과파이</td>\n",
       "      <td>사과파이</td>\n",
       "    </tr>\n",
       "    <tr>\n",
       "      <th>9</th>\n",
       "      <td>thanosql-dataset/diet_data/diet/사과파이/0_A020511...</td>\n",
       "      <td>사과파이</td>\n",
       "      <td>사과파이</td>\n",
       "    </tr>\n",
       "  </tbody>\n",
       "</table>\n",
       "</div>"
      ],
      "text/plain": [
       "                                          image_path label predict_result\n",
       "0  thanosql-dataset/diet_data/diet/사과파이/0_A020511...  사과파이           사과파이\n",
       "1  thanosql-dataset/diet_data/diet/사과파이/0_A020511...  사과파이           사과파이\n",
       "2  thanosql-dataset/diet_data/diet/사과파이/0_A020511...  사과파이           사과파이\n",
       "3  thanosql-dataset/diet_data/diet/사과파이/0_A020511...  사과파이           사과파이\n",
       "4  thanosql-dataset/diet_data/diet/사과파이/0_A020511...  사과파이           사과파이\n",
       "5  thanosql-dataset/diet_data/diet/사과파이/0_A020511...  사과파이           사과파이\n",
       "6  thanosql-dataset/diet_data/diet/사과파이/0_A020511...  사과파이           사과파이\n",
       "7  thanosql-dataset/diet_data/diet/사과파이/0_A020511...  사과파이           사과파이\n",
       "8  thanosql-dataset/diet_data/diet/사과파이/0_A020511...  사과파이           사과파이\n",
       "9  thanosql-dataset/diet_data/diet/사과파이/0_A020511...  사과파이           사과파이"
      ]
     },
     "execution_count": 7,
     "metadata": {},
     "output_type": "execute_result"
    }
   ],
   "source": [
    "%%thanosql\n",
    "SELECT *\n",
    "FROM (\n",
    "    PREDICT USING diet_image_classification\n",
    "    AS\n",
    "    SELECT *\n",
    "    FROM diet\n",
    "    )\n",
    "WHERE label=predict_result\n",
    "AND label LIKE '사과파이'\n",
    "LIMIT 10"
   ]
  },
  {
   "attachments": {},
   "cell_type": "markdown",
   "id": "d94933a2",
   "metadata": {},
   "source": [
    "<div class=\"admonition note\">\n",
    "    <h4 class=\"admonition-title\">Query Details</h4>\n",
    "    <ul>\n",
    "        <li>\"<strong>SELECT * FROM (...)</strong>\" selects all the results of the nested \"<strong>PREDICT USING</strong>\" query.</li>\n",
    "        <li>\"<strong>WHERE</strong>\" sets the selection condition. \"<strong>AND</strong>\" allows multiple conditions.\n",
    "        <ul>\n",
    "            <li>\"label=predict_result\": queries only data where the label column and predict_result column are equal</li>\n",
    "            <li>\"label LIKE '사과파이'\": queries data where the label value is 'apple pie'</li>\n",
    "        </ul>\n",
    "        </li>\n",
    "    </ul>\n",
    "</div>"
   ]
  },
  {
   "attachments": {},
   "cell_type": "markdown",
   "id": "5389cb4a",
   "metadata": {},
   "source": [
    "## **5. In Conclusion**\n",
    "\n",
    "In this tutorial, we created an image search model to search for food images from the food image dataset using keywords. As this is a beginner-level tutorial, we focused on the process rather than accuracy. The model's accuracy can be improved by adjusting various options, such as increasing the epoch or dataset size. Furthermore, follow along with the image-image and image-text search tutorials to create your own search services.\n",
    "\n",
    "* [How to Upload My Data to the ThanoSQL Workspace](https://docs.thanosql.ai/en/getting_started/data_upload/)\n",
    "* [How to Create a Table Using My Data](https://docs.thanosql.ai/en/how-to_guides/ThanoSQL_query/COPY_SYNTAX/)\n",
    "* [How to Upload My Model to the ThanoSQL Workspace](https://docs.thanosql.ai/en/how-to_guides/ThanoSQL_query/UPLOAD_MODEL_SYNTAX/)\n",
    "\n",
    "<div class=\"admonition tip\">\n",
    "    <h4 class=\"admonition-title\">Inquiries About Deploying a Model for Your Own Service</h4>\n",
    "    <p>If you have any difficulties creating your own model using ThanoSQL or applying it to your services, please feel free to contact us below😊</p>\n",
    "    <p>For inquiries regarding building a keyword-image search models: <a href=\"mailto:contact@smartmind.team\">contact@smartmind.team</a></p>\n",
    "</div>"
   ]
  }
 ],
 "metadata": {
  "kernelspec": {
   "display_name": "Python 3 (ipykernel)",
   "language": "python",
   "name": "python3"
  },
  "language_info": {
   "codemirror_mode": {
    "name": "ipython",
    "version": 3
   },
   "file_extension": ".py",
   "mimetype": "text/x-python",
   "name": "python",
   "nbconvert_exporter": "python",
   "pygments_lexer": "ipython3",
   "version": "3.8.13"
  },
  "vscode": {
   "interpreter": {
    "hash": "916dbcbb3f70747c44a77c7bcd40155683ae19c65e1c03b4aa3499c5328201f1"
   }
  }
 },
 "nbformat": 4,
 "nbformat_minor": 5
}
