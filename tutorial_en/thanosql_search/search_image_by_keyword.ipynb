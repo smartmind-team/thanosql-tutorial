{
 "cells": [
  {
   "cell_type": "markdown",
   "id": "aa9f00fa-ab5b-47ad-8c1b-8519624b1d89",
   "metadata": {
    "tags": []
   },
   "source": [
    "# __Search Image by Keyword__"
   ]
  },
  {
   "cell_type": "markdown",
   "id": "852d338d",
   "metadata": {},
   "source": [
    "- Tutorial Difficulty : ★☆☆☆☆\n",
    "- 10 min read\n",
    "- Languages : [SQL](https://en.wikipedia.org/wiki/SQL) (100%)\n",
    "- File location : tutorial_en/thanosql_search/search_image_by_keyword.ipynb\n",
    "- References : [Food Image and Nutrition Text Introduction Dataset](https://aihub.or.kr/aihubdata/data/view.do?currMenu=115&topMenu=100&aihubDataSe=realm&dataSetSn=74)"
   ]
  },
  {
   "cell_type": "markdown",
   "id": "57b7f1dc",
   "metadata": {},
   "source": [
    "## Tutorial Introduction\n",
    "\n",
    "<div class=\"admonition note\">\n",
    "    <h4 class=\"admonition-title\">Understanding Keyword-Image Search</h4>\n",
    "    <p>ThanoSQL provides image search using keywords. The search uses an image classification model to set a keyword as the target value, then adds an index column with the images updated from the trained model. In other words, the keyword-image search finds images that corresponds to the desired target value (category). </p>\n",
    "</div>\n",
    "\n",
    "The dictionary defines \"search\" as \"finding the necessary materials in a book or computer according to its purpose.\" The ThanoSQL keyword-image search does not search for information that has the inclusion of a specific word (keyword). Instead, it creates a model that predicts words from the features of an image and returns the image with the highest relevance.\n",
    "\n",
    "**The following are examples and usages of the ThanoSQL keyword image search algorithm.**\n",
    "\n",
    "- Use shopping categories to create a model, and use it to create an index column. The index column combined with attributes such as image registration dates provides more accurate searches.\n",
    "- You can create your own image search service by utilizing image-image search and text-image search in their respective tutorials.\n",
    "\n",
    "<div class=\"admonition note\">\n",
    "    <h4 class=\"admonition-title\"> In this tutorial</h4>\n",
    "    <p>👉 Use a combination of the \"<strong>SEARCH</strong>\" query and the \"<strong>SELECT</strong>\" query to search images using specific keywords. </p>\n",
    "</div>\n",
    "\n",
    "<div class=\"admonition tip\">\n",
    "    <h4 class=\"admonition-title\">Dataset Description</h4>\n",
    "    <p>The <code>Introduction to Food Images and Nutrition Information Text</code> dataset was organized by the Ministry of Science and ICT and is supported by the Korea Intelligence Information Society Agency. It consists of 400 food items and consists of 842,000 images. This tutorial uses only a few (10 types, 1,190 photos) images from that dataset. </p>\n",
    "</div>"
   ]
  },
  {
   "cell_type": "markdown",
   "id": "54e3f00c-4402-46e2-a589-02354f857383",
   "metadata": {},
   "source": [
    "## __0. Prepare Dataset__\n",
    "\n",
    "As mentioned in the [ThanoSQL Workspace](https://docs.thanosql.ai/en/getting_started/how_to_use_ThanoSQL/#5-thanosql-workspace), you must create an API token and run the query below to execute the query of ThanoSQL. "
   ]
  },
  {
   "cell_type": "code",
   "execution_count": null,
   "id": "30339f0c-c6bc-44a3-b065-9aaf646b158a",
   "metadata": {},
   "outputs": [],
   "source": [
    "%load_ext thanosql\n",
    "%thanosql API_TOKEN=<Issued_API_TOKEN>"
   ]
  },
  {
   "cell_type": "markdown",
   "id": "073a6182",
   "metadata": {},
   "source": [
    "### __Prepare Dataset__"
   ]
  },
  {
   "cell_type": "code",
   "execution_count": 2,
   "id": "762e1d0d",
   "metadata": {},
   "outputs": [
    {
     "name": "stdout",
     "output_type": "stream",
     "text": [
      "Success\n"
     ]
    }
   ],
   "source": [
    "%%thanosql\n",
    "GET THANOSQL DATASET diet_data\n",
    "OPTIONS (overwrite=True)"
   ]
  },
  {
   "cell_type": "markdown",
   "id": "1374b00a",
   "metadata": {},
   "source": [
    "<div class=\"admonition note\">\n",
    "    <h4 class=\"admonition-title\">Query Details</h4>\n",
    "    <ul>\n",
    "        <li>\"<strong>GET THANOSQL DATASET</strong>\" downloads the specified dataset to the workspace. </li>\n",
    "        <li>\"<strong>OPTIONS</strong>\" specifies the option values to be used for the <strong>GET THANOSQL DATASET</strong> clause.\n",
    "        <ul>\n",
    "            <li>\"overwrite\" : Determines whether to overwrite a dataset if it already exists. If set as True, the old dataset is replaced with the new dataset (True|False, DEFAULT : False) </li>\n",
    "        </ul>\n",
    "        </li>\n",
    "    </ul>\n",
    "</div>"
   ]
  },
  {
   "cell_type": "code",
   "execution_count": 3,
   "id": "981d411f-ae97-4c2a-87c5-f56180495daf",
   "metadata": {
    "tags": []
   },
   "outputs": [
    {
     "name": "stdout",
     "output_type": "stream",
     "text": [
      "Success\n"
     ]
    }
   ],
   "source": [
    "%%thanosql\n",
    "COPY diet \n",
    "OPTIONS (overwrite=True)\n",
    "FROM \"thanosql-dataset/diet_data/diet.csv\""
   ]
  },
  {
   "cell_type": "markdown",
   "id": "8c02be61",
   "metadata": {},
   "source": [
    "<div class=\"admonition note\">\n",
    "    <h4 class=\"admonition-title\">Query Details</h4>\n",
    "    <ul>\n",
    "        <li>\"<strong>COPY</strong>\" specifies the name of the dataset to be saved as a database table. </li>\n",
    "        <li>\"<strong>OPTIONS</strong>\" specifies the option values to be used for the <strong>COPY</strong> clause.\n",
    "        <ul>\n",
    "           <li>\"overwrite\" : Determines whether to overwrite a table if it already exists. If set as True, the old table is replaced with the new table (True|False, DEFAULT : False) </li>\n",
    "        </ul>\n",
    "        </li>\n",
    "    </ul>\n",
    "</div>"
   ]
  },
  {
   "cell_type": "markdown",
   "id": "214a3dd0-ac55-4ed6-ad14-213ab233839e",
   "metadata": {
    "tags": []
   },
   "source": [
    "## __1. Check Dataset__\n",
    "\n",
    "To create a keyword-image search model, we use the <mark style=\"background-color:#FFEC92\">diet</mark> table. Run the query below to check the contents of the table."
   ]
  },
  {
   "cell_type": "code",
   "execution_count": 4,
   "id": "c74d985f-2d1a-4a54-aa26-dbf07d8fa3ef",
   "metadata": {},
   "outputs": [
    {
     "data": {
      "text/html": [
       "<div>\n",
       "<style scoped>\n",
       "    .dataframe tbody tr th:only-of-type {\n",
       "        vertical-align: middle;\n",
       "    }\n",
       "\n",
       "    .dataframe tbody tr th {\n",
       "        vertical-align: top;\n",
       "    }\n",
       "\n",
       "    .dataframe thead th {\n",
       "        text-align: right;\n",
       "    }\n",
       "</style>\n",
       "<table border=\"1\" class=\"dataframe\">\n",
       "  <thead>\n",
       "    <tr style=\"text-align: right;\">\n",
       "      <th></th>\n",
       "      <th>image_path</th>\n",
       "      <th>label</th>\n",
       "    </tr>\n",
       "  </thead>\n",
       "  <tbody>\n",
       "    <tr>\n",
       "      <th>0</th>\n",
       "      <td>thanosql-dataset/diet_data/diet/백향과/0_A220148X...</td>\n",
       "      <td>백향과</td>\n",
       "    </tr>\n",
       "    <tr>\n",
       "      <th>1</th>\n",
       "      <td>thanosql-dataset/diet_data/diet/백향과/0_A220148X...</td>\n",
       "      <td>백향과</td>\n",
       "    </tr>\n",
       "    <tr>\n",
       "      <th>2</th>\n",
       "      <td>thanosql-dataset/diet_data/diet/백향과/1_A220148X...</td>\n",
       "      <td>백향과</td>\n",
       "    </tr>\n",
       "    <tr>\n",
       "      <th>3</th>\n",
       "      <td>thanosql-dataset/diet_data/diet/백향과/0_A220148X...</td>\n",
       "      <td>백향과</td>\n",
       "    </tr>\n",
       "    <tr>\n",
       "      <th>4</th>\n",
       "      <td>thanosql-dataset/diet_data/diet/백향과/0_A220148X...</td>\n",
       "      <td>백향과</td>\n",
       "    </tr>\n",
       "    <tr>\n",
       "      <th>...</th>\n",
       "      <td>...</td>\n",
       "      <td>...</td>\n",
       "    </tr>\n",
       "    <tr>\n",
       "      <th>1185</th>\n",
       "      <td>thanosql-dataset/diet_data/diet/사과파이/0_A020511...</td>\n",
       "      <td>사과파이</td>\n",
       "    </tr>\n",
       "    <tr>\n",
       "      <th>1186</th>\n",
       "      <td>thanosql-dataset/diet_data/diet/사과파이/0_A020511...</td>\n",
       "      <td>사과파이</td>\n",
       "    </tr>\n",
       "    <tr>\n",
       "      <th>1187</th>\n",
       "      <td>thanosql-dataset/diet_data/diet/사과파이/1_A020511...</td>\n",
       "      <td>사과파이</td>\n",
       "    </tr>\n",
       "    <tr>\n",
       "      <th>1188</th>\n",
       "      <td>thanosql-dataset/diet_data/diet/사과파이/0_A020511...</td>\n",
       "      <td>사과파이</td>\n",
       "    </tr>\n",
       "    <tr>\n",
       "      <th>1189</th>\n",
       "      <td>thanosql-dataset/diet_data/diet/사과파이/0_A020511...</td>\n",
       "      <td>사과파이</td>\n",
       "    </tr>\n",
       "  </tbody>\n",
       "</table>\n",
       "<p>1190 rows × 2 columns</p>\n",
       "</div>"
      ],
      "text/plain": [
       "                                             image_path label\n",
       "0     thanosql-dataset/diet_data/diet/백향과/0_A220148X...   백향과\n",
       "1     thanosql-dataset/diet_data/diet/백향과/0_A220148X...   백향과\n",
       "2     thanosql-dataset/diet_data/diet/백향과/1_A220148X...   백향과\n",
       "3     thanosql-dataset/diet_data/diet/백향과/0_A220148X...   백향과\n",
       "4     thanosql-dataset/diet_data/diet/백향과/0_A220148X...   백향과\n",
       "...                                                 ...   ...\n",
       "1185  thanosql-dataset/diet_data/diet/사과파이/0_A020511...  사과파이\n",
       "1186  thanosql-dataset/diet_data/diet/사과파이/0_A020511...  사과파이\n",
       "1187  thanosql-dataset/diet_data/diet/사과파이/1_A020511...  사과파이\n",
       "1188  thanosql-dataset/diet_data/diet/사과파이/0_A020511...  사과파이\n",
       "1189  thanosql-dataset/diet_data/diet/사과파이/0_A020511...  사과파이\n",
       "\n",
       "[1190 rows x 2 columns]"
      ]
     },
     "execution_count": 4,
     "metadata": {},
     "output_type": "execute_result"
    }
   ],
   "source": [
    "%%thanosql\n",
    "SELECT * \n",
    "FROM diet"
   ]
  },
  {
   "cell_type": "markdown",
   "id": "6e19359f",
   "metadata": {},
   "source": [
    "<div class=\"admonition note\">\n",
    "    <h4 class=\"admonition-title\">Understanding the Data</h4>\n",
    "    <p>The <mark style=\"background-color:#FFEC92\">diet</mark> table contains the following information. </p>\n",
    "    <ul>\n",
    "        <li><mark style=\"background-color:#D7D0FF\">image_path</mark> : image path </li>\n",
    "        <li><mark style=\"background-color:#D7D0FF\">label</mark> : filename</li>\n",
    "    </ul>\n",
    "</div>"
   ]
  },
  {
   "cell_type": "markdown",
   "id": "a36b8390-9114-4e5c-9abc-ffb2e9eaea8d",
   "metadata": {},
   "source": [
    "## __2. Create an Image Search Model__\n",
    "\n",
    "To search for images, it is necessary to train the existing data. To do this, we create an image classification model using the dataset mentioned prior. Run the query below to create a model named <mark style=\"background-color:#E9D7FD \">diet_image_classification</mark>.  \n",
    "(Estimated duration of query execution: 3 min)"
   ]
  },
  {
   "cell_type": "code",
   "execution_count": 5,
   "id": "ebd1ac07-dfd3-44ce-a737-64608018163f",
   "metadata": {},
   "outputs": [
    {
     "name": "stdout",
     "output_type": "stream",
     "text": [
      "Building model...\n",
      "Success\n"
     ]
    }
   ],
   "source": [
    "%%thanosql\n",
    "BUILD MODEL diet_image_classification\n",
    "USING ConvNeXt_Tiny\n",
    "OPTIONS (\n",
    "    image_col='image_path', \n",
    "    label_col='label', \n",
    "    epochs=1,\n",
    "    overwrite=True\n",
    "    )\n",
    "AS \n",
    "SELECT *\n",
    "FROM diet"
   ]
  },
  {
   "cell_type": "markdown",
   "id": "c89d1c5d",
   "metadata": {},
   "source": [
    "<div class=\"admonition note\">\n",
    "    <h4 class=\"admonition-title\">Query Details</h4>\n",
    "    <ul>\n",
    "        <li>\"<strong>BUILD MODEL</strong>\" creates and trains a model named <mark style=\"background-color:#E9D7FD \">diet_image_classification</mark>.</li>\n",
    "        <li>\"<strong>USING</strong>\" specifies <code>ConvNeXt_Tiny</code> as the base model.</li>\n",
    "        <li>\"<strong>OPTIONS</strong>\" specifies the option values used to create a model.\n",
    "        <ul>\n",
    "            <li>\"image_col\" : the name of the column containing the image path.</li>\n",
    "            <li>\"label_col\" : the name of the column containing information about the target.</li>\n",
    "            <li>\"epochs\" : number of times to train with the training dataset.</li>\n",
    "            <li>\"overwrite\": determines whether to overwrite a dataset if it already exists. If set as True, the old dataset is replaced with the new dataset (True|False, DEFAULT : False)</li>\n",
    "        </ul>\n",
    "        </li>\n",
    "    </ul>\n",
    "</div>"
   ]
  },
  {
   "cell_type": "markdown",
   "id": "1ad5e359-0ff1-4a5c-bbf1-5edb7bf15c38",
   "metadata": {},
   "source": [
    "## __3. Predict Specific Images__\n",
    "\n",
    "To predict a specific image, use the prediction model created in the previous step(<mark style=\"background-color:#E9D7FD \">diet_image_classification</mark>). After running the query below, the prediction result is stored and returned in the <mark style=\"background-color:#D7D0FF\">predicted</mark> column."
   ]
  },
  {
   "cell_type": "code",
   "execution_count": 6,
   "id": "23e0c1be-8d4e-4ed7-9c3c-c984e1883b49",
   "metadata": {},
   "outputs": [
    {
     "data": {
      "text/html": [
       "<div>\n",
       "<style scoped>\n",
       "    .dataframe tbody tr th:only-of-type {\n",
       "        vertical-align: middle;\n",
       "    }\n",
       "\n",
       "    .dataframe tbody tr th {\n",
       "        vertical-align: top;\n",
       "    }\n",
       "\n",
       "    .dataframe thead th {\n",
       "        text-align: right;\n",
       "    }\n",
       "</style>\n",
       "<table border=\"1\" class=\"dataframe\">\n",
       "  <thead>\n",
       "    <tr style=\"text-align: right;\">\n",
       "      <th></th>\n",
       "      <th>image_path</th>\n",
       "      <th>predicted</th>\n",
       "    </tr>\n",
       "  </thead>\n",
       "  <tbody>\n",
       "    <tr>\n",
       "      <th>0</th>\n",
       "      <td>thanosql-dataset/diet_data/diet/백향과/0_A220148X...</td>\n",
       "      <td>백향과</td>\n",
       "    </tr>\n",
       "    <tr>\n",
       "      <th>1</th>\n",
       "      <td>thanosql-dataset/diet_data/diet/백향과/0_A220148X...</td>\n",
       "      <td>백향과</td>\n",
       "    </tr>\n",
       "    <tr>\n",
       "      <th>2</th>\n",
       "      <td>thanosql-dataset/diet_data/diet/백향과/1_A220148X...</td>\n",
       "      <td>백향과</td>\n",
       "    </tr>\n",
       "    <tr>\n",
       "      <th>3</th>\n",
       "      <td>thanosql-dataset/diet_data/diet/백향과/0_A220148X...</td>\n",
       "      <td>백향과</td>\n",
       "    </tr>\n",
       "    <tr>\n",
       "      <th>4</th>\n",
       "      <td>thanosql-dataset/diet_data/diet/백향과/0_A220148X...</td>\n",
       "      <td>백향과</td>\n",
       "    </tr>\n",
       "    <tr>\n",
       "      <th>...</th>\n",
       "      <td>...</td>\n",
       "      <td>...</td>\n",
       "    </tr>\n",
       "    <tr>\n",
       "      <th>1185</th>\n",
       "      <td>thanosql-dataset/diet_data/diet/사과파이/0_A020511...</td>\n",
       "      <td>사과파이</td>\n",
       "    </tr>\n",
       "    <tr>\n",
       "      <th>1186</th>\n",
       "      <td>thanosql-dataset/diet_data/diet/사과파이/0_A020511...</td>\n",
       "      <td>사과파이</td>\n",
       "    </tr>\n",
       "    <tr>\n",
       "      <th>1187</th>\n",
       "      <td>thanosql-dataset/diet_data/diet/사과파이/1_A020511...</td>\n",
       "      <td>사과파이</td>\n",
       "    </tr>\n",
       "    <tr>\n",
       "      <th>1188</th>\n",
       "      <td>thanosql-dataset/diet_data/diet/사과파이/0_A020511...</td>\n",
       "      <td>사과파이</td>\n",
       "    </tr>\n",
       "    <tr>\n",
       "      <th>1189</th>\n",
       "      <td>thanosql-dataset/diet_data/diet/사과파이/0_A020511...</td>\n",
       "      <td>사과파이</td>\n",
       "    </tr>\n",
       "  </tbody>\n",
       "</table>\n",
       "<p>1190 rows × 2 columns</p>\n",
       "</div>"
      ],
      "text/plain": [
       "                                             image_path predicted\n",
       "0     thanosql-dataset/diet_data/diet/백향과/0_A220148X...       백향과\n",
       "1     thanosql-dataset/diet_data/diet/백향과/0_A220148X...       백향과\n",
       "2     thanosql-dataset/diet_data/diet/백향과/1_A220148X...       백향과\n",
       "3     thanosql-dataset/diet_data/diet/백향과/0_A220148X...       백향과\n",
       "4     thanosql-dataset/diet_data/diet/백향과/0_A220148X...       백향과\n",
       "...                                                 ...       ...\n",
       "1185  thanosql-dataset/diet_data/diet/사과파이/0_A020511...      사과파이\n",
       "1186  thanosql-dataset/diet_data/diet/사과파이/0_A020511...      사과파이\n",
       "1187  thanosql-dataset/diet_data/diet/사과파이/1_A020511...      사과파이\n",
       "1188  thanosql-dataset/diet_data/diet/사과파이/0_A020511...      사과파이\n",
       "1189  thanosql-dataset/diet_data/diet/사과파이/0_A020511...      사과파이\n",
       "\n",
       "[1190 rows x 2 columns]"
      ]
     },
     "execution_count": 6,
     "metadata": {},
     "output_type": "execute_result"
    }
   ],
   "source": [
    "%%thanosql\n",
    "PREDICT USING diet_image_classification\n",
    "AS \n",
    "SELECT *\n",
    "FROM diet"
   ]
  },
  {
   "cell_type": "markdown",
   "id": "a5ffdb8b",
   "metadata": {},
   "source": [
    "<div class=\"admonition note\">\n",
    "    <h4 class=\"admonition-title\">Query Details</h4>\n",
    "    <ul>\n",
    "        <li>Use the <mark style=\"background-color:#E9D7FD \">diet_image_classification</mark> model for prediction with the \"<strong>PREDICT USING</strong>\" query.</li>\n",
    "    </ul>\n",
    "</div>"
   ]
  },
  {
   "cell_type": "markdown",
   "id": "25c2ebc5",
   "metadata": {},
   "source": [
    "## __4. Search__\n",
    "\n",
    "To retrieve data with specific conditions, run a query using the \"__PREDICT USING__\", \"__SELECT__\", \"__WHERE__\" clauses. You can search data where the <mark style=\"background-color:#E9D7FD \">label</mark> is '사과파이'('apple pie') and where the prediction result is also '사과파이' by running the following query."
   ]
  },
  {
   "cell_type": "code",
   "execution_count": 7,
   "id": "9aee9ff1",
   "metadata": {},
   "outputs": [
    {
     "data": {
      "text/html": [
       "<div>\n",
       "<style scoped>\n",
       "    .dataframe tbody tr th:only-of-type {\n",
       "        vertical-align: middle;\n",
       "    }\n",
       "\n",
       "    .dataframe tbody tr th {\n",
       "        vertical-align: top;\n",
       "    }\n",
       "\n",
       "    .dataframe thead th {\n",
       "        text-align: right;\n",
       "    }\n",
       "</style>\n",
       "<table border=\"1\" class=\"dataframe\">\n",
       "  <thead>\n",
       "    <tr style=\"text-align: right;\">\n",
       "      <th></th>\n",
       "      <th>image_path</th>\n",
       "      <th>label</th>\n",
       "      <th>predicted</th>\n",
       "    </tr>\n",
       "  </thead>\n",
       "  <tbody>\n",
       "    <tr>\n",
       "      <th>0</th>\n",
       "      <td>thanosql-dataset/diet_data/diet/사과파이/0_A020511...</td>\n",
       "      <td>사과파이</td>\n",
       "      <td>사과파이</td>\n",
       "    </tr>\n",
       "    <tr>\n",
       "      <th>1</th>\n",
       "      <td>thanosql-dataset/diet_data/diet/사과파이/0_A020511...</td>\n",
       "      <td>사과파이</td>\n",
       "      <td>사과파이</td>\n",
       "    </tr>\n",
       "    <tr>\n",
       "      <th>2</th>\n",
       "      <td>thanosql-dataset/diet_data/diet/사과파이/0_A020511...</td>\n",
       "      <td>사과파이</td>\n",
       "      <td>사과파이</td>\n",
       "    </tr>\n",
       "    <tr>\n",
       "      <th>3</th>\n",
       "      <td>thanosql-dataset/diet_data/diet/사과파이/0_A020511...</td>\n",
       "      <td>사과파이</td>\n",
       "      <td>사과파이</td>\n",
       "    </tr>\n",
       "    <tr>\n",
       "      <th>4</th>\n",
       "      <td>thanosql-dataset/diet_data/diet/사과파이/0_A020511...</td>\n",
       "      <td>사과파이</td>\n",
       "      <td>사과파이</td>\n",
       "    </tr>\n",
       "    <tr>\n",
       "      <th>5</th>\n",
       "      <td>thanosql-dataset/diet_data/diet/사과파이/0_A020511...</td>\n",
       "      <td>사과파이</td>\n",
       "      <td>사과파이</td>\n",
       "    </tr>\n",
       "    <tr>\n",
       "      <th>6</th>\n",
       "      <td>thanosql-dataset/diet_data/diet/사과파이/0_A020511...</td>\n",
       "      <td>사과파이</td>\n",
       "      <td>사과파이</td>\n",
       "    </tr>\n",
       "    <tr>\n",
       "      <th>7</th>\n",
       "      <td>thanosql-dataset/diet_data/diet/사과파이/0_A020511...</td>\n",
       "      <td>사과파이</td>\n",
       "      <td>사과파이</td>\n",
       "    </tr>\n",
       "    <tr>\n",
       "      <th>8</th>\n",
       "      <td>thanosql-dataset/diet_data/diet/사과파이/0_A020511...</td>\n",
       "      <td>사과파이</td>\n",
       "      <td>사과파이</td>\n",
       "    </tr>\n",
       "    <tr>\n",
       "      <th>9</th>\n",
       "      <td>thanosql-dataset/diet_data/diet/사과파이/0_A020511...</td>\n",
       "      <td>사과파이</td>\n",
       "      <td>사과파이</td>\n",
       "    </tr>\n",
       "  </tbody>\n",
       "</table>\n",
       "</div>"
      ],
      "text/plain": [
       "                                          image_path label predicted\n",
       "0  thanosql-dataset/diet_data/diet/사과파이/0_A020511...  사과파이      사과파이\n",
       "1  thanosql-dataset/diet_data/diet/사과파이/0_A020511...  사과파이      사과파이\n",
       "2  thanosql-dataset/diet_data/diet/사과파이/0_A020511...  사과파이      사과파이\n",
       "3  thanosql-dataset/diet_data/diet/사과파이/0_A020511...  사과파이      사과파이\n",
       "4  thanosql-dataset/diet_data/diet/사과파이/0_A020511...  사과파이      사과파이\n",
       "5  thanosql-dataset/diet_data/diet/사과파이/0_A020511...  사과파이      사과파이\n",
       "6  thanosql-dataset/diet_data/diet/사과파이/0_A020511...  사과파이      사과파이\n",
       "7  thanosql-dataset/diet_data/diet/사과파이/0_A020511...  사과파이      사과파이\n",
       "8  thanosql-dataset/diet_data/diet/사과파이/0_A020511...  사과파이      사과파이\n",
       "9  thanosql-dataset/diet_data/diet/사과파이/0_A020511...  사과파이      사과파이"
      ]
     },
     "execution_count": 7,
     "metadata": {},
     "output_type": "execute_result"
    }
   ],
   "source": [
    "%%thanosql\n",
    "SELECT A.image_path, A.label, B.predicted \n",
    "FROM diet A\n",
    "LEFT JOIN (\n",
    "    SELECT * \n",
    "    FROM (PREDICT USING diet_image_classification \n",
    "    AS SELECT * FROM diet)) B \n",
    "ON A.image_path = B.image_path\n",
    "WHERE A.label = B.predicted\n",
    "AND A.label LIKE '사과파이'\n",
    "LIMIT 10"
   ]
  },
  {
   "cell_type": "markdown",
   "id": "d94933a2",
   "metadata": {},
   "source": [
    "<div class=\"admonition note\">\n",
    "    <h4 class=\"admonition-title\">Query Details</h4>\n",
    "    <ul>\n",
    "        <li>\"<strong>SELECT * FROM (...)</strong>\" selects all the results of the nested \"<strong>PREDICT USING</strong>\" query.</li>\n",
    "        <li>\"<strong>WHERE</strong>\" sets the selection condition. \"<strong>AND</strong>\" allows multiple conditions.\n",
    "        <ul>\n",
    "            <li>\"label = predicted\" : Queries only data where the<mark style=\"background-color:#D7D0FF \">label</mark> column and <mark style=\"background-color:#D7D0FF \">predicted</mark> column are equal.</li>\n",
    "            <li>\"label = '사과파이'\" : Queries data where the <mark style=\"background-color:#D7D0FF \">label</mark> value is 'apple pie'.</li>\n",
    "        </ul>\n",
    "        </li>\n",
    "    </ul>\n",
    "</div>"
   ]
  },
  {
   "cell_type": "markdown",
   "id": "5389cb4a",
   "metadata": {},
   "source": [
    "## **5. In Conclusion**\n",
    "\n",
    "In this tutorial, we created an image search model to search for food images from the `food image dataset` using keywords. As this is a beginner-level tutorial, we focused on thhe process rather than accuracy. The model's accuracy can be improved by adjusting various options, such as increasing epoch or dataset size. Furthrmore, follow along the image-image and image-text search tutorials to create your own search services.\n",
    "\n",
    "<div class=\"admonition tip\">\n",
    "    <h4 class=\"admonition-title\">Inquiries about deploying a model for your own service</h4>\n",
    "    <p>If you have any difficulties creating your own model using ThanoSQL or applying it to your services, please feel free to contact us below😊</p>\n",
    "    <p>For inquiries regarding building keyword-image search models: contact@smartmind.team</p>\n",
    "</div>"
   ]
  }
 ],
 "metadata": {
  "kernelspec": {
   "display_name": "Python 3.8.8 ('base')",
   "language": "python",
   "name": "python3"
  },
  "language_info": {
   "codemirror_mode": {
    "name": "ipython",
    "version": 3
   },
   "file_extension": ".py",
   "mimetype": "text/x-python",
   "name": "python",
   "nbconvert_exporter": "python",
   "pygments_lexer": "ipython3",
   "version": "3.8.8"
  },
  "vscode": {
   "interpreter": {
    "hash": "3d9ea1ec211306c2728be84f27337a01f13631138755fdcaa14be4e2585f3565"
   }
  }
 },
 "nbformat": 4,
 "nbformat_minor": 5
}
