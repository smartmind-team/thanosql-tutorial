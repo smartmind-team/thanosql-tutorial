{
 "cells": [
  {
   "cell_type": "markdown",
   "id": "e43f86f8-a77c-4f93-a194-5c8dbd954871",
   "metadata": {},
   "source": [
    "# __Search Image by Image__"
   ]
  },
  {
   "cell_type": "markdown",
   "id": "d01de980",
   "metadata": {},
   "source": [
    "- Tutorial Difficulty: ★☆☆☆☆\n",
    "- 7 min read\n",
    "- Languages: [SQL](https://en.wikipedia.org/wiki/SQL) (100%)\n",
    "- File location: tutorial_en/thanosql_search/search_image_by_image.ipynb\n",
    "- References: [Introduction of MNIST DataSet](https://en.wikipedia.org/wiki/MNIST_database), [A Simple Framework for Contrastive Learning of Visual Representations](https://arxiv.org/abs/2002.05709)"
   ]
  },
  {
   "cell_type": "markdown",
   "id": "b5e19c02",
   "metadata": {},
   "source": [
    "## Tutorial Introduction\n",
    "\n",
    "<div class=\"admonition note\">\n",
    "    <h4 class=\"admonition-title\">Understanding Image Vectorization</h4>\n",
    "    <p>Images(height x width x channel [RGB] x color intensity) are meaningless if the information for each pixel is randomly generated. In other words, an image can only be recognized as an image if each pixel has a specific pattern associated with the surrounding pixels. With this information, it can be inferred that an image can be represented on a low-dimensional feature vector. Recently, studies using machine learning to vectorize and express each image in a low-dimensional space based on similarity have been conducted.</p>\n",
    "</div>\n",
    "\n",
    "There are several ways to define the similarity of an image. It can refer to the colors being similar, the objects in the image being similar, or the context of the image being similar (ex. a handwritten number). Although it is difficult to give an exact definition of an image similarity, machine learning learns and vectorizes these general features.\n",
    "\n",
    "ThanoSQL uses the [Self-Supervised Learning Model](https://en.wikipedia.org/wiki/Self-supervised_learning) to input images into the database and retrieve similar images from it. When you upload images to the ThanoSQL's database, a machine learning algorithm places similar images together while placing non-similar images apart. Image features are derived from an unlabeled dataset and fine-tuned with a small amount of labeled data. Then, it can be used for classification or regression tasks.\n",
    "\n",
    "Furthermore, ThanoSQL uses machine learning algorithms to vectorize datasets. The vectorized data is stored as a database column in the image table and is used to calculate the similarity(distance).\n",
    "\n",
    "__The following are use case examples of the ThanoSQL's similar image search algorithm.__\n",
    "\n",
    "- Input your favorite image and have similar artworks searched for and recommended to you.\n",
    "- Find similar images within an album containing thousands of photos.\n",
    "- Store your images in the ThanoSQL's database and create your own search engine or machine learning model utilizing the ThanoSQL Auto-ML regression/classification model.\n",
    " \n",
    "<div class=\"admonition note\">\n",
    "    <h4 class=\"admonition-title\">In this tutorial</h4>\n",
    "    <p>👉 This tutorial will use the <mark style=\"background-color:#FFD79C\">MNIST handwriting dataset</mark>. Each image consists of a hand written number between 0 and 9 and is correctly labeled. The MNIST handwriting dataset consists of 1,000 train images and 200 test images.</p>\n",
    "</div>\n",
    "    \n",
    "Create a model that uses ThanoSQL to input handwriting data and retrieves similar images from the database.\n",
    "\n",
    "[![IMAGE](https://docs.thanosql.ai/img/thanosql_search/search_image_by_image/simclr_img7.png \"MNIST data\") ](https://docs.thanosql.ai/img/thanosql_search/search_image_by_image/simclr_img7.png)"
   ]
  },
  {
   "cell_type": "markdown",
   "id": "5fd38a02-06a5-405b-82e0-b074a3dbf589",
   "metadata": {},
   "source": [
    "## __0. Prepare Dataset__\n",
    "\n",
    "As mentioned in the [ThanoSQL Workspace](https://docs.thanosql.ai/en/getting_started/how_to_use_ThanoSQL/#5-thanosql-workspace), you must create an API token and run the query below to execute the query of ThanoSQL. "
   ]
  },
  {
   "cell_type": "code",
   "execution_count": null,
   "id": "8ac3be35-fc75-432f-8946-2cb57fd56bc2",
   "metadata": {
    "tags": []
   },
   "outputs": [],
   "source": [
    "%load_ext thanosql\n",
    "%thanosql API_TOKEN=<Issued_API_TOKEN>"
   ]
  },
  {
   "cell_type": "markdown",
   "id": "073a6182",
   "metadata": {},
   "source": [
    "### __Prepare Dataset__"
   ]
  },
  {
   "cell_type": "code",
   "execution_count": 2,
   "id": "e8b80b12",
   "metadata": {},
   "outputs": [
    {
     "name": "stdout",
     "output_type": "stream",
     "text": [
      "Success\n"
     ]
    }
   ],
   "source": [
    "%%thanosql\n",
    "GET THANOSQL DATASET mnist_data\n",
    "OPTIONS (overwrite=True)"
   ]
  },
  {
   "cell_type": "markdown",
   "id": "1ec2d024",
   "metadata": {},
   "source": [
    "<div class=\"admonition note\">\n",
    "    <h4 class=\"admonition-title\">Query Details</h4>\n",
    "    <ul>\n",
    "        <li>\"<strong>GET THANOSQL DATASET</strong>\" downloads the specified dataset to the workspace. </li>\n",
    "        <li>\"<strong>OPTIONS</strong>\" specifies the option values to be used for the <strong>GET THANOSQL DATASET</strong> clause.\n",
    "        <ul>\n",
    "            <li>\"overwrite\": determines whether to overwrite a dataset if it already exists. If set as True, the old dataset is replaced with the new dataset (True|False, default: False) </li>\n",
    "        </ul>\n",
    "        </li>\n",
    "    </ul>\n",
    "</div>"
   ]
  },
  {
   "cell_type": "code",
   "execution_count": 3,
   "id": "63661751-7e32-48f7-84fa-1dd205cc5d6d",
   "metadata": {},
   "outputs": [
    {
     "name": "stdout",
     "output_type": "stream",
     "text": [
      "Success\n"
     ]
    }
   ],
   "source": [
    "%%thanosql\n",
    "COPY mnist_train \n",
    "OPTIONS (overwrite=True)\n",
    "FROM \"thanosql-dataset/mnist_data/mnist_train.csv\""
   ]
  },
  {
   "cell_type": "code",
   "execution_count": 4,
   "id": "f65244d4-97bc-4464-aa8c-2d12a1f59435",
   "metadata": {},
   "outputs": [
    {
     "name": "stdout",
     "output_type": "stream",
     "text": [
      "Success\n"
     ]
    }
   ],
   "source": [
    "%%thanosql\n",
    "COPY mnist_test \n",
    "OPTIONS (overwrite=True)\n",
    "FROM \"thanosql-dataset/mnist_data/mnist_test.csv\""
   ]
  },
  {
   "cell_type": "markdown",
   "id": "d6845948",
   "metadata": {},
   "source": [
    "<div class=\"admonition note\">\n",
    "    <h4 class=\"admonition-title\">Query Details</h4>\n",
    "    <ul>\n",
    "        <li>\"<strong>COPY</strong>\" specifies the name of the dataset to be saved as a database table. </li>\n",
    "        <li>\"<strong>OPTIONS</strong>\" specifies the option values to be used for the <strong>COPY</strong> clause.\n",
    "        <ul>\n",
    "           <li>\"overwrite\": determines whether to overwrite a table if it already exists. If set as True, the old table is replaced with the new table (True|False, default: False) </li>\n",
    "        </ul>\n",
    "        </li>\n",
    "    </ul>\n",
    "</div>"
   ]
  },
  {
   "cell_type": "markdown",
   "id": "542deaf1-606f-49ea-9b6d-5721050ff2bf",
   "metadata": {
    "tags": []
   },
   "source": [
    "## __1. Checking the Dataset__\n",
    "\n",
    "To create a handwriting classification model, we use the <mark style=\"background-color:#FFEC92\">mnist_train</mark> table from the ThanoSQL workspace [database](https://en.wikipedia.org/wiki/Database). The <mark style=\"background-color:#FFEC92\">mnist_train</mark> table contains the file name, label information, and <mark style=\"background-color:#FFD79C\">MNIST</mark> images' file path. To check the contents of the table, run the query below."
   ]
  },
  {
   "cell_type": "code",
   "execution_count": 5,
   "id": "242430e8-09f5-4f2c-9133-21015fc0acf8",
   "metadata": {},
   "outputs": [
    {
     "data": {
      "text/html": [
       "<div>\n",
       "<style scoped>\n",
       "    .dataframe tbody tr th:only-of-type {\n",
       "        vertical-align: middle;\n",
       "    }\n",
       "\n",
       "    .dataframe tbody tr th {\n",
       "        vertical-align: top;\n",
       "    }\n",
       "\n",
       "    .dataframe thead th {\n",
       "        text-align: right;\n",
       "    }\n",
       "</style>\n",
       "<table border=\"1\" class=\"dataframe\">\n",
       "  <thead>\n",
       "    <tr style=\"text-align: right;\">\n",
       "      <th></th>\n",
       "      <th>image_path</th>\n",
       "      <th>filename</th>\n",
       "      <th>label</th>\n",
       "    </tr>\n",
       "  </thead>\n",
       "  <tbody>\n",
       "    <tr>\n",
       "      <th>0</th>\n",
       "      <td>thanosql-dataset/mnist_data/train/6782.jpg</td>\n",
       "      <td>6782.jpg</td>\n",
       "      <td>5</td>\n",
       "    </tr>\n",
       "    <tr>\n",
       "      <th>1</th>\n",
       "      <td>thanosql-dataset/mnist_data/train/1810.jpg</td>\n",
       "      <td>1810.jpg</td>\n",
       "      <td>5</td>\n",
       "    </tr>\n",
       "    <tr>\n",
       "      <th>2</th>\n",
       "      <td>thanosql-dataset/mnist_data/train/33617.jpg</td>\n",
       "      <td>33617.jpg</td>\n",
       "      <td>5</td>\n",
       "    </tr>\n",
       "    <tr>\n",
       "      <th>3</th>\n",
       "      <td>thanosql-dataset/mnist_data/train/27802.jpg</td>\n",
       "      <td>27802.jpg</td>\n",
       "      <td>5</td>\n",
       "    </tr>\n",
       "    <tr>\n",
       "      <th>4</th>\n",
       "      <td>thanosql-dataset/mnist_data/train/50677.jpg</td>\n",
       "      <td>50677.jpg</td>\n",
       "      <td>5</td>\n",
       "    </tr>\n",
       "  </tbody>\n",
       "</table>\n",
       "</div>"
      ],
      "text/plain": [
       "                                    image_path   filename  label\n",
       "0   thanosql-dataset/mnist_data/train/6782.jpg   6782.jpg      5\n",
       "1   thanosql-dataset/mnist_data/train/1810.jpg   1810.jpg      5\n",
       "2  thanosql-dataset/mnist_data/train/33617.jpg  33617.jpg      5\n",
       "3  thanosql-dataset/mnist_data/train/27802.jpg  27802.jpg      5\n",
       "4  thanosql-dataset/mnist_data/train/50677.jpg  50677.jpg      5"
      ]
     },
     "execution_count": 5,
     "metadata": {},
     "output_type": "execute_result"
    }
   ],
   "source": [
    "%%thanosql\n",
    "SELECT * \n",
    "FROM mnist_train \n",
    "LIMIT 5"
   ]
  },
  {
   "cell_type": "markdown",
   "id": "648a0843",
   "metadata": {},
   "source": [
    "<div class=\"admonition note\">\n",
    "    <h4 class=\"admonition-title\">Understanding the Data</h4>\n",
    "    <p>The <mark style=\"background-color:#FFEC92\">mnist_train</mark> table contains the following information.</p>\n",
    "    <ul>\n",
    "        <li><mark style=\"background-color:#D7D0FF\">image_path</mark>: image path</li>\n",
    "        <li><mark style=\"background-color:#D7D0FF\">filename</mark>: file name</li>\n",
    "        <li><mark style=\"background-color:#D7D0FF\">label</mark>: image label</li>\n",
    "    </ul>\n",
    "</div>"
   ]
  },
  {
   "cell_type": "markdown",
   "id": "2b4f3acf-f218-4d51-b671-7651632290ec",
   "metadata": {},
   "source": [
    "## __2. Create an Image Model__\n",
    "\n",
    "Create an image vectorization model using the <mark style=\"background-color:#FFEC92\">mnist_train</mark> table referenced in the previous step. Execute the query below to create a model named <mark style=\"background-color:#E9D7FD\">my_image_search_model</mark>.  \n",
    "(Estimated time required for query execution: 1 min)"
   ]
  },
  {
   "cell_type": "code",
   "execution_count": 6,
   "id": "3630f8f7-8229-49f5-ae32-51011e1e37c8",
   "metadata": {},
   "outputs": [
    {
     "name": "stdout",
     "output_type": "stream",
     "text": [
      "Success\n"
     ]
    }
   ],
   "source": [
    "%%thanosql\n",
    "BUILD MODEL my_image_search_model\n",
    "USING SimCLR\n",
    "OPTIONS (\n",
    "    image_col=\"image_path\",\n",
    "    max_epochs=1,\n",
    "    overwrite=True\n",
    "    )\n",
    "AS \n",
    "SELECT * \n",
    "FROM mnist_train"
   ]
  },
  {
   "cell_type": "markdown",
   "id": "1e173c0d",
   "metadata": {},
   "source": [
    "<div class=\"admonition note\">\n",
    "    <h4 class=\"admonition-title\">Query Details</h4>\n",
    "    <ul>\n",
    "        <li>\"<strong>BUILD MODEL</strong>\" creates and trains a model named <mark style=\"background-color:#E9D7FD\">mnist_model</mark>.</li>\n",
    "        <li>\"<strong>USING</strong>\" specifies <code>SimCLR</code> as the base model.</li>\n",
    "        <li>\"<strong>OPTIONS</strong>\" specifies the option values used to create a model.\n",
    "        <ul>\n",
    "            <li>\"image_col\": the name of the column containing the image path (default: \"image_path\")</li>\n",
    "            <li>\"max_epochs\": number of times to train with the training dataset.</li>\n",
    "            <li>\"overwrite\": determines whether to overwrite a model if it already exists. If set as True, the old model is replaced with the new model. (True|False, default: False) </li>\n",
    "        </ul>\n",
    "        </li>\n",
    "    </ul>\n",
    "</div>"
   ]
  },
  {
   "cell_type": "markdown",
   "id": "fa4b8b03",
   "metadata": {},
   "source": [
    "To vectorize the `mnist_test` images run the following \"__CONVERT USING__\" query. The vectorized results are stored in a user-defined column (default: <mark style=\"background-color:#D7D0FF\">convert_result</mark>) in the `mnist_test` table."
   ]
  },
  {
   "cell_type": "code",
   "execution_count": 7,
   "id": "0abffc4b-aec9-444a-9546-dce181190f08",
   "metadata": {},
   "outputs": [
    {
     "data": {
      "text/html": [
       "<div>\n",
       "<style scoped>\n",
       "    .dataframe tbody tr th:only-of-type {\n",
       "        vertical-align: middle;\n",
       "    }\n",
       "\n",
       "    .dataframe tbody tr th {\n",
       "        vertical-align: top;\n",
       "    }\n",
       "\n",
       "    .dataframe thead th {\n",
       "        text-align: right;\n",
       "    }\n",
       "</style>\n",
       "<table border=\"1\" class=\"dataframe\">\n",
       "  <thead>\n",
       "    <tr style=\"text-align: right;\">\n",
       "      <th></th>\n",
       "      <th>image_path</th>\n",
       "      <th>filename</th>\n",
       "      <th>label</th>\n",
       "      <th>convert_result</th>\n",
       "    </tr>\n",
       "  </thead>\n",
       "  <tbody>\n",
       "    <tr>\n",
       "      <th>0</th>\n",
       "      <td>thanosql-dataset/mnist_data/test/5099.jpg</td>\n",
       "      <td>5099.jpg</td>\n",
       "      <td>6</td>\n",
       "      <td>[0.6004971, 1.356544, 0.5917841, 1.4965276, 0....</td>\n",
       "    </tr>\n",
       "    <tr>\n",
       "      <th>1</th>\n",
       "      <td>thanosql-dataset/mnist_data/test/9239.jpg</td>\n",
       "      <td>9239.jpg</td>\n",
       "      <td>6</td>\n",
       "      <td>[0.5917816, 0.5604829, 0.71093637, 0.7439931, ...</td>\n",
       "    </tr>\n",
       "    <tr>\n",
       "      <th>2</th>\n",
       "      <td>thanosql-dataset/mnist_data/test/2242.jpg</td>\n",
       "      <td>2242.jpg</td>\n",
       "      <td>6</td>\n",
       "      <td>[0.501104, 0.92481977, 0.803071, 1.0276031, 0....</td>\n",
       "    </tr>\n",
       "    <tr>\n",
       "      <th>3</th>\n",
       "      <td>thanosql-dataset/mnist_data/test/3451.jpg</td>\n",
       "      <td>3451.jpg</td>\n",
       "      <td>6</td>\n",
       "      <td>[0.5152817, 0.86587745, 0.46264905, 0.9430346,...</td>\n",
       "    </tr>\n",
       "    <tr>\n",
       "      <th>4</th>\n",
       "      <td>thanosql-dataset/mnist_data/test/2631.jpg</td>\n",
       "      <td>2631.jpg</td>\n",
       "      <td>6</td>\n",
       "      <td>[0.7324318, 1.0288409, 0.5339064, 1.3720758, 0...</td>\n",
       "    </tr>\n",
       "    <tr>\n",
       "      <th>...</th>\n",
       "      <td>...</td>\n",
       "      <td>...</td>\n",
       "      <td>...</td>\n",
       "      <td>...</td>\n",
       "    </tr>\n",
       "    <tr>\n",
       "      <th>195</th>\n",
       "      <td>thanosql-dataset/mnist_data/test/8045.jpg</td>\n",
       "      <td>8045.jpg</td>\n",
       "      <td>8</td>\n",
       "      <td>[0.44267064, 0.7129019, 0.5213964, 1.2292978, ...</td>\n",
       "    </tr>\n",
       "    <tr>\n",
       "      <th>196</th>\n",
       "      <td>thanosql-dataset/mnist_data/test/9591.jpg</td>\n",
       "      <td>9591.jpg</td>\n",
       "      <td>8</td>\n",
       "      <td>[0.2763853, 0.5670233, 0.7088003, 0.7695681, 0...</td>\n",
       "    </tr>\n",
       "    <tr>\n",
       "      <th>197</th>\n",
       "      <td>thanosql-dataset/mnist_data/test/7425.jpg</td>\n",
       "      <td>7425.jpg</td>\n",
       "      <td>8</td>\n",
       "      <td>[0.40218243, 0.50516707, 0.97546273, 0.9091700...</td>\n",
       "    </tr>\n",
       "    <tr>\n",
       "      <th>198</th>\n",
       "      <td>thanosql-dataset/mnist_data/test/2150.jpg</td>\n",
       "      <td>2150.jpg</td>\n",
       "      <td>8</td>\n",
       "      <td>[0.76504844, 0.8176137, 0.88861257, 1.7853947,...</td>\n",
       "    </tr>\n",
       "    <tr>\n",
       "      <th>199</th>\n",
       "      <td>thanosql-dataset/mnist_data/test/5087.jpg</td>\n",
       "      <td>5087.jpg</td>\n",
       "      <td>8</td>\n",
       "      <td>[0.35848457, 0.73912364, 0.64874154, 1.3623744...</td>\n",
       "    </tr>\n",
       "  </tbody>\n",
       "</table>\n",
       "<p>200 rows × 4 columns</p>\n",
       "</div>"
      ],
      "text/plain": [
       "                                    image_path  filename  label  \\\n",
       "0    thanosql-dataset/mnist_data/test/5099.jpg  5099.jpg      6   \n",
       "1    thanosql-dataset/mnist_data/test/9239.jpg  9239.jpg      6   \n",
       "2    thanosql-dataset/mnist_data/test/2242.jpg  2242.jpg      6   \n",
       "3    thanosql-dataset/mnist_data/test/3451.jpg  3451.jpg      6   \n",
       "4    thanosql-dataset/mnist_data/test/2631.jpg  2631.jpg      6   \n",
       "..                                         ...       ...    ...   \n",
       "195  thanosql-dataset/mnist_data/test/8045.jpg  8045.jpg      8   \n",
       "196  thanosql-dataset/mnist_data/test/9591.jpg  9591.jpg      8   \n",
       "197  thanosql-dataset/mnist_data/test/7425.jpg  7425.jpg      8   \n",
       "198  thanosql-dataset/mnist_data/test/2150.jpg  2150.jpg      8   \n",
       "199  thanosql-dataset/mnist_data/test/5087.jpg  5087.jpg      8   \n",
       "\n",
       "                                        convert_result  \n",
       "0    [0.6004971, 1.356544, 0.5917841, 1.4965276, 0....  \n",
       "1    [0.5917816, 0.5604829, 0.71093637, 0.7439931, ...  \n",
       "2    [0.501104, 0.92481977, 0.803071, 1.0276031, 0....  \n",
       "3    [0.5152817, 0.86587745, 0.46264905, 0.9430346,...  \n",
       "4    [0.7324318, 1.0288409, 0.5339064, 1.3720758, 0...  \n",
       "..                                                 ...  \n",
       "195  [0.44267064, 0.7129019, 0.5213964, 1.2292978, ...  \n",
       "196  [0.2763853, 0.5670233, 0.7088003, 0.7695681, 0...  \n",
       "197  [0.40218243, 0.50516707, 0.97546273, 0.9091700...  \n",
       "198  [0.76504844, 0.8176137, 0.88861257, 1.7853947,...  \n",
       "199  [0.35848457, 0.73912364, 0.64874154, 1.3623744...  \n",
       "\n",
       "[200 rows x 4 columns]"
      ]
     },
     "execution_count": 7,
     "metadata": {},
     "output_type": "execute_result"
    }
   ],
   "source": [
    "%%thanosql\n",
    "CONVERT USING my_image_search_model\n",
    "OPTIONS (\n",
    "    table_name= \"mnist_test\",\n",
    "    image_col=\"image_path\",\n",
    "    column_name=\"convert_result\"\n",
    "    )\n",
    "AS \n",
    "SELECT * \n",
    "FROM mnist_test"
   ]
  },
  {
   "cell_type": "markdown",
   "id": "ccb189a3",
   "metadata": {},
   "source": [
    "<div class=\"admonition note\">\n",
    "    <h4 class=\"admonition-title\">Query Details</h4>\n",
    "    <ul>\n",
    "        <li>\"<strong>CONVERT USING</strong>\" uses <code>my_image_search_model</code> as an algorithm for image vectorizaion.   </li>\n",
    "        <li>\"<strong>OPTIONS</strong>\" specifies the options to be used for image vectorization.\n",
    "        <ul>\n",
    "            <li>\"table_name\": the table name to be stored in the ThanoSQL workspace database. </li>\n",
    "            <li>\"image_col\": the name of the column containing the image path. (default: \"image_path\")</li>\n",
    "            <li>\"column_name\": defines the column name that contains the vectorized results. (default: \"convert_result\")</li>\n",
    "        </ul>\n",
    "        </li>\n",
    "    </ul>\n",
    "</div>"
   ]
  },
  {
   "cell_type": "markdown",
   "id": "1c16f866-b5b4-4540-a848-30d0cd459165",
   "metadata": {},
   "source": [
    "## __3. Search for Similar Images Using Image Quantization Models__\n",
    "\n",
    "This step uses the <mark style=\"background-color:#E9D7FD\">my_image_search_model</mark> image vectorization model and the test table to search for images similar to the \"923.jpg\" image(handwritten 8).\n",
    "\n",
    "<a href=\"https://docs.thanosql.ai/img/thanosql_search/search_image_by_image/simclr_img8.png\">\n",
    "    <img alt=\"IMAGE\" src=\"https://docs.thanosql.ai/img/thanosql_search/search_image_by_image/simclr_img8.png\" style=\"width:100px\">\n",
    "</a>\n",
    "\n",
    "<p style=\"text-align:center\">923.jpg Image File </p>"
   ]
  },
  {
   "cell_type": "code",
   "execution_count": 8,
   "id": "61e0de08-b6a7-4087-8691-230243aab016",
   "metadata": {},
   "outputs": [
    {
     "data": {
      "text/html": [
       "<div>\n",
       "<style scoped>\n",
       "    .dataframe tbody tr th:only-of-type {\n",
       "        vertical-align: middle;\n",
       "    }\n",
       "\n",
       "    .dataframe tbody tr th {\n",
       "        vertical-align: top;\n",
       "    }\n",
       "\n",
       "    .dataframe thead th {\n",
       "        text-align: right;\n",
       "    }\n",
       "</style>\n",
       "<table border=\"1\" class=\"dataframe\">\n",
       "  <thead>\n",
       "    <tr style=\"text-align: right;\">\n",
       "      <th></th>\n",
       "      <th>image_path</th>\n",
       "      <th>filename</th>\n",
       "      <th>label</th>\n",
       "      <th>convert_result</th>\n",
       "      <th>search_result</th>\n",
       "    </tr>\n",
       "  </thead>\n",
       "  <tbody>\n",
       "    <tr>\n",
       "      <th>0</th>\n",
       "      <td>thanosql-dataset/mnist_data/test/5099.jpg</td>\n",
       "      <td>5099.jpg</td>\n",
       "      <td>6</td>\n",
       "      <td>[0.6004971, 1.356544, 0.5917841, 1.4965276, 0....</td>\n",
       "      <td>0.969948</td>\n",
       "    </tr>\n",
       "    <tr>\n",
       "      <th>1</th>\n",
       "      <td>thanosql-dataset/mnist_data/test/9239.jpg</td>\n",
       "      <td>9239.jpg</td>\n",
       "      <td>6</td>\n",
       "      <td>[0.5917816, 0.5604829, 0.71093637, 0.7439931, ...</td>\n",
       "      <td>0.949437</td>\n",
       "    </tr>\n",
       "    <tr>\n",
       "      <th>2</th>\n",
       "      <td>thanosql-dataset/mnist_data/test/2242.jpg</td>\n",
       "      <td>2242.jpg</td>\n",
       "      <td>6</td>\n",
       "      <td>[0.501104, 0.92481977, 0.803071, 1.0276031, 0....</td>\n",
       "      <td>0.960603</td>\n",
       "    </tr>\n",
       "    <tr>\n",
       "      <th>3</th>\n",
       "      <td>thanosql-dataset/mnist_data/test/3451.jpg</td>\n",
       "      <td>3451.jpg</td>\n",
       "      <td>6</td>\n",
       "      <td>[0.5152817, 0.86587745, 0.46264905, 0.9430346,...</td>\n",
       "      <td>0.959397</td>\n",
       "    </tr>\n",
       "    <tr>\n",
       "      <th>4</th>\n",
       "      <td>thanosql-dataset/mnist_data/test/2631.jpg</td>\n",
       "      <td>2631.jpg</td>\n",
       "      <td>6</td>\n",
       "      <td>[0.7324318, 1.0288409, 0.5339064, 1.3720758, 0...</td>\n",
       "      <td>0.962196</td>\n",
       "    </tr>\n",
       "    <tr>\n",
       "      <th>...</th>\n",
       "      <td>...</td>\n",
       "      <td>...</td>\n",
       "      <td>...</td>\n",
       "      <td>...</td>\n",
       "      <td>...</td>\n",
       "    </tr>\n",
       "    <tr>\n",
       "      <th>195</th>\n",
       "      <td>thanosql-dataset/mnist_data/test/8045.jpg</td>\n",
       "      <td>8045.jpg</td>\n",
       "      <td>8</td>\n",
       "      <td>[0.44267064, 0.7129019, 0.5213964, 1.2292978, ...</td>\n",
       "      <td>0.963523</td>\n",
       "    </tr>\n",
       "    <tr>\n",
       "      <th>196</th>\n",
       "      <td>thanosql-dataset/mnist_data/test/9591.jpg</td>\n",
       "      <td>9591.jpg</td>\n",
       "      <td>8</td>\n",
       "      <td>[0.2763853, 0.5670233, 0.7088003, 0.7695681, 0...</td>\n",
       "      <td>0.951193</td>\n",
       "    </tr>\n",
       "    <tr>\n",
       "      <th>197</th>\n",
       "      <td>thanosql-dataset/mnist_data/test/7425.jpg</td>\n",
       "      <td>7425.jpg</td>\n",
       "      <td>8</td>\n",
       "      <td>[0.40218243, 0.50516707, 0.97546273, 0.9091700...</td>\n",
       "      <td>0.956088</td>\n",
       "    </tr>\n",
       "    <tr>\n",
       "      <th>198</th>\n",
       "      <td>thanosql-dataset/mnist_data/test/2150.jpg</td>\n",
       "      <td>2150.jpg</td>\n",
       "      <td>8</td>\n",
       "      <td>[0.76504844, 0.8176137, 0.88861257, 1.7853947,...</td>\n",
       "      <td>0.968032</td>\n",
       "    </tr>\n",
       "    <tr>\n",
       "      <th>199</th>\n",
       "      <td>thanosql-dataset/mnist_data/test/5087.jpg</td>\n",
       "      <td>5087.jpg</td>\n",
       "      <td>8</td>\n",
       "      <td>[0.35848457, 0.73912364, 0.64874154, 1.3623744...</td>\n",
       "      <td>0.975810</td>\n",
       "    </tr>\n",
       "  </tbody>\n",
       "</table>\n",
       "<p>200 rows × 5 columns</p>\n",
       "</div>"
      ],
      "text/plain": [
       "                                    image_path  filename  label  \\\n",
       "0    thanosql-dataset/mnist_data/test/5099.jpg  5099.jpg      6   \n",
       "1    thanosql-dataset/mnist_data/test/9239.jpg  9239.jpg      6   \n",
       "2    thanosql-dataset/mnist_data/test/2242.jpg  2242.jpg      6   \n",
       "3    thanosql-dataset/mnist_data/test/3451.jpg  3451.jpg      6   \n",
       "4    thanosql-dataset/mnist_data/test/2631.jpg  2631.jpg      6   \n",
       "..                                         ...       ...    ...   \n",
       "195  thanosql-dataset/mnist_data/test/8045.jpg  8045.jpg      8   \n",
       "196  thanosql-dataset/mnist_data/test/9591.jpg  9591.jpg      8   \n",
       "197  thanosql-dataset/mnist_data/test/7425.jpg  7425.jpg      8   \n",
       "198  thanosql-dataset/mnist_data/test/2150.jpg  2150.jpg      8   \n",
       "199  thanosql-dataset/mnist_data/test/5087.jpg  5087.jpg      8   \n",
       "\n",
       "                                        convert_result  search_result  \n",
       "0    [0.6004971, 1.356544, 0.5917841, 1.4965276, 0....       0.969948  \n",
       "1    [0.5917816, 0.5604829, 0.71093637, 0.7439931, ...       0.949437  \n",
       "2    [0.501104, 0.92481977, 0.803071, 1.0276031, 0....       0.960603  \n",
       "3    [0.5152817, 0.86587745, 0.46264905, 0.9430346,...       0.959397  \n",
       "4    [0.7324318, 1.0288409, 0.5339064, 1.3720758, 0...       0.962196  \n",
       "..                                                 ...            ...  \n",
       "195  [0.44267064, 0.7129019, 0.5213964, 1.2292978, ...       0.963523  \n",
       "196  [0.2763853, 0.5670233, 0.7088003, 0.7695681, 0...       0.951193  \n",
       "197  [0.40218243, 0.50516707, 0.97546273, 0.9091700...       0.956088  \n",
       "198  [0.76504844, 0.8176137, 0.88861257, 1.7853947,...       0.968032  \n",
       "199  [0.35848457, 0.73912364, 0.64874154, 1.3623744...       0.975810  \n",
       "\n",
       "[200 rows x 5 columns]"
      ]
     },
     "execution_count": 8,
     "metadata": {},
     "output_type": "execute_result"
    }
   ],
   "source": [
    "%%thanosql\n",
    "SEARCH IMAGE image='thanosql-dataset/mnist_data/test/923.jpg' \n",
    "USING my_image_search_model \n",
    "OPTIONS (\n",
    "    emb_col=\"convert_result\",\n",
    "    column_name=\"search_result\"\n",
    "    )\n",
    "AS\n",
    "SELECT * \n",
    "FROM mnist_test"
   ]
  },
  {
   "cell_type": "markdown",
   "id": "9871fe36",
   "metadata": {},
   "source": [
    "<div class=\"admonition note\">\n",
    "    <h4 class=\"admonition-title\">Query Details</h4>\n",
    "    <ul>\n",
    "        <li>\"<strong>SEARCH IMAGE [image|text|audio|video]</strong>\" defines the image|text|audio|video file type to search for.</li>\n",
    "        <li>\"<strong>USING</strong>\" defines the model used for image vectorization.</li>\n",
    "        <li>\"<strong>OPTIONS</strong>\" specifies the options to be used for image searching.\n",
    "        <ul>\n",
    "            <li>\"emb_col\": the column that contains the vectorized results. </li>\n",
    "            <li>\"column_name\": defines the name of the column that contains the search results. (default: \"search_result\")</li>\n",
    "        </ul>\n",
    "        </li>\n",
    "        <li>\"<strong>AS</strong>\" defines the embedding table to be used for searches. In this example, the <code>mnist_test</code> table is used. </li>\n",
    "    </ul>\n",
    "</div>"
   ]
  },
  {
   "cell_type": "markdown",
   "id": "12953f08",
   "metadata": {},
   "source": [
    "To output the \"__SEARCH__\" result using the \"__PRINT__\" clause to output the top four most similar images, run the following query. Though we've only done a minimal amount of training, you can see that images similar to 8 are returned."
   ]
  },
  {
   "cell_type": "code",
   "execution_count": 9,
   "id": "77af4961-def3-4884-bea2-b8e917d9ae87",
   "metadata": {},
   "outputs": [
    {
     "name": "stdout",
     "output_type": "stream",
     "text": [
      "/home/jovyan/thanosql-dataset/mnist_data/test/923.jpg\n"
     ]
    },
    {
     "data": {
      "image/jpeg": "[encoded data removed]",
      "text/plain": [
       "<IPython.core.display.Image object>"
      ]
     },
     "metadata": {
      "image/jpeg": {
       "height": 240,
       "width": 240
      }
     },
     "output_type": "display_data"
    },
    {
     "name": "stdout",
     "output_type": "stream",
     "text": [
      "/home/jovyan/thanosql-dataset/mnist_data/test/5087.jpg\n"
     ]
    },
    {
     "data": {
      "image/jpeg": "[encoded data removed]",
      "text/plain": [
       "<IPython.core.display.Image object>"
      ]
     },
     "metadata": {
      "image/jpeg": {
       "height": 240,
       "width": 240
      }
     },
     "output_type": "display_data"
    },
    {
     "name": "stdout",
     "output_type": "stream",
     "text": [
      "/home/jovyan/thanosql-dataset/mnist_data/test/7645.jpg\n"
     ]
    },
    {
     "data": {
      "image/jpeg": "[encoded data removed]",
      "text/plain": [
       "<IPython.core.display.Image object>"
      ]
     },
     "metadata": {
      "image/jpeg": {
       "height": 240,
       "width": 240
      }
     },
     "output_type": "display_data"
    },
    {
     "name": "stdout",
     "output_type": "stream",
     "text": [
      "/home/jovyan/thanosql-dataset/mnist_data/test/6618.jpg\n"
     ]
    },
    {
     "data": {
      "image/jpeg": "[encoded data removed]",
      "text/plain": [
       "<IPython.core.display.Image object>"
      ]
     },
     "metadata": {
      "image/jpeg": {
       "height": 240,
       "width": 240
      }
     },
     "output_type": "display_data"
    }
   ],
   "source": [
    "%%thanosql\n",
    "PRINT IMAGE \n",
    "AS (\n",
    "    SELECT image_path, search_result \n",
    "    FROM (\n",
    "        SEARCH IMAGE image='thanosql-dataset/mnist_data/test/923.jpg' \n",
    "        USING my_image_search_model \n",
    "        OPTIONS (\n",
    "            emb_col=\"convert_result\",\n",
    "            column_name=\"search_result\"\n",
    "            )\n",
    "        AS \n",
    "        SELECT * \n",
    "        FROM mnist_test\n",
    "        )\n",
    "    ORDER BY search_result DESC \n",
    "    LIMIT 4\n",
    "    )"
   ]
  },
  {
   "cell_type": "markdown",
   "id": "517479e8",
   "metadata": {},
   "source": [
    "<div class=\"admonition danger\">\n",
    "    <h4 class=\"admonition-title\">Note</h4>\n",
    "    <p>The training options of the algorithm recognize the image regardless of the image's left-right inversion and color differences. This is because a dog's picture should be recognized as a dog even if it is flipped or has a color difference. If the color feature is important, such as clothing images, or if vertical and horizontal inversions are important, such as numbers, the training options can be changed.</p>\n",
    "</div>"
   ]
  },
  {
   "cell_type": "markdown",
   "id": "5389cb4a",
   "metadata": {},
   "source": [
    "## __4. In Conclusion__\n",
    "\n",
    "In this tutorial, we used the `MNIST` handwriting dataset to vectorize images and perform image search. As this is a beginner-level tutorial, we focused on the process rather than accuracy. The model's accuracy can be improved by adding precise tuning and small amounts of labeling to each dataset.\n",
    "\n",
    "* [How to Upload My Data to the ThanoSQL Workspace](https://docs.thanosql.ai/en/getting_started/data_upload/)\n",
    "* [How to Create a Table Using My Data](https://docs.thanosql.ai/en/how-to_guides/ThanoSQL_query/COPY_SYNTAX/)\n",
    "* [How to Upload My Model to the ThanoSQL Workspace](https://docs.thanosql.ai/en/how-to_guides/ThanoSQL_query/UPLOAD_SYNTAX/)\n",
    "\n",
    "<div class=\"admonition tip\">\n",
    "    <h4 class=\"admonition-title\">Inquiries about deploying a model for your own service</h4>\n",
    "    <p>If you have any difficulties creating your own model using ThanoSQL or applying it to your services, please feel free to contact us below😊</p>\n",
    "    <p>For inquiries regarding building an image similarity search model: contact@smartmind.team</p>\n",
    "</div>"
   ]
  }
 ],
 "metadata": {
  "kernelspec": {
   "display_name": "Python 3.10.8 64-bit (microsoft store)",
   "language": "python",
   "name": "python3"
  },
  "language_info": {
   "codemirror_mode": {
    "name": "ipython",
    "version": 3
   },
   "file_extension": ".py",
   "mimetype": "text/x-python",
   "name": "python",
   "nbconvert_exporter": "python",
   "pygments_lexer": "ipython3",
   "version": "3.10.8"
  },
  "vscode": {
   "interpreter": {
    "hash": "54a1ec72395a4a5a649013bb47cb6c1a711fb4b3d33a07524a09f31d6d2ee0ec"
   }
  }
 },
 "nbformat": 4,
 "nbformat_minor": 5
}
