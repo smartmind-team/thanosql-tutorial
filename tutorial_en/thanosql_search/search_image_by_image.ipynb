{
 "cells": [
  {
   "cell_type": "markdown",
   "id": "e43f86f8-a77c-4f93-a194-5c8dbd954871",
   "metadata": {},
   "source": [
    "# __Search Image by Image__"
   ]
  },
  {
   "cell_type": "markdown",
   "id": "d01de980",
   "metadata": {},
   "source": [
    "- Tutorial Difficulty: ★☆☆☆☆\n",
    "- 7 min read\n",
    "- Languages: [SQL](https://en.wikipedia.org/wiki/SQL) (100%)\n",
    "- File location: tutorial_en/thanosql_search/search_image_by_image.ipynb\n",
    "- References: [Introduction of MNIST DataSet](https://en.wikipedia.org/wiki/MNIST_database), [A Simple Framework for Contrastive Learning of Visual Representations](https://arxiv.org/abs/2002.05709)"
   ]
  },
  {
   "cell_type": "markdown",
   "id": "b5e19c02",
   "metadata": {},
   "source": [
    "## Tutorial Introduction\n",
    "\n",
    "<div class=\"admonition note\">\n",
    "    <h4 class=\"admonition-title\">Understanding Image Vectorization</h4>\n",
    "    <p>Images(height x width x channel [RGB] x color intensity) are meaningless if the information for each pixel is randomly generated. In other words, an image can only be recognized as an image if each pixel has a specific pattern associated with the surrounding pixels. With this information, it can be inferred that an image can be represented on a low-dimensional feature vector. Recently, studies using machine learning to vectorize and express each image in a low-dimensional space based on similarity have been conducted.</p>\n",
    "</div>\n",
    "\n",
    "There are several ways to define the similarity of an image. It can refer to the colors being similar, the objects in the image being similar, or the context of the image being similar (ex. a handwritten number). Although it is difficult to give an exact definition of an image similarity, machine learning learns and vectorizes these general features.\n",
    "\n",
    "ThanoSQL uses the [Self-Supervised Learning Model](https://en.wikipedia.org/wiki/Self-supervised_learning) to input images into the database and retrieve similar images from it. When you upload images to the ThanoSQL's database, a machine learning algorithm places similar images together while placing non-similar images apart. Image features are derived from an unlabeled dataset and fine-tuned with a small amount of labeled data. Then, it can be used for classification or regression tasks.\n",
    "\n",
    "Furthermore, ThanoSQL uses machine learning algorithms to vectorize datasets. The vectorized data is stored as a database column in the image table and is used to calculate the similarity(distance).\n",
    "\n",
    "__The following are examples and applications of the ThanoSQL similar image search algorithm.__\n",
    "\n",
    "- Input your favorite image and have similar artworks searched for and recommended to you.\n",
    "- Find similar images within an album containing thousands of photos.\n",
    "- Store your images in the ThanoSQL's database and create your own search engine or machine learning model utilizing the ThanoSQL AutoML regression/classification model.\n",
    " \n",
    "<div class=\"admonition note\">\n",
    "    <h4 class=\"admonition-title\">In This Tutorial</h4>\n",
    "    <p>👉 This tutorial will use the MNIST handwriting dataset. Each image consists of a hand written number between 0 and 9 and is correctly labeled. The MNIST handwriting dataset consists of 1,000 train images and 200 test images.</p>\n",
    "</div>\n",
    "    \n",
    "Create a model that uses ThanoSQL to input handwriting data and retrieves similar images from the database.\n",
    "\n",
    "[![IMAGE](https://docs.thanosql.ai/img/thanosql_search/search_image_by_image/simclr_img7.png \"MNIST data\") ](https://docs.thanosql.ai/img/thanosql_search/search_image_by_image/simclr_img7.png)"
   ]
  },
  {
   "cell_type": "markdown",
   "id": "5fd38a02-06a5-405b-82e0-b074a3dbf589",
   "metadata": {},
   "source": [
    "## __0. Prepare Dataset__\n",
    "\n",
    "As mentioned in the [ThanoSQL Workspace](https://docs.thanosql.ai/en/getting_started/paas/workspace/lab/), you must create an API token and run the query below to execute the query of ThanoSQL. "
   ]
  },
  {
   "cell_type": "code",
   "execution_count": null,
   "id": "8ac3be35-fc75-432f-8946-2cb57fd56bc2",
   "metadata": {
    "tags": []
   },
   "outputs": [],
   "source": [
    "%load_ext thanosql\n",
    "%thanosql API_TOKEN=<Issued_API_TOKEN>"
   ]
  },
  {
   "cell_type": "markdown",
   "id": "073a6182",
   "metadata": {},
   "source": [
    "### __Prepare Dataset__"
   ]
  },
  {
   "cell_type": "code",
   "execution_count": 2,
   "id": "e8b80b12",
   "metadata": {
    "execution": {
     "iopub.execute_input": "2023-01-25T08:05:23.106475Z",
     "iopub.status.busy": "2023-01-25T08:05:23.105907Z",
     "iopub.status.idle": "2023-01-25T08:05:27.089767Z",
     "shell.execute_reply": "2023-01-25T08:05:27.088834Z",
     "shell.execute_reply.started": "2023-01-25T08:05:23.106449Z"
    }
   },
   "outputs": [
    {
     "name": "stdout",
     "output_type": "stream",
     "text": [
      "Success\n"
     ]
    }
   ],
   "source": [
    "%%thanosql\n",
    "GET THANOSQL DATASET mnist_data\n",
    "OPTIONS (overwrite=True)"
   ]
  },
  {
   "cell_type": "markdown",
   "id": "1ec2d024",
   "metadata": {},
   "source": [
    "<div class=\"admonition note\">\n",
    "    <h4 class=\"admonition-title\">Query Details</h4>\n",
    "    <ul>\n",
    "        <li>\"<strong>GET THANOSQL DATASET</strong>\" downloads the specified dataset to the workspace.</li>\n",
    "        <li>\"<strong>OPTIONS</strong>\" specifies the option values to be used for the <strong>GET THANOSQL DATASET</strong> clause.\n",
    "        <ul>\n",
    "            <li>\"overwrite\": determines whether to overwrite a dataset if it already exists. If set as True, the old dataset is replaced with the new dataset (bool, optional, True|False, default: False)</li>\n",
    "        </ul>\n",
    "        </li>\n",
    "    </ul>\n",
    "</div>"
   ]
  },
  {
   "cell_type": "code",
   "execution_count": 3,
   "id": "63661751-7e32-48f7-84fa-1dd205cc5d6d",
   "metadata": {
    "execution": {
     "iopub.execute_input": "2023-01-25T08:05:27.090732Z",
     "iopub.status.busy": "2023-01-25T08:05:27.090550Z",
     "iopub.status.idle": "2023-01-25T08:05:29.210681Z",
     "shell.execute_reply": "2023-01-25T08:05:29.209715Z",
     "shell.execute_reply.started": "2023-01-25T08:05:27.090716Z"
    }
   },
   "outputs": [
    {
     "name": "stdout",
     "output_type": "stream",
     "text": [
      "Success\n"
     ]
    }
   ],
   "source": [
    "%%thanosql\n",
    "COPY mnist_train \n",
    "OPTIONS (if_exists='replace')\n",
    "FROM 'thanosql-dataset/mnist_data/mnist_train.csv'"
   ]
  },
  {
   "cell_type": "code",
   "execution_count": 4,
   "id": "f65244d4-97bc-4464-aa8c-2d12a1f59435",
   "metadata": {
    "execution": {
     "iopub.execute_input": "2023-01-25T08:05:29.212092Z",
     "iopub.status.busy": "2023-01-25T08:05:29.211791Z",
     "iopub.status.idle": "2023-01-25T08:05:30.261670Z",
     "shell.execute_reply": "2023-01-25T08:05:30.260820Z",
     "shell.execute_reply.started": "2023-01-25T08:05:29.212066Z"
    }
   },
   "outputs": [
    {
     "name": "stdout",
     "output_type": "stream",
     "text": [
      "Success\n"
     ]
    }
   ],
   "source": [
    "%%thanosql\n",
    "COPY mnist_test \n",
    "OPTIONS (if_exists='replace')\n",
    "FROM 'thanosql-dataset/mnist_data/mnist_test.csv'"
   ]
  },
  {
   "cell_type": "markdown",
   "id": "d6845948",
   "metadata": {},
   "source": [
    "<div class=\"admonition note\">\n",
    "    <h4 class=\"admonition-title\">Query Details</h4>\n",
    "    <ul>\n",
    "        <li>\"<strong>COPY</strong>\" specifies the name of the dataset to be saved as a database table.</li>\n",
    "        <li>\"<strong>OPTIONS</strong>\" specifies the option values to be used for the <strong>COPY</strong> clause.\n",
    "        <ul>\n",
    "           <li>\"if_exists\": determines how the function should handle the case where the table already exists, it can either raise an error, append to the existing table, or replace the existing table (str, optional, 'fail'|'replace'|'append', default: 'fail')</li>\n",
    "        </ul>\n",
    "        </li>\n",
    "    </ul>\n",
    "</div>"
   ]
  },
  {
   "cell_type": "markdown",
   "id": "542deaf1-606f-49ea-9b6d-5721050ff2bf",
   "metadata": {
    "tags": []
   },
   "source": [
    "## __1. Check Dataset__\n",
    "\n",
    "To create a handwriting classification model, we use the __mnist_train__ table located in the ThanoSQL workspace database. Run the query below to check the contents of the table."
   ]
  },
  {
   "cell_type": "code",
   "execution_count": 5,
   "id": "242430e8-09f5-4f2c-9133-21015fc0acf8",
   "metadata": {
    "execution": {
     "iopub.execute_input": "2023-01-25T08:05:30.263310Z",
     "iopub.status.busy": "2023-01-25T08:05:30.263140Z",
     "iopub.status.idle": "2023-01-25T08:05:31.226807Z",
     "shell.execute_reply": "2023-01-25T08:05:31.226116Z",
     "shell.execute_reply.started": "2023-01-25T08:05:30.263294Z"
    }
   },
   "outputs": [
    {
     "data": {
      "text/html": [
       "<div>\n",
       "<style scoped>\n",
       "    .dataframe tbody tr th:only-of-type {\n",
       "        vertical-align: middle;\n",
       "    }\n",
       "\n",
       "    .dataframe tbody tr th {\n",
       "        vertical-align: top;\n",
       "    }\n",
       "\n",
       "    .dataframe thead th {\n",
       "        text-align: right;\n",
       "    }\n",
       "</style>\n",
       "<table border=\"1\" class=\"dataframe\">\n",
       "  <thead>\n",
       "    <tr style=\"text-align: right;\">\n",
       "      <th></th>\n",
       "      <th>image_path</th>\n",
       "      <th>filename</th>\n",
       "      <th>label</th>\n",
       "    </tr>\n",
       "  </thead>\n",
       "  <tbody>\n",
       "    <tr>\n",
       "      <th>0</th>\n",
       "      <td>thanosql-dataset/mnist_data/train/6782.jpg</td>\n",
       "      <td>6782.jpg</td>\n",
       "      <td>5</td>\n",
       "    </tr>\n",
       "    <tr>\n",
       "      <th>1</th>\n",
       "      <td>thanosql-dataset/mnist_data/train/1810.jpg</td>\n",
       "      <td>1810.jpg</td>\n",
       "      <td>5</td>\n",
       "    </tr>\n",
       "    <tr>\n",
       "      <th>2</th>\n",
       "      <td>thanosql-dataset/mnist_data/train/33617.jpg</td>\n",
       "      <td>33617.jpg</td>\n",
       "      <td>5</td>\n",
       "    </tr>\n",
       "    <tr>\n",
       "      <th>3</th>\n",
       "      <td>thanosql-dataset/mnist_data/train/27802.jpg</td>\n",
       "      <td>27802.jpg</td>\n",
       "      <td>5</td>\n",
       "    </tr>\n",
       "    <tr>\n",
       "      <th>4</th>\n",
       "      <td>thanosql-dataset/mnist_data/train/50677.jpg</td>\n",
       "      <td>50677.jpg</td>\n",
       "      <td>5</td>\n",
       "    </tr>\n",
       "  </tbody>\n",
       "</table>\n",
       "</div>"
      ],
      "text/plain": [
       "                                    image_path   filename  label\n",
       "0   thanosql-dataset/mnist_data/train/6782.jpg   6782.jpg      5\n",
       "1   thanosql-dataset/mnist_data/train/1810.jpg   1810.jpg      5\n",
       "2  thanosql-dataset/mnist_data/train/33617.jpg  33617.jpg      5\n",
       "3  thanosql-dataset/mnist_data/train/27802.jpg  27802.jpg      5\n",
       "4  thanosql-dataset/mnist_data/train/50677.jpg  50677.jpg      5"
      ]
     },
     "execution_count": 5,
     "metadata": {},
     "output_type": "execute_result"
    }
   ],
   "source": [
    "%%thanosql\n",
    "SELECT * \n",
    "FROM mnist_train \n",
    "LIMIT 5"
   ]
  },
  {
   "cell_type": "markdown",
   "id": "648a0843",
   "metadata": {},
   "source": [
    "<div class=\"admonition note\">\n",
    "    <h4 class=\"admonition-title\">Understanding the Data Table</h4>\n",
    "    <p>The <strong>mnist_train</strong> table contains the following information.</p>\n",
    "    <ul>\n",
    "        <li>image_path: image path</li>\n",
    "        <li>filename: file name</li>\n",
    "        <li>label: image label</li>\n",
    "    </ul>\n",
    "</div>"
   ]
  },
  {
   "cell_type": "markdown",
   "id": "2b4f3acf-f218-4d51-b671-7651632290ec",
   "metadata": {},
   "source": [
    "## __2. Build an Image Vectorization Model__\n",
    "\n",
    "\n",
    "To create an image vectorization model with the name __my_image_search_model__ using the __mnist_train__ table, run the following query.  \n",
    "(Estimated duration of query execution: 1 min)"
   ]
  },
  {
   "cell_type": "code",
   "execution_count": 6,
   "id": "3630f8f7-8229-49f5-ae32-51011e1e37c8",
   "metadata": {
    "execution": {
     "iopub.execute_input": "2023-01-25T08:05:31.227697Z",
     "iopub.status.busy": "2023-01-25T08:05:31.227531Z",
     "iopub.status.idle": "2023-01-25T08:05:40.525057Z",
     "shell.execute_reply": "2023-01-25T08:05:40.524308Z",
     "shell.execute_reply.started": "2023-01-25T08:05:31.227681Z"
    }
   },
   "outputs": [
    {
     "name": "stdout",
     "output_type": "stream",
     "text": [
      "Success\n"
     ]
    }
   ],
   "source": [
    "%%thanosql\n",
    "BUILD MODEL my_image_search_model\n",
    "USING SimCLR\n",
    "OPTIONS (\n",
    "    image_col='image_path',\n",
    "    max_epochs=1,\n",
    "    overwrite=True\n",
    "    )\n",
    "AS \n",
    "SELECT * \n",
    "FROM mnist_train"
   ]
  },
  {
   "cell_type": "markdown",
   "id": "1e173c0d",
   "metadata": {},
   "source": [
    "<div class=\"admonition note\">\n",
    "    <h4 class=\"admonition-title\">Query Details</h4>\n",
    "    <ul>\n",
    "        <li>\"<strong>BUILD MODEL</strong>\" creates and trains a model named <strong>my_image_search_model</strong>.</li>\n",
    "        <li>\"<strong>USING</strong>\" specifies <strong>SimCLR</strong> as the base model.</li>\n",
    "        <li>\"<strong>OPTIONS</strong>\" specifies the option values used to create a model.\n",
    "        <ul>\n",
    "            <li>\"image_col\": the name of the column containing the image path (str, default: 'image_path')</li>\n",
    "            <li>\"max_epochs\": number of times to train with the training dataset (int, optional, default: 5)</li>\n",
    "            <li>\"overwrite\": determines whether to overwrite a model if it already exists. If set as True, the old model is replaced with the new model (bool, optional, True|False, default: False)</li>\n",
    "        </ul>\n",
    "        </li>\n",
    "    </ul>\n",
    "</div>"
   ]
  },
  {
   "cell_type": "markdown",
   "id": "fa4b8b03",
   "metadata": {},
   "source": [
    "To vectorize the __mnist_test__ images run the following \"__CONVERT USING__\" query. The vectorized results are stored in a user-defined column(default: convert_result) in the __mnist_test__ table."
   ]
  },
  {
   "cell_type": "code",
   "execution_count": 7,
   "id": "0abffc4b-aec9-444a-9546-dce181190f08",
   "metadata": {
    "execution": {
     "iopub.execute_input": "2023-01-25T08:05:40.526007Z",
     "iopub.status.busy": "2023-01-25T08:05:40.525829Z",
     "iopub.status.idle": "2023-01-25T08:05:42.105622Z",
     "shell.execute_reply": "2023-01-25T08:05:42.105006Z",
     "shell.execute_reply.started": "2023-01-25T08:05:40.525990Z"
    }
   },
   "outputs": [
    {
     "data": {
      "text/html": [
       "<div>\n",
       "<style scoped>\n",
       "    .dataframe tbody tr th:only-of-type {\n",
       "        vertical-align: middle;\n",
       "    }\n",
       "\n",
       "    .dataframe tbody tr th {\n",
       "        vertical-align: top;\n",
       "    }\n",
       "\n",
       "    .dataframe thead th {\n",
       "        text-align: right;\n",
       "    }\n",
       "</style>\n",
       "<table border=\"1\" class=\"dataframe\">\n",
       "  <thead>\n",
       "    <tr style=\"text-align: right;\">\n",
       "      <th></th>\n",
       "      <th>image_path</th>\n",
       "      <th>filename</th>\n",
       "      <th>label</th>\n",
       "      <th>convert_result</th>\n",
       "    </tr>\n",
       "  </thead>\n",
       "  <tbody>\n",
       "    <tr>\n",
       "      <th>0</th>\n",
       "      <td>thanosql-dataset/mnist_data/test/5099.jpg</td>\n",
       "      <td>5099.jpg</td>\n",
       "      <td>6</td>\n",
       "      <td>[b'\\x96', b'\\xb0', b'\\xd3', b'&gt;', b'\\xc5', b'\\...</td>\n",
       "    </tr>\n",
       "    <tr>\n",
       "      <th>1</th>\n",
       "      <td>thanosql-dataset/mnist_data/test/9239.jpg</td>\n",
       "      <td>9239.jpg</td>\n",
       "      <td>6</td>\n",
       "      <td>[b'\\xde', b'*', b'p', b'&gt;', b'\\xb4', b'v', b'$...</td>\n",
       "    </tr>\n",
       "    <tr>\n",
       "      <th>2</th>\n",
       "      <td>thanosql-dataset/mnist_data/test/2242.jpg</td>\n",
       "      <td>2242.jpg</td>\n",
       "      <td>6</td>\n",
       "      <td>[b't', b'\\x8e', b'\\xa5', b'&gt;', b'*', b'\\x03', ...</td>\n",
       "    </tr>\n",
       "    <tr>\n",
       "      <th>3</th>\n",
       "      <td>thanosql-dataset/mnist_data/test/3451.jpg</td>\n",
       "      <td>3451.jpg</td>\n",
       "      <td>6</td>\n",
       "      <td>[b'\\x17', b'\\xbc', b'\\xc8', b'&gt;', b'*', b'\\xab...</td>\n",
       "    </tr>\n",
       "    <tr>\n",
       "      <th>4</th>\n",
       "      <td>thanosql-dataset/mnist_data/test/2631.jpg</td>\n",
       "      <td>2631.jpg</td>\n",
       "      <td>6</td>\n",
       "      <td>[b'H', b'o', b'\\x97', b'&gt;', b'\\xbf', b'L', b'\\...</td>\n",
       "    </tr>\n",
       "    <tr>\n",
       "      <th>...</th>\n",
       "      <td>...</td>\n",
       "      <td>...</td>\n",
       "      <td>...</td>\n",
       "      <td>...</td>\n",
       "    </tr>\n",
       "    <tr>\n",
       "      <th>195</th>\n",
       "      <td>thanosql-dataset/mnist_data/test/8045.jpg</td>\n",
       "      <td>8045.jpg</td>\n",
       "      <td>8</td>\n",
       "      <td>[b'\\xdd', b'\\x9f', b'\\x9b', b'&gt;', b'_', b'\\x04...</td>\n",
       "    </tr>\n",
       "    <tr>\n",
       "      <th>196</th>\n",
       "      <td>thanosql-dataset/mnist_data/test/9591.jpg</td>\n",
       "      <td>9591.jpg</td>\n",
       "      <td>8</td>\n",
       "      <td>[b'9', b'1', b'W', b'&gt;', b'*', b'\\x10', b'F', ...</td>\n",
       "    </tr>\n",
       "    <tr>\n",
       "      <th>197</th>\n",
       "      <td>thanosql-dataset/mnist_data/test/7425.jpg</td>\n",
       "      <td>7425.jpg</td>\n",
       "      <td>8</td>\n",
       "      <td>[b'\\xfb', b'\\x12', b'\\xa6', b'&gt;', b'\\x88', b'\\...</td>\n",
       "    </tr>\n",
       "    <tr>\n",
       "      <th>198</th>\n",
       "      <td>thanosql-dataset/mnist_data/test/2150.jpg</td>\n",
       "      <td>2150.jpg</td>\n",
       "      <td>8</td>\n",
       "      <td>[b'&lt;', b'\\x05', b'\\xeb', b'&gt;', b'\\xde', b'\\xbb...</td>\n",
       "    </tr>\n",
       "    <tr>\n",
       "      <th>199</th>\n",
       "      <td>thanosql-dataset/mnist_data/test/5087.jpg</td>\n",
       "      <td>5087.jpg</td>\n",
       "      <td>8</td>\n",
       "      <td>[b'\\x13', b'\\xc0', b'\\xf9', b'&gt;', b'\\xbc', b'M...</td>\n",
       "    </tr>\n",
       "  </tbody>\n",
       "</table>\n",
       "<p>200 rows × 4 columns</p>\n",
       "</div>"
      ],
      "text/plain": [
       "                                    image_path  filename  label  \\\n",
       "0    thanosql-dataset/mnist_data/test/5099.jpg  5099.jpg      6   \n",
       "1    thanosql-dataset/mnist_data/test/9239.jpg  9239.jpg      6   \n",
       "2    thanosql-dataset/mnist_data/test/2242.jpg  2242.jpg      6   \n",
       "3    thanosql-dataset/mnist_data/test/3451.jpg  3451.jpg      6   \n",
       "4    thanosql-dataset/mnist_data/test/2631.jpg  2631.jpg      6   \n",
       "..                                         ...       ...    ...   \n",
       "195  thanosql-dataset/mnist_data/test/8045.jpg  8045.jpg      8   \n",
       "196  thanosql-dataset/mnist_data/test/9591.jpg  9591.jpg      8   \n",
       "197  thanosql-dataset/mnist_data/test/7425.jpg  7425.jpg      8   \n",
       "198  thanosql-dataset/mnist_data/test/2150.jpg  2150.jpg      8   \n",
       "199  thanosql-dataset/mnist_data/test/5087.jpg  5087.jpg      8   \n",
       "\n",
       "                                        convert_result  \n",
       "0    [b'\\x96', b'\\xb0', b'\\xd3', b'>', b'\\xc5', b'\\...  \n",
       "1    [b'\\xde', b'*', b'p', b'>', b'\\xb4', b'v', b'$...  \n",
       "2    [b't', b'\\x8e', b'\\xa5', b'>', b'*', b'\\x03', ...  \n",
       "3    [b'\\x17', b'\\xbc', b'\\xc8', b'>', b'*', b'\\xab...  \n",
       "4    [b'H', b'o', b'\\x97', b'>', b'\\xbf', b'L', b'\\...  \n",
       "..                                                 ...  \n",
       "195  [b'\\xdd', b'\\x9f', b'\\x9b', b'>', b'_', b'\\x04...  \n",
       "196  [b'9', b'1', b'W', b'>', b'*', b'\\x10', b'F', ...  \n",
       "197  [b'\\xfb', b'\\x12', b'\\xa6', b'>', b'\\x88', b'\\...  \n",
       "198  [b'<', b'\\x05', b'\\xeb', b'>', b'\\xde', b'\\xbb...  \n",
       "199  [b'\\x13', b'\\xc0', b'\\xf9', b'>', b'\\xbc', b'M...  \n",
       "\n",
       "[200 rows x 4 columns]"
      ]
     },
     "execution_count": 7,
     "metadata": {},
     "output_type": "execute_result"
    }
   ],
   "source": [
    "%%thanosql\n",
    "CONVERT USING my_image_search_model\n",
    "OPTIONS (\n",
    "    table_name='mnist_test',\n",
    "    image_col='image_path',\n",
    "    result_col='convert_result'\n",
    "    )\n",
    "AS \n",
    "SELECT * \n",
    "FROM mnist_test"
   ]
  },
  {
   "cell_type": "markdown",
   "id": "ccb189a3",
   "metadata": {},
   "source": [
    "<div class=\"admonition note\">\n",
    "    <h4 class=\"admonition-title\">Query Details</h4>\n",
    "    <ul>\n",
    "        <li>\"<strong>CONVERT USING</strong>\" uses <strong>my_image_search_model</strong> as an algorithm for image vectorizaion.   </li>\n",
    "        <li>\"<strong>OPTIONS</strong>\" specifies the options to be used for image vectorization.\n",
    "        <ul>\n",
    "            <li>\"table_name\": the table name to be stored in the ThanoSQL workspace database. If a previously used table is specified, the existing table will be replaced by the new table with a 'convert_result' column. If not specified, the result dataframe will not be saved as a data table (str, optional)</li>\n",
    "            <li>\"image_col\": the name of the column containing the image path (str, default: 'image_path')</li>\n",
    "            <li>\"result_col\": defines the column name that contains the vectorized results (str, optional, default: 'convert_result')</li>\n",
    "        </ul>\n",
    "        </li>\n",
    "    </ul>\n",
    "</div>"
   ]
  },
  {
   "cell_type": "markdown",
   "id": "1c16f866-b5b4-4540-a848-30d0cd459165",
   "metadata": {},
   "source": [
    "## __3. Search for Similar Images Using Image Vectorization Models__\n",
    "\n",
    "This step uses the __my_image_search_model__ image vectorization model and the test table to search for images similar to the \"923.jpg\" image(handwritten 8).\n",
    "\n",
    "<a href=\"https://docs.thanosql.ai/img/thanosql_search/search_image_by_image/simclr_img8.png\">\n",
    "    <img alt=\"IMAGE\" src=\"https://docs.thanosql.ai/img/thanosql_search/search_image_by_image/simclr_img8.png\" style=\"width:100px\">\n",
    "</a>\n",
    "\n",
    "<p style=\"text-align:center\">923.jpg Image File </p>"
   ]
  },
  {
   "cell_type": "code",
   "execution_count": 8,
   "id": "61e0de08-b6a7-4087-8691-230243aab016",
   "metadata": {
    "execution": {
     "iopub.execute_input": "2023-01-25T08:05:42.106555Z",
     "iopub.status.busy": "2023-01-25T08:05:42.106380Z",
     "iopub.status.idle": "2023-01-25T08:05:43.398073Z",
     "shell.execute_reply": "2023-01-25T08:05:43.397375Z",
     "shell.execute_reply.started": "2023-01-25T08:05:42.106538Z"
    }
   },
   "outputs": [
    {
     "data": {
      "text/html": [
       "<div>\n",
       "<style scoped>\n",
       "    .dataframe tbody tr th:only-of-type {\n",
       "        vertical-align: middle;\n",
       "    }\n",
       "\n",
       "    .dataframe tbody tr th {\n",
       "        vertical-align: top;\n",
       "    }\n",
       "\n",
       "    .dataframe thead th {\n",
       "        text-align: right;\n",
       "    }\n",
       "</style>\n",
       "<table border=\"1\" class=\"dataframe\">\n",
       "  <thead>\n",
       "    <tr style=\"text-align: right;\">\n",
       "      <th></th>\n",
       "      <th>image_path</th>\n",
       "      <th>filename</th>\n",
       "      <th>label</th>\n",
       "      <th>convert_result</th>\n",
       "      <th>search_result</th>\n",
       "    </tr>\n",
       "  </thead>\n",
       "  <tbody>\n",
       "    <tr>\n",
       "      <th>0</th>\n",
       "      <td>thanosql-dataset/mnist_data/test/923.jpg</td>\n",
       "      <td>923.jpg</td>\n",
       "      <td>8</td>\n",
       "      <td>[b'%', b'\\xcd', b'\\x0b', b'?', b'\\x91', b'\\xd5...</td>\n",
       "      <td>1.000000</td>\n",
       "    </tr>\n",
       "    <tr>\n",
       "      <th>1</th>\n",
       "      <td>thanosql-dataset/mnist_data/test/5087.jpg</td>\n",
       "      <td>5087.jpg</td>\n",
       "      <td>8</td>\n",
       "      <td>[b'\\x13', b'\\xc0', b'\\xf9', b'&gt;', b'\\xbc', b'M...</td>\n",
       "      <td>0.964153</td>\n",
       "    </tr>\n",
       "    <tr>\n",
       "      <th>2</th>\n",
       "      <td>thanosql-dataset/mnist_data/test/7645.jpg</td>\n",
       "      <td>7645.jpg</td>\n",
       "      <td>8</td>\n",
       "      <td>[b'\\xb8', b'\\x96', b'\\x89', b'&gt;', b'&amp;', b'7', ...</td>\n",
       "      <td>0.961640</td>\n",
       "    </tr>\n",
       "    <tr>\n",
       "      <th>3</th>\n",
       "      <td>thanosql-dataset/mnist_data/test/6573.jpg</td>\n",
       "      <td>6573.jpg</td>\n",
       "      <td>8</td>\n",
       "      <td>[b'\\x8f', b'u', b'\\x8a', b'&gt;', b'$', b'\\x01', ...</td>\n",
       "      <td>0.959611</td>\n",
       "    </tr>\n",
       "    <tr>\n",
       "      <th>4</th>\n",
       "      <td>thanosql-dataset/mnist_data/test/2081.jpg</td>\n",
       "      <td>2081.jpg</td>\n",
       "      <td>0</td>\n",
       "      <td>[b'?', b'*', b'\\xd9', b'&gt;', b'\\x08', b'\\t', b'...</td>\n",
       "      <td>0.959191</td>\n",
       "    </tr>\n",
       "    <tr>\n",
       "      <th>...</th>\n",
       "      <td>...</td>\n",
       "      <td>...</td>\n",
       "      <td>...</td>\n",
       "      <td>...</td>\n",
       "      <td>...</td>\n",
       "    </tr>\n",
       "    <tr>\n",
       "      <th>195</th>\n",
       "      <td>thanosql-dataset/mnist_data/test/2220.jpg</td>\n",
       "      <td>2220.jpg</td>\n",
       "      <td>4</td>\n",
       "      <td>[b'r', b'\\xe5', b'V', b'&gt;', b'\\x9a', b'\\xc4', ...</td>\n",
       "      <td>0.894966</td>\n",
       "    </tr>\n",
       "    <tr>\n",
       "      <th>196</th>\n",
       "      <td>thanosql-dataset/mnist_data/test/2938.jpg</td>\n",
       "      <td>2938.jpg</td>\n",
       "      <td>1</td>\n",
       "      <td>[b'$', b'\\x18', b'\\x97', b'&gt;', b'\\xa0', b'\\x00...</td>\n",
       "      <td>0.894453</td>\n",
       "    </tr>\n",
       "    <tr>\n",
       "      <th>197</th>\n",
       "      <td>thanosql-dataset/mnist_data/test/5864.jpg</td>\n",
       "      <td>5864.jpg</td>\n",
       "      <td>1</td>\n",
       "      <td>[b'\\x8a', b'\\x9f', b'\\x93', b'&gt;', b'\\xad', b'k...</td>\n",
       "      <td>0.894136</td>\n",
       "    </tr>\n",
       "    <tr>\n",
       "      <th>198</th>\n",
       "      <td>thanosql-dataset/mnist_data/test/3684.jpg</td>\n",
       "      <td>3684.jpg</td>\n",
       "      <td>3</td>\n",
       "      <td>[b'p', b'\\x0b', b'.', b'&gt;', b'\\x91', b'\\x8d', ...</td>\n",
       "      <td>0.893319</td>\n",
       "    </tr>\n",
       "    <tr>\n",
       "      <th>199</th>\n",
       "      <td>thanosql-dataset/mnist_data/test/7176.jpg</td>\n",
       "      <td>7176.jpg</td>\n",
       "      <td>1</td>\n",
       "      <td>[b'\\x97', b'x', b'\\x8d', b'&gt;', b'\\x18', b'\\xb9...</td>\n",
       "      <td>0.888958</td>\n",
       "    </tr>\n",
       "  </tbody>\n",
       "</table>\n",
       "<p>200 rows × 5 columns</p>\n",
       "</div>"
      ],
      "text/plain": [
       "                                    image_path  filename  label  \\\n",
       "0     thanosql-dataset/mnist_data/test/923.jpg   923.jpg      8   \n",
       "1    thanosql-dataset/mnist_data/test/5087.jpg  5087.jpg      8   \n",
       "2    thanosql-dataset/mnist_data/test/7645.jpg  7645.jpg      8   \n",
       "3    thanosql-dataset/mnist_data/test/6573.jpg  6573.jpg      8   \n",
       "4    thanosql-dataset/mnist_data/test/2081.jpg  2081.jpg      0   \n",
       "..                                         ...       ...    ...   \n",
       "195  thanosql-dataset/mnist_data/test/2220.jpg  2220.jpg      4   \n",
       "196  thanosql-dataset/mnist_data/test/2938.jpg  2938.jpg      1   \n",
       "197  thanosql-dataset/mnist_data/test/5864.jpg  5864.jpg      1   \n",
       "198  thanosql-dataset/mnist_data/test/3684.jpg  3684.jpg      3   \n",
       "199  thanosql-dataset/mnist_data/test/7176.jpg  7176.jpg      1   \n",
       "\n",
       "                                        convert_result  search_result  \n",
       "0    [b'%', b'\\xcd', b'\\x0b', b'?', b'\\x91', b'\\xd5...       1.000000  \n",
       "1    [b'\\x13', b'\\xc0', b'\\xf9', b'>', b'\\xbc', b'M...       0.964153  \n",
       "2    [b'\\xb8', b'\\x96', b'\\x89', b'>', b'&', b'7', ...       0.961640  \n",
       "3    [b'\\x8f', b'u', b'\\x8a', b'>', b'$', b'\\x01', ...       0.959611  \n",
       "4    [b'?', b'*', b'\\xd9', b'>', b'\\x08', b'\\t', b'...       0.959191  \n",
       "..                                                 ...            ...  \n",
       "195  [b'r', b'\\xe5', b'V', b'>', b'\\x9a', b'\\xc4', ...       0.894966  \n",
       "196  [b'$', b'\\x18', b'\\x97', b'>', b'\\xa0', b'\\x00...       0.894453  \n",
       "197  [b'\\x8a', b'\\x9f', b'\\x93', b'>', b'\\xad', b'k...       0.894136  \n",
       "198  [b'p', b'\\x0b', b'.', b'>', b'\\x91', b'\\x8d', ...       0.893319  \n",
       "199  [b'\\x97', b'x', b'\\x8d', b'>', b'\\x18', b'\\xb9...       0.888958  \n",
       "\n",
       "[200 rows x 5 columns]"
      ]
     },
     "execution_count": 8,
     "metadata": {},
     "output_type": "execute_result"
    }
   ],
   "source": [
    "%%thanosql\n",
    "SEARCH IMAGE\n",
    "USING my_image_search_model\n",
    "OPTIONS (\n",
    "    search_by='image',\n",
    "    search_input='thanosql-dataset/mnist_data/test/923.jpg',\n",
    "    emb_col='convert_result',\n",
    "    result_col='search_result'\n",
    "    )\n",
    "AS\n",
    "SELECT * \n",
    "FROM mnist_test"
   ]
  },
  {
   "cell_type": "markdown",
   "id": "9871fe36",
   "metadata": {},
   "source": [
    "<div class=\"admonition note\">\n",
    "    <h4 class=\"admonition-title\">Query Details</h4>\n",
    "    <ul>\n",
    "        <li>\"<strong>SEARCH IMAGE [image|text|audio|video]</strong>\" defines the image|text|audio|video file type to search for.</li>\n",
    "        <li>\"<strong>USING</strong>\" defines the model used for image vectorization.</li>\n",
    "        <li>\"<strong>OPTIONS</strong>\" specifies the options to be used for image searching.\n",
    "        <ul>\n",
    "            <li>\"search_by\": defines the image|text|audio|video type to be used for the search (str)</li>\n",
    "            <li>\"search_input\": defines the input to be used for the search (str)</li>\n",
    "            <li>\"emb_col\": the column that contains the vectorized results (str)</li>\n",
    "            <li>\"result_col\": defines the name of the column that contains the search results (str, optional, default: 'search_result')</li>\n",
    "        </ul>\n",
    "        </li>\n",
    "        <li>\"<strong>AS</strong>\" defines the embedding table to be used for searches. In this example, the <strong>mnist_test</strong> table is used. </li>\n",
    "    </ul>\n",
    "</div>"
   ]
  },
  {
   "cell_type": "markdown",
   "id": "12953f08",
   "metadata": {},
   "source": [
    "To output the \"__SEARCH__\" result using the \"__PRINT__\" clause to output the top four most similar images, run the following query. Though we've only done a minimal amount of training, you can see that images similar to 8 are returned."
   ]
  },
  {
   "cell_type": "code",
   "execution_count": 9,
   "id": "77af4961-def3-4884-bea2-b8e917d9ae87",
   "metadata": {
    "execution": {
     "iopub.execute_input": "2023-01-25T08:05:43.399002Z",
     "iopub.status.busy": "2023-01-25T08:05:43.398812Z",
     "iopub.status.idle": "2023-01-25T08:05:44.876155Z",
     "shell.execute_reply": "2023-01-25T08:05:44.875443Z",
     "shell.execute_reply.started": "2023-01-25T08:05:43.398983Z"
    }
   },
   "outputs": [
    {
     "name": "stdout",
     "output_type": "stream",
     "text": [
      "/home/jovyan/thanosql-dataset/mnist_data/test/923.jpg\n"
     ]
    },
    {
     "data": {
      "image/jpeg": "[encoded data removed]",
      "text/plain": [
       "<IPython.core.display.Image object>"
      ]
     },
     "metadata": {
      "image/jpeg": {
       "height": 240,
       "width": 240
      }
     },
     "output_type": "display_data"
    },
    {
     "name": "stdout",
     "output_type": "stream",
     "text": [
      "/home/jovyan/thanosql-dataset/mnist_data/test/5087.jpg\n"
     ]
    },
    {
     "data": {
      "image/jpeg": "[encoded data removed]",
      "text/plain": [
       "<IPython.core.display.Image object>"
      ]
     },
     "metadata": {
      "image/jpeg": {
       "height": 240,
       "width": 240
      }
     },
     "output_type": "display_data"
    },
    {
     "name": "stdout",
     "output_type": "stream",
     "text": [
      "/home/jovyan/thanosql-dataset/mnist_data/test/7645.jpg\n"
     ]
    },
    {
     "data": {
      "image/jpeg": "[encoded data removed]",
      "text/plain": [
       "<IPython.core.display.Image object>"
      ]
     },
     "metadata": {
      "image/jpeg": {
       "height": 240,
       "width": 240
      }
     },
     "output_type": "display_data"
    },
    {
     "name": "stdout",
     "output_type": "stream",
     "text": [
      "/home/jovyan/thanosql-dataset/mnist_data/test/6573.jpg\n"
     ]
    },
    {
     "data": {
      "image/jpeg": "[encoded data removed]",
      "text/plain": [
       "<IPython.core.display.Image object>"
      ]
     },
     "metadata": {
      "image/jpeg": {
       "height": 240,
       "width": 240
      }
     },
     "output_type": "display_data"
    }
   ],
   "source": [
    "%%thanosql\n",
    "PRINT IMAGE \n",
    "AS (\n",
    "    SELECT image_path, search_result \n",
    "    FROM (\n",
    "        SEARCH IMAGE \n",
    "        USING my_image_search_model \n",
    "        OPTIONS (\n",
    "            search_by='image',\n",
    "            search_input='thanosql-dataset/mnist_data/test/923.jpg',\n",
    "            emb_col='convert_result',\n",
    "            result_col='search_result',\n",
    "            top_k=4\n",
    "            )\n",
    "        AS \n",
    "        SELECT * \n",
    "        FROM mnist_test\n",
    "        )\n",
    "    )"
   ]
  },
  {
   "cell_type": "markdown",
   "id": "517479e8",
   "metadata": {},
   "source": [
    "<div class=\"admonition danger\">\n",
    "    <h4 class=\"admonition-title\">Note</h4>\n",
    "    <p>The training options of the algorithm recognize the image regardless of the image's left-right inversion and color differences. This is because a dog's picture should be recognized as a dog even if it is flipped or has a color difference. If the color feature is important, such as clothing images, or if vertical and horizontal inversions are important, such as numbers, the training options should be changed.</p>\n",
    "</div>"
   ]
  },
  {
   "cell_type": "markdown",
   "id": "5389cb4a",
   "metadata": {},
   "source": [
    "## __4. In Conclusion__\n",
    "\n",
    "In this tutorial, we used the MNIST handwriting dataset to vectorize images and perform image search. As this is a beginner-level tutorial, we focused on the process rather than accuracy. The model's accuracy can be improved by adding precise tuning and small amounts of labeling to each dataset.\n",
    "\n",
    "* [How to Upload My Data to the ThanoSQL Workspace](https://docs.thanosql.ai/en/getting_started/data_upload/)\n",
    "* [How to Create a Table Using My Data](https://docs.thanosql.ai/en/how-to_guides/ThanoSQL_query/COPY_SYNTAX/)\n",
    "* [How to Upload My Model to the ThanoSQL Workspace](https://docs.thanosql.ai/en/how-to_guides/ThanoSQL_query/UPLOAD_MODEL_SYNTAX/)\n",
    "\n",
    "<div class=\"admonition tip\">\n",
    "    <h4 class=\"admonition-title\">Inquiries About Deploying a Model for Your Own Service</h4>\n",
    "    <p>If you have any difficulties creating your own model using ThanoSQL or applying it to your services, please feel free to contact us below😊</p>\n",
    "    <p>For inquiries regarding building an image similarity search models: <a href=\"mailto:contact@smartmind.team\">contact@smartmind.team</a></p>\n",
    "</div>"
   ]
  }
 ],
 "metadata": {
  "kernelspec": {
   "display_name": "Python 3 (ipykernel)",
   "language": "python",
   "name": "python3"
  },
  "language_info": {
   "codemirror_mode": {
    "name": "ipython",
    "version": 3
   },
   "file_extension": ".py",
   "mimetype": "text/x-python",
   "name": "python",
   "nbconvert_exporter": "python",
   "pygments_lexer": "ipython3",
   "version": "3.8.13"
  },
  "vscode": {
   "interpreter": {
    "hash": "aee8b7b246df8f9039afb4144a1f6fd8d2ca17a180786b69acc140d282b71a49"
   }
  }
 },
 "nbformat": 4,
 "nbformat_minor": 5
}
