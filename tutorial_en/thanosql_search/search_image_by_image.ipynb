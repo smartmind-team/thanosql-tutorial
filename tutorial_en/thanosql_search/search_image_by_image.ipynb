{
 "cells": [
  {
   "cell_type": "markdown",
   "id": "e43f86f8-a77c-4f93-a194-5c8dbd954871",
   "metadata": {},
   "source": [
    "# __Search Image by Image__"
   ]
  },
  {
   "cell_type": "markdown",
   "id": "d01de980",
   "metadata": {},
   "source": [
    "- Tutorial Difficulty: ★☆☆☆☆\n",
    "- 7 min read\n",
    "- Languages: [SQL](https://en.wikipedia.org/wiki/SQL) (100%)\n",
    "- File location: tutorial_en/thanosql_search/search_image_by_image.ipynb\n",
    "- References: [Introduction of MNIST DataSet](https://en.wikipedia.org/wiki/MNIST_database), [A Simple Framework for Contrastive Learning of Visual Representations](https://arxiv.org/abs/2002.05709)"
   ]
  },
  {
   "cell_type": "markdown",
   "id": "b5e19c02",
   "metadata": {},
   "source": [
    "## Tutorial Introduction\n",
    "\n",
    "<div class=\"admonition note\">\n",
    "    <h4 class=\"admonition-title\">Understanding Image Vectorization</h4>\n",
    "    <p>Images(height x width x channel [RGB] x color intensity) are meaningless if the information for each pixel is randomly generated. In other words, an image can only be recognized as an image if each pixel has a specific pattern associated with the surrounding pixels. With this information, it can be inferred that an image can be represented on a low-dimensional feature vector. Recently, studies using machine learning to vectorize and express each image in a low-dimensional space based on similarity have been conducted.</p>\n",
    "</div>\n",
    "\n",
    "There are several ways to define the similarity of an image. It can refer to the colors being similar, the objects in the image being similar, or the context of the image being similar (ex. a handwritten number). Although it is difficult to give an exact definition of an image similarity, machine learning learns and vectorizes these general features.\n",
    "\n",
    "ThanoSQL uses the [Self-Supervised Learning Model](https://en.wikipedia.org/wiki/Self-supervised_learning) to input images into the database and retrieve similar images from it. When you upload images to the ThanoSQL's database, a machine learning algorithm places similar images together while placing non-similar images apart. Image features are derived from an unlabeled dataset and fine-tuned with a small amount of labeled data. Then, it can be used for classification or regression tasks.\n",
    "\n",
    "Furthermore, ThanoSQL uses machine learning algorithms to vectorize datasets. The vectorized data is stored as a database column in the image table and is used to calculate the similarity(distance).\n",
    "\n",
    "__The following are examples and applications of the ThanoSQL similar image search algorithm.__\n",
    "\n",
    "- Input your favorite image and have similar artworks searched for and recommended to you.\n",
    "- Find similar images within an album containing thousands of photos.\n",
    "- Store your images in the ThanoSQL's database and create your own search engine or machine learning model utilizing the ThanoSQL AutoML regression/classification model.\n",
    " \n",
    "<div class=\"admonition note\">\n",
    "    <h4 class=\"admonition-title\">In This Tutorial</h4>\n",
    "    <p>👉 This tutorial will use the MNIST handwriting dataset. Each image consists of a hand written number between 0 and 9 and is correctly labeled. The MNIST handwriting dataset consists of 1,000 train images and 200 test images.</p>\n",
    "</div>\n",
    "    \n",
    "Create a model that uses ThanoSQL to input handwriting data and retrieves similar images from the database.\n",
    "\n",
    "[![IMAGE](https://docs.thanosql.ai/img/thanosql_search/search_image_by_image/simclr_img7.png \"MNIST data\") ](https://docs.thanosql.ai/img/thanosql_search/search_image_by_image/simclr_img7.png)"
   ]
  },
  {
   "cell_type": "markdown",
   "id": "5fd38a02-06a5-405b-82e0-b074a3dbf589",
   "metadata": {},
   "source": [
    "## __0. Prepare Dataset__\n",
    "\n",
    "As mentioned in the [ThanoSQL Workspace](https://docs.thanosql.ai/en/getting_started/paas/workspace/lab/), you must create an API token and run the query below to execute the query of ThanoSQL. "
   ]
  },
  {
   "cell_type": "code",
   "execution_count": null,
   "id": "8ac3be35-fc75-432f-8946-2cb57fd56bc2",
   "metadata": {
    "tags": []
   },
   "outputs": [],
   "source": [
    "%load_ext thanosql\n",
    "%thanosql API_TOKEN=<Issued_API_TOKEN>"
   ]
  },
  {
   "cell_type": "markdown",
   "id": "073a6182",
   "metadata": {},
   "source": [
    "### __Prepare Dataset__"
   ]
  },
  {
   "cell_type": "code",
   "execution_count": 2,
   "id": "e8b80b12",
   "metadata": {
    "execution": {
     "iopub.execute_input": "2023-08-30T07:07:26.890459Z",
     "iopub.status.busy": "2023-08-30T07:07:26.889928Z",
     "iopub.status.idle": "2023-08-30T07:07:27.565510Z",
     "shell.execute_reply": "2023-08-30T07:07:27.561004Z",
     "shell.execute_reply.started": "2023-08-30T07:07:26.890431Z"
    },
    "tags": []
   },
   "outputs": [
    {
     "name": "stdout",
     "output_type": "stream",
     "text": [
      "Success\n"
     ]
    }
   ],
   "source": [
    "%%thanosql\n",
    "GET THANOSQL DATASET mnist_data\n",
    "OPTIONS (overwrite=True)"
   ]
  },
  {
   "cell_type": "markdown",
   "id": "1ec2d024",
   "metadata": {},
   "source": [
    "<div class=\"admonition note\">\n",
    "    <h4 class=\"admonition-title\">Query Details</h4>\n",
    "    <ul>\n",
    "        <li>\"<strong>GET THANOSQL DATASET</strong>\" downloads the specified dataset to the workspace.</li>\n",
    "        <li>\"<strong>OPTIONS</strong>\" specifies the option values to be used for the <strong>GET THANOSQL DATASET</strong> clause.\n",
    "        <ul>\n",
    "            <li>\"overwrite\": determines whether to overwrite a dataset if it already exists. If set as True, the old dataset is replaced with the new dataset (bool, optional, True|False, default: False)</li>\n",
    "        </ul>\n",
    "        </li>\n",
    "    </ul>\n",
    "</div>"
   ]
  },
  {
   "cell_type": "code",
   "execution_count": 3,
   "id": "63661751-7e32-48f7-84fa-1dd205cc5d6d",
   "metadata": {
    "execution": {
     "iopub.execute_input": "2023-08-30T07:07:27.760192Z",
     "iopub.status.busy": "2023-08-30T07:07:27.759520Z",
     "iopub.status.idle": "2023-08-30T07:07:28.292115Z",
     "shell.execute_reply": "2023-08-30T07:07:28.291027Z",
     "shell.execute_reply.started": "2023-08-30T07:07:27.760162Z"
    },
    "tags": []
   },
   "outputs": [
    {
     "name": "stdout",
     "output_type": "stream",
     "text": [
      "Success\n"
     ]
    }
   ],
   "source": [
    "%%thanosql\n",
    "COPY mnist_train \n",
    "OPTIONS (if_exists='replace')\n",
    "FROM 'thanosql-dataset/mnist_data/mnist_train.csv'"
   ]
  },
  {
   "cell_type": "code",
   "execution_count": 4,
   "id": "f65244d4-97bc-4464-aa8c-2d12a1f59435",
   "metadata": {
    "execution": {
     "iopub.execute_input": "2023-08-30T07:07:28.294192Z",
     "iopub.status.busy": "2023-08-30T07:07:28.293778Z",
     "iopub.status.idle": "2023-08-30T07:07:28.808635Z",
     "shell.execute_reply": "2023-08-30T07:07:28.807555Z",
     "shell.execute_reply.started": "2023-08-30T07:07:28.294167Z"
    },
    "tags": []
   },
   "outputs": [
    {
     "name": "stdout",
     "output_type": "stream",
     "text": [
      "Success\n"
     ]
    }
   ],
   "source": [
    "%%thanosql\n",
    "COPY mnist_test \n",
    "OPTIONS (if_exists='replace')\n",
    "FROM 'thanosql-dataset/mnist_data/mnist_test.csv'"
   ]
  },
  {
   "cell_type": "markdown",
   "id": "d6845948",
   "metadata": {},
   "source": [
    "<div class=\"admonition note\">\n",
    "    <h4 class=\"admonition-title\">Query Details</h4>\n",
    "    <ul>\n",
    "        <li>\"<strong>COPY</strong>\" specifies the name of the dataset to be saved as a database table.</li>\n",
    "        <li>\"<strong>OPTIONS</strong>\" specifies the option values to be used for the <strong>COPY</strong> clause.\n",
    "        <ul>\n",
    "           <li>\"if_exists\": determines how the function should handle the case where the table already exists, it can either raise an error, append to the existing table, or replace the existing table (str, optional, 'fail'|'replace'|'append', default: 'fail')</li>\n",
    "        </ul>\n",
    "        </li>\n",
    "    </ul>\n",
    "</div>"
   ]
  },
  {
   "cell_type": "markdown",
   "id": "542deaf1-606f-49ea-9b6d-5721050ff2bf",
   "metadata": {
    "tags": []
   },
   "source": [
    "## __1. Check Dataset__\n",
    "\n",
    "To create a handwriting classification model, we use the __mnist_train__ table located in the ThanoSQL workspace database. Run the query below to check the contents of the table."
   ]
  },
  {
   "cell_type": "code",
   "execution_count": 5,
   "id": "242430e8-09f5-4f2c-9133-21015fc0acf8",
   "metadata": {
    "execution": {
     "iopub.execute_input": "2023-08-30T07:07:29.374691Z",
     "iopub.status.busy": "2023-08-30T07:07:29.374301Z",
     "iopub.status.idle": "2023-08-30T07:07:29.933126Z",
     "shell.execute_reply": "2023-08-30T07:07:29.932545Z",
     "shell.execute_reply.started": "2023-08-30T07:07:29.374661Z"
    },
    "tags": []
   },
   "outputs": [
    {
     "data": {
      "text/html": [
       "<div>\n",
       "<style scoped>\n",
       "    .dataframe tbody tr th:only-of-type {\n",
       "        vertical-align: middle;\n",
       "    }\n",
       "\n",
       "    .dataframe tbody tr th {\n",
       "        vertical-align: top;\n",
       "    }\n",
       "\n",
       "    .dataframe thead th {\n",
       "        text-align: right;\n",
       "    }\n",
       "</style>\n",
       "<table border=\"1\" class=\"dataframe\">\n",
       "  <thead>\n",
       "    <tr style=\"text-align: right;\">\n",
       "      <th></th>\n",
       "      <th>image_path</th>\n",
       "      <th>filename</th>\n",
       "      <th>label</th>\n",
       "    </tr>\n",
       "  </thead>\n",
       "  <tbody>\n",
       "    <tr>\n",
       "      <th>0</th>\n",
       "      <td>thanosql-dataset/mnist_data/train/6782.jpg</td>\n",
       "      <td>6782.jpg</td>\n",
       "      <td>5</td>\n",
       "    </tr>\n",
       "    <tr>\n",
       "      <th>1</th>\n",
       "      <td>thanosql-dataset/mnist_data/train/1810.jpg</td>\n",
       "      <td>1810.jpg</td>\n",
       "      <td>5</td>\n",
       "    </tr>\n",
       "    <tr>\n",
       "      <th>2</th>\n",
       "      <td>thanosql-dataset/mnist_data/train/33617.jpg</td>\n",
       "      <td>33617.jpg</td>\n",
       "      <td>5</td>\n",
       "    </tr>\n",
       "    <tr>\n",
       "      <th>3</th>\n",
       "      <td>thanosql-dataset/mnist_data/train/27802.jpg</td>\n",
       "      <td>27802.jpg</td>\n",
       "      <td>5</td>\n",
       "    </tr>\n",
       "    <tr>\n",
       "      <th>4</th>\n",
       "      <td>thanosql-dataset/mnist_data/train/50677.jpg</td>\n",
       "      <td>50677.jpg</td>\n",
       "      <td>5</td>\n",
       "    </tr>\n",
       "  </tbody>\n",
       "</table>\n",
       "</div>"
      ],
      "text/plain": [
       "                                    image_path   filename  label\n",
       "0   thanosql-dataset/mnist_data/train/6782.jpg   6782.jpg      5\n",
       "1   thanosql-dataset/mnist_data/train/1810.jpg   1810.jpg      5\n",
       "2  thanosql-dataset/mnist_data/train/33617.jpg  33617.jpg      5\n",
       "3  thanosql-dataset/mnist_data/train/27802.jpg  27802.jpg      5\n",
       "4  thanosql-dataset/mnist_data/train/50677.jpg  50677.jpg      5"
      ]
     },
     "execution_count": 5,
     "metadata": {},
     "output_type": "execute_result"
    }
   ],
   "source": [
    "%%thanosql\n",
    "SELECT * \n",
    "FROM mnist_train \n",
    "LIMIT 5"
   ]
  },
  {
   "cell_type": "markdown",
   "id": "648a0843",
   "metadata": {},
   "source": [
    "<div class=\"admonition note\">\n",
    "    <h4 class=\"admonition-title\">Understanding the Data Table</h4>\n",
    "    <p>The <strong>mnist_train</strong> table contains the following information.</p>\n",
    "    <ul>\n",
    "        <li>image_path: image path</li>\n",
    "        <li>filename: file name</li>\n",
    "        <li>label: image label</li>\n",
    "    </ul>\n",
    "</div>"
   ]
  },
  {
   "cell_type": "markdown",
   "id": "2b4f3acf-f218-4d51-b671-7651632290ec",
   "metadata": {},
   "source": [
    "## __2. Build an Image Vectorization Model__\n",
    "\n",
    "\n",
    "To create an image vectorization model with the name __my_image_search_model__ using the __mnist_train__ table, run the following query.  \n",
    "(Estimated duration of query execution: 1 min)"
   ]
  },
  {
   "cell_type": "code",
   "execution_count": 6,
   "id": "3630f8f7-8229-49f5-ae32-51011e1e37c8",
   "metadata": {
    "execution": {
     "iopub.execute_input": "2023-08-30T07:07:30.727776Z",
     "iopub.status.busy": "2023-08-30T07:07:30.727558Z",
     "iopub.status.idle": "2023-08-30T07:07:45.861994Z",
     "shell.execute_reply": "2023-08-30T07:07:45.860903Z",
     "shell.execute_reply.started": "2023-08-30T07:07:30.727754Z"
    },
    "tags": []
   },
   "outputs": [
    {
     "name": "stdout",
     "output_type": "stream",
     "text": [
      "Success\n"
     ]
    }
   ],
   "source": [
    "%%thanosql\n",
    "BUILD MODEL my_image_search_model\n",
    "USING SimCLR\n",
    "OPTIONS (\n",
    "    image_col='image_path',\n",
    "    max_epochs=1,\n",
    "    overwrite=True\n",
    "    )\n",
    "AS \n",
    "SELECT * \n",
    "FROM mnist_train"
   ]
  },
  {
   "cell_type": "markdown",
   "id": "1e173c0d",
   "metadata": {},
   "source": [
    "<div class=\"admonition note\">\n",
    "    <h4 class=\"admonition-title\">Query Details</h4>\n",
    "    <ul>\n",
    "        <li>\"<strong>BUILD MODEL</strong>\" creates and trains a model named <strong>my_image_search_model</strong>.</li>\n",
    "        <li>\"<strong>USING</strong>\" specifies <strong>SimCLR</strong> as the base model.</li>\n",
    "        <li>\"<strong>OPTIONS</strong>\" specifies the option values used to create a model.\n",
    "        <ul>\n",
    "            <li>\"image_col\": the name of the column containing the image path (str, default: 'image_path')</li>\n",
    "            <li>\"max_epochs\": number of times to train with the training dataset (int, optional, default: 5)</li>\n",
    "            <li>\"overwrite\": determines whether to overwrite a model if it already exists. If set as True, the old model is replaced with the new model (bool, optional, True|False, default: False)</li>\n",
    "        </ul>\n",
    "        </li>\n",
    "    </ul>\n",
    "</div>"
   ]
  },
  {
   "cell_type": "markdown",
   "id": "fa4b8b03",
   "metadata": {},
   "source": [
    "To vectorize the __mnist_test__ images run the following \"__CONVERT USING__\" query. The vectorized results are stored in a user-defined column(default: convert_result) in the __mnist_test__ table."
   ]
  },
  {
   "cell_type": "code",
   "execution_count": 7,
   "id": "0abffc4b-aec9-444a-9546-dce181190f08",
   "metadata": {
    "execution": {
     "iopub.execute_input": "2023-08-30T07:07:45.863757Z",
     "iopub.status.busy": "2023-08-30T07:07:45.863545Z",
     "iopub.status.idle": "2023-08-30T07:07:47.770960Z",
     "shell.execute_reply": "2023-08-30T07:07:47.770075Z",
     "shell.execute_reply.started": "2023-08-30T07:07:45.863733Z"
    },
    "tags": []
   },
   "outputs": [
    {
     "data": {
      "text/html": [
       "<div>\n",
       "<style scoped>\n",
       "    .dataframe tbody tr th:only-of-type {\n",
       "        vertical-align: middle;\n",
       "    }\n",
       "\n",
       "    .dataframe tbody tr th {\n",
       "        vertical-align: top;\n",
       "    }\n",
       "\n",
       "    .dataframe thead th {\n",
       "        text-align: right;\n",
       "    }\n",
       "</style>\n",
       "<table border=\"1\" class=\"dataframe\">\n",
       "  <thead>\n",
       "    <tr style=\"text-align: right;\">\n",
       "      <th></th>\n",
       "      <th>image_path</th>\n",
       "      <th>filename</th>\n",
       "      <th>label</th>\n",
       "      <th>convert_result</th>\n",
       "    </tr>\n",
       "  </thead>\n",
       "  <tbody>\n",
       "    <tr>\n",
       "      <th>0</th>\n",
       "      <td>thanosql-dataset/mnist_data/test/5099.jpg</td>\n",
       "      <td>5099.jpg</td>\n",
       "      <td>6</td>\n",
       "      <td>[b'\\xd7', b'q', b'&amp;', b'&lt;', b'\\xa1', b'&lt;', b'\\...</td>\n",
       "    </tr>\n",
       "    <tr>\n",
       "      <th>1</th>\n",
       "      <td>thanosql-dataset/mnist_data/test/9239.jpg</td>\n",
       "      <td>9239.jpg</td>\n",
       "      <td>6</td>\n",
       "      <td>[b'\\x1e', b'@', b'\\xa9', b'=', b']', b'K', b'\\...</td>\n",
       "    </tr>\n",
       "    <tr>\n",
       "      <th>2</th>\n",
       "      <td>thanosql-dataset/mnist_data/test/2242.jpg</td>\n",
       "      <td>2242.jpg</td>\n",
       "      <td>6</td>\n",
       "      <td>[b'\\x87', b'\\xd1', b' ', b'&gt;', b'\\x83', b'e', ...</td>\n",
       "    </tr>\n",
       "    <tr>\n",
       "      <th>3</th>\n",
       "      <td>thanosql-dataset/mnist_data/test/3451.jpg</td>\n",
       "      <td>3451.jpg</td>\n",
       "      <td>6</td>\n",
       "      <td>[b'\\xac', b'\\xd2', b\"'\", b'&gt;', b'*', b'\\xfa', ...</td>\n",
       "    </tr>\n",
       "    <tr>\n",
       "      <th>4</th>\n",
       "      <td>thanosql-dataset/mnist_data/test/2631.jpg</td>\n",
       "      <td>2631.jpg</td>\n",
       "      <td>6</td>\n",
       "      <td>[b'O', b'\\xf1', b'M', b'=', b'9', b'w', b'?', ...</td>\n",
       "    </tr>\n",
       "    <tr>\n",
       "      <th>...</th>\n",
       "      <td>...</td>\n",
       "      <td>...</td>\n",
       "      <td>...</td>\n",
       "      <td>...</td>\n",
       "    </tr>\n",
       "    <tr>\n",
       "      <th>195</th>\n",
       "      <td>thanosql-dataset/mnist_data/test/8045.jpg</td>\n",
       "      <td>8045.jpg</td>\n",
       "      <td>8</td>\n",
       "      <td>[b'\\x00', b'\\x00', b'\\x00', b'\\x00', b'\\xa4', ...</td>\n",
       "    </tr>\n",
       "    <tr>\n",
       "      <th>196</th>\n",
       "      <td>thanosql-dataset/mnist_data/test/9591.jpg</td>\n",
       "      <td>9591.jpg</td>\n",
       "      <td>8</td>\n",
       "      <td>[b'\\x99', b'\\x15', b'9', b'&gt;', b'\\xb7', b'\\x88...</td>\n",
       "    </tr>\n",
       "    <tr>\n",
       "      <th>197</th>\n",
       "      <td>thanosql-dataset/mnist_data/test/7425.jpg</td>\n",
       "      <td>7425.jpg</td>\n",
       "      <td>8</td>\n",
       "      <td>[b'\\x1c', b'H', b'\\x8a', b'&gt;', b'f', b'\\x83', ...</td>\n",
       "    </tr>\n",
       "    <tr>\n",
       "      <th>198</th>\n",
       "      <td>thanosql-dataset/mnist_data/test/2150.jpg</td>\n",
       "      <td>2150.jpg</td>\n",
       "      <td>8</td>\n",
       "      <td>[b'\\xf4', b'Y', b'S', b'&gt;', b'\\x96', b'^', b'\\...</td>\n",
       "    </tr>\n",
       "    <tr>\n",
       "      <th>199</th>\n",
       "      <td>thanosql-dataset/mnist_data/test/5087.jpg</td>\n",
       "      <td>5087.jpg</td>\n",
       "      <td>8</td>\n",
       "      <td>[b'\\xc8', b'\\x80', b'o', b'=', b'\\xe6', b'\\xdc...</td>\n",
       "    </tr>\n",
       "  </tbody>\n",
       "</table>\n",
       "<p>200 rows × 4 columns</p>\n",
       "</div>"
      ],
      "text/plain": [
       "                                    image_path  filename  label  \\\n",
       "0    thanosql-dataset/mnist_data/test/5099.jpg  5099.jpg      6   \n",
       "1    thanosql-dataset/mnist_data/test/9239.jpg  9239.jpg      6   \n",
       "2    thanosql-dataset/mnist_data/test/2242.jpg  2242.jpg      6   \n",
       "3    thanosql-dataset/mnist_data/test/3451.jpg  3451.jpg      6   \n",
       "4    thanosql-dataset/mnist_data/test/2631.jpg  2631.jpg      6   \n",
       "..                                         ...       ...    ...   \n",
       "195  thanosql-dataset/mnist_data/test/8045.jpg  8045.jpg      8   \n",
       "196  thanosql-dataset/mnist_data/test/9591.jpg  9591.jpg      8   \n",
       "197  thanosql-dataset/mnist_data/test/7425.jpg  7425.jpg      8   \n",
       "198  thanosql-dataset/mnist_data/test/2150.jpg  2150.jpg      8   \n",
       "199  thanosql-dataset/mnist_data/test/5087.jpg  5087.jpg      8   \n",
       "\n",
       "                                        convert_result  \n",
       "0    [b'\\xd7', b'q', b'&', b'<', b'\\xa1', b'<', b'\\...  \n",
       "1    [b'\\x1e', b'@', b'\\xa9', b'=', b']', b'K', b'\\...  \n",
       "2    [b'\\x87', b'\\xd1', b' ', b'>', b'\\x83', b'e', ...  \n",
       "3    [b'\\xac', b'\\xd2', b\"'\", b'>', b'*', b'\\xfa', ...  \n",
       "4    [b'O', b'\\xf1', b'M', b'=', b'9', b'w', b'?', ...  \n",
       "..                                                 ...  \n",
       "195  [b'\\x00', b'\\x00', b'\\x00', b'\\x00', b'\\xa4', ...  \n",
       "196  [b'\\x99', b'\\x15', b'9', b'>', b'\\xb7', b'\\x88...  \n",
       "197  [b'\\x1c', b'H', b'\\x8a', b'>', b'f', b'\\x83', ...  \n",
       "198  [b'\\xf4', b'Y', b'S', b'>', b'\\x96', b'^', b'\\...  \n",
       "199  [b'\\xc8', b'\\x80', b'o', b'=', b'\\xe6', b'\\xdc...  \n",
       "\n",
       "[200 rows x 4 columns]"
      ]
     },
     "execution_count": 7,
     "metadata": {},
     "output_type": "execute_result"
    }
   ],
   "source": [
    "%%thanosql\n",
    "CONVERT USING my_image_search_model\n",
    "OPTIONS (\n",
    "    image_col='image_path',\n",
    "    result_col='convert_result'\n",
    "    )\n",
    "AS \n",
    "SELECT * \n",
    "FROM mnist_test"
   ]
  },
  {
   "cell_type": "markdown",
   "id": "ccb189a3",
   "metadata": {},
   "source": [
    "<div class=\"admonition note\">\n",
    "    <h4 class=\"admonition-title\">Query Details</h4>\n",
    "    <ul>\n",
    "        <li>\"<strong>CONVERT USING</strong>\" uses <strong>my_image_search_model</strong> as an algorithm for image vectorizaion.   </li>\n",
    "        <li>\"<strong>OPTIONS</strong>\" specifies the options to be used for image vectorization.\n",
    "        <ul>\n",
    "            <li>\"image_col\": the name of the column containing the image path (str, default: 'image_path')</li>\n",
    "            <li>\"result_col\": defines the column name that contains the vectorized results (str, optional, default: 'convert_result')</li>\n",
    "        </ul>\n",
    "        </li>\n",
    "    </ul>\n",
    "</div>"
   ]
  },
  {
   "cell_type": "markdown",
   "id": "70844a27-ce69-4e36-b502-958bef57f171",
   "metadata": {},
   "source": [
    "Execute the \"__CONVERT USING__\" query statement below and save the converted result in a new table so that it can be used with other __ThanoSQL__ query statements."
   ]
  },
  {
   "cell_type": "code",
   "execution_count": 10,
   "id": "2f4ef1f6",
   "metadata": {
    "execution": {
     "iopub.execute_input": "2023-08-30T07:08:02.245834Z",
     "iopub.status.busy": "2023-08-30T07:08:02.245507Z",
     "iopub.status.idle": "2023-08-30T07:08:03.647506Z",
     "shell.execute_reply": "2023-08-30T07:08:03.646817Z",
     "shell.execute_reply.started": "2023-08-30T07:08:02.245810Z"
    },
    "tags": []
   },
   "outputs": [
    {
     "name": "stdout",
     "output_type": "stream",
     "text": [
      "Success\n"
     ]
    }
   ],
   "source": [
    "%%thanosql\n",
    "CREATE TABLE mnist_test_convert_en AS \n",
    "SELECT * FROM ( \n",
    "    CONVERT USING my_image_search_model\n",
    "    OPTIONS (\n",
    "        image_col='image_path',\n",
    "        result_col='convert_result'\n",
    "        )\n",
    "    AS \n",
    "    SELECT * \n",
    "    FROM mnist_test\n",
    ")"
   ]
  },
  {
   "cell_type": "markdown",
   "id": "1c16f866-b5b4-4540-a848-30d0cd459165",
   "metadata": {},
   "source": [
    "## __3. Search for Similar Images Using Image Vectorization Models__\n",
    "\n",
    "This step uses the __my_image_search_model__ image vectorization model and the test table to search for images similar to the \"923.jpg\" image(handwritten 8).\n",
    "\n",
    "<a href=\"https://docs.thanosql.ai/img/thanosql_search/search_image_by_image/simclr_img8.png\">\n",
    "    <img alt=\"IMAGE\" src=\"https://docs.thanosql.ai/img/thanosql_search/search_image_by_image/simclr_img8.png\" style=\"width:100px\">\n",
    "</a>\n",
    "\n",
    "<p style=\"text-align:center\">923.jpg Image File </p>"
   ]
  },
  {
   "cell_type": "code",
   "execution_count": 11,
   "id": "61e0de08-b6a7-4087-8691-230243aab016",
   "metadata": {
    "execution": {
     "iopub.execute_input": "2023-08-30T07:08:09.012336Z",
     "iopub.status.busy": "2023-08-30T07:08:09.011622Z",
     "iopub.status.idle": "2023-08-30T07:08:09.830387Z",
     "shell.execute_reply": "2023-08-30T07:08:09.829425Z",
     "shell.execute_reply.started": "2023-08-30T07:08:09.012301Z"
    },
    "tags": []
   },
   "outputs": [
    {
     "data": {
      "text/html": [
       "<div>\n",
       "<style scoped>\n",
       "    .dataframe tbody tr th:only-of-type {\n",
       "        vertical-align: middle;\n",
       "    }\n",
       "\n",
       "    .dataframe tbody tr th {\n",
       "        vertical-align: top;\n",
       "    }\n",
       "\n",
       "    .dataframe thead th {\n",
       "        text-align: right;\n",
       "    }\n",
       "</style>\n",
       "<table border=\"1\" class=\"dataframe\">\n",
       "  <thead>\n",
       "    <tr style=\"text-align: right;\">\n",
       "      <th></th>\n",
       "      <th>image_path</th>\n",
       "      <th>filename</th>\n",
       "      <th>label</th>\n",
       "      <th>convert_result</th>\n",
       "      <th>search_result</th>\n",
       "    </tr>\n",
       "  </thead>\n",
       "  <tbody>\n",
       "    <tr>\n",
       "      <th>0</th>\n",
       "      <td>thanosql-dataset/mnist_data/test/923.jpg</td>\n",
       "      <td>923.jpg</td>\n",
       "      <td>8</td>\n",
       "      <td>[b'\\xcd', b'\\x1d', b'\\x08', b'&gt;', b'\\xf6', b'\\...</td>\n",
       "      <td>1.000000</td>\n",
       "    </tr>\n",
       "    <tr>\n",
       "      <th>1</th>\n",
       "      <td>thanosql-dataset/mnist_data/test/7645.jpg</td>\n",
       "      <td>7645.jpg</td>\n",
       "      <td>8</td>\n",
       "      <td>[b']', b'\\xac', b'L', b'=', b'\\xe2', b'\\x99', ...</td>\n",
       "      <td>0.997068</td>\n",
       "    </tr>\n",
       "    <tr>\n",
       "      <th>2</th>\n",
       "      <td>thanosql-dataset/mnist_data/test/5087.jpg</td>\n",
       "      <td>5087.jpg</td>\n",
       "      <td>8</td>\n",
       "      <td>[b'\\xc8', b'\\x80', b'o', b'=', b'\\xe6', b'\\xdc...</td>\n",
       "      <td>0.996402</td>\n",
       "    </tr>\n",
       "    <tr>\n",
       "      <th>3</th>\n",
       "      <td>thanosql-dataset/mnist_data/test/685.jpg</td>\n",
       "      <td>685.jpg</td>\n",
       "      <td>8</td>\n",
       "      <td>[b'&gt;', b'\\x84', b';', b'=', b'\\xb6', b'N', b'\\...</td>\n",
       "      <td>0.995973</td>\n",
       "    </tr>\n",
       "    <tr>\n",
       "      <th>4</th>\n",
       "      <td>thanosql-dataset/mnist_data/test/6573.jpg</td>\n",
       "      <td>6573.jpg</td>\n",
       "      <td>8</td>\n",
       "      <td>[b'\\x94', b'\\xf7', b'\\xfe', b'=', b'\\x11', b'\\...</td>\n",
       "      <td>0.995699</td>\n",
       "    </tr>\n",
       "    <tr>\n",
       "      <th>...</th>\n",
       "      <td>...</td>\n",
       "      <td>...</td>\n",
       "      <td>...</td>\n",
       "      <td>...</td>\n",
       "      <td>...</td>\n",
       "    </tr>\n",
       "    <tr>\n",
       "      <th>195</th>\n",
       "      <td>thanosql-dataset/mnist_data/test/2220.jpg</td>\n",
       "      <td>2220.jpg</td>\n",
       "      <td>4</td>\n",
       "      <td>[b'\\xfc', b'6', b'\\x16', b'&gt;', b'\\xa8', b'\\x99...</td>\n",
       "      <td>0.984654</td>\n",
       "    </tr>\n",
       "    <tr>\n",
       "      <th>196</th>\n",
       "      <td>thanosql-dataset/mnist_data/test/3684.jpg</td>\n",
       "      <td>3684.jpg</td>\n",
       "      <td>3</td>\n",
       "      <td>[b's', b'\\x00', b'\\xd1', b'=', b'\\xa0', b'\\x97...</td>\n",
       "      <td>0.984400</td>\n",
       "    </tr>\n",
       "    <tr>\n",
       "      <th>197</th>\n",
       "      <td>thanosql-dataset/mnist_data/test/7020.jpg</td>\n",
       "      <td>7020.jpg</td>\n",
       "      <td>1</td>\n",
       "      <td>[b'\\x15', b'\\xe4', b'\\xf1', b'&lt;', b'n', b'\\x86...</td>\n",
       "      <td>0.984273</td>\n",
       "    </tr>\n",
       "    <tr>\n",
       "      <th>198</th>\n",
       "      <td>thanosql-dataset/mnist_data/test/2938.jpg</td>\n",
       "      <td>2938.jpg</td>\n",
       "      <td>1</td>\n",
       "      <td>[b'h', b'\\xdc', b'\\xb0', b'=', b'\\xee', b'\\x1d...</td>\n",
       "      <td>0.983866</td>\n",
       "    </tr>\n",
       "    <tr>\n",
       "      <th>199</th>\n",
       "      <td>thanosql-dataset/mnist_data/test/7176.jpg</td>\n",
       "      <td>7176.jpg</td>\n",
       "      <td>1</td>\n",
       "      <td>[b'&amp;', b'\\xb1', b'4', b'=', b'\\x9e', b'.', b'[...</td>\n",
       "      <td>0.983214</td>\n",
       "    </tr>\n",
       "  </tbody>\n",
       "</table>\n",
       "<p>200 rows × 5 columns</p>\n",
       "</div>"
      ],
      "text/plain": [
       "                                    image_path  filename  label  \\\n",
       "0     thanosql-dataset/mnist_data/test/923.jpg   923.jpg      8   \n",
       "1    thanosql-dataset/mnist_data/test/7645.jpg  7645.jpg      8   \n",
       "2    thanosql-dataset/mnist_data/test/5087.jpg  5087.jpg      8   \n",
       "3     thanosql-dataset/mnist_data/test/685.jpg   685.jpg      8   \n",
       "4    thanosql-dataset/mnist_data/test/6573.jpg  6573.jpg      8   \n",
       "..                                         ...       ...    ...   \n",
       "195  thanosql-dataset/mnist_data/test/2220.jpg  2220.jpg      4   \n",
       "196  thanosql-dataset/mnist_data/test/3684.jpg  3684.jpg      3   \n",
       "197  thanosql-dataset/mnist_data/test/7020.jpg  7020.jpg      1   \n",
       "198  thanosql-dataset/mnist_data/test/2938.jpg  2938.jpg      1   \n",
       "199  thanosql-dataset/mnist_data/test/7176.jpg  7176.jpg      1   \n",
       "\n",
       "                                        convert_result  search_result  \n",
       "0    [b'\\xcd', b'\\x1d', b'\\x08', b'>', b'\\xf6', b'\\...       1.000000  \n",
       "1    [b']', b'\\xac', b'L', b'=', b'\\xe2', b'\\x99', ...       0.997068  \n",
       "2    [b'\\xc8', b'\\x80', b'o', b'=', b'\\xe6', b'\\xdc...       0.996402  \n",
       "3    [b'>', b'\\x84', b';', b'=', b'\\xb6', b'N', b'\\...       0.995973  \n",
       "4    [b'\\x94', b'\\xf7', b'\\xfe', b'=', b'\\x11', b'\\...       0.995699  \n",
       "..                                                 ...            ...  \n",
       "195  [b'\\xfc', b'6', b'\\x16', b'>', b'\\xa8', b'\\x99...       0.984654  \n",
       "196  [b's', b'\\x00', b'\\xd1', b'=', b'\\xa0', b'\\x97...       0.984400  \n",
       "197  [b'\\x15', b'\\xe4', b'\\xf1', b'<', b'n', b'\\x86...       0.984273  \n",
       "198  [b'h', b'\\xdc', b'\\xb0', b'=', b'\\xee', b'\\x1d...       0.983866  \n",
       "199  [b'&', b'\\xb1', b'4', b'=', b'\\x9e', b'.', b'[...       0.983214  \n",
       "\n",
       "[200 rows x 5 columns]"
      ]
     },
     "execution_count": 11,
     "metadata": {},
     "output_type": "execute_result"
    }
   ],
   "source": [
    "%%thanosql\n",
    "SEARCH IMAGE\n",
    "USING my_image_search_model\n",
    "OPTIONS (\n",
    "    search_by='image',\n",
    "    search_input='thanosql-dataset/mnist_data/test/923.jpg',\n",
    "    emb_col='convert_result',\n",
    "    result_col='search_result'\n",
    "    )\n",
    "AS\n",
    "SELECT * \n",
    "FROM mnist_test_convert_en"
   ]
  },
  {
   "cell_type": "markdown",
   "id": "9871fe36",
   "metadata": {},
   "source": [
    "<div class=\"admonition note\">\n",
    "    <h4 class=\"admonition-title\">Query Details</h4>\n",
    "    <ul>\n",
    "        <li>\"<strong>SEARCH IMAGE [image|text|audio|video]</strong>\" defines the image|text|audio|video file type to search for.</li>\n",
    "        <li>\"<strong>USING</strong>\" defines the model used for image vectorization.</li>\n",
    "        <li>\"<strong>OPTIONS</strong>\" specifies the options to be used for image searching.\n",
    "        <ul>\n",
    "            <li>\"search_by\": defines the image|text|audio|video type to be used for the search (str)</li>\n",
    "            <li>\"search_input\": defines the input to be used for the search (str)</li>\n",
    "            <li>\"emb_col\": the column that contains the vectorized results (str)</li>\n",
    "            <li>\"result_col\": defines the name of the column that contains the search results (str, optional, default: 'search_result')</li>\n",
    "        </ul>\n",
    "        </li>\n",
    "        <li>\"<strong>AS</strong>\" defines the embedding table to be used for searches. In this example, the <strong>mnist_test</strong> table is used. </li>\n",
    "    </ul>\n",
    "</div>"
   ]
  },
  {
   "cell_type": "markdown",
   "id": "12953f08",
   "metadata": {},
   "source": [
    "To output the \"__SEARCH__\" result using the \"__PRINT__\" clause to output the top four most similar images, run the following query. Though we've only done a minimal amount of training, you can see that images similar to 8 are returned."
   ]
  },
  {
   "cell_type": "code",
   "execution_count": 12,
   "id": "77af4961-def3-4884-bea2-b8e917d9ae87",
   "metadata": {
    "execution": {
     "iopub.execute_input": "2023-08-30T07:08:13.660005Z",
     "iopub.status.busy": "2023-08-30T07:08:13.659551Z",
     "iopub.status.idle": "2023-08-30T07:08:14.581052Z",
     "shell.execute_reply": "2023-08-30T07:08:14.580161Z",
     "shell.execute_reply.started": "2023-08-30T07:08:13.659955Z"
    },
    "tags": []
   },
   "outputs": [
    {
     "name": "stdout",
     "output_type": "stream",
     "text": [
      "/home/jovyan/thanosql-dataset/mnist_data/test/923.jpg\n"
     ]
    },
    {
     "data": {
      "image/jpeg": "[encoded data removed]",
      "text/plain": [
       "<IPython.core.display.Image object>"
      ]
     },
     "metadata": {
      "image/jpeg": {
       "height": 240,
       "width": 240
      }
     },
     "output_type": "display_data"
    },
    {
     "name": "stdout",
     "output_type": "stream",
     "text": [
      "/home/jovyan/thanosql-dataset/mnist_data/test/7645.jpg\n"
     ]
    },
    {
     "data": {
      "image/jpeg": "[encoded data removed]",
      "text/plain": [
       "<IPython.core.display.Image object>"
      ]
     },
     "metadata": {
      "image/jpeg": {
       "height": 240,
       "width": 240
      }
     },
     "output_type": "display_data"
    },
    {
     "name": "stdout",
     "output_type": "stream",
     "text": [
      "/home/jovyan/thanosql-dataset/mnist_data/test/5087.jpg\n"
     ]
    },
    {
     "data": {
      "image/jpeg": "[encoded data removed]",
      "text/plain": [
       "<IPython.core.display.Image object>"
      ]
     },
     "metadata": {
      "image/jpeg": {
       "height": 240,
       "width": 240
      }
     },
     "output_type": "display_data"
    },
    {
     "name": "stdout",
     "output_type": "stream",
     "text": [
      "/home/jovyan/thanosql-dataset/mnist_data/test/685.jpg\n"
     ]
    },
    {
     "data": {
      "image/jpeg": "[encoded data removed]",
      "text/plain": [
       "<IPython.core.display.Image object>"
      ]
     },
     "metadata": {
      "image/jpeg": {
       "height": 240,
       "width": 240
      }
     },
     "output_type": "display_data"
    }
   ],
   "source": [
    "%%thanosql\n",
    "PRINT IMAGE \n",
    "AS (\n",
    "    SELECT image_path, search_result \n",
    "    FROM (\n",
    "        SEARCH IMAGE \n",
    "        USING my_image_search_model \n",
    "        OPTIONS (\n",
    "            search_by='image',\n",
    "            search_input='thanosql-dataset/mnist_data/test/923.jpg',\n",
    "            emb_col='convert_result',\n",
    "            result_col='search_result',\n",
    "            top_k=4\n",
    "            )\n",
    "        AS \n",
    "        SELECT * \n",
    "        FROM mnist_test_convert_en\n",
    "        )\n",
    "    )"
   ]
  },
  {
   "cell_type": "markdown",
   "id": "517479e8",
   "metadata": {},
   "source": [
    "<div class=\"admonition danger\">\n",
    "    <h4 class=\"admonition-title\">Note</h4>\n",
    "    <p>The training options of the algorithm recognize the image regardless of the image's left-right inversion and color differences. This is because a dog's picture should be recognized as a dog even if it is flipped or has a color difference. If the color feature is important, such as clothing images, or if vertical and horizontal inversions are important, such as numbers, the training options should be changed.</p>\n",
    "</div>"
   ]
  },
  {
   "cell_type": "markdown",
   "id": "5389cb4a",
   "metadata": {},
   "source": [
    "## __4. In Conclusion__\n",
    "\n",
    "In this tutorial, we used the MNIST handwriting dataset to vectorize images and perform image search. As this is a beginner-level tutorial, we focused on the process rather than accuracy. The model's accuracy can be improved by adding precise tuning and small amounts of labeling to each dataset.\n",
    "\n",
    "* [How to Upload My Data to the ThanoSQL Workspace](https://docs.thanosql.ai/en/getting_started/data_upload/)\n",
    "* [How to Create a Table Using My Data](https://docs.thanosql.ai/en/how-to_guides/ThanoSQL_query/COPY_SYNTAX/)\n",
    "* [How to Upload My Model to the ThanoSQL Workspace](https://docs.thanosql.ai/en/how-to_guides/ThanoSQL_query/UPLOAD_MODEL_SYNTAX/)\n",
    "\n",
    "<div class=\"admonition tip\">\n",
    "    <h4 class=\"admonition-title\">Inquiries About Deploying a Model for Your Own Service</h4>\n",
    "    <p>If you have any difficulties creating your own model using ThanoSQL or applying it to your services, please feel free to contact us below😊</p>\n",
    "    <p>For inquiries regarding building an image similarity search models: <a href=\"mailto:contact@smartmind.team\">contact@smartmind.team</a></p>\n",
    "</div>"
   ]
  }
 ],
 "metadata": {
  "kernelspec": {
   "display_name": "Python 3 (ipykernel)",
   "language": "python",
   "name": "python3"
  },
  "language_info": {
   "codemirror_mode": {
    "name": "ipython",
    "version": 3
   },
   "file_extension": ".py",
   "mimetype": "text/x-python",
   "name": "python",
   "nbconvert_exporter": "python",
   "pygments_lexer": "ipython3",
   "version": "3.8.13"
  },
  "vscode": {
   "interpreter": {
    "hash": "aee8b7b246df8f9039afb4144a1f6fd8d2ca17a180786b69acc140d282b71a49"
   }
  }
 },
 "nbformat": 4,
 "nbformat_minor": 5
}
