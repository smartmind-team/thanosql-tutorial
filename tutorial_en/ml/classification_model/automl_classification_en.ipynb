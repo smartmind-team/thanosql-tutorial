{
 "cells": [
  {
   "cell_type": "markdown",
   "id": "dcba9de7-327b-425a-81c8-22bebfdf88ca",
   "metadata": {},
   "source": [
    "# __Create a classification model using AutoML__"
   ]
  },
  {
   "cell_type": "markdown",
   "id": "b9d4488f",
   "metadata": {},
   "source": [
    "**Understanding the classification** \n",
    "--- \n",
    "👉 Classification is a form of machine learning used to predict the category (or class) to which the target belongs. For example, both binary classifications that classify men or women and multiple classifications that predict animal species (dogs, cats, rabbits, etc.) are included in the classification task.\n",
    "\n",
    "**In this tutorial**\n",
    "--- \n",
    "👉 Create a survival predictive classification model using the Titanic: Machine Learning from Disaster dataset for beginners of Kaggle, a representative machine learning competition platform. The objectives of the competition are as follows (FYI, data from the competition are the list of passengers who were on board during the actual Titanic incident on April 15, 1912)"
   ]
  },
  {
   "cell_type": "markdown",
   "id": "1051840d-421e-4cab-9629-bcf6e37b7db6",
   "metadata": {},
   "source": [
    "## __0. Preparing a dataset__"
   ]
  },
  {
   "cell_type": "markdown",
   "id": "9fb5f11f",
   "metadata": {},
   "source": [
    "To use the query syntax of ThanoSQL, you must create an API token and run the query below, as mentioned in the [ThanoSQL Workspace](https://docs.thanosql.ai/quick_start/how_to_use_ThanoSQL/#5-thanosql)."
   ]
  },
  {
   "cell_type": "code",
   "execution_count": null,
   "id": "32fbea16-ab9a-45cb-948b-dfecf06902a0",
   "metadata": {
    "tags": []
   },
   "outputs": [],
   "source": [
    "%load_ext thanosql\n",
    "%thanosql API_TOKEN=<Issued_API_TOKEN>"
   ]
  },
  {
   "cell_type": "code",
   "execution_count": null,
   "id": "c7b0c89c-8bdb-4065-9394-6f57e33be899",
   "metadata": {},
   "outputs": [],
   "source": [
    "%%thanosql\n",
    "COPY titanic_train \n",
    "OPTIONS (overwrite=True)\n",
    "FROM \"tutorial_data/titanic_data/titanic_train.csv\""
   ]
  },
  {
   "cell_type": "code",
   "execution_count": null,
   "id": "26e63b28-7b06-4378-a789-2c56929df59a",
   "metadata": {},
   "outputs": [],
   "source": [
    "%%thanosql\n",
    "COPY titanic_test \n",
    "OPTIONS (overwrite=True)\n",
    "FROM \"tutorial_data/titanic_data/titanic_test.csv\""
   ]
  },
  {
   "cell_type": "markdown",
   "id": "f7db4f06",
   "metadata": {},
   "source": [
    "__OPTIONS__ : \n",
    "\n",
    "When __overwrite is true__, the user can create a data table with the same name as the previously created data table.  \n",
    "On the other hand, when __overwrite is False__, the user cannot create a data table with the same name as the previously created data table."
   ]
  },
  {
   "cell_type": "markdown",
   "id": "eff7350d-3b29-44a2-84d6-132d3b41a989",
   "metadata": {},
   "source": [
    "## __1.Check Dataset__\n"
   ]
  },
  {
   "cell_type": "markdown",
   "id": "e2f104a1-19ce-4adb-9999-b2398f8094c2",
   "metadata": {},
   "source": [
    "To create a survivor predictive classification model, we use the Titanic_train table stored in the ThanoSQL DB. Check the contents of the table while executing the query statement below."
   ]
  },
  {
   "cell_type": "code",
   "execution_count": null,
   "id": "14b95522-168a-482c-a039-5af17deafc6a",
   "metadata": {},
   "outputs": [],
   "source": [
    "%%thanosql\n",
    "SELECT * \n",
    "FROM titanic_test \n",
    "LIMIT 5 "
   ]
  },
  {
   "cell_type": "markdown",
   "id": "cd8c9617",
   "metadata": {},
   "source": [
    "**Understanding data**   \n",
    "-  passengerid  : Passengers ID\n",
    "-  survived  : boarding passengers\n",
    "-  pclass  : Passenger Ticket Rating\n",
    "-  name  : Boarding passenger\n",
    "-  sex  : Passenger gender\n",
    "-  age  : Age of passengers\n",
    "-  sibsp  : Number of siblings or spouses on board\n",
    "-  parch  : Number of parents or children on board\n",
    "-  ticket  : Ticket number\n",
    "-  fare  : fare  \n",
    "-  cabin  : Cabin  \n",
    "-  embarked  : Boarding point or port\n",
    "\n",
    "In this tutorial, we will proceed with model learning except for the name, ticket, and cabin columns that require data preprocessing using additional query statements."
   ]
  },
  {
   "cell_type": "markdown",
   "id": "af169f51-b815-4230-b398-2f9f3e46b7bd",
   "metadata": {},
   "source": [
    "## __2. Create a classification model__"
   ]
  },
  {
   "cell_type": "markdown",
   "id": "8a873dcf-a0a7-40bf-b6d4-7679a63b318a",
   "metadata": {},
   "source": [
    "Create a Survivor Predictive Classification Model using the titanic_train data identified in the previous step. Run the query syntax below to create a model named titanic_classification."
   ]
  },
  {
   "cell_type": "code",
   "execution_count": null,
   "id": "2fb6601a-81af-4c99-af73-4c6894e0ac72",
   "metadata": {
    "tags": []
   },
   "outputs": [],
   "source": [
    "%%thanosql\n",
    "BUILD MODEL tutorial_automl_classification \n",
    "USING AutomlClassifier \n",
    "OPTIONS (\n",
    "    target='survived', \n",
    "    impute_type='iterative',  \n",
    "    features_to_drop=[\"name\", 'ticket', 'passengerid', 'cabin'],\n",
    "    time_left_for_this_task = 300,\n",
    "    overwrite = True\n",
    "    ) \n",
    "AS \n",
    "SELECT * \n",
    "FROM titanic_train"
   ]
  },
  {
   "cell_type": "markdown",
   "id": "6b0fce36",
   "metadata": {},
   "source": [
    "__Query Details__\n",
    "\n",
    "- Create and train a model called <mark style=\"background-color:#E9D7FD\">titanic_automl_classification</mark> using the query syntax \"_BUILD MODEL___\".\n",
    "- For \"target\" in \"__OPTIONS__\", write the name of the column that is the target value in the classification prediction model. For \"imput_type\", it means the processing for empty values in the dataset. \"features_to_drop\" allows you to create a machine learning model by writing down data that you do not want to use for learning."
   ]
  },
  {
   "cell_type": "markdown",
   "id": "63a96457-78da-4d01-a760-953febcf08cd",
   "metadata": {},
   "source": [
    "## __3. Evaluate the generated model__"
   ]
  },
  {
   "cell_type": "markdown",
   "id": "a90ebd34-57f5-4a32-95e6-1b95b0fe9358",
   "metadata": {},
   "source": [
    "Run the query statement below to evaluate the performance of the prediction model you created in the previous step."
   ]
  },
  {
   "cell_type": "code",
   "execution_count": null,
   "id": "67159796-2489-4576-942d-5939f24d962f",
   "metadata": {
    "tags": []
   },
   "outputs": [],
   "source": [
    "%%thanosql \n",
    "EVALUATE USING tutorial_automl_classification \n",
    "OPTIONS (\n",
    "    target = 'survived'\n",
    "    )\n",
    "AS \n",
    "SELECT * \n",
    "FROM titanic_train"
   ]
  },
  {
   "cell_type": "markdown",
   "id": "b4df22cc",
   "metadata": {},
   "source": [
    "__Query Details__\n",
    "- Evaluate a model called 'titanic_automl_classification' built using the query syntax \"__EVALUATE USING__\".\n",
    "- For \"target\" in \"__OPTIONS__\", write the name of the column being the target value in the classification prediction model."
   ]
  },
  {
   "cell_type": "markdown",
   "id": "aa047726-113b-48ae-8247-135a37592945",
   "metadata": {},
   "source": [
    "## __4. Predict survivors using the generated model__"
   ]
  },
  {
   "cell_type": "markdown",
   "id": "7b806743-31a5-4017-b1d6-b6afd6ce4b73",
   "metadata": {},
   "source": [
    "Use the survivor prediction model created in the previous step to predict survival based on occupant information. Use a dataset for testing (data table not used for learning, Titanic_test)."
   ]
  },
  {
   "cell_type": "code",
   "execution_count": null,
   "id": "1df25db0-3352-4893-b0af-6e10cea8f7b0",
   "metadata": {},
   "outputs": [],
   "source": [
    "%%thanosql \n",
    "PREDICT USING tutorial_automl_classification\n",
    "AS \n",
    "SELECT * \n",
    "FROM titanic_test"
   ]
  },
  {
   "cell_type": "markdown",
   "id": "a0ef3104",
   "metadata": {},
   "source": [
    "__Query Details__\n",
    "\n",
    "- Use the \"PREDICT USING\" query syntax to predict the tutorial_automl_classification model created in the previous step. \"PREDICT\" requires no special processing because it follows the procedure of the model created."
   ]
  }
 ],
 "metadata": {
  "kernelspec": {
   "display_name": "Python 3 (ipykernel)",
   "language": "python",
   "name": "python3"
  },
  "language_info": {
   "codemirror_mode": {
    "name": "ipython",
    "version": 3
   },
   "file_extension": ".py",
   "mimetype": "text/x-python",
   "name": "python",
   "nbconvert_exporter": "python",
   "pygments_lexer": "ipython3",
   "version": "3.9.12"
  },
  "vscode": {
   "interpreter": {
    "hash": "31f2aee4e71d21fbe5cf8b01ff0e069b9275f58929596ceb00d14d90e3e16cd6"
   }
  }
 },
 "nbformat": 4,
 "nbformat_minor": 5
}
