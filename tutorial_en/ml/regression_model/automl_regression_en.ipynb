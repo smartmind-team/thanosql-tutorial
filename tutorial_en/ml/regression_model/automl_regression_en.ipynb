{
 "cells": [
  {
   "cell_type": "markdown",
   "id": "edec260f-4232-4817-a035-fe3533030be1",
   "metadata": {},
   "source": [
    "# __Create a regression model using AutoML__"
   ]
  },
  {
   "cell_type": "markdown",
   "id": "1663f276",
   "metadata": {},
   "source": [
    "**Understanding Regression Tasks**\n",
    "--- \n",
    "👉 A regression task is a form of machine learning that is used to predict numbers whose targets are continuous. For example, given weather data, it can be used to predict tomorrow's temperature or to predict house prices in a specific area.\n",
    "\n",
    "\n",
    "**In this tutorial**\n",
    "--- \n",
    "👉 Create a regression model for predicting bicycle demand using the Bike Sharing Demand dataset for beginners of Kaggle, a leading machine learning competition platform. The objectives of the competition are as follows (FYI, the data for the competition are based on the date and time, temperature, humidity and wind speed from 2011 to 2012)\n",
    "\n",
    "- Predict the number of bike rentals per hour on a specific date"
   ]
  },
  {
   "cell_type": "markdown",
   "id": "a68baaf7-ca66-4c0d-bd36-d6066ed22127",
   "metadata": {},
   "source": [
    "## __0. Preparing a dataset__"
   ]
  },
  {
   "cell_type": "markdown",
   "id": "b1f0af35",
   "metadata": {},
   "source": [
    "To use the query syntax of ThanoSQL, you must create an API token and run the query below, as mentioned in the [ThanoSQL Workspace](https://docs.thanosql.ai/quick_start/how_to_use_ThanoSQL/#5-thanosql)."
   ]
  },
  {
   "cell_type": "code",
   "execution_count": null,
   "id": "f543db2d-a192-41e9-878b-bfc3b67d0d6e",
   "metadata": {
    "tags": []
   },
   "outputs": [],
   "source": [
    "%load_ext thanosql\n",
    "%thanosql API_TOKEN=<Issued_API_TOKEN>"
   ]
  },
  {
   "cell_type": "code",
   "execution_count": null,
   "id": "5e344e20-54ab-4c3c-948f-e17fa95ed54a",
   "metadata": {
    "tags": []
   },
   "outputs": [],
   "source": [
    "%%thanosql\n",
    "COPY bike_sharing_train \n",
    "OPTIONS(overwrite= True)\n",
    "FROM \"tutorial_data/bike_sharing_data/bike_sharing_train.csv\""
   ]
  },
  {
   "cell_type": "code",
   "execution_count": null,
   "id": "c262d2e6-d486-4128-92f6-4c998653bee8",
   "metadata": {
    "tags": []
   },
   "outputs": [],
   "source": [
    "%%thanosql\n",
    "COPY bike_sharing_test \n",
    "OPTIONS(overwrite = True)\n",
    "FROM \"tutorial_data/bike_sharing_data/bike_sharing_test.csv\""
   ]
  },
  {
   "cell_type": "markdown",
   "id": "ca05c715",
   "metadata": {},
   "source": [
    "__OPTIONS__ : \n",
    "\n",
    "When __overwrite is true__, the user can create a data table with the same name as the previously created data table.  \n",
    "On the other hand, when __overwrite is False__, the user cannot create a data table with the same name as the previously created data table."
   ]
  },
  {
   "cell_type": "markdown",
   "id": "6a0f8d6e-a01f-4d17-bbcf-e1aac3509e12",
   "metadata": {},
   "source": [
    "## __1. Check the dataset__"
   ]
  },
  {
   "cell_type": "markdown",
   "id": "52f7511a",
   "metadata": {},
   "source": [
    "To proceed with this tutorial, we use the bike_sharing_train table stored in the ThanoSQL DB. Run the query statement below to verify the contents of the table."
   ]
  },
  {
   "cell_type": "code",
   "execution_count": null,
   "id": "2727e422-7a05-4a4e-91cb-6036c22cea51",
   "metadata": {
    "tags": []
   },
   "outputs": [],
   "source": [
    "%%thanosql\n",
    "SELECT * \n",
    "FROM bike_sharing_train \n",
    "LIMIT 5"
   ]
  },
  {
   "cell_type": "markdown",
   "id": "c477e2d6",
   "metadata": {},
   "source": [
    "__Understanding data__ \n",
    "\n",
    "__bike_sharing_train__ dataset contains information on the number of bicycle leases during the 1-hour interval based on date and time, temperature, humidity and wind speed from January 2011 to December 2012.\n",
    "-  datetime : Date by hour  \n",
    "-  season : Seasons (1=spring, 2=summer, 3=fall, 4=winter)\n",
    "-  holiday : Holidays (0 = non-holiday, 1 = national holidays, etc.)\n",
    "-  workingday   : Working day (0 = weekends and holidays; 1 = weekdays except weekends and non-holiday )\n",
    "-  weather   : Weather  \n",
    "-  temp   : Temperature  \n",
    "-  atemp   : Sensory temperature  \n",
    "-  humidity   : Relative humidity  \n",
    "-  windspeed   : Wind speed  \n",
    "-  count   : number of rentals"
   ]
  },
  {
   "cell_type": "markdown",
   "id": "77cd13e0-9820-45d3-8d81-7f84d6789942",
   "metadata": {},
   "source": [
    "## __2. Create a regression model__"
   ]
  },
  {
   "cell_type": "markdown",
   "id": "a7f5dd12-273c-43b0-9c4f-3f8a6b9ac3e6",
   "metadata": {},
   "source": [
    "Create a bike demand prediction regression model using the bike_sharing_train dataset you saw in the previous step. Run the query syntax below to create a model named bike_regession.  \n",
    "\n",
    "(Expected time required for query: 8 min)"
   ]
  },
  {
   "cell_type": "code",
   "execution_count": null,
   "id": "a019d5be-b11a-43e3-8213-c02d3c1ec49e",
   "metadata": {
    "tags": []
   },
   "outputs": [],
   "source": [
    "%%thanosql\n",
    "BUILD MODEL tutorial_automl_regressor\n",
    "USING AutomlRegressor\n",
    "OPTIONS (\n",
    "    target='count', \n",
    "    impute_type='simple', \n",
    "    datetime_attribs=['datetime'],\n",
    "    time_left_for_this_task = 300,\n",
    "    overwrite = True\n",
    "    ) \n",
    "AS\n",
    "SELECT *\n",
    "FROM bike_sharing_train"
   ]
  },
  {
   "cell_type": "markdown",
   "id": "14b85130",
   "metadata": {},
   "source": [
    "- Use the query syntax \"__BUILD MODEL__\" to create and train a model called bike_regession.\n",
    "- For \"target\" in \"__OPTIONS___\", write the name of the column that is the target value of the regression prediction model. For \"imput_type\", it means the processing for empty values in the dataset. \"datetime_attribs\" allows you to create machine learning models by writing down data in date format."
   ]
  },
  {
   "cell_type": "markdown",
   "id": "02898b86",
   "metadata": {},
   "source": [
    "__Overwrite is True__, users can create a data table with the same name as the previously created data table. \n",
    "__Overwrite is False__, user cannot create a data table with the same name as the previously created data table."
   ]
  },
  {
   "cell_type": "markdown",
   "id": "bbb0db7b-2c2a-4c8e-b475-7c908a16b7ba",
   "metadata": {},
   "source": [
    "## __3. Evaluating Generated Models__"
   ]
  },
  {
   "cell_type": "markdown",
   "id": "b5490172-229a-4fb4-86bf-8ad5de2ca74e",
   "metadata": {},
   "source": [
    "Run the query statement below to evaluate the performance of the prediction model you created in the previous step."
   ]
  },
  {
   "cell_type": "code",
   "execution_count": null,
   "id": "16f3413b-c5b0-419b-a09e-da2874b15d32",
   "metadata": {
    "tags": []
   },
   "outputs": [],
   "source": [
    "%%thanosql\n",
    "EVALUATE USING tutorial_automl_regressor \n",
    "OPTIONS (\n",
    "    target='count'\n",
    "    ) \n",
    "AS\n",
    "SELECT *\n",
    "FROM bike_sharing_train"
   ]
  },
  {
   "cell_type": "markdown",
   "id": "48d3f16d",
   "metadata": {},
   "source": [
    "__Query Details__\n",
    "- Evaluate the bike_regression model built using the query syntax \"__EVALUATE USING__\". \n",
    "- \"Target\" in \"__OPTIONS__\", write the name (count) of the column that is the target value of the regression prediction model."
   ]
  },
  {
   "cell_type": "markdown",
   "id": "8b266f94-363e-46bc-a6fd-77898bbc0804",
   "metadata": {},
   "source": [
    "## __4. Predict the number of bike rentals using the generated model__"
   ]
  },
  {
   "cell_type": "markdown",
   "id": "cc532cac-5ad1-4ad4-a3bf-f5cd4dd1ec48",
   "metadata": {},
   "source": [
    "Use the demand forecast model you created in the previous step to predict the number of bicycle rentals for 10 data in the test dataset (data table not used for learning, bike_sharing_test)."
   ]
  },
  {
   "cell_type": "code",
   "execution_count": null,
   "id": "6769745c-45bd-42d9-ac50-b551c11a96b1",
   "metadata": {
    "tags": []
   },
   "outputs": [],
   "source": [
    "%%thanosql\n",
    "PREDICT USING tutorial_automl_regressor \n",
    "AS\n",
    "SELECT *\n",
    "FROM bike_sharing_test\n",
    "LIMIT 10"
   ]
  },
  {
   "cell_type": "markdown",
   "id": "b2ccc6b9",
   "metadata": {},
   "source": [
    "__Query Details__\n",
    "\n",
    "- Use the query syntax \"__PREDICTUSING__\" to predict the <mark style=\"background-color:#E9D7FD\">bike_regression</mark> model. \n",
    "- \"__PREDICT__\" requires no special processing because it follows the procedure of the generated model."
   ]
  }
 ],
 "metadata": {
  "kernelspec": {
   "display_name": "Python 3 (ipykernel)",
   "language": "python",
   "name": "python3"
  },
  "language_info": {
   "codemirror_mode": {
    "name": "ipython",
    "version": 3
   },
   "file_extension": ".py",
   "mimetype": "text/x-python",
   "name": "python",
   "nbconvert_exporter": "python",
   "pygments_lexer": "ipython3",
   "version": "3.9.12"
  },
  "vscode": {
   "interpreter": {
    "hash": "31f2aee4e71d21fbe5cf8b01ff0e069b9275f58929596ceb00d14d90e3e16cd6"
   }
  }
 },
 "nbformat": 4,
 "nbformat_minor": 5
}
