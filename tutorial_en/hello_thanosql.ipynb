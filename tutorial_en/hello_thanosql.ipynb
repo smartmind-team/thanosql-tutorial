{
 "cells": [
  {
   "cell_type": "markdown",
   "id": "d7619d53-33a7-480a-91ec-dff71eefd99f",
   "metadata": {
    "tags": []
   },
   "source": [
    "# __Hello ThanoSQL!__\n",
    "\n",
    "ThanoSQL is an integrated platform that enables Query and AI modeling of both structured and unstructured data using only SQL. Relational DataBase (RDB), AI, and Big Data Platform capabilities can be utilized on a single ThanoSQL platform, dramatically reducing the inefficiencies of AI-based digital transformation.\n",
    "\n",
    "- ThanoSQL can query both structured and unstructured data using only SQL, enabling fast AI modeling.\n",
    "- Replacing a Lambda architecture-based unstructured big data platform with ThanoSQL enables development, deployment, and operation to be done in one process.\n",
    "- Based on big data processing and distributed parallel processing technology, data processing is more than twice as faster than before.\n",
    "\n",
    "## __Using ThanoSQL Workspace__\n",
    "ThanoSQL's workspace is a web-based computing environment based on [Jupyter Lab](https://github.com/jupyterlab/jupyterlab).\n",
    "\n",
    "In order to use `ThanoSQL` in this environment, the `thanosql` cell magic must be loaded first.\n",
    "\n",
    "(You can press the run button at the top, or run it with either the `Ctrl + Enter` or `Shift + Enter` shortcut.)"
   ]
  },
  {
   "cell_type": "code",
   "execution_count": 1,
   "id": "99673df8-293d-41ee-8f43-d6ffe3739f90",
   "metadata": {
    "tags": []
   },
   "outputs": [],
   "source": [
    "%load_ext thanosql"
   ]
  },
  {
   "cell_type": "markdown",
   "id": "7d421d64-ae65-43be-bc15-c31c036079fb",
   "metadata": {},
   "source": [
    "Next, to set the workspace's API_TOKEN, press the `Get API_TOKEN` button at the top of the browser to copy the API Token then paste it into the cell as shown.\n",
    "\n",
    "```\n",
    "%thanosql API_TOKEN=<Issued_API_TOKEN>\n",
    "\n",
    "Example)\n",
    "%thanosql API_TOKEN=eyJhbGciOiJIUzI1NiIsInR..\n",
    "```"
   ]
  },
  {
   "cell_type": "code",
   "execution_count": null,
   "id": "68fbbf28-ac43-4a46-93ff-89ece6ccab31",
   "metadata": {},
   "outputs": [],
   "source": [
    "%thanosql API_TOKEN=<Issued_API_TOKEN>"
   ]
  },
  {
   "cell_type": "markdown",
   "id": "80527c2b-c636-420d-97e0-e2fb4f7dc38d",
   "metadata": {},
   "source": [
    "All preparations to use `ThanoSQL` are complete."
   ]
  },
  {
   "cell_type": "markdown",
   "id": "ed036ccf",
   "metadata": {},
   "source": [
    "## __Import Tutorial__\n",
    "If you want to download a specific tutorial, just execute the statement below. You can check the Github URLs of the tutorials using the link below.\n",
    "\n",
    "[Tutorial Github URL List](https://docs.thanosql.ai/en/getting_started/hello_ThanoSQL/#4-get-tutorial)"
   ]
  },
  {
   "cell_type": "code",
   "execution_count": null,
   "id": "2f021095",
   "metadata": {},
   "outputs": [],
   "source": [
    "!wget [Github URL of Tutorial to import]"
   ]
  },
  {
   "cell_type": "markdown",
   "id": "727ca4b2-1bde-404c-9733-42db5380d44b",
   "metadata": {},
   "source": [
    "## __Import Dataset__\n",
    "If you want to download a specific dataset, just execute the statement below. "
   ]
  },
  {
   "cell_type": "code",
   "execution_count": null,
   "id": "df781a69-fda9-4370-be45-369558005b93",
   "metadata": {},
   "outputs": [],
   "source": [
    "%%thanosql\n",
    "GET THANOSQL DATASET <Dataset Name>\n",
    "OPTIONS (overwrite=True)"
   ]
  },
  {
   "cell_type": "markdown",
   "id": "e3581795-032d-4535-9e5a-df8fa89a603e",
   "metadata": {},
   "source": [
    "<div class=\"admonition note\">\n",
    "    <h4 class=\"admonition-title\">Query Details</h4>\n",
    "    <ul>\n",
    "        <li>\"<strong>GET THANOSQL DATASET</strong>\" downloads the specified dataset to the workspace. </li>\n",
    "        <li>\"<strong>OPTIONS</strong>\" specifies the option values to be used for the <strong>GET THANOSQL DATASET</strong> clause.\n",
    "        <ul>\n",
    "            <li>\"overwrite\" : determines whether to overwrite a dataset if it already exists. If set as True, the old dataset is replaced with the new dataset (True|False, DEFAULT : False) </li>\n",
    "        </ul>\n",
    "        </li>\n",
    "    </ul>\n",
    "</div>"
   ]
  },
  {
   "cell_type": "markdown",
   "id": "3b8fd15c-d3d9-4e03-a970-f787adc77124",
   "metadata": {},
   "source": [
    "To view a list of the available datasets, run the ThanoSQL statement below."
   ]
  },
  {
   "cell_type": "code",
   "execution_count": 3,
   "id": "72c6aa3c-334d-48bd-ac2e-ad7811a8edb1",
   "metadata": {
    "tags": []
   },
   "outputs": [
    {
     "data": {
      "text/html": [
       "<div>\n",
       "<style scoped>\n",
       "    .dataframe tbody tr th:only-of-type {\n",
       "        vertical-align: middle;\n",
       "    }\n",
       "\n",
       "    .dataframe tbody tr th {\n",
       "        vertical-align: top;\n",
       "    }\n",
       "\n",
       "    .dataframe thead th {\n",
       "        text-align: right;\n",
       "    }\n",
       "</style>\n",
       "<table border=\"1\" class=\"dataframe\">\n",
       "  <thead>\n",
       "    <tr style=\"text-align: right;\">\n",
       "      <th></th>\n",
       "      <th>name</th>\n",
       "      <th>data_type</th>\n",
       "    </tr>\n",
       "  </thead>\n",
       "  <tbody>\n",
       "    <tr>\n",
       "      <th>0</th>\n",
       "      <td>librispeech_data</td>\n",
       "      <td>audio</td>\n",
       "    </tr>\n",
       "    <tr>\n",
       "      <th>1</th>\n",
       "      <td>mnist_data</td>\n",
       "      <td>image</td>\n",
       "    </tr>\n",
       "    <tr>\n",
       "      <th>2</th>\n",
       "      <td>product_image_data</td>\n",
       "      <td>image</td>\n",
       "    </tr>\n",
       "    <tr>\n",
       "      <th>3</th>\n",
       "      <td>titanic_data</td>\n",
       "      <td>tabular</td>\n",
       "    </tr>\n",
       "    <tr>\n",
       "      <th>4</th>\n",
       "      <td>unsplash_data</td>\n",
       "      <td>image</td>\n",
       "    </tr>\n",
       "    <tr>\n",
       "      <th>5</th>\n",
       "      <td>bike_sharing_data</td>\n",
       "      <td>tabular</td>\n",
       "    </tr>\n",
       "    <tr>\n",
       "      <th>6</th>\n",
       "      <td>cat_and_dog_data</td>\n",
       "      <td>image</td>\n",
       "    </tr>\n",
       "    <tr>\n",
       "      <th>7</th>\n",
       "      <td>diet_data</td>\n",
       "      <td>image</td>\n",
       "    </tr>\n",
       "    <tr>\n",
       "      <th>8</th>\n",
       "      <td>movie_review_data</td>\n",
       "      <td>tabular</td>\n",
       "    </tr>\n",
       "    <tr>\n",
       "      <th>9</th>\n",
       "      <td>nsmc_data</td>\n",
       "      <td>tabular</td>\n",
       "    </tr>\n",
       "    <tr>\n",
       "      <th>10</th>\n",
       "      <td>coco_person_data</td>\n",
       "      <td>image</td>\n",
       "    </tr>\n",
       "    <tr>\n",
       "      <th>11</th>\n",
       "      <td>kinetics700_data</td>\n",
       "      <td>video</td>\n",
       "    </tr>\n",
       "    <tr>\n",
       "      <th>12</th>\n",
       "      <td>korean_voice_data</td>\n",
       "      <td>audio</td>\n",
       "    </tr>\n",
       "  </tbody>\n",
       "</table>\n",
       "</div>"
      ],
      "text/plain": [
       "                  name data_type\n",
       "0     librispeech_data     audio\n",
       "1           mnist_data     image\n",
       "2   product_image_data     image\n",
       "3         titanic_data   tabular\n",
       "4        unsplash_data     image\n",
       "5    bike_sharing_data   tabular\n",
       "6     cat_and_dog_data     image\n",
       "7            diet_data     image\n",
       "8    movie_review_data   tabular\n",
       "9            nsmc_data   tabular\n",
       "10    coco_person_data     image\n",
       "11    kinetics700_data     video\n",
       "12   korean_voice_data     audio"
      ]
     },
     "execution_count": 3,
     "metadata": {},
     "output_type": "execute_result"
    }
   ],
   "source": [
    "%%thanosql\n",
    "LIST THANOSQL DATASET"
   ]
  },
  {
   "cell_type": "markdown",
   "id": "561a2998-fcf6-4038-ac63-cab7307570a4",
   "metadata": {},
   "source": [
    "## __Import Prebuilt ThanoSQL Model__\n",
    "If you want to download a specific prebuilt ThanoSQL model, just execute the statement below. "
   ]
  },
  {
   "cell_type": "code",
   "execution_count": null,
   "id": "f37ff445-5993-47cf-996b-afcb4dc4b29d",
   "metadata": {},
   "outputs": [],
   "source": [
    "%%thanosql\n",
    "GET THANOSQL MODEL <ThanoSQL Model Name>\n",
    "OPTIONS (overwrite=True)\n",
    "AS <User-defined Model Name>"
   ]
  },
  {
   "cell_type": "markdown",
   "id": "d568f90b-c775-472d-9b4e-1d76d32e6f6a",
   "metadata": {},
   "source": [
    "<div class=\"admonition note\">\n",
    "    <h4 class=\"admonition-title\">Query Details </h4>\n",
    "    <ul>\n",
    "        <li>\"<strong>GET THANOSQL MODEL</strong>\" downloads the specified model to the workspace. </li>\n",
    "        <li>\"<strong>OPTIONS</strong>\" specifies the option values to be used for the <strong>GET THANOSQL MODEL</strong> clause.\n",
    "        <ul>\n",
    "            <li>\"overwrite\" : determines whether to overwrite a model if it already exists. If set as True, the old model is replaced with the new model (True|False, DEFAULT : False) </li>\n",
    "        </ul>\n",
    "        </li>\n",
    "        <li>\"<strong>AS</strong>\" names the given model. If not specified, the model will be named as the default <code>THANOSQL MODEL</code> name.</li>\n",
    "    </ul>\n",
    "</div>"
   ]
  },
  {
   "cell_type": "markdown",
   "id": "2a1da054-40d4-4710-b997-1be871e688a8",
   "metadata": {},
   "source": [
    "To view a list of prebuilt ThanoSQL models, run the ThanoSQL statement below."
   ]
  },
  {
   "cell_type": "code",
   "execution_count": 4,
   "id": "702ea2c1-fbd5-4de1-a190-5a1e841f9d11",
   "metadata": {
    "scrolled": true,
    "tags": []
   },
   "outputs": [
    {
     "data": {
      "text/html": [
       "<div>\n",
       "<style scoped>\n",
       "    .dataframe tbody tr th:only-of-type {\n",
       "        vertical-align: middle;\n",
       "    }\n",
       "\n",
       "    .dataframe tbody tr th {\n",
       "        vertical-align: top;\n",
       "    }\n",
       "\n",
       "    .dataframe thead th {\n",
       "        text-align: right;\n",
       "    }\n",
       "</style>\n",
       "<table border=\"1\" class=\"dataframe\">\n",
       "  <thead>\n",
       "    <tr style=\"text-align: right;\">\n",
       "      <th></th>\n",
       "      <th>name</th>\n",
       "      <th>class_name</th>\n",
       "      <th>last_updated_utc</th>\n",
       "    </tr>\n",
       "  </thead>\n",
       "  <tbody>\n",
       "    <tr>\n",
       "      <th>0</th>\n",
       "      <td>clip</td>\n",
       "      <td>CLIP</td>\n",
       "      <td>2022-11-03 00:00:00</td>\n",
       "    </tr>\n",
       "    <tr>\n",
       "      <th>1</th>\n",
       "      <td>whisper_s</td>\n",
       "      <td>Whisper</td>\n",
       "      <td>2022-11-03 00:00:00</td>\n",
       "    </tr>\n",
       "    <tr>\n",
       "      <th>2</th>\n",
       "      <td>whisper_l</td>\n",
       "      <td>Whisper</td>\n",
       "      <td>2022-11-03 00:00:00</td>\n",
       "    </tr>\n",
       "    <tr>\n",
       "      <th>3</th>\n",
       "      <td>electra</td>\n",
       "      <td>ElectraEn</td>\n",
       "      <td>2022-11-03 00:00:00</td>\n",
       "    </tr>\n",
       "    <tr>\n",
       "      <th>4</th>\n",
       "      <td>xclip</td>\n",
       "      <td>XCLIP</td>\n",
       "      <td>2022-11-03 00:00:00</td>\n",
       "    </tr>\n",
       "    <tr>\n",
       "      <th>5</th>\n",
       "      <td>vqa</td>\n",
       "      <td>VQA</td>\n",
       "      <td>2022-11-03 00:00:00</td>\n",
       "    </tr>\n",
       "    <tr>\n",
       "      <th>6</th>\n",
       "      <td>wav2vec2</td>\n",
       "      <td>Wav2Vec2En</td>\n",
       "      <td>2022-11-03 00:00:00</td>\n",
       "    </tr>\n",
       "    <tr>\n",
       "      <th>7</th>\n",
       "      <td>simclr</td>\n",
       "      <td>SimCLR</td>\n",
       "      <td>2022-11-03 00:00:00</td>\n",
       "    </tr>\n",
       "  </tbody>\n",
       "</table>\n",
       "</div>"
      ],
      "text/plain": [
       "        name  class_name     last_updated_utc\n",
       "0       clip        CLIP  2022-11-03 00:00:00\n",
       "1  whisper_s     Whisper  2022-11-03 00:00:00\n",
       "2  whisper_l     Whisper  2022-11-03 00:00:00\n",
       "3    electra   ElectraEn  2022-11-03 00:00:00\n",
       "4      xclip       XCLIP  2022-11-03 00:00:00\n",
       "5        vqa         VQA  2022-11-03 00:00:00\n",
       "6   wav2vec2  Wav2Vec2En  2022-11-03 00:00:00\n",
       "7     simclr      SimCLR  2022-11-03 00:00:00"
      ]
     },
     "execution_count": 4,
     "metadata": {},
     "output_type": "execute_result"
    }
   ],
   "source": [
    "%%thanosql\n",
    "LIST THANOSQL MODEL"
   ]
  }
 ],
 "metadata": {
  "kernelspec": {
   "display_name": "Python 3 (ipykernel)",
   "language": "python",
   "name": "python3"
  },
  "language_info": {
   "codemirror_mode": {
    "name": "ipython",
    "version": 3
   },
   "file_extension": ".py",
   "mimetype": "text/x-python",
   "name": "python",
   "nbconvert_exporter": "python",
   "pygments_lexer": "ipython3",
   "version": "3.10.6"
  },
  "latex_envs": {
   "LaTeX_envs_menu_present": true,
   "autoclose": false,
   "autocomplete": true,
   "bibliofile": "biblio.bib",
   "cite_by": "apalike",
   "current_citInitial": 1,
   "eqLabelWithNumbers": true,
   "eqNumInitial": 1,
   "hotkeys": {
    "equation": "Ctrl-E",
    "itemize": "Ctrl-I"
   },
   "labels_anchors": false,
   "latex_user_defs": false,
   "report_style_numbering": false,
   "user_envs_cfg": false
  },
  "nbTranslate": {
   "displayLangs": [
    "*"
   ],
   "hotkey": "alt-t",
   "langInMainMenu": true,
   "sourceLang": "en",
   "targetLang": "fr",
   "useGoogleTranslate": true
  },
  "vscode": {
   "interpreter": {
    "hash": "31f2aee4e71d21fbe5cf8b01ff0e069b9275f58929596ceb00d14d90e3e16cd6"
   }
  }
 },
 "nbformat": 4,
 "nbformat_minor": 5
}
