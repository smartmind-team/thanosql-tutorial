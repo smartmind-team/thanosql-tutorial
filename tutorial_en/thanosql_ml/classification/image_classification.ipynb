{
 "cells": [
  {
   "cell_type": "markdown",
   "id": "6cfd2a8c-fdfc-4233-abd1-ece097069522",
   "metadata": {},
   "source": [
    "# __Create an image classification model__"
   ]
  },
  {
   "cell_type": "markdown",
   "id": "407db758",
   "metadata": {},
   "source": [
    "## Preface\n",
    "\n",
    "- Tutorial Difficulty: ★☆☆☆☆\n",
    "- 10 min read\n",
    "- Languages : [SQL](https://en.wikipedia.org/wiki/SQL) (100%)\n",
    "- File location : tutorial_en/thanosql_ml/classification/image_classification.ipynb\n",
    "- References : [(AI-Hub) Product image data](https://aihub.or.kr/aihubdata/data/view.do?currMenu=115&topMenu=100&aihubDataSe=realm&dataSetSn=64), [A ConvNet for the 2020s](https://arxiv.org/abs/2201.03545)"
   ]
  },
  {
   "cell_type": "markdown",
   "id": "125a9e8e",
   "metadata": {},
   "source": [
    "## Tutorial Introduction\n",
    "\n",
    "<div class=\"admonition note\">\n",
    "    <h4 class=\"admonition-title\">Understanding Classification</h4>\n",
    "    <p>Classification is a form of <a href=\"https://en.wikipedia.org/wiki/Machine_learning\">Machine Learning</a> used to predict categories (Category or Class) to which the target belongs to. For example, both binary classifications (used for classifying men or women) and multiple classifications (used to predict animal species such as dogs, cats, rabbits, etc.) are included in the classification tasks. <br></p>\n",
    "</div>\n",
    "\n",
    "The image classification contest ([ImageNet](https://en.wikipedia.org/wiki/ImageNet)) has been held since 2010. The winning model at the beginning of the competition showed a 72% accuracy. In 2015, the [ResNet](https://arxiv.org/abs/1512.03385) model that won showed 96% accuracy and started to surpass human classification capabilities.\n",
    "\n",
    "<div class=\"admonition tip\">\n",
    "   <p>The human ability to classify the same data is estimated at about 95%.</p>\n",
    "</div>\n",
    "\n",
    "Even though [Data labeling](https://en.wikipedia.org/wiki/Labeled_data) is important for accurate image classification, methods of correcting the dataset using the weights of the pre-trained model are widely used. This method allows deep learning models training even with a relatively small number of data.\n",
    "\n",
    "ThanoSQL provides a variety of pre-trained models and allows model creation using simple queries. With this, users can derive insights from images with difficult to quantify features with properly trained models and utilize them for various services.\n",
    "\n",
    "__The following are examples and applications of the ThanoSQL classification model.__\n",
    "\n",
    "- The ThanoSQL image classification model reduces the process of finding suitable categories for product registration in online sales services. You can categorize product photos with a simple query. Users can save time compared to traditional image classification by focusing just on correcting some misclassified data.\n",
    "\n",
    "- When renting or selling art works, you can roughly classify works that are difficult to classify because of their vague criteria such as the feeling, technique, and suitable location of each work using the image classification model.\n",
    "\n",
    "- You can detect and classify defective products with scratches and damage that were visually checked in manufacturing plants. Signal information such as laser spectrum can also be applied to the image classification model by being processed with techniques such as visualization transformation.\n",
    "\n",
    "<div class=\"admonition tip\">\n",
    "   <p>You can also use the behavioral trend of people who like art to create a classification model that finds groups of people who are most likely to enjoy a particular piece of art. In other words, using only artwork images, you can create a model that predicts preferences based on age, gender, place, and etc.\n",
    "</div>\n",
    "\n",
    "<div class=\"admonition note\">\n",
    "   <h4 class=\"admonition-title\">In this tutorial</h4>\n",
    "   <p>👉 Build an image classification model to classify more than 10,000 products using the <code>Product Image</code> dataset from <a href=\"https://aihub.or.kr/\">AI-Hub</a>, a data sharing platform. The model can be used for detection and identification in smart warehouses and unmanned stores.\n",
    "   The model can be used as a detection solution in smart logistics warehouses and unmanned stores. Datasets typically consist of over 10,000 products with images and label (correct) pairs used to for image classification techniques, and contain a total of 1,440,000 images. In this tutorial, you will use 1,800 training data points and 200 test data points to learn how to use ThanoSQL and to obtain results quickly. <br></p>\n",
    "</div>\n",
    "\n",
    "<a href=\"https://docs.thanosql.ai/img/thanosql_ml/classification/image_classification/image_classification_data_intro.png\">\n",
    "   <img alt=\"Product Image Example\" src=\"https://docs.thanosql.ai/img/thanosql_ml/classification/image_classification/image_classification_data_intro.png\">\n",
    "</a>\n",
    "\n",
    "<div class=\"admonition warning\">\n",
    "   <h4 class=\"admonition-title\">Tutorial Precautions</h4>\n",
    "   <ul>\n",
    "      <li>The image classification model can be used to predict one target value (Target, Category) from one image.</li>\n",
    "      <li>Both a column representing the image path and a column representing the target value of the image must exist.</li>\n",
    "      <li>The base model of the corresponding image classification model (<code>CONVNEXT</code>) uses GPU. Depending on the size and the batch size of the model used, GPU memory may be insufficient. In this case, try using a smaller model or reducing the batch size of the model.</li>\n",
    "   </ul>\n",
    "</div>"
   ]
  },
  {
   "cell_type": "markdown",
   "id": "41fe39bb-e2cb-497f-bff9-a51fbc633c36",
   "metadata": {},
   "source": [
    "## __0. Prepare Dataset__\n",
    "\n",
    "To run ThanoSQL queries, you must create an API token and run the code below, as mentioned in the [ThanoSQL Workspace](https://docs.thanosql.ai/en/getting_started/how_to_use_ThanoSQL/#5-thanosql-workspace)."
   ]
  },
  {
   "cell_type": "code",
   "execution_count": null,
   "id": "8a1b1d06-b29f-4ade-91e2-7e4c6c33f8a1",
   "metadata": {
    "tags": []
   },
   "outputs": [],
   "source": [
    "%load_ext thanosql\n",
    "%thanosql API_TOKEN=<Issued_API_TOKEN>"
   ]
  },
  {
   "cell_type": "markdown",
   "id": "073a6182",
   "metadata": {},
   "source": [
    "### __Prepare Dataset__"
   ]
  },
  {
   "cell_type": "code",
   "execution_count": null,
   "id": "97ef9121",
   "metadata": {},
   "outputs": [],
   "source": [
    "%%thanosql\n",
    "GET THANOSQL DATASET product_image_data\n",
    "OPTIONS (overwrite=True)"
   ]
  },
  {
   "cell_type": "markdown",
   "id": "1ec2d024",
   "metadata": {},
   "source": [
    "<div class=\"admonition note\">\n",
    "    <h4 class=\"admonition-title\">Query Details</h4>\n",
    "    <ul>\n",
    "        <li>\"<strong>GET THANOSQL DATASET</strong>\" Use this query statement to save the desired dataset to your workspace environment. </li>\n",
    "        <li>\"<strong>OPTIONS</strong>\" Use this statement to specify the option to use for the <strong>GET THANOSQL DATASET</strong> query statement.\n",
    "        <ul>\n",
    "            <li>\"overwrite\" : Overwrite if a dataset with the same name exists. If set as True, the existing dataset is replaced with the new dataset (True|False, DEFAULT : False) </li>\n",
    "        </ul>\n",
    "        </li>\n",
    "    </ul>\n",
    "</div>"
   ]
  },
  {
   "cell_type": "code",
   "execution_count": null,
   "id": "6e596460-cfe4-4c42-9aeb-71ca8ed9b4d6",
   "metadata": {
    "tags": []
   },
   "outputs": [],
   "source": [
    "%%thanosql\n",
    "COPY product_image_train\n",
    "OPTIONS (overwrite=True)\n",
    "FROM \"thanosql-dataset/product_image_data/product_image_train.csv\""
   ]
  },
  {
   "cell_type": "code",
   "execution_count": null,
   "id": "6b62469f-2a6e-443b-b317-115805e8925e",
   "metadata": {
    "tags": []
   },
   "outputs": [],
   "source": [
    "%%thanosql\n",
    "COPY product_image_test\n",
    "OPTIONS (overwrite=True)\n",
    "FROM \"thanosql-dataset/product_image_data/product_image_test.csv\""
   ]
  },
  {
   "cell_type": "markdown",
   "id": "984aefd3",
   "metadata": {},
   "source": [
    "<div class=\"admonition note\">\n",
    "    <h4 class=\"admonition-title\">Query Details</h4>\n",
    "    <ul>\n",
    "        <li>Use the \"<strong>COPY</strong>\" clause to specify the dataset to be copied into the DB. </li>\n",
    "        <li>\"<strong>OPTIONS</strong>\" specifies the options to use for <strong>COPY</strong> clause.\n",
    "        <ul>\n",
    "            <li>\"overwrite\" : Overwrite if a dataset with the same name exists. If True, the existing dataset is overwritten with the new dataset. (True|False, DEFAULT : False) </li>\n",
    "        </ul>\n",
    "        </li>\n",
    "    </ul>\n",
    "</div>"
   ]
  },
  {
   "cell_type": "markdown",
   "id": "63f797e8",
   "metadata": {},
   "source": [
    "### __Prepare the Model__"
   ]
  },
  {
   "cell_type": "code",
   "execution_count": null,
   "id": "331680b0",
   "metadata": {},
   "outputs": [],
   "source": [
    "%%thanosql\n",
    "GET THANOSQL MODEL tutorial_product_classifier\n",
    "OPTIONS (overwrite=True)\n",
    "AS tutorial_product_classifier"
   ]
  },
  {
   "cell_type": "markdown",
   "id": "f38bd64f",
   "metadata": {},
   "source": [
    "<div class=\"admonition note\">\n",
    "    <h4 class=\"admonition-title\">Query Details </h4>\n",
    "    <ul>\n",
    "        <li>\"<strong>GET THANOSQL MODEL</strong>\" downloads the specified model to the workspace. </li>\n",
    "        <li>\"<strong>OPTIONS</strong>\" specifies the option values to be used for the <strong>GET THANOSQL MODEL</strong> clause.\n",
    "        <ul>\n",
    "            <li>\"overwrite\" : Determines whether to overwrite a model if it already exists. If set as True, the old model is replaced with the new model (True|False, DEFAULT : False) </li>\n",
    "        </ul>\n",
    "        </li>\n",
    "        <li>\"<strong>AS</strong>\" names the given model. If not specified, the model will be named as the default <code>THANOSQL MODEL</code> name.</li>\n",
    "    </ul>\n",
    "</div>"
   ]
  },
  {
   "cell_type": "markdown",
   "id": "e557a156-1075-41df-b19f-ff0812a14b4c",
   "metadata": {},
   "source": [
    "## __1. Check Dataset__\n",
    "\n",
    "To create the image classification  model, we use the <mark style=\"background-color:#FFEC92 \">product_image_train</mark> table from the ThanoSQL database. Run the query below to check the contents of the table."
   ]
  },
  {
   "cell_type": "code",
   "execution_count": null,
   "id": "49d801df-54d2-4809-bbed-69b2818e9cec",
   "metadata": {
    "tags": []
   },
   "outputs": [],
   "source": [
    "%%thanosql\n",
    "SELECT *\n",
    "FROM product_image_train\n",
    "LIMIT 5"
   ]
  },
  {
   "cell_type": "markdown",
   "id": "12e90b90",
   "metadata": {},
   "source": [
    "<div class=\"admonition note\">\n",
    "   <h4 class=\"admonition-title\">Understanding the Data</h4>\n",
    "   <ul>\n",
    "      <li><mark style=\"background-color:#D7D0FF \">image_path</mark>: Image file's path location</li>\n",
    "      <li><mark style=\"background-color:#D7D0FF \">div_l</mark> : Large classification of Products</li>\n",
    "      <li><mark style=\"background-color:#D7D0FF \">div_m</mark> : Middle classification of Products</li>\n",
    "      <li><mark style=\"background-color:#D7D0FF \">div_s</mark> : Subclassification of Products</li>\n",
    "      <li><mark style=\"background-color:#D7D0FF \">div_n</mark> : Detailed classification of Products</li>\n",
    "      <li><mark style=\"background-color:#D7D0FF \">comp_nm</mark> : Manufacturer</li>\n",
    "      <li><mark style=\"background-color:#D7D0FF \">img_prod_nm</mark> : Product name (image)</li>\n",
    "      <li><mark style=\"background-color:#D7D0FF \">multi</mark> : Whether image has multiple products</li>\n",
    "   </ul>\n",
    "</div>"
   ]
  },
  {
   "cell_type": "code",
   "execution_count": null,
   "id": "d28b5a16-ed9c-4194-9455-1751e0e3d7da",
   "metadata": {
    "tags": []
   },
   "outputs": [],
   "source": [
    "%%thanosql\n",
    "PRINT IMAGE\n",
    "AS\n",
    "SELECT image_path\n",
    "FROM product_image_train\n",
    "LIMIT 5"
   ]
  },
  {
   "cell_type": "markdown",
   "id": "e9b4137e-75ad-4bea-bda0-0c7fcdb3b72b",
   "metadata": {},
   "source": [
    "## __2. Predicting Product Image Classification Results Using Pre-trained Models__\n",
    "\n",
    "To predict the results using the <mark style=\"background-color:#E9D7FD \">tutorial_product_classifier</mark> model, a pre-trained image classification model, run the query below."
   ]
  },
  {
   "cell_type": "code",
   "execution_count": null,
   "id": "52c94b69-7a76-4ecb-b122-5698786dd206",
   "metadata": {
    "tags": []
   },
   "outputs": [],
   "source": [
    "%%thanosql\n",
    "PREDICT USING tutorial_product_classifier\n",
    "AS\n",
    "SELECT *\n",
    "FROM product_image_test"
   ]
  },
  {
   "cell_type": "markdown",
   "id": "6fcbcf7c-d66d-41e4-a54a-172f70940830",
   "metadata": {},
   "source": [
    "## __3. Create an image classification model__\n",
    "\n",
    "Create an image classification model using the <mark style=\"background-color:#FFEC92 \">product_image_train</mark> dataset from the previous step. Execute the query below to create a model named <mark style=\"background-color:#E9D7FD \">my_product_classifier</mark>.  \n",
    "(Estimated duration of query execution: 5 min)"
   ]
  },
  {
   "cell_type": "code",
   "execution_count": null,
   "id": "8ffb0317-476e-409f-baa3-dc562d924e99",
   "metadata": {
    "tags": []
   },
   "outputs": [],
   "source": [
    "%%thanosql\n",
    "BUILD MODEL my_product_classifier\n",
    "USING ConvNeXt_Tiny\n",
    "OPTIONS (\n",
    "  image_col='image_path',\n",
    "  label_col='div_l',\n",
    "  epochs=1,\n",
    "  overwrite=True\n",
    "  )\n",
    "AS\n",
    "SELECT *\n",
    "FROM product_image_train"
   ]
  },
  {
   "cell_type": "markdown",
   "id": "47327fed",
   "metadata": {},
   "source": [
    "<div class=\"admonition note\">\n",
    "    <h4 class=\"admonition-title\">Query Details</h4>\n",
    "    <ul>\n",
    "        <li>\"<strong>BUILD MODEL</strong>\" creates and trains a model named <mark style=\"background-color:#E9D7FD\">my_product_classifier</mark>.</li>\n",
    "        <li>\"<strong>USING</strong>\" specifies <code>ConvNeXt_Tiny</code> as the base model</li>\n",
    "        <li>\"<strong>OPTIONS</strong>\" specifies the option values used to create the model.\n",
    "        <ul>\n",
    "            <li>\"image_col\" : Name of column containing the image path</li>\n",
    "            <li>\"label_col\" : Name of the column containing information about the target value</li>\n",
    "            <li>\"epochs : Number of times the training the dataset is repeated</li>\n",
    "        </ul>\n",
    "        </li>\n",
    "    </ul>\n",
    "</div>\n",
    "\n",
    "<div class=\"admonition tip\">\n",
    "    <p>In this example, we set \"epochs\" to 1 to train the model quickly. In general, larger number of \"epochs\" increases performance of the inference at the cost of the computation time.</p>\n",
    "</div>\n",
    "\n",
    "<div class=\"admonition note\">\n",
    "    <p>When <strong>overwrite is set as True </strong>, users can create a table with the same name as the previously created table.<br>\n",
    "    On the other hand, when <strong>overwrite is set as False</strong>, users would not be able to create a table with the same name as the previously created table.</p>\n",
    "</div>"
   ]
  },
  {
   "cell_type": "markdown",
   "id": "d6402263-ff45-45e8-b221-27c1ff97c556",
   "metadata": {},
   "source": [
    "## __4. Predict product image classification results using the generated model__\n",
    "\n",
    "With image classification model created in the previous step (<mark style=\"background-color:#E9D7FD \">my_product_classifier</mark>), try predicting the target value from <mark style=\"background-color:#FFEC92\">product_image_test</mark>. After running the query below, the prediction result is stored in the <mark style=\"background-color:#D7D0FF\">predicted</mark> column."
   ]
  },
  {
   "cell_type": "code",
   "execution_count": null,
   "id": "530b828d-962c-4115-a417-59ca2c621e98",
   "metadata": {
    "tags": []
   },
   "outputs": [],
   "source": [
    "%%thanosql\n",
    "PREDICT USING my_product_classifier\n",
    "OPTIONS (\n",
    "    image_col='image_path'\n",
    "    )\n",
    "AS\n",
    "SELECT *\n",
    "FROM product_image_test"
   ]
  },
  {
   "cell_type": "markdown",
   "id": "2c4d903a",
   "metadata": {},
   "source": [
    "<div class=\"admonition note\">\n",
    "    <h4 class=\"admonition-title\">Query details</h4>\n",
    "    <ul>\n",
    "        <li>Use the <mark style=\"background-color:#E9D7FD\">my_product_classifier</mark> model created in the previous step with the \"<strong>PREDICT USING</strong>\" query.</li>\n",
    "        <li>\"<strong>OPTIONS</strong>\" specifies the option values used to create the model.\n",
    "        <ul>\n",
    "            <li>\"image_col\" : The name of the column where the path of the image used for prediction is stored.</li>\n",
    "        </ul>\n",
    "        </li>\n",
    "    </ul>\n",
    "</div>"
   ]
  },
  {
   "cell_type": "markdown",
   "id": "5389cb4a",
   "metadata": {},
   "source": [
    "## __5. In Conclusion__\n",
    "\n",
    "In this tutorial, we created an image classification model using the <mark style=\"background-color:#FFD79C\">product image</mark> dataset. As this is a beginner-level tutorial, we focused on the development process rather than focusing on accuracy. The image classification model can improve its accuracy with fine tuning based on each the service, and more satisfactory results can be obtained with a small amount of data labeling. It is also possible to train the base model using your own data, or to vectorize and transform your data using a self-supervised model, and then distributing it using automated machine learning (Auto-ML) technique. Create your own model and provide competitive services by combining various unstructured data (audio, video, text, etc.) and structured data.\n",
    "\n",
    "The [Creating an Intermediate Image Classification Model] tutorial, takes an in-depth look at image classification models. If you want to learn more about building your own image classification model for your service, please proceed with the following tutorials.\n",
    "\n",
    "- [How to Upload to ThanoSQL DB](https://docs.thanosql.ai/en/how-to_guides/ThanoSQL_connecting/data_upload/)\n",
    "- [Creating an Intermediate Image Classification Model]\n",
    "- [Image conversion and creating My model using Auto-ML]\n",
    "- [Deploy My Image Classification model](https://docs.thanosql.ai/en/how-to_guides/ThanoSQL_connecting/thanosql_api/rest_api_thanosql_query/)\n",
    "\n",
    "<div class=\"admonition tip\">\n",
    "    <h4 class=\"admonition-title\">Inquiries about deploying a model for your own service</h4>\n",
    "    <p>If you have any difficulties in creating your own model using ThanoSQL or applying it to your service, please feel free to contact us below😊</p>\n",
    "    <p>For inquiries regarding building an image classification model: contact@smartmind.team</p>\n",
    "</div>"
   ]
  },
  {
   "cell_type": "markdown",
   "id": "7bc66637",
   "metadata": {},
   "source": []
  }
 ],
 "metadata": {
  "kernelspec": {
   "display_name": "Python 3.8.8 ('base')",
   "language": "python",
   "name": "python3"
  },
  "language_info": {
   "codemirror_mode": {
    "name": "ipython",
    "version": 3
   },
   "file_extension": ".py",
   "mimetype": "text/x-python",
   "name": "python",
   "nbconvert_exporter": "python",
   "pygments_lexer": "ipython3",
   "version": "3.8.8"
  },
  "toc-autonumbering": false,
  "vscode": {
   "interpreter": {
    "hash": "3d9ea1ec211306c2728be84f27337a01f13631138755fdcaa14be4e2585f3565"
   }
  }
 },
 "nbformat": 4,
 "nbformat_minor": 5
}
