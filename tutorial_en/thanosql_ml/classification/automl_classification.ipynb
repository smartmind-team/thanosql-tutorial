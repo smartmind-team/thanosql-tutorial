{
 "cells": [
  {
   "cell_type": "markdown",
   "id": "dcba9de7-327b-425a-81c8-22bebfdf88ca",
   "metadata": {},
   "source": [
    "# __Create a classification model using AutoML__"
   ]
  },
  {
   "cell_type": "markdown",
   "id": "c088a892",
   "metadata": {},
   "source": [
    "## Preface\n",
    "\n",
    "- Tutorial difficulty : ★☆☆☆☆\n",
    "- 4 min read\n",
    "- Languages : [SQL](https://en.wikipedia.org/wiki/SQL) (100%)\n",
    "- File location : tutorial_en/thanosql_ml/classification/automl_classification.ipynb\n",
    "- References : [(Kaggle) Titanic - Machine Learning from Disaster](https://www.kaggle.com/competitions/titanic/overview)"
   ]
  },
  {
   "cell_type": "markdown",
   "id": "4a197985",
   "metadata": {},
   "source": [
    "## Tutorial Introduction\n",
    "\n",
    "<div class=\"admonition note\">\n",
    "    <h4 class=\"admonition-title\">Understanding Classification Operations</h4>\n",
    "    <p>Classification is a form of <a href=\"https://en.wikipedia.org/wiki/Machine_learning\">Machine Learning</a> used to predict the category (Category or Class) to which the target belongs. For example, both binary classifications that classify men or women and multiple classifications that predict animal species (dogs, cats, rabbits, etc.) are included in the classification task. <br></p>\n",
    "</div>\n",
    "\n",
    "To predict whether or not a potential customer will react positively to a particular marketing promotion in your company, you can use your customer's [Customer Relationship Management (CRM)](https://en.wikipedia.org/wiki/Customer_relationship_management) data (demographic information, customer behavior/search data, etc.) can be used. In this case, the <a href=\"https://en.wikipedia.org/wiki/Feature_(machine_learning)\">Feature</a> expressed in the CRM data is used as input data, and the target value, which is the value to be predicted, is whether the target customer's response to the promotion is positive (1 or True) or negative (0 or False). By using this classification model, you can predict the reaction of customers who have not been exposed to marketing in advance and expose the marketing to the appropriate customers, thereby continuously increasing marketing efficiency.\n",
    "\n",
    "__The following is an example and usage of the ThanoSQL classification model.__\n",
    "\n",
    "- The classification model enables early detection of current user deviations and enables proactive response to problems (deviations). Historical data can help you identify the characteristics of your exodus and allow you to take appropriate action by discovering users who are likely to leave in advance. This can help prevent customer defections and increase sales.\n",
    "\n",
    "- You can predict your [Segments](https://en.wikipedia.org/wiki/Market_segmentation) within the online platform. Most service users have different characteristics and have different behaviors and needs. Classification prediction models use the characteristics of service users to identify granular groups and enable them to develop strategies tailored to them.  \n",
    "\n",
    "<div class=\"admonition note\">\n",
    "    <h4 class=\"admonition-title\">In this tutorial</h4>\n",
    "    <p>👉 Create a predictive classification model for survivors using the <mark style=\"background-color:#FFD79C\"> <strong>Titanic: Machine Learning from Disaster</strong></mark> dataset for beginners to the flagship machine learning contest platform <a href=\"https://www.kaggle.com/\">Kaggle</a>. The goals of this competition are as follows:\n",
    "    (For reference, the data for the event is a list of passengers who were on board during the actual Titanic incident on April 15, 1912.)</p>\n",
    "</div>\n",
    "\n",
    "__Predicting Passengers Who Can Survive Titanic__\n",
    "\n",
    "ThanoSQL provides automated machine learning (__Auto-ML__) tools. This tutorial uses Auto-ML to predict passengers who can survive in the Titanic. Auto-ML from ThanoSQL automates the process for model development and enables data collection and storage, machine learning model development and distribution (end-to-end machine learning pipelines) in a single language without data science expertise.\n",
    "\n",
    "__Automated ML has the following advantages:__\n",
    "\n",
    "1. Implementation and deployment of machine learning solutions without extensive programming or data science knowledge\n",
    "2. Saving time and resources for deployment of development models\n",
    "3. It is possible to quickly solve problems using the data you have for decision-making\n",
    "\n",
    "Now let's use ThanoSQL to create a classification model that predicts passengers who can simply survive in the Titanic."
   ]
  },
  {
   "cell_type": "markdown",
   "id": "1051840d-421e-4cab-9629-bcf6e37b7db6",
   "metadata": {},
   "source": [
    "## __0. Prepare Dataset__\n",
    "\n",
    "To use the query syntax of ThanoSQL, you must create an API token and run the query below, as mentioned in the [ThanoSQL Workspace](https://docs.thanosql.ai/en/getting_started/how_to_use_ThanoSQL/#5-thanosql-workspace)."
   ]
  },
  {
   "cell_type": "code",
   "execution_count": null,
   "id": "32fbea16-ab9a-45cb-948b-dfecf06902a0",
   "metadata": {
    "tags": []
   },
   "outputs": [],
   "source": [
    "%load_ext thanosql\n",
    "%thanosql API_TOKEN=<Issued_API_TOKEN>"
   ]
  },
  {
   "cell_type": "markdown",
   "id": "073a6182",
   "metadata": {},
   "source": [
    "### __Prepare Dataset__"
   ]
  },
  {
   "cell_type": "code",
   "execution_count": null,
   "id": "5163faa7",
   "metadata": {},
   "outputs": [],
   "source": [
    "%%thanosql\n",
    "GET THANOSQL DATASET titanic_data\n",
    "OPTIONS (overwrite=True)"
   ]
  },
  {
   "cell_type": "markdown",
   "id": "1ec2d024",
   "metadata": {},
   "source": [
    "<div class=\"admonition note\">\n",
    "    <h4 class=\"admonition-title\">Query Details</h4>\n",
    "    <ul>\n",
    "        <li>\"<strong>GET THANOSQL DATASET</strong>\" Use the query syntax to save the desired dataset to the workspace. </li>\n",
    "        <li>\"<strong>OPTIONS</strong>\" Specifies the option to use for <strong>GET THANOSQL DATASET</strong> via query syntax.\n",
    "        <ul>\n",
    "            <li>\"overwrite\" : Set whether to overwrite if a dataset with the same name exists. If True, the old dataset is replaced with the new dataset (True|False, DEFAULT : False) </li>\n",
    "        </ul>\n",
    "        </li>\n",
    "    </ul>\n",
    "</div>"
   ]
  },
  {
   "cell_type": "code",
   "execution_count": null,
   "id": "c7b0c89c-8bdb-4065-9394-6f57e33be899",
   "metadata": {},
   "outputs": [],
   "source": [
    "%%thanosql\n",
    "COPY titanic_train \n",
    "OPTIONS (overwrite=True)\n",
    "FROM \"tutorial_data/titanic_data/titanic_train.csv\""
   ]
  },
  {
   "cell_type": "code",
   "execution_count": null,
   "id": "26e63b28-7b06-4378-a789-2c56929df59a",
   "metadata": {},
   "outputs": [],
   "source": [
    "%%thanosql\n",
    "COPY titanic_test \n",
    "OPTIONS (overwrite=True)\n",
    "FROM \"thanosql-dataset/titanic_data/titanic_test.csv\""
   ]
  },
  {
   "cell_type": "markdown",
   "id": "984aefd3",
   "metadata": {},
   "source": [
    "<div class=\"admonition note\">\n",
    "    <h4 class=\"admonition-title\">Query Details</h4>\n",
    "    <ul>\n",
    "        <li>\"<strong>COPY</strong>\" Use the query syntax to specify the name of the dataset to be saved in the DB. </li>\n",
    "        <li>Specifies the options to use for <strong>COPY</strong> via the query syntax \"<strong>OPTIONS</strong>\" .\n",
    "        <ul>\n",
    "            <li>\"overwrite\" : Set whether overwrite is possible if a dataset with the same name exists on the DB. If True, the old dataset is replaced with the new dataset (True|False, DEFAULT : False) </li>\n",
    "        </ul>\n",
    "        </li>\n",
    "    </ul>\n",
    "</div>"
   ]
  },
  {
   "cell_type": "markdown",
   "id": "eff7350d-3b29-44a2-84d6-132d3b41a989",
   "metadata": {},
   "source": [
    "## __1. Check Dataset__\n",
    "\n",
    "To create the survivor prediction classification model, we use the <mark style=\"background-color:#FFEC92 \"><strong>titanic_train</strong></mark> table stored in ThanoSQL DB. Check the table contents while executing the query below."
   ]
  },
  {
   "cell_type": "code",
   "execution_count": null,
   "id": "14b95522-168a-482c-a039-5af17deafc6a",
   "metadata": {},
   "outputs": [],
   "source": [
    "%%thanosql\n",
    "SELECT * \n",
    "FROM titanic_train\n",
    "LIMIT 5 "
   ]
  },
  {
   "cell_type": "markdown",
   "id": "cd8c9617",
   "metadata": {},
   "source": [
    "<div class=\"admonition note\">\n",
    "    <h4 class=\"admonition-title\">Understanding Data</h4>\n",
    "    <p>The <mark style=\"background-color:#FFEC92 \"><strong>tianic_train</strong></mark> dataset contains the following information.</p>\n",
    "    <ul>\n",
    "        <li><mark style=\"background-color:#D7D0FF\">passengerid</mark> : Passenger ID</li>\n",
    "        <li><mark style=\"background-color:#D7D0FF\">survived</mark> : Is the passenger on board alive</li>\n",
    "        <li><mark style=\"background-color:#D7D0FF\">pclass</mark> : Passenger ticket class</li>\n",
    "        <li><mark style=\"background-color:#D7D0FF\">name</mark> : Passenger name</li>\n",
    "        <li><mark style=\"background-color:#D7D0FF\">sex</mark> : Passenger gender</li>\n",
    "        <li><mark style=\"background-color:#D7D0FF\">age</mark> : Age of passengers</li>\n",
    "        <li><mark style=\"background-color:#D7D0FF\">sibsp</mark> : Number of siblings or spouses on board</li>\n",
    "        <li><mark style=\"background-color:#D7D0FF\">parch</mark> : Number of parents or children on board</li>\n",
    "        <li><mark style=\"background-color:#D7D0FF\">ticket</mark> : Ticket number</li>\n",
    "        <li><mark style=\"background-color:#D7D0FF\">fare</mark> : Fare</li>\n",
    "        <li><mark style=\"background-color:#D7D0FF\">cabin</mark> : Cabin</li>\n",
    "        <li><mark style=\"background-color:#D7D0FF\">embarked</mark> : Boarding point or port</li>\n",
    "    </ul>\n",
    "</div>\n",
    "\n",
    "In this tutorial, we will proceed with model learning except for <mark style=\"background-color:#D7D0FF\">name</mark>, <mark style=\"background-color:#D7D0FF\">ticket</mark>, and <mark style=\"background-color:#D7D0FF\">cabin</mark> columns that require data preprocessing using additional query statements."
   ]
  },
  {
   "cell_type": "markdown",
   "id": "af169f51-b815-4230-b398-2f9f3e46b7bd",
   "metadata": {},
   "source": [
    "## __2. Create a classification model__\n",
    "\n",
    "Create a survivor prediction classification model using the <mark style=\"background-color:#FFEC92 \">titanic_train</mark> data from the previous step. Execute the query syntax below to create a model named <mark style=\"background-color:#E9D7FD \">titanic_automl_classification</mark>.  \n",
    "(Estimated duration of query execution: 8 min)"
   ]
  },
  {
   "cell_type": "code",
   "execution_count": null,
   "id": "2fb6601a-81af-4c99-af73-4c6894e0ac72",
   "metadata": {
    "tags": []
   },
   "outputs": [],
   "source": [
    "%%thanosql\n",
    "BUILD MODEL titanic_automl_classification\n",
    "USING AutomlClassifier \n",
    "OPTIONS (\n",
    "    target='survived', \n",
    "    impute_type='iterative',  \n",
    "    features_to_drop=['name', 'ticket', 'passengerid', 'cabin'],\n",
    "    time_left_for_this_task=300,\n",
    "    overwrite=True\n",
    "    ) \n",
    "AS \n",
    "SELECT * \n",
    "FROM titanic_train"
   ]
  },
  {
   "cell_type": "markdown",
   "id": "6b0fce36",
   "metadata": {},
   "source": [
    "<div class=\"admonition note\">\n",
    "    <h4 class=\"admonition-title\">Query Details</h4>\n",
    "    <ul>\n",
    "        <li>Create and train a model named <mark style=\"background-color:#E9D7FD \">titanic_automl_classification</mark> using the query syntax \"<strong>BUILD MODEL</strong>\".</li>\n",
    "        <li>\"<strong>OPTIONS</strong>\" Specifies the options to use for model creation via the query syntax.\n",
    "        <ul>\n",
    "            <li>\"target\" : The name of the column containing the target value of the classification model </li>\n",
    "            <li>\"impute_type\" : set how empty values ​​(NaNs) in data tables are handled ('simple'|'iterative' , DEFAULT: 'simple') </li>\n",
    "            <li>\"features_to_drop\" : List of column names that cannot be used for training in the data table </li>\n",
    "            <li>\"time_left_for_this_task\" : Time taken to find a suitable classification prediction model (DEFAULT: 300)</li>\n",
    "            <li>\"overwrite\" : Set whether overwriting is possible if a model with the same name exists. If True, the old model is changed to the new model (True|False, DEFAULT : False) </li>\n",
    "        </ul>\n",
    "        </li>\n",
    "    </ul>\n",
    "</div>\n",
    "\n",
    "<div class=\"admonition warning\">\n",
    "    <h4 class=\"admonition-title\">Warning</h4>\n",
    "    <p>When creating an Auto-ML classification model, if other parameters than those specified in <a href=\"https://docs.thanosql.ai/en/how-to_guides/OPTIONS/#1-automlclassifier-algorithm\">OPTIONS</a> are used, the model can be created, but all set values are ignored.</p>\n",
    "</div>"
   ]
  },
  {
   "cell_type": "markdown",
   "id": "63a96457-78da-4d01-a760-953febcf08cd",
   "metadata": {},
   "source": [
    "## __3. Evaluate the generated model__\n",
    "\n",
    "Execute the query statement below to evaluate the performance of the predictive model created in the previous step."
   ]
  },
  {
   "cell_type": "code",
   "execution_count": null,
   "id": "67159796-2489-4576-942d-5939f24d962f",
   "metadata": {
    "tags": []
   },
   "outputs": [],
   "source": [
    "%%thanosql \n",
    "EVALUATE USING titanic_automl_classification \n",
    "OPTIONS (\n",
    "    target = 'survived'\n",
    "    )\n",
    "AS\n",
    "SELECT *\n",
    "FROM titanic_train"
   ]
  },
  {
   "cell_type": "markdown",
   "id": "b4df22cc",
   "metadata": {},
   "source": [
    "<div class=\"admonition note\">\n",
    "    <h4 class=\"admonition-title\">Query Details</h4>\n",
    "    <ul>\n",
    "        <li>Evaluate a model named <mark style=\"background-color:#E9D7FD \">titanic_automl_classification</mark> built using the query syntax \"<strong>EVALUATE USING</strong>\". </li>\n",
    "        Specifies the options to use for model evaluation via the query syntax <li>\"<strong>OPTIONS</strong>\".\n",
    "        <ul>\n",
    "            <li>\"target\" : The name of the column that is the target value in the classification prediction model.</li>\n",
    "        </ul>\n",
    "        </li>\n",
    "    </ul>\n",
    "</div>\n",
    "\n",
    "<div class=\"admonition warning\">\n",
    "    <h4 class=\"admonition-title\">Dataset for evaluation</h4>\n",
    "    <p>The evaluation dataset should not be used for training by isolating a part of the training dataset, but the tutorial uses the training data for convenience.</p>\n",
    "</div>"
   ]
  },
  {
   "cell_type": "markdown",
   "id": "aa047726-113b-48ae-8247-135a37592945",
   "metadata": {},
   "source": [
    "## __4. Predict survivors using the generated model__\n",
    "\n",
    "Using the survivor prediction model created in the previous step, try to predict whether or not to survive according to the passenger information. Use the dataset for testing (data table not used for training, <mark style=\"background-color:#FFEC92 \"><strong>titanic_test</strong></mark>)."
   ]
  },
  {
   "cell_type": "code",
   "execution_count": null,
   "id": "1df25db0-3352-4893-b0af-6e10cea8f7b0",
   "metadata": {},
   "outputs": [],
   "source": [
    "%%thanosql \n",
    "PREDICT USING titanic_automl_classification\n",
    "AS \n",
    "SELECT * \n",
    "FROM titanic_test"
   ]
  },
  {
   "cell_type": "markdown",
   "id": "a0ef3104",
   "metadata": {},
   "source": [
    "<div class=\"admonition note\">\n",
    "    <h4 class=\"admonition-title\">Query Details</h4>\n",
    "    <p>Use the <mark style=\"background-color:#E9D7FD \">titanic_automl_classification</mark> model created in the previous step for prediction using the \"<strong>PREDICT USING</strong>\" query syntax. For \"<strong>PREDICT</strong>\", no special options are required as it follows the procedure of the generated model.</p>\n",
    "</div>"
   ]
  },
  {
   "cell_type": "markdown",
   "id": "5389cb4a",
   "metadata": {},
   "source": [
    "## __5. In Conclusion__\n",
    "\n",
    "In this tutorial, we created a Titanic survivor classification prediction model using <mark style=\"background-color:#FFD79C\"><strong>Titanic: Machine Learning from Disaster</strong></mark> data from [Kaggle](https://www.kaggle.com/). As this is a beginner-level tutorial, I proceeded with an explanation focusing on the overall process rather than the process for improving accuracy. If you'd like to learn more about building advanced classification models, I'd recommend going through the intermediate tutorial.\n",
    "\n",
    "In the next [Creating an Intermediate Classification Prediction Model] tutorial, we'll dive deeper into \"__OPTIONS__\" for improving accuracy. Create a classification prediction model for your own service/product after completing intermediate and advanced levels. In the intermediate stage, we will create sophisticated classification prediction models using the various \"__OPTIONS__\" provided by ThanoSQL's AutoML. In addition, after completing the intermediate level, at the advanced level, you can quantify unstructured data and include it as a learning element in AutoML to create a classification prediction model.\n",
    "\n",
    "- [How to Upload to ThanoSQL DB](https://docs.thanosql.ai/en/how-to_guides/ThanoSQL_connecting/data_upload/)\n",
    "- [Creating an Intermediate Image Classification Model]\n",
    "- [Image conversion and creating My model using Auto-ML]\n",
    "- [Deploy My Image Classification model](https://docs.thanosql.ai/en/how-to_guides/ThanoSQL_connecting/thanosql_api/rest_api_thanosql_query/)\n",
    "\n",
    "<div class=\"admonition tip\">\n",
    "    <h4 class=\"admonition-title\">Inquiries about deploying a model for your own service</h4>\n",
    "    <p>If you have any difficulties in creating your own model using ThanoSQL or applying it to the service, please feel free to contact us below😊</p>\n",
    "    <p>For inquiries about building a classification model: contact@smartmind.team</p>\n",
    "</div>"
   ]
  }
 ],
 "metadata": {
  "kernelspec": {
   "display_name": "Python 3 (ipykernel)",
   "language": "python",
   "name": "python3"
  },
  "language_info": {
   "codemirror_mode": {
    "name": "ipython",
    "version": 3
   },
   "file_extension": ".py",
   "mimetype": "text/x-python",
   "name": "python",
   "nbconvert_exporter": "python",
   "pygments_lexer": "ipython3",
   "version": "3.8.9"
  },
  "vscode": {
   "interpreter": {
    "hash": "31f2aee4e71d21fbe5cf8b01ff0e069b9275f58929596ceb00d14d90e3e16cd6"
   }
  }
 },
 "nbformat": 4,
 "nbformat_minor": 5
}
