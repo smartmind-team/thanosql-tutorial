{
 "cells": [
  {
   "cell_type": "markdown",
   "id": "dcba9de7-327b-425a-81c8-22bebfdf88ca",
   "metadata": {},
   "source": [
    "# __Create a classification model using AutoML__"
   ]
  },
  {
   "cell_type": "markdown",
   "id": "c088a892",
   "metadata": {},
   "source": [
    "## Preface\n",
    "\n",
    "- Tutorial difficulty : ★☆☆☆☆\n",
    "- 4 min read\n",
    "- Languages : [SQL](https://en.wikipedia.org/wiki/SQL) (100%)\n",
    "- File location : tutorial_en/thanosql_ml/classification/automl_classification.ipynb\n",
    "- References : [(Kaggle) Titanic - Machine Learning from Disaster](https://www.kaggle.com/competitions/titanic/overview)"
   ]
  },
  {
   "cell_type": "markdown",
   "id": "4a197985",
   "metadata": {},
   "source": [
    "## Tutorial Introduction\n",
    "\n",
    "<div class=\"admonition note\">\n",
    "    <h4 class=\"admonition-title\">Understanding Classification</h4>\n",
    "    <p>Classification is a form of <a href=\"https://en.wikipedia.org/wiki/Machine_learning\">Machine Learning</a> used to predict categories (Category or Class) to which the target belongs to. For example, both binary classifications (used for classifying men or women) and multiple classifications (used to predict animal species such as dogs, cats, rabbits, etc.) are included in the classification tasks. <br></p>\n",
    "</div>\n",
    "\n",
    "To predict whether or not a potential customer will react positively to a particular marketing promotion in your company, you can use your customer's [Customer Relationship Management (CRM)](https://en.wikipedia.org/wiki/Customer_relationship_management) data (demographic information, customer behavior/search data, etc.). In this case, the <a href=\"https://en.wikipedia.org/wiki/Feature_(machine_learning)\">features</a> expressed in the CRM data is used as the input data, and the target value, which is the value to be predicted, is whether the target customer's response to the promotion is positive (1 or True) or negative (0 or False). By using this classification model, you can predict the reaction of customers who have not been exposed to advertisements and target the appropriate customers, thereby continuously increasing marketing efficiency.\n",
    "\n",
    "__The following are examples and applications of the ThanoSQL classification model.__\n",
    "\n",
    "- The classification model enables early detection of current user deviations and allows proactive response to problems (deviations). Collected data can help you identify the features of leaving customers and allows you to take appropriate action by discovering leaving customers in advance. This can help prevent customer defections and increase sales.\n",
    "\n",
    "- You can predict the [Market Segmentation](https://en.wikipedia.org/wiki/Market_segmentation) involving your online platform. Most service users have different characteristics, behaviors, and needs. Classification models utilize the users' features to identify granular groups and enable them to develop strategies tailored to them.  \n",
    "\n",
    "<div class=\"admonition note\">\n",
    "    <h4 class=\"admonition-title\">In this tutorial</h4>\n",
    "    <p>👉 Create a predictive classification model for survivors using the <mark style=\"background-color:#FFD79C\"> <strong>Titanic: Machine Learning from Disaster</strong></mark> dataset for beginners from the machine learning contest platform <a href=\"https://www.kaggle.com/\">Kaggle</a>. The goals of this competition are as follows:\n",
    "    (For reference, the data for the event is a list of real passengers who were on board during the Titanic incident on April 15, 1912.)</p>\n",
    "</div>\n",
    "\n",
    "__Predicting Passengers Who Would Survive The Titanic Incident__\n",
    "\n",
    "ThanoSQL provides automated machine learning (__Auto-ML__) tools. This tutorial uses Auto-ML to predict passengers who would survive the Titanic incident. ThanoSQL's Auto-ML automates the process for model development and enables data collection and storage along with machine learning model development and distribution (end-to-end machine learning pipelines) using a single language.\n",
    "\n",
    "__Automated ML has the following advantages:__\n",
    "\n",
    "1. Implementation and deployment of machine learning solutions without extensive programming or data science knowledge\n",
    "2. Saving time and resources for deployment of development models\n",
    "3. Quickly solve problems using the data you have for decision-making\n",
    "\n",
    "Now let's use ThanoSQL to create a classification model that predicts passengers who would survive the Titanic incident."
   ]
  },
  {
   "cell_type": "markdown",
   "id": "1051840d-421e-4cab-9629-bcf6e37b7db6",
   "metadata": {},
   "source": [
    "## __0. Prepare Dataset__\n",
    "\n",
    "To run ThanoSQL queries, you must create an API token and run the code below, as mentioned in the [ThanoSQL Workspace](https://docs.thanosql.ai/en/getting_started/how_to_use_ThanoSQL/#5-thanosql-workspace)."
   ]
  },
  {
   "cell_type": "code",
   "execution_count": null,
   "id": "32fbea16-ab9a-45cb-948b-dfecf06902a0",
   "metadata": {
    "tags": []
   },
   "outputs": [],
   "source": [
    "%load_ext thanosql\n",
    "%thanosql API_TOKEN=<Issued_API_TOKEN>"
   ]
  },
  {
   "cell_type": "markdown",
   "id": "073a6182",
   "metadata": {},
   "source": [
    "### __Prepare Dataset__"
   ]
  },
  {
   "cell_type": "code",
   "execution_count": null,
   "id": "5163faa7",
   "metadata": {},
   "outputs": [],
   "source": [
    "%%thanosql\n",
    "GET THANOSQL DATASET titanic_data\n",
    "OPTIONS (overwrite=True)"
   ]
  },
  {
   "cell_type": "markdown",
   "id": "1ec2d024",
   "metadata": {},
   "source": [
    "<div class=\"admonition note\">\n",
    "    <h4 class=\"admonition-title\">Query Details</h4>\n",
    "    <ul>\n",
    "        <li>\"<strong>GET THANOSQL DATASET</strong>\" Use this query statement to save the desired dataset to your workspace environment. </li>\n",
    "        <li>\"<strong>OPTIONS</strong>\" Use this statement to specify the option to use for the <strong>GET THANOSQL DATASET</strong> query statement.\n",
    "        <ul>\n",
    "            <li>\"overwrite\" : Overwrite if a dataset with the same name exists. If set as True, the existing dataset is replaced with the new dataset (True|False, DEFAULT : False) </li>\n",
    "        </ul>\n",
    "        </li>\n",
    "    </ul>\n",
    "</div>"
   ]
  },
  {
   "cell_type": "code",
   "execution_count": null,
   "id": "c7b0c89c-8bdb-4065-9394-6f57e33be899",
   "metadata": {},
   "outputs": [],
   "source": [
    "%%thanosql\n",
    "COPY titanic_train \n",
    "OPTIONS (overwrite=True)\n",
    "FROM \"tutorial_data/titanic_data/titanic_train.csv\""
   ]
  },
  {
   "cell_type": "code",
   "execution_count": null,
   "id": "26e63b28-7b06-4378-a789-2c56929df59a",
   "metadata": {},
   "outputs": [],
   "source": [
    "%%thanosql\n",
    "COPY titanic_test \n",
    "OPTIONS (overwrite=True)\n",
    "FROM \"thanosql-dataset/titanic_data/titanic_test.csv\""
   ]
  },
  {
   "cell_type": "markdown",
   "id": "984aefd3",
   "metadata": {},
   "source": [
    "<div class=\"admonition note\">\n",
    "    <h4 class=\"admonition-title\">Query Details</h4>\n",
    "    <ul>\n",
    "        <li>Use the \"<strong>COPY</strong>\" clause to specify the dataset to be copied into the DB. </li>\n",
    "        <li>\"<strong>OPTIONS</strong>\" specifies the options to use for <strong>COPY</strong> clause.\n",
    "        <ul>\n",
    "            <li>\"overwrite\" : Overwrite if a dataset with the same name exists. If True, the existing dataset is overwritten with the new dataset. (True|False, DEFAULT : False) </li>\n",
    "        </ul>\n",
    "        </li>\n",
    "    </ul>\n",
    "</div>"
   ]
  },
  {
   "cell_type": "markdown",
   "id": "eff7350d-3b29-44a2-84d6-132d3b41a989",
   "metadata": {},
   "source": [
    "## __1. Check Dataset__\n",
    "\n",
    "To create the survivor classification model, we use the <mark style=\"background-color:#FFEC92 \"><strong>titanic_train</strong></mark> table located in the ThanoSQL DB. Run the query below to check the contents of the table."
   ]
  },
  {
   "cell_type": "code",
   "execution_count": null,
   "id": "14b95522-168a-482c-a039-5af17deafc6a",
   "metadata": {},
   "outputs": [],
   "source": [
    "%%thanosql\n",
    "SELECT * \n",
    "FROM titanic_train\n",
    "LIMIT 5 "
   ]
  },
  {
   "cell_type": "markdown",
   "id": "cd8c9617",
   "metadata": {},
   "source": [
    "<div class=\"admonition note\">\n",
    "    <h4 class=\"admonition-title\">Understanding the Data</h4>\n",
    "    <p>The <mark style=\"background-color:#FFEC92 \"><strong>tianic_train</strong></mark> dataset contains the following columns.</p>\n",
    "    <ul>\n",
    "        <li><mark style=\"background-color:#D7D0FF\">passengerid</mark> : Passenger ID</li>\n",
    "        <li><mark style=\"background-color:#D7D0FF\">survived</mark> : Whether the passenger on board survived</li>\n",
    "        <li><mark style=\"background-color:#D7D0FF\">pclass</mark> : Passenger ticket class</li>\n",
    "        <li><mark style=\"background-color:#D7D0FF\">name</mark> : Passenger name</li>\n",
    "        <li><mark style=\"background-color:#D7D0FF\">sex</mark> : Passenger gender</li>\n",
    "        <li><mark style=\"background-color:#D7D0FF\">age</mark> : Passenger age</li>\n",
    "        <li><mark style=\"background-color:#D7D0FF\">sibsp</mark> : Number of siblings or spouses on board</li>\n",
    "        <li><mark style=\"background-color:#D7D0FF\">parch</mark> : Number of parents or children on board</li>\n",
    "        <li><mark style=\"background-color:#D7D0FF\">ticket</mark> : Ticket number</li>\n",
    "        <li><mark style=\"background-color:#D7D0FF\">fare</mark> : Fare</li>\n",
    "        <li><mark style=\"background-color:#D7D0FF\">cabin</mark> : Cabin number</li>\n",
    "        <li><mark style=\"background-color:#D7D0FF\">embarked</mark> : Boarding location or port</li>\n",
    "    </ul>\n",
    "</div>\n",
    "\n",
    "In this tutorial, we will exclude the <mark style=\"background-color:#D7D0FF\">name</mark>, <mark style=\"background-color:#D7D0FF\">ticket</mark>, and <mark style=\"background-color:#D7D0FF\">cabin</mark> columns since they require additional data preprocessing."
   ]
  },
  {
   "cell_type": "markdown",
   "id": "af169f51-b815-4230-b398-2f9f3e46b7bd",
   "metadata": {},
   "source": [
    "## __2. Create a classification model__\n",
    "\n",
    "Create a survivor classification model using the <mark style=\"background-color:#FFEC92 \">titanic_train</mark> data. Execute the query below to create a model named <mark style=\"background-color:#E9D7FD \">titanic_automl_classification</mark>.  \n",
    "(Estimated duration of query execution: 8 min)"
   ]
  },
  {
   "cell_type": "code",
   "execution_count": null,
   "id": "2fb6601a-81af-4c99-af73-4c6894e0ac72",
   "metadata": {
    "tags": []
   },
   "outputs": [],
   "source": [
    "%%thanosql\n",
    "BUILD MODEL titanic_automl_classification\n",
    "USING AutomlClassifier \n",
    "OPTIONS (\n",
    "    target='survived', \n",
    "    impute_type='iterative',  \n",
    "    features_to_drop=['name', 'ticket', 'passengerid', 'cabin'],\n",
    "    time_left_for_this_task=300,\n",
    "    overwrite=True\n",
    "    ) \n",
    "AS \n",
    "SELECT * \n",
    "FROM titanic_train"
   ]
  },
  {
   "cell_type": "markdown",
   "id": "6b0fce36",
   "metadata": {},
   "source": [
    "<div class=\"admonition note\">\n",
    "    <h4 class=\"admonition-title\">Query Details</h4>\n",
    "    <ul>\n",
    "        <li>Create and train a model named <mark style=\"background-color:#E9D7FD \">titanic_automl_classification</mark> using the \"<strong>BUILD MODEL</strong>\" query.</li>\n",
    "        <li>\"<strong>OPTIONS</strong>\" specifies the options to use for the model creation.\n",
    "        <ul>\n",
    "            <li>\"target\" : The name of the column containing the target value of the classification model </li>\n",
    "            <li>\"impute_type\" : Determines how empty values ​​(NaNs) are handled ('simple'|'iterative' , DEFAULT: 'simple') </li>\n",
    "            <li>\"features_to_drop\" : Selects columns that cannot be used for training </li>\n",
    "            <li>\"time_left_for_this_task\" : The total time given to find a suitable classification model (DEFAULT: 300)</li>\n",
    "            <li>\"overwrite\" : Overwrite if a model with the same name exists. If True, the existing model is overwritten with the new model (True|False, DEFAULT : False) </li>\n",
    "        </ul>\n",
    "        </li>\n",
    "    </ul>\n",
    "</div>"
   ]
  },
  {
   "cell_type": "markdown",
   "id": "63a96457-78da-4d01-a760-953febcf08cd",
   "metadata": {},
   "source": [
    "## __3. Evaluate the model__\n",
    "\n",
    "Execute the query below to evaluate the performance of the model created in the previous step."
   ]
  },
  {
   "cell_type": "code",
   "execution_count": null,
   "id": "67159796-2489-4576-942d-5939f24d962f",
   "metadata": {
    "tags": []
   },
   "outputs": [],
   "source": [
    "%%thanosql \n",
    "EVALUATE USING titanic_automl_classification \n",
    "OPTIONS (\n",
    "    target = 'survived'\n",
    "    )\n",
    "AS\n",
    "SELECT *\n",
    "FROM titanic_train"
   ]
  },
  {
   "cell_type": "markdown",
   "id": "b4df22cc",
   "metadata": {},
   "source": [
    "<div class=\"admonition note\">\n",
    "    <h4 class=\"admonition-title\">Query Details</h4>\n",
    "    <ul>\n",
    "        <li>Evaluate the <mark style=\"background-color:#E9D7FD \">titanic_automl_classification</mark> model using the \"<strong>EVALUATE USING</strong>\" query. </li>\n",
    "        <li>\"<strong>OPTIONS</strong>\" specifies the options to use for the model creation.</li>\n",
    "        <ul>\n",
    "            <li>\"target\" : The name of the column containing the target value of the classification model. </li>\n",
    "        </ul>\n",
    "        </li>\n",
    "    </ul>\n",
    "</div>\n",
    "\n",
    "<div class=\"admonition warning\">\n",
    "    <h4 class=\"admonition-title\">Dataset for evaluation</h4>\n",
    "    <p>Normally, train datasets should not be used for evaluation. However, for this tutorial, the train datasets are used for convenience.</p>\n",
    "</div>"
   ]
  },
  {
   "cell_type": "markdown",
   "id": "aa047726-113b-48ae-8247-135a37592945",
   "metadata": {},
   "source": [
    "## __4. Predict survivors using the generated model__\n",
    "\n",
    "With the model created in the previous step, try predicting survival according to the passenger's information using the <mark style=\"background-color:#FFEC92 \"><strong>titanic_test</strong></mark> dataset (since it has not been used during train)."
   ]
  },
  {
   "cell_type": "code",
   "execution_count": null,
   "id": "1df25db0-3352-4893-b0af-6e10cea8f7b0",
   "metadata": {},
   "outputs": [],
   "source": [
    "%%thanosql \n",
    "PREDICT USING titanic_automl_classification\n",
    "AS \n",
    "SELECT * \n",
    "FROM titanic_test"
   ]
  },
  {
   "cell_type": "markdown",
   "id": "a0ef3104",
   "metadata": {},
   "source": [
    "<div class=\"admonition note\">\n",
    "    <h4 class=\"admonition-title\">Query Details</h4>\n",
    "    <p>Use the <mark style=\"background-color:#E9D7FD \">titanic_automl_classification</mark> model for prediction using the \"<strong>PREDICT USING</strong>\" query. For the \"<strong>PREDICT</strong>\" clause, no special options are required as it follows the generated model's procedures.</p>\n",
    "</div>"
   ]
  },
  {
   "cell_type": "markdown",
   "id": "5389cb4a",
   "metadata": {},
   "source": [
    "## __5. In Conclusion__\n",
    "\n",
    "In this tutorial, we created a Titanic survivor classification model using the <mark style=\"background-color:#FFD79C\"><strong>Titanic: Machine Learning from Disaster</strong></mark> data from [Kaggle](https://www.kaggle.com/). As this is a beginner-level tutorial, we focused on the development process rather than focusing on accuracy. If you'd like to learn more about building advanced classification models, going over the intermediate tutorial is recommended.\n",
    "\n",
    "In the next [Creating an Intermediate Classification Model] tutorial, we'll dive deeper into the \"__OPTIONS__\" clause to improve accuracy. After completing intermediate and advanced levels try creating a classification model for your own service/product. For the intermediate tutorial, we will create sophisticated classification models using the various \"__OPTIONS__\" provided by ThanoSQL's AutoML. At the advanced level, you can vectorize unstructured data and include it as a train element in AutoML to create a classification model.\n",
    "\n",
    "- [How to Upload to ThanoSQL DB](https://docs.thanosql.ai/en/how-to_guides/ThanoSQL_connecting/data_upload/)\n",
    "- [Creating an Intermediate Image Classification Model]\n",
    "- [Image conversion and creating My model using Auto-ML]\n",
    "- [Deploy My Image Classification model](https://docs.thanosql.ai/en/how-to_guides/ThanoSQL_connecting/thanosql_api/rest_api_thanosql_query/)\n",
    "\n",
    "<div class=\"admonition tip\">\n",
    "    <h4 class=\"admonition-title\">Inquiries about deploying a model for your own service</h4>\n",
    "    <p>If you have any difficulties in creating your own model using ThanoSQL or applying it to your service, please feel free to contact us below😊</p>\n",
    "    <p>For inquiries regarding building a classification model: contact@smartmind.team</p>\n",
    "</div>"
   ]
  }
 ],
 "metadata": {
  "kernelspec": {
   "display_name": "Python 3 (ipykernel)",
   "language": "python",
   "name": "python3"
  },
  "language_info": {
   "codemirror_mode": {
    "name": "ipython",
    "version": 3
   },
   "file_extension": ".py",
   "mimetype": "text/x-python",
   "name": "python",
   "nbconvert_exporter": "python",
   "pygments_lexer": "ipython3",
   "version": "3.8.9"
  },
  "vscode": {
   "interpreter": {
    "hash": "31f2aee4e71d21fbe5cf8b01ff0e069b9275f58929596ceb00d14d90e3e16cd6"
   }
  }
 },
 "nbformat": 4,
 "nbformat_minor": 5
}
