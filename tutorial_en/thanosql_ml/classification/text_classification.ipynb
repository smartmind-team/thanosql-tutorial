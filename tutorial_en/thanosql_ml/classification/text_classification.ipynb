{
 "cells": [
  {
   "cell_type": "markdown",
   "id": "6cfd2a8c-fdfc-4233-abd1-ece097069522",
   "metadata": {},
   "source": [
    "# __Create a text classification model__"
   ]
  },
  {
   "cell_type": "markdown",
   "id": "a489e8d6",
   "metadata": {},
   "source": [
    "## Preface\n",
    "\n",
    "- Tutorial Difficulty: ★☆☆☆☆\n",
    "- 10 min read\n",
    "- Languages : [SQL](https://en.wikipedia.org/wiki/SQL) (100%)\n",
    "- File location : tutorial_en/thanosql_ml/classification/text_classification.ipynb\n",
    "- References : [(Kaggle) IMDB Movie Reviews](https://www.kaggle.com/code/lakshmi25npathi/sentiment-analysis-of-imdb-movie-reviews/data), [ELECTRA: Pre-training Text Encoders as Discriminators Rather Than Generators](https://arxiv.org/abs/2003.10555)"
   ]
  },
  {
   "cell_type": "markdown",
   "id": "a00f00a2",
   "metadata": {},
   "source": [
    "## Tutorial Introduction\n",
    "\n",
    "<div class=\"admonition note\">\n",
    "    <h4 class=\"admonition-title\">Understanding Classification</h4>\n",
    "    <p>Classification is a type of <a href=\"https://en.wikipedia.org/wiki/Machine_learning\">Machine Learning</a> that predicts which category (Category or Class) the target belongs to. The classification task, for example, can include both binary classifications that classify men or women and multiple classifications that predict animal species (dogs, cats, rabbits, and so on). <br></p>\n",
    "</div>\n",
    "\n",
    "[Natural Language Processing (NLP)](https://en.wikipedia.org/wiki/Natural_language_processing) is a branch of artificial intelligence that uses machine learning to process and interpret text-based data.\n",
    "\n",
    "<div class=\"admonition tip\">\n",
    "    <h4 class=\"admonition-title\">What is <a href=\"https://en.wikipedia.org/wiki/Natural_language_processing\">Natural Language Processing (NLP)</a></h4>\n",
    "    <p>Depending on the task, NLP can be divided into two categories: Natural Language Understanding (NLU) and Natural Language Generation (NLG). NLU is the process of converting a person's natural language into a value that a computer can understand. NLG, on the other hand, refers to the process of translating computer-readable values into natural language that humans can understand.</p>\n",
    "</div>\n",
    "\n",
    "Recent advancements in pre-training techniques, such as [BERT](<https://en.wikipedia.org/wiki/BERT_(language_model)>) and [GPT-3](https://en.wikipedia.org/wiki/GPT-3), allow for the development of a common language comprehension model prior to fine-tuning for specific NLP tasks, such as emotional analysis or question-and-answer.\n",
    "\n",
    "<div class=\"admonition summary\">\n",
    "    <p>This means that you can use data more efficiently by minimizing <a href=\"https://en.wikipedia.org/wiki/Labeled_data\">data labeling</a> operations for large datasets.</p>\n",
    "</div>\n",
    "\n",
    "ThanoSQL includes a variety of pre-trained AI models along with various functions that allow users to easily create their own text classification models even with limited data labeling. Users can use this to extract potentially useful insights from text data that would otherwise be difficult and apply them to a wide range of applications.\n",
    "\n",
    "__The following is an example and usage of the ThanoSQL text classification model.__\n",
    "\n",
    "- The ThanoSQL text classification model makes it easy to utilize text classification models to build a chatbot and analyze sentiment of text in a bulletin board. This will later enable the customer to connect with the appropriate customer service representative.\n",
    "\n",
    "- The ThanoSQL text classification model allows news or post sharing services to categorize their published contents into groups. Additionally, it provides sentiment analysis of grouped items, enabling effective handling of issues that could arise unexpectedly from customer frustration response.\n",
    "\n",
    "<div class=\"admonition note\">\n",
    "    <h4 class=\"admonition-title\">In this tutorial</h4>\n",
    "    <p>👉 Create a model to classify the emotions of movie reviews using the <mark style=\"background-color:#FFD79C\">IMDB Movie Reviews</mark> dataset from <a href=\"https://www.kaggle.com/\">Kaggle</a>. This dataset consists of 50,000 movie review texts and each reviews are rated as either positive or negative. Based on the movie rating, a value less than 5 is expressed as negative and a value greater than 7 is expressed as positive. Each film has no more than 30 reviews.</p>\n",
    "</div>\n",
    "\n",
    "<div class=\"admonition warning\">\n",
    "    <h4 class=\"admonition-title\">Tutorial Precautions</h4>\n",
    "    <ul>\n",
    "        <li>A text classification model can be used to predict one target value (Target, Category) from one text value.</li>\n",
    "        <li>Both a column representing the text and a column representing the target value of the text must exist.</li>\n",
    "        <li>The base model of the corresponding text classification model (<code>ELECTRA</code>) uses a GPU. Depending on the size and the batch size of the model used, GPU memory may be insufficient. In this case, try using a smaller model or reducing the batch size of the model.</li>\n",
    "    </ul>\n",
    "</div>"
   ]
  },
  {
   "cell_type": "markdown",
   "id": "41fe39bb-e2cb-497f-bff9-a51fbc633c36",
   "metadata": {},
   "source": [
    "## __0. Prepare Dataset and Model__\n",
    "\n",
    "As mentioned in the [ThanoSQL Workspace](https://docs.thanosql.ai/en/getting_started/how_to_use_ThanoSQL/#5-thanosql-workspace), you must create an API token and run the query below to execute the query of ThanoSQL. "
   ]
  },
  {
   "cell_type": "code",
   "execution_count": null,
   "id": "673f3d5d-8e1d-4fbd-ae09-3b8868957d31",
   "metadata": {},
   "outputs": [],
   "source": [
    "%load_ext thanosql\n",
    "%thanosql API_TOKEN=<Issued_API_TOKEN>"
   ]
  },
  {
   "cell_type": "markdown",
   "id": "073a6182",
   "metadata": {},
   "source": [
    "### __Prepare Dataset__"
   ]
  },
  {
   "cell_type": "code",
   "execution_count": null,
   "id": "4ff3bff8",
   "metadata": {},
   "outputs": [],
   "source": [
    "%%thanosql\n",
    "GET THANOSQL DATASET movie_review_data\n",
    "OPTIONS (overwrite=True)"
   ]
  },
  {
   "cell_type": "markdown",
   "id": "1ec2d024",
   "metadata": {},
   "source": [
    "<div class=\"admonition note\">\n",
    "    <h4 class=\"admonition-title\">Query Details</h4>\n",
    "    <ul>\n",
    "        <li>\"<strong>GET THANOSQL DATASET</strong>\" downloads the specified dataset to the workspace. </li>\n",
    "        <li>\"<strong>OPTIONS</strong>\" specifies the option values to be used for the <strong>GET THANOSQL DATASET</strong> clause.\n",
    "        <ul>\n",
    "            <li>\"overwrite\" : Determines whether to overwrite a dataset if it already exists. If set as True, the old dataset is replaced with the new dataset (True|False, DEFAULT : False) </li>\n",
    "        </ul>\n",
    "        </li>\n",
    "    </ul>\n",
    "</div>"
   ]
  },
  {
   "cell_type": "code",
   "execution_count": null,
   "id": "be768992-c5db-416a-803d-0e90bb42fbcd",
   "metadata": {},
   "outputs": [],
   "source": [
    "%%thanosql\n",
    "COPY movie_review_train\n",
    "OPTIONS (overwrite=True) \n",
    "FROM \"thanosql-dataset/movie_review_data/movie_review_train.csv\""
   ]
  },
  {
   "cell_type": "code",
   "execution_count": null,
   "id": "418d182d-db65-4865-b128-869baab37523",
   "metadata": {},
   "outputs": [],
   "source": [
    "%%thanosql\n",
    "COPY movie_review_test \n",
    "OPTIONS (overwrite=True) \n",
    "FROM \"thanosql-dataset/movie_review_data/movie_review_test.csv\""
   ]
  },
  {
   "cell_type": "markdown",
   "id": "984aefd3",
   "metadata": {},
   "source": [
    "<div class=\"admonition note\">\n",
    "    <h4 class=\"admonition-title\">Query Details</h4>\n",
    "    <ul>\n",
    "        <li>\"<strong>COPY</strong>\" specifies the name of the dataset to be saved as a database table. </li>\n",
    "        <li>\"<strong>OPTIONS</strong>\" specifies the option values to be used for the <strong>COPY</strong> clause.\n",
    "        <ul>\n",
    "           <li>\"overwrite\" : Determines whether to overwrite a table if it already exists. If set as True, the old table is replaced with the new table (True|False, DEFAULT : False) </li>\n",
    "        </ul>\n",
    "        </li>\n",
    "    </ul>\n",
    "</div>"
   ]
  },
  {
   "cell_type": "markdown",
   "id": "63f797e8",
   "metadata": {},
   "source": [
    "### __Prepare the Model__"
   ]
  },
  {
   "cell_type": "code",
   "execution_count": null,
   "id": "3b8e3274",
   "metadata": {},
   "outputs": [],
   "source": [
    "%%thanosql\n",
    "GET THANOSQL MODEL tutorial_text_classification\n",
    "OPTIONS (overwrite=True)\n",
    "AS tutorial_text_classification"
   ]
  },
  {
   "cell_type": "markdown",
   "id": "f38bd64f",
   "metadata": {},
   "source": [
    "<div class=\"admonition note\">\n",
    "    <h4 class=\"admonition-title\">Query Details </h4>\n",
    "    <ul>\n",
    "        <li>\"<strong>GET THANOSQL MODEL</strong>\" downloads the specified model to the workspace. </li>\n",
    "        <li>\"<strong>OPTIONS</strong>\" specifies the option values to be used for the <strong>GET THANOSQL MODEL</strong> clause.\n",
    "        <ul>\n",
    "            <li>\"overwrite\" : Determines whether to overwrite a model if it already exists. If set as True, the old model is replaced with the new model (True|False, DEFAULT : False) </li>\n",
    "        </ul>\n",
    "        </li>\n",
    "        <li>\"<strong>AS</strong>\" names the given model. If not specified, the model will be named as the default <code>THANOSQL MODEL</code> name.</li>\n",
    "    </ul>\n",
    "</div>"
   ]
  },
  {
   "cell_type": "markdown",
   "id": "e557a156-1075-41df-b19f-ff0812a14b4c",
   "metadata": {},
   "source": [
    "## __1.Check Dataset__\n",
    "\n",
    "To create a movie review sentiment classification model, we use the <mark style=\"background-color:#FFEC92 \">movie_review_train</mark> table stored in the ThanoSQL database. To check the table's contents, run the following query."
   ]
  },
  {
   "cell_type": "code",
   "execution_count": null,
   "id": "49d801df-54d2-4809-bbed-69b2818e9cec",
   "metadata": {},
   "outputs": [],
   "source": [
    "%%thanosql\n",
    "SELECT *\n",
    "FROM movie_review_train\n",
    "LIMIT 5"
   ]
  },
  {
   "cell_type": "markdown",
   "id": "12e90b90",
   "metadata": {},
   "source": [
    "<div class=\"admonition note\">\n",
    "   <h4 class=\"admonition-title\">Understanding Data</h4>\n",
    "   <ul>\n",
    "      <li><mark style=\"background-color:#D7D0FF \">review</mark>: movie review in text</li>\n",
    "      <li><mark style=\"background-color:#D7D0FF \">sentiment</mark> : target value indicating whether the review has a positive or negative sentiment</li>\n",
    "   </ul>\n",
    "</div>"
   ]
  },
  {
   "cell_type": "markdown",
   "id": "d7c83528-ebc6-4a88-a29f-31afc0516935",
   "metadata": {},
   "source": [
    "## __2. Predict Movie Review Sentiment Classification Results Using Pretrained Model__\n",
    "\n",
    "To predict the movie review sentiment classification result using the pretrained <mark style=\"background-color:#E9D7FD \">tutorial_text_classification</mark> model, run the following query."
   ]
  },
  {
   "cell_type": "code",
   "execution_count": null,
   "id": "ae7a9324-9c5e-4be4-a933-8774bbdd01c9",
   "metadata": {},
   "outputs": [],
   "source": [
    "%%thanosql\n",
    "PREDICT USING tutorial_text_classification\n",
    "OPTIONS (\n",
    "    text_col='review'\n",
    "    )\n",
    "AS\n",
    "SELECT *\n",
    "FROM movie_review_test"
   ]
  },
  {
   "cell_type": "markdown",
   "id": "e9b4137e-75ad-4bea-bda0-0c7fcdb3b72b",
   "metadata": {},
   "source": [
    "## __3. Creating a text classification model__\n",
    "\n",
    "To create a text classification model with a name of <mark style=\"background-color:#E9D7FD \">my_movie_review_classifier</mark> using the <mark style=\"background-color:#FFEC92 \">movie_review_train</mark> dataset, run the following query. \n",
    "(Estimated time required for query execution: 3 min)"
   ]
  },
  {
   "cell_type": "code",
   "execution_count": null,
   "id": "8ffb0317-476e-409f-baa3-dc562d924e99",
   "metadata": {},
   "outputs": [],
   "source": [
    "%%thanosql\n",
    "BUILD MODEL my_movie_review_classifier\n",
    "USING ElectraEn\n",
    "OPTIONS (\n",
    "    text_col='review',\n",
    "    label_col='sentiment',\n",
    "    epochs=1,\n",
    "    batch_size=4,\n",
    "    overwrite=True\n",
    "    )\n",
    "AS\n",
    "SELECT *\n",
    "FROM movie_review_train"
   ]
  },
  {
   "cell_type": "markdown",
   "id": "3990c3f5",
   "metadata": {},
   "source": [
    "<div class=\"admonition note\">\n",
    "    <h4 class=\"admonition-title\">Query Details</h4>\n",
    "    <ul>\n",
    "        <li>\"<strong>BUILD MODEL</strong>\" creates and trains a model named <mark style=\"background-color:#E9D7FD\">my_movie_review_classifier</mark>.</li>\n",
    "        <li>\"<strong>USING</strong>\" specifies the use of <code>ElectraEn</code> as the base model.</li>\n",
    "        <li>\"<strong>OPTIONS</strong>\" specifies the option values used to create the model. \"text_col\" is the name of the column containing the text to be used for the training, and \"label_col\" is the name of the column containing information about the target. You can specify how many times you want to repeat the training with \"epochs\". \"batch_size\" is the size of a bundle of the dataset utilized in a single cycle of training.</li>\n",
    "    </ul>\n",
    "</div>\n",
    "\n",
    "<div class=\"admonition tip\">\n",
    "    <p>In this example, we set \"epochs\" to 1 to train the model quickly. In general, larger number of \"epochs\" takes more computation time, but predictive performance increases.</p>\n",
    "</div>\n",
    "\n",
    "<div class=\"admonition note\">\n",
    "    <p>When <strong>overwrite is set as True </strong>, users can create a table with the same name as the previously created table.<br>\n",
    "    On the other hand, when <strong>overwrite is set as False</strong>, users would not be able to create a table with the same name as the previously created table.</p>\n",
    "</div>"
   ]
  },
  {
   "cell_type": "markdown",
   "id": "d6402263-ff45-45e8-b221-27c1ff97c556",
   "metadata": {},
   "source": [
    "## __4. Predict Movie Review Sentiment Classification Results Using Generated Model__\n",
    "\n",
    "To use the text classification prediction model created in the previous step to predict the target value for a specific review (<mark style=\"background-color:#FFEC92 \">movie_review_test</mark>), run the following query."
   ]
  },
  {
   "cell_type": "code",
   "execution_count": null,
   "id": "530b828d-962c-4115-a417-59ca2c621e98",
   "metadata": {},
   "outputs": [],
   "source": [
    "%%thanosql\n",
    "PREDICT USING my_movie_review_classifier\n",
    "OPTIONS (\n",
    "    text_col='review'\n",
    "    )\n",
    "AS\n",
    "SELECT *\n",
    "FROM movie_review_test"
   ]
  },
  {
   "cell_type": "markdown",
   "id": "2c4d903a",
   "metadata": {},
   "source": [
    "<div class=\"admonition note\">\n",
    "    <h4 class=\"admonition-title\">Query details</h4>\n",
    "    <p>Above example uses <mark style=\"background-color:#E9D7FD \">my_movie_review_classifier</mark> model created in the previous step for the prediction.\n",
    "    \"<strong>OPTIONS</strong>\" specifies the option values to be used for the prediction. <mark style=\"background-color:#D7D0FF\">review</mark> is the column containing the text to be used for the prediction.\n",
    "    The prediction result is stored and returned in the <mark style=\"background-color:#D7D0FF\">predicted</mark> column.</p>\n",
    "</div>"
   ]
  },
  {
   "cell_type": "markdown",
   "id": "5389cb4a",
   "metadata": {},
   "source": [
    "## __5. In Conclusion__\n",
    "\n",
    "In this tutorial, we created a text classification model using the <mark style=\"background-color:#FFD79C\">IMDB Movie Reviews</mark> dataset. As this is a beginner-level tutorial, we have focused more on the big picture rather than improving accuracy of the model. The text classification model can be improved in accuracy through fine tuning. You can train the base model using your own data, or use [Self-supervised Learning](https://en.wikipedia.org/wiki/Self-supervised_learning) model to vectorize and transform your data to create an automated machine learning (Auto-ML) for the deployment. Create your own model and provide competitive services by combining various unstructured data (image, audio, video, etc.) and numeric data with ThanoSQL.\n",
    "\n",
    "The next step, the [Creating an Intermediate Text Classification Model] tutorial, takes a more in-depth look at text classification models. If you want to learn more about how to build your own text classification model for your service, proceed with the following tutorials.\n",
    "\n",
    "- [How to Upload to ThanoSQL DB](https://docs.thanosql.ai/en/how-to_guides/ThanoSQL_connecting/data_upload/)\n",
    "- [Creating an Intermediate Text Classification Model]\n",
    "- [Create My model using text conversion and Auto-ML]\n",
    "- [Deploy My text classification model](https://docs.thanosql.ai/en/how-to_guides/ThanoSQL_connecting/thanosql_api/rest_api_thanosql_query/)\n",
    "\n",
    "<div class=\"admonition tip\">\n",
    "    <h4 class=\"admonition-title\">Inquiries about deploying a model for your own service</h4>\n",
    "    <p>If you have any difficulties in creating your own model using ThanoSQL or applying it to the service, please feel free to contact us below😊</p>\n",
    "    <p>For inquiries about building a text classification model: contact@smartmind.team</p>\n",
    "</div>"
   ]
  },
  {
   "cell_type": "markdown",
   "id": "179ed44a",
   "metadata": {},
   "source": []
  }
 ],
 "metadata": {
  "kernelspec": {
   "display_name": "Python 3 (ipykernel)",
   "language": "python",
   "name": "python3"
  },
  "language_info": {
   "codemirror_mode": {
    "name": "ipython",
    "version": 3
   },
   "file_extension": ".py",
   "mimetype": "text/x-python",
   "name": "python",
   "nbconvert_exporter": "python",
   "pygments_lexer": "ipython3",
   "version": "3.8.9"
  },
  "toc-autonumbering": false,
  "vscode": {
   "interpreter": {
    "hash": "31f2aee4e71d21fbe5cf8b01ff0e069b9275f58929596ceb00d14d90e3e16cd6"
   }
  }
 },
 "nbformat": 4,
 "nbformat_minor": 5
}
