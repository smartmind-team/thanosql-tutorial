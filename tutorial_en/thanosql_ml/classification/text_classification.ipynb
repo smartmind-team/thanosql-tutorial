{
 "cells": [
  {
   "cell_type": "markdown",
   "id": "6cfd2a8c-fdfc-4233-abd1-ece097069522",
   "metadata": {},
   "source": [
    "# __Create a text classification model__"
   ]
  },
  {
   "cell_type": "markdown",
   "id": "a489e8d6",
   "metadata": {},
   "source": [
    "## Preface\n",
    "\n",
    "- Tutorial Difficulty: ★☆☆☆☆\n",
    "- 10 min read\n",
    "- Languages : [SQL](https://en.wikipedia.org/wiki/SQL) (100%)\n",
    "- File location : tutorial_en/thanosql_ml/classification/text_classification.ipynb\n",
    "- References : [(Kaggle) IMDB Movie Reviews](https://www.kaggle.com/code/lakshmi25npathi/sentiment-analysis-of-imdb-movie-reviews/data), [ELECTRA: Pre-training Text Encoders as Discriminators Rather Than Generators](https://arxiv.org/abs/2003.10555)"
   ]
  },
  {
   "cell_type": "markdown",
   "id": "a00f00a2",
   "metadata": {},
   "source": [
    "## Tutorial Introduction\n",
    "\n",
    "<div class=\"admonition note\">\n",
    "    <h4 class=\"admonition-title\">Understanding Classification Operations</h4>\n",
    "    <p>Classification is a form of <a href=\"https://en.wikipedia.org/wiki/Machine_learning\">Machine Learning</a> used to predict the category (Category or Class) to which the target belongs. For example, both binary classifications that classify men or women and multiple classifications that predict animal species (dogs, cats, rabbits, etc.) are included in the classification task. <br></p>\n",
    "</div>\n",
    "\n",
    "[Natural Language Processing (NLP)](https://en.wikipedia.org/wiki/Natural_language_processing) is a branch of artificial intelligence that uses machine learning to process and interpret text-based data.\n",
    "\n",
    "<div class=\"admonition tip\">\n",
    "    <h4 class=\"admonition-title\">What is <a href=\"https://en.wikipedia.org/wiki/Natural_language_processing\">Natural Language Processing (NLP)</a></h4>\n",
    "    <p>NLP can be classified as Natural Language Understanding (NLU) and Natural Language Generation (NLG) depending on the purpose of the task. Understanding natural language refers to the process of converting a natural language that a person understands into a value that a computer can understand. On the other hand, natural language generation further refers to the process of converting computer-readable values into natural language so that people can understand them.</p>\n",
    "</div>\n",
    "\n",
    "Recent advances in pre-training techniques such as [BERT](<https://en.wikipedia.org/wiki/BERT_(language_model)>) and [GPT-3](https://en.wikipedia.org/wiki/GPT-3) enable the building of a common model of language comprehension before fine-tuning for certain NLP tasks, such as emotional analysis or question-and-answer.\n",
    "\n",
    "<div class=\"admonition summary\">\n",
    "    <p>This means that you can use more data efficiently by minimizing <a href=\"https://en.wikipedia.org/wiki/Labeled_data\">data labeling</a> operations for large datasets.</p>\n",
    "</div>\n",
    "\n",
    "ThanoSQL provides a variety of pre-trained AI models, and provides various functions so that users can easily create their own text classification models even with a small amount of data labeling. Through this, users can extract potential insights from text data that are difficult to quantify features from an appropriately trained text classification model and utilize them for various services.\n",
    "\n",
    "__The following is an example and usage of the ThanoSQL text classification model.__\n",
    "\n",
    "- The ThanoSQL text classification model makes it easy to use text classification model for consultation or inquiry through chatbot, sentiment analysis of text in bulletin board, or categorization task. This action will later enable the customer to connect with the appropriate contact person.\n",
    "\n",
    "- The ThanoSQL text classification model allows news or post sharing services to categorize groups of published content. It enables sentiment analysis by applying a text classification model to comments in posted content. This operation enables efficient management of problems that may suddenly become an issue or may be caused by profanity or slander.\n",
    "\n",
    "<div class=\"admonition note\">\n",
    "    <h4 class=\"admonition-title\">In this tutorial</h4>\n",
    "    <p>👉 Create a model to classify the emotions of movie reviews using the <mark style=\"background-color:#FFD79C\">IMDB Movie Reviews</mark> dataset from <a href=\"https://www.kaggle.com/\">Kaggle</a>. This dataset consists of 50,000 movie review texts and targets for positive or negative emotions. Based on the movie rating, a value less than 5 is expressed as negative and a value greater than 7 is expressed as positive, and each individual film does not have more than 30 review results.</p>\n",
    "</div>\n",
    "\n",
    "<div class=\"admonition warning\">\n",
    "    <h4 class=\"admonition-title\">Tutorial Precautions</h4>\n",
    "    <ul>\n",
    "        <li>A text classification model can be used to predict one target (Target, Category) in one text.</li>\n",
    "        <li>There must be a column representing the text and a column representing the target value of the text.</li>\n",
    "        <li>The base model of the corresponding text classification model (<code>ELECTRA</code>) uses a GPU. Depending on the size and batch size of the model used, GPU memory may be low. In this case, try using a smaller model or reducing the batch size.</li>\n",
    "    </ul>\n",
    "</div>"
   ]
  },
  {
   "cell_type": "markdown",
   "id": "41fe39bb-e2cb-497f-bff9-a51fbc633c36",
   "metadata": {},
   "source": [
    "## __0. Prepare Dataset and Model__\n",
    "\n",
    "To use the query syntax of ThanoSQL, you must create an API token and run the query below, as mentioned in the [ThanoSQL Workspace](https://docs.thanosql.ai/en/getting_started/how_to_use_ThanoSQL/#5-thanosql-workspace)."
   ]
  },
  {
   "cell_type": "code",
   "execution_count": null,
   "id": "673f3d5d-8e1d-4fbd-ae09-3b8868957d31",
   "metadata": {},
   "outputs": [],
   "source": [
    "%load_ext thanosql\n",
    "%thanosql API_TOKEN=<Issued_API_TOKEN>"
   ]
  },
  {
   "cell_type": "markdown",
   "id": "073a6182",
   "metadata": {},
   "source": [
    "### __Prepare Dataset__"
   ]
  },
  {
   "cell_type": "code",
   "execution_count": null,
   "id": "4ff3bff8",
   "metadata": {},
   "outputs": [],
   "source": [
    "%%thanosql\n",
    "GET THANOSQL DATASET movie_review_data\n",
    "OPTIONS (overwrite=True)"
   ]
  },
  {
   "cell_type": "markdown",
   "id": "1ec2d024",
   "metadata": {},
   "source": [
    "<div class=\"admonition note\">\n",
    "    <h4 class=\"admonition-title\">Query Details</h4>\n",
    "    <ul>\n",
    "        <li>\"<strong>GET THANOSQL DATASET</strong>\" Use the query syntax to save the desired dataset to the workspace. </li>\n",
    "        <li>\"<strong>OPTIONS</strong>\" Specifies the option to use for <strong>GET THANOSQL DATASET</strong> via query syntax.\n",
    "        <ul>\n",
    "            <li>\"overwrite\" : Set whether to overwrite if a dataset with the same name exists. If True, the old dataset is replaced with the new dataset (True|False, DEFAULT : False) </li>\n",
    "        </ul>\n",
    "        </li>\n",
    "    </ul>\n",
    "</div>"
   ]
  },
  {
   "cell_type": "code",
   "execution_count": null,
   "id": "be768992-c5db-416a-803d-0e90bb42fbcd",
   "metadata": {},
   "outputs": [],
   "source": [
    "%%thanosql\n",
    "COPY movie_review_train\n",
    "OPTIONS (overwrite=True) \n",
    "FROM \"thanosql-dataset/movie_review_data/movie_review_train.csv\""
   ]
  },
  {
   "cell_type": "code",
   "execution_count": null,
   "id": "418d182d-db65-4865-b128-869baab37523",
   "metadata": {},
   "outputs": [],
   "source": [
    "%%thanosql\n",
    "COPY movie_review_test \n",
    "OPTIONS (overwrite=True) \n",
    "FROM \"thanosql-dataset/movie_review_data/movie_review_test.csv\""
   ]
  },
  {
   "cell_type": "markdown",
   "id": "984aefd3",
   "metadata": {},
   "source": [
    "<div class=\"admonition note\">\n",
    "    <h4 class=\"admonition-title\">Query Details</h4>\n",
    "    <ul>\n",
    "        <li>\"<strong>COPY</strong>\" Use the query syntax to specify the name of the dataset to be saved in the DB. </li>\n",
    "        <li>Specifies the options to use for <strong>COPY</strong> via the query syntax \"<strong>OPTIONS</strong>\" .\n",
    "        <ul>\n",
    "            <li>\"overwrite\" : Set whether overwrite is possible if a dataset with the same name exists on the DB. If True, the old dataset is replaced with the new dataset (True|False, DEFAULT : False) </li>\n",
    "        </ul>\n",
    "        </li>\n",
    "    </ul>\n",
    "</div>"
   ]
  },
  {
   "cell_type": "markdown",
   "id": "63f797e8",
   "metadata": {},
   "source": [
    "### __Prepare the Model__"
   ]
  },
  {
   "cell_type": "code",
   "execution_count": null,
   "id": "3b8e3274",
   "metadata": {},
   "outputs": [],
   "source": [
    "%%thanosql\n",
    "GET THANOSQL MODEL tutorial_text_classification\n",
    "OPTIONS (overwrite=True)\n",
    "AS tutorial_text_classification"
   ]
  },
  {
   "cell_type": "markdown",
   "id": "f38bd64f",
   "metadata": {},
   "source": [
    "<div class=\"admonition note\">\n",
    "    <h4 class=\"admonition-title\">Query Details </h4>\n",
    "    <ul>\n",
    "        <li>\"<strong>GET THANOSQL MODEL</strong>\" Use the query syntax to store the desired model in the workspace and DB. </li>\n",
    "        <li>\"<strong>OPTIONS</strong>\" Use the query syntax to specify the options to use for <strong>GET THANOSQL MODEL</strong>.\n",
    "        <ul>\n",
    "            <li>\"overwrite\" : Set whether datasets with the same name can be overwritten if they exist. If True, the existing dataset is changed to a new dataset (True|False, DEFAULT: False) </li>\n",
    "        </ul>\n",
    "        </li>\n",
    "        <li>Use the query syntax \"<strong>AS</strong>\" to name the model. If you are not using the AS syntax, accept the name of <code>THANOSQL MODEL</code>.</li>\n",
    "    </ul>\n",
    "</div>"
   ]
  },
  {
   "cell_type": "markdown",
   "id": "e557a156-1075-41df-b19f-ff0812a14b4c",
   "metadata": {},
   "source": [
    "## __1.Check Dataset__\n",
    "\n",
    "To create a movie review sentiment classification model, we use the <mark style=\"background-color:#FFEC92 \">movie_review_train</mark> table stored in ThanoSQL DB. Execute the query statement below to check the table contents."
   ]
  },
  {
   "cell_type": "code",
   "execution_count": null,
   "id": "49d801df-54d2-4809-bbed-69b2818e9cec",
   "metadata": {},
   "outputs": [],
   "source": [
    "%%thanosql\n",
    "SELECT *\n",
    "FROM movie_review_train\n",
    "LIMIT 5"
   ]
  },
  {
   "cell_type": "markdown",
   "id": "12e90b90",
   "metadata": {},
   "source": [
    "<div class=\"admonition note\">\n",
    "   <h4 class=\"admonition-title\">Understanding Data</h4>\n",
    "   <ul>\n",
    "      <li><mark style=\"background-color:#D7D0FF \">review</mark>: movie review text</li>\n",
    "      <li><mark style=\"background-color:#D7D0FF \">sentiment</mark> : Target value indicating whether the review is positive or negative</li>\n",
    "   </ul>\n",
    "</div>"
   ]
  },
  {
   "cell_type": "markdown",
   "id": "d7c83528-ebc6-4a88-a29f-31afc0516935",
   "metadata": {},
   "source": [
    "## __2. Predict Movie Review Sentiment Classification Results Using Pretrained Model__\n",
    "\n",
    "First, let's predict the result directly with the model we trained in advance. If you run the following query, you can predict the movie review classification result using the <mark style=\"background-color:#E9D7FD \">tutorial_text_classification</mark> model."
   ]
  },
  {
   "cell_type": "code",
   "execution_count": null,
   "id": "ae7a9324-9c5e-4be4-a933-8774bbdd01c9",
   "metadata": {},
   "outputs": [],
   "source": [
    "%%thanosql\n",
    "PREDICT USING tutorial_text_classification\n",
    "OPTIONS (\n",
    "    text_col='review'\n",
    "    )\n",
    "AS\n",
    "SELECT *\n",
    "FROM movie_review_test"
   ]
  },
  {
   "cell_type": "markdown",
   "id": "e9b4137e-75ad-4bea-bda0-0c7fcdb3b72b",
   "metadata": {},
   "source": [
    "## __3. Creating a text classification model__\n",
    "\n",
    "Create a text classification model using the <mark style=\"background-color:#FFEC92 \">movie_review_train</mark> dataset from the previous step. Execute the query syntax below to create a model named <mark style=\"background-color:#E9D7FD \">my_movie_review_classifier</mark>.  \n",
    "(Estimated time required for query execution: 3 min)"
   ]
  },
  {
   "cell_type": "code",
   "execution_count": null,
   "id": "8ffb0317-476e-409f-baa3-dc562d924e99",
   "metadata": {},
   "outputs": [],
   "source": [
    "%%thanosql\n",
    "BUILD MODEL my_movie_review_classifier\n",
    "USING ElectraEn\n",
    "OPTIONS (\n",
    "    text_col='review',\n",
    "    label_col='sentiment',\n",
    "    epochs=1,\n",
    "    batch_size=4,\n",
    "    overwrite=True\n",
    "    )\n",
    "AS\n",
    "SELECT *\n",
    "FROM movie_review_train"
   ]
  },
  {
   "cell_type": "markdown",
   "id": "3990c3f5",
   "metadata": {},
   "source": [
    "<div class=\"admonition note\">\n",
    "    <h4 class=\"admonition-title\">Query Details</h4>\n",
    "    <ul>\n",
    "        <li>\"<strong>BUILD MODEL</strong>\" Use the query syntax to create and learn a model called <mark style=\"background-color:#E9D7FD\">my_movie_review_classifier</mark>.</li>\n",
    "        <li>\"<strong>USING</strong>\" The query syntax specifies the use of <code>ElectraEn</code> as the base model.</li>\n",
    "        <li>\"<strong>OPTIONS</strong>\" Specifies the options used to create the model through the query syntax. \"text_col\" is the name of the column containing the text to be used for learning, and \"label_col\" is the name of the column containing information about the target. Specify how many times you want to repeat with \"epochs\". \"batch_size\" is the size of a bundle of datasets read in one learning.</li>\n",
    "    </ul>\n",
    "</div>\n",
    "\n",
    "<div class=\"admonition tip\">\n",
    "    <p>Here, we set \"epochs\" to 1 to learn quickly. In general, larger numbers take more computation time, but predictive performance increases as training progresses.</p>\n",
    "</div>\n",
    "\n",
    "<div class=\"admonition note\">\n",
    "    <p>When <strong>overwrite is True </strong>, the user can create a data table with the same name as the previously created data table.<br>\n",
    "    On the other hand, when <strong>overwrite is False</strong>, the user cannot create a data table with the same name as the previously created data table.</p>\n",
    "</div>"
   ]
  },
  {
   "cell_type": "markdown",
   "id": "d6402263-ff45-45e8-b221-27c1ff97c556",
   "metadata": {},
   "source": [
    "## __4. Predict Movie Review Sentiment Classification Results Using Generated Model__\n",
    "\n",
    "Use the text classification prediction model created in the previous step to predict the target value for a specific review (data table not used for training, <mark style=\"background-color:#FFEC92 \">movie_review_test</mark>)."
   ]
  },
  {
   "cell_type": "code",
   "execution_count": null,
   "id": "530b828d-962c-4115-a417-59ca2c621e98",
   "metadata": {},
   "outputs": [],
   "source": [
    "%%thanosql\n",
    "PREDICT USING my_movie_review_classifier\n",
    "OPTIONS (\n",
    "    text_col='review'\n",
    "    )\n",
    "AS\n",
    "SELECT *\n",
    "FROM movie_review_test"
   ]
  },
  {
   "cell_type": "markdown",
   "id": "2c4d903a",
   "metadata": {},
   "source": [
    "<div class=\"admonition note\">\n",
    "    <h4 class=\"admonition-title\">Query details</h4>\n",
    "    <p>Use the <mark style=\"background-color:#E9D7FD \">my_movie_review_classifier</mark> model created in the previous step for prediction via the \"<strong>PREDICT USING</strong>\" query syntax.\n",
    "    Specify the options to use for prediction via \"<strong>OPTIONS</strong>\". <mark style=\"background-color:#D7D0FF\">review</mark> is the name of the column containing the text to use for prediction.\n",
    "    The prediction result is stored and returned in the <mark style=\"background-color:#D7D0FF\">predicted</mark> column.</p>\n",
    "</div>"
   ]
  },
  {
   "cell_type": "markdown",
   "id": "5389cb4a",
   "metadata": {},
   "source": [
    "## __5. In Conclusion__\n",
    "\n",
    "In this tutorial, we created a text classification model using the <mark style=\"background-color:#FFD79C\">IMDB Movie Reviews</mark> dataset. As this is a beginner-level tutorial, we have focused on operation rather than explaining the process to improve accuracy. The text classification model can improve its accuracy through fine tuning for each platform or service. You can learn the base model using your own data, or digitize and transform your data using the [Self-supervised Learning](https://en.wikipedia.org/wiki/Self-supervised_learning) model. Afterwards, deployment using automated machine learning (Auto-ML) techniques is also possible. Create your own model and provide competitive services by combining various unstructured data (image, audio, video, etc.) and numeric data.\n",
    "\n",
    "The next step, the [Creating an Intermediate Text Classification Model] tutorial, takes a more in-depth look at text classification models. If you want to learn more about how to build your own text classification model for your service, proceed with the following tutorials.\n",
    "\n",
    "- [How to Upload to ThanoSQL DB](https://docs.thanosql.ai/en/how-to_guides/ThanoSQL_connecting/data_upload/)\n",
    "- [Creating an Intermediate Text Classification Model]\n",
    "- [Create My model using text conversion and Auto-ML]\n",
    "- [Deploy My text classification model](https://docs.thanosql.ai/en/how-to_guides/ThanoSQL_connecting/thanosql_api/rest_api_thanosql_query/)\n",
    "\n",
    "<div class=\"admonition tip\">\n",
    "    <h4 class=\"admonition-title\">Inquiries about deploying a model for your own service</h4>\n",
    "    <p>If you have any difficulties in creating your own model using ThanoSQL or applying it to the service, please feel free to contact us below😊</p>\n",
    "    <p>For inquiries about building a text classification model: contact@smartmind.team</p>\n",
    "</div>"
   ]
  }
 ],
 "metadata": {
  "kernelspec": {
   "display_name": "Python 3 (ipykernel)",
   "language": "python",
   "name": "python3"
  },
  "language_info": {
   "codemirror_mode": {
    "name": "ipython",
    "version": 3
   },
   "file_extension": ".py",
   "mimetype": "text/x-python",
   "name": "python",
   "nbconvert_exporter": "python",
   "pygments_lexer": "ipython3",
   "version": "3.8.9"
  },
  "toc-autonumbering": false,
  "vscode": {
   "interpreter": {
    "hash": "31f2aee4e71d21fbe5cf8b01ff0e069b9275f58929596ceb00d14d90e3e16cd6"
   }
  }
 },
 "nbformat": 4,
 "nbformat_minor": 5
}
