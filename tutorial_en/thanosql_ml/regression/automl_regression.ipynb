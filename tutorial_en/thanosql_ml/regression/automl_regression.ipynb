{
 "cells": [
  {
   "cell_type": "markdown",
   "id": "edec260f-4232-4817-a035-fe3533030be1",
   "metadata": {},
   "source": [
    "# __Create a Regression Model Using AutoML__"
   ]
  },
  {
   "cell_type": "markdown",
   "id": "9d44de2f",
   "metadata": {},
   "source": [
    "- Tutorial Difficulty: ★☆☆☆☆\n",
    "- 5 min read\n",
    "- Languages: [SQL](https://en.wikipedia.org/wiki/SQL) (100%)\n",
    "- File location: tutorial_en/thanosql_ml/regression/automl_regression.ipynb\n",
    "- References: [(Kaggle) Bike Sharing Demand](https://www.kaggle.com/competitions/bike-sharing-demand/overview)"
   ]
  },
  {
   "cell_type": "markdown",
   "id": "05f3d517",
   "metadata": {},
   "source": [
    "## Tutorial Introduction\n",
    "\n",
    "<div class=\"admonition note\">\n",
    "    <h4 class=\"admonition-title\">Understanding Regression</h4>\n",
    "    <p>A regression is a type of <a href=\"https://en.wikipedia.org/wiki/Machine_learning\">machine learning(ML)</a> that is used to predict numbers with sequential target values. For example, the model can be used to predict tomorrow's temperature or predict housing prices in a particular area.</p>\n",
    "</div>\n",
    "\n",
    "When a company spends a certain amount on advertising, sales performance data from similar past cases can be used to predict advertising performance. All <a href=\"https://en.wikipedia.org/wiki/Feature_(machine_learning)\">Features</a> that can be converted into data, such as the features of the product to be advertised, the product selling period, information about the surrounding market, sales volume information of competitors, the definition of the target customer group, and the market trend of the industry group, can be used as input data. By changing the adjustable information in the input data, you can predict optimal sales performance and adjust the advertising cost according to the forecast performance. You can use these regression models to improve ad performance and continuously increase sales.\n",
    "\n",
    "__The following are examples and applications of the ThanoSQL regression model.__\n",
    "\n",
    " - Stock price prediction using stock market price, closing price, high price, low price, related stocks, KOSPI index, related news, etc. (finance)\n",
    " - Prediction of failure probability and lifespan of equipments using sensor data such as temperature, vibration, and sound (manufacturing)\n",
    " - Prediction of solar energy generation using weather, temperature, cloudiness, insolation, etc. (energy)\n",
    " - Forecast using demand trends, oil price, and exchange rate fluctuations (raw materials) <br>\n",
    "\n",
    "<div class=\"admonition note\">\n",
    "    <h4 class=\"admonition-title\">In This Tutorial</h4>\n",
    "    <p>👉 Create a bike demand regression model using the Bike Sharing Demand dataset from <a href=\"https://www.kaggle.com/\">Kaggle</a>, a machine learning contest platform. The goals of this contest are as follows (The data for this competition is based on information such as date and time, temperature, humidity, and wind speed from 2011 to 2012.)</p>\n",
    "</div>\n",
    "\n",
    "__Predicting the number of bike rentals per hour on a specific date__\n",
    "\n",
    "ThanoSQL provides automated machine learning(__AutoML__) tools. This tutorial uses __AutoML__ to predict the number of bike rentals. ThanoSQL's __AutoML__ automates the process for model development and enables data collection and storage along with machine learning model development and distribution(end-to-end machine learning pipelines) using a single language.\n",
    "\n",
    "__The advantages of using the ThanoSQL's automated machine learning are:__\n",
    "\n",
    "1. Implementation and deployment of machine learning solutions without extensive programming or data science knowledge\n",
    "2. Saving time and resources for deployment of development models\n",
    "3. Quickly solve problems using the data you have for decision-making\n",
    "\n",
    "Now, let's use ThanoSQL to create a simple regression model to predict the number of bike rentals on a certain data."
   ]
  },
  {
   "cell_type": "markdown",
   "id": "a68baaf7-ca66-4c0d-bd36-d6066ed22127",
   "metadata": {},
   "source": [
    "## __0. Prepare Dataset__\n",
    "\n",
    "As mentioned in the [ThanoSQL Workspace](https://docs.thanosql.ai/en/getting_started/paas/workspace/lab/), you must create an API token and run the query below to execute the query of ThanoSQL. "
   ]
  },
  {
   "cell_type": "code",
   "execution_count": null,
   "id": "f543db2d-a192-41e9-878b-bfc3b67d0d6e",
   "metadata": {
    "tags": []
   },
   "outputs": [],
   "source": [
    "%load_ext thanosql\n",
    "%thanosql API_TOKEN=<Issued_API_TOKEN>"
   ]
  },
  {
   "cell_type": "markdown",
   "id": "073a6182",
   "metadata": {},
   "source": [
    "### __Prepare Dataset__"
   ]
  },
  {
   "cell_type": "code",
   "execution_count": 2,
   "id": "bc20c2f8",
   "metadata": {
    "execution": {
     "iopub.execute_input": "2023-01-19T10:51:54.513419Z",
     "iopub.status.busy": "2023-01-19T10:51:54.513170Z",
     "iopub.status.idle": "2023-01-19T10:51:55.776581Z",
     "shell.execute_reply": "2023-01-19T10:51:55.776020Z",
     "shell.execute_reply.started": "2023-01-19T10:51:54.513401Z"
    }
   },
   "outputs": [
    {
     "name": "stdout",
     "output_type": "stream",
     "text": [
      "Success\n"
     ]
    }
   ],
   "source": [
    "%%thanosql\n",
    "GET THANOSQL DATASET bike_sharing_data\n",
    "OPTIONS (overwrite=True)"
   ]
  },
  {
   "cell_type": "markdown",
   "id": "1ec2d024",
   "metadata": {},
   "source": [
    "<div class=\"admonition note\">\n",
    "    <h4 class=\"admonition-title\">Query Details</h4>\n",
    "    <ul>\n",
    "        <li>\"<strong>GET THANOSQL DATASET</strong>\" downloads the specified dataset to the workspace.</li>\n",
    "        <li>\"<strong>OPTIONS</strong>\" specifies the option values to be used for the <strong>GET THANOSQL DATASET</strong> clause.\n",
    "        <ul>\n",
    "            <li>\"overwrite\": determines whether to overwrite a dataset if it already exists. If set as True, the old dataset is replaced with the new dataset (bool, optional, True|False, default: False)</li>\n",
    "        </ul>\n",
    "        </li>\n",
    "    </ul>\n",
    "</div>"
   ]
  },
  {
   "cell_type": "code",
   "execution_count": 3,
   "id": "5e344e20-54ab-4c3c-948f-e17fa95ed54a",
   "metadata": {
    "execution": {
     "iopub.execute_input": "2023-01-19T10:51:55.777528Z",
     "iopub.status.busy": "2023-01-19T10:51:55.777354Z",
     "iopub.status.idle": "2023-01-19T10:51:56.854802Z",
     "shell.execute_reply": "2023-01-19T10:51:56.854175Z",
     "shell.execute_reply.started": "2023-01-19T10:51:55.777512Z"
    },
    "tags": []
   },
   "outputs": [
    {
     "name": "stdout",
     "output_type": "stream",
     "text": [
      "Success\n"
     ]
    }
   ],
   "source": [
    "%%thanosql\n",
    "COPY bike_sharing_train \n",
    "OPTIONS (if_exists='replace')\n",
    "FROM 'thanosql-dataset/bike_sharing_data/bike_sharing_train.csv'"
   ]
  },
  {
   "cell_type": "code",
   "execution_count": 4,
   "id": "c262d2e6-d486-4128-92f6-4c998653bee8",
   "metadata": {
    "execution": {
     "iopub.execute_input": "2023-01-19T10:51:56.855852Z",
     "iopub.status.busy": "2023-01-19T10:51:56.855665Z",
     "iopub.status.idle": "2023-01-19T10:51:57.937733Z",
     "shell.execute_reply": "2023-01-19T10:51:57.937088Z",
     "shell.execute_reply.started": "2023-01-19T10:51:56.855831Z"
    },
    "tags": []
   },
   "outputs": [
    {
     "name": "stdout",
     "output_type": "stream",
     "text": [
      "Success\n"
     ]
    }
   ],
   "source": [
    "%%thanosql\n",
    "COPY bike_sharing_test \n",
    "OPTIONS (if_exists='replace')\n",
    "FROM 'thanosql-dataset/bike_sharing_data/bike_sharing_test.csv'"
   ]
  },
  {
   "cell_type": "markdown",
   "id": "984aefd3",
   "metadata": {},
   "source": [
    "<div class=\"admonition note\">\n",
    "    <h4 class=\"admonition-title\">Query Details</h4>\n",
    "    <ul>\n",
    "        <li>\"<strong>COPY</strong>\" specifies the name of the dataset to be saved as a database table.</li>\n",
    "        <li>\"<strong>OPTIONS</strong>\" specifies the option values to be used for the <strong>COPY</strong> clause.\n",
    "        <ul>\n",
    "           <li>\"if_exists\": determines how the function should handle the case where the table already exists, it can either raise an error, append to the existing table, or replace the existing table (str, optional, 'fail'|'replace'|'append', default: 'fail')</li>\n",
    "        </ul>\n",
    "        </li>\n",
    "    </ul>\n",
    "</div>"
   ]
  },
  {
   "cell_type": "markdown",
   "id": "6a0f8d6e-a01f-4d17-bbcf-e1aac3509e12",
   "metadata": {},
   "source": [
    "## __1. Check Dataset__\n",
    "\n",
    "To create the regression model, we use the __bike_sharing_train__ table located in the ThanoSQL workspace database. Run the query below to check the contents of the table."
   ]
  },
  {
   "cell_type": "code",
   "execution_count": 5,
   "id": "2727e422-7a05-4a4e-91cb-6036c22cea51",
   "metadata": {
    "execution": {
     "iopub.execute_input": "2023-01-19T10:51:57.939492Z",
     "iopub.status.busy": "2023-01-19T10:51:57.939299Z",
     "iopub.status.idle": "2023-01-19T10:51:58.928107Z",
     "shell.execute_reply": "2023-01-19T10:51:58.927449Z",
     "shell.execute_reply.started": "2023-01-19T10:51:57.939475Z"
    },
    "tags": []
   },
   "outputs": [
    {
     "data": {
      "text/html": [
       "<div>\n",
       "<style scoped>\n",
       "    .dataframe tbody tr th:only-of-type {\n",
       "        vertical-align: middle;\n",
       "    }\n",
       "\n",
       "    .dataframe tbody tr th {\n",
       "        vertical-align: top;\n",
       "    }\n",
       "\n",
       "    .dataframe thead th {\n",
       "        text-align: right;\n",
       "    }\n",
       "</style>\n",
       "<table border=\"1\" class=\"dataframe\">\n",
       "  <thead>\n",
       "    <tr style=\"text-align: right;\">\n",
       "      <th></th>\n",
       "      <th>datetime</th>\n",
       "      <th>season</th>\n",
       "      <th>holiday</th>\n",
       "      <th>workingday</th>\n",
       "      <th>weather</th>\n",
       "      <th>temp</th>\n",
       "      <th>atemp</th>\n",
       "      <th>humidity</th>\n",
       "      <th>windspeed</th>\n",
       "      <th>count</th>\n",
       "    </tr>\n",
       "  </thead>\n",
       "  <tbody>\n",
       "    <tr>\n",
       "      <th>0</th>\n",
       "      <td>2011-01-01 0:00</td>\n",
       "      <td>1</td>\n",
       "      <td>0</td>\n",
       "      <td>0</td>\n",
       "      <td>1</td>\n",
       "      <td>9.84</td>\n",
       "      <td>14.395</td>\n",
       "      <td>81</td>\n",
       "      <td>0.0</td>\n",
       "      <td>16</td>\n",
       "    </tr>\n",
       "    <tr>\n",
       "      <th>1</th>\n",
       "      <td>2011-01-01 1:00</td>\n",
       "      <td>1</td>\n",
       "      <td>0</td>\n",
       "      <td>0</td>\n",
       "      <td>1</td>\n",
       "      <td>9.02</td>\n",
       "      <td>13.635</td>\n",
       "      <td>80</td>\n",
       "      <td>0.0</td>\n",
       "      <td>40</td>\n",
       "    </tr>\n",
       "    <tr>\n",
       "      <th>2</th>\n",
       "      <td>2011-01-01 2:00</td>\n",
       "      <td>1</td>\n",
       "      <td>0</td>\n",
       "      <td>0</td>\n",
       "      <td>1</td>\n",
       "      <td>9.02</td>\n",
       "      <td>13.635</td>\n",
       "      <td>80</td>\n",
       "      <td>0.0</td>\n",
       "      <td>32</td>\n",
       "    </tr>\n",
       "    <tr>\n",
       "      <th>3</th>\n",
       "      <td>2011-01-01 3:00</td>\n",
       "      <td>1</td>\n",
       "      <td>0</td>\n",
       "      <td>0</td>\n",
       "      <td>1</td>\n",
       "      <td>9.84</td>\n",
       "      <td>14.395</td>\n",
       "      <td>75</td>\n",
       "      <td>0.0</td>\n",
       "      <td>13</td>\n",
       "    </tr>\n",
       "    <tr>\n",
       "      <th>4</th>\n",
       "      <td>2011-01-01 4:00</td>\n",
       "      <td>1</td>\n",
       "      <td>0</td>\n",
       "      <td>0</td>\n",
       "      <td>1</td>\n",
       "      <td>9.84</td>\n",
       "      <td>14.395</td>\n",
       "      <td>75</td>\n",
       "      <td>0.0</td>\n",
       "      <td>1</td>\n",
       "    </tr>\n",
       "  </tbody>\n",
       "</table>\n",
       "</div>"
      ],
      "text/plain": [
       "          datetime  season  holiday  workingday  weather  temp   atemp  \\\n",
       "0  2011-01-01 0:00       1        0           0        1  9.84  14.395   \n",
       "1  2011-01-01 1:00       1        0           0        1  9.02  13.635   \n",
       "2  2011-01-01 2:00       1        0           0        1  9.02  13.635   \n",
       "3  2011-01-01 3:00       1        0           0        1  9.84  14.395   \n",
       "4  2011-01-01 4:00       1        0           0        1  9.84  14.395   \n",
       "\n",
       "   humidity  windspeed  count  \n",
       "0        81        0.0     16  \n",
       "1        80        0.0     40  \n",
       "2        80        0.0     32  \n",
       "3        75        0.0     13  \n",
       "4        75        0.0      1  "
      ]
     },
     "execution_count": 5,
     "metadata": {},
     "output_type": "execute_result"
    }
   ],
   "source": [
    "%%thanosql\n",
    "SELECT * \n",
    "FROM bike_sharing_train \n",
    "LIMIT 5"
   ]
  },
  {
   "cell_type": "markdown",
   "id": "ff864330",
   "metadata": {},
   "source": [
    "<div class=\"admonition note\">\n",
    "    <h4 class=\"admonition-title\">Understanding the Data Table</h4>\n",
    "    <p>The <strong>bike_sharing_train</strong> table contains information of the number of bicycle rented for an hour based on information such as date and time, temperature, humidity, and wind speed from January 2011 to December 2012.</p>\n",
    "    <ul>\n",
    "        <li>datetime: date by hour</li>\n",
    "        <li>season: seasons (1=spring, 2=summer, 3=fall, 4=winter)</li>\n",
    "        <li>holiday: holidays (0=non-holiday, 1=national holidays, etc.)</li>\n",
    "        <li>workingday: workday (0=weekends and holidays; 1=weekends and non-holiday weekdays)</li>\n",
    "        <li>weather: weather</li>\n",
    "        <li>temp: temperature</li>\n",
    "        <li>atemp: sensory temperature</li>\n",
    "        <li>humidity: relative humidity</li>\n",
    "        <li>windspeed: wind speed</li>\n",
    "        <li>count: number of rentals</li>\n",
    "    </ul>\n",
    "</div>"
   ]
  },
  {
   "cell_type": "markdown",
   "id": "77cd13e0-9820-45d3-8d81-7f84d6789942",
   "metadata": {},
   "source": [
    "## __2. Build a Regression Model__\n",
    "\n",
    "To create a bike demand regression model with the name __bike_regression__ using the __bike_sharing_train__ dataset, run the following query.  \n",
    "(Estimated duration of query execution: 8 min)"
   ]
  },
  {
   "cell_type": "code",
   "execution_count": 6,
   "id": "a019d5be-b11a-43e3-8213-c02d3c1ec49e",
   "metadata": {
    "execution": {
     "iopub.execute_input": "2023-01-19T10:51:58.928983Z",
     "iopub.status.busy": "2023-01-19T10:51:58.928808Z",
     "iopub.status.idle": "2023-01-19T10:57:06.374362Z",
     "shell.execute_reply": "2023-01-19T10:57:06.373623Z",
     "shell.execute_reply.started": "2023-01-19T10:51:58.928966Z"
    },
    "tags": []
   },
   "outputs": [
    {
     "name": "stdout",
     "output_type": "stream",
     "text": [
      "Success\n"
     ]
    }
   ],
   "source": [
    "%%thanosql\n",
    "BUILD MODEL bike_regression\n",
    "USING AutomlRegressor\n",
    "OPTIONS (\n",
    "    target_col='count', \n",
    "    impute_type='simple', \n",
    "    datetime_attribs=['datetime'],\n",
    "    time_left_for_this_task=300,\n",
    "    overwrite=True\n",
    "    ) \n",
    "AS\n",
    "SELECT *\n",
    "FROM bike_sharing_train"
   ]
  },
  {
   "cell_type": "markdown",
   "id": "14b85130",
   "metadata": {},
   "source": [
    "<div class=\"admonition note\">\n",
    "    <h4 class=\"admonition-title\">Query Details</h4>\n",
    "    <ul>\n",
    "        <li>\"<strong>BUILD MODEL</strong>\" creates and trains a model named <strong>bike_regression</strong>.</li>\n",
    "        <li>\"<strong>OPTIONS</strong>\" specifies the option values used to create the model.\n",
    "        <ul> \n",
    "            <li>\"target_col\": the name of the column containing the target value of the regression model (str, default: 'target') </li>\n",
    "            <li>\"impute_type\": determines how empty values ​​(NaNs) are handled (str, 'simple'|'iterative', default: 'simple') </li>\n",
    "            <li>\"datetime_attribs\": selects columns corresponding to the date (list[str], optional)</li>\n",
    "            <li>\"time_left_for_this_task\": the total time given to find a suitable regression model in seconds (int, optional, default: 60)</li>\n",
    "            <li>\"overwrite\": determines whether to overwrite a model if it already exists. If set as True, the old model is replaced with the new model (bool, True|False, default: False) </li>\n",
    "        </ul>\n",
    "        </li>\n",
    "    </ul>\n",
    "</div>"
   ]
  },
  {
   "cell_type": "markdown",
   "id": "bbb0db7b-2c2a-4c8e-b475-7c908a16b7ba",
   "metadata": {},
   "source": [
    "## __3. Evaluate the Model__\n",
    "\n",
    "To evaluate the performance of the model created in the previous step, run the following query."
   ]
  },
  {
   "cell_type": "code",
   "execution_count": 7,
   "id": "16f3413b-c5b0-419b-a09e-da2874b15d32",
   "metadata": {
    "execution": {
     "iopub.execute_input": "2023-01-19T10:57:06.375341Z",
     "iopub.status.busy": "2023-01-19T10:57:06.375160Z",
     "iopub.status.idle": "2023-01-19T10:57:08.369129Z",
     "shell.execute_reply": "2023-01-19T10:57:08.368423Z",
     "shell.execute_reply.started": "2023-01-19T10:57:06.375324Z"
    },
    "tags": []
   },
   "outputs": [
    {
     "data": {
      "text/html": [
       "<div>\n",
       "<style scoped>\n",
       "    .dataframe tbody tr th:only-of-type {\n",
       "        vertical-align: middle;\n",
       "    }\n",
       "\n",
       "    .dataframe tbody tr th {\n",
       "        vertical-align: top;\n",
       "    }\n",
       "\n",
       "    .dataframe thead th {\n",
       "        text-align: right;\n",
       "    }\n",
       "</style>\n",
       "<table border=\"1\" class=\"dataframe\">\n",
       "  <thead>\n",
       "    <tr style=\"text-align: right;\">\n",
       "      <th></th>\n",
       "      <th>metric</th>\n",
       "      <th>score</th>\n",
       "    </tr>\n",
       "  </thead>\n",
       "  <tbody>\n",
       "    <tr>\n",
       "      <th>0</th>\n",
       "      <td>MAE</td>\n",
       "      <td>78.6563</td>\n",
       "    </tr>\n",
       "    <tr>\n",
       "      <th>1</th>\n",
       "      <td>MSE</td>\n",
       "      <td>10986.4542</td>\n",
       "    </tr>\n",
       "    <tr>\n",
       "      <th>2</th>\n",
       "      <td>R2</td>\n",
       "      <td>0.2292</td>\n",
       "    </tr>\n",
       "    <tr>\n",
       "      <th>3</th>\n",
       "      <td>RMSLE</td>\n",
       "      <td>1.3861</td>\n",
       "    </tr>\n",
       "    <tr>\n",
       "      <th>4</th>\n",
       "      <td>MAPE</td>\n",
       "      <td>0.5028</td>\n",
       "    </tr>\n",
       "  </tbody>\n",
       "</table>\n",
       "</div>"
      ],
      "text/plain": [
       "  metric       score\n",
       "0    MAE     78.6563\n",
       "1    MSE  10986.4542\n",
       "2     R2      0.2292\n",
       "3  RMSLE      1.3861\n",
       "4   MAPE      0.5028"
      ]
     },
     "execution_count": 7,
     "metadata": {},
     "output_type": "execute_result"
    }
   ],
   "source": [
    "%%thanosql\n",
    "EVALUATE USING bike_regression \n",
    "OPTIONS (\n",
    "    target_col='count'\n",
    "    ) \n",
    "AS\n",
    "SELECT *\n",
    "FROM bike_sharing_train"
   ]
  },
  {
   "cell_type": "markdown",
   "id": "48d3f16d",
   "metadata": {},
   "source": [
    "<div class=\"admonition note\">\n",
    "    <h4 class=\"admonition-title\">Query Details</h4>\n",
    "    <ul>\n",
    "        <li>\"<strong>EVALUATE USING</strong>\" evaluates the <strong>bike_regression</strong> model. </li>\n",
    "        <li>\"<strong>OPTIONS</strong>\" specifies the option values used to evaluate the model.\n",
    "        <ul> \n",
    "            <li>\"target_col\": the name of the column containing the target value of the regression model (str, default: 'target')</li>\n",
    "        </ul>\n",
    "        </li>\n",
    "    </ul>\n",
    "</div>\n",
    "\n",
    "<div class=\"admonition warning\">\n",
    "    <h4 class=\"admonition-title\">Dataset for Evaluation</h4>\n",
    "    <p>Normally, train datasets should not be used for evaluation. However, for this tutorial, the train dataset is used for convenience.</p>\n",
    "</div>"
   ]
  },
  {
   "cell_type": "markdown",
   "id": "8b266f94-363e-46bc-a6fd-77898bbc0804",
   "metadata": {},
   "source": [
    "## __4. Predict Bike Rental Quantity__\n",
    "\n",
    "To use the regression model created in the previous step for prediction of __bike_sharing_test__, run the following query."
   ]
  },
  {
   "cell_type": "code",
   "execution_count": 8,
   "id": "6769745c-45bd-42d9-ac50-b551c11a96b1",
   "metadata": {
    "execution": {
     "iopub.execute_input": "2023-01-19T10:57:08.370096Z",
     "iopub.status.busy": "2023-01-19T10:57:08.369927Z",
     "iopub.status.idle": "2023-01-19T10:57:09.861597Z",
     "shell.execute_reply": "2023-01-19T10:57:09.860931Z",
     "shell.execute_reply.started": "2023-01-19T10:57:08.370079Z"
    },
    "tags": []
   },
   "outputs": [
    {
     "data": {
      "text/html": [
       "<div>\n",
       "<style scoped>\n",
       "    .dataframe tbody tr th:only-of-type {\n",
       "        vertical-align: middle;\n",
       "    }\n",
       "\n",
       "    .dataframe tbody tr th {\n",
       "        vertical-align: top;\n",
       "    }\n",
       "\n",
       "    .dataframe thead th {\n",
       "        text-align: right;\n",
       "    }\n",
       "</style>\n",
       "<table border=\"1\" class=\"dataframe\">\n",
       "  <thead>\n",
       "    <tr style=\"text-align: right;\">\n",
       "      <th></th>\n",
       "      <th>datetime</th>\n",
       "      <th>season</th>\n",
       "      <th>holiday</th>\n",
       "      <th>workingday</th>\n",
       "      <th>weather</th>\n",
       "      <th>temp</th>\n",
       "      <th>atemp</th>\n",
       "      <th>humidity</th>\n",
       "      <th>windspeed</th>\n",
       "      <th>predict_result</th>\n",
       "    </tr>\n",
       "  </thead>\n",
       "  <tbody>\n",
       "    <tr>\n",
       "      <th>0</th>\n",
       "      <td>2011-01-20 0:00</td>\n",
       "      <td>1</td>\n",
       "      <td>0</td>\n",
       "      <td>1</td>\n",
       "      <td>1</td>\n",
       "      <td>10.66</td>\n",
       "      <td>11.365</td>\n",
       "      <td>56</td>\n",
       "      <td>26.0027</td>\n",
       "      <td>102.836334</td>\n",
       "    </tr>\n",
       "    <tr>\n",
       "      <th>1</th>\n",
       "      <td>2011-01-20 1:00</td>\n",
       "      <td>1</td>\n",
       "      <td>0</td>\n",
       "      <td>1</td>\n",
       "      <td>1</td>\n",
       "      <td>10.66</td>\n",
       "      <td>13.635</td>\n",
       "      <td>56</td>\n",
       "      <td>0.0000</td>\n",
       "      <td>92.060480</td>\n",
       "    </tr>\n",
       "    <tr>\n",
       "      <th>2</th>\n",
       "      <td>2011-01-20 2:00</td>\n",
       "      <td>1</td>\n",
       "      <td>0</td>\n",
       "      <td>1</td>\n",
       "      <td>1</td>\n",
       "      <td>10.66</td>\n",
       "      <td>13.635</td>\n",
       "      <td>56</td>\n",
       "      <td>0.0000</td>\n",
       "      <td>92.060480</td>\n",
       "    </tr>\n",
       "    <tr>\n",
       "      <th>3</th>\n",
       "      <td>2011-01-20 3:00</td>\n",
       "      <td>1</td>\n",
       "      <td>0</td>\n",
       "      <td>1</td>\n",
       "      <td>1</td>\n",
       "      <td>10.66</td>\n",
       "      <td>12.880</td>\n",
       "      <td>56</td>\n",
       "      <td>11.0014</td>\n",
       "      <td>95.181085</td>\n",
       "    </tr>\n",
       "    <tr>\n",
       "      <th>4</th>\n",
       "      <td>2011-01-20 4:00</td>\n",
       "      <td>1</td>\n",
       "      <td>0</td>\n",
       "      <td>1</td>\n",
       "      <td>1</td>\n",
       "      <td>10.66</td>\n",
       "      <td>12.880</td>\n",
       "      <td>56</td>\n",
       "      <td>11.0014</td>\n",
       "      <td>95.181085</td>\n",
       "    </tr>\n",
       "    <tr>\n",
       "      <th>5</th>\n",
       "      <td>2011-01-20 5:00</td>\n",
       "      <td>1</td>\n",
       "      <td>0</td>\n",
       "      <td>1</td>\n",
       "      <td>1</td>\n",
       "      <td>9.84</td>\n",
       "      <td>11.365</td>\n",
       "      <td>60</td>\n",
       "      <td>15.0013</td>\n",
       "      <td>91.816701</td>\n",
       "    </tr>\n",
       "    <tr>\n",
       "      <th>6</th>\n",
       "      <td>2011-01-20 6:00</td>\n",
       "      <td>1</td>\n",
       "      <td>0</td>\n",
       "      <td>1</td>\n",
       "      <td>1</td>\n",
       "      <td>9.02</td>\n",
       "      <td>10.605</td>\n",
       "      <td>60</td>\n",
       "      <td>15.0013</td>\n",
       "      <td>87.213365</td>\n",
       "    </tr>\n",
       "    <tr>\n",
       "      <th>7</th>\n",
       "      <td>2011-01-20 7:00</td>\n",
       "      <td>1</td>\n",
       "      <td>0</td>\n",
       "      <td>1</td>\n",
       "      <td>1</td>\n",
       "      <td>9.02</td>\n",
       "      <td>10.605</td>\n",
       "      <td>55</td>\n",
       "      <td>15.0013</td>\n",
       "      <td>87.054590</td>\n",
       "    </tr>\n",
       "    <tr>\n",
       "      <th>8</th>\n",
       "      <td>2011-01-20 8:00</td>\n",
       "      <td>1</td>\n",
       "      <td>0</td>\n",
       "      <td>1</td>\n",
       "      <td>1</td>\n",
       "      <td>9.02</td>\n",
       "      <td>10.605</td>\n",
       "      <td>55</td>\n",
       "      <td>19.0012</td>\n",
       "      <td>88.568595</td>\n",
       "    </tr>\n",
       "    <tr>\n",
       "      <th>9</th>\n",
       "      <td>2011-01-20 9:00</td>\n",
       "      <td>1</td>\n",
       "      <td>0</td>\n",
       "      <td>1</td>\n",
       "      <td>2</td>\n",
       "      <td>9.84</td>\n",
       "      <td>11.365</td>\n",
       "      <td>52</td>\n",
       "      <td>15.0013</td>\n",
       "      <td>103.445460</td>\n",
       "    </tr>\n",
       "  </tbody>\n",
       "</table>\n",
       "</div>"
      ],
      "text/plain": [
       "          datetime  season  holiday  workingday  weather   temp   atemp  \\\n",
       "0  2011-01-20 0:00       1        0           1        1  10.66  11.365   \n",
       "1  2011-01-20 1:00       1        0           1        1  10.66  13.635   \n",
       "2  2011-01-20 2:00       1        0           1        1  10.66  13.635   \n",
       "3  2011-01-20 3:00       1        0           1        1  10.66  12.880   \n",
       "4  2011-01-20 4:00       1        0           1        1  10.66  12.880   \n",
       "5  2011-01-20 5:00       1        0           1        1   9.84  11.365   \n",
       "6  2011-01-20 6:00       1        0           1        1   9.02  10.605   \n",
       "7  2011-01-20 7:00       1        0           1        1   9.02  10.605   \n",
       "8  2011-01-20 8:00       1        0           1        1   9.02  10.605   \n",
       "9  2011-01-20 9:00       1        0           1        2   9.84  11.365   \n",
       "\n",
       "   humidity  windspeed  predict_result  \n",
       "0        56    26.0027      102.836334  \n",
       "1        56     0.0000       92.060480  \n",
       "2        56     0.0000       92.060480  \n",
       "3        56    11.0014       95.181085  \n",
       "4        56    11.0014       95.181085  \n",
       "5        60    15.0013       91.816701  \n",
       "6        60    15.0013       87.213365  \n",
       "7        55    15.0013       87.054590  \n",
       "8        55    19.0012       88.568595  \n",
       "9        52    15.0013      103.445460  "
      ]
     },
     "execution_count": 8,
     "metadata": {},
     "output_type": "execute_result"
    }
   ],
   "source": [
    "%%thanosql\n",
    "PREDICT USING bike_regression\n",
    "OPTIONS (\n",
    "    result_col='predict_result',\n",
    "    table_name='bike_sharing_test'\n",
    "    )\n",
    "AS\n",
    "SELECT *\n",
    "FROM bike_sharing_test\n",
    "LIMIT 10"
   ]
  },
  {
   "cell_type": "markdown",
   "id": "b2ccc6b9",
   "metadata": {},
   "source": [
    "<div class=\"admonition note\">\n",
    "    <h4 class=\"admonition-title\">Query Details</h4>\n",
    "    <ul>\n",
    "        <li>\"<strong>PREDICT USING</strong>\" predicts the outcome using the <strong>bike_regression</strong>.</li>\n",
    "        <li>\"<strong>OPTIONS</strong>\" specifies the option values to be used for prediction.\n",
    "        <ul>\n",
    "            <li>\"result_col\": the column that contains the predicted results (str, optional, default: 'predict_result')</li>\n",
    "            <li>\"table_name\": the table name to be stored in the ThanoSQL workspace database. If a previously used table is specified, the existing table will be replaced by the new table with a 'predict_result' column. If not specified, the result dataframe will not be saved as a data table (str, optional)</li>\n",
    "        </ul>\n",
    "        </li>\n",
    "    </ul>\n",
    "</div>"
   ]
  },
  {
   "cell_type": "markdown",
   "id": "5389cb4a",
   "metadata": {},
   "source": [
    "## __5. In Conclusion__\n",
    "\n",
    "In this tutorial, we created a bicycle demand regression model using the Bike Sharing Demand dataset from [Kaggle](https://www.kaggle.com). As this is a beginner-level tutorial, we focused on the process rather than accuracy.\n",
    "\n",
    "* [How to Upload My Data to the ThanoSQL Workspace](https://docs.thanosql.ai/en/getting_started/data_upload/)\n",
    "* [How to Create a Table Using My Data](https://docs.thanosql.ai/en/how-to_guides/ThanoSQL_query/COPY_SYNTAX/)\n",
    "* [How to Upload My Model to the ThanoSQL Workspace](https://docs.thanosql.ai/en/how-to_guides/ThanoSQL_query/UPLOAD_MODEL_SYNTAX/)\n",
    "\n",
    "<div class=\"admonition tip\">\n",
    "    <h4 class=\"admonition-title\">Inquiries About Deploying a Model for Your Own Service</h4>\n",
    "    <p>If you have any difficulties creating your own model using ThanoSQL or applying it to your service, please feel free to contact us below😊</p>\n",
    "    <p>For inquiries regarding building a regression model: <a href=\"mailto:contact@smartmind.team\">contact@smartmind.team</a></p>\n",
    "</div>"
   ]
  }
 ],
 "metadata": {
  "kernelspec": {
   "display_name": "Python 3 (ipykernel)",
   "language": "python",
   "name": "python3"
  },
  "language_info": {
   "codemirror_mode": {
    "name": "ipython",
    "version": 3
   },
   "file_extension": ".py",
   "mimetype": "text/x-python",
   "name": "python",
   "nbconvert_exporter": "python",
   "pygments_lexer": "ipython3",
   "version": "3.8.13"
  },
  "vscode": {
   "interpreter": {
    "hash": "54a1ec72395a4a5a649013bb47cb6c1a711fb4b3d33a07524a09f31d6d2ee0ec"
   }
  }
 },
 "nbformat": 4,
 "nbformat_minor": 5
}
