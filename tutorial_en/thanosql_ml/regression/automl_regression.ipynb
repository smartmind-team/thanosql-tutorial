{
 "cells": [
  {
   "cell_type": "markdown",
   "id": "edec260f-4232-4817-a035-fe3533030be1",
   "metadata": {},
   "source": [
    "# __Create a Regression Model Using AutoML__"
   ]
  },
  {
   "cell_type": "markdown",
   "id": "9d44de2f",
   "metadata": {},
   "source": [
    "- Tutorial Difficulty : ★☆☆☆☆\n",
    "- 5 min read\n",
    "- Languages : [SQL](https://en.wikipedia.org/wiki/SQL) (100%)\n",
    "- File location : tutorial_en/thanosql_ml/regression/automl_regression.ipynb\n",
    "- References : [(Kaggle) Bike Sharing Demand](https://www.kaggle.com/competitions/bike-sharing-demand/overview)"
   ]
  },
  {
   "cell_type": "markdown",
   "id": "05f3d517",
   "metadata": {},
   "source": [
    "## Tutorial Introduction\n",
    "\n",
    "<div class=\"admonition note\">\n",
    "    <h4 class=\"admonition-title\">Understanding Regression</h4>\n",
    "    <p>A regression is a type of <a href=\"https://en.wikipedia.org/wiki/Machine_learning\">machine learning (ML)</a> that is used to predict numbers with sequential target values. For example, the model can be used to predict tomorrow's temperature or predict housing prices in a particular area.</p>\n",
    "</div>\n",
    "\n",
    "When a company spends a certain amount on advertising, sales performance data from similar past cases can be used to predict advertising performance. All <a href=\"https://en.wikipedia.org/wiki/Feature_(machine_learning)\">Features</a> that can be converted into data, such as the features of the product to be advertised, the product selling period, information about the surrounding market, sales volume information of competitors, the definition of the target customer group, and the market trend of the industry group, can be used as input data. By changing the adjustable information in the input data, you can predict optimal sales performance and adjust the advertising cost according to the forecast performance. You can use these regression models to improve ad performance and continuously increase sales.\n",
    "\n",
    "__The following are examples and applications of the ThanoSQL regression model.__\n",
    "\n",
    " - Stock price prediction using stock market price, closing price, high price, low price, related stocks, KOSPI index, related news, etc. (finance)\n",
    " - Prediction of failure probability and lifespan of equipments using sensor data such as temperature, vibration, and sound (manufacturing)\n",
    " - Prediction of solar energy generation using weather, temperature, cloudiness, insolation, etc. (energy)\n",
    " - Forecast using demand trends, oil price, and exchange rate fluctuations (raw materials) <br>\n",
    "\n",
    "<div class=\"admonition note\">\n",
    "    <h4 class=\"admonition-title\">In this tutorial</h4>\n",
    "    <p>👉 Create a bike demand regression model using the <mark style=\"background-color:#FFD79C\"><strong>Bike Sharing Demand</strong></mark> dataset from <a href=\"https://www.kaggle.com/\">Kaggle</a>, a machine learning contest platform. The goals of this contest are as follows (The data for this competition is based on information such as date and time, temperature, humidity, and wind speed from 2011 to 2012.)</p>\n",
    "</div>\n",
    "\n",
    "__Predicting the number of bike rentals per hour on a specific date__\n",
    "\n",
    "ThanoSQL provides automated machine learning (__Auto-ML__) tools. This tutorial uses Auto-ML to predict the number of bike rentals. ThanoSQL's Auto-ML automates the process for model development and enables data collection and storage along with machine learning model development and distribution (end-to-end machine learning pipelines) using a single language.\n",
    "\n",
    "__The advantages of using ThanoSQL's automated machine learning are:__\n",
    "\n",
    "1. Implementation and deployment of machine learning solutions without extensive programming or data science knowledge\n",
    "2. Saving time and resources for deployment of development models\n",
    "3. Quickly solve problems using the data you have for decision-making\n",
    "\n",
    "Now, let's use ThanoSQL to create a simple regression model to predict the number of bike rentals on a certain data."
   ]
  },
  {
   "cell_type": "markdown",
   "id": "a68baaf7-ca66-4c0d-bd36-d6066ed22127",
   "metadata": {},
   "source": [
    "## __0. Prepare Dataset__\n",
    "\n",
    "As mentioned in the [ThanoSQL Workspace](https://docs.thanosql.ai/en/getting_started/how_to_use_ThanoSQL/#5-thanosql-workspace), you must create an API token and run the query below to execute the query of ThanoSQL. "
   ]
  },
  {
   "cell_type": "code",
   "execution_count": null,
   "id": "f543db2d-a192-41e9-878b-bfc3b67d0d6e",
   "metadata": {
    "tags": []
   },
   "outputs": [],
   "source": [
    "%load_ext thanosql\n",
    "%thanosql API_TOKEN=<Issued_API_TOKEN>"
   ]
  },
  {
   "cell_type": "markdown",
   "id": "073a6182",
   "metadata": {},
   "source": [
    "### __Prepare Dataset__"
   ]
  },
  {
   "cell_type": "code",
   "execution_count": null,
   "id": "bc20c2f8",
   "metadata": {},
   "outputs": [],
   "source": [
    "%%thanosql\n",
    "GET THANOSQL DATASET bike_sharing_data\n",
    "OPTIONS (overwrite=True)"
   ]
  },
  {
   "cell_type": "markdown",
   "id": "1ec2d024",
   "metadata": {},
   "source": [
    "<div class=\"admonition note\">\n",
    "    <h4 class=\"admonition-title\">Query Details</h4>\n",
    "    <ul>\n",
    "        <li>\"<strong>GET THANOSQL DATASET</strong>\" downloads the specified dataset to the workspace. </li>\n",
    "        <li>\"<strong>OPTIONS</strong>\" specifies the option values to be used for the <strong>GET THANOSQL DATASET</strong> clause.\n",
    "        <ul>\n",
    "            <li>\"overwrite\" : Determines whether to overwrite a dataset if it already exists. If set as True, the old dataset is replaced with the new dataset (True|False, DEFAULT : False) </li>\n",
    "        </ul>\n",
    "        </li>\n",
    "    </ul>\n",
    "</div>"
   ]
  },
  {
   "cell_type": "code",
   "execution_count": null,
   "id": "5e344e20-54ab-4c3c-948f-e17fa95ed54a",
   "metadata": {
    "tags": []
   },
   "outputs": [],
   "source": [
    "%%thanosql\n",
    "COPY bike_sharing_train \n",
    "OPTIONS (overwrite=True)\n",
    "FROM \"thanosql-dataset/bike_sharing_data/bike_sharing_train.csv\""
   ]
  },
  {
   "cell_type": "code",
   "execution_count": null,
   "id": "c262d2e6-d486-4128-92f6-4c998653bee8",
   "metadata": {
    "tags": []
   },
   "outputs": [],
   "source": [
    "%%thanosql\n",
    "COPY bike_sharing_test \n",
    "OPTIONS (overwrite=True)\n",
    "FROM \"thanosql-dataset/bike_sharing_data/bike_sharing_test.csv\""
   ]
  },
  {
   "cell_type": "markdown",
   "id": "984aefd3",
   "metadata": {},
   "source": [
    "<div class=\"admonition note\">\n",
    "    <h4 class=\"admonition-title\">Query Details</h4>\n",
    "    <ul>\n",
    "        <li>\"<strong>COPY</strong>\" specifies the name of the dataset to be saved as a database table. </li>\n",
    "        <li>\"<strong>OPTIONS</strong>\" specifies the option values to be used for the <strong>COPY</strong> clause.\n",
    "        <ul>\n",
    "           <li>\"overwrite\" : Determines whether to overwrite a table if it already exists. If set as True, the old table is replaced with the new table (True|False, DEFAULT : False) </li>\n",
    "        </ul>\n",
    "        </li>\n",
    "    </ul>\n",
    "</div>"
   ]
  },
  {
   "cell_type": "markdown",
   "id": "6a0f8d6e-a01f-4d17-bbcf-e1aac3509e12",
   "metadata": {},
   "source": [
    "## __1. Check Dataset__\n",
    "\n",
    "To create the regression model, we use the <mark style=\"background-color:#FFEC92 \">bike_sharing_train</mark> table located in the ThanoSQL database. Run the query below to check the contents of the table."
   ]
  },
  {
   "cell_type": "code",
   "execution_count": null,
   "id": "2727e422-7a05-4a4e-91cb-6036c22cea51",
   "metadata": {
    "tags": []
   },
   "outputs": [],
   "source": [
    "%%thanosql\n",
    "SELECT * \n",
    "FROM bike_sharing_train \n",
    "LIMIT 5"
   ]
  },
  {
   "cell_type": "markdown",
   "id": "ff864330",
   "metadata": {},
   "source": [
    "<div class=\"admonition note\">\n",
    "    <h4 class=\"admonition-title\">Understanding the Data</h4>\n",
    "    <p>The <mark style=\"background-color:#FFEC92 \"><strong>bike_sharing_train</strong></mark> dataset contains information of the number of bicycle rented for an hour based on information such as date and time, temperature, humidity, and wind speed from January 2011 to December 2012.</p>\n",
    "    <ul>\n",
    "        <li><mark style=\"background-color:#D7D0FF \">datetime</mark> : date by hour</li>\n",
    "        <li><mark style=\"background-color:#D7D0FF \">season</mark> : seasons (1=spring, 2=summer, 3=fall, 4=winter)</li>\n",
    "        <li><mark style=\"background-color:#D7D0FF \">holiday</mark> : holidays (0 = non-holiday, 1 = national holidays, etc.)</li>\n",
    "        <li><mark style=\"background-color:#D7D0FF \">workingday</mark> : workday (0 = weekends and holidays; 1 = weekends and non-holiday weekdays)</li>\n",
    "        <li><mark style=\"background-color:#D7D0FF \">weather</mark> : weather</li>\n",
    "        <li><mark style=\"background-color:#D7D0FF \">temp</mark> : temperature</li>\n",
    "        <li><mark style=\"background-color:#D7D0FF \">atemp</mark> : sensory temperature</li>\n",
    "        <li><mark style=\"background-color:#D7D0FF \">humidity</mark> : relative humidity</li>\n",
    "        <li><mark style=\"background-color:#D7D0FF \">windspeed</mark> : wind speed</li>\n",
    "        <li><mark style=\"background-color:#D7D0FF \">count</mark> : number of rentals</li>\n",
    "    </ul>\n",
    "</div>"
   ]
  },
  {
   "cell_type": "markdown",
   "id": "77cd13e0-9820-45d3-8d81-7f84d6789942",
   "metadata": {},
   "source": [
    "## __2. Create a Regression Model__\n",
    "\n",
    "To create a bike demand regression model with the name <mark style=\"background-color:#E9D7FD \">bike_regression</mark> using the <mark style=\"background-color:#FFEC92 \"><strong>bike_sharing_train</strong></mark> dataset, run the following query. \n",
    "\n",
    "(Estimated time required for query execution: 8 min)"
   ]
  },
  {
   "cell_type": "code",
   "execution_count": null,
   "id": "a019d5be-b11a-43e3-8213-c02d3c1ec49e",
   "metadata": {
    "tags": []
   },
   "outputs": [],
   "source": [
    "%%thanosql\n",
    "BUILD MODEL bike_regression\n",
    "USING AutomlRegressor\n",
    "OPTIONS (\n",
    "    target='count', \n",
    "    impute_type='simple', \n",
    "    datetime_attribs=['datetime'],\n",
    "    time_left_for_this_task=300,\n",
    "    overwrite=True\n",
    "    ) \n",
    "AS\n",
    "SELECT *\n",
    "FROM bike_sharing_train"
   ]
  },
  {
   "cell_type": "markdown",
   "id": "14b85130",
   "metadata": {},
   "source": [
    "<div class=\"admonition note\">\n",
    "    <h4 class=\"admonition-title\">Query Details</h4>\n",
    "    <ul>\n",
    "        <li>\"<strong>BUILD MODEL</strong>\" creates and trains a model named <mark style=\"background-color:#E9D7FD \">bike_regression</mark>.</li>\n",
    "        <li>\"<strong>OPTIONS</strong>\" specifies the option values used to create the model.\n",
    "        <ul> \n",
    "            <li>\"target\" : the name of the column containing the target value of the regression model </li>\n",
    "            <li>\"impute_type\" : determines how empty values ​​(NaNs) are handled ('simple'|'iterative' , DEFAULT: 'simple') </li>\n",
    "            <li>\"features_to_drop\" : selects columns that cannot be used for training </li>\n",
    "            <li>\"time_left_for_this_task\" : the total time given to find a suitable regression model (DEFAULT: 300)</li>\n",
    "            <li>\"overwrite\" : determines whether to overwrite a model if it already exists. If set as True, the old model is replaced with the new model (True|False, DEFAULT : False) </li>\n",
    "    </ul>\n",
    "</div>\n"
   ]
  },
  {
   "cell_type": "markdown",
   "id": "bbb0db7b-2c2a-4c8e-b475-7c908a16b7ba",
   "metadata": {},
   "source": [
    "## __3. Evaluate the Model__\n",
    "\n",
    "To evaluate the performance of the model created in the previous step, run the following query."
   ]
  },
  {
   "cell_type": "code",
   "execution_count": null,
   "id": "16f3413b-c5b0-419b-a09e-da2874b15d32",
   "metadata": {
    "tags": []
   },
   "outputs": [],
   "source": [
    "%%thanosql\n",
    "EVALUATE USING bike_regression \n",
    "OPTIONS (\n",
    "    target='count'\n",
    "    ) \n",
    "AS\n",
    "SELECT *\n",
    "FROM bike_sharing_train"
   ]
  },
  {
   "cell_type": "markdown",
   "id": "48d3f16d",
   "metadata": {},
   "source": [
    "<div class=\"admonition note\">\n",
    "    <h4 class=\"admonition-title\">Query Details</h4>\n",
    "    <ul>\n",
    "        <li>\"<strong>EVALUATE USING</strong>\" evaluates the <mark style=\"background-color:#E9D7FD \">bike_regression</mark> model. </li>\n",
    "        <li>\"<strong>OPTIONS</strong>\" specifies the option values used to evaluate the model.\n",
    "        <ul> \n",
    "            <li>\"target\" : the name of the column containing the target value of the regression model. </li>\n",
    "        </ul>\n",
    "        </li>\n",
    "    </ul>\n",
    "</div>\n",
    "\n",
    "<div class=\"admonition warning\">\n",
    "    <h4 class=\"admonition-title\">Dataset for Evaluation</h4>\n",
    "    <p>Normally, train datasets should not be used for evaluation. However, for this tutorial, the train dataset is used for convenience.</p>\n",
    "</div>"
   ]
  },
  {
   "cell_type": "markdown",
   "id": "8b266f94-363e-46bc-a6fd-77898bbc0804",
   "metadata": {},
   "source": [
    "## __4. Predict Bike Rental Quantity__\n",
    "\n",
    "To use the regression model created in the previous step for prediction of <mark style=\"background-color:#FFEC92 \">bike_sharing_test</mark>, run the following query."
   ]
  },
  {
   "cell_type": "code",
   "execution_count": null,
   "id": "6769745c-45bd-42d9-ac50-b551c11a96b1",
   "metadata": {
    "tags": []
   },
   "outputs": [],
   "source": [
    "%%thanosql\n",
    "PREDICT USING bike_regression \n",
    "AS\n",
    "SELECT *\n",
    "FROM bike_sharing_test\n",
    "LIMIT 10"
   ]
  },
  {
   "cell_type": "markdown",
   "id": "b2ccc6b9",
   "metadata": {},
   "source": [
    "<div class=\"admonition note\">\n",
    "    <h4 class=\"admonition-title\">Query Details</h4>\n",
    "    <ul>\n",
    "        <li>\"<strong>PREDICT USING</strong>\" predicts the outcome using the <mark style=\"background-color:#E9D7FD \">bike_regression</mark>\n",
    "    </ul>\n",
    "</div>"
   ]
  },
  {
   "cell_type": "markdown",
   "id": "5389cb4a",
   "metadata": {},
   "source": [
    "## __5. In Conclusion__\n",
    "\n",
    "In this tutorial, we created a bicycle demand regression model using the <mark style=\"background-color:#FFD79C\">Bike Sharing Demand</mark> dataset from [Kaggle](https://www.kaggle.com). As this is a beginner-level tutorial, we focused on the process rather than accuracy. If you'd like to learn more about building advanced regression models, you should check out our intermediate tutorials. \n",
    "\n",
    "For the next step, the [Creating an Intermediate Regression Model] tutorial takes a deeper dive into the \"__OPTIONS__\" clause to improve accuracy. For the intermediate tutorial, we will create sophisticated regression models using the various \"__OPTIONS__\" provided by ThanoSQL's AutoML. In the advanced level, you will have the chance to vectorize unstructured data and include it as a train element in AutoML to create an even more sophisticated regression model.\n",
    "\n",
    "- [How to Upload to ThanoSQL DB](https://docs.thanosql.ai/en/how-to_guides/ThanoSQL_connecting/data_upload/)\n",
    "- [Create an intermediate image classification model]\n",
    "- [Image conversion and creating My model using Auto-ML]\n",
    "- [Deploying My image classification model](https://docs.thanosql.ai/en/how-to_guides/ThanoSQL_connecting/thanosql_api/rest_api_thanosql_query/)\n",
    "\n",
    "<div class=\"admonition tip\">\n",
    "    <h4 class=\"admonition-title\">Inquiries about deploying a model for your own service</h4>\n",
    "    <p>If you have any difficulties creating your own model using ThanoSQL or applying it to your service, please feel free to contact us below😊</p>\n",
    "    <p>For inquiries regarding building a regression model: contact@smartmind.team</p>\n",
    "</div>"
   ]
  },
  {
   "cell_type": "markdown",
   "id": "7a8d469e",
   "metadata": {},
   "source": []
  }
 ],
 "metadata": {
  "kernelspec": {
   "display_name": "Python 3 (ipykernel)",
   "language": "python",
   "name": "python3"
  },
  "language_info": {
   "codemirror_mode": {
    "name": "ipython",
    "version": 3
   },
   "file_extension": ".py",
   "mimetype": "text/x-python",
   "name": "python",
   "nbconvert_exporter": "python",
   "pygments_lexer": "ipython3",
   "version": "3.8.9"
  },
  "vscode": {
   "interpreter": {
    "hash": "31f2aee4e71d21fbe5cf8b01ff0e069b9275f58929596ceb00d14d90e3e16cd6"
   }
  }
 },
 "nbformat": 4,
 "nbformat_minor": 5
}
