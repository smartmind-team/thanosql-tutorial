{
 "cells": [
  {
   "cell_type": "markdown",
   "id": "7ad7df84",
   "metadata": {},
   "source": [
    "# __Search OOO by OOO__"
   ]
  },
  {
   "attachments": {},
   "cell_type": "markdown",
   "id": "d01de980",
   "metadata": {},
   "source": [
    "- Tutorial Difficulty: {★☆☆☆☆}\n",
    "- {0} min read\n",
    "- Languages: [SQL](https://en.wikipedia.org/wiki/SQL) (100%)\n",
    "- File location: tutorial_en/thanosql_search/{file name}.ipynb\n",
    "- References: [Dataset](download link for the dataset), [Reference](Paper, article, or post link)"
   ]
  },
  {
   "attachments": {},
   "cell_type": "markdown",
   "id": "b5e19c02",
   "metadata": {},
   "source": [
    "## Tutorial Introduction\n",
    "\n",
    "<div class=\"admonition note\">\n",
    "    <h4 class=\"admonition-title\">Understanding OOO</h4>\n",
    "    <p>Write a description of the concept related to the model. (e.g.) Explain For computers to understand human language, it must be vectorized. Recently, studies on pre-built models such as <a href=\"https://en.wikipedia.org/wiki/BERT_(language_model)\">BERT</a> and <a href=\"https://en.wikipedia.org/wiki/GPT-3\">GPT-3</a> have been actively carried out, showing remarkable results. These models identify the meaning of each sentence based on <a href=\"https://en.wikipedia.org/wiki/Self-supervised_learning\">Self-Supervised Learning</a>, and sentences with similar meanings are vectorized and placed close to each other in a low-dimensional space. Self-supervised learning allows learning without labeling by determining whether each sentence/context is true/false. It randomly shuffles the order between sentences or masks some words.</p>\n",
    "</div>\n",
    "\n",
    "If additional explanation is required, please write it as needed.\n",
    "\n",
    "(e.g.) The handling of different forms of input, such as texts and images, together is called multi-modal. \"**CLIP: Connecting Text and Image**\" utilizes a multi-modal model to understand low-dimensional vectors. While previous models only trained <a href=\"https://en.wikipedia.org/wiki/Feature_(machine_learning)\">features</a> of the image, the multi-modal model can train both images and texts. It can even learn the features of the texts that describe the images. In addition, by placing texts and images together in a low-dimensional space, the similarity between texts and images can be calculated. From this, a search algorithm can be derived.\n",
    "\n",
    "__The following are examples and applications of the ThanoSQL OOO search algorithm.__\n",
    "\n",
    "- Write two or three examples and applications of the given ThanoSQL model\n",
    "- (e.g.) Find similar images within an album containing thousands of photos.\n",
    "- (e.g.) Store your images in the ThanoSQL's database and create your own search engine or machine learning model utilizing the ThanoSQL Auto-ML regression/classification model.\n",
    "\n",
    "<div class=\"admonition note\">\n",
    "    <h4 class=\"admonition-title\">In This Tutorial</h4>\n",
    "    <p>👉 Write a description of the tutorial.</p>\n",
    "</div>\n",
    "\n",
    "<div class=\"admonition tip\">\n",
    "    <h4 class=\"admonition-title\">(Optional)Dataset Description</h4>\n",
    "    <p>Write additional dataset descriptions if needed. This can be skipped.</p>\n",
    "</div>\n",
    "\n",
    "If additional explanation is required, please write it as needed. (e.g.) Create a model that uses ThanoSQL to input handwriting data and retrieves similar images from the database."
   ]
  },
  {
   "attachments": {},
   "cell_type": "markdown",
   "id": "c23466a2-a790-4e76-82f0-c4329f66f2fa",
   "metadata": {},
   "source": [
    "## __0. Prepare Dataset__\n",
    "\n",
    "As mentioned in the [ThanoSQL Workspace](https://docs.thanosql.ai/en/getting_started/how_to_use_ThanoSQL/#5-thanosql-workspace), you must create an API token and run the query below to execute the query of ThanoSQL.\n",
    "\n",
    "(or) (If there is pre-built model)\n",
    "\n",
    "## __0. Prepare Dataset and Model__\n",
    "\n",
    "As mentioned in the [ThanoSQL Workspace](https://docs.thanosql.ai/en/getting_started/how_to_use_ThanoSQL/#5-thanosql-workspace), you must create an API token and run the query below to execute the query of ThanoSQL."
   ]
  },
  {
   "cell_type": "code",
   "execution_count": null,
   "id": "2aa86deb-1c32-4e20-a632-60d9ddf03556",
   "metadata": {},
   "outputs": [],
   "source": [
    "%load_ext thanosql\n",
    "%thanosql API_TOKEN=<Issued_API_TOKEN>"
   ]
  },
  {
   "cell_type": "markdown",
   "id": "3c6dc402-9f05-4b58-8927-15965d294482",
   "metadata": {},
   "source": [
    "### __Prepare Dataset__"
   ]
  },
  {
   "cell_type": "code",
   "execution_count": 2,
   "id": "5e31fe65-c10b-4802-9cc5-003fae11bc83",
   "metadata": {},
   "outputs": [
    {
     "name": "stdout",
     "output_type": "stream",
     "text": [
      "Success\n"
     ]
    }
   ],
   "source": [
    "%%thanosql\n",
    "GET THANOSQL DATASET {dataset}\n",
    "OPTIONS (overwrite=True)"
   ]
  },
  {
   "cell_type": "markdown",
   "id": "4213d803-87c6-45b2-9073-b3931dff9376",
   "metadata": {},
   "source": [
    "<div class=\"admonition note\">\n",
    "    <h4 class=\"admonition-title\">Query Details</h4>\n",
    "    <ul>\n",
    "        <li>\"<strong>GET THANOSQL DATASET</strong>\" downloads the specified dataset to the workspace.</li>\n",
    "        <li>\"<strong>OPTIONS</strong>\" specifies the option values to be used for the <strong>GET THANOSQL DATASET</strong> clause.\n",
    "        <ul>\n",
    "            <li>\"overwrite\": determines whether to overwrite a dataset if it already exists. If set as True, the old dataset is replaced with the new dataset (bool, optional, True|False, default: False)</li>\n",
    "        </ul>\n",
    "        </li>\n",
    "    </ul>\n",
    "</div>"
   ]
  },
  {
   "cell_type": "code",
   "execution_count": 3,
   "id": "fc63e2ee-c5d8-4d45-8f17-3a16b49a9c31",
   "metadata": {
    "tags": []
   },
   "outputs": [
    {
     "name": "stdout",
     "output_type": "stream",
     "text": [
      "Success\n"
     ]
    }
   ],
   "source": [
    "%%thanosql\n",
    "COPY {table name}\n",
    "OPTIONS (overwrite=True)\n",
    "FROM 'location of csv file'"
   ]
  },
  {
   "cell_type": "code",
   "execution_count": 4,
   "id": "699af314-aa73-47a1-8d63-e0ae2900ec4b",
   "metadata": {},
   "outputs": [
    {
     "name": "stdout",
     "output_type": "stream",
     "text": [
      "Success\n"
     ]
    }
   ],
   "source": [
    "(e.g.)\n",
    "%%thanosql\n",
    "COPY mnist_test\n",
    "OPTIONS (overwrite=True)\n",
    "FROM 'thanosql-dataset/mnist_data/mnist_test.csv'"
   ]
  },
  {
   "cell_type": "markdown",
   "id": "e145f1f4-00cc-4579-84c7-24e87d97cda7",
   "metadata": {
    "tags": []
   },
   "source": [
    "<div class=\"admonition note\">\n",
    "    <h4 class=\"admonition-title\">Query Details</h4>\n",
    "    <ul>\n",
    "        <li>\"<strong>COPY</strong>\" specifies the name of the dataset to be saved as a database table.</li>\n",
    "        <li>\"<strong>OPTIONS</strong>\" specifies the option values to be used for the <strong>COPY</strong> clause.\n",
    "        <ul>\n",
    "           <li>\"overwrite\": determines whether to overwrite a table if it already exists. If set as True, the old table is replaced with the new table (bool, optional, True|False, default: False)</li>\n",
    "        </ul>\n",
    "        </li>\n",
    "    </ul>\n",
    "</div>"
   ]
  },
  {
   "cell_type": "markdown",
   "id": "d12fefaa-8389-415e-96e1-37f9abea9279",
   "metadata": {},
   "source": [
    "#### (If there is pre-built model)"
   ]
  },
  {
   "cell_type": "markdown",
   "id": "63f797e8",
   "metadata": {},
   "source": [
    "### __Prepare the Model__"
   ]
  },
  {
   "cell_type": "code",
   "execution_count": 4,
   "id": "f3f326b8",
   "metadata": {},
   "outputs": [
    {
     "name": "stdout",
     "output_type": "stream",
     "text": [
      "Success\n"
     ]
    }
   ],
   "source": [
    "%%thanosql\n",
    "GET THANOSQL MODEL {model name}\n",
    "OPTIONS (\n",
    "    model_name='tutorial_search_modelname',\n",
    "    overwrite=True\n",
    "    )"
   ]
  },
  {
   "cell_type": "markdown",
   "id": "6708b113-544e-4f92-a24b-97f4e6603b8f",
   "metadata": {},
   "source": [
    "<div class=\"admonition note\">\n",
    "    <h4 class=\"admonition-title\">Query Details</h4>\n",
    "    <ul>\n",
    "        <li>\"<strong>GET THANOSQL MODEL</strong>\" downloads the specified model to the workspace.</li>\n",
    "        <li>\"<strong>OPTIONS</strong>\" specifies the option values to be used for the <strong>GET THANOSQL MODEL</strong> clause.\n",
    "        <ul>\n",
    "            <li>\"model_name\": the model name to store a given model in the ThanoSQL workspace (str, optional)</li>\n",
    "            <li>\"overwrite\": determines whether to overwrite a model if it already exists. If set as True, the old model is replaced with the new model (bool, optional, True|False, default: False)</li>\n",
    "        </ul>\n",
    "        </li>\n",
    "    </ul>\n",
    "</div>"
   ]
  },
  {
   "attachments": {},
   "cell_type": "markdown",
   "id": "eff7350d-3b29-44a2-84d6-132d3b41a989",
   "metadata": {},
   "source": [
    "## __1. Check Dataset__\n",
    "\n",
    "To create a(the) OOO search model, we use the __{table name}__ table located in the ThanoSQL workspace database. Run the query below to check the contents of the table.\n",
    "\n",
    "(or) (if BUILD doesn't support)\n",
    "\n",
    "## __1. Check Dataset__\n",
    "\n",
    "For this tutorial, we use the __{table name}__ table located in the ThanoSQL workspace database. Run the query below to check the contents of the table."
   ]
  },
  {
   "cell_type": "code",
   "execution_count": 5,
   "id": "772b841e-61e1-4c15-aecf-f99435bc6763",
   "metadata": {},
   "outputs": [
    {
     "data": {
      "text/html": [
       "<div>\n",
       "<style scoped>\n",
       "    .dataframe tbody tr th:only-of-type {\n",
       "        vertical-align: middle;\n",
       "    }\n",
       "\n",
       "    .dataframe tbody tr th {\n",
       "        vertical-align: top;\n",
       "    }\n",
       "\n",
       "    .dataframe thead th {\n",
       "        text-align: right;\n",
       "    }\n",
       "</style>\n",
       "<table border=\"1\" class=\"dataframe\">\n",
       "  <thead>\n",
       "    <tr style=\"text-align: right;\">\n",
       "      <th></th>\n",
       "      <th>photo_id</th>\n",
       "      <th>image_path</th>\n",
       "      <th>photo_image_url</th>\n",
       "      <th>photo_description</th>\n",
       "      <th>ai_description</th>\n",
       "    </tr>\n",
       "  </thead>\n",
       "  <tbody>\n",
       "    <tr>\n",
       "      <th>0</th>\n",
       "      <td>XMyPniM9LF0</td>\n",
       "      <td>thanosql-dataset/unsplash_data/XMyPniM9LF0.jpg</td>\n",
       "      <td>https://images.unsplash.com/uploads/1411949294...</td>\n",
       "      <td>Woman exploring a forest</td>\n",
       "      <td>woman walking in the middle of forest</td>\n",
       "    </tr>\n",
       "    <tr>\n",
       "      <th>1</th>\n",
       "      <td>rDLBArZUl1c</td>\n",
       "      <td>thanosql-dataset/unsplash_data/rDLBArZUl1c.jpg</td>\n",
       "      <td>https://images.unsplash.com/photo-141633941111...</td>\n",
       "      <td>Succulents in a terrarium</td>\n",
       "      <td>succulent plants in clear glass terrarium</td>\n",
       "    </tr>\n",
       "    <tr>\n",
       "      <th>2</th>\n",
       "      <td>cNDGZ2sQ3Bo</td>\n",
       "      <td>thanosql-dataset/unsplash_data/cNDGZ2sQ3Bo.jpg</td>\n",
       "      <td>https://images.unsplash.com/photo-142014251503...</td>\n",
       "      <td>Rural winter mountainside</td>\n",
       "      <td>rocky mountain under gray sky at daytime</td>\n",
       "    </tr>\n",
       "    <tr>\n",
       "      <th>3</th>\n",
       "      <td>iuZ_D1eoq9k</td>\n",
       "      <td>thanosql-dataset/unsplash_data/iuZ_D1eoq9k.jpg</td>\n",
       "      <td>https://images.unsplash.com/photo-141487280988...</td>\n",
       "      <td>Poppy seeds and flowers</td>\n",
       "      <td>red common poppy flower selective focus phography</td>\n",
       "    </tr>\n",
       "    <tr>\n",
       "      <th>4</th>\n",
       "      <td>BeD3vjQ8SI0</td>\n",
       "      <td>thanosql-dataset/unsplash_data/BeD3vjQ8SI0.jpg</td>\n",
       "      <td>https://images.unsplash.com/photo-141700759404...</td>\n",
       "      <td>Silhouette near dark trees</td>\n",
       "      <td>trees during night time</td>\n",
       "    </tr>\n",
       "  </tbody>\n",
       "</table>\n",
       "</div>"
      ],
      "text/plain": [
       "      photo_id                                      image_path  \\\n",
       "0  XMyPniM9LF0  thanosql-dataset/unsplash_data/XMyPniM9LF0.jpg   \n",
       "1  rDLBArZUl1c  thanosql-dataset/unsplash_data/rDLBArZUl1c.jpg   \n",
       "2  cNDGZ2sQ3Bo  thanosql-dataset/unsplash_data/cNDGZ2sQ3Bo.jpg   \n",
       "3  iuZ_D1eoq9k  thanosql-dataset/unsplash_data/iuZ_D1eoq9k.jpg   \n",
       "4  BeD3vjQ8SI0  thanosql-dataset/unsplash_data/BeD3vjQ8SI0.jpg   \n",
       "\n",
       "                                     photo_image_url  \\\n",
       "0  https://images.unsplash.com/uploads/1411949294...   \n",
       "1  https://images.unsplash.com/photo-141633941111...   \n",
       "2  https://images.unsplash.com/photo-142014251503...   \n",
       "3  https://images.unsplash.com/photo-141487280988...   \n",
       "4  https://images.unsplash.com/photo-141700759404...   \n",
       "\n",
       "            photo_description  \\\n",
       "0    Woman exploring a forest   \n",
       "1   Succulents in a terrarium   \n",
       "2   Rural winter mountainside   \n",
       "3     Poppy seeds and flowers   \n",
       "4  Silhouette near dark trees   \n",
       "\n",
       "                                      ai_description  \n",
       "0              woman walking in the middle of forest  \n",
       "1          succulent plants in clear glass terrarium  \n",
       "2           rocky mountain under gray sky at daytime  \n",
       "3  red common poppy flower selective focus phography  \n",
       "4                            trees during night time  "
      ]
     },
     "execution_count": 5,
     "metadata": {},
     "output_type": "execute_result"
    }
   ],
   "source": [
    "%%thanosql\n",
    "SELECT *\n",
    "FROM {table name}\n",
    "LIMIT 5"
   ]
  },
  {
   "attachments": {},
   "cell_type": "markdown",
   "id": "ec7768fc-ba70-4252-9967-5beb872ce935",
   "metadata": {},
   "source": [
    "<div class=\"admonition note\">\n",
    "    <h4 class=\"admonition-title\">Understanding the Data Table</h4>\n",
    "    <p><strong>{table name}</strong> table contains the following information.</p>\n",
    "    <ul>\n",
    "        <li>{column name}: column description</li>\n",
    "        <li>(e.g.) image_path: the name of the column that stores the image path</li>\n",
    "    </ul>\n",
    "</div>"
   ]
  },
  {
   "attachments": {},
   "cell_type": "markdown",
   "id": "5094f708-953c-454e-b8b0-961fa50cd979",
   "metadata": {},
   "source": [
    "## __2. Build a OOO Model__\n",
    "\n",
    "To create a OOO model with the name <strong>{model name}</strong> using the <strong>{table name}</strong> table, run the following query.\\\n",
    "(Estimated duration of query execution: {0} min)\n",
    "\n",
    "(or) (if BUILD doesn't support)\n",
    "\n",
    "## __2. Convert Using a Pre-built Model__\n",
    "\n",
    "(Skip Description about BUILD, move to `To vectorize the {dataset} OOO run the following \"__CONVERT USING__\" query.` cell)"
   ]
  },
  {
   "cell_type": "code",
   "execution_count": 6,
   "id": "c80ad66e-4cd9-41e9-8be0-79b299e0fc42",
   "metadata": {},
   "outputs": [
    {
     "name": "stdout",
     "output_type": "stream",
     "text": [
      "Success\n"
     ]
    }
   ],
   "source": [
    "%%thanosql\n",
    "BUILD MODEL {model name}\n",
    "USING {base model name}\n",
    "OPTIONS (\n",
    "    options_needed=add,\n",
    "    overwrite=True\n",
    "    )\n",
    "AS\n",
    "SELECT *\n",
    "FROM {table name}"
   ]
  },
  {
   "attachments": {},
   "cell_type": "markdown",
   "id": "5ce7e0a3-5926-42e8-a85e-ddbfb2915b47",
   "metadata": {},
   "source": [
    "<div class=\"admonition note\">\n",
    "    <h4 class=\"admonition-title\">Query Details</h4>\n",
    "    <ul>\n",
    "        <li>\"<strong>BUILD MODEL</strong>\" creates and trains a model named <strong>{model name}</strong>.</li>\n",
    "        <li>\"<strong>USING</strong>\" specifies <strong>{base model name}</strong> as the base model.</li>\n",
    "        <li>\"<strong>OPTIONS</strong>\" specifies the option values used to create the model.\n",
    "        <ul>\n",
    "            <li>(e.g.) \"image_col\": the name of the column containing the image path (str, default: 'image_path')</li>\n",
    "            <li>(e.g.) \"max_epochs\": number of times to train with the training dataset (int, optional, default: 5)</li>\n",
    "            <li>\"overwrite\": determines whether to overwrite a model if it already exists. If set as True, the old model is replaced with the new model (bool, optional, True|False, default: False) </li>\n",
    "        </ul>\n",
    "        </li>\n",
    "    </ul>\n",
    "</div>"
   ]
  },
  {
   "attachments": {},
   "cell_type": "markdown",
   "id": "0c86b7ca-874d-44b5-91c8-f6e182ed0b60",
   "metadata": {},
   "source": [
    "To vectorize the {dataset} OOO run the following \"__CONVERT USING__\" query. The vectorized results are stored in a user-defined column(default: convert_result) in the __{table name}__ table."
   ]
  },
  {
   "cell_type": "code",
   "execution_count": null,
   "id": "c748d8ef-0a7c-4e0f-96a1-8b63db98f028",
   "metadata": {},
   "outputs": [],
   "source": [
    "%%thanosql\n",
    "CONVERT USING {model name}\n",
    "OPTIONS (\n",
    "    (e.g.) table_name= 'mnist_test',\n",
    "    (e.g.) image_col='image_path',\n",
    "    (e.g.) result_col='convert_result'\n",
    "    )\n",
    "AS\n",
    "SELECT *\n",
    "FROM {table name}"
   ]
  },
  {
   "attachments": {},
   "cell_type": "markdown",
   "id": "ccb189a3",
   "metadata": {},
   "source": [
    "<div class=\"admonition note\">\n",
    "    <h4 class=\"admonition-title\">Query Details</h4>\n",
    "    <ul>\n",
    "        <li>\"<strong>CONVERT USING</strong>\" uses <strong>{model name}</strong> as an algorithm for OOO vectorizaion.</li>\n",
    "        <li>\"<strong>OPTIONS</strong>\" specifies the options to be used for OOO vectorization.\n",
    "        <ul>\n",
    "            <li>(e.g.) \"table_name\": the table name to be stored in the ThanoSQL workspace database. If a previously used table is specified, the existing table will be replaced by the new table with a 'convert_result' column (str, optional)</li>\n",
    "            <li>(e.g.) \"image_col\": the name of the column containing the image path (str, default: 'image_path')</li>\n",
    "            <li>(e.g.) \"result_col\": defines the column name that contains the vectorized results (str, optional, default: 'convert_result')</li>\n",
    "        </ul>\n",
    "        </li>\n",
    "    </ul>\n",
    "</div>"
   ]
  },
  {
   "cell_type": "markdown",
   "id": "5c2b1923-1f24-470e-8221-3ba7b4d1a52c",
   "metadata": {},
   "source": [
    "## __3. Search__\n",
    "\n",
    "Write a description about searching using the model."
   ]
  },
  {
   "cell_type": "code",
   "execution_count": 8,
   "id": "9bc17382-5e4f-4c60-8cf2-f56f2d9f9961",
   "metadata": {},
   "outputs": [
    {
     "data": {
      "text/html": [
       "<div>\n",
       "<style scoped>\n",
       "    .dataframe tbody tr th:only-of-type {\n",
       "        vertical-align: middle;\n",
       "    }\n",
       "\n",
       "    .dataframe tbody tr th {\n",
       "        vertical-align: top;\n",
       "    }\n",
       "\n",
       "    .dataframe thead th {\n",
       "        text-align: right;\n",
       "    }\n",
       "</style>\n",
       "<table border=\"1\" class=\"dataframe\">\n",
       "  <thead>\n",
       "    <tr style=\"text-align: right;\">\n",
       "      <th></th>\n",
       "      <th>photo_id</th>\n",
       "      <th>image_path</th>\n",
       "      <th>photo_image_url</th>\n",
       "      <th>photo_description</th>\n",
       "      <th>ai_description</th>\n",
       "      <th>convert_result</th>\n",
       "      <th>search_result</th>\n",
       "    </tr>\n",
       "  </thead>\n",
       "  <tbody>\n",
       "    <tr>\n",
       "      <th>0</th>\n",
       "      <td>XMyPniM9LF0</td>\n",
       "      <td>thanosql-dataset/unsplash_data/XMyPniM9LF0.jpg</td>\n",
       "      <td>https://images.unsplash.com/uploads/1411949294...</td>\n",
       "      <td>Woman exploring a forest</td>\n",
       "      <td>woman walking in the middle of forest</td>\n",
       "      <td>[-0.17420606, 0.6450801, 0.13915274, 0.1034161...</td>\n",
       "      <td>0.185742</td>\n",
       "    </tr>\n",
       "    <tr>\n",
       "      <th>1</th>\n",
       "      <td>rDLBArZUl1c</td>\n",
       "      <td>thanosql-dataset/unsplash_data/rDLBArZUl1c.jpg</td>\n",
       "      <td>https://images.unsplash.com/photo-141633941111...</td>\n",
       "      <td>Succulents in a terrarium</td>\n",
       "      <td>succulent plants in clear glass terrarium</td>\n",
       "      <td>[-0.372485, 0.338373, -0.07027413, 0.14057255,...</td>\n",
       "      <td>0.148483</td>\n",
       "    </tr>\n",
       "    <tr>\n",
       "      <th>2</th>\n",
       "      <td>cNDGZ2sQ3Bo</td>\n",
       "      <td>thanosql-dataset/unsplash_data/cNDGZ2sQ3Bo.jpg</td>\n",
       "      <td>https://images.unsplash.com/photo-142014251503...</td>\n",
       "      <td>Rural winter mountainside</td>\n",
       "      <td>rocky mountain under gray sky at daytime</td>\n",
       "      <td>[-0.35936344, 0.61205083, 0.15280452, 0.191684...</td>\n",
       "      <td>0.187674</td>\n",
       "    </tr>\n",
       "    <tr>\n",
       "      <th>3</th>\n",
       "      <td>iuZ_D1eoq9k</td>\n",
       "      <td>thanosql-dataset/unsplash_data/iuZ_D1eoq9k.jpg</td>\n",
       "      <td>https://images.unsplash.com/photo-141487280988...</td>\n",
       "      <td>Poppy seeds and flowers</td>\n",
       "      <td>red common poppy flower selective focus phography</td>\n",
       "      <td>[0.021213964, 0.116503514, -0.22624841, -0.433...</td>\n",
       "      <td>0.177507</td>\n",
       "    </tr>\n",
       "    <tr>\n",
       "      <th>4</th>\n",
       "      <td>BeD3vjQ8SI0</td>\n",
       "      <td>thanosql-dataset/unsplash_data/BeD3vjQ8SI0.jpg</td>\n",
       "      <td>https://images.unsplash.com/photo-141700759404...</td>\n",
       "      <td>Silhouette near dark trees</td>\n",
       "      <td>trees during night time</td>\n",
       "      <td>[-0.26645434, 0.15451586, -0.022570107, -0.074...</td>\n",
       "      <td>0.218851</td>\n",
       "    </tr>\n",
       "    <tr>\n",
       "      <th>...</th>\n",
       "      <td>...</td>\n",
       "      <td>...</td>\n",
       "      <td>...</td>\n",
       "      <td>...</td>\n",
       "      <td>...</td>\n",
       "      <td>...</td>\n",
       "      <td>...</td>\n",
       "    </tr>\n",
       "    <tr>\n",
       "      <th>24963</th>\n",
       "      <td>c7OrOMxrurA</td>\n",
       "      <td>thanosql-dataset/unsplash_data/c7OrOMxrurA.jpg</td>\n",
       "      <td>https://images.unsplash.com/photo-159300793778...</td>\n",
       "      <td>None</td>\n",
       "      <td>black metal fence during daytime</td>\n",
       "      <td>[-0.13440062, -0.025392912, -0.12282352, -0.33...</td>\n",
       "      <td>0.226361</td>\n",
       "    </tr>\n",
       "    <tr>\n",
       "      <th>24964</th>\n",
       "      <td>15IuQ5a0Qwg</td>\n",
       "      <td>thanosql-dataset/unsplash_data/15IuQ5a0Qwg.jpg</td>\n",
       "      <td>https://images.unsplash.com/photo-159296761254...</td>\n",
       "      <td>Pearl earrings and seashells</td>\n",
       "      <td>white and brown seashell on white surface</td>\n",
       "      <td>[-0.31456038, 0.5623393, 0.171072, -0.20321381...</td>\n",
       "      <td>0.147183</td>\n",
       "    </tr>\n",
       "    <tr>\n",
       "      <th>24965</th>\n",
       "      <td>w8nrcXz8pwk</td>\n",
       "      <td>thanosql-dataset/unsplash_data/w8nrcXz8pwk.jpg</td>\n",
       "      <td>https://images.unsplash.com/photo-159299937329...</td>\n",
       "      <td>None</td>\n",
       "      <td>leopard on brown tree trunk during daytime</td>\n",
       "      <td>[0.07346563, -0.3390117, -0.14695388, -0.42601...</td>\n",
       "      <td>0.227299</td>\n",
       "    </tr>\n",
       "    <tr>\n",
       "      <th>24966</th>\n",
       "      <td>n1jHrRhehUI</td>\n",
       "      <td>thanosql-dataset/unsplash_data/n1jHrRhehUI.jpg</td>\n",
       "      <td>https://images.unsplash.com/photo-159192792878...</td>\n",
       "      <td>Floral truck in the streets of Rome</td>\n",
       "      <td>woman in beige coat and white hat standing on ...</td>\n",
       "      <td>[0.055300977, -0.015219223, 0.26629472, -0.364...</td>\n",
       "      <td>0.169794</td>\n",
       "    </tr>\n",
       "    <tr>\n",
       "      <th>24967</th>\n",
       "      <td>Ic74ACoaAX0</td>\n",
       "      <td>thanosql-dataset/unsplash_data/Ic74ACoaAX0.jpg</td>\n",
       "      <td>https://images.unsplash.com/photo-159240763188...</td>\n",
       "      <td>None</td>\n",
       "      <td>green plants on brown rocky mountain under blu...</td>\n",
       "      <td>[-0.1620048, 0.66937274, 0.050710917, -0.13542...</td>\n",
       "      <td>0.152132</td>\n",
       "    </tr>\n",
       "  </tbody>\n",
       "</table>\n",
       "<p>24968 rows × 7 columns</p>\n",
       "</div>"
      ],
      "text/plain": [
       "          photo_id                                      image_path  \\\n",
       "0      XMyPniM9LF0  thanosql-dataset/unsplash_data/XMyPniM9LF0.jpg   \n",
       "1      rDLBArZUl1c  thanosql-dataset/unsplash_data/rDLBArZUl1c.jpg   \n",
       "2      cNDGZ2sQ3Bo  thanosql-dataset/unsplash_data/cNDGZ2sQ3Bo.jpg   \n",
       "3      iuZ_D1eoq9k  thanosql-dataset/unsplash_data/iuZ_D1eoq9k.jpg   \n",
       "4      BeD3vjQ8SI0  thanosql-dataset/unsplash_data/BeD3vjQ8SI0.jpg   \n",
       "...            ...                                             ...   \n",
       "24963  c7OrOMxrurA  thanosql-dataset/unsplash_data/c7OrOMxrurA.jpg   \n",
       "24964  15IuQ5a0Qwg  thanosql-dataset/unsplash_data/15IuQ5a0Qwg.jpg   \n",
       "24965  w8nrcXz8pwk  thanosql-dataset/unsplash_data/w8nrcXz8pwk.jpg   \n",
       "24966  n1jHrRhehUI  thanosql-dataset/unsplash_data/n1jHrRhehUI.jpg   \n",
       "24967  Ic74ACoaAX0  thanosql-dataset/unsplash_data/Ic74ACoaAX0.jpg   \n",
       "\n",
       "                                         photo_image_url  \\\n",
       "0      https://images.unsplash.com/uploads/1411949294...   \n",
       "1      https://images.unsplash.com/photo-141633941111...   \n",
       "2      https://images.unsplash.com/photo-142014251503...   \n",
       "3      https://images.unsplash.com/photo-141487280988...   \n",
       "4      https://images.unsplash.com/photo-141700759404...   \n",
       "...                                                  ...   \n",
       "24963  https://images.unsplash.com/photo-159300793778...   \n",
       "24964  https://images.unsplash.com/photo-159296761254...   \n",
       "24965  https://images.unsplash.com/photo-159299937329...   \n",
       "24966  https://images.unsplash.com/photo-159192792878...   \n",
       "24967  https://images.unsplash.com/photo-159240763188...   \n",
       "\n",
       "                         photo_description  \\\n",
       "0                 Woman exploring a forest   \n",
       "1                Succulents in a terrarium   \n",
       "2                Rural winter mountainside   \n",
       "3                  Poppy seeds and flowers   \n",
       "4               Silhouette near dark trees   \n",
       "...                                    ...   \n",
       "24963                                 None   \n",
       "24964         Pearl earrings and seashells   \n",
       "24965                                 None   \n",
       "24966  Floral truck in the streets of Rome   \n",
       "24967                                 None   \n",
       "\n",
       "                                          ai_description  \\\n",
       "0                  woman walking in the middle of forest   \n",
       "1              succulent plants in clear glass terrarium   \n",
       "2               rocky mountain under gray sky at daytime   \n",
       "3      red common poppy flower selective focus phography   \n",
       "4                                trees during night time   \n",
       "...                                                  ...   \n",
       "24963                   black metal fence during daytime   \n",
       "24964          white and brown seashell on white surface   \n",
       "24965         leopard on brown tree trunk during daytime   \n",
       "24966  woman in beige coat and white hat standing on ...   \n",
       "24967  green plants on brown rocky mountain under blu...   \n",
       "\n",
       "                                          convert_result  search_result  \n",
       "0      [-0.17420606, 0.6450801, 0.13915274, 0.1034161...       0.185742  \n",
       "1      [-0.372485, 0.338373, -0.07027413, 0.14057255,...       0.148483  \n",
       "2      [-0.35936344, 0.61205083, 0.15280452, 0.191684...       0.187674  \n",
       "3      [0.021213964, 0.116503514, -0.22624841, -0.433...       0.177507  \n",
       "4      [-0.26645434, 0.15451586, -0.022570107, -0.074...       0.218851  \n",
       "...                                                  ...            ...  \n",
       "24963  [-0.13440062, -0.025392912, -0.12282352, -0.33...       0.226361  \n",
       "24964  [-0.31456038, 0.5623393, 0.171072, -0.20321381...       0.147183  \n",
       "24965  [0.07346563, -0.3390117, -0.14695388, -0.42601...       0.227299  \n",
       "24966  [0.055300977, -0.015219223, 0.26629472, -0.364...       0.169794  \n",
       "24967  [-0.1620048, 0.66937274, 0.050710917, -0.13542...       0.152132  \n",
       "\n",
       "[24968 rows x 7 columns]"
      ]
     },
     "execution_count": 8,
     "metadata": {},
     "output_type": "execute_result"
    }
   ],
   "source": [
    "%%thanosql\n",
    "SEARCH {data type}\n",
    "USING {model name}\n",
    "OPTIONS (\n",
    "    search_by='text',\n",
    "    search_input='a black cat',\n",
    "    emb_col='convert_result',\n",
    "    result_col='search_result'\n",
    "    )\n",
    "AS\n",
    "SELECT *\n",
    "FROM {table name}"
   ]
  },
  {
   "attachments": {},
   "cell_type": "markdown",
   "id": "3e614d40",
   "metadata": {},
   "source": [
    "<div class=\"admonition note\">\n",
    "    <h4 class=\"admonition-title\">Query Details</h4>\n",
    "    <ul>\n",
    "        <li>\"<strong>SEARCH OOO [image|text|audio|video]</strong>\" defines the image|text|audio|video file type to search for.</li>\n",
    "        <li>\"<strong>USING</strong>\" defines the model used for OOO vectorization.</li>\n",
    "        <li>\"<strong>OPTIONS</strong>\" specifies the options to be used for OOO searching.\n",
    "        <ul>\n",
    "            <li>\"search_by\": defines the image|text|audio|video type to be used for the search (str)</li>\n",
    "            <li>\"search_input\": defines the input to be used for the search (str)</li>\n",
    "            <li>\"emb_col\": the column that contains the vectorized results (str)</li>\n",
    "            <li>\"result_col\": defines the name of the column that contains the search results (str, optional, default: 'search_result')</li>\n",
    "        </ul>\n",
    "        </li>\n",
    "        <li>\"<strong>AS</strong>\" defines the embedding table to be used for searches. In this example, the <strong>{table name}</strong> table is used.</li>\n",
    "    </ul>\n",
    "</div>"
   ]
  },
  {
   "cell_type": "markdown",
   "id": "ebb1834b-414e-468b-9f0c-4c63ab819e13",
   "metadata": {},
   "source": [
    "(Print result using PRINT if possible)"
   ]
  },
  {
   "attachments": {},
   "cell_type": "markdown",
   "id": "de2009d0",
   "metadata": {},
   "source": [
    "(e.g.) To output the \"__SEARCH__\" result using the \"__PRINT__\" clause to output the top four most similar images, run the following query."
   ]
  },
  {
   "cell_type": "code",
   "execution_count": 10,
   "id": "276f907e-b8f9-48a7-82a0-efdd4ef4b5d8",
   "metadata": {},
   "outputs": [
    {
     "name": "stdout",
     "output_type": "stream",
     "text": [
      "/home/jovyan/thanosql-dataset/unsplash_data/UMyfDjQ6Ep8.jpg\n"
     ]
    },
    {
     "data": {
      "image/jpeg": "[encoded data removed]",
      "text/plain": [
       "<IPython.core.display.Image object>"
      ]
     },
     "metadata": {
      "image/jpeg": {
       "height": 240,
       "width": 240
      }
     },
     "output_type": "display_data"
    },
    {
     "name": "stdout",
     "output_type": "stream",
     "text": [
      "/home/jovyan/thanosql-dataset/unsplash_data/7XJ3d0xK444.jpg\n"
     ]
    },
    {
     "data": {
      "image/jpeg": "[encoded data removed]",
      "text/plain": [
       "<IPython.core.display.Image object>"
      ]
     },
     "metadata": {
      "image/jpeg": {
       "height": 240,
       "width": 240
      }
     },
     "output_type": "display_data"
    },
    {
     "name": "stdout",
     "output_type": "stream",
     "text": [
      "/home/jovyan/thanosql-dataset/unsplash_data/m8HsSWh-y6E.jpg\n"
     ]
    },
    {
     "data": {
      "image/jpeg": "[encoded data removed]",
      "text/plain": [
       "<IPython.core.display.Image object>"
      ]
     },
     "metadata": {
      "image/jpeg": {
       "height": 240,
       "width": 240
      }
     },
     "output_type": "display_data"
    },
    {
     "name": "stdout",
     "output_type": "stream",
     "text": [
      "/home/jovyan/thanosql-dataset/unsplash_data/6ST6S6i9IGM.jpg\n"
     ]
    },
    {
     "data": {
      "image/jpeg": "[encoded data removed]",
      "text/plain": [
       "<IPython.core.display.Image object>"
      ]
     },
     "metadata": {
      "image/jpeg": {
       "height": 240,
       "width": 240
      }
     },
     "output_type": "display_data"
    },
    {
     "name": "stdout",
     "output_type": "stream",
     "text": [
      "/home/jovyan/thanosql-dataset/unsplash_data/aFyD5aWKu6k.jpg\n"
     ]
    },
    {
     "data": {
      "image/jpeg": "[encoded data removed]",
      "text/plain": [
       "<IPython.core.display.Image object>"
      ]
     },
     "metadata": {
      "image/jpeg": {
       "height": 240,
       "width": 240
      }
     },
     "output_type": "display_data"
    }
   ],
   "source": [
    "(e.g.)\n",
    "%%thanosql\n",
    "PRINT IMAGE\n",
    "AS (\n",
    "    SELECT image_path, search_result\n",
    "    FROM (\n",
    "        SEARCH IMAGE\n",
    "        USING tutorial_search_clip\n",
    "        OPTIONS (\n",
    "            search_by='text',\n",
    "            search_input='a black cat',\n",
    "            emb_col='convert_result',\n",
    "            result_col='search_result'\n",
    "            )\n",
    "        AS\n",
    "        SELECT *\n",
    "        FROM unsplash_data\n",
    "        )\n",
    "    ORDER BY search_result DESC\n",
    "    LIMIT 5\n",
    "    )"
   ]
  },
  {
   "attachments": {},
   "cell_type": "markdown",
   "id": "5389cb4a",
   "metadata": {},
   "source": [
    "## __4. In Conclusion__\n",
    "\n",
    "Write summary & conclusion of the tutorial.\n",
    "\n",
    "* [How to Upload My Data to the ThanoSQL Workspace](https://docs.thanosql.ai/en/getting_started/data_upload/)\n",
    "* [How to Create a Table Using My Data](https://docs.thanosql.ai/en/how-to_guides/ThanoSQL_query/COPY_SYNTAX/)\n",
    "* [How to Upload My Model to the ThanoSQL Workspace](https://docs.thanosql.ai/en/how-to_guides/ThanoSQL_query/UPLOAD_SYNTAX/)\n",
    "\n",
    "<div class=\"admonition tip\">\n",
    "    <h4 class=\"admonition-title\">Inquiries About Deploying a Model for Your Own Service</h4>\n",
    "    <p>If you have any difficulties creating your own model using ThanoSQL or applying it to your services, please feel free to contact us below😊</p>\n",
    "    <p>For inquiries regarding building OOO search models: <a href=\"mailto:contact@smartmind.team\">contact@smartmind.team</a></p>\n",
    "</div>"
   ]
  }
 ],
 "metadata": {
  "kernelspec": {
   "display_name": "Python 3.9.13 64-bit",
   "language": "python",
   "name": "python3"
  },
  "language_info": {
   "codemirror_mode": {
    "name": "ipython",
    "version": 3
   },
   "file_extension": ".py",
   "mimetype": "text/x-python",
   "name": "python",
   "nbconvert_exporter": "python",
   "pygments_lexer": "ipython3",
   "version": "3.9.13 (v3.9.13:6de2ca5339, May 17 2022, 11:37:23) \n[Clang 13.0.0 (clang-1300.0.29.30)]"
  },
  "vscode": {
   "interpreter": {
    "hash": "aee8b7b246df8f9039afb4144a1f6fd8d2ca17a180786b69acc140d282b71a49"
   }
  }
 },
 "nbformat": 4,
 "nbformat_minor": 5
}
