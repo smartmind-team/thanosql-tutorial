{
 "cells": [
  {
   "attachments": {},
   "cell_type": "markdown",
   "id": "d7619d53-33a7-480a-91ec-dff71eefd99f",
   "metadata": {
    "tags": []
   },
   "source": [
    "# __Hello ThanoSQL!__\n",
    "\n",
    "ThanoSQL은 정형과 비정형 데이터 모두 SQL 만으로 쿼리(Query, 질의)와 AI(인공지능) 모델링이 가능한 통합 플랫폼입니다. RDB(Relational DataBase, 관계형 데이터베이스), AI 그리고 Big Data Platform의 기능을 하나의 플랫폼에서 적용할 수 있으며 AI 기반의 디지털 전환 시 발생하는 비효율성을 획기적으로 줄일 수 있습니다.\n",
    "\n",
    "- ThanoSQL은 정형과 비정형 데이터 모두 SQL만으로 쿼리가 가능하며, 빠른 AI 모델링이 가능합니다.\n",
    "- 람다 아키텍처 기반의 비정형 빅데이터 플랫폼을 ThanoSQL 하나로 대체하여 개발, 배포 그리고 운영을 하나의 프로세스로 가능하게 합니다.\n",
    "- 빅데이터 처리 및 분산 병렬처리 기술을 기반으로 하여 기존 대비 2배 이상 빠르게 데이터 처리가 가능합니다.\n",
    "\n",
    "## __ThanoSQL 워크스페이스 사용__\n",
    "ThanoSQL의 워크스페이스는 [Jupyter Lab](https://github.com/jupyterlab/jupyterlab)을 기반으로 하는 웹 기반 컴퓨팅 환경입니다.\n",
    "\n",
    "이 환경에서 **ThanoSQL**을 본격적으로 사용하기 위해서는 먼저 `thanosql` cell magic을 불러와야 합니다.\n",
    "\n",
    "(상단의 실행 버튼을 누르거나, `Ctrl + Enter` 혹은 `Shift + Enter` 단축키로도 실행할 수 있습니다.)"
   ]
  },
  {
   "cell_type": "code",
   "execution_count": 1,
   "id": "99673df8-293d-41ee-8f43-d6ffe3739f90",
   "metadata": {
    "tags": []
   },
   "outputs": [],
   "source": [
    "%load_ext thanosql"
   ]
  },
  {
   "attachments": {},
   "cell_type": "markdown",
   "id": "7d421d64-ae65-43be-bc15-c31c036079fb",
   "metadata": {},
   "source": [
    "다음으로, 각 사용자의 워크스페이스 API_TOKEN 설정을 위해 **워크스페이스 설정 페이지 - Developer - API Token - 복사 버튼**으로 얻은 API_TOKEN을 다음과 같이 설정합니다.\n",
    "\n",
    "```\n",
    "%thanosql API_TOKEN=<발급받은_API_TOKEN>\n",
    "\n",
    "예시)\n",
    "%thanosql API_TOKEN=eyJhbGciOiJIUzI1NiIsInR..\n",
    "```"
   ]
  },
  {
   "cell_type": "code",
   "execution_count": null,
   "id": "68fbbf28-ac43-4a46-93ff-89ece6ccab31",
   "metadata": {
    "tags": []
   },
   "outputs": [],
   "source": [
    "%thanosql API_TOKEN=<발급받은_API_TOKEN>"
   ]
  },
  {
   "attachments": {},
   "cell_type": "markdown",
   "id": "80527c2b-c636-420d-97e0-e2fb4f7dc38d",
   "metadata": {},
   "source": [
    "**ThanoSQL**을 사용할 모든 준비가 끝났습니다."
   ]
  },
  {
   "attachments": {},
   "cell_type": "markdown",
   "id": "4a981cd8",
   "metadata": {},
   "source": [
    "## __튜토리얼 가져오기__\n",
    "특정 튜토리얼을 가지고 오고 싶다면 아래의 문을 실행시키면 됩니다. 가져올 튜토리얼의 Github URL은 아래의 링크를 통해 확인할 수 있습니다.\n",
    "\n",
    "[튜토리얼 Github URL 리스트](https://docs.thanosql.ai/1.5/ko/getting_started/paas/workspace/lab/#4)"
   ]
  },
  {
   "cell_type": "code",
   "execution_count": null,
   "id": "3b76ccf3",
   "metadata": {},
   "outputs": [],
   "source": [
    "!wget [가져올 Tutorial의 Github URL]"
   ]
  },
  {
   "attachments": {},
   "cell_type": "markdown",
   "id": "51892cfe-c6c4-4e71-8497-81c7bc3a1fd7",
   "metadata": {},
   "source": [
    "## __데이터 세트 가져오기__\n",
    "특정 데이터 세트를 가지고 오고 싶다면 아래의 문을 실행시키면 됩니다."
   ]
  },
  {
   "cell_type": "code",
   "execution_count": null,
   "id": "3617dfa6-4ad7-4b85-9690-36983694a607",
   "metadata": {},
   "outputs": [],
   "source": [
    "%%thanosql\n",
    "GET THANOSQL DATASET <가져올 데이터 세트 이름>\n",
    "OPTIONS (overwrite=True)"
   ]
  },
  {
   "attachments": {},
   "cell_type": "markdown",
   "id": "e7536720-201c-43b8-b626-7a152011cb1d",
   "metadata": {},
   "source": [
    "<div class=\"admonition note\">\n",
    "    <h4 class=\"admonition-title\">쿼리 세부 정보</h4>\n",
    "    <ul>\n",
    "        <li>\"<strong>GET THANOSQL DATASET</strong>\" 쿼리 구문을 사용하여 원하는 데이터 세트를 워크스페이스에 저장합니다.</li>\n",
    "        <li>\"<strong>OPTIONS</strong>\" 쿼리 구문을 통해 <strong>GET THANOSQL DATASET</strong>에 사용할 옵션을 지정합니다.\n",
    "        <ul>\n",
    "            <li>\"overwrite\": 동일 이름의 데이터 세트가 존재하는 경우 덮어쓰기 가능 여부 설정. True일 경우 기존 데이터 세트는 새로운 데이터 세트로 변경됨 (bool, optional, True|False, default: False)</li>\n",
    "        </ul>\n",
    "        </li>\n",
    "    </ul>\n",
    "</div>"
   ]
  },
  {
   "cell_type": "markdown",
   "id": "ecff6b35-d84f-473c-a587-6c1dd68b341b",
   "metadata": {},
   "source": [
    "아래 ThanoSQL문을 실행시키면 데이터 세트의 목록을 확인 할 수 있습니다."
   ]
  },
  {
   "cell_type": "code",
   "execution_count": 3,
   "id": "0358f7ec-2e83-45fa-a9be-770237bcb64b",
   "metadata": {
    "tags": []
   },
   "outputs": [
    {
     "data": {
      "text/html": [
       "<div>\n",
       "<style scoped>\n",
       "    .dataframe tbody tr th:only-of-type {\n",
       "        vertical-align: middle;\n",
       "    }\n",
       "\n",
       "    .dataframe tbody tr th {\n",
       "        vertical-align: top;\n",
       "    }\n",
       "\n",
       "    .dataframe thead th {\n",
       "        text-align: right;\n",
       "    }\n",
       "</style>\n",
       "<table border=\"1\" class=\"dataframe\">\n",
       "  <thead>\n",
       "    <tr style=\"text-align: right;\">\n",
       "      <th></th>\n",
       "      <th>name</th>\n",
       "      <th>data_type</th>\n",
       "    </tr>\n",
       "  </thead>\n",
       "  <tbody>\n",
       "    <tr>\n",
       "      <th>0</th>\n",
       "      <td>librispeech_data</td>\n",
       "      <td>audio</td>\n",
       "    </tr>\n",
       "    <tr>\n",
       "      <th>1</th>\n",
       "      <td>mnist_data</td>\n",
       "      <td>image</td>\n",
       "    </tr>\n",
       "    <tr>\n",
       "      <th>2</th>\n",
       "      <td>product_image_data</td>\n",
       "      <td>image</td>\n",
       "    </tr>\n",
       "    <tr>\n",
       "      <th>3</th>\n",
       "      <td>titanic_data</td>\n",
       "      <td>tabular</td>\n",
       "    </tr>\n",
       "    <tr>\n",
       "      <th>4</th>\n",
       "      <td>unsplash_data</td>\n",
       "      <td>image</td>\n",
       "    </tr>\n",
       "    <tr>\n",
       "      <th>5</th>\n",
       "      <td>bike_sharing_data</td>\n",
       "      <td>tabular</td>\n",
       "    </tr>\n",
       "    <tr>\n",
       "      <th>6</th>\n",
       "      <td>cat_and_dog_data</td>\n",
       "      <td>image</td>\n",
       "    </tr>\n",
       "    <tr>\n",
       "      <th>7</th>\n",
       "      <td>diet_data</td>\n",
       "      <td>image</td>\n",
       "    </tr>\n",
       "    <tr>\n",
       "      <th>8</th>\n",
       "      <td>movie_review_data</td>\n",
       "      <td>tabular</td>\n",
       "    </tr>\n",
       "    <tr>\n",
       "      <th>9</th>\n",
       "      <td>nsmc_data</td>\n",
       "      <td>tabular</td>\n",
       "    </tr>\n",
       "    <tr>\n",
       "      <th>10</th>\n",
       "      <td>coco_person_data</td>\n",
       "      <td>image</td>\n",
       "    </tr>\n",
       "    <tr>\n",
       "      <th>11</th>\n",
       "      <td>kinetics700_data</td>\n",
       "      <td>video</td>\n",
       "    </tr>\n",
       "    <tr>\n",
       "      <th>12</th>\n",
       "      <td>korean_voice_data</td>\n",
       "      <td>audio</td>\n",
       "    </tr>\n",
       "  </tbody>\n",
       "</table>\n",
       "</div>"
      ],
      "text/plain": [
       "                  name data_type\n",
       "0     librispeech_data     audio\n",
       "1           mnist_data     image\n",
       "2   product_image_data     image\n",
       "3         titanic_data   tabular\n",
       "4        unsplash_data     image\n",
       "5    bike_sharing_data   tabular\n",
       "6     cat_and_dog_data     image\n",
       "7            diet_data     image\n",
       "8    movie_review_data   tabular\n",
       "9            nsmc_data   tabular\n",
       "10    coco_person_data     image\n",
       "11    kinetics700_data     video\n",
       "12   korean_voice_data     audio"
      ]
     },
     "execution_count": 3,
     "metadata": {},
     "output_type": "execute_result"
    }
   ],
   "source": [
    "%%thanosql\n",
    "LIST THANOSQL DATASET"
   ]
  },
  {
   "attachments": {},
   "cell_type": "markdown",
   "id": "0c09a212-c994-45a5-9045-ebd4e50257cf",
   "metadata": {
    "execution": {
     "iopub.execute_input": "2022-10-06T05:35:02.360028Z",
     "iopub.status.busy": "2022-10-06T05:35:02.359466Z",
     "iopub.status.idle": "2022-10-06T05:35:02.364464Z",
     "shell.execute_reply": "2022-10-06T05:35:02.363591Z",
     "shell.execute_reply.started": "2022-10-06T05:35:02.359995Z"
    }
   },
   "source": [
    "## __ThanoSQL Pre-built 모델 가져오기__\n",
    "특정 Pre-built된 ThanoSQL 모델을 가지고 오고 싶다면 아래의 문을 실행시키면 됩니다."
   ]
  },
  {
   "cell_type": "code",
   "execution_count": null,
   "id": "f2639720-9f6c-470f-9390-a64c80c034e3",
   "metadata": {},
   "outputs": [],
   "source": [
    "%%thanosql\n",
    "GET THANOSQL MODEL <가져올 ThanoSQL Pre-built 모델 이름>\n",
    "OPTIONS (overwrite=True)"
   ]
  },
  {
   "attachments": {},
   "cell_type": "markdown",
   "id": "a17eaf21-8863-4bb1-8cb0-34ded6bdfa8d",
   "metadata": {},
   "source": [
    "<div class=\"admonition note\">\n",
    "    <h4 class=\"admonition-title\">쿼리 세부 정보</h4>\n",
    "    <ul>\n",
    "        <li>\"<strong>GET THANOSQL MODEL</strong>\" 쿼리 구문을 사용하여 원하는 모델을 워크스페이스 및 데이터베이스에 저장합니다.</li>\n",
    "        <li>\"<strong>OPTIONS</strong>\" 쿼리 구문을 통해 <strong>GET THANOSQL MODEL</strong>에 사용할 옵션을 지정합니다.\n",
    "        <ul>\n",
    "            <li>“model_name”: 저장할 모델의 이름 (str, optional)</li>\n",
    "            <li>\"overwrite\": 동일 이름의 모델이 존재하는 경우 덮어쓰기 가능 여부 설정. True일 경우 모델은 새로운 모델로 변경됨 (bool, optional, True|False, default: False)</li>\n",
    "        </ul>\n",
    "        </li>\n",
    "    </ul>\n",
    "</div>"
   ]
  },
  {
   "cell_type": "markdown",
   "id": "680aaca8-c3e4-4815-aae9-553f5aee9b6a",
   "metadata": {},
   "source": [
    "아래 ThanoSQL문을 실행시키면 Pre-built된 ThanoSQL 모델 목록을 확인 할 수 있습니다."
   ]
  },
  {
   "cell_type": "code",
   "execution_count": 4,
   "id": "702ea2c1-fbd5-4de1-a190-5a1e841f9d11",
   "metadata": {
    "tags": []
   },
   "outputs": [
    {
     "data": {
      "text/html": [
       "<div>\n",
       "<style scoped>\n",
       "    .dataframe tbody tr th:only-of-type {\n",
       "        vertical-align: middle;\n",
       "    }\n",
       "\n",
       "    .dataframe tbody tr th {\n",
       "        vertical-align: top;\n",
       "    }\n",
       "\n",
       "    .dataframe thead th {\n",
       "        text-align: right;\n",
       "    }\n",
       "</style>\n",
       "<table border=\"1\" class=\"dataframe\">\n",
       "  <thead>\n",
       "    <tr style=\"text-align: right;\">\n",
       "      <th></th>\n",
       "      <th>name</th>\n",
       "      <th>class_name</th>\n",
       "      <th>last_updated_utc</th>\n",
       "    </tr>\n",
       "  </thead>\n",
       "  <tbody>\n",
       "    <tr>\n",
       "      <th>0</th>\n",
       "      <td>sbert_en</td>\n",
       "      <td>SBERTEn</td>\n",
       "      <td>2022-11-03 00:00:00</td>\n",
       "    </tr>\n",
       "    <tr>\n",
       "      <th>1</th>\n",
       "      <td>xclip</td>\n",
       "      <td>XCLIP</td>\n",
       "      <td>2022-11-03 00:00:00</td>\n",
       "    </tr>\n",
       "    <tr>\n",
       "      <th>2</th>\n",
       "      <td>whisper_l</td>\n",
       "      <td>Whisper</td>\n",
       "      <td>2022-11-03 00:00:00</td>\n",
       "    </tr>\n",
       "    <tr>\n",
       "      <th>3</th>\n",
       "      <td>whisper_s</td>\n",
       "      <td>Whisper</td>\n",
       "      <td>2022-11-03 00:00:00</td>\n",
       "    </tr>\n",
       "    <tr>\n",
       "      <th>4</th>\n",
       "      <td>simclr</td>\n",
       "      <td>SimCLR</td>\n",
       "      <td>2022-11-03 00:00:00</td>\n",
       "    </tr>\n",
       "    <tr>\n",
       "      <th>5</th>\n",
       "      <td>electra</td>\n",
       "      <td>ElectraEn</td>\n",
       "      <td>2022-11-03 00:00:00</td>\n",
       "    </tr>\n",
       "    <tr>\n",
       "      <th>6</th>\n",
       "      <td>clip</td>\n",
       "      <td>CLIP</td>\n",
       "      <td>2022-11-03 00:00:00</td>\n",
       "    </tr>\n",
       "    <tr>\n",
       "      <th>7</th>\n",
       "      <td>wav2vec2</td>\n",
       "      <td>Wav2Vec2En</td>\n",
       "      <td>2022-11-03 00:00:00</td>\n",
       "    </tr>\n",
       "    <tr>\n",
       "      <th>8</th>\n",
       "      <td>sbert_ko</td>\n",
       "      <td>SBERTKo</td>\n",
       "      <td>2022-11-03 00:00:00</td>\n",
       "    </tr>\n",
       "    <tr>\n",
       "      <th>9</th>\n",
       "      <td>vilt</td>\n",
       "      <td>ViLT</td>\n",
       "      <td>2022-11-03 00:00:00</td>\n",
       "    </tr>\n",
       "  </tbody>\n",
       "</table>\n",
       "</div>"
      ],
      "text/plain": [
       "        name  class_name     last_updated_utc\n",
       "0   sbert_en     SBERTEn  2022-11-03 00:00:00\n",
       "1      xclip       XCLIP  2022-11-03 00:00:00\n",
       "2  whisper_l     Whisper  2022-11-03 00:00:00\n",
       "3  whisper_s     Whisper  2022-11-03 00:00:00\n",
       "4     simclr      SimCLR  2022-11-03 00:00:00\n",
       "5    electra   ElectraEn  2022-11-03 00:00:00\n",
       "6       clip        CLIP  2022-11-03 00:00:00\n",
       "7   wav2vec2  Wav2Vec2En  2022-11-03 00:00:00\n",
       "8   sbert_ko     SBERTKo  2022-11-03 00:00:00\n",
       "9       vilt        ViLT  2022-11-03 00:00:00"
      ]
     },
     "execution_count": 4,
     "metadata": {},
     "output_type": "execute_result"
    }
   ],
   "source": [
    "%%thanosql\n",
    "LIST THANOSQL MODEL"
   ]
  }
 ],
 "metadata": {
  "kernelspec": {
   "display_name": "Python 3",
   "language": "python",
   "name": "python3"
  },
  "language_info": {
   "codemirror_mode": {
    "name": "ipython",
    "version": 3
   },
   "file_extension": ".py",
   "mimetype": "text/x-python",
   "name": "python",
   "nbconvert_exporter": "python",
   "pygments_lexer": "ipython3",
   "version": "3.8.10"
  },
  "vscode": {
   "interpreter": {
    "hash": "aee8b7b246df8f9039afb4144a1f6fd8d2ca17a180786b69acc140d282b71a49"
   }
  }
 },
 "nbformat": 4,
 "nbformat_minor": 5
}
