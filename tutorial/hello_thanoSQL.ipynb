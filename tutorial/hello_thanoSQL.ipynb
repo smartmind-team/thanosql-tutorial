{
 "cells": [
  {
   "cell_type": "markdown",
   "id": "d7619d53-33a7-480a-91ec-dff71eefd99f",
   "metadata": {
    "tags": []
   },
   "source": [
    "# __Hello ThanoSQL!__\n",
    "\n",
    "ThanoSQL은 정형과 비정형 데이터 모두 SQL 만으로 쿼리(Query, 질의)와 AI(인공지능) 모델링이 가능한 통합 플랫폼입니다. RDB(Relational DataBase, 관계형 데이터베이스), AI 그리고 Big Data Platform의 기능을 하나의 플랫폼에서 적용할 수 있으며 AI 기반의 디지털 전환 시 발생하는 비효율성을 획기적으로 줄일 수 있습니다.\n",
    "\n",
    "- ThanoSQL은 정형과 비정형 데이터 모두 SQL만으로 쿼리가 가능하며, 빠른 AI 모델링이 가능합니다.\n",
    "- 람다 아키텍처 기반의 비정형 빅데이터 플랫폼을 ThanoSQL 하나로 대체하여 개발, 배포 그리고 운영을 하나의 프로세스로 가능하게 합니다.\n",
    "- 빅데이터 처리 및 분산 병렬처리 기술을 기반으로 하여 기존 대비 2배 이상 빠르게 데이터 처리가 가능합니다.\n",
    "\n",
    "## __ThanoSQL 워크스페이스 사용__\n",
    "ThanoSQL의 워크스페이스는 [Jupyter Lab](https://github.com/jupyterlab/jupyterlab)을 기반으로 하는 웹 기반 컴퓨팅 환경입니다.\n",
    "\n",
    "이 환경에서 `ThanoSQL`을 본격적으로 사용하기 위해서는 먼저 `thanosql` cell magic을 불러와야 합니다.\n",
    "\n",
    "(상단의 실행 버튼을 누르거나, `Ctrl + Enter` 혹은 `Shift + Enter` 단축키로도 실행할 수 있습니다.)"
   ]
  },
  {
   "cell_type": "code",
   "execution_count": null,
   "id": "99673df8-293d-41ee-8f43-d6ffe3739f90",
   "metadata": {
    "tags": []
   },
   "outputs": [],
   "source": [
    "%load_ext thanosql"
   ]
  },
  {
   "cell_type": "markdown",
   "id": "7d421d64-ae65-43be-bc15-c31c036079fb",
   "metadata": {},
   "source": [
    "다음으로, 각 사용자의 워크스페이스 API_TOKEN 설정을 위해 브라우저 상단의 `Get API_TOKEN` 버튼을 누른 후 붙여넣기하여 설정해줍니다.\n",
    "\n",
    "```\n",
    "%thanosql API_TOKEN=<발급받은_API_TOKEN>\n",
    "\n",
    "예시)\n",
    "%thanosql API_TOKEN=eyJhbGciOiJIUzI1NiIsInR..\n",
    "```"
   ]
  },
  {
   "cell_type": "code",
   "execution_count": null,
   "id": "68fbbf28-ac43-4a46-93ff-89ece6ccab31",
   "metadata": {
    "tags": []
   },
   "outputs": [],
   "source": [
    "%thanosql API_TOKEN=<발급받은_API_TOKEN>"
   ]
  },
  {
   "cell_type": "markdown",
   "id": "80527c2b-c636-420d-97e0-e2fb4f7dc38d",
   "metadata": {},
   "source": [
    "`ThanoSQL`을 사용할 모든 준비가 끝났습니다.\n",
    "\n",
    "아래 ThanoSQL문을 실행시키면 Pre-built된 ThanoSQL 모델 목록을 확인 할 수 있습니다."
   ]
  },
  {
   "cell_type": "code",
   "execution_count": null,
   "id": "702ea2c1-fbd5-4de1-a190-5a1e841f9d11",
   "metadata": {
    "tags": []
   },
   "outputs": [],
   "source": [
    "%%thanosql\n",
    "LIST THANOSQL MODEL"
   ]
  },
  {
   "cell_type": "markdown",
   "id": "a040eed0-d41c-4dbf-be46-ff1a60695910",
   "metadata": {},
   "source": [
    "더 많은 ThanoSQL 사용법과 Tutorial은 ThanoSQL 기술 문서에서 확인하세요."
   ]
  }
 ],
 "metadata": {
  "kernelspec": {
   "display_name": "Python 3 (ipykernel)",
   "language": "python",
   "name": "python3"
  },
  "language_info": {
   "codemirror_mode": {
    "name": "ipython",
    "version": 3
   },
   "file_extension": ".py",
   "mimetype": "text/x-python",
   "name": "python",
   "nbconvert_exporter": "python",
   "pygments_lexer": "ipython3",
   "version": "3.9.12"
  }
 },
 "nbformat": 4,
 "nbformat_minor": 5
}
