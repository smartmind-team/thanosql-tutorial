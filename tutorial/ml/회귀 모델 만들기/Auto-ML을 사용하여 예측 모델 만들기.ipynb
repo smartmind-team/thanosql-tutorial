{
 "cells": [
  {
   "cell_type": "markdown",
   "id": "edec260f-4232-4817-a035-fe3533030be1",
   "metadata": {},
   "source": [
    "# __Auto-ML을 사용하여 예측 모델 만들기__"
   ]
  },
  {
   "cell_type": "markdown",
   "id": "1663f276",
   "metadata": {},
   "source": [
    "## 시작 전 사전정보\n",
    "\n",
    "- 튜토리얼 난이도 : ★☆☆☆☆\n",
    "- 읽는 시간 : 5분\n",
    "- 사용 언어 : [SQL](https://ko.wikipedia.org/wiki/SQL) (100%)\n",
    "- 실행 파일 위치 : tutorial/ml/회귀 모델 만들기/Auto-ML을 사용하여 예측 모델 만들기.ipynb\n",
    "- 참고 문서 : [(캐글) Bike Sharing Demand](https://www.kaggle.com/competitions/bike-sharing-demand/overview)"
   ]
  },
  {
   "cell_type": "markdown",
   "id": "ee7afe15-fd61-4239-ac84-1e03043de750",
   "metadata": {},
   "source": [
    "## 튜토리얼 소개\n",
    "\n",
    "\n",
    "회귀 작업은 목푯값(Target)이 연속성을 지닌 숫자를 예측하기 위해 사용하는 [머신러닝(기계학습/Machine Learning)](https://ko.wikipedia.org/wiki/%EA%B8%B0%EA%B3%84_%ED%95%99%EC%8A%B5)의 한 형태입니다. 예를 들어, 기상 데이터가 주어졌을 때 내일 기온을 예측하거나, 특정지역의 집값을 예측할 때 사용할 수 있습니다. \n",
    "\n",
    "기업이 특정 금액을 광고에 사용할 경우 과거의 유사한 사례의 판매 성과 데이터를 활용하여 광고의 성과를 예측할 수 있습니다. 광고하고자 하는 제품에 대한 특성부터 제품을 판매하는 시기, 주변 시장 정보, 경쟁사의 판매량 정보, 대상 고객군에 대한 정의, 산업군의 시장 트렌드 등 데이터화 할 수 있는 모든 [특성(Feature)](https://ko.wikipedia.org/wiki/%ED%8A%B9%EC%A7%95_(%EA%B8%B0%EA%B3%84_%ED%95%99%EC%8A%B5))이 입력자료가 될 수 있습니다. 입력 데이터에서 통제 가능한 정보를 바꿔가면서 최적의 판매성과를 예측해 볼 수 있고 예측성과에 따라 광고에 소비할 비용을 조정할 수도 있습니다. 이러한 회귀 모델을 이용해서 광고 성과를 향상시키고 판매량을 지속적으로 늘릴 수 있습니다. \n",
    "\n",
    "__아래는 ThanoSQL 회귀 모델의 활용 및 예시입니다.__ \n",
    "\n",
    " - 주식의 시가, 종가, 고가, 저가, 관련주 주가, 종합주가지수, 관련뉴스 등을 활용한 주식가격 예측 (금융)\n",
    " - 기기/설비의 온도, 진동, 소리 등 센서데이터를 이용한 고장 확률 및 잔존 수명 예측 (제조)\n",
    " - 날씨, 기온, 운량, 일사량 등을 활용한 태양광 에너지 발전량 예측 (에너지)\n",
    " - 과거 수요량 트렌드, 유가 및 환율 변동 등을 활용한 수요예측 (원자재) <br>\n",
    "\n",
    "대표적인 머신러닝 경진대회 플랫폼인 [캐글](https://www.kaggle.com/)의 입문자를 위한 <mark style=\"background-color:#FFD79C\">__Bike Sharing Demand__</mark> 데이터 세트를 사용하여 자전거 수요 예측 회귀 모델을 만듭니다. 이 대회의 목표는 아래와 같습니다. (참고로, 해당 대회의 데이터는 2011년부터 2012년까지 날짜와 시간, 기온, 습도, 풍속 등의 정보를 기반으로 자전거 대여 횟수가 기재되어 있습니다.)\n",
    "\n",
    "__특정 날짜에서 시간대별 자전거 대여 수량 예측하기__\n",
    "\n",
    "ThanoSQL에서는 자동화된 머신러닝(__Auto-ML__)을 도구로 제공합니다. 본 튜토리얼에서는 Auto-ML을 사용하여 자전거 대여 수량을 예측합니다. ThanoSQL에서 제공하는 Auto-ML은 모델(Model)개발을 위한 프로세스를 자동화하고, 데이터 과학(Data Science)에 대한 전문지식이 없어도 데이터의 수집 및 저장, 머신러닝 모델의 개발 및 배포(엔드투엔드 머신러닝 파이프라인)를 하나의 언어(__ThanoSQL__)만으로도 가능하도록 지원합니다.\n",
    "\n",
    "__ThanoSQL의 자동화 된 머신러닝을 사용하면 다음과 같은 장점이 있습니다.__\n",
    "\n",
    "1. 광범위한 프로그래밍 또는 데이터과학에 대한 지식이 없어도 머신러닝 솔루션의 구현 및 배포가 가능\n",
    "2. 개발모델의 배포에 들어가는 시간 및 리소스를 절약\n",
    "3. 의사결정을 위해 보유하고 있는 데이터를 이용한 신속한 문제해결이 가능\n",
    "\n",
    "이제부터 ThanoSQL을 사용하여 간단하게 자전거 대여 수량을 예측하는 회귀 모델을 만들어 봅니다."
   ]
  },
  {
   "cell_type": "markdown",
   "id": "a68baaf7-ca66-4c0d-bd36-d6066ed22127",
   "metadata": {},
   "source": [
    "## __0. 데이터 세트 준비__\n",
    "\n",
    "ThanoSQL의 쿼리 구문을 사용하기 위해서는 Docs의 ThanoSQL 워크스페이스\n",
    "에서 언급된 것처럼 API 토큰을 생성하고 아래의 쿼리를 실행해야 합니다."
   ]
  },
  {
   "cell_type": "code",
   "execution_count": null,
   "id": "f543db2d-a192-41e9-878b-bfc3b67d0d6e",
   "metadata": {},
   "outputs": [],
   "source": [
    "%load_ext thanosql\n",
    "%thanosql API_TOKEN=<발급받은_API_TOKEN>"
   ]
  },
  {
   "cell_type": "code",
   "execution_count": null,
   "id": "5e344e20-54ab-4c3c-948f-e17fa95ed54a",
   "metadata": {
    "tags": []
   },
   "outputs": [],
   "source": [
    "%%thanosql\n",
    "COPY bike_sharing_train \n",
    "OPTIONS (overwrite=True)\n",
    "FROM \"tutorial_data/bike_sharing_data/bike_sharing_train.csv\""
   ]
  },
  {
   "cell_type": "code",
   "execution_count": null,
   "id": "c262d2e6-d486-4128-92f6-4c998653bee8",
   "metadata": {
    "tags": []
   },
   "outputs": [],
   "source": [
    "%%thanosql\n",
    "COPY bike_sharing_test \n",
    "OPTIONS (overwrite=True)\n",
    "FROM \"tutorial_data/bike_sharing_data/bike_sharing_test.csv\""
   ]
  },
  {
   "cell_type": "markdown",
   "id": "ca05c715",
   "metadata": {},
   "source": [
    "\"__쿼리 세부 정보__\"\n",
    "- \"__COPY__\" 쿼리 구문을 사용하여 DB에 저장 할 데이터 세트명을 지정합니다. \n",
    "- \"__OPTIONS__\" 쿼리 구문을 통해 __COPY__ 에 사용할 옵션을 지정합니다.\n",
    "    - \"overwrite\" : 동일 이름의 데이터 세트가 DB상에 존재하는 경우 덮어쓰기 가능 유무 설정. True일 경우 기존 데이터 세트는 새로운 데이터 세트로 변경됨 (True|False, DEFAULT : False)"
   ]
  },
  {
   "cell_type": "markdown",
   "id": "6a0f8d6e-a01f-4d17-bbcf-e1aac3509e12",
   "metadata": {},
   "source": [
    "## __1. 데이터 세트 확인__\n",
    "\n",
    "본 튜토리얼을 진행하기 위해 우리는 ThanoSQL DB에 저장되어 있는 <mark style=\"background-color:#FFEC92 \">bike_sharing_train</mark> 테이블을 사용합니다. 아래의 쿼리문을 실행하여 테이블 내용을 확인합니다."
   ]
  },
  {
   "cell_type": "code",
   "execution_count": null,
   "id": "2727e422-7a05-4a4e-91cb-6036c22cea51",
   "metadata": {},
   "outputs": [],
   "source": [
    "%%thanosql\n",
    "SELECT * \n",
    "FROM bike_sharing_train \n",
    "LIMIT 5"
   ]
  },
  {
   "cell_type": "markdown",
   "id": "c477e2d6",
   "metadata": {},
   "source": [
    "\"__데이터 이해하기__\"\n",
    "    <mark style=\"background-color:#FFEC92 \">__bike_sharing_train__</mark> 데이터 세트에는 2011년 1월부터 2012년 12월까지 날짜와 시간, 기온, 습도, 풍속 등의 정보를 기반으로 1시간 간격 동안의 자전거 대여 횟수에 대한 정보를 담고 있습니다.  \n",
    "    - <mark style=\"background-color:#D7D0FF \">datetime</mark> : 시간별 날짜  \n",
    "    - <mark style=\"background-color:#D7D0FF \">season</mark> : 계절(1 = 봄, 2 = 여름, 3 = 가을, 4 = 겨울)  \n",
    "    - <mark style=\"background-color:#D7D0FF \">holiday</mark> : 휴일(0 = 휴일이 아닌 날, 1 = 주말을 제외한 국경일 등의 휴일)  \n",
    "    - <mark style=\"background-color:#D7D0FF \">workingday</mark> : 작업일(0 = 주말 및 휴일, 1 = 주말 및 휴일이 아닌 주중)  \n",
    "    - <mark style=\"background-color:#D7D0FF \">weather</mark> : 날씨  \n",
    "    - <mark style=\"background-color:#D7D0FF \">temp</mark> : 온도  \n",
    "    - <mark style=\"background-color:#D7D0FF \">atemp</mark> : 체감온도  \n",
    "    - <mark style=\"background-color:#D7D0FF \">humidity</mark> : 상대습도  \n",
    "    - <mark style=\"background-color:#D7D0FF \">windspeed</mark> : 풍속  \n",
    "    - <mark style=\"background-color:#D7D0FF \">count</mark> : 대여 횟수"
   ]
  },
  {
   "cell_type": "markdown",
   "id": "77cd13e0-9820-45d3-8d81-7f84d6789942",
   "metadata": {},
   "source": [
    "## __2. 회귀 모델 생성__\n",
    "\n",
    "이전 단계에서 확인한 <mark style=\"background-color:#FFEC92 \">__bike_sharing_train__</mark> 데이터 세트를 사용하여 자전거 수요 예측 회귀 모델을 만듭니다. 아래의 쿼리 구문을 실행하여 <mark style=\"background-color:#E9D7FD \">bike_regression</mark>이라는 이름의 모델을 만듭니다.  \n",
    "(쿼리 실행 시 예상 소요 시간 : 8 min)"
   ]
  },
  {
   "cell_type": "code",
   "execution_count": null,
   "id": "a019d5be-b11a-43e3-8213-c02d3c1ec49e",
   "metadata": {
    "tags": []
   },
   "outputs": [],
   "source": [
    "%%thanosql\n",
    "BUILD MODEL bike_regression\n",
    "USING AutomlRegressor\n",
    "OPTIONS (\n",
    "    target='count', \n",
    "    impute_type='simple', \n",
    "    datetime_attribs=['datetime'],\n",
    "    time_left_for_this_task = 300,\n",
    "    overwrite = True\n",
    "    ) \n",
    "AS\n",
    "SELECT *\n",
    "FROM bike_sharing_train"
   ]
  },
  {
   "cell_type": "markdown",
   "id": "14b85130",
   "metadata": {},
   "source": [
    "\"__쿼리 세부 정보__\"\n",
    "- \"__BUILD MODEL__\" 쿼리 구문을 사용하여 <mark style=\"background-color:#E9D7FD \">bike_regression</mark>라는 모델을 만들고 학습시킵니다. \n",
    "- \"__OPTIONS__\" 쿼리 구문을 통해 모델 생성에 사용할 옵션을 지정합니다. \n",
    "    - \"target\" : 회귀 예측 모델의 목푯값이 담겨 있는 컬럼명\n",
    "    - \"impute_type\" : 데이터 테이블의 빈 값(NaN)을 처리하는 방법 설정 ('simple'|'iterative' , DEFAULT : 'simple')        \n",
    "    - \"datetime_attribs\" : 날짜 형식의 데이터가 담겨 있는 컬럼명 리스트\n",
    "    - \"time_left_for_this_task\" : 적합한 회귀 예측 모델을 찾는데 소요되는 시간 (DEFAULT : 300)\n",
    "    - \"overwrite\" : 동일 이름의 모델이 존재하는 경우 덮어쓰기 가능 유무 설정. True일 경우 기존 모델은 새로운 모델로 변경됨 (True|False, DEFAULT : False) \n",
    "\n",
    "\n",
    "Auto-ML 회귀 예측 모델 생성시 Docs의 OPTIONS 내에 명시된 파라미터 외 다른 파라미터 사용시 모델 생성은 될 수 있으나 설정한 값들은 모두 무시 됩니다."
   ]
  },
  {
   "cell_type": "markdown",
   "id": "bbb0db7b-2c2a-4c8e-b475-7c908a16b7ba",
   "metadata": {},
   "source": [
    "## __3. 생성된 모델 평가__\n",
    "\n",
    "아래의 쿼리문을 실행하여 이전 단계에서 만든 예측 모델의 성능을 평가합니다."
   ]
  },
  {
   "cell_type": "code",
   "execution_count": null,
   "id": "16f3413b-c5b0-419b-a09e-da2874b15d32",
   "metadata": {},
   "outputs": [],
   "source": [
    "%%thanosql\n",
    "EVALUATE USING bike_regression \n",
    "OPTIONS (\n",
    "    target='count'\n",
    "    ) \n",
    "AS\n",
    "SELECT *\n",
    "FROM bike_sharing_train"
   ]
  },
  {
   "cell_type": "markdown",
   "id": "48d3f16d",
   "metadata": {},
   "source": [
    "\"__쿼리 세부 정보__\"\n",
    "- \"__EVALUATE USING__\" 쿼리 구문을 사용하여 구축한 <mark style=\"background-color:#E9D7FD \">bike_regression</mark> 모델을 평가합니다. \n",
    "- \"__OPTIONS__\" 쿼리 구문을 사용하여 평가에 사용할 옵션을 지정합니다.\n",
    "    - \"target\" : 회귀 예측 모델의 목푯값이 담겨있는 컬럼명"
   ]
  },
  {
   "cell_type": "markdown",
   "id": "8b266f94-363e-46bc-a6fd-77898bbc0804",
   "metadata": {},
   "source": [
    "## __4. 생성된 모델을 사용하여 자전거 대여 수량 예측__\n",
    "\n",
    "이전 단계에서 만든 수요 예측 모델로 테스트용 데이터 세트(학습에 이용되지 않은 데이터 테이블, <mark style=\"background-color:#FFEC92 \">bike_shaing_test</mark>)에 있는 10개의 데이터에 대한 자전거 대여 수량을 예측해 봅니다."
   ]
  },
  {
   "cell_type": "code",
   "execution_count": null,
   "id": "6769745c-45bd-42d9-ac50-b551c11a96b1",
   "metadata": {},
   "outputs": [],
   "source": [
    "%%thanosql\n",
    "PREDICT USING bike_regression \n",
    "AS\n",
    "SELECT *\n",
    "FROM bike_sharing_test\n",
    "LIMIT 10"
   ]
  },
  {
   "cell_type": "markdown",
   "id": "b2ccc6b9",
   "metadata": {},
   "source": [
    "\"__쿼리 세부 정보__\"  \n",
    "- \"__PREDICT USING__\" 쿼리 구문을 사용하여 <mark style=\"background-color:#E9D7FD \">bike_regression</mark> 모델을 예측에 사용합니다. \n",
    "- \"__PREDICT__\"의 경우 생성된 모델의 절차를 따르기 때문에 특별한 옵션값이 필요없습니다."
   ]
  }
 ],
 "metadata": {
  "kernelspec": {
   "display_name": "Python 3 (ipykernel)",
   "language": "python",
   "name": "python3"
  },
  "language_info": {
   "codemirror_mode": {
    "name": "ipython",
    "version": 3
   },
   "file_extension": ".py",
   "mimetype": "text/x-python",
   "name": "python",
   "nbconvert_exporter": "python",
   "pygments_lexer": "ipython3",
   "version": "3.9.12"
  },
  "vscode": {
   "interpreter": {
    "hash": "1e1bc7e99b2f95d9f5252b41d6fcfb61f279cf1cd0f9acb6930626c23d06a5aa"
   }
  }
 },
 "nbformat": 4,
 "nbformat_minor": 5
}
