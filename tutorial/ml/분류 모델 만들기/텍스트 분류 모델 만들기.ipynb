{
 "cells": [
  {
   "cell_type": "markdown",
   "id": "6cfd2a8c-fdfc-4233-abd1-ece097069522",
   "metadata": {},
   "source": [
    "# __텍스트 분류 모델 만들기__\n",
    "\n",
    "**분류 작업 이해하기** \n",
    "--- \n",
    "👉 분류 작업은 목표값(Target)이 속한 범주(Category 또는 Class)를 예측하기 위해 사용하는 머신러닝(기계학습/Machine Learning)의 한 형태입니다. 예를 들어, 남성 또는 여성을 분류하는 이진 분류와 동물의 종(개, 고양이, 토끼 등)을 예측하는 다중 분류 모두 분류 작업에 포함됩니다.\n",
    "\n",
    "**자연어 처리(NLP, Natural Language Processing)란** \n",
    "--- \n",
    "NLP는 작업의 목적에 따라 자연어 이해(NLU, Natural Language Understanding)와 자연어 생성(NLG, Natural Language Generation)으로 분류할 수 있습니다. 자연어 이해는 사람이 이해하는 자연어를 컴퓨터가 이해할 수 있는 값으로 바꾸는 처리를 의미합니다. 반면에 자연어 생성은 더 나아가 컴퓨터가 이해할 수 있는 값을 사람이 이해하도록 자연어로 바꾸는 과정을 의미합니다.\n",
    "\n",
    "**본 튜토리얼에서는**\n",
    "--- \n",
    "👉 대표적인 머신러닝 경진대회 플랫폼인 캐글의 IMDB Movie Reviews 데이터 세트를 사용하여 영화 리뷰의 감정을 분류하는 모델을 만듭니다. 이 데이터 세트는 50,000 개의 영화 리뷰 텍스트와 긍정 또는 부정 감정에 대한 목표값(Target)으로 구성되어 있습니다. 영화 평점을 기준으로 5보다 작은 값을 부정, 7보다 큰 값을 긍정으로 표현하였으며 각 개별 영화는 30 개 이상의 리뷰 결과를 갖지 않습니다.\n",
    "\n",
    "__튜토리얼 주의사항__    \n",
    "> - 텍스트 분류 모델은 하나의 텍스트에서 하나의 목표값(Target, 범주)를 예측하는 용도로 사용할 수 있습니다.\n",
    "> - 텍스트를 나타내는 컬럼과, 텍스트의 목표값을 나타내는 컬럼이 존재해야 합니다.\n",
    "> - 해당 텍스트 분류 모델의 베이스 모델(`ELECTRA`)은 GPU를 사용합니다. 사용한 모델의 크기와 배치 사이즈에 따라 GPU 메모리가 부족할 수 있습니다. 이 경우, 더 작은 모델을 사용하시거나 배치 사이즈를 줄여보십시오."
   ]
  },
  {
   "cell_type": "markdown",
   "id": "da62c91d-d726-4a7a-96b8-4a52b84b372a",
   "metadata": {},
   "source": [
    "## __0. 데이터 준비하기__"
   ]
  },
  {
   "cell_type": "markdown",
   "id": "f3b31e83",
   "metadata": {},
   "source": [
    "ThanoSQL의 쿼리 구문을 사용하기 위해서는 [ThanoSQL 워크스페이스](https://docs.thanosql.ai/quick_start/how_to_use_ThanoSQL/#5-thanosql)\n",
    "에서 언급된 것처럼 API 토큰을 생성하고 아래의 쿼리를 실행해야 합니다.   "
   ]
  },
  {
   "cell_type": "code",
   "execution_count": null,
   "id": "673f3d5d-8e1d-4fbd-ae09-3b8868957d31",
   "metadata": {},
   "outputs": [],
   "source": [
    "%load_ext thanosql\n",
    "%thanosql API_TOKEN=<발급받은 개인 토큰>"
   ]
  },
  {
   "cell_type": "code",
   "execution_count": 2,
   "id": "be768992-c5db-416a-803d-0e90bb42fbcd",
   "metadata": {},
   "outputs": [
    {
     "name": "stdout",
     "output_type": "stream",
     "text": [
      "Success\n"
     ]
    }
   ],
   "source": [
    "%%thanosql\n",
    "COPY movie_review_train FROM \"tutorial_data/movie_review_data/movie_review_train.csv\""
   ]
  },
  {
   "cell_type": "code",
   "execution_count": 3,
   "id": "418d182d-db65-4865-b128-869baab37523",
   "metadata": {},
   "outputs": [
    {
     "name": "stdout",
     "output_type": "stream",
     "text": [
      "Success\n"
     ]
    }
   ],
   "source": [
    "%%thanosql\n",
    "COPY movie_review_test FROM \"tutorial_data/movie_review_data/movie_review_test.csv\""
   ]
  },
  {
   "cell_type": "markdown",
   "id": "e557a156-1075-41df-b19f-ff0812a14b4c",
   "metadata": {},
   "source": [
    "## __1. 데이터 세트 확인__\n",
    "\n",
    "영화 리뷰 감정 분류 모델을 만들기 위해 우리는 ThanoSQL DB에 저장되어 있는 movie_review_train 테이블을 사용합니다. 아래의 쿼리문을 실행하여 테이블 내용을 확인합니다."
   ]
  },
  {
   "cell_type": "code",
   "execution_count": 4,
   "id": "49d801df-54d2-4809-bbed-69b2818e9cec",
   "metadata": {},
   "outputs": [
    {
     "data": {
      "text/html": [
       "<div>\n",
       "<style scoped>\n",
       "    .dataframe tbody tr th:only-of-type {\n",
       "        vertical-align: middle;\n",
       "    }\n",
       "\n",
       "    .dataframe tbody tr th {\n",
       "        vertical-align: top;\n",
       "    }\n",
       "\n",
       "    .dataframe thead th {\n",
       "        text-align: right;\n",
       "    }\n",
       "</style>\n",
       "<table border=\"1\" class=\"dataframe\">\n",
       "  <thead>\n",
       "    <tr style=\"text-align: right;\">\n",
       "      <th></th>\n",
       "      <th>review</th>\n",
       "      <th>sentiment</th>\n",
       "    </tr>\n",
       "  </thead>\n",
       "  <tbody>\n",
       "    <tr>\n",
       "      <th>0</th>\n",
       "      <td>This is the kind of movie that BEGS to be show...</td>\n",
       "      <td>negative</td>\n",
       "    </tr>\n",
       "    <tr>\n",
       "      <th>1</th>\n",
       "      <td>Bulletproof is quite clearly a disposable film...</td>\n",
       "      <td>negative</td>\n",
       "    </tr>\n",
       "    <tr>\n",
       "      <th>2</th>\n",
       "      <td>A beautiful shopgirl in London is swept off he...</td>\n",
       "      <td>positive</td>\n",
       "    </tr>\n",
       "    <tr>\n",
       "      <th>3</th>\n",
       "      <td>VERY dull, obvious, tedious Exorcist rip-off f...</td>\n",
       "      <td>negative</td>\n",
       "    </tr>\n",
       "    <tr>\n",
       "      <th>4</th>\n",
       "      <td>Do we really need any more narcissistic garbag...</td>\n",
       "      <td>negative</td>\n",
       "    </tr>\n",
       "  </tbody>\n",
       "</table>\n",
       "</div>"
      ],
      "text/plain": [
       "                                              review sentiment\n",
       "0  This is the kind of movie that BEGS to be show...  negative\n",
       "1  Bulletproof is quite clearly a disposable film...  negative\n",
       "2  A beautiful shopgirl in London is swept off he...  positive\n",
       "3  VERY dull, obvious, tedious Exorcist rip-off f...  negative\n",
       "4  Do we really need any more narcissistic garbag...  negative"
      ]
     },
     "execution_count": 4,
     "metadata": {},
     "output_type": "execute_result"
    }
   ],
   "source": [
    "%%thanosql\n",
    "SELECT *\n",
    "FROM movie_review_train\n",
    "LIMIT 5"
   ]
  },
  {
   "cell_type": "markdown",
   "id": "35132dce",
   "metadata": {},
   "source": [
    "__데이터 이해하기__ \n",
    "- review : 영화 리뷰 텍스트 \n",
    "- sentiment : 해당 리뷰가 긍정적인지(positive), 부정적인지(negative)를 나타내는 목표값(Target)"
   ]
  },
  {
   "cell_type": "markdown",
   "id": "d7c83528-ebc6-4a88-a29f-31afc0516935",
   "metadata": {},
   "source": [
    "## __2. 사전 학습된 모델을 사용하여 영화 리뷰 감정 분류 결과 예측__\n",
    "\n",
    "먼저 저희가 사전에 학습해둔 모델로 바로 결과를 예측해보겠습니다. 다음 쿼리문을 실행하면 tutorial_text_classification 모델을 사용하여 영화 리뷰 분류 결과를 예측해볼 수 있습니다."
   ]
  },
  {
   "cell_type": "code",
   "execution_count": 5,
   "id": "ae7a9324-9c5e-4be4-a933-8774bbdd01c9",
   "metadata": {},
   "outputs": [
    {
     "data": {
      "text/html": [
       "<div>\n",
       "<style scoped>\n",
       "    .dataframe tbody tr th:only-of-type {\n",
       "        vertical-align: middle;\n",
       "    }\n",
       "\n",
       "    .dataframe tbody tr th {\n",
       "        vertical-align: top;\n",
       "    }\n",
       "\n",
       "    .dataframe thead th {\n",
       "        text-align: right;\n",
       "    }\n",
       "</style>\n",
       "<table border=\"1\" class=\"dataframe\">\n",
       "  <thead>\n",
       "    <tr style=\"text-align: right;\">\n",
       "      <th></th>\n",
       "      <th>review</th>\n",
       "      <th>sentiment</th>\n",
       "      <th>predicted</th>\n",
       "    </tr>\n",
       "  </thead>\n",
       "  <tbody>\n",
       "    <tr>\n",
       "      <th>0</th>\n",
       "      <td>I read the book before seeing the movie, and t...</td>\n",
       "      <td>positive</td>\n",
       "      <td>positive</td>\n",
       "    </tr>\n",
       "    <tr>\n",
       "      <th>1</th>\n",
       "      <td>\"9/11,\" hosted by Robert DeNiro, presents foot...</td>\n",
       "      <td>positive</td>\n",
       "      <td>positive</td>\n",
       "    </tr>\n",
       "    <tr>\n",
       "      <th>2</th>\n",
       "      <td>Yesterday I attended the world premiere of \"De...</td>\n",
       "      <td>positive</td>\n",
       "      <td>positive</td>\n",
       "    </tr>\n",
       "    <tr>\n",
       "      <th>3</th>\n",
       "      <td>Moonwalker is a Fantasy Music film staring Mic...</td>\n",
       "      <td>positive</td>\n",
       "      <td>positive</td>\n",
       "    </tr>\n",
       "    <tr>\n",
       "      <th>4</th>\n",
       "      <td>Welcome to Oakland, where the dead come out to...</td>\n",
       "      <td>positive</td>\n",
       "      <td>positive</td>\n",
       "    </tr>\n",
       "    <tr>\n",
       "      <th>...</th>\n",
       "      <td>...</td>\n",
       "      <td>...</td>\n",
       "      <td>...</td>\n",
       "    </tr>\n",
       "    <tr>\n",
       "      <th>995</th>\n",
       "      <td>I remember catching this movie on one of the S...</td>\n",
       "      <td>negative</td>\n",
       "      <td>negative</td>\n",
       "    </tr>\n",
       "    <tr>\n",
       "      <th>996</th>\n",
       "      <td>CyberTracker is set in Los Angeles sometime in...</td>\n",
       "      <td>negative</td>\n",
       "      <td>negative</td>\n",
       "    </tr>\n",
       "    <tr>\n",
       "      <th>997</th>\n",
       "      <td>There is so much that is wrong with this film,...</td>\n",
       "      <td>negative</td>\n",
       "      <td>negative</td>\n",
       "    </tr>\n",
       "    <tr>\n",
       "      <th>998</th>\n",
       "      <td>I am a firm believer that a film, TV serial or...</td>\n",
       "      <td>positive</td>\n",
       "      <td>positive</td>\n",
       "    </tr>\n",
       "    <tr>\n",
       "      <th>999</th>\n",
       "      <td>I think vampire movies (usually) are wicked. E...</td>\n",
       "      <td>negative</td>\n",
       "      <td>negative</td>\n",
       "    </tr>\n",
       "  </tbody>\n",
       "</table>\n",
       "<p>1000 rows × 3 columns</p>\n",
       "</div>"
      ],
      "text/plain": [
       "                                                review sentiment predicted\n",
       "0    I read the book before seeing the movie, and t...  positive  positive\n",
       "1    \"9/11,\" hosted by Robert DeNiro, presents foot...  positive  positive\n",
       "2    Yesterday I attended the world premiere of \"De...  positive  positive\n",
       "3    Moonwalker is a Fantasy Music film staring Mic...  positive  positive\n",
       "4    Welcome to Oakland, where the dead come out to...  positive  positive\n",
       "..                                                 ...       ...       ...\n",
       "995  I remember catching this movie on one of the S...  negative  negative\n",
       "996  CyberTracker is set in Los Angeles sometime in...  negative  negative\n",
       "997  There is so much that is wrong with this film,...  negative  negative\n",
       "998  I am a firm believer that a film, TV serial or...  positive  positive\n",
       "999  I think vampire movies (usually) are wicked. E...  negative  negative\n",
       "\n",
       "[1000 rows x 3 columns]"
      ]
     },
     "execution_count": 5,
     "metadata": {},
     "output_type": "execute_result"
    }
   ],
   "source": [
    "%%thanosql\n",
    "PREDICT USING tutorial_text_classification\n",
    "OPTIONS (\n",
    "    text_col='review',\n",
    "    label_col='sentiment'\n",
    "    )\n",
    "AS\n",
    "SELECT *\n",
    "FROM movie_review_test"
   ]
  },
  {
   "cell_type": "markdown",
   "id": "e9b4137e-75ad-4bea-bda0-0c7fcdb3b72b",
   "metadata": {},
   "source": [
    "## __3. 텍스트 분류 모델 만들기__\n",
    "\n",
    "이전 단계에서 확인한 movie_review_train 데이터 세트를 사용하여 텍스트 분류 모델을 만듭니다. 아래의 쿼리 구문을 실행하여 my_movie_review_classifier라는 이름의 모델을 만듭니다.\n",
    "\n",
    "(쿼리 실행 시 예상 소요 시간 : 3 min)"
   ]
  },
  {
   "cell_type": "code",
   "execution_count": 6,
   "id": "8ffb0317-476e-409f-baa3-dc562d924e99",
   "metadata": {},
   "outputs": [
    {
     "name": "stdout",
     "output_type": "stream",
     "text": [
      "Success\n"
     ]
    }
   ],
   "source": [
    "%%thanosql\n",
    "BUILD MODEL my_movie_review_classifier\n",
    "USING ElectraEn\n",
    "OPTIONS (\n",
    "    text_col='review',\n",
    "    label_col='sentiment',\n",
    "    epochs=1,\n",
    "    batch_size=4\n",
    "    )\n",
    "AS\n",
    "SELECT *\n",
    "FROM movie_review_train"
   ]
  },
  {
   "cell_type": "markdown",
   "id": "836ffcb0",
   "metadata": {},
   "source": [
    "__쿼리 세부 정보__ \n",
    "- \"__BUILD MODEL__\" 쿼리 구문을 사용하여 <mark style=\"background-color:#E9D7FD \">my_movie_review_classifier</mark>라는 모델을 만들고 학습시킵니다. \n",
    "- \"__USING__\" 쿼리 구문을 통해 베이스 모델로 `ElectraEn`을 사용할 것을 명시합니다. \n",
    "- \"__OPTIONS__\" 쿼리 구문을 통해 모델 생성에 사용할 옵션을 지정합니다. \"text_col\"은 학습에 사용할 텍스트를 담은 컬럼의 이름이며, \"label_col\"은 목표값의 정보를 담은 컬럼의 이름입니다. \"epochs\"를 통해 몇 번의 학습을 반복할 지를 지정합니다. \"batch_size\"는 한 번의 학습에서 읽는 데이터 세트 묶음의 크기입니다."
   ]
  },
  {
   "cell_type": "markdown",
   "id": "d6402263-ff45-45e8-b221-27c1ff97c556",
   "metadata": {},
   "source": [
    "## __4. 생성된 모델을 사용하여 영화 리뷰 감정 분류 결과 예측__\n",
    "\n",
    "이전 단계에서 만든 텍스트 분류 예측 모델을 사용해서 특정 리뷰(학습에 이용되지 않은 데이터 테이블, movie_review_test)의 목표값을 예측해 봅니다."
   ]
  },
  {
   "cell_type": "code",
   "execution_count": 7,
   "id": "530b828d-962c-4115-a417-59ca2c621e98",
   "metadata": {},
   "outputs": [
    {
     "data": {
      "text/html": [
       "<div>\n",
       "<style scoped>\n",
       "    .dataframe tbody tr th:only-of-type {\n",
       "        vertical-align: middle;\n",
       "    }\n",
       "\n",
       "    .dataframe tbody tr th {\n",
       "        vertical-align: top;\n",
       "    }\n",
       "\n",
       "    .dataframe thead th {\n",
       "        text-align: right;\n",
       "    }\n",
       "</style>\n",
       "<table border=\"1\" class=\"dataframe\">\n",
       "  <thead>\n",
       "    <tr style=\"text-align: right;\">\n",
       "      <th></th>\n",
       "      <th>review</th>\n",
       "      <th>sentiment</th>\n",
       "      <th>predicted</th>\n",
       "    </tr>\n",
       "  </thead>\n",
       "  <tbody>\n",
       "    <tr>\n",
       "      <th>0</th>\n",
       "      <td>I read the book before seeing the movie, and t...</td>\n",
       "      <td>positive</td>\n",
       "      <td>positive</td>\n",
       "    </tr>\n",
       "    <tr>\n",
       "      <th>1</th>\n",
       "      <td>\"9/11,\" hosted by Robert DeNiro, presents foot...</td>\n",
       "      <td>positive</td>\n",
       "      <td>positive</td>\n",
       "    </tr>\n",
       "    <tr>\n",
       "      <th>2</th>\n",
       "      <td>Yesterday I attended the world premiere of \"De...</td>\n",
       "      <td>positive</td>\n",
       "      <td>positive</td>\n",
       "    </tr>\n",
       "    <tr>\n",
       "      <th>3</th>\n",
       "      <td>Moonwalker is a Fantasy Music film staring Mic...</td>\n",
       "      <td>positive</td>\n",
       "      <td>positive</td>\n",
       "    </tr>\n",
       "    <tr>\n",
       "      <th>4</th>\n",
       "      <td>Welcome to Oakland, where the dead come out to...</td>\n",
       "      <td>positive</td>\n",
       "      <td>negative</td>\n",
       "    </tr>\n",
       "    <tr>\n",
       "      <th>...</th>\n",
       "      <td>...</td>\n",
       "      <td>...</td>\n",
       "      <td>...</td>\n",
       "    </tr>\n",
       "    <tr>\n",
       "      <th>995</th>\n",
       "      <td>I remember catching this movie on one of the S...</td>\n",
       "      <td>negative</td>\n",
       "      <td>negative</td>\n",
       "    </tr>\n",
       "    <tr>\n",
       "      <th>996</th>\n",
       "      <td>CyberTracker is set in Los Angeles sometime in...</td>\n",
       "      <td>negative</td>\n",
       "      <td>negative</td>\n",
       "    </tr>\n",
       "    <tr>\n",
       "      <th>997</th>\n",
       "      <td>There is so much that is wrong with this film,...</td>\n",
       "      <td>negative</td>\n",
       "      <td>negative</td>\n",
       "    </tr>\n",
       "    <tr>\n",
       "      <th>998</th>\n",
       "      <td>I am a firm believer that a film, TV serial or...</td>\n",
       "      <td>positive</td>\n",
       "      <td>positive</td>\n",
       "    </tr>\n",
       "    <tr>\n",
       "      <th>999</th>\n",
       "      <td>I think vampire movies (usually) are wicked. E...</td>\n",
       "      <td>negative</td>\n",
       "      <td>negative</td>\n",
       "    </tr>\n",
       "  </tbody>\n",
       "</table>\n",
       "<p>1000 rows × 3 columns</p>\n",
       "</div>"
      ],
      "text/plain": [
       "                                                review sentiment predicted\n",
       "0    I read the book before seeing the movie, and t...  positive  positive\n",
       "1    \"9/11,\" hosted by Robert DeNiro, presents foot...  positive  positive\n",
       "2    Yesterday I attended the world premiere of \"De...  positive  positive\n",
       "3    Moonwalker is a Fantasy Music film staring Mic...  positive  positive\n",
       "4    Welcome to Oakland, where the dead come out to...  positive  negative\n",
       "..                                                 ...       ...       ...\n",
       "995  I remember catching this movie on one of the S...  negative  negative\n",
       "996  CyberTracker is set in Los Angeles sometime in...  negative  negative\n",
       "997  There is so much that is wrong with this film,...  negative  negative\n",
       "998  I am a firm believer that a film, TV serial or...  positive  positive\n",
       "999  I think vampire movies (usually) are wicked. E...  negative  negative\n",
       "\n",
       "[1000 rows x 3 columns]"
      ]
     },
     "execution_count": 7,
     "metadata": {},
     "output_type": "execute_result"
    }
   ],
   "source": [
    "%%thanosql\n",
    "PREDICT USING my_movie_review_classifier\n",
    "OPTIONS (\n",
    "    text_col='review'\n",
    "    )\n",
    "AS\n",
    "SELECT *\n",
    "FROM movie_review_test"
   ]
  },
  {
   "cell_type": "markdown",
   "id": "7a27fb64",
   "metadata": {},
   "source": [
    "__쿼리 세부 정보__ \n",
    "- \"PREDICT USING\" 쿼리 구문을 통해 이전 단계에서 만든 my_movie_review_classifier 모델을 예측에 사용합니다. \n",
    "- \"OPTIONS\"를 통해 예측에 사용할 옵션을 지정합니다. review는 예측에 사용할 텍스트를 담은 컬럼의 이름입니다. 예측 결과는 predicted 컬럼에 저장되어 반환됩니다."
   ]
  }
 ],
 "metadata": {
  "kernelspec": {
   "display_name": "Python 3 (ipykernel)",
   "language": "python",
   "name": "python3"
  },
  "language_info": {
   "codemirror_mode": {
    "name": "ipython",
    "version": 3
   },
   "file_extension": ".py",
   "mimetype": "text/x-python",
   "name": "python",
   "nbconvert_exporter": "python",
   "pygments_lexer": "ipython3",
   "version": "3.9.10"
  },
  "toc-autonumbering": false
 },
 "nbformat": 4,
 "nbformat_minor": 5
}
