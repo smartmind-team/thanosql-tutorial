{
 "cells": [
  {
   "cell_type": "markdown",
   "id": "6cfd2a8c-fdfc-4233-abd1-ece097069522",
   "metadata": {},
   "source": [
    "# __텍스트 분류 모델 만들기__"
   ]
  },
  {
   "cell_type": "markdown",
   "id": "da62c91d-d726-4a7a-96b8-4a52b84b372a",
   "metadata": {},
   "source": [
    "## __0. 데이터 준비하기__"
   ]
  },
  {
   "cell_type": "code",
   "execution_count": null,
   "id": "673f3d5d-8e1d-4fbd-ae09-3b8868957d31",
   "metadata": {},
   "outputs": [],
   "source": [
    "%load_ext thanosql\n",
    "%thanosql API_TOKEN={발급받은 개인 토큰}"
   ]
  },
  {
   "cell_type": "code",
   "execution_count": 2,
   "id": "be768992-c5db-416a-803d-0e90bb42fbcd",
   "metadata": {},
   "outputs": [
    {
     "name": "stdout",
     "output_type": "stream",
     "text": [
      "Success\n"
     ]
    }
   ],
   "source": [
    "%%thanosql\n",
    "COPY movie_review_train FROM \"tutorial_data/movie_review_data/movie_review_train.csv\""
   ]
  },
  {
   "cell_type": "code",
   "execution_count": 3,
   "id": "418d182d-db65-4865-b128-869baab37523",
   "metadata": {},
   "outputs": [
    {
     "name": "stdout",
     "output_type": "stream",
     "text": [
      "Success\n"
     ]
    }
   ],
   "source": [
    "%%thanosql\n",
    "COPY movie_review_test FROM \"tutorial_data/movie_review_data/movie_review_test.csv\""
   ]
  },
  {
   "cell_type": "markdown",
   "id": "e557a156-1075-41df-b19f-ff0812a14b4c",
   "metadata": {},
   "source": [
    "## __1. 데이터 세트 확인__\n",
    "\n",
    "영화 리뷰 감정 분류 모델을 만들기 위해 우리는 ThanoSQL DB에 저장되어 있는 movie_review_train 테이블을 사용합니다. 아래의 쿼리문을 실행하여 테이블 내용을 확인합니다."
   ]
  },
  {
   "cell_type": "code",
   "execution_count": 4,
   "id": "49d801df-54d2-4809-bbed-69b2818e9cec",
   "metadata": {},
   "outputs": [
    {
     "data": {
      "text/html": [
       "<div>\n",
       "<style scoped>\n",
       "    .dataframe tbody tr th:only-of-type {\n",
       "        vertical-align: middle;\n",
       "    }\n",
       "\n",
       "    .dataframe tbody tr th {\n",
       "        vertical-align: top;\n",
       "    }\n",
       "\n",
       "    .dataframe thead th {\n",
       "        text-align: right;\n",
       "    }\n",
       "</style>\n",
       "<table border=\"1\" class=\"dataframe\">\n",
       "  <thead>\n",
       "    <tr style=\"text-align: right;\">\n",
       "      <th></th>\n",
       "      <th>review</th>\n",
       "      <th>sentiment</th>\n",
       "    </tr>\n",
       "  </thead>\n",
       "  <tbody>\n",
       "    <tr>\n",
       "      <th>0</th>\n",
       "      <td>This is the kind of movie that BEGS to be show...</td>\n",
       "      <td>negative</td>\n",
       "    </tr>\n",
       "    <tr>\n",
       "      <th>1</th>\n",
       "      <td>Bulletproof is quite clearly a disposable film...</td>\n",
       "      <td>negative</td>\n",
       "    </tr>\n",
       "    <tr>\n",
       "      <th>2</th>\n",
       "      <td>A beautiful shopgirl in London is swept off he...</td>\n",
       "      <td>positive</td>\n",
       "    </tr>\n",
       "    <tr>\n",
       "      <th>3</th>\n",
       "      <td>VERY dull, obvious, tedious Exorcist rip-off f...</td>\n",
       "      <td>negative</td>\n",
       "    </tr>\n",
       "    <tr>\n",
       "      <th>4</th>\n",
       "      <td>Do we really need any more narcissistic garbag...</td>\n",
       "      <td>negative</td>\n",
       "    </tr>\n",
       "  </tbody>\n",
       "</table>\n",
       "</div>"
      ],
      "text/plain": [
       "                                              review sentiment\n",
       "0  This is the kind of movie that BEGS to be show...  negative\n",
       "1  Bulletproof is quite clearly a disposable film...  negative\n",
       "2  A beautiful shopgirl in London is swept off he...  positive\n",
       "3  VERY dull, obvious, tedious Exorcist rip-off f...  negative\n",
       "4  Do we really need any more narcissistic garbag...  negative"
      ]
     },
     "execution_count": 4,
     "metadata": {},
     "output_type": "execute_result"
    }
   ],
   "source": [
    "%%thanosql\n",
    "SELECT *\n",
    "FROM movie_review_train\n",
    "LIMIT 5"
   ]
  },
  {
   "cell_type": "markdown",
   "id": "d7c83528-ebc6-4a88-a29f-31afc0516935",
   "metadata": {},
   "source": [
    "## __2. 사전 학습된 모델을 사용하여 영화 리뷰 감정 분류 결과 예측__\n",
    "\n",
    "먼저 저희가 사전에 학습해둔 모델로 바로 결과를 예측해보겠습니다. 다음 쿼리문을 실행하면 tutorial_text_classification 모델을 사용하여 영화 리뷰 분류 결과를 예측해볼 수 있습니다."
   ]
  },
  {
   "cell_type": "code",
   "execution_count": 5,
   "id": "ae7a9324-9c5e-4be4-a933-8774bbdd01c9",
   "metadata": {},
   "outputs": [
    {
     "data": {
      "text/html": [
       "<div>\n",
       "<style scoped>\n",
       "    .dataframe tbody tr th:only-of-type {\n",
       "        vertical-align: middle;\n",
       "    }\n",
       "\n",
       "    .dataframe tbody tr th {\n",
       "        vertical-align: top;\n",
       "    }\n",
       "\n",
       "    .dataframe thead th {\n",
       "        text-align: right;\n",
       "    }\n",
       "</style>\n",
       "<table border=\"1\" class=\"dataframe\">\n",
       "  <thead>\n",
       "    <tr style=\"text-align: right;\">\n",
       "      <th></th>\n",
       "      <th>review</th>\n",
       "      <th>sentiment</th>\n",
       "      <th>predicted</th>\n",
       "    </tr>\n",
       "  </thead>\n",
       "  <tbody>\n",
       "    <tr>\n",
       "      <th>0</th>\n",
       "      <td>I read the book before seeing the movie, and t...</td>\n",
       "      <td>positive</td>\n",
       "      <td>positive</td>\n",
       "    </tr>\n",
       "    <tr>\n",
       "      <th>1</th>\n",
       "      <td>\"9/11,\" hosted by Robert DeNiro, presents foot...</td>\n",
       "      <td>positive</td>\n",
       "      <td>positive</td>\n",
       "    </tr>\n",
       "    <tr>\n",
       "      <th>2</th>\n",
       "      <td>Yesterday I attended the world premiere of \"De...</td>\n",
       "      <td>positive</td>\n",
       "      <td>positive</td>\n",
       "    </tr>\n",
       "    <tr>\n",
       "      <th>3</th>\n",
       "      <td>Moonwalker is a Fantasy Music film staring Mic...</td>\n",
       "      <td>positive</td>\n",
       "      <td>positive</td>\n",
       "    </tr>\n",
       "    <tr>\n",
       "      <th>4</th>\n",
       "      <td>Welcome to Oakland, where the dead come out to...</td>\n",
       "      <td>positive</td>\n",
       "      <td>positive</td>\n",
       "    </tr>\n",
       "    <tr>\n",
       "      <th>...</th>\n",
       "      <td>...</td>\n",
       "      <td>...</td>\n",
       "      <td>...</td>\n",
       "    </tr>\n",
       "    <tr>\n",
       "      <th>995</th>\n",
       "      <td>I remember catching this movie on one of the S...</td>\n",
       "      <td>negative</td>\n",
       "      <td>negative</td>\n",
       "    </tr>\n",
       "    <tr>\n",
       "      <th>996</th>\n",
       "      <td>CyberTracker is set in Los Angeles sometime in...</td>\n",
       "      <td>negative</td>\n",
       "      <td>negative</td>\n",
       "    </tr>\n",
       "    <tr>\n",
       "      <th>997</th>\n",
       "      <td>There is so much that is wrong with this film,...</td>\n",
       "      <td>negative</td>\n",
       "      <td>negative</td>\n",
       "    </tr>\n",
       "    <tr>\n",
       "      <th>998</th>\n",
       "      <td>I am a firm believer that a film, TV serial or...</td>\n",
       "      <td>positive</td>\n",
       "      <td>positive</td>\n",
       "    </tr>\n",
       "    <tr>\n",
       "      <th>999</th>\n",
       "      <td>I think vampire movies (usually) are wicked. E...</td>\n",
       "      <td>negative</td>\n",
       "      <td>negative</td>\n",
       "    </tr>\n",
       "  </tbody>\n",
       "</table>\n",
       "<p>1000 rows × 3 columns</p>\n",
       "</div>"
      ],
      "text/plain": [
       "                                                review sentiment predicted\n",
       "0    I read the book before seeing the movie, and t...  positive  positive\n",
       "1    \"9/11,\" hosted by Robert DeNiro, presents foot...  positive  positive\n",
       "2    Yesterday I attended the world premiere of \"De...  positive  positive\n",
       "3    Moonwalker is a Fantasy Music film staring Mic...  positive  positive\n",
       "4    Welcome to Oakland, where the dead come out to...  positive  positive\n",
       "..                                                 ...       ...       ...\n",
       "995  I remember catching this movie on one of the S...  negative  negative\n",
       "996  CyberTracker is set in Los Angeles sometime in...  negative  negative\n",
       "997  There is so much that is wrong with this film,...  negative  negative\n",
       "998  I am a firm believer that a film, TV serial or...  positive  positive\n",
       "999  I think vampire movies (usually) are wicked. E...  negative  negative\n",
       "\n",
       "[1000 rows x 3 columns]"
      ]
     },
     "execution_count": 5,
     "metadata": {},
     "output_type": "execute_result"
    }
   ],
   "source": [
    "%%thanosql\n",
    "PREDICT USING tutorial_text_classification\n",
    "OPTIONS (\n",
    "    text_col='review',\n",
    "    label_col='sentiment'\n",
    "    )\n",
    "AS\n",
    "SELECT *\n",
    "FROM movie_review_test"
   ]
  },
  {
   "cell_type": "markdown",
   "id": "e9b4137e-75ad-4bea-bda0-0c7fcdb3b72b",
   "metadata": {},
   "source": [
    "## __3. 텍스트 분류 모델 만들기__\n",
    "\n",
    "이전 단계에서 확인한 movie_review_train 데이터 세트를 사용하여 텍스트 분류 모델을 만듭니다. 아래의 쿼리 구문을 실행하여 my_movie_review_classifier라는 이름의 모델을 만듭니다."
   ]
  },
  {
   "cell_type": "code",
   "execution_count": 6,
   "id": "8ffb0317-476e-409f-baa3-dc562d924e99",
   "metadata": {},
   "outputs": [
    {
     "name": "stdout",
     "output_type": "stream",
     "text": [
      "Success\n"
     ]
    }
   ],
   "source": [
    "%%thanosql\n",
    "BUILD MODEL my_movie_review_classifier\n",
    "USING ElectraEn\n",
    "OPTIONS (\n",
    "    text_col='review',\n",
    "    label_col='sentiment',\n",
    "    epochs=1,\n",
    "    batch_size=4\n",
    "    )\n",
    "AS\n",
    "SELECT *\n",
    "FROM movie_review_train"
   ]
  },
  {
   "cell_type": "markdown",
   "id": "d6402263-ff45-45e8-b221-27c1ff97c556",
   "metadata": {},
   "source": [
    "## __4. 생성된 모델을 사용하여 영화 리뷰 감정 분류 결과 예측__\n",
    "\n",
    "이전 단계에서 만든 텍스트 분류 예측 모델을 사용해서 특정 리뷰(학습에 이용되지 않은 데이터 테이블, movie_review_test)의 목표값을 예측해 봅니다."
   ]
  },
  {
   "cell_type": "code",
   "execution_count": 7,
   "id": "530b828d-962c-4115-a417-59ca2c621e98",
   "metadata": {},
   "outputs": [
    {
     "data": {
      "text/html": [
       "<div>\n",
       "<style scoped>\n",
       "    .dataframe tbody tr th:only-of-type {\n",
       "        vertical-align: middle;\n",
       "    }\n",
       "\n",
       "    .dataframe tbody tr th {\n",
       "        vertical-align: top;\n",
       "    }\n",
       "\n",
       "    .dataframe thead th {\n",
       "        text-align: right;\n",
       "    }\n",
       "</style>\n",
       "<table border=\"1\" class=\"dataframe\">\n",
       "  <thead>\n",
       "    <tr style=\"text-align: right;\">\n",
       "      <th></th>\n",
       "      <th>review</th>\n",
       "      <th>sentiment</th>\n",
       "      <th>predicted</th>\n",
       "    </tr>\n",
       "  </thead>\n",
       "  <tbody>\n",
       "    <tr>\n",
       "      <th>0</th>\n",
       "      <td>I read the book before seeing the movie, and t...</td>\n",
       "      <td>positive</td>\n",
       "      <td>positive</td>\n",
       "    </tr>\n",
       "    <tr>\n",
       "      <th>1</th>\n",
       "      <td>\"9/11,\" hosted by Robert DeNiro, presents foot...</td>\n",
       "      <td>positive</td>\n",
       "      <td>positive</td>\n",
       "    </tr>\n",
       "    <tr>\n",
       "      <th>2</th>\n",
       "      <td>Yesterday I attended the world premiere of \"De...</td>\n",
       "      <td>positive</td>\n",
       "      <td>positive</td>\n",
       "    </tr>\n",
       "    <tr>\n",
       "      <th>3</th>\n",
       "      <td>Moonwalker is a Fantasy Music film staring Mic...</td>\n",
       "      <td>positive</td>\n",
       "      <td>positive</td>\n",
       "    </tr>\n",
       "    <tr>\n",
       "      <th>4</th>\n",
       "      <td>Welcome to Oakland, where the dead come out to...</td>\n",
       "      <td>positive</td>\n",
       "      <td>negative</td>\n",
       "    </tr>\n",
       "    <tr>\n",
       "      <th>...</th>\n",
       "      <td>...</td>\n",
       "      <td>...</td>\n",
       "      <td>...</td>\n",
       "    </tr>\n",
       "    <tr>\n",
       "      <th>995</th>\n",
       "      <td>I remember catching this movie on one of the S...</td>\n",
       "      <td>negative</td>\n",
       "      <td>negative</td>\n",
       "    </tr>\n",
       "    <tr>\n",
       "      <th>996</th>\n",
       "      <td>CyberTracker is set in Los Angeles sometime in...</td>\n",
       "      <td>negative</td>\n",
       "      <td>negative</td>\n",
       "    </tr>\n",
       "    <tr>\n",
       "      <th>997</th>\n",
       "      <td>There is so much that is wrong with this film,...</td>\n",
       "      <td>negative</td>\n",
       "      <td>negative</td>\n",
       "    </tr>\n",
       "    <tr>\n",
       "      <th>998</th>\n",
       "      <td>I am a firm believer that a film, TV serial or...</td>\n",
       "      <td>positive</td>\n",
       "      <td>positive</td>\n",
       "    </tr>\n",
       "    <tr>\n",
       "      <th>999</th>\n",
       "      <td>I think vampire movies (usually) are wicked. E...</td>\n",
       "      <td>negative</td>\n",
       "      <td>negative</td>\n",
       "    </tr>\n",
       "  </tbody>\n",
       "</table>\n",
       "<p>1000 rows × 3 columns</p>\n",
       "</div>"
      ],
      "text/plain": [
       "                                                review sentiment predicted\n",
       "0    I read the book before seeing the movie, and t...  positive  positive\n",
       "1    \"9/11,\" hosted by Robert DeNiro, presents foot...  positive  positive\n",
       "2    Yesterday I attended the world premiere of \"De...  positive  positive\n",
       "3    Moonwalker is a Fantasy Music film staring Mic...  positive  positive\n",
       "4    Welcome to Oakland, where the dead come out to...  positive  negative\n",
       "..                                                 ...       ...       ...\n",
       "995  I remember catching this movie on one of the S...  negative  negative\n",
       "996  CyberTracker is set in Los Angeles sometime in...  negative  negative\n",
       "997  There is so much that is wrong with this film,...  negative  negative\n",
       "998  I am a firm believer that a film, TV serial or...  positive  positive\n",
       "999  I think vampire movies (usually) are wicked. E...  negative  negative\n",
       "\n",
       "[1000 rows x 3 columns]"
      ]
     },
     "execution_count": 7,
     "metadata": {},
     "output_type": "execute_result"
    }
   ],
   "source": [
    "%%thanosql\n",
    "PREDICT USING my_movie_review_classifier\n",
    "OPTIONS (\n",
    "    text_col='review'\n",
    "    )\n",
    "AS\n",
    "SELECT *\n",
    "FROM movie_review_test"
   ]
  }
 ],
 "metadata": {
  "kernelspec": {
   "display_name": "Python 3 (ipykernel)",
   "language": "python",
   "name": "python3"
  },
  "language_info": {
   "codemirror_mode": {
    "name": "ipython",
    "version": 3
   },
   "file_extension": ".py",
   "mimetype": "text/x-python",
   "name": "python",
   "nbconvert_exporter": "python",
   "pygments_lexer": "ipython3",
   "version": "3.9.10"
  },
  "toc-autonumbering": false
 },
 "nbformat": 4,
 "nbformat_minor": 5
}
