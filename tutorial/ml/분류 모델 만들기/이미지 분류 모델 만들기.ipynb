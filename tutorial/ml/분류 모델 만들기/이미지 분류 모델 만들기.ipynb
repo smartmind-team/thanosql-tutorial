{
 "cells": [
  {
   "cell_type": "markdown",
   "id": "6cfd2a8c-fdfc-4233-abd1-ece097069522",
   "metadata": {},
   "source": [
    "# __이미지 분류 모델 만들기__"
   ]
  },
  {
   "cell_type": "markdown",
   "id": "c61f4bc9-a4f9-44bc-8bf8-914a39e2022d",
   "metadata": {},
   "source": [
    "## 시작 전 사전 정보\n",
    "\n",
    "- 튜토리얼 난이도: ★☆☆☆☆\n",
    "- 읽는데 걸리는 시간 : 10분\n",
    "- 사용 언어 : [SQL](https://ko.wikipedia.org/wiki/SQL) (100%)\n",
    "- 실행 파일 위치 : tutorial/ml/분류 모델 만들기/이미지 분류 모델 만들기.ipynb\n",
    "- 참고 문서 : [(AI-Hub) 상품이미지 데이터](https://aihub.or.kr/aihubdata/data/view.do?currMenu=115&topMenu=100&aihubDataSe=realm&dataSetSn=64), [A ConvNet for the 2020s](https://arxiv.org/abs/2201.03545)"
   ]
  },
  {
   "cell_type": "markdown",
   "id": "98f1b3da-912f-4bd5-a435-ea6f932963ee",
   "metadata": {
    "jp-MarkdownHeadingCollapsed": true,
    "tags": []
   },
   "source": [
    "## 튜토리얼 소개\n",
    "\n",
    "<div class=\"admonition note\">\n",
    "   <h4 class=\"admonition-title\">분류 작업 이해하기</h4>\n",
    "   <p>분류 작업은 목푯값(Target)이 속한 범주(Category 또는 Class)를 예측하기 위해 사용하는 <a href=\"https://ko.wikipedia.org/wiki/%EA%B8%B0%EA%B3%84_%ED%95%99%EC%8A%B5\">머신러닝(기계학습/Machine Learning)</a>의 한 형태입니다. 예를 들어, 남성 또는 여성을 분류하는 이진 분류와 동물의 종(개, 고양이, 토끼 등)을 예측하는 다중 분류 모두 분류 작업에 포함됩니다.</p>\n",
    "</div>\n",
    "\n",
    "2010년부터 인공지능 모델을 사용해서 이미지를 분류하는 대회([ImageNet](https://en.wikipedia.org/wiki/ImageNet))가 열려 왔습니다. 대회 초기 우승한 모델의 분류 성능은 약 72%였으나 2015년 우승한 [ResNet](https://arxiv.org/abs/1512.03385) 모델은 약 96%의 성능을 기록하며 특정 영역에서는 인간의 분류 능력을 뛰어넘기 시작했습니다.\n",
    "\n",
    "<div class=\"admonition tip\">\n",
    "   <p>같은 데이터의 인간의 분류 능력은 약 95%라고 합니다.</p>\n",
    "</div>\n",
    "\n",
    "정확한 이미지 분류를 위해서는 대량의 데이터 세트에 대한 [데이터 라벨링](https://en.wikipedia.org/wiki/Labeled_data) 작업이 필요하지만, 사전 학습된 인공지능 모델의 가중치를 사용하여 소량의 라벨링 된 데이터 세트에 맞게 재보정해서 사용하는 방법들이 널리 적용되고 있습니다. 결과적으로 비교적 적은 수의 데이터를 가지고도, 딥러닝 모델의 훈련을 가능하게 합니다.\n",
    "\n",
    "ThanoSQL에서는 다양한 사전 학습된 인공지능 모델을 제공하고 있으며, 간단한 쿼리 구문을 통해 모델을 만들 수 있게 제공합니다. 이를 통해, 사용자는 적절하게 학습된 이미지 분류 모델로부터 특징을 정량화하기 힘든 이미지로부터 잠재적인 인사이트를 추출하고 다양한 서비스에 활용할 수 있습니다.\n",
    "\n",
    "__아래는 ThanoSQL 이미지 분류 모델의 활용 및 예시입니다.__\n",
    "\n",
    "-  ThanoSQL 이미지 분류 모델은 온라인 상품 판매 서비스에서 상품 등록을 위한 적절한 범주를 찾는 과정의 반복을 줄여줍니다. 간단한 쿼리 구문만으로 제품 사진의 범주를 분류할 수 있습니다. 사용자는 일부 잘못 분류 된 데이터를 수정하는 작업만을 진행함으로써 기존 이미지 분류에 사용하던 시간을 절약할 수 있습니다.\n",
    "\n",
    "- 미술 작품의 대여 또는 판매 서비스를 하는 경우 각 작품의 느낌, 기법, 어울리는 장소 등 기준이 모호하여 분류하기 어려운 작업들을 이미지 분류 모델을 사용해 대략적으로 분류할 수 있습니다.\n",
    "\n",
    "- 제조 공장에서 육안으로 확인하던 스크래치나 파손과 같은 불량품을 감지하고 분류할 수 있습니다. 레이저 스펙트럼과 같은 신호 정보도 시각화 변환과 같은 처리를 통해서 이미지 분류 모델에 적용할 수 있습니다.\n",
    "\n",
    "<div class=\"admonition tip\">\n",
    "   <p>미술 작품을 좋아하는 사람들의 행동 이력(구매 또는 대여 이력, 선호도 등)을 데이터 베이스에 저장하고 활용해서 특정 작품을 좋아할 것으로 예상되는 그룹을 찾는 분류 모델을 만들 수도 있습니다. 즉, 미술 작품의 이미지만을 이용해서 연령대(20대, 30대, 40대 등), 성별(남, 여), 전시 장소(집, 카페, 회사 등) 등에서의 선호도를 예측하는 모델을 만들 수 있습니다.</p>\n",
    "</div>\n",
    "\n",
    "<div class=\"admonition note\">\n",
    "   <h4 class=\"admonition-title\">본 튜토리얼에서는</h4>\n",
    "   <p>👉 대표적인 AI 오픈데이터 공유 플랫폼인 <a href=\"https://aihub.or.kr/\">AI-Hub</a>의 <code>상품 이미지</code> 데이터 세트를 사용하여 10,000종 이상의 상품을 분류하는 모델을 구축합니다. 구축된 모델은 스마트물류창고, 무인 스토어등에서 탐지, 식별 솔루션으로 활용이 가능합니다. 데이터 세트는 일반적으로 이미지 분류 기술의 학습에 활용하는 이미지 및 라벨(정답)쌍의 약 10,000 종 이상의 상품 데이터 세트로 구성되어 있고 총 1,440,000 장의 이미지가 포함되어 있습니다. 본 튜토리얼에서는 ThanoSQL의 사용방법을 익히고 빠른 결과 확인을 위해, 훈련용 데이터 1,800장과 테스트 데이터 200장만을 사용합니다. <br></p>\n",
    "</div>\n",
    "\n",
    "<a href=\"https://docs.thanosql.ai/img/thanosql_ml/classification/classification_convNext/classification_convNext_data_intro.png\">\n",
    "   <img alt=\"상품 이미지 예시\" src=\"https://docs.thanosql.ai/img/thanosql_ml/classification/classification_convNext/classification_convNext_data_intro.png\">\n",
    "</a>\n",
    "\n",
    "<div class=\"admonition warning\">\n",
    "   <h4 class=\"admonition-title\">튜토리얼 주의 사항</h4>\n",
    "   <ul>\n",
    "      <li>이미지 분류 모델은 하나의 이미지에서 하나의 목푯값(Target, 범주/레이블/라벨)를 예측하는 용도로 사용할 수 있습니다.</li>\n",
    "      <li>이미지의 경로를 나타내는 컬럼(Column)과, 이미지의 목푯값을 나타내는 컬럼이 존재해야 합니다.</li>\n",
    "      <li>해당 이미지 분류 모델의 베이스 모델(<code>CONVNEXT</code>)은 GPU를 사용합니다. 사용한 모델의 크기와 배치 사이즈에 따라 GPU 메모리가 부족할 수 있습니다. 이 경우, 더 작은 모델을 사용하시거나 배치 사이즈를 줄여보십시오.</li>\n",
    "   </ul>\n",
    "</div>"
   ]
  },
  {
   "cell_type": "markdown",
   "id": "41fe39bb-e2cb-497f-bff9-a51fbc633c36",
   "metadata": {},
   "source": [
    "## __0. 데이터 세트 및 모델 준비__\n",
    "\n",
    "ThanoSQL의 쿼리 구문을 사용하기 위해서는 [ThanoSQL 워크스페이스](https://docs.thanosql.ai/getting_started/how_to_use_ThanoSQL/#5-thanosql)\n",
    "에서 언급된 것처럼 API 토큰을 생성하고 아래의 쿼리를 실행해야 합니다."
   ]
  },
  {
   "cell_type": "code",
   "execution_count": null,
   "id": "8a1b1d06-b29f-4ade-91e2-7e4c6c33f8a1",
   "metadata": {
    "tags": []
   },
   "outputs": [],
   "source": [
    "%load_ext thanosql\n",
    "%thanosql API_TOKEN=<발급받은_API_TOKEN>"
   ]
  },
  {
   "cell_type": "markdown",
   "id": "a3fc89e5-600a-4c5f-bba2-289a425db405",
   "metadata": {},
   "source": [
    "### __데이터 세트 준비__"
   ]
  },
  {
   "cell_type": "code",
   "execution_count": null,
   "id": "ad07a885-ee2e-4eeb-a2f0-634af9b3b843",
   "metadata": {},
   "outputs": [
    {
     "name": "stdout",
     "output_type": "stream",
     "text": [
      "Success\n"
     ]
    }
   ],
   "source": [
    "%%thanosql\n",
    "GET THANOSQL DATASET product_image_data\n",
    "OPTIONS (overwrite=True)"
   ]
  },
  {
   "cell_type": "markdown",
   "id": "77319ae0",
   "metadata": {},
   "source": [
    "<div class=\"admonition note\">\n",
    "    <h4 class=\"admonition-title\">쿼리 세부 정보</h4>\n",
    "    <ul>\n",
    "        <li>\"<strong>GET THANOSQL DATASET</strong>\" 쿼리 구문을 사용하여 원하는 데이터 세트를 워크스페이스에 저장합니다. </li>\n",
    "        <li>\"<strong>OPTIONS</strong>\" 쿼리 구문을 통해 <strong>GET THANOSQL DATASET</strong> 에 사용할 옵션을 지정합니다.\n",
    "        <ul>\n",
    "            <li>\"overwrite\" : 동일 이름의 데이터 세트가 존재하는 경우 덮어쓰기 가능 유무 설정. True일 경우 기존 데이터 세트는 새로운 데이터 세트로 변경됨 (True|False, DEFAULT : False) </li>\n",
    "        </ul>\n",
    "        </li>\n",
    "    </ul>\n",
    "</div>"
   ]
  },
  {
   "cell_type": "code",
   "execution_count": null,
   "id": "6e596460-cfe4-4c42-9aeb-71ca8ed9b4d6",
   "metadata": {
    "tags": []
   },
   "outputs": [],
   "source": [
    "%%thanosql\n",
    "COPY product_image_train\n",
    "OPTIONS (overwrite=True) \n",
    "FROM \"thanosql-dataset/product_image_data/product_image_train.csv\""
   ]
  },
  {
   "cell_type": "code",
   "execution_count": null,
   "id": "6b62469f-2a6e-443b-b317-115805e8925e",
   "metadata": {
    "tags": []
   },
   "outputs": [],
   "source": [
    "%%thanosql\n",
    "COPY product_image_test\n",
    "OPTIONS (overwrite=True) \n",
    "FROM \"thanosql-dataset/product_image_data/product_image_test.csv\""
   ]
  },
  {
   "cell_type": "markdown",
   "id": "4ca63b57",
   "metadata": {},
   "source": [
    "<div class=\"admonition note\">\n",
    "    <h4 class=\"admonition-title\">쿼리 세부 정보</h4>\n",
    "    <ul>\n",
    "        <li>\"<strong>COPY</strong>\" 쿼리 구문을 사용하여 DB에 저장 할 데이터 세트명을 지정합니다. </li>\n",
    "        <li>\"<strong>OPTIONS</strong>\" 쿼리 구문을 통해 <strong>COPY</strong> 에 사용할 옵션을 지정합니다.\n",
    "        <ul>\n",
    "            <li>\"overwrite\" : 동일 이름의 데이터 세트가 DB상에 존재하는 경우 덮어쓰기 가능 유무 설정. True일 경우 기존 데이터 세트는 새로운 데이터 세트로 변경됨 (True|False, DEFAULT : False) </li>\n",
    "        </ul>\n",
    "        </li>\n",
    "    </ul>\n",
    "</div>"
   ]
  },
  {
   "cell_type": "markdown",
   "id": "bfab432b-32e0-4352-97cd-b9f2efd17640",
   "metadata": {},
   "source": [
    "### __모델 준비__"
   ]
  },
  {
   "cell_type": "code",
   "execution_count": null,
   "id": "ca098b9e-2b48-4965-9fd9-e58df2252472",
   "metadata": {},
   "outputs": [
    {
     "name": "stdout",
     "output_type": "stream",
     "text": [
      "Success\n"
     ]
    }
   ],
   "source": [
    "%%thanosql\n",
    "GET THANOSQL MODEL tutorial_product_classifier\n",
    "OPTIONS (overwrite=True)\n",
    "AS tutorial_product_classifier"
   ]
  },
  {
   "cell_type": "markdown",
   "id": "77319ae0",
   "metadata": {},
   "source": [
    "<div class=\"admonition note\">\n",
    "    <h4 class=\"admonition-title\">쿼리 세부 정보</h4>\n",
    "    <ul>\n",
    "        <li>\"<strong>GET THANOSQL MODEL</strong>\" 쿼리 구문을 사용하여 원하는 모델을 워크스페이스 및 DB에 저장합니다. </li>\n",
    "        <li>\"<strong>OPTIONS</strong>\" 쿼리 구문을 통해 <strong>GET THANOSQL MODEL</strong> 에 사용할 옵션을 지정합니다.\n",
    "        <ul>\n",
    "            <li>\"overwrite\" : 동일 이름의 데이터 세트가 존재하는 경우 덮어쓰기 가능 유무 설정. True일 경우 기존 데이터 세트는 새로운 데이터 세트로 변경됨 (True|False, DEFAULT : False) </li>\n",
    "        </ul>\n",
    "        </li>\n",
    "        <li>\"<strong>AS</strong>\" 쿼리 구문을 사용하여 해당 모델의 이름을 지정합니다. AS 구문을 사용하지 않을 경우 <code>THANOSQL MODEL</code>의 이름을 그대로 사용합니다. </li>\n",
    "    </ul>\n",
    "</div>"
   ]
  },
  {
   "cell_type": "markdown",
   "id": "e557a156-1075-41df-b19f-ff0812a14b4c",
   "metadata": {},
   "source": [
    "## __1. 데이터 세트 확인__\n",
    "\n",
    "본 튜토리얼을 진행하기 위해 우리는 ThanoSQL DB에 저장되어 있는  <mark style=\"background-color:#FFEC92 \">product_image_train</mark> 테이블을 사용합니다. 아래의 쿼리문을 실행하여 테이블 내용을 확인합니다."
   ]
  },
  {
   "cell_type": "code",
   "execution_count": null,
   "id": "49d801df-54d2-4809-bbed-69b2818e9cec",
   "metadata": {
    "tags": []
   },
   "outputs": [],
   "source": [
    "%%thanosql\n",
    "SELECT *\n",
    "FROM product_image_train\n",
    "LIMIT 5"
   ]
  },
  {
   "cell_type": "markdown",
   "id": "12e90b90",
   "metadata": {},
   "source": [
    "<div class=\"admonition note\">\n",
    "   <h4 class=\"admonition-title\">데이터 이해하기</h4>\n",
    "   <ul>\n",
    "      <li><mark style=\"background-color:#D7D0FF \">image_path</mark>: 각 이미지의 파일의 위치 정보</li>\n",
    "      <li><mark style=\"background-color:#D7D0FF \">div_l</mark> : 상품의 대분류</li>\n",
    "      <li><mark style=\"background-color:#D7D0FF \">div_m</mark> : 상품의 중분류</li>\n",
    "      <li><mark style=\"background-color:#D7D0FF \">div_s</mark> : 상품의 소분류</li>\n",
    "      <li><mark style=\"background-color:#D7D0FF \">div_n</mark> : 상품의 세분류</li>\n",
    "      <li><mark style=\"background-color:#D7D0FF \">comp_nm</mark> : 제조사</li>\n",
    "      <li><mark style=\"background-color:#D7D0FF \">img_prod_nm</mark> : 상품명(이미지상)</li>\n",
    "      <li><mark style=\"background-color:#D7D0FF \">multi</mark> : 복수 상품 이미지인지 여부</li>\n",
    "   </ul>\n",
    "</div>"
   ]
  },
  {
   "cell_type": "code",
   "execution_count": null,
   "id": "d28b5a16-ed9c-4194-9455-1751e0e3d7da",
   "metadata": {
    "tags": []
   },
   "outputs": [],
   "source": [
    "%%thanosql\n",
    "PRINT IMAGE\n",
    "AS\n",
    "SELECT image_path\n",
    "FROM product_image_train\n",
    "LIMIT 5"
   ]
  },
  {
   "cell_type": "markdown",
   "id": "e9b4137e-75ad-4bea-bda0-0c7fcdb3b72b",
   "metadata": {},
   "source": [
    "## __2. 사전 학습된 모델을 사용하여 상품 이미지 분류 결과 예측__\n",
    "\n",
    "다음 쿼리문을 실행하면, 사전에 학습을 해 둔 상품 이미지 분류모델, <mark style=\"background-color:#E9D7FD \">tutorial_product_classifier</mark>모델을 사용하여 결과를 빠르게 예측해볼 수 있습니다."
   ]
  },
  {
   "cell_type": "code",
   "execution_count": null,
   "id": "52c94b69-7a76-4ecb-b122-5698786dd206",
   "metadata": {
    "tags": []
   },
   "outputs": [],
   "source": [
    "%%thanosql\n",
    "PREDICT USING tutorial_product_classifier\n",
    "AS\n",
    "SELECT *\n",
    "FROM product_image_test"
   ]
  },
  {
   "cell_type": "markdown",
   "id": "6fcbcf7c-d66d-41e4-a54a-172f70940830",
   "metadata": {},
   "source": [
    "## __3. 이미지 분류 모델 생성__\n",
    "\n",
    "이전 단계에서 확인한  <mark style=\"background-color:#FFEC92 \">product_image_train</mark> 데이터 세트를 사용하여 이미지 분류 모델을 만듭니다. 아래의 쿼리 구문을 실행하여 <mark style=\"background-color:#E9D7FD \">my_product_classifier</mark>이라는 이름의 모델을 만듭니다.  \n",
    "(쿼리 실행 시 예상 소요 시간: 5 min)"
   ]
  },
  {
   "cell_type": "code",
   "execution_count": null,
   "id": "8ffb0317-476e-409f-baa3-dc562d924e99",
   "metadata": {
    "tags": []
   },
   "outputs": [],
   "source": [
    "%%thanosql\n",
    "BUILD MODEL my_product_classifier\n",
    "USING ConvNeXt_Tiny\n",
    "OPTIONS (\n",
    "  image_col='image_path',\n",
    "  label_col='div_l',\n",
    "  epochs=1,\n",
    "  overwrite=True\n",
    "  )\n",
    "AS\n",
    "SELECT *\n",
    "FROM product_image_train"
   ]
  },
  {
   "cell_type": "markdown",
   "id": "887d3405",
   "metadata": {},
   "source": [
    "<div class=\"admonition note\">\n",
    "    <h4 class=\"admonition-title\">쿼리 세부 정보</h4>\n",
    "    <ul>\n",
    "        <li>\"<strong>BUILD MODEL</strong>\" 쿼리 구문을 사용하여 <mark style=\"background-color:#E9D7FD \">my_product_classifier</mark> 모델을 만들고 학습시킵니다.</li>\n",
    "        <li>\"<strong>USING</strong>\" 쿼리 구문을 통해 베이스 모델로 <code>ConvNeXt_Tiny</code>를 사용할 것을 명시합니다.</li>\n",
    "        <li>\"<strong>OPTIONS</strong>\" 쿼리 구문을 통해 모델 생성에 사용할 옵션을 지정합니다.\n",
    "        <ul>\n",
    "            <li>\"image_col\" : 이미지 경로를 담은 컬럼의 이름</li>\n",
    "            <li>\"label_col\" : 목푯값의 정보를 담은 컬럼의 이름</li>\n",
    "            <li>\"epochs : 모든 학습 데이터 세트를 학습하는 횟수</li>\n",
    "        </ul>\n",
    "        </li>\n",
    "    </ul>\n",
    "</div>\n",
    "\n",
    "<div class=\"admonition tip\">\n",
    "    <p>여기서는 빠르게 학습하기 위해 \"epochs\"를 1로 지정했습니다. 일반적으로 숫자가 클수록 많은 계산 시간이 소요되지만 학습이 진행됨에 따라 예측 성능이 올라갑니다.</p>\n",
    "</div>\n",
    "\n",
    "<div class=\"admonition note\">\n",
    "    <p><strong>overwrite가 True일 때</strong>, 사용자는 이전 생성했던 데이터 테이블과 같은 이름의 데이터 테이블을 생성할 수 있습니다.<br>\n",
    "    반면, <strong>overwrite가 False일 때</strong>, 사용자는 이전에 생성했던 데이터 테이블과 같은 이름의 데이터 테이블을 생성할 수 없습니다.</p>\n",
    "</div>"
   ]
  },
  {
   "cell_type": "markdown",
   "id": "d6402263-ff45-45e8-b221-27c1ff97c556",
   "metadata": {},
   "source": [
    "## __4. 생성된 모델을 사용하여 상품 이미지 분류 결과 예측__\n",
    "\n",
    "이전 단계에서 만든 상품 이미지 분류 모델(<mark style=\"background-color:#E9D7FD \">my_product_classifier</mark>)을 사용해서 특정 이미지(학습에 이용되지 않은 데이터 테이블, <mark style=\"background-color:#FFEC92\">product_image_test</mark>)의 목푯값을 예측해 봅니다.  아래 쿼리를 수행하고 나면, 예측 결과는 <mark style=\"background-color:#D7D0FF\">predicted</mark> 컬럼에 저장되어 반환됩니다."
   ]
  },
  {
   "cell_type": "code",
   "execution_count": null,
   "id": "530b828d-962c-4115-a417-59ca2c621e98",
   "metadata": {
    "tags": []
   },
   "outputs": [],
   "source": [
    "%%thanosql\n",
    "PREDICT USING my_product_classifier\n",
    "OPTIONS (\n",
    "    image_col='image_path'\n",
    "    )\n",
    "AS\n",
    "SELECT *\n",
    "FROM product_image_test"
   ]
  },
  {
   "cell_type": "markdown",
   "id": "ff2b3416",
   "metadata": {},
   "source": [
    "<div class=\"admonition note\">\n",
    "    <h4 class=\"admonition-title\">쿼리 세부 정보</h4>\n",
    "    <ul>\n",
    "        <li>\"<strong>PREDICT USING</strong>\" 쿼리 구문을 통해 이전 단계에서 만든 <mark style=\"background-color:#E9D7FD \">my_product_classifier</mark> 모델을 예측에 사용합니다.</li>\n",
    "        <li>\"<strong>OPTIONS</strong>\" 쿼리 구문을 통해 예측에 사용할 옵션을 지정합니다.\n",
    "        <ul>\n",
    "            <li>\"image_col\" : 예측에 사용할 이미지의 경로가 기록되어 있는 컬럼의 이름</li>\n",
    "        </ul>\n",
    "        </li>\n",
    "    </ul>\n",
    "</div>"
   ]
  },
  {
   "cell_type": "markdown",
   "id": "45537480",
   "metadata": {},
   "source": [
    "## __5. 튜토리얼을 마치며__\n",
    "\n",
    "이번 튜토리얼에서는 <mark style=\"background-color:#FFD79C\">상품 이미지</mark> 데이터 세트를 사용하여 이미지 분류 모델을 만들어 보았습니다. 초급 단계 튜토리얼인만큼 정확도 향상을 위한 과정 설명보다는 작동 위주의 설명으로 진행했습니다. 이미지 분류 모델은 각 플랫폼이나 서비스에 맞는 정밀한 튜닝을 통해 정확도를 향상 시킬 수 있고 적은 양의 데이터 라벨링만으로도 대부분 만족스러운 결과를 얻을 수 있습니다. 나만의 데이터를 이용해서 베이스 모델을 학습하거나, 자가학습(Self-supervised) 모델 등을 이용해 나의 데이터를 수치화하여 변환한 후 자동화 된 머신러닝(Auto-ML) 기법을 이용한 배포도 가능합니다. 다양한 비정형 데이터(오디오, 비디오, 텍스트 등)와 수치형 데이터들을 결합하여 나만의 모델을 만들고 경쟁력있는 서비스를 제공해 보세요.\n",
    "\n",
    "다음 단계인  [중급 이미지 분류 모델 만들기] 튜토리얼에서는 이미지 분류 모델을 더욱 심도있게 다뤄봅니다. 내 서비스를 위한 나만의 이미지 분류 모델 구축방법에 대해 더욱 자세히 알고 싶다면 다음 튜토리얼들을 진행해보세요.\n",
    "\n",
    "* [나만의 데이터 업로드하기](https://docs.thanosql.ai/how-to_guides/ThanoSQL_connecting/data_upload/)\n",
    "* [중급 이미지 분류 모델 만들기]\n",
    "* [이미지 변환과 Auto-ML을 이용한 나만의 모델 만들기]\n",
    "* [나만의 이미지 분류 모델 배포하기](https://docs.thanosql.ai/how-to_guides/ThanoSQL_connecting/thanosql_api/rest_api_thanosql_query/)\n",
    "\n",
    "<div class=\"admonition tip\">\n",
    "    <h4 class=\"admonition-title\">나만의 서비스를 위한 모델 배포 관련 문의</h4>\n",
    "    <p>ThanoSQL을 활용해 나만의 모델을 만들거나, 나의 서비스에 적용하는데 어려움이 있다면 언제든 아래로 문의주세요😊</p>\n",
    "    <p>이미지 분류 모델 구축 관련 문의: contact@smartmind.team</p>\n",
    "</div>"
   ]
  }
 ],
 "metadata": {
  "kernelspec": {
   "display_name": "Python 3.8.9 64-bit",
   "language": "python",
   "name": "python3"
  },
  "language_info": {
   "codemirror_mode": {
    "name": "ipython",
    "version": 3
   },
   "file_extension": ".py",
   "mimetype": "text/x-python",
   "name": "python",
   "nbconvert_exporter": "python",
   "pygments_lexer": "ipython3",
   "version": "3.8.9"
  },
  "toc-autonumbering": false,
  "vscode": {
   "interpreter": {
    "hash": "31f2aee4e71d21fbe5cf8b01ff0e069b9275f58929596ceb00d14d90e3e16cd6"
   }
  }
 },
 "nbformat": 4,
 "nbformat_minor": 5
}
