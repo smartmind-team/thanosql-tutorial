{
 "cells": [
  {
   "cell_type": "markdown",
   "id": "dcba9de7-327b-425a-81c8-22bebfdf88ca",
   "metadata": {},
   "source": [
    "# __Auto-ML을 사용하여 분류 모델 만들기__"
   ]
  },
  {
   "cell_type": "markdown",
   "id": "6a5d9f51",
   "metadata": {},
   "source": [
    "## 시작 전 사전정보\n",
    "\n",
    "- 튜토리얼 난이도 : ★☆☆☆☆\n",
    "- 읽는데 걸리는 시간 : 4 분\n",
    "- 사용 언어 : [SQL](https://ko.wikipedia.org/wiki/SQL) (100%)\n",
    "- 실행 파일 위치 : tutorial/ml/분류 모델 만들기/Auto-ML을 사용하여 분류 모델 만들기.ipynb \n",
    "- 참고 문서 : [(캐글) Titanic - Machine Learning from Disaster](https://www.kaggle.com/competitions/titanic/overview)"
   ]
  },
  {
   "cell_type": "markdown",
   "id": "b9d4488f",
   "metadata": {
    "tags": []
   },
   "source": [
    "## 튜토리얼 소개\n",
    "\n",
    "\n",
    "분류 작업은 목푯값(Target)이 속한 범주(Category 또는 Class)를 예측하기 위해 사용하는 [머신러닝(기계학습/Machine Learning)](https://ko.wikipedia.org/wiki/%EA%B8%B0%EA%B3%84_%ED%95%99%EC%8A%B5)의 한 형태입니다. 예를 들어, 남성 또는 여성을 분류하는 이진 분류와 동물의 종(개, 고양이, 토끼 등)을 예측하는 다중 분류 모두 분류 작업에 포함됩니다. <br>\n",
    "\n",
    "기업의 특정 마케팅 프로모션에 대해 잠재고객이 긍정적인 반응을 보일 것인지 아닌지를 예측하기 위해서는 고객의 [CRM(Customer Relationship Management)](https://ko.wikipedia.org/wiki/%EA%B3%A0%EA%B0%9D_%EA%B4%80%EA%B3%84_%EA%B4%80%EB%A6%AC) 데이터(인구 통계학 정보, 고객의 행동/검색 데이터 등)를 이용할 수 있습니다. 이 경우 CRM 데이터에서 표현되는 [특성(Feature)](https://ko.wikipedia.org/wiki/%ED%8A%B9%EC%A7%95_(%EA%B8%B0%EA%B3%84_%ED%95%99%EC%8A%B5))이 입력 데이터로 사용되며, 예측하고자 하는 값인 목푯값은 프로모션에 대한 대상 고객의 반응이 긍정(1 또는 True) 또는 부정(0 또는 False)일지 여부입니다. 이러한 분류 모델을 이용해서, 마케팅에 노출되지 않은 고객들의 프로모션에 대한 반응을 미리 예측하고 적절한 고객에게 마케팅을 노출함으로써 마케팅 효율을 지속적으로 높일 수 있습니다. \n",
    "\n",
    "__아래는 ThanoSQL 분류 모델의 활용 및 예시입니다.__  \n",
    "\n",
    "- 분류 모델은 현재 사용자의 이탈에 대한 조기 탐지를 가능하게 하고 문제(이탈)에 대해 사전에 대응할 수 있도록 해줍니다. 과거 데이터를 통해 이탈 고객의 특성을 파악할 수 있게 되고 이탈 가능성이 높은 사용자를 사전에 발견함으로써 적절한 조치가 가능해집니다. 이를 통해 고객이탈 방지 및 매출 증대 효과를 기대할 수 있습니다.\n",
    "\n",
    "- 온라인 플랫폼 내에서 사용자의 [세그먼트](https://ko.wikipedia.org/wiki/%EC%8B%9C%EC%9E%A5%EC%84%B8%EB%B6%84%ED%99%94)를 예측할 수 있습니다. 대부분의 서비스 사용자들은 서로 다른 특성을 가지고 다양한 행동방식(User Behaviour)과 니즈(Needs)를 가지고 있습니다. 분류 예측 모델은 서비스 사용자의 특성을 이용하여 세분화된 집단을 식별하고 그들에게 맞춤화된 전략 수립을 가능하게 합니다.  \n",
    "\n",
    "\n",
    "대표적인 머신러닝 경진대회 플랫폼인 [캐글](https://www.kaggle.com/)의 입문자를 위한 <mark style=\"background-color:#FFD79C\"> __Titanic: Machine Learning from Disaster__</mark> 데이터 세트를 사용하여 생존자 예측 분류 모델을 만듭니다. 이 대회의 목표는 아래와 같습니다. \n",
    "    (참고로, 해당 대회의 데이터는 1912년 4월 15일 실제 타이타닉 사건 때, 탑승했었던 승객들 명단입니다.)\n",
    "\n",
    "__타이타닉에서 살아남을 수 있는 승객을 예측하기__\n",
    "\n",
    "ThanoSQL에서는 자동화된 머신러닝(__Auto-ML__) 도구를 제공합니다. 본 튜토리얼에서는 Auto-ML을 사용하여 타이타닉에서 살아남을 수 있는 승객을 예측합니다. ThanoSQL에서 제공하는 Auto-ML은 모델(Model)개발을 위한 프로세스를 자동화하고, 데이터 과학(Data Science)에 대한 전문지식이 없어도 데이터의 수집 및 저장, 머신러닝 모델의 개발 및 배포(엔드투엔드 머신러닝 파이프라인)를 하나의 언어(ThanoSQL)만으로 가능하도록 지원합니다.\n",
    "\n",
    "__자동화된 ML을 사용하면 다음과 같은 장점이 있습니다__ \n",
    "\n",
    "1. 광범위한 프로그래밍 또는 데이터 과학에 대한 지식이 없어도 머신러닝 솔루션의 구현 및 배포가 가능  \n",
    "2. 개발모델의 배포에 들어가는 시간 및 리소스를 절약   \n",
    "3. 의사결정을 위해 보유하고 있는 데이터를 이용한 신속한 문제해결이 가능  \n",
    "\n",
    "이제부터 ThanoSQL을 사용하여 간단하게 타이타닉에서 살아남을 수 있는 승객을 예측하는 분류 모델을 만들어 봅니다."
   ]
  },
  {
   "cell_type": "markdown",
   "id": "1051840d-421e-4cab-9629-bcf6e37b7db6",
   "metadata": {},
   "source": [
    "## __0. 데이터 세트 준비__\n",
    "\n",
    "ThanoSQL의 쿼리 구문을 사용하기 위해서는 Docs의 ThanoSQL 워크스페이스 에서 언급된 것처럼 API 토큰을 생성하고 아래의 쿼리를 실행해야 합니다. "
   ]
  },
  {
   "cell_type": "code",
   "execution_count": null,
   "id": "32fbea16-ab9a-45cb-948b-dfecf06902a0",
   "metadata": {
    "tags": []
   },
   "outputs": [],
   "source": [
    "%load_ext thanosql\n",
    "%thanosql API_TOKEN=<발급받은_API_TOKEN>"
   ]
  },
  {
   "cell_type": "code",
   "execution_count": null,
   "id": "c7b0c89c-8bdb-4065-9394-6f57e33be899",
   "metadata": {
    "tags": []
   },
   "outputs": [],
   "source": [
    "%%thanosql\n",
    "COPY titanic_train \n",
    "OPTIONS (overwrite=True)\n",
    "FROM \"tutorial_data/titanic_data/titanic_train.csv\""
   ]
  },
  {
   "cell_type": "code",
   "execution_count": null,
   "id": "26e63b28-7b06-4378-a789-2c56929df59a",
   "metadata": {
    "tags": []
   },
   "outputs": [],
   "source": [
    "%%thanosql\n",
    "COPY titanic_test \n",
    "OPTIONS (overwrite=True)\n",
    "FROM \"tutorial_data/titanic_data/titanic_test.csv\""
   ]
  },
  {
   "cell_type": "markdown",
   "id": "f7db4f06",
   "metadata": {},
   "source": [
    "\"__쿼리 세부 정보__\"\n",
    "   - \"__COPY__\" 쿼리 구문을 사용하여 DB에 복사 할 데이터 세트명을 지정합니다. \n",
    "   - \"__OPTIONS__\" 쿼리 구문을 통해 __COPY__ 에 사용할 옵션을 지정합니다.\n",
    "       - \"overwrite\" : 동일 이름의 데이터 세트가 DB상에 존재하는 경우 덮어쓰기 가능 유무 설정. True일 경우 기존 데이터 세트는 새로운 데이터 세트로 변경됨 (True|False, DEFAULT : False) "
   ]
  },
  {
   "cell_type": "markdown",
   "id": "eff7350d-3b29-44a2-84d6-132d3b41a989",
   "metadata": {},
   "source": [
    "## __1. 데이터 세트 확인__\n",
    "\n",
    "생존자 예측 분류 모델을 만들기 위해 우리는 ThanoSQL DB에 저장되어 있는 <mark style=\"background-color:#FFEC92 \">__titanic_train__</mark> 테이블을 사용합니다. 아래의 쿼리문을 실행하면서 테이블 내용을 확인합니다."
   ]
  },
  {
   "cell_type": "code",
   "execution_count": null,
   "id": "14b95522-168a-482c-a039-5af17deafc6a",
   "metadata": {
    "tags": []
   },
   "outputs": [],
   "source": [
    "%%thanosql\n",
    "SELECT * \n",
    "FROM titanic_train\n",
    "LIMIT 5 "
   ]
  },
  {
   "cell_type": "markdown",
   "id": "cd8c9617",
   "metadata": {},
   "source": [
    "\"__데이터 이해하기__\"\n",
    "    <mark style=\"background-color:#FFEC92 \">__tianic_train__</mark> 데이터 세트는 다음과 같은 정보를 담고 있습니다.  \n",
    "   - <mark style=\"background-color:#D7D0FF \">passengerid</mark> : 탑승승객 아이디  \n",
    "   - <mark style=\"background-color:#D7D0FF \">survived</mark> : 탑승승객  \n",
    "   - <mark style=\"background-color:#D7D0FF \">pclass</mark> : 탑승승객 티켓 등급  \n",
    "   - <mark style=\"background-color:#D7D0FF \">name</mark> : 탑승승객 이름  \n",
    "   - <mark style=\"background-color:#D7D0FF \">sex</mark> : 탑승승객 성별  \n",
    "   - <mark style=\"background-color:#D7D0FF \">age</mark> : 탑승승객 나이  \n",
    "   - <mark style=\"background-color:#D7D0FF \">sibsp</mark> : 탑승한 형제 자매 또는 배우자 수   \n",
    "   - <mark style=\"background-color:#D7D0FF \">parch</mark> : 탑승한 부모 또는 자녀의 수  \n",
    "   - <mark style=\"background-color:#D7D0FF \">ticket</mark> : 티켓 번호  \n",
    "   - <mark style=\"background-color:#D7D0FF \">fare</mark> : 요금  \n",
    "   - <mark style=\"background-color:#D7D0FF \">cabin</mark> : 선실  \n",
    "   - <mark style=\"background-color:#D7D0FF\">embarked</mark> : 승선지 또는 항구   \n",
    " \n",
    "이번 튜토리얼에서는 추가적인 쿼리문을 이용한 데이터 전처리가 필요한\n",
    "<mark style=\"background-color:#D7D0FF\">name</mark>, <mark style=\"background-color:#D7D0FF\">ticket</mark>, <mark style=\"background-color:#D7D0FF\">cabin</mark>컬럼을 제외하고 모델 학습을 진행하겠습니다."
   ]
  },
  {
   "cell_type": "markdown",
   "id": "af169f51-b815-4230-b398-2f9f3e46b7bd",
   "metadata": {},
   "source": [
    "## __2. 분류 모델 생성__\n",
    "\n",
    "이전 단계에서 확인한 <mark style=\"background-color:#FFEC92 \">titanic_train</mark> 데이터를 사용하여 생존자 예측 분류 모델을 만듭니다. 아래의 쿼리 구문을 실행시켜 <mark style=\"background-color:#E9D7FD \">titanic_automl_classification</mark> 이름의 모델을 만들어 봅니다.  \n",
    "(쿼리 실행 시 예상 소요 시간: 8 min)"
   ]
  },
  {
   "cell_type": "code",
   "execution_count": null,
   "id": "2fb6601a-81af-4c99-af73-4c6894e0ac72",
   "metadata": {
    "tags": []
   },
   "outputs": [],
   "source": [
    "%%thanosql\n",
    "BUILD MODEL titanic_automl_classification\n",
    "USING AutomlClassifier \n",
    "OPTIONS (\n",
    "    target='survived', \n",
    "    impute_type='iterative',  \n",
    "    features_to_drop=['name', 'ticket', 'passengerid', 'cabin'],\n",
    "    time_left_for_this_task=300,\n",
    "    overwrite=True\n",
    "    ) \n",
    "AS \n",
    "SELECT * \n",
    "FROM titanic_train"
   ]
  },
  {
   "cell_type": "markdown",
   "id": "6b0fce36",
   "metadata": {},
   "source": [
    "\"__쿼리 세부 정보__\" \n",
    "   - \"__BUILD MODEL__\" 쿼리 구문을 사용하여 <mark style=\"background-color:#E9D7FD \">titanic_automl_classification</mark>이라는 모델을 만들고 학습시킵니다.\n",
    "   - \"__OPTIONS__\" 쿼리 구문을 통해 모델 생성에 사용할 옵션을 지정합니다.\n",
    "       - \"target\" : 분류 모델의 목푯값이 담겨 있는 컬럼명\n",
    "       - \"impute_type\" : 데이터 테이블의 빈 값(NaN)을 처리하는 방법 설정 ('simple'|'iterative' , DEFAULT : 'simple')        \n",
    "       - \"features_to_drop\" : 데이터 테이블에서 학습에 이용하지 못하는 컬럼명 리스트\n",
    "       - \"time_left_for_this_task\" : 적합한 분류 예측 모델을 찾는데 소요되는 시간 (DEFAULT : 300)\n",
    "       - \"overwrite\" : 동일 이름의 모델이 존재하는 경우 덮어쓰기 가능 유무 설정. True일 경우 기존 모델은 새로운 모델로 변경됨 (True|False, DEFAULT : False) \n",
    "\n",
    "\n",
    "   Auto-ML 분류 모델 생성시 Docs의 OPTIONS 내에 명시된 파라미터 외 다른 파라미터 사용시 모델 생성은 될 수 있으나 설정한 값들은 모두 무시 됩니다. "
   ]
  },
  {
   "cell_type": "markdown",
   "id": "63a96457-78da-4d01-a760-953febcf08cd",
   "metadata": {},
   "source": [
    "## __3. 생성된 모델 평가__\n",
    "\n",
    "아래의 쿼리문을 실행하여 이전 단계에서 만든 예측 모델의 성능을 평가합니다. "
   ]
  },
  {
   "cell_type": "code",
   "execution_count": null,
   "id": "67159796-2489-4576-942d-5939f24d962f",
   "metadata": {
    "tags": []
   },
   "outputs": [],
   "source": [
    "%%thanosql \n",
    "EVALUATE USING titanic_automl_classification \n",
    "OPTIONS (\n",
    "    target = 'survived'\n",
    "    )\n",
    "AS\n",
    "SELECT *\n",
    "FROM titanic_train"
   ]
  },
  {
   "cell_type": "markdown",
   "id": "b4df22cc",
   "metadata": {},
   "source": [
    "\"__쿼리 세부 정보__\"   \n",
    "   - \"__EVALUATE USING__\" 쿼리 구문을 사용하여 구축한  <mark style=\"background-color:#E9D7FD \">titanic_automl_classification</mark>이라는 모델을 평가합니다. \n",
    "   - \"__OPTIONS__\" 쿼리 구문을 통해 모델 평가에 사용할 옵션을 지정합니다.\n",
    "       - \"target\" : 분류 예측 모델에 목푯값이 되는 컬럼의 이름"
   ]
  },
  {
   "cell_type": "markdown",
   "id": "aa047726-113b-48ae-8247-135a37592945",
   "metadata": {},
   "source": [
    "## __4. 생성된 모델을 사용하여 생존자 예측__\n",
    "\n",
    "이전 단계에서 생성한 생존자 예측 모델을 사용해 탑승 승객 정보에 따른 생존 여부를 예측해 봅니다. 테스트용 데이터 세트(학습에 이용되지 않은 데이터 테이블, <mark style=\"background-color:#FFEC92 \">__titanic_test__</mark>)를 사용합니다."
   ]
  },
  {
   "cell_type": "code",
   "execution_count": null,
   "id": "1df25db0-3352-4893-b0af-6e10cea8f7b0",
   "metadata": {
    "tags": []
   },
   "outputs": [],
   "source": [
    "%%thanosql \n",
    "PREDICT USING titanic_automl_classification\n",
    "AS \n",
    "SELECT * \n",
    "FROM titanic_test"
   ]
  },
  {
   "cell_type": "markdown",
   "id": "a0ef3104",
   "metadata": {},
   "source": [
    "\"__쿼리 세부 정보__\" \n",
    "\n",
    "\"__PREDICT USING__\" 쿼리 구문을 사용하여 이전 단계에서 만든 <mark style=\"background-color:#E9D7FD \">titanic_automl_classification</mark> 모델을 예측에 사용합니다. \"__PREDICT__\"의 경우 생성된 모델의 절차를 따르기 때문에 특별한 옵션이 필요없습니다."
   ]
  }
 ],
 "metadata": {
  "kernelspec": {
   "display_name": "Python 3 (ipykernel)",
   "language": "python",
   "name": "python3"
  },
  "language_info": {
   "codemirror_mode": {
    "name": "ipython",
    "version": 3
   },
   "file_extension": ".py",
   "mimetype": "text/x-python",
   "name": "python",
   "nbconvert_exporter": "python",
   "pygments_lexer": "ipython3",
   "version": "3.9.12"
  },
  "vscode": {
   "interpreter": {
    "hash": "1e1bc7e99b2f95d9f5252b41d6fcfb61f279cf1cd0f9acb6930626c23d06a5aa"
   }
  }
 },
 "nbformat": 4,
 "nbformat_minor": 5
}
