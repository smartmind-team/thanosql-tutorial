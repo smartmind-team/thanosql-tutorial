{
 "cells": [
  {
   "cell_type": "markdown",
   "id": "dcba9de7-327b-425a-81c8-22bebfdf88ca",
   "metadata": {},
   "source": [
    "# __Auto-ML을 사용하여 분류 모델 만들기__"
   ]
  },
  {
   "cell_type": "markdown",
   "id": "b9d4488f",
   "metadata": {},
   "source": [
    "**분류 작업 이해하기** \n",
    "--- \n",
    "👉 분류 작업은 목표값(Target)이 속한 범주(Category 또는 Class)를 예측하기 위해 사용하는 머신러닝(기계학습/Machine Learning)의 한 형태입니다. 예를 들어, 남성 또는 여성을 분류하는 이진 분류와 동물의 종(개, 고양이, 토끼 등)을 예측하는 다중 분류 모두 분류 작업에 포함됩니다.\n",
    "\n",
    "**본 튜토리얼에서는** \n",
    "--- \n",
    "👉 대표적인 머신러닝 경진대회 플랫폼인 캐글의 입문자를 위한 Titanic: Machine Learning from Disaster 데이터 세트를 사용하여 생존자 예측 분류 모델을 만듭니다. 이 대회의 목표는 아래와 같습니다. (참고로, 해당 대회의 데이터는 1912년 4월 15일 실제 타이타닉 사건 때, 탑승했었던 승객들 명단입니다.)\n"
   ]
  },
  {
   "cell_type": "markdown",
   "id": "1051840d-421e-4cab-9629-bcf6e37b7db6",
   "metadata": {},
   "source": [
    "## __0. 데이터 준비__"
   ]
  },
  {
   "cell_type": "markdown",
   "id": "9fb5f11f",
   "metadata": {},
   "source": [
    "ThanoSQL의 쿼리 구문을 사용하기 위해서는 [ThanoSQL 워크스페이스](https://docs.thanosql.ai/quick_start/how_to_use_ThanoSQL/#5-thanosql)\n",
    "에서 언급된 것처럼 API 토큰을 생성하고 아래의 쿼리를 실행해야 합니다.   "
   ]
  },
  {
   "cell_type": "code",
   "execution_count": null,
   "id": "32fbea16-ab9a-45cb-948b-dfecf06902a0",
   "metadata": {},
   "outputs": [],
   "source": [
    "%load_ext thanosql\n",
    "%thanosql API_TOKEN={발급받은 개인 토큰}"
   ]
  },
  {
   "cell_type": "code",
   "execution_count": 2,
   "id": "c7b0c89c-8bdb-4065-9394-6f57e33be899",
   "metadata": {},
   "outputs": [
    {
     "name": "stdout",
     "output_type": "stream",
     "text": [
      "Success\n"
     ]
    }
   ],
   "source": [
    "%%thanosql\n",
    "COPY titanic_train FROM \"tutorial_data/titanic_data/titanic_train.csv\""
   ]
  },
  {
   "cell_type": "code",
   "execution_count": 3,
   "id": "26e63b28-7b06-4378-a789-2c56929df59a",
   "metadata": {},
   "outputs": [
    {
     "name": "stdout",
     "output_type": "stream",
     "text": [
      "Success\n"
     ]
    }
   ],
   "source": [
    "%%thanosql\n",
    "COPY titanic_test FROM \"tutorial_data/titanic_data/titanic_test.csv\""
   ]
  },
  {
   "cell_type": "markdown",
   "id": "eff7350d-3b29-44a2-84d6-132d3b41a989",
   "metadata": {},
   "source": [
    "## __1. 데이터 세트 확인__"
   ]
  },
  {
   "cell_type": "markdown",
   "id": "e2f104a1-19ce-4adb-9999-b2398f8094c2",
   "metadata": {},
   "source": [
    "생존자 예측 분류 모델을 만들기 위해 우리는 ThanoSQL DB에 저장되어 있는 titanic_train 테이블을 사용합니다. 아래의 쿼리문을 실행하면서 테이블 내용을 확인합니다."
   ]
  },
  {
   "cell_type": "code",
   "execution_count": 4,
   "id": "14b95522-168a-482c-a039-5af17deafc6a",
   "metadata": {},
   "outputs": [
    {
     "data": {
      "text/html": [
       "<div>\n",
       "<style scoped>\n",
       "    .dataframe tbody tr th:only-of-type {\n",
       "        vertical-align: middle;\n",
       "    }\n",
       "\n",
       "    .dataframe tbody tr th {\n",
       "        vertical-align: top;\n",
       "    }\n",
       "\n",
       "    .dataframe thead th {\n",
       "        text-align: right;\n",
       "    }\n",
       "</style>\n",
       "<table border=\"1\" class=\"dataframe\">\n",
       "  <thead>\n",
       "    <tr style=\"text-align: right;\">\n",
       "      <th></th>\n",
       "      <th>passengerid</th>\n",
       "      <th>pclass</th>\n",
       "      <th>name</th>\n",
       "      <th>sex</th>\n",
       "      <th>age</th>\n",
       "      <th>sibsp</th>\n",
       "      <th>parch</th>\n",
       "      <th>ticket</th>\n",
       "      <th>fare</th>\n",
       "      <th>cabin</th>\n",
       "      <th>embarked</th>\n",
       "    </tr>\n",
       "  </thead>\n",
       "  <tbody>\n",
       "    <tr>\n",
       "      <th>0</th>\n",
       "      <td>892</td>\n",
       "      <td>3</td>\n",
       "      <td>Kelly, Mr. James</td>\n",
       "      <td>male</td>\n",
       "      <td>34.5</td>\n",
       "      <td>0</td>\n",
       "      <td>0</td>\n",
       "      <td>330911</td>\n",
       "      <td>7.8292</td>\n",
       "      <td>NaN</td>\n",
       "      <td>Q</td>\n",
       "    </tr>\n",
       "    <tr>\n",
       "      <th>1</th>\n",
       "      <td>893</td>\n",
       "      <td>3</td>\n",
       "      <td>Wilkes, Mrs. James (Ellen Needs)</td>\n",
       "      <td>female</td>\n",
       "      <td>47.0</td>\n",
       "      <td>1</td>\n",
       "      <td>0</td>\n",
       "      <td>363272</td>\n",
       "      <td>7.0000</td>\n",
       "      <td>NaN</td>\n",
       "      <td>S</td>\n",
       "    </tr>\n",
       "    <tr>\n",
       "      <th>2</th>\n",
       "      <td>894</td>\n",
       "      <td>2</td>\n",
       "      <td>Myles, Mr. Thomas Francis</td>\n",
       "      <td>male</td>\n",
       "      <td>62.0</td>\n",
       "      <td>0</td>\n",
       "      <td>0</td>\n",
       "      <td>240276</td>\n",
       "      <td>9.6875</td>\n",
       "      <td>NaN</td>\n",
       "      <td>Q</td>\n",
       "    </tr>\n",
       "    <tr>\n",
       "      <th>3</th>\n",
       "      <td>895</td>\n",
       "      <td>3</td>\n",
       "      <td>Wirz, Mr. Albert</td>\n",
       "      <td>male</td>\n",
       "      <td>27.0</td>\n",
       "      <td>0</td>\n",
       "      <td>0</td>\n",
       "      <td>315154</td>\n",
       "      <td>8.6625</td>\n",
       "      <td>NaN</td>\n",
       "      <td>S</td>\n",
       "    </tr>\n",
       "    <tr>\n",
       "      <th>4</th>\n",
       "      <td>896</td>\n",
       "      <td>3</td>\n",
       "      <td>Hirvonen, Mrs. Alexander (Helga E Lindqvist)</td>\n",
       "      <td>female</td>\n",
       "      <td>22.0</td>\n",
       "      <td>1</td>\n",
       "      <td>1</td>\n",
       "      <td>3101298</td>\n",
       "      <td>12.2875</td>\n",
       "      <td>NaN</td>\n",
       "      <td>S</td>\n",
       "    </tr>\n",
       "  </tbody>\n",
       "</table>\n",
       "</div>"
      ],
      "text/plain": [
       "   passengerid  pclass                                          name     sex  \\\n",
       "0          892       3                              Kelly, Mr. James    male   \n",
       "1          893       3              Wilkes, Mrs. James (Ellen Needs)  female   \n",
       "2          894       2                     Myles, Mr. Thomas Francis    male   \n",
       "3          895       3                              Wirz, Mr. Albert    male   \n",
       "4          896       3  Hirvonen, Mrs. Alexander (Helga E Lindqvist)  female   \n",
       "\n",
       "    age  sibsp  parch   ticket     fare  cabin embarked  \n",
       "0  34.5      0      0   330911   7.8292    NaN        Q  \n",
       "1  47.0      1      0   363272   7.0000    NaN        S  \n",
       "2  62.0      0      0   240276   9.6875    NaN        Q  \n",
       "3  27.0      0      0   315154   8.6625    NaN        S  \n",
       "4  22.0      1      1  3101298  12.2875    NaN        S  "
      ]
     },
     "execution_count": 4,
     "metadata": {},
     "output_type": "execute_result"
    }
   ],
   "source": [
    "%%thanosql\n",
    "SELECT * \n",
    "FROM titanic_test \n",
    "LIMIT 5 "
   ]
  },
  {
   "cell_type": "markdown",
   "id": "cd8c9617",
   "metadata": {},
   "source": [
    "**데이터 이해하기**   \n",
    "-  passengerid  : 탑승승객 아이디  \n",
    "-  survived  : 탑승승객  \n",
    "-  pclass  : 탑승승객 티켓 등급  \n",
    "-  name  : 탑승승객 이름  \n",
    "-  sex  : 탑승승객 성별  \n",
    "-  age  : 탑승승객 나이  \n",
    "-  sibsp  : 탑승한 형제 자매 또는 배우자 수   \n",
    "-  parch  : 탑승한 부모 또는 자녀의 수  \n",
    "-  ticket  : 티켓 번호  \n",
    "-  fare  : 요금  \n",
    "-  cabin  : 선실  \n",
    "-  embarked  : 승선지 또는 항구   \n",
    "\n",
    "이번 튜토리얼에서는 추가적인 쿼리문을 이용한 데이터 전처리가 필요한  name ,  ticket ,  cabin 컬럼을 제외하고 모델 학습을 진행하겠습니다."
   ]
  },
  {
   "cell_type": "markdown",
   "id": "af169f51-b815-4230-b398-2f9f3e46b7bd",
   "metadata": {},
   "source": [
    "## __2. 분류 모델 생성__"
   ]
  },
  {
   "cell_type": "markdown",
   "id": "8a873dcf-a0a7-40bf-b6d4-7679a63b318a",
   "metadata": {},
   "source": [
    "이전 단계에서 확인한 titanic_train 데이터를 사용하여 생존자 예측 분류 모델을 만듭니다. 아래의 쿼리 구문을 실행시켜 titanic_classification 이름의 모델을 만들어 봅니다."
   ]
  },
  {
   "cell_type": "code",
   "execution_count": 7,
   "id": "2fb6601a-81af-4c99-af73-4c6894e0ac72",
   "metadata": {},
   "outputs": [
    {
     "name": "stdout",
     "output_type": "stream",
     "text": [
      "Success\n"
     ]
    }
   ],
   "source": [
    "%%thanosql\n",
    "BUILD MODEL tutorial_automl_classification \n",
    "USING AutomlClassifier \n",
    "OPTIONS (\n",
    "    target='survived', \n",
    "    impute_type='iterative',  \n",
    "    features_to_drop=[\"name\", 'ticket', 'passengerid', 'cabin'],\n",
    "    time_left_for_this_task = 300\n",
    "    ) \n",
    "AS \n",
    "SELECT * \n",
    "FROM titanic_train"
   ]
  },
  {
   "cell_type": "markdown",
   "id": "6b0fce36",
   "metadata": {},
   "source": [
    "__쿼리 세부 정보__ \n",
    "\n",
    "- \"__BUILD MODEL__\" 쿼리 구문을 사용하여 <mark style=\"background-color:#E9D7FD \">titanic_automl_classification</mark>이라는 모델을 만들고 학습시킵니다.  \n",
    "- \"__OPTIONS__\"의 \"target\"에는 분류 예측 모델에 목표값이 되는 컬럼(Column)의 이름을 적어줍니다. \"impute_type\"의 경우에는 데이터 세트의 빈 값에 대한 처리를 의미합니다. \"features_to_drop\"은 학습에 이용하지 않을 데이터를 적어주면 머신러닝 모델 생성을 진행할 수 있습니다.  "
   ]
  },
  {
   "cell_type": "markdown",
   "id": "63a96457-78da-4d01-a760-953febcf08cd",
   "metadata": {},
   "source": [
    "## __3. 생성된 모델 평가__"
   ]
  },
  {
   "cell_type": "markdown",
   "id": "a90ebd34-57f5-4a32-95e6-1b95b0fe9358",
   "metadata": {},
   "source": [
    "아래의 쿼리문을 실행하여 이전 단계에서 만든 예측 모델의 성능을 평가합니다. "
   ]
  },
  {
   "cell_type": "code",
   "execution_count": 8,
   "id": "67159796-2489-4576-942d-5939f24d962f",
   "metadata": {},
   "outputs": [
    {
     "data": {
      "text/html": [
       "<div>\n",
       "<style scoped>\n",
       "    .dataframe tbody tr th:only-of-type {\n",
       "        vertical-align: middle;\n",
       "    }\n",
       "\n",
       "    .dataframe tbody tr th {\n",
       "        vertical-align: top;\n",
       "    }\n",
       "\n",
       "    .dataframe thead th {\n",
       "        text-align: right;\n",
       "    }\n",
       "</style>\n",
       "<table border=\"1\" class=\"dataframe\">\n",
       "  <thead>\n",
       "    <tr style=\"text-align: right;\">\n",
       "      <th></th>\n",
       "      <th>metrics</th>\n",
       "      <th>value</th>\n",
       "    </tr>\n",
       "  </thead>\n",
       "  <tbody>\n",
       "    <tr>\n",
       "      <th>0</th>\n",
       "      <td>accuracy</td>\n",
       "      <td>0.897868</td>\n",
       "    </tr>\n",
       "    <tr>\n",
       "      <th>1</th>\n",
       "      <td>ROCAUC</td>\n",
       "      <td>0.895374</td>\n",
       "    </tr>\n",
       "    <tr>\n",
       "      <th>2</th>\n",
       "      <td>Recall</td>\n",
       "      <td>0.886154</td>\n",
       "    </tr>\n",
       "    <tr>\n",
       "      <th>3</th>\n",
       "      <td>Precision</td>\n",
       "      <td>0.842105</td>\n",
       "    </tr>\n",
       "    <tr>\n",
       "      <th>4</th>\n",
       "      <td>f1-score</td>\n",
       "      <td>0.863568</td>\n",
       "    </tr>\n",
       "    <tr>\n",
       "      <th>5</th>\n",
       "      <td>Kappa</td>\n",
       "      <td>0.782039</td>\n",
       "    </tr>\n",
       "    <tr>\n",
       "      <th>6</th>\n",
       "      <td>MCC</td>\n",
       "      <td>0.782688</td>\n",
       "    </tr>\n",
       "  </tbody>\n",
       "</table>\n",
       "</div>"
      ],
      "text/plain": [
       "     metrics     value\n",
       "0   accuracy  0.897868\n",
       "1     ROCAUC  0.895374\n",
       "2     Recall  0.886154\n",
       "3  Precision  0.842105\n",
       "4   f1-score  0.863568\n",
       "5      Kappa  0.782039\n",
       "6        MCC  0.782688"
      ]
     },
     "execution_count": 8,
     "metadata": {},
     "output_type": "execute_result"
    }
   ],
   "source": [
    "%%thanosql \n",
    "EVALUATE USING tutorial_automl_classification \n",
    "OPTIONS (\n",
    "    target = 'survived'\n",
    "    )\n",
    "AS \n",
    "SELECT * \n",
    "FROM titanic_train"
   ]
  },
  {
   "cell_type": "markdown",
   "id": "b4df22cc",
   "metadata": {},
   "source": [
    "__ 쿼리 세부 정보__\n",
    "- \"__EVALUATE USING__\" 쿼리 구문을 사용하여 구축한 titanic_automl_classification이라는 모델을 평가합니다. \n",
    "- \"__OPTIONS__\"의 \"target\"에는 분류 예측 모델에 목표값이 되는 컬럼의 이름(survived)을 적어줍니다."
   ]
  },
  {
   "cell_type": "markdown",
   "id": "aa047726-113b-48ae-8247-135a37592945",
   "metadata": {},
   "source": [
    "## __4. 생성된 모델을 사용하여 생존자 예측__"
   ]
  },
  {
   "cell_type": "markdown",
   "id": "7b806743-31a5-4017-b1d6-b6afd6ce4b73",
   "metadata": {},
   "source": [
    "이전 단계에서 생성한 생존자 예측 모델을 사용해 탑승 승객 정보에 따른 생존 여부를 예측해 봅니다. 테스트용 데이터 세트(학습에 이용되지 않은 데이터 테이블, titanic_test)를 사용합니다."
   ]
  },
  {
   "cell_type": "code",
   "execution_count": 9,
   "id": "1df25db0-3352-4893-b0af-6e10cea8f7b0",
   "metadata": {},
   "outputs": [
    {
     "data": {
      "text/html": [
       "<div>\n",
       "<style scoped>\n",
       "    .dataframe tbody tr th:only-of-type {\n",
       "        vertical-align: middle;\n",
       "    }\n",
       "\n",
       "    .dataframe tbody tr th {\n",
       "        vertical-align: top;\n",
       "    }\n",
       "\n",
       "    .dataframe thead th {\n",
       "        text-align: right;\n",
       "    }\n",
       "</style>\n",
       "<table border=\"1\" class=\"dataframe\">\n",
       "  <thead>\n",
       "    <tr style=\"text-align: right;\">\n",
       "      <th></th>\n",
       "      <th>passengerid</th>\n",
       "      <th>pclass</th>\n",
       "      <th>name</th>\n",
       "      <th>sex</th>\n",
       "      <th>age</th>\n",
       "      <th>sibsp</th>\n",
       "      <th>parch</th>\n",
       "      <th>ticket</th>\n",
       "      <th>fare</th>\n",
       "      <th>cabin</th>\n",
       "      <th>embarked</th>\n",
       "      <th>predicted</th>\n",
       "    </tr>\n",
       "  </thead>\n",
       "  <tbody>\n",
       "    <tr>\n",
       "      <th>0</th>\n",
       "      <td>892</td>\n",
       "      <td>3</td>\n",
       "      <td>Kelly, Mr. James</td>\n",
       "      <td>male</td>\n",
       "      <td>34.5</td>\n",
       "      <td>0</td>\n",
       "      <td>0</td>\n",
       "      <td>330911</td>\n",
       "      <td>7.8292</td>\n",
       "      <td>None</td>\n",
       "      <td>Q</td>\n",
       "      <td>0</td>\n",
       "    </tr>\n",
       "    <tr>\n",
       "      <th>1</th>\n",
       "      <td>893</td>\n",
       "      <td>3</td>\n",
       "      <td>Wilkes, Mrs. James (Ellen Needs)</td>\n",
       "      <td>female</td>\n",
       "      <td>47.0</td>\n",
       "      <td>1</td>\n",
       "      <td>0</td>\n",
       "      <td>363272</td>\n",
       "      <td>7.0000</td>\n",
       "      <td>None</td>\n",
       "      <td>S</td>\n",
       "      <td>0</td>\n",
       "    </tr>\n",
       "    <tr>\n",
       "      <th>2</th>\n",
       "      <td>894</td>\n",
       "      <td>2</td>\n",
       "      <td>Myles, Mr. Thomas Francis</td>\n",
       "      <td>male</td>\n",
       "      <td>62.0</td>\n",
       "      <td>0</td>\n",
       "      <td>0</td>\n",
       "      <td>240276</td>\n",
       "      <td>9.6875</td>\n",
       "      <td>None</td>\n",
       "      <td>Q</td>\n",
       "      <td>0</td>\n",
       "    </tr>\n",
       "    <tr>\n",
       "      <th>3</th>\n",
       "      <td>895</td>\n",
       "      <td>3</td>\n",
       "      <td>Wirz, Mr. Albert</td>\n",
       "      <td>male</td>\n",
       "      <td>27.0</td>\n",
       "      <td>0</td>\n",
       "      <td>0</td>\n",
       "      <td>315154</td>\n",
       "      <td>8.6625</td>\n",
       "      <td>None</td>\n",
       "      <td>S</td>\n",
       "      <td>0</td>\n",
       "    </tr>\n",
       "    <tr>\n",
       "      <th>4</th>\n",
       "      <td>896</td>\n",
       "      <td>3</td>\n",
       "      <td>Hirvonen, Mrs. Alexander (Helga E Lindqvist)</td>\n",
       "      <td>female</td>\n",
       "      <td>22.0</td>\n",
       "      <td>1</td>\n",
       "      <td>1</td>\n",
       "      <td>3101298</td>\n",
       "      <td>12.2875</td>\n",
       "      <td>None</td>\n",
       "      <td>S</td>\n",
       "      <td>1</td>\n",
       "    </tr>\n",
       "    <tr>\n",
       "      <th>...</th>\n",
       "      <td>...</td>\n",
       "      <td>...</td>\n",
       "      <td>...</td>\n",
       "      <td>...</td>\n",
       "      <td>...</td>\n",
       "      <td>...</td>\n",
       "      <td>...</td>\n",
       "      <td>...</td>\n",
       "      <td>...</td>\n",
       "      <td>...</td>\n",
       "      <td>...</td>\n",
       "      <td>...</td>\n",
       "    </tr>\n",
       "    <tr>\n",
       "      <th>413</th>\n",
       "      <td>1305</td>\n",
       "      <td>3</td>\n",
       "      <td>Spector, Mr. Woolf</td>\n",
       "      <td>male</td>\n",
       "      <td>NaN</td>\n",
       "      <td>0</td>\n",
       "      <td>0</td>\n",
       "      <td>A.5. 3236</td>\n",
       "      <td>8.0500</td>\n",
       "      <td>None</td>\n",
       "      <td>S</td>\n",
       "      <td>0</td>\n",
       "    </tr>\n",
       "    <tr>\n",
       "      <th>414</th>\n",
       "      <td>1306</td>\n",
       "      <td>1</td>\n",
       "      <td>Oliva y Ocana, Dona. Fermina</td>\n",
       "      <td>female</td>\n",
       "      <td>39.0</td>\n",
       "      <td>0</td>\n",
       "      <td>0</td>\n",
       "      <td>PC 17758</td>\n",
       "      <td>108.9000</td>\n",
       "      <td>C105</td>\n",
       "      <td>C</td>\n",
       "      <td>1</td>\n",
       "    </tr>\n",
       "    <tr>\n",
       "      <th>415</th>\n",
       "      <td>1307</td>\n",
       "      <td>3</td>\n",
       "      <td>Saether, Mr. Simon Sivertsen</td>\n",
       "      <td>male</td>\n",
       "      <td>38.5</td>\n",
       "      <td>0</td>\n",
       "      <td>0</td>\n",
       "      <td>SOTON/O.Q. 3101262</td>\n",
       "      <td>7.2500</td>\n",
       "      <td>None</td>\n",
       "      <td>S</td>\n",
       "      <td>0</td>\n",
       "    </tr>\n",
       "    <tr>\n",
       "      <th>416</th>\n",
       "      <td>1308</td>\n",
       "      <td>3</td>\n",
       "      <td>Ware, Mr. Frederick</td>\n",
       "      <td>male</td>\n",
       "      <td>NaN</td>\n",
       "      <td>0</td>\n",
       "      <td>0</td>\n",
       "      <td>359309</td>\n",
       "      <td>8.0500</td>\n",
       "      <td>None</td>\n",
       "      <td>S</td>\n",
       "      <td>0</td>\n",
       "    </tr>\n",
       "    <tr>\n",
       "      <th>417</th>\n",
       "      <td>1309</td>\n",
       "      <td>3</td>\n",
       "      <td>Peter, Master. Michael J</td>\n",
       "      <td>male</td>\n",
       "      <td>NaN</td>\n",
       "      <td>1</td>\n",
       "      <td>1</td>\n",
       "      <td>2668</td>\n",
       "      <td>22.3583</td>\n",
       "      <td>None</td>\n",
       "      <td>C</td>\n",
       "      <td>0</td>\n",
       "    </tr>\n",
       "  </tbody>\n",
       "</table>\n",
       "<p>418 rows × 12 columns</p>\n",
       "</div>"
      ],
      "text/plain": [
       "     passengerid  pclass                                          name  \\\n",
       "0            892       3                              Kelly, Mr. James   \n",
       "1            893       3              Wilkes, Mrs. James (Ellen Needs)   \n",
       "2            894       2                     Myles, Mr. Thomas Francis   \n",
       "3            895       3                              Wirz, Mr. Albert   \n",
       "4            896       3  Hirvonen, Mrs. Alexander (Helga E Lindqvist)   \n",
       "..           ...     ...                                           ...   \n",
       "413         1305       3                            Spector, Mr. Woolf   \n",
       "414         1306       1                  Oliva y Ocana, Dona. Fermina   \n",
       "415         1307       3                  Saether, Mr. Simon Sivertsen   \n",
       "416         1308       3                           Ware, Mr. Frederick   \n",
       "417         1309       3                      Peter, Master. Michael J   \n",
       "\n",
       "        sex   age  sibsp  parch              ticket      fare cabin embarked  \\\n",
       "0      male  34.5      0      0              330911    7.8292  None        Q   \n",
       "1    female  47.0      1      0              363272    7.0000  None        S   \n",
       "2      male  62.0      0      0              240276    9.6875  None        Q   \n",
       "3      male  27.0      0      0              315154    8.6625  None        S   \n",
       "4    female  22.0      1      1             3101298   12.2875  None        S   \n",
       "..      ...   ...    ...    ...                 ...       ...   ...      ...   \n",
       "413    male   NaN      0      0           A.5. 3236    8.0500  None        S   \n",
       "414  female  39.0      0      0            PC 17758  108.9000  C105        C   \n",
       "415    male  38.5      0      0  SOTON/O.Q. 3101262    7.2500  None        S   \n",
       "416    male   NaN      0      0              359309    8.0500  None        S   \n",
       "417    male   NaN      1      1                2668   22.3583  None        C   \n",
       "\n",
       "     predicted  \n",
       "0            0  \n",
       "1            0  \n",
       "2            0  \n",
       "3            0  \n",
       "4            1  \n",
       "..         ...  \n",
       "413          0  \n",
       "414          1  \n",
       "415          0  \n",
       "416          0  \n",
       "417          0  \n",
       "\n",
       "[418 rows x 12 columns]"
      ]
     },
     "execution_count": 9,
     "metadata": {},
     "output_type": "execute_result"
    }
   ],
   "source": [
    "%%thanosql \n",
    "PREDICT USING tutorial_automl_classification\n",
    "AS \n",
    "SELECT * \n",
    "FROM titanic_test"
   ]
  },
  {
   "cell_type": "markdown",
   "id": "a0ef3104",
   "metadata": {},
   "source": [
    "__쿼리 세부 정보__ \n",
    "\n",
    "- \"PREDICT USING\" 쿼리 구문을 사용하여 이전 단계에서 만든 tutorial_automl_classification 모델을 예측에 사용합니다. \"PREDICT\"의 경우 생성된 모델의 절차를 따르기 때문에 특별한 처리가 필요없습니다."
   ]
  }
 ],
 "metadata": {
  "kernelspec": {
   "display_name": "Python 3 (ipykernel)",
   "language": "python",
   "name": "python3"
  },
  "language_info": {
   "codemirror_mode": {
    "name": "ipython",
    "version": 3
   },
   "file_extension": ".py",
   "mimetype": "text/x-python",
   "name": "python",
   "nbconvert_exporter": "python",
   "pygments_lexer": "ipython3",
   "version": "3.9.10"
  }
 },
 "nbformat": 4,
 "nbformat_minor": 5
}
