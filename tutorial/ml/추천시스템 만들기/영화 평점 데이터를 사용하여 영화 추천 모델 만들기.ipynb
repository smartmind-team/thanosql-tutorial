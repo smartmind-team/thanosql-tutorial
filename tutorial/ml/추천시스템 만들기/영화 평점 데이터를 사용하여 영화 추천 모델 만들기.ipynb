{
 "cells": [
  {
   "cell_type": "markdown",
   "id": "024f4196-9942-4329-a0a8-d348b6f38023",
   "metadata": {},
   "source": [
    "# __영화 평점 데이터를 사용하여 영화 추천 모델 만들기__\n",
    "\n",
    "**추천 모델 이해하기** \n",
    "--- \n",
    "👉 일반적으로 추천 모델에서 해당 플랫폼의 특정 사용자는 플랫폼 내의 전체 아이템(제품 또는 콘텐츠)이 아닌 소수의 아이템만을 소비(시청여부, 구매이력, 후기, 평점 등)하게 됩니다. 아직 소비하지 않은 아이템에 대해서 특정 소비자가 어떤 평점을 줄지 예측하고 높은 평점을 줄 것으로 예측되는 아이템(하지만 소비되지 않은 아이템)을 예측 평점이 높은 순위부터 보여줍니다.\n",
    "\n",
    "\n",
    "**본 튜토리얼에서는**\n",
    "--- \n",
    "👉 사용자가 콘텐츠에 부여한 평점 데이터를 사용하여 간단하게 사용자가 좋아할만한 영화 목록을 추천해주는 추천시스템을 구축합니다. 이를 위해, Movielens 영화 평점 데이터 세트를 사용합니다. Movielens 데이터 세트는 사용자가 특정 영화에 대해서 평점을 준 것을 모아놓은 데이터 세트입니다."
   ]
  },
  {
   "cell_type": "markdown",
   "id": "5db6a625-1093-44f1-9ff2-090038668a68",
   "metadata": {},
   "source": [
    "## __0. 데이터 세트 준비__\n",
    "\n",
    "ThanoSQL의 쿼리 구문을 사용하기 위해서는 [ThanoSQL 워크스페이스](https://docs.thanosql.ai/quick_start/how_to_use_ThanoSQL/#5-thanosql)\n",
    "에서 언급된 것처럼 API 토큰을 생성하고 아래의 쿼리를 실행해야 합니다.   "
   ]
  },
  {
   "cell_type": "code",
   "execution_count": null,
   "id": "de616c4d-0440-4cc3-85b3-b4a2f7cef89c",
   "metadata": {},
   "outputs": [],
   "source": [
    "%load_ext thanosql\n",
    "%thanosql API_TOKEN={발급받은 개인 토큰}"
   ]
  },
  {
   "cell_type": "code",
   "execution_count": 16,
   "id": "47ac5c61-0dba-4bc7-89bf-e6e5b11156e5",
   "metadata": {},
   "outputs": [
    {
     "name": "stdout",
     "output_type": "stream",
     "text": [
      "Success\n"
     ]
    }
   ],
   "source": [
    "%%thanosql\n",
    "COPY movielens_data FROM \"tutorial_data/movielens_data/movielens.csv\""
   ]
  },
  {
   "cell_type": "markdown",
   "id": "9199e432-0b37-4f25-bf7e-9053dcde3574",
   "metadata": {},
   "source": [
    "## __1. 데이터 세트 확인__"
   ]
  },
  {
   "cell_type": "markdown",
   "id": "aea9d281-c48e-438b-9fa3-d137f04c0ac5",
   "metadata": {},
   "source": [
    "영화 평점 데이터를 이용한 영화 추천 모델을 만들기 위해 ThanoSQL DB에 저장되어 있는 movielens_data 테이블을 사용합니다. 아래의 쿼리문을 실행하고 테이블의 내용을 확인합니다."
   ]
  },
  {
   "cell_type": "code",
   "execution_count": 17,
   "id": "0a266fc1-3926-4d82-ae7b-5510123190ab",
   "metadata": {},
   "outputs": [
    {
     "data": {
      "text/html": [
       "<div>\n",
       "<style scoped>\n",
       "    .dataframe tbody tr th:only-of-type {\n",
       "        vertical-align: middle;\n",
       "    }\n",
       "\n",
       "    .dataframe tbody tr th {\n",
       "        vertical-align: top;\n",
       "    }\n",
       "\n",
       "    .dataframe thead th {\n",
       "        text-align: right;\n",
       "    }\n",
       "</style>\n",
       "<table border=\"1\" class=\"dataframe\">\n",
       "  <thead>\n",
       "    <tr style=\"text-align: right;\">\n",
       "      <th></th>\n",
       "      <th>userid</th>\n",
       "      <th>movieid</th>\n",
       "      <th>rating</th>\n",
       "      <th>title</th>\n",
       "    </tr>\n",
       "  </thead>\n",
       "  <tbody>\n",
       "    <tr>\n",
       "      <th>0</th>\n",
       "      <td>31</td>\n",
       "      <td>1</td>\n",
       "      <td>3.0</td>\n",
       "      <td>Toy Story (1995)</td>\n",
       "    </tr>\n",
       "    <tr>\n",
       "      <th>1</th>\n",
       "      <td>31</td>\n",
       "      <td>110</td>\n",
       "      <td>5.0</td>\n",
       "      <td>Braveheart (1995)</td>\n",
       "    </tr>\n",
       "    <tr>\n",
       "      <th>2</th>\n",
       "      <td>31</td>\n",
       "      <td>260</td>\n",
       "      <td>5.0</td>\n",
       "      <td>Star Wars: Episode IV - A New Hope (1977)</td>\n",
       "    </tr>\n",
       "    <tr>\n",
       "      <th>3</th>\n",
       "      <td>31</td>\n",
       "      <td>364</td>\n",
       "      <td>3.0</td>\n",
       "      <td>Lion King, The (1994)</td>\n",
       "    </tr>\n",
       "    <tr>\n",
       "      <th>4</th>\n",
       "      <td>31</td>\n",
       "      <td>527</td>\n",
       "      <td>0.5</td>\n",
       "      <td>Schindler's List (1993)</td>\n",
       "    </tr>\n",
       "  </tbody>\n",
       "</table>\n",
       "</div>"
      ],
      "text/plain": [
       "   userid  movieid  rating                                      title\n",
       "0      31        1     3.0                           Toy Story (1995)\n",
       "1      31      110     5.0                          Braveheart (1995)\n",
       "2      31      260     5.0  Star Wars: Episode IV - A New Hope (1977)\n",
       "3      31      364     3.0                      Lion King, The (1994)\n",
       "4      31      527     0.5                    Schindler's List (1993)"
      ]
     },
     "execution_count": 17,
     "metadata": {},
     "output_type": "execute_result"
    }
   ],
   "source": [
    "%%thanosql \n",
    "SELECT * \n",
    "FROM movielens_data \n",
    "LIMIT 5"
   ]
  },
  {
   "cell_type": "markdown",
   "id": "8574a438",
   "metadata": {},
   "source": [
    "__데이터 이해하기__ \n",
    "\n",
    "movielens_data 데이터 세트는 다음과 같은 정보를 담고 있습니다.  \n",
    "- userid : 사용자 ID   \n",
    "- movieid : 영화 ID  \n",
    "- rating : 평점   \n",
    "- title : 영화 제목  \n",
    "\n",
    "userid 값이 31인 사용자는 \"Toy Story (1995)\"에 평점 3.0점을 주고 \"Braveheart (1995)\"에 평점 5.0점을 준 것을 확인할 수 있습니다. "
   ]
  },
  {
   "cell_type": "markdown",
   "id": "72987e90-23b2-4202-9b4c-d50a4c7369b2",
   "metadata": {},
   "source": [
    "## __2. 추천 모델 생성__"
   ]
  },
  {
   "cell_type": "markdown",
   "id": "260ffc20-4833-4ddf-9e8f-9e3fb294147f",
   "metadata": {},
   "source": [
    "이전 단계에서 확인한 movielens_data 데이터를 사용하여 영화 추천 모델을 만듭니다. 다음 쿼리 구문을 실행하여 my_movie_rec 이름의 모델을 만듭니다."
   ]
  },
  {
   "cell_type": "markdown",
   "id": "8b95c2ba",
   "metadata": {},
   "source": [
    "(쿼리 실행 시 예상 소요 시간 : 1 min)\n"
   ]
  },
  {
   "cell_type": "code",
   "execution_count": 20,
   "id": "f2ab4e98-3d1d-405c-b658-37cea091ce55",
   "metadata": {},
   "outputs": [
    {
     "name": "stdout",
     "output_type": "stream",
     "text": [
      "Success\n"
     ]
    }
   ],
   "source": [
    "%%thanosql\n",
    "BUILD MODEL my_movie_rec\n",
    "USING Light_FM\n",
    "OPTIONS (\n",
    "    user_col='userid',   \n",
    "    item_col='movieid',\n",
    "    rating_col='rating',\n",
    "    description_col='title'\n",
    "    )\n",
    "AS \n",
    "SELECT * \n",
    "FROM movielens_data"
   ]
  },
  {
   "cell_type": "markdown",
   "id": "f22a6966",
   "metadata": {},
   "source": [
    "__쿼리 세부 정보__ \n",
    "- \"__BUILD MODEL__\" 쿼리 구문을 사용하여 <mark style=\"background-color:#E9D7FD \">my_movie_rec</mark> 이라는 모델을 만들고 학습시킵니다. <br>\n",
    "- \"__OPTIONS__\"에서는 3개의 컬럼(Column)이 사용합니다. \"user_col\"에는 사용자의 ID (<mark style=\"background-color:#D7D0FF \">userid</mark>), \"item_col\"에는 아이템의 ID가 들어갑니다. 본 튜토리얼에서는 <mark style=\"background-color:#D7D0FF \">movieid</mark>가 사용됩니다. \"rating_col\"에서는 예측하고자 하는 목표값이 되는 열의 이름(<mark style=\"background-color:#D7D0FF \">rating</mark>)을 적어줍니다. "
   ]
  },
  {
   "cell_type": "markdown",
   "id": "aae52444-601c-4b74-8f6d-1961763b348d",
   "metadata": {},
   "source": [
    "## __3. 생성된 모델을 사용하여 추천 목록 생성__"
   ]
  },
  {
   "cell_type": "markdown",
   "id": "8190aa2f-2e12-447c-aaf8-64ed32eda2d1",
   "metadata": {},
   "source": [
    "이전 단계에서 생성한 영화 추천 모델을 사용해서 특정 사용자가 좋아할만한 아이템(영화) 목록을 10개 생성합니다."
   ]
  },
  {
   "cell_type": "code",
   "execution_count": 22,
   "id": "50c08dee-648b-41aa-aeee-b67c805999e8",
   "metadata": {},
   "outputs": [
    {
     "data": {
      "text/html": [
       "<div>\n",
       "<style scoped>\n",
       "    .dataframe tbody tr th:only-of-type {\n",
       "        vertical-align: middle;\n",
       "    }\n",
       "\n",
       "    .dataframe tbody tr th {\n",
       "        vertical-align: top;\n",
       "    }\n",
       "\n",
       "    .dataframe thead th {\n",
       "        text-align: right;\n",
       "    }\n",
       "</style>\n",
       "<table border=\"1\" class=\"dataframe\">\n",
       "  <thead>\n",
       "    <tr style=\"text-align: right;\">\n",
       "      <th></th>\n",
       "      <th>rank</th>\n",
       "    </tr>\n",
       "  </thead>\n",
       "  <tbody>\n",
       "    <tr>\n",
       "      <th>0</th>\n",
       "      <td>Incredibles, The (2004)</td>\n",
       "    </tr>\n",
       "    <tr>\n",
       "      <th>1</th>\n",
       "      <td>Avatar (2009)</td>\n",
       "    </tr>\n",
       "    <tr>\n",
       "      <th>2</th>\n",
       "      <td>Avengers, The (2012)</td>\n",
       "    </tr>\n",
       "    <tr>\n",
       "      <th>3</th>\n",
       "      <td>Toy Story 3 (2010)</td>\n",
       "    </tr>\n",
       "    <tr>\n",
       "      <th>4</th>\n",
       "      <td>Iron Man (2008)</td>\n",
       "    </tr>\n",
       "    <tr>\n",
       "      <th>5</th>\n",
       "      <td>Harry Potter and the Half-Blood Prince (2009)</td>\n",
       "    </tr>\n",
       "    <tr>\n",
       "      <th>6</th>\n",
       "      <td>How to Train Your Dragon (2010)</td>\n",
       "    </tr>\n",
       "    <tr>\n",
       "      <th>7</th>\n",
       "      <td>Night at the Museum (2006)</td>\n",
       "    </tr>\n",
       "    <tr>\n",
       "      <th>8</th>\n",
       "      <td>Up (2009)</td>\n",
       "    </tr>\n",
       "    <tr>\n",
       "      <th>9</th>\n",
       "      <td>Finding Nemo (2003)</td>\n",
       "    </tr>\n",
       "  </tbody>\n",
       "</table>\n",
       "</div>"
      ],
      "text/plain": [
       "                                            rank\n",
       "0                        Incredibles, The (2004)\n",
       "1                                  Avatar (2009)\n",
       "2                           Avengers, The (2012)\n",
       "3                             Toy Story 3 (2010)\n",
       "4                                Iron Man (2008)\n",
       "5  Harry Potter and the Half-Blood Prince (2009)\n",
       "6                How to Train Your Dragon (2010)\n",
       "7                     Night at the Museum (2006)\n",
       "8                                      Up (2009)\n",
       "9                            Finding Nemo (2003)"
      ]
     },
     "execution_count": 22,
     "metadata": {},
     "output_type": "execute_result"
    }
   ],
   "source": [
    "%%thanosql\n",
    "PREDICT USING my_movie_rec\n",
    "OPTIONS (\n",
    "    predict_type='user',\n",
    "    user_id=31, \n",
    "    nrec=10\n",
    "    )\n",
    "AS \n",
    "SELECT * \n",
    "FROM movielens_data"
   ]
  },
  {
   "cell_type": "markdown",
   "id": "5607996e",
   "metadata": {},
   "source": [
    "__쿼리 세부 정보__ \n",
    "- __\"PREDICT USING\"__ 쿼리 구문을 사용하여 이전 단계에서 만든 my_movie_rec 모델을 예측에 사용합니다. \n",
    "- 추천 모델에서는 예측 단계에서도 \"__OPTIONS__\"를 사용합니다. \"predict_type\"은 예측 결과를 정렬할 대상 기준을 설정합니다. 이번 튜토리얼에서는 특정 사용자(userid의 값이 31)에게 추천할 영화 목록을 보려고 하기 때문에 \"itemid\"를 적어주며 \"itemid\"는 보고자 하는 특정 사용자의 userid값인 31을 입력합니다. \"nrec\"는 추천하는 아이템의 개수를 의미합니다. "
   ]
  }
 ],
 "metadata": {
  "kernelspec": {
   "display_name": "Python 3 (ipykernel)",
   "language": "python",
   "name": "python3"
  },
  "language_info": {
   "codemirror_mode": {
    "name": "ipython",
    "version": 3
   },
   "file_extension": ".py",
   "mimetype": "text/x-python",
   "name": "python",
   "nbconvert_exporter": "python",
   "pygments_lexer": "ipython3",
   "version": "3.9.10"
  }
 },
 "nbformat": 4,
 "nbformat_minor": 5
}
