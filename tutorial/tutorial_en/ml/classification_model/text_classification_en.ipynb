{
 "cells": [
  {
   "cell_type": "markdown",
   "id": "6cfd2a8c-fdfc-4233-abd1-ece097069522",
   "metadata": {},
   "source": [
    "# __Create a text classification model__\n",
    "\n",
    "**Understanding the classification** \n",
    "--- \n",
    "👉 Classification is a form of machine learning used to predict the category (or class) to which the target belongs. For example, both binary classifications that classify men or women and multiple classifications that predict animal species (dogs, cats, rabbits, etc.) are included in the classification task.\n",
    "\n",
    "**NLP (Natural Language Processing)** \n",
    "--- \n",
    "NLP can be classified as natural language understanding and natural language generation depending on the purpose of the operation. Understanding natural language refers to the process of converting a natural language that a person understands into a value that a computer can understand. On the other hand, natural language generation further refers to the process of converting computer-readable values into natural language so that people can understand them.\n",
    "\n",
    "**In this tutorial**\n",
    "--- \n",
    "👉 Create a model that categorizes the emotions of movie reviews using Kaggle's IMDB Movie Reviews dataset, a representative machine learning competition platform. This dataset consists of 50,000 movie review text and a target for positive or negative emotions. Based on the movie rating, a value less than 5 is expressed as negative and a value greater than 7 is expressed as positive, and each individual film does not have more than 30 review results.\n",
    "\n",
    "__Tutorial Precautions__    \n",
    "> - The text classification model can be used to predict one target in one text.\n",
    "> - There must be a column representing the text and a column representing the target value of the text.\n",
    "> - The base model of the corresponding text classification model (`ELECTRA`) uses a GPU. Depending on the size and batch size of the model used, GPU memory may be low. In this case, try using a smaller model or reducing the batch size."
   ]
  },
  {
   "cell_type": "markdown",
   "id": "da62c91d-d726-4a7a-96b8-4a52b84b372a",
   "metadata": {},
   "source": [
    "## __0. Preparing a data set__"
   ]
  },
  {
   "cell_type": "markdown",
   "id": "f3b31e83",
   "metadata": {},
   "source": [
    "To use the query syntax of ThanoSQL, you must create an API token and run the query below, as mentioned in the [ThanoSQL Workspace](https://docs.thanosql.ai/quick_start/how_to_use_ThanoSQL/#5-thanosql)."
   ]
  },
  {
   "cell_type": "code",
   "execution_count": null,
   "id": "673f3d5d-8e1d-4fbd-ae09-3b8868957d31",
   "metadata": {},
   "outputs": [],
   "source": [
    "%load_ext thanosql\n",
    "%thanosql API_TOKEN=<Issued_API_TOKEN>"
   ]
  },
  {
   "cell_type": "code",
   "execution_count": null,
   "id": "be768992-c5db-416a-803d-0e90bb42fbcd",
   "metadata": {},
   "outputs": [],
   "source": [
    "%%thanosql\n",
    "COPY movie_review_train\n",
    "OPTIONS (overwrite=True) \n",
    "FROM \"tutorial_data/movie_review_data/movie_review_train.csv\""
   ]
  },
  {
   "cell_type": "code",
   "execution_count": null,
   "id": "418d182d-db65-4865-b128-869baab37523",
   "metadata": {},
   "outputs": [],
   "source": [
    "%%thanosql\n",
    "COPY movie_review_test \n",
    "OPTIONS (overwrite=True) \n",
    "FROM \"tutorial_data/movie_review_data/movie_review_test.csv\""
   ]
  },
  {
   "cell_type": "markdown",
   "id": "08d1f4e2",
   "metadata": {},
   "source": [
    "__OPTIONS__ : \n",
    "\n",
    "When __overwrite is true__, the user can create a data table with the same name as the previously created data table.  \n",
    "On the other hand, when __overwrite is False__, the user cannot create a data table with the same name as the previously created data table."
   ]
  },
  {
   "cell_type": "markdown",
   "id": "e557a156-1075-41df-b19f-ff0812a14b4c",
   "metadata": {},
   "source": [
    "## __1.Check Data Set__\n",
    "\n",
    "To create a movie review emotion classification model, we use the movie_review_train table stored in the ThanoSQL DB. Run the query statement below to verify the contents of the table."
   ]
  },
  {
   "cell_type": "code",
   "execution_count": null,
   "id": "49d801df-54d2-4809-bbed-69b2818e9cec",
   "metadata": {},
   "outputs": [],
   "source": [
    "%%thanosql\n",
    "SELECT *\n",
    "FROM movie_review_train\n",
    "LIMIT 5"
   ]
  },
  {
   "cell_type": "markdown",
   "id": "35132dce",
   "metadata": {},
   "source": [
    "__Understanding data__ \n",
    "- review : movie review text\n",
    "- sentiment : Target indicating whether the review is positive or negative"
   ]
  },
  {
   "cell_type": "markdown",
   "id": "d7c83528-ebc6-4a88-a29f-31afc0516935",
   "metadata": {},
   "source": [
    "## __2. Predict Movie Review Sentiment Classification Results Using Pretrained Models__\n",
    "\n",
    "First, let's predict the results with the models we learned in advance. Run the following query statement to use the tutorial_text_classification model to predict movie review classification results."
   ]
  },
  {
   "cell_type": "code",
   "execution_count": null,
   "id": "ae7a9324-9c5e-4be4-a933-8774bbdd01c9",
   "metadata": {},
   "outputs": [],
   "source": [
    "%%thanosql\n",
    "PREDICT USING tutorial_text_classification\n",
    "OPTIONS (\n",
    "    text_col='review',\n",
    "    label_col='sentiment'\n",
    "    )\n",
    "AS\n",
    "SELECT *\n",
    "FROM movie_review_test"
   ]
  },
  {
   "cell_type": "markdown",
   "id": "e9b4137e-75ad-4bea-bda0-0c7fcdb3b72b",
   "metadata": {},
   "source": [
    "## __3. Create a text classification model__\n",
    "\n",
    "Create a text classification model using the movie_review_train dataset that you saw in the previous step. Run the query syntax below to create a model named my_movie_review_classifier.\n",
    "\n",
    "(Expected time required for query execution: 3 min)"
   ]
  },
  {
   "cell_type": "code",
   "execution_count": null,
   "id": "8ffb0317-476e-409f-baa3-dc562d924e99",
   "metadata": {},
   "outputs": [],
   "source": [
    "%%thanosql\n",
    "BUILD MODEL my_movie_review_classifier\n",
    "USING ElectraEn\n",
    "OPTIONS (\n",
    "    text_col='review',\n",
    "    label_col='sentiment',\n",
    "    epochs=1,\n",
    "    batch_size=4,\n",
    "    overwrite= True\n",
    "    )\n",
    "AS\n",
    "SELECT *\n",
    "FROM movie_review_train"
   ]
  },
  {
   "cell_type": "markdown",
   "id": "836ffcb0",
   "metadata": {},
   "source": [
    "__Query Details__\n",
    "- \"__BUILD MODEL__\" Use the query syntax to create and learn a model called <mark style=\"background-color:#E9D7FD\">my_movie_review_classifier</mark>.\n",
    "- \"__USING__\" The query syntax specifies the use of `ElectraEn` as the base model.\n",
    "- \"__OPTIONS__\" Specifies the options used to create the model through the query syntax. \"text_col\" is the name of the column containing the text to be used for learning, and \"label_col\" is the name of the column containing information about the target. Specify how many times you want to repeat with \"epochs\". \"batch_size\" is the size of a bundle of data sets read in one learning.\n",
    "\n",
    "__overwrite is True__, users can create a data table with the same name as the previously created data table.\n",
    "__overwrite is False__, user cannot create a data table with the same name as the previously created data table."
   ]
  },
  {
   "cell_type": "markdown",
   "id": "d6402263-ff45-45e8-b221-27c1ff97c556",
   "metadata": {},
   "source": [
    "## __4. Predict Movie Review Sentiment Classification Results Using Generated Model__\n",
    "\n",
    "Use the text classification prediction model you created in the previous step to predict the target value of a specific review (data table not used for learning, movie_review_test)."
   ]
  },
  {
   "cell_type": "code",
   "execution_count": null,
   "id": "530b828d-962c-4115-a417-59ca2c621e98",
   "metadata": {},
   "outputs": [],
   "source": [
    "%%thanosql\n",
    "PREDICT USING my_movie_review_classifier\n",
    "OPTIONS (\n",
    "    text_col='review'\n",
    "    )\n",
    "AS\n",
    "SELECT *\n",
    "FROM movie_review_test"
   ]
  },
  {
   "cell_type": "markdown",
   "id": "7a27fb64",
   "metadata": {},
   "source": [
    "__Query Details__\n",
    "- Use the \"PREDICT USING\" query syntax to predict the my_movie_review_classifier model created in the previous step.\n",
    "- Specify the options to use for prediction through \"OPTIONS\". review is the name of the column containing the text to be used for the prediction. The prediction results are stored in the predicated column and returned."
   ]
  }
 ],
 "metadata": {
  "kernelspec": {
   "display_name": "Python 3 (ipykernel)",
   "language": "python",
   "name": "python3"
  },
  "language_info": {
   "codemirror_mode": {
    "name": "ipython",
    "version": 3
   },
   "file_extension": ".py",
   "mimetype": "text/x-python",
   "name": "python",
   "nbconvert_exporter": "python",
   "pygments_lexer": "ipython3",
   "version": "3.9.12"
  },
  "toc-autonumbering": false,
  "vscode": {
   "interpreter": {
    "hash": "31f2aee4e71d21fbe5cf8b01ff0e069b9275f58929596ceb00d14d90e3e16cd6"
   }
  }
 },
 "nbformat": 4,
 "nbformat_minor": 5
}
