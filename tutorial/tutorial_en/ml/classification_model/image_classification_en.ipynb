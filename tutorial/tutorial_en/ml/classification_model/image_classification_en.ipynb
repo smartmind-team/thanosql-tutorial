{
 "cells": [
  {
   "cell_type": "markdown",
   "id": "6cfd2a8c-fdfc-4233-abd1-ece097069522",
   "metadata": {},
   "source": [
    "# __Create an image classification model__\n",
    "\n",
    "**Understanding Classification Operations** \n",
    "--- \n",
    "👉 Classification is a form of machine learning used to predict the category(or class) to which the target belongs. For example, both binary classifications that classify men or women and multiple classifications that predict animal species (dogs, cats, rabbits, etc.) are included in the classification task.\n",
    "\n",
    "**In this tutorial**\n",
    "--- \n",
    "👉 Build a model that classifies more than 10,000 products using the `Product Image` dataset from [AI-Hub](https://aihub.or.kr/)), a leading AI open data sharing platform. The built model can be used as a detection and identification solution in smart logistics warehouses and unmanned stores. Datasets typically consist of over 10,000 commodity datasets of images and label (correct) pairs used to learn image classification techniques, and contain a total of 1,440,000 images. In this tutorial, you will only use 1,800 sheets of training data and 200 sheets of test data to learn how to use ThanoSQL and to check results quickly.\n",
    "\n",
    "__Precautions__    \n",
    "> - The image classification model can be used to predict one target value (Target, Category/Label) from one image.\n",
    "> - There must be a column representing the path of the image and a column representing the target value of the image.\n",
    "> - The base model of the corresponding image classification model ( `CONVNEXT `) uses a GPU.Depending on the size and batch size of the model used, GPU memory may be low. In this case, try using a smaller model or reducing the batch size."
   ]
  },
  {
   "cell_type": "markdown",
   "id": "41fe39bb-e2cb-497f-bff9-a51fbc633c36",
   "metadata": {},
   "source": [
    "## __0. Preparing a dataset__"
   ]
  },
  {
   "cell_type": "markdown",
   "id": "0041e565",
   "metadata": {},
   "source": [
    "To use the query syntax of ThanoSQL, you must create an API token and run the query below, as mentioned in the [ThanoSQL Workspace](https://docs.thanosql.ai/quick_start/how_to_use_ThanoSQL/#5-thanosql)."
   ]
  },
  {
   "cell_type": "code",
   "execution_count": null,
   "id": "8a1b1d06-b29f-4ade-91e2-7e4c6c33f8a1",
   "metadata": {
    "tags": []
   },
   "outputs": [],
   "source": [
    "%load_ext thanosql\n",
    "%thanosql API_TOKEN=<Issued_API_TOKEN>"
   ]
  },
  {
   "cell_type": "code",
   "execution_count": null,
   "id": "6e596460-cfe4-4c42-9aeb-71ca8ed9b4d6",
   "metadata": {
    "tags": []
   },
   "outputs": [],
   "source": [
    "%%thanosql\n",
    "COPY product_image_train\n",
    "OPTIONS (overwrite=True) \n",
    "FROM \"tutorial_data/product_image_data/product_image_train.csv\""
   ]
  },
  {
   "cell_type": "code",
   "execution_count": null,
   "id": "6b62469f-2a6e-443b-b317-115805e8925e",
   "metadata": {
    "tags": []
   },
   "outputs": [],
   "source": [
    "%%thanosql\n",
    "COPY product_image_test\n",
    "OPTIONS (overwrite=True) \n",
    "FROM \"tutorial_data/product_image_data/product_image_test.csv\""
   ]
  },
  {
   "cell_type": "markdown",
   "id": "4ca63b57",
   "metadata": {},
   "source": [
    "__OPTIONS__ : \n",
    "\n",
    "When __overwrite is true__, the user can create a data table with the same name as the previously created data table.  \n",
    "On the other hand, when __overwrite is False__, the user cannot create a data table with the same name as the previously created data table."
   ]
  },
  {
   "cell_type": "markdown",
   "id": "e557a156-1075-41df-b19f-ff0812a14b4c",
   "metadata": {},
   "source": [
    "## __1. Check Dataset__\n",
    "\n",
    "To proceed with this tutorial, we use the <mark style=\"background-color:#FFEC92 \">product_image_train</mark> table stored in the ThanoSQL DB. Run the query statement below to verify the contents of the table."
   ]
  },
  {
   "cell_type": "code",
   "execution_count": null,
   "id": "49d801df-54d2-4809-bbed-69b2818e9cec",
   "metadata": {
    "tags": []
   },
   "outputs": [],
   "source": [
    "%%thanosql\n",
    "SELECT *\n",
    "FROM product_image_train\n",
    "LIMIT 5"
   ]
  },
  {
   "cell_type": "markdown",
   "id": "12e90b90",
   "metadata": {},
   "source": [
    "__Understanding data__ \n",
    "- image_path : Location information of each image's file\n",
    "- div_l : Product's 1st Class\n",
    "- div_s : Product's 2nd Class\n",
    "- div_n : Product's 3rd Class\n",
    "- comp_nm : Manufacturer\n",
    "- img_prod_nm : Product name(in image)\n",
    "- multi : Multiple product images"
   ]
  },
  {
   "cell_type": "code",
   "execution_count": null,
   "id": "d28b5a16-ed9c-4194-9455-1751e0e3d7da",
   "metadata": {
    "tags": []
   },
   "outputs": [],
   "source": [
    "%%thanosql\n",
    "PRINT IMAGE\n",
    "AS\n",
    "SELECT image_path\n",
    "FROM product_image_train\n",
    "LIMIT 5"
   ]
  },
  {
   "cell_type": "markdown",
   "id": "e9b4137e-75ad-4bea-bda0-0c7fcdb3b72b",
   "metadata": {},
   "source": [
    "## __2. Predicting Product Image Classification Results Using Pretrained Models__\n",
    "\n",
    "By executing the following query statement, you can quickly predict the results using the <mark style=\"background-color:#E9D7FD \">tutorial_product_classifier</mark> model, a pre-trained product image classification model."
   ]
  },
  {
   "cell_type": "code",
   "execution_count": null,
   "id": "52c94b69-7a76-4ecb-b122-5698786dd206",
   "metadata": {
    "tags": []
   },
   "outputs": [],
   "source": [
    "%%thanosql\n",
    "PREDICT USING tutorial_product_classifier\n",
    "AS\n",
    "SELECT *\n",
    "FROM product_image_test"
   ]
  },
  {
   "cell_type": "markdown",
   "id": "6fcbcf7c-d66d-41e4-a54a-172f70940830",
   "metadata": {},
   "source": [
    "## __3. Create an image classification model__\n",
    "\n",
    "Create an image classification model using the <mark style=\"background-color:#FFEC92 \">product_image_train</mark> dataset that you saw in the previous step. Run the query syntax below to create a model named <mark style=\"background-color:#E9D7FD \">my_product_classifier</mark>.\n",
    "\n",
    "(Expected time required for query execution: 5 min)\n"
   ]
  },
  {
   "cell_type": "code",
   "execution_count": null,
   "id": "8ffb0317-476e-409f-baa3-dc562d924e99",
   "metadata": {
    "tags": []
   },
   "outputs": [],
   "source": [
    "%%thanosql\n",
    "BUILD MODEL my_product_classifier\n",
    "USING ConvNeXt_Tiny\n",
    "OPTIONS (\n",
    "  image_col='image_path',\n",
    "  label_col='div_l',\n",
    "  epochs=1,\n",
    "  overwrite=True\n",
    "  )\n",
    "AS\n",
    "SELECT *\n",
    "FROM product_image_train"
   ]
  },
  {
   "cell_type": "markdown",
   "id": "887d3405",
   "metadata": {},
   "source": [
    "__Query Details__ \n",
    "- \"__BUILD MODEL__\" Use the query syntax to create and train the <mark style=\"background-color:#E9D7FD\">my_image_classifier</mark> model.\n",
    "- \"__USING__\" The query syntax specifies the use of `ConvNeXt_Tiny` as the base model.\n",
    "- \"__OPTIONS__\" Specifies the options used to create the model through the query syntax.\n",
    "    - \"image_col\" : Name of column containing image path\n",
    "    - \"label_col\" : The name of the column containing information about the target value\n",
    "    - \"epochs : Number of times to learn all learning datasets\n",
    "    \n",
    "When __overwrite is true__, the user can create a data table with the same name as the previously created data table.  \n",
    "On the other hand, when __overwrite is False__, the user cannot create a data table with the same name as the previously created data table."
   ]
  },
  {
   "cell_type": "markdown",
   "id": "d6402263-ff45-45e8-b221-27c1ff97c556",
   "metadata": {},
   "source": [
    "## __4. Predict product image classification results using the generated model__\n",
    "\n",
    "Use the product image classification model(<mark style=\"background-color:#FFEC92 \">my_product_classifier</mark>) created in the previous step to predict the target value of a specific image(Data table not used for learning, <mark style=\"background-color:#D7D0FF\">product_image_test</mark>). Once the query has been performed below, the prediction results will be returned in the 'predicted' column."
   ]
  },
  {
   "cell_type": "code",
   "execution_count": null,
   "id": "530b828d-962c-4115-a417-59ca2c621e98",
   "metadata": {
    "tags": []
   },
   "outputs": [],
   "source": [
    "%%thanosql\n",
    "PREDICT USING my_product_classifier\n",
    "OPTIONS (\n",
    "    image_col='image_path'\n",
    "    )\n",
    "AS\n",
    "SELECT *\n",
    "FROM product_image_test"
   ]
  },
  {
   "cell_type": "markdown",
   "id": "ff2b3416",
   "metadata": {},
   "source": [
    "__Query details__ \n",
    "- \"__PREDICT USING__\" Use the my_image_classifier model created in the previous step through the query syntax for prediction.\n",
    "- \"__OPTIONS__\" Specify the options to use for prediction through query syntax.\n",
    "    - \"image_col\" : The name of the column in which the path of the image to be used for prediction is recorded\n"
   ]
  }
 ],
 "metadata": {
  "kernelspec": {
   "display_name": "Python 3 (ipykernel)",
   "language": "python",
   "name": "python3"
  },
  "language_info": {
   "codemirror_mode": {
    "name": "ipython",
    "version": 3
   },
   "file_extension": ".py",
   "mimetype": "text/x-python",
   "name": "python",
   "nbconvert_exporter": "python",
   "pygments_lexer": "ipython3",
   "version": "3.9.12"
  },
  "toc-autonumbering": false,
  "vscode": {
   "interpreter": {
    "hash": "31f2aee4e71d21fbe5cf8b01ff0e069b9275f58929596ceb00d14d90e3e16cd6"
   }
  }
 },
 "nbformat": 4,
 "nbformat_minor": 5
}
