{
 "cells": [
  {
   "cell_type": "markdown",
   "id": "aa9f00fa-ab5b-47ad-8c1b-8519624b1d89",
   "metadata": {
    "tags": []
   },
   "source": [
    "# __Search image by keyword__\n",
    "\n",
    "**Understanding the keyword-image search service**\n",
    "---\n",
    "👉 ThanoSQL provides a search function that allows you to return images as results through keywords. Set the keyword desired by the user as a target using an image classification model, etc., and add a column that indexes the updated image using the learned model. If the text-image search function analyzes the meaning from the images and provides similar images, the keyword-image search finds the images corresponding to the desired target value (category).\n",
    "\n",
    "**In this tutorial**\n",
    "---\n",
    "👉 Use the \"__SEARCH__\" query syntax, which is the unstructured data search syntax provided by ThanoSQL, and the \"__SELECT__\" query syntax, which is the structured data search syntax provided by the existing PostgreSQL, to search for images using specific keywords.\n",
    "\n",
    " \n",
    "**Dataset description**\n",
    "---\n",
    "👉 ‘Introduction of food images and nutritional information’ dataset is the data established by the ‘Artificial Intelligence Learning Data Construction Project’ hosted by the Ministry of Science and ICT and supported by the Korea Intelligent Information Society Agency. It is composed of high-quality image data by selecting 400 types. It consists of 842,000 images, and this tutorial uses only some (10 species, 1,190 photos) photos from that dataset."
   ]
  },
  {
   "cell_type": "markdown",
   "id": "54e3f00c-4402-46e2-a589-02354f857383",
   "metadata": {},
   "source": [
    "## __0. Preparing a dataset__"
   ]
  },
  {
   "cell_type": "markdown",
   "id": "56f9f6bb",
   "metadata": {},
   "source": [
    "To use the query syntax of ThanoSQL, you must create an API token and run the query below, as mentioned in the [ThanoSQL Workspace](https://docs.thanosql.ai/quick_start/how_to_use_ThanoSQL/#5-thanosql)."
   ]
  },
  {
   "cell_type": "code",
   "execution_count": null,
   "id": "30339f0c-c6bc-44a3-b065-9aaf646b158a",
   "metadata": {},
   "outputs": [],
   "source": [
    "%load_ext thanosql\n",
    "%thanosql API_TOKEN=<Issued_API_TOKEN>"
   ]
  },
  {
   "cell_type": "code",
   "execution_count": 2,
   "id": "981d411f-ae97-4c2a-87c5-f56180495daf",
   "metadata": {
    "tags": []
   },
   "outputs": [
    {
     "name": "stdout",
     "output_type": "stream",
     "text": [
      "Success\n"
     ]
    }
   ],
   "source": [
    "%%thanosql\n",
    "COPY diet \n",
    "OPTIONS(overwrite=True)\n",
    "FROM \"tutorial_data/diet_data/diet.csv\""
   ]
  },
  {
   "cell_type": "markdown",
   "id": "8c02be61",
   "metadata": {},
   "source": [
    "__OPTIONS__ : \n",
    "\n",
    "When __overwrite is true__, the user can create a data table with the same name as the previously created data table.  \n",
    "On the other hand, when __overwrite is False__, the user cannot create a data table with the same name as the previously created data table."
   ]
  },
  {
   "cell_type": "markdown",
   "id": "214a3dd0-ac55-4ed6-ad14-213ab233839e",
   "metadata": {
    "tags": []
   },
   "source": [
    "## __1. Check dataset__\n",
    "\n",
    "Use the data table stored in the ThanoSQL DB to create a keyword-image search model. Run the query syntax below and verify the contents of the table."
   ]
  },
  {
   "cell_type": "code",
   "execution_count": 3,
   "id": "c74d985f-2d1a-4a54-aa26-dbf07d8fa3ef",
   "metadata": {},
   "outputs": [
    {
     "data": {
      "text/html": [
       "<div>\n",
       "<style scoped>\n",
       "    .dataframe tbody tr th:only-of-type {\n",
       "        vertical-align: middle;\n",
       "    }\n",
       "\n",
       "    .dataframe tbody tr th {\n",
       "        vertical-align: top;\n",
       "    }\n",
       "\n",
       "    .dataframe thead th {\n",
       "        text-align: right;\n",
       "    }\n",
       "</style>\n",
       "<table border=\"1\" class=\"dataframe\">\n",
       "  <thead>\n",
       "    <tr style=\"text-align: right;\">\n",
       "      <th></th>\n",
       "      <th>image</th>\n",
       "      <th>label</th>\n",
       "    </tr>\n",
       "  </thead>\n",
       "  <tbody>\n",
       "    <tr>\n",
       "      <th>0</th>\n",
       "      <td>tutorial_data/diet_data/diet/백향과/0_A220148XX_0...</td>\n",
       "      <td>백향과</td>\n",
       "    </tr>\n",
       "    <tr>\n",
       "      <th>1</th>\n",
       "      <td>tutorial_data/diet_data/diet/백향과/0_A220148XX_0...</td>\n",
       "      <td>백향과</td>\n",
       "    </tr>\n",
       "    <tr>\n",
       "      <th>2</th>\n",
       "      <td>tutorial_data/diet_data/diet/백향과/1_A220148XX_0...</td>\n",
       "      <td>백향과</td>\n",
       "    </tr>\n",
       "    <tr>\n",
       "      <th>3</th>\n",
       "      <td>tutorial_data/diet_data/diet/백향과/0_A220148XX_0...</td>\n",
       "      <td>백향과</td>\n",
       "    </tr>\n",
       "    <tr>\n",
       "      <th>4</th>\n",
       "      <td>tutorial_data/diet_data/diet/백향과/0_A220148XX_0...</td>\n",
       "      <td>백향과</td>\n",
       "    </tr>\n",
       "    <tr>\n",
       "      <th>...</th>\n",
       "      <td>...</td>\n",
       "      <td>...</td>\n",
       "    </tr>\n",
       "    <tr>\n",
       "      <th>1185</th>\n",
       "      <td>tutorial_data/diet_data/diet/사과파이/0_A020511XX_...</td>\n",
       "      <td>사과파이</td>\n",
       "    </tr>\n",
       "    <tr>\n",
       "      <th>1186</th>\n",
       "      <td>tutorial_data/diet_data/diet/사과파이/0_A020511XX_...</td>\n",
       "      <td>사과파이</td>\n",
       "    </tr>\n",
       "    <tr>\n",
       "      <th>1187</th>\n",
       "      <td>tutorial_data/diet_data/diet/사과파이/1_A020511XX_...</td>\n",
       "      <td>사과파이</td>\n",
       "    </tr>\n",
       "    <tr>\n",
       "      <th>1188</th>\n",
       "      <td>tutorial_data/diet_data/diet/사과파이/0_A020511XX_...</td>\n",
       "      <td>사과파이</td>\n",
       "    </tr>\n",
       "    <tr>\n",
       "      <th>1189</th>\n",
       "      <td>tutorial_data/diet_data/diet/사과파이/0_A020511XX_...</td>\n",
       "      <td>사과파이</td>\n",
       "    </tr>\n",
       "  </tbody>\n",
       "</table>\n",
       "<p>1190 rows × 2 columns</p>\n",
       "</div>"
      ],
      "text/plain": [
       "                                                  image label\n",
       "0     tutorial_data/diet_data/diet/백향과/0_A220148XX_0...   백향과\n",
       "1     tutorial_data/diet_data/diet/백향과/0_A220148XX_0...   백향과\n",
       "2     tutorial_data/diet_data/diet/백향과/1_A220148XX_0...   백향과\n",
       "3     tutorial_data/diet_data/diet/백향과/0_A220148XX_0...   백향과\n",
       "4     tutorial_data/diet_data/diet/백향과/0_A220148XX_0...   백향과\n",
       "...                                                 ...   ...\n",
       "1185  tutorial_data/diet_data/diet/사과파이/0_A020511XX_...  사과파이\n",
       "1186  tutorial_data/diet_data/diet/사과파이/0_A020511XX_...  사과파이\n",
       "1187  tutorial_data/diet_data/diet/사과파이/1_A020511XX_...  사과파이\n",
       "1188  tutorial_data/diet_data/diet/사과파이/0_A020511XX_...  사과파이\n",
       "1189  tutorial_data/diet_data/diet/사과파이/0_A020511XX_...  사과파이\n",
       "\n",
       "[1190 rows x 2 columns]"
      ]
     },
     "execution_count": 3,
     "metadata": {},
     "output_type": "execute_result"
    }
   ],
   "source": [
    "%%thanosql\n",
    "SELECT * \n",
    "FROM diet"
   ]
  },
  {
   "cell_type": "markdown",
   "id": "6e19359f",
   "metadata": {},
   "source": [
    "The diet table contains the following information.   \n",
    "\n",
    "-  image : image path \n",
    "-  label : File name"
   ]
  },
  {
   "cell_type": "markdown",
   "id": "a36b8390-9114-4e5c-9abc-ffb2e9eaea8d",
   "metadata": {},
   "source": [
    "## __2. Create a keyword search model__\n",
    "\n",
    "Image search requires learning existing data tables and creating criteria for future searches. To do this, create an image classification model using the dataset that you saw in the previous step. Run the query syntax below to create a model named dat_image_classification."
   ]
  },
  {
   "cell_type": "markdown",
   "id": "7280fe10",
   "metadata": {},
   "source": [
    "(Expected time required for query execution: 3 min)"
   ]
  },
  {
   "cell_type": "code",
   "execution_count": 4,
   "id": "ebd1ac07-dfd3-44ce-a737-64608018163f",
   "metadata": {},
   "outputs": [
    {
     "name": "stdout",
     "output_type": "stream",
     "text": [
      "Success\n"
     ]
    }
   ],
   "source": [
    "%%thanosql\n",
    "BUILD MODEL diet_image_classification\n",
    "USING ConvNeXt_Tiny\n",
    "OPTIONS (\n",
    "    image_col='image_path', \n",
    "    label_col='label', \n",
    "    epochs=1,\n",
    "    overwrite=True\n",
    "    )\n",
    "AS \n",
    "SELECT *\n",
    "FROM diet "
   ]
  },
  {
   "cell_type": "markdown",
   "id": "620a4cc3",
   "metadata": {},
   "source": [
    "**Query Details**\n",
    "- Create and train a dat_image_classification model using the query syntax \"__BUILD MODEL__\".\n",
    "- The query syntax \"__USING__\" specifies the use of `ConvNeXt_Tiny` as the base model.\n",
    "- Specify the options to use for model creation via the query syntax \"__OPTIONS__\".\n",
    "    - \"image_col\" : Name of column containing image path\n",
    "    - \"label_col\" : Name of column containing information on target value\n",
    "    - \"epochs\" : the number of times all learning datasets are learned"
   ]
  },
  {
   "cell_type": "markdown",
   "id": "7e7f7686",
   "metadata": {},
   "source": [
    "When __overwrite is true__, the user can create a data table with the same name as the previously created data table.  \n",
    "On the other hand, when __overwrite is False__, the user cannot create a data table with the same name as the previously created data table."
   ]
  },
  {
   "cell_type": "markdown",
   "id": "1ad5e359-0ff1-4a5c-bbf1-5edb7bf15c38",
   "metadata": {},
   "source": [
    "## __3. Use the generated model to view keyword-image search models__\n",
    "\n",
    "Use the image prediction model dat_image_classification created in the previous step to predict the target value of a specific image. After performing the query below, the prediction results are stored in the predicated column and returned."
   ]
  },
  {
   "cell_type": "code",
   "execution_count": 5,
   "id": "23e0c1be-8d4e-4ed7-9c3c-c984e1883b49",
   "metadata": {},
   "outputs": [
    {
     "data": {
      "text/html": [
       "<div>\n",
       "<style scoped>\n",
       "    .dataframe tbody tr th:only-of-type {\n",
       "        vertical-align: middle;\n",
       "    }\n",
       "\n",
       "    .dataframe tbody tr th {\n",
       "        vertical-align: top;\n",
       "    }\n",
       "\n",
       "    .dataframe thead th {\n",
       "        text-align: right;\n",
       "    }\n",
       "</style>\n",
       "<table border=\"1\" class=\"dataframe\">\n",
       "  <thead>\n",
       "    <tr style=\"text-align: right;\">\n",
       "      <th></th>\n",
       "      <th>image</th>\n",
       "      <th>label</th>\n",
       "      <th>predicted</th>\n",
       "    </tr>\n",
       "  </thead>\n",
       "  <tbody>\n",
       "    <tr>\n",
       "      <th>0</th>\n",
       "      <td>tutorial_data/diet_data/diet/백향과/0_A220148XX_0...</td>\n",
       "      <td>백향과</td>\n",
       "      <td>복숭아</td>\n",
       "    </tr>\n",
       "    <tr>\n",
       "      <th>1</th>\n",
       "      <td>tutorial_data/diet_data/diet/백향과/0_A220148XX_0...</td>\n",
       "      <td>백향과</td>\n",
       "      <td>백향과</td>\n",
       "    </tr>\n",
       "    <tr>\n",
       "      <th>2</th>\n",
       "      <td>tutorial_data/diet_data/diet/백향과/1_A220148XX_0...</td>\n",
       "      <td>백향과</td>\n",
       "      <td>복숭아</td>\n",
       "    </tr>\n",
       "    <tr>\n",
       "      <th>3</th>\n",
       "      <td>tutorial_data/diet_data/diet/백향과/0_A220148XX_0...</td>\n",
       "      <td>백향과</td>\n",
       "      <td>복숭아</td>\n",
       "    </tr>\n",
       "    <tr>\n",
       "      <th>4</th>\n",
       "      <td>tutorial_data/diet_data/diet/백향과/0_A220148XX_0...</td>\n",
       "      <td>백향과</td>\n",
       "      <td>복숭아</td>\n",
       "    </tr>\n",
       "    <tr>\n",
       "      <th>...</th>\n",
       "      <td>...</td>\n",
       "      <td>...</td>\n",
       "      <td>...</td>\n",
       "    </tr>\n",
       "    <tr>\n",
       "      <th>1185</th>\n",
       "      <td>tutorial_data/diet_data/diet/사과파이/0_A020511XX_...</td>\n",
       "      <td>사과파이</td>\n",
       "      <td>사과파이</td>\n",
       "    </tr>\n",
       "    <tr>\n",
       "      <th>1186</th>\n",
       "      <td>tutorial_data/diet_data/diet/사과파이/0_A020511XX_...</td>\n",
       "      <td>사과파이</td>\n",
       "      <td>빵</td>\n",
       "    </tr>\n",
       "    <tr>\n",
       "      <th>1187</th>\n",
       "      <td>tutorial_data/diet_data/diet/사과파이/1_A020511XX_...</td>\n",
       "      <td>사과파이</td>\n",
       "      <td>보쌈</td>\n",
       "    </tr>\n",
       "    <tr>\n",
       "      <th>1188</th>\n",
       "      <td>tutorial_data/diet_data/diet/사과파이/0_A020511XX_...</td>\n",
       "      <td>사과파이</td>\n",
       "      <td>복숭아</td>\n",
       "    </tr>\n",
       "    <tr>\n",
       "      <th>1189</th>\n",
       "      <td>tutorial_data/diet_data/diet/사과파이/0_A020511XX_...</td>\n",
       "      <td>사과파이</td>\n",
       "      <td>사과파이</td>\n",
       "    </tr>\n",
       "  </tbody>\n",
       "</table>\n",
       "<p>1190 rows × 3 columns</p>\n",
       "</div>"
      ],
      "text/plain": [
       "                                                  image label predicted\n",
       "0     tutorial_data/diet_data/diet/백향과/0_A220148XX_0...   백향과       복숭아\n",
       "1     tutorial_data/diet_data/diet/백향과/0_A220148XX_0...   백향과       백향과\n",
       "2     tutorial_data/diet_data/diet/백향과/1_A220148XX_0...   백향과       복숭아\n",
       "3     tutorial_data/diet_data/diet/백향과/0_A220148XX_0...   백향과       복숭아\n",
       "4     tutorial_data/diet_data/diet/백향과/0_A220148XX_0...   백향과       복숭아\n",
       "...                                                 ...   ...       ...\n",
       "1185  tutorial_data/diet_data/diet/사과파이/0_A020511XX_...  사과파이      사과파이\n",
       "1186  tutorial_data/diet_data/diet/사과파이/0_A020511XX_...  사과파이         빵\n",
       "1187  tutorial_data/diet_data/diet/사과파이/1_A020511XX_...  사과파이        보쌈\n",
       "1188  tutorial_data/diet_data/diet/사과파이/0_A020511XX_...  사과파이       복숭아\n",
       "1189  tutorial_data/diet_data/diet/사과파이/0_A020511XX_...  사과파이      사과파이\n",
       "\n",
       "[1190 rows x 3 columns]"
      ]
     },
     "execution_count": 5,
     "metadata": {},
     "output_type": "execute_result"
    }
   ],
   "source": [
    "%%thanosql\n",
    "PREDICT USING diet_image_classification\n",
    "AS \n",
    "SELECT *\n",
    "FROM diet"
   ]
  },
  {
   "cell_type": "markdown",
   "id": "a5ffdb8b",
   "metadata": {},
   "source": [
    "**Query Details**\n",
    "- Use the data_image_classification model created in the previous step with the query syntax \"__PREDICT USING__\"."
   ]
  },
  {
   "cell_type": "markdown",
   "id": "6d670c04-9a5b-4ad2-a2be-48b1123bd8f5",
   "metadata": {},
   "source": [
    "## ___4. Search using generated models__ \n",
    "\n",
    "Now, use the query syntax \"PREDICT USING\", \"SELECT\", \"WHERE\" to search only for data with certain conditions. You can only search for data whose label is 'Apple_Pie' and whose prediction result is also 'Apple Pie' and create query syntax as follows:"
   ]
  },
  {
   "cell_type": "code",
   "execution_count": 6,
   "id": "7e689ab2-1400-4518-a87f-65698bf1c579",
   "metadata": {},
   "outputs": [
    {
     "data": {
      "text/html": [
       "<div>\n",
       "<style scoped>\n",
       "    .dataframe tbody tr th:only-of-type {\n",
       "        vertical-align: middle;\n",
       "    }\n",
       "\n",
       "    .dataframe tbody tr th {\n",
       "        vertical-align: top;\n",
       "    }\n",
       "\n",
       "    .dataframe thead th {\n",
       "        text-align: right;\n",
       "    }\n",
       "</style>\n",
       "<table border=\"1\" class=\"dataframe\">\n",
       "  <thead>\n",
       "    <tr style=\"text-align: right;\">\n",
       "      <th></th>\n",
       "      <th>image</th>\n",
       "      <th>label</th>\n",
       "      <th>predicted</th>\n",
       "    </tr>\n",
       "  </thead>\n",
       "  <tbody>\n",
       "    <tr>\n",
       "      <th>0</th>\n",
       "      <td>tutorial_data/diet_data/diet/사과파이/0_A020511XX_...</td>\n",
       "      <td>사과파이</td>\n",
       "      <td>사과파이</td>\n",
       "    </tr>\n",
       "    <tr>\n",
       "      <th>1</th>\n",
       "      <td>tutorial_data/diet_data/diet/사과파이/0_A020511XX_...</td>\n",
       "      <td>사과파이</td>\n",
       "      <td>사과파이</td>\n",
       "    </tr>\n",
       "    <tr>\n",
       "      <th>2</th>\n",
       "      <td>tutorial_data/diet_data/diet/사과파이/0_A020511XX_...</td>\n",
       "      <td>사과파이</td>\n",
       "      <td>사과파이</td>\n",
       "    </tr>\n",
       "    <tr>\n",
       "      <th>3</th>\n",
       "      <td>tutorial_data/diet_data/diet/사과파이/0_A020511XX_...</td>\n",
       "      <td>사과파이</td>\n",
       "      <td>사과파이</td>\n",
       "    </tr>\n",
       "    <tr>\n",
       "      <th>4</th>\n",
       "      <td>tutorial_data/diet_data/diet/사과파이/0_A020511XX_...</td>\n",
       "      <td>사과파이</td>\n",
       "      <td>사과파이</td>\n",
       "    </tr>\n",
       "    <tr>\n",
       "      <th>5</th>\n",
       "      <td>tutorial_data/diet_data/diet/사과파이/0_A020511XX_...</td>\n",
       "      <td>사과파이</td>\n",
       "      <td>사과파이</td>\n",
       "    </tr>\n",
       "    <tr>\n",
       "      <th>6</th>\n",
       "      <td>tutorial_data/diet_data/diet/사과파이/0_A020511XX_...</td>\n",
       "      <td>사과파이</td>\n",
       "      <td>사과파이</td>\n",
       "    </tr>\n",
       "    <tr>\n",
       "      <th>7</th>\n",
       "      <td>tutorial_data/diet_data/diet/사과파이/0_A020511XX_...</td>\n",
       "      <td>사과파이</td>\n",
       "      <td>사과파이</td>\n",
       "    </tr>\n",
       "    <tr>\n",
       "      <th>8</th>\n",
       "      <td>tutorial_data/diet_data/diet/사과파이/0_A020511XX_...</td>\n",
       "      <td>사과파이</td>\n",
       "      <td>사과파이</td>\n",
       "    </tr>\n",
       "    <tr>\n",
       "      <th>9</th>\n",
       "      <td>tutorial_data/diet_data/diet/사과파이/0_A020511XX_...</td>\n",
       "      <td>사과파이</td>\n",
       "      <td>사과파이</td>\n",
       "    </tr>\n",
       "  </tbody>\n",
       "</table>\n",
       "</div>"
      ],
      "text/plain": [
       "                                               image label predicted\n",
       "0  tutorial_data/diet_data/diet/사과파이/0_A020511XX_...  사과파이      사과파이\n",
       "1  tutorial_data/diet_data/diet/사과파이/0_A020511XX_...  사과파이      사과파이\n",
       "2  tutorial_data/diet_data/diet/사과파이/0_A020511XX_...  사과파이      사과파이\n",
       "3  tutorial_data/diet_data/diet/사과파이/0_A020511XX_...  사과파이      사과파이\n",
       "4  tutorial_data/diet_data/diet/사과파이/0_A020511XX_...  사과파이      사과파이\n",
       "5  tutorial_data/diet_data/diet/사과파이/0_A020511XX_...  사과파이      사과파이\n",
       "6  tutorial_data/diet_data/diet/사과파이/0_A020511XX_...  사과파이      사과파이\n",
       "7  tutorial_data/diet_data/diet/사과파이/0_A020511XX_...  사과파이      사과파이\n",
       "8  tutorial_data/diet_data/diet/사과파이/0_A020511XX_...  사과파이      사과파이\n",
       "9  tutorial_data/diet_data/diet/사과파이/0_A020511XX_...  사과파이      사과파이"
      ]
     },
     "execution_count": 6,
     "metadata": {},
     "output_type": "execute_result"
    }
   ],
   "source": [
    "%%thanosql\n",
    "\n",
    "SELECT A.image_path, A.label, B.predicted \n",
    "FROM diet A\n",
    "LEFT JOIN (SELECT * FROM (PREDICT USING diet_image_classification AS SELECT * FROM diet)) B \n",
    "ON A.image_path = B.image_path\n",
    "WHERE A.label = B.predicted\n",
    "AND A.label LIKE 'Apple_Pie'\n",
    "LIMIT 10"
   ]
  },
  {
   "cell_type": "markdown",
   "id": "71687b42",
   "metadata": {},
   "source": [
    "**Query Details**\n",
    "- Select the result of the query syntax starting with \"___PREDICTUSING__\" via the query syntax \"__SELECT * FROM (...)__\".\n",
    "- Set conditions through the \"__WHERE__\" query syntax. This condition is followed by \"__AND__\".\n",
    "    - \"label = predicated\" : Extracts only data with the same values in the label and predicated columns.\n",
    "    - \"label = 'Apple Pie'\" : Extracts only data with label column 'Apple_Pie'."
   ]
  }
 ],
 "metadata": {
  "kernelspec": {
   "display_name": "Python 3.8.9 64-bit",
   "language": "python",
   "name": "python3"
  },
  "language_info": {
   "codemirror_mode": {
    "name": "ipython",
    "version": 3
   },
   "file_extension": ".py",
   "mimetype": "text/x-python",
   "name": "python",
   "nbconvert_exporter": "python",
   "pygments_lexer": "ipython3",
   "version": "3.8.9"
  },
  "vscode": {
   "interpreter": {
    "hash": "31f2aee4e71d21fbe5cf8b01ff0e069b9275f58929596ceb00d14d90e3e16cd6"
   }
  }
 },
 "nbformat": 4,
 "nbformat_minor": 5
}
