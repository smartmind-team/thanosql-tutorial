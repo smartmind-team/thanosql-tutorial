{
 "cells": [
  {
   "cell_type": "markdown",
   "id": "e43f86f8-a77c-4f93-a194-5c8dbd954871",
   "metadata": {},
   "source": [
    "# __Search image by image__\n",
    "\n",
    "**Understanding image digitization techniques**\n",
    "---\n",
    "👉 Images are high-dimensional data (height x width x channel (RGB) x color intensity), which means nothing if the information of each pixel is randomly generated. In other words, each pixel can only be recognized as an image if it has a specific pattern associated with the surrounding pixel. This means that an image can be represented on a lower-dimensional characteristic vector than it really is. Recently, studies using artificial intelligence to numericalize and express each image in a low-dimensional space according to the similarity of the meaning of each image have been conducted in various ways, and these have been used in various names such as image digitization, vectorization, and embedding.\n",
    "\n",
    "**In this tutorial**\n",
    "---\n",
    "👉 This tutorial will use the MNIST handwriting dataset. Each image is a fixed size (28x28 = 784 pixels) with a value between 0-1 and provides a number from 0-9 written by many people with the correct answer. It consists of 1,000 learning datasets and 200 testing datasets.\n",
    "\n",
    "Let's create a model that uses ThanoSQL to enter handwriting data and search for images similar to the input image within the DB."
   ]
  },
  {
   "cell_type": "markdown",
   "id": "5fd38a02-06a5-405b-82e0-b074a3dbf589",
   "metadata": {},
   "source": [
    "## __0. Check dataset__"
   ]
  },
  {
   "cell_type": "markdown",
   "id": "48d1d13a",
   "metadata": {},
   "source": [
    "To use the query syntax of ThanoSQL, you must create an API token and run the query below, as mentioned in the [ThanoSQL Workspace](https://docs.thanosql.ai/quick_start/how_to_use_ThanoSQL/#5-thanosql)."
   ]
  },
  {
   "cell_type": "code",
   "execution_count": null,
   "id": "8ac3be35-fc75-432f-8946-2cb57fd56bc2",
   "metadata": {
    "tags": []
   },
   "outputs": [],
   "source": [
    "%load_ext thanosql\n",
    "%thanosql API_TOKEN=<Issued_API_TOKEN>"
   ]
  },
  {
   "cell_type": "code",
   "execution_count": 5,
   "id": "63661751-7e32-48f7-84fa-1dd205cc5d6d",
   "metadata": {},
   "outputs": [
    {
     "name": "stdout",
     "output_type": "stream",
     "text": [
      "Time Taken: 0.51 seconds\n",
      "Success\n"
     ]
    }
   ],
   "source": [
    "%%thanosql\n",
    "COPY mnist_train \n",
    "OPTIONS(overwrite = True)\n",
    "FROM \"tutorial_data/mnist_data/mnist_train.csv\""
   ]
  },
  {
   "cell_type": "code",
   "execution_count": 7,
   "id": "f65244d4-97bc-4464-aa8c-2d12a1f59435",
   "metadata": {},
   "outputs": [
    {
     "name": "stdout",
     "output_type": "stream",
     "text": [
      "Time Taken: 0.45 seconds\n",
      "Success\n"
     ]
    }
   ],
   "source": [
    "%%thanosql\n",
    "COPY mnist_test \n",
    "OPTIONS(overwrite = True)\n",
    "FROM \"tutorial_data/mnist_data/mnist_test.csv\""
   ]
  },
  {
   "cell_type": "markdown",
   "id": "d6845948",
   "metadata": {},
   "source": [
    "__OPTIONS__ : \n",
    "\n",
    "When __overwrite is true__, the user can create a data table with the same name as the previously created data table.  \n",
    "On the other hand, when __overwrite is False__, the user cannot create a data table with the same name as the previously created data table."
   ]
  },
  {
   "cell_type": "markdown",
   "id": "542deaf1-606f-49ea-9b6d-5721050ff2bf",
   "metadata": {
    "tags": []
   },
   "source": [
    "## __1. Check dataset__"
   ]
  },
  {
   "cell_type": "markdown",
   "id": "f4173ef2-b099-4f54-8b20-5ecae6fab51c",
   "metadata": {},
   "source": [
    "Use the mnist_train table stored in the ThanoSQL DB to create a handwriting classification model. The mnist_train table is a table containing the path, file name, and label information where MNIST image files are stored. Run the query statement below and check the contents of the table."
   ]
  },
  {
   "cell_type": "code",
   "execution_count": 8,
   "id": "242430e8-09f5-4f2c-9133-21015fc0acf8",
   "metadata": {},
   "outputs": [
    {
     "name": "stdout",
     "output_type": "stream",
     "text": [
      "Time Taken: 0.44 seconds\n"
     ]
    },
    {
     "data": {
      "text/html": [
       "<div>\n",
       "<style scoped>\n",
       "    .dataframe tbody tr th:only-of-type {\n",
       "        vertical-align: middle;\n",
       "    }\n",
       "\n",
       "    .dataframe tbody tr th {\n",
       "        vertical-align: top;\n",
       "    }\n",
       "\n",
       "    .dataframe thead th {\n",
       "        text-align: right;\n",
       "    }\n",
       "</style>\n",
       "<table border=\"1\" class=\"dataframe\">\n",
       "  <thead>\n",
       "    <tr style=\"text-align: right;\">\n",
       "      <th></th>\n",
       "      <th>image_path</th>\n",
       "      <th>filename</th>\n",
       "      <th>label</th>\n",
       "    </tr>\n",
       "  </thead>\n",
       "  <tbody>\n",
       "    <tr>\n",
       "      <th>0</th>\n",
       "      <td>tutorial_data/mnist_data/train/6782.jpg</td>\n",
       "      <td>6782.jpg</td>\n",
       "      <td>5</td>\n",
       "    </tr>\n",
       "    <tr>\n",
       "      <th>1</th>\n",
       "      <td>tutorial_data/mnist_data/train/1810.jpg</td>\n",
       "      <td>1810.jpg</td>\n",
       "      <td>5</td>\n",
       "    </tr>\n",
       "    <tr>\n",
       "      <th>2</th>\n",
       "      <td>tutorial_data/mnist_data/train/33617.jpg</td>\n",
       "      <td>33617.jpg</td>\n",
       "      <td>5</td>\n",
       "    </tr>\n",
       "    <tr>\n",
       "      <th>3</th>\n",
       "      <td>tutorial_data/mnist_data/train/27802.jpg</td>\n",
       "      <td>27802.jpg</td>\n",
       "      <td>5</td>\n",
       "    </tr>\n",
       "    <tr>\n",
       "      <th>4</th>\n",
       "      <td>tutorial_data/mnist_data/train/50677.jpg</td>\n",
       "      <td>50677.jpg</td>\n",
       "      <td>5</td>\n",
       "    </tr>\n",
       "  </tbody>\n",
       "</table>\n",
       "</div>"
      ],
      "text/plain": [
       "                                 image_path   filename  label\n",
       "0   tutorial_data/mnist_data/train/6782.jpg   6782.jpg      5\n",
       "1   tutorial_data/mnist_data/train/1810.jpg   1810.jpg      5\n",
       "2  tutorial_data/mnist_data/train/33617.jpg  33617.jpg      5\n",
       "3  tutorial_data/mnist_data/train/27802.jpg  27802.jpg      5\n",
       "4  tutorial_data/mnist_data/train/50677.jpg  50677.jpg      5"
      ]
     },
     "execution_count": 8,
     "metadata": {},
     "output_type": "execute_result"
    }
   ],
   "source": [
    "%%thanosql\n",
    "SELECT * \n",
    "FROM mnist_train \n",
    "LIMIT 5"
   ]
  },
  {
   "cell_type": "markdown",
   "id": "648a0843",
   "metadata": {},
   "source": [
    "The mnist_train table contains the following information: The \"6782.jpg\" image file is a handwritten image with the number 5.\n",
    "\n",
    "- img_path: Image Path\n",
    "- filename: file name\n",
    "- label : image label"
   ]
  },
  {
   "cell_type": "markdown",
   "id": "2b4f3acf-f218-4d51-b671-7651632290ec",
   "metadata": {},
   "source": [
    "## __2. Creating an Image Numerical Model__"
   ]
  },
  {
   "cell_type": "markdown",
   "id": "fdaad6bd-ae89-4b32-9bdf-3cbe9c2e685e",
   "metadata": {},
   "source": [
    "Create an image quantification model using the mnist_train table from the previous step. Execute the query syntax below to create a model named my_image_search_model."
   ]
  },
  {
   "cell_type": "markdown",
   "id": "aa5d133a",
   "metadata": {},
   "source": [
    "(Estimated time required for query execution: 1 min)"
   ]
  },
  {
   "cell_type": "code",
   "execution_count": 30,
   "id": "3630f8f7-8229-49f5-ae32-51011e1e37c8",
   "metadata": {},
   "outputs": [
    {
     "name": "stdout",
     "output_type": "stream",
     "text": [
      "Time Taken: 332.16 seconds\n",
      "Success\n"
     ]
    }
   ],
   "source": [
    "%%thanosql\n",
    "BUILD MODEL my_image_search_model\n",
    "USING SimCLR\n",
    "OPTIONS (\n",
    "    image_col=\"img_path\",\n",
    "    max_epochs=5,\n",
    "    overwrite=True\n",
    "    )\n",
    "AS \n",
    "SELECT * \n",
    "FROM mnist_train"
   ]
  },
  {
   "cell_type": "markdown",
   "id": "1e173c0d",
   "metadata": {},
   "source": [
    "# __Query Details__ \n",
    "- Create and train a model called my_image_search_model using the query syntax \"__BUILD MODEL__\".\n",
    "- The \"__USING__\" query syntax specifies the use of the SimCLR model as the base model.\n",
    "- Specify the options to use for model creation via the query syntax \"__OPTIONS__\".  \n",
    "    -  \"image_col\" : Column containing image path in data table (Default: \"image_path\")    \n",
    "    -  \"max_epochs\" : Number of dataset learnings to generate image quantization models"
   ]
  },
  {
   "cell_type": "markdown",
   "id": "fa4b8b03",
   "metadata": {},
   "source": [
    "Use the query syntax below to view the results of the image quantification. Embedding images `mnist_test` using the query syntax '__CONVERTUSING__' `my_image_search_model`\n"
   ]
  },
  {
   "cell_type": "code",
   "execution_count": 37,
   "id": "0abffc4b-aec9-444a-9546-dce181190f08",
   "metadata": {},
   "outputs": [
    {
     "name": "stdout",
     "output_type": "stream",
     "text": [
      "Time Taken: 2.19 seconds\n"
     ]
    },
    {
     "data": {
      "text/html": [
       "<div>\n",
       "<style scoped>\n",
       "    .dataframe tbody tr th:only-of-type {\n",
       "        vertical-align: middle;\n",
       "    }\n",
       "\n",
       "    .dataframe tbody tr th {\n",
       "        vertical-align: top;\n",
       "    }\n",
       "\n",
       "    .dataframe thead th {\n",
       "        text-align: right;\n",
       "    }\n",
       "</style>\n",
       "<table border=\"1\" class=\"dataframe\">\n",
       "  <thead>\n",
       "    <tr style=\"text-align: right;\">\n",
       "      <th></th>\n",
       "      <th>image_path</th>\n",
       "      <th>filename</th>\n",
       "      <th>label</th>\n",
       "      <th>my_image_search_model_simclr</th>\n",
       "    </tr>\n",
       "  </thead>\n",
       "  <tbody>\n",
       "    <tr>\n",
       "      <th>0</th>\n",
       "      <td>tutorial_data/mnist_data/test/5099.jpg</td>\n",
       "      <td>5099.jpg</td>\n",
       "      <td>6</td>\n",
       "      <td>[0.8018283247947693, 0.79114830493927, 1.35917...</td>\n",
       "    </tr>\n",
       "    <tr>\n",
       "      <th>1</th>\n",
       "      <td>tutorial_data/mnist_data/test/9239.jpg</td>\n",
       "      <td>9239.jpg</td>\n",
       "      <td>6</td>\n",
       "      <td>[0.5109610557556152, 0.7103637456893921, 0.762...</td>\n",
       "    </tr>\n",
       "    <tr>\n",
       "      <th>2</th>\n",
       "      <td>tutorial_data/mnist_data/test/2242.jpg</td>\n",
       "      <td>2242.jpg</td>\n",
       "      <td>6</td>\n",
       "      <td>[0.5548616051673889, 0.5135034322738647, 0.882...</td>\n",
       "    </tr>\n",
       "    <tr>\n",
       "      <th>3</th>\n",
       "      <td>tutorial_data/mnist_data/test/3451.jpg</td>\n",
       "      <td>3451.jpg</td>\n",
       "      <td>6</td>\n",
       "      <td>[0.6456339955329895, 0.8264403939247131, 0.982...</td>\n",
       "    </tr>\n",
       "    <tr>\n",
       "      <th>4</th>\n",
       "      <td>tutorial_data/mnist_data/test/2631.jpg</td>\n",
       "      <td>2631.jpg</td>\n",
       "      <td>6</td>\n",
       "      <td>[0.9043697118759155, 1.001702070236206, 0.8401...</td>\n",
       "    </tr>\n",
       "    <tr>\n",
       "      <th>...</th>\n",
       "      <td>...</td>\n",
       "      <td>...</td>\n",
       "      <td>...</td>\n",
       "      <td>...</td>\n",
       "    </tr>\n",
       "    <tr>\n",
       "      <th>195</th>\n",
       "      <td>tutorial_data/mnist_data/test/8045.jpg</td>\n",
       "      <td>8045.jpg</td>\n",
       "      <td>8</td>\n",
       "      <td>[0.900598406791687, 0.8024667501449585, 0.9821...</td>\n",
       "    </tr>\n",
       "    <tr>\n",
       "      <th>196</th>\n",
       "      <td>tutorial_data/mnist_data/test/9591.jpg</td>\n",
       "      <td>9591.jpg</td>\n",
       "      <td>8</td>\n",
       "      <td>[0.7340981960296631, 0.24722115695476532, 1.25...</td>\n",
       "    </tr>\n",
       "    <tr>\n",
       "      <th>197</th>\n",
       "      <td>tutorial_data/mnist_data/test/7425.jpg</td>\n",
       "      <td>7425.jpg</td>\n",
       "      <td>8</td>\n",
       "      <td>[0.6172817349433899, 0.278918594121933, 0.4667...</td>\n",
       "    </tr>\n",
       "    <tr>\n",
       "      <th>198</th>\n",
       "      <td>tutorial_data/mnist_data/test/2150.jpg</td>\n",
       "      <td>2150.jpg</td>\n",
       "      <td>8</td>\n",
       "      <td>[1.0326189994812012, 0.8284595012664795, 0.923...</td>\n",
       "    </tr>\n",
       "    <tr>\n",
       "      <th>199</th>\n",
       "      <td>tutorial_data/mnist_data/test/5087.jpg</td>\n",
       "      <td>5087.jpg</td>\n",
       "      <td>8</td>\n",
       "      <td>[0.5395402908325195, 1.147463083267212, 1.1288...</td>\n",
       "    </tr>\n",
       "  </tbody>\n",
       "</table>\n",
       "<p>200 rows × 4 columns</p>\n",
       "</div>"
      ],
      "text/plain": [
       "                                 image_path  filename  label  \\\n",
       "0    tutorial_data/mnist_data/test/5099.jpg  5099.jpg      6   \n",
       "1    tutorial_data/mnist_data/test/9239.jpg  9239.jpg      6   \n",
       "2    tutorial_data/mnist_data/test/2242.jpg  2242.jpg      6   \n",
       "3    tutorial_data/mnist_data/test/3451.jpg  3451.jpg      6   \n",
       "4    tutorial_data/mnist_data/test/2631.jpg  2631.jpg      6   \n",
       "..                                      ...       ...    ...   \n",
       "195  tutorial_data/mnist_data/test/8045.jpg  8045.jpg      8   \n",
       "196  tutorial_data/mnist_data/test/9591.jpg  9591.jpg      8   \n",
       "197  tutorial_data/mnist_data/test/7425.jpg  7425.jpg      8   \n",
       "198  tutorial_data/mnist_data/test/2150.jpg  2150.jpg      8   \n",
       "199  tutorial_data/mnist_data/test/5087.jpg  5087.jpg      8   \n",
       "\n",
       "                          my_image_search_model_simclr  \n",
       "0    [0.8018283247947693, 0.79114830493927, 1.35917...  \n",
       "1    [0.5109610557556152, 0.7103637456893921, 0.762...  \n",
       "2    [0.5548616051673889, 0.5135034322738647, 0.882...  \n",
       "3    [0.6456339955329895, 0.8264403939247131, 0.982...  \n",
       "4    [0.9043697118759155, 1.001702070236206, 0.8401...  \n",
       "..                                                 ...  \n",
       "195  [0.900598406791687, 0.8024667501449585, 0.9821...  \n",
       "196  [0.7340981960296631, 0.24722115695476532, 1.25...  \n",
       "197  [0.6172817349433899, 0.278918594121933, 0.4667...  \n",
       "198  [1.0326189994812012, 0.8284595012664795, 0.923...  \n",
       "199  [0.5395402908325195, 1.147463083267212, 1.1288...  \n",
       "\n",
       "[200 rows x 4 columns]"
      ]
     },
     "execution_count": 37,
     "metadata": {},
     "output_type": "execute_result"
    }
   ],
   "source": [
    "%%thanosql\n",
    "CONVERT USING my_image_search_model\n",
    "OPTIONS (\n",
    "    table_name= \"mnist_test\",\n",
    "    image_col=\"img_path\"\n",
    "    )\n",
    "AS \n",
    "SELECT * \n",
    "FROM mnist_test"
   ]
  },
  {
   "cell_type": "markdown",
   "id": "ccb189a3",
   "metadata": {},
   "source": [
    "__Query Details__ \n",
    "- The query syntax \"__CONVERT USING__\" uses `my_image_search_model` as an algorithm for image quantification.   \n",
    "- Define the variables required for image quantification with the query syntax \"__OPTIONS__\". \n",
    "    - \"table_name\" : Defines the table name to be stored in the ThanoSQL DB.\n",
    "    - \"image_col\" : Defines the column name containing the image file path in the data table. (DEFAULT: \"image_path\")"
   ]
  },
  {
   "cell_type": "markdown",
   "id": "1705aa14",
   "metadata": {},
   "source": [
    "Create a new column named `my_image_search_model_simclr` in the table `mnist_test` and save the quantization results."
   ]
  },
  {
   "cell_type": "markdown",
   "id": "1c16f866-b5b4-4540-a848-30d0cd459165",
   "metadata": {},
   "source": [
    "## __3. Search for similar images using image quantization models__"
   ]
  },
  {
   "cell_type": "markdown",
   "id": "f3692372-1572-4547-931d-4d3a861eb103",
   "metadata": {},
   "source": [
    "This step uses the my_image_search_model image quantization model and the test table to search for images similar to the \"923.jpg\" image file (handwriting 8)."
   ]
  },
  {
   "cell_type": "code",
   "execution_count": 41,
   "id": "61e0de08-b6a7-4087-8691-230243aab016",
   "metadata": {},
   "outputs": [
    {
     "name": "stdout",
     "output_type": "stream",
     "text": [
      "Time Taken: 6.62 seconds\n"
     ]
    },
    {
     "data": {
      "text/html": [
       "<div>\n",
       "<style scoped>\n",
       "    .dataframe tbody tr th:only-of-type {\n",
       "        vertical-align: middle;\n",
       "    }\n",
       "\n",
       "    .dataframe tbody tr th {\n",
       "        vertical-align: top;\n",
       "    }\n",
       "\n",
       "    .dataframe thead th {\n",
       "        text-align: right;\n",
       "    }\n",
       "</style>\n",
       "<table border=\"1\" class=\"dataframe\">\n",
       "  <thead>\n",
       "    <tr style=\"text-align: right;\">\n",
       "      <th></th>\n",
       "      <th>image_path</th>\n",
       "      <th>my_image_search_model_simclr</th>\n",
       "      <th>my_image_search_model_simclr_similarity1</th>\n",
       "    </tr>\n",
       "  </thead>\n",
       "  <tbody>\n",
       "    <tr>\n",
       "      <th>0</th>\n",
       "      <td>tutorial_data/mnist_data/test/2778.jpg</td>\n",
       "      <td>[0.4345078468322754, 0.4801121950149536, 0.849...</td>\n",
       "      <td>0.904738</td>\n",
       "    </tr>\n",
       "    <tr>\n",
       "      <th>1</th>\n",
       "      <td>tutorial_data/mnist_data/test/616.jpg</td>\n",
       "      <td>[0.8675670623779297, 1.101262092590332, 0.7946...</td>\n",
       "      <td>0.940482</td>\n",
       "    </tr>\n",
       "    <tr>\n",
       "      <th>2</th>\n",
       "      <td>tutorial_data/mnist_data/test/1809.jpg</td>\n",
       "      <td>[0.911918044090271, 0.5684484839439392, 0.7830...</td>\n",
       "      <td>0.929987</td>\n",
       "    </tr>\n",
       "    <tr>\n",
       "      <th>3</th>\n",
       "      <td>tutorial_data/mnist_data/test/5165.jpg</td>\n",
       "      <td>[1.4594722986221313, 1.5304396152496338, 0.906...</td>\n",
       "      <td>0.946843</td>\n",
       "    </tr>\n",
       "    <tr>\n",
       "      <th>4</th>\n",
       "      <td>tutorial_data/mnist_data/test/8600.jpg</td>\n",
       "      <td>[0.7580893635749817, 0.579352617263794, 0.8556...</td>\n",
       "      <td>0.901757</td>\n",
       "    </tr>\n",
       "    <tr>\n",
       "      <th>...</th>\n",
       "      <td>...</td>\n",
       "      <td>...</td>\n",
       "      <td>...</td>\n",
       "    </tr>\n",
       "    <tr>\n",
       "      <th>195</th>\n",
       "      <td>tutorial_data/mnist_data/test/4949.jpg</td>\n",
       "      <td>[0.8616079688072205, 1.2864174842834473, 0.899...</td>\n",
       "      <td>0.929408</td>\n",
       "    </tr>\n",
       "    <tr>\n",
       "      <th>196</th>\n",
       "      <td>tutorial_data/mnist_data/test/6146.jpg</td>\n",
       "      <td>[0.5501160621643066, 0.8333878517150879, 1.228...</td>\n",
       "      <td>0.933200</td>\n",
       "    </tr>\n",
       "    <tr>\n",
       "      <th>197</th>\n",
       "      <td>tutorial_data/mnist_data/test/2002.jpg</td>\n",
       "      <td>[1.0146446228027344, 0.6418188810348511, 0.629...</td>\n",
       "      <td>0.933350</td>\n",
       "    </tr>\n",
       "    <tr>\n",
       "      <th>198</th>\n",
       "      <td>tutorial_data/mnist_data/test/4255.jpg</td>\n",
       "      <td>[0.8223161697387695, 0.5770737528800964, 1.053...</td>\n",
       "      <td>0.936178</td>\n",
       "    </tr>\n",
       "    <tr>\n",
       "      <th>199</th>\n",
       "      <td>tutorial_data/mnist_data/test/5644.jpg</td>\n",
       "      <td>[0.5945190191268921, 0.9166373014450073, 0.999...</td>\n",
       "      <td>0.924100</td>\n",
       "    </tr>\n",
       "  </tbody>\n",
       "</table>\n",
       "<p>200 rows × 3 columns</p>\n",
       "</div>"
      ],
      "text/plain": [
       "                                 image_path  \\\n",
       "0    tutorial_data/mnist_data/test/2778.jpg   \n",
       "1     tutorial_data/mnist_data/test/616.jpg   \n",
       "2    tutorial_data/mnist_data/test/1809.jpg   \n",
       "3    tutorial_data/mnist_data/test/5165.jpg   \n",
       "4    tutorial_data/mnist_data/test/8600.jpg   \n",
       "..                                      ...   \n",
       "195  tutorial_data/mnist_data/test/4949.jpg   \n",
       "196  tutorial_data/mnist_data/test/6146.jpg   \n",
       "197  tutorial_data/mnist_data/test/2002.jpg   \n",
       "198  tutorial_data/mnist_data/test/4255.jpg   \n",
       "199  tutorial_data/mnist_data/test/5644.jpg   \n",
       "\n",
       "                          my_image_search_model_simclr  \\\n",
       "0    [0.4345078468322754, 0.4801121950149536, 0.849...   \n",
       "1    [0.8675670623779297, 1.101262092590332, 0.7946...   \n",
       "2    [0.911918044090271, 0.5684484839439392, 0.7830...   \n",
       "3    [1.4594722986221313, 1.5304396152496338, 0.906...   \n",
       "4    [0.7580893635749817, 0.579352617263794, 0.8556...   \n",
       "..                                                 ...   \n",
       "195  [0.8616079688072205, 1.2864174842834473, 0.899...   \n",
       "196  [0.5501160621643066, 0.8333878517150879, 1.228...   \n",
       "197  [1.0146446228027344, 0.6418188810348511, 0.629...   \n",
       "198  [0.8223161697387695, 0.5770737528800964, 1.053...   \n",
       "199  [0.5945190191268921, 0.9166373014450073, 0.999...   \n",
       "\n",
       "     my_image_search_model_simclr_similarity1  \n",
       "0                                    0.904738  \n",
       "1                                    0.940482  \n",
       "2                                    0.929987  \n",
       "3                                    0.946843  \n",
       "4                                    0.901757  \n",
       "..                                        ...  \n",
       "195                                  0.929408  \n",
       "196                                  0.933200  \n",
       "197                                  0.933350  \n",
       "198                                  0.936178  \n",
       "199                                  0.924100  \n",
       "\n",
       "[200 rows x 3 columns]"
      ]
     },
     "execution_count": 41,
     "metadata": {},
     "output_type": "execute_result"
    }
   ],
   "source": [
    "%%thanosql\n",
    "SEARCH IMAGE images='tutorial_data/mnist_data/test/923.jpg' \n",
    "USING my_image_search_model \n",
    "AS\n",
    "SELECT * \n",
    "FROM mnist_test"
   ]
  },
  {
   "cell_type": "markdown",
   "id": "9871fe36",
   "metadata": {},
   "source": [
    "__Query Details__  \n",
    "\n",
    "- The query syntax \"___SEARCH IMAGE images=__\" defines the image file you want to search for.  <br>\n",
    "- \"__USING__\" defines the model used for image quantification.<br>\n",
    "- The \"__AS__\" query syntax defines the embedding table to use for searches. Use table `mnist_embds`"
   ]
  },
  {
   "cell_type": "markdown",
   "id": "12953f08",
   "metadata": {},
   "source": [
    "Run the following query to output the \"__SEARCH__\" result using the \"__PRINT__\" query syntax in ThanoSQL to output the top four most similar. We've only done a little bit of learning, but you can see that it's outputting an image similar to 8."
   ]
  },
  {
   "cell_type": "code",
   "execution_count": 42,
   "id": "77af4961-def3-4884-bea2-b8e917d9ae87",
   "metadata": {},
   "outputs": [
    {
     "name": "stdout",
     "output_type": "stream",
     "text": [
      "Time Taken: 1.12 seconds\n",
      "/home/jovyan/tutorial_data/mnist_data/test/923.jpg\n"
     ]
    },
    {
     "data": {
      "image/jpeg": "[encoded data removed]",
      "text/plain": [
       "<IPython.core.display.Image object>"
      ]
     },
     "metadata": {
      "image/jpeg": {
       "height": 240,
       "width": 240
      }
     },
     "output_type": "display_data"
    },
    {
     "name": "stdout",
     "output_type": "stream",
     "text": [
      "/home/jovyan/tutorial_data/mnist_data/test/685.jpg\n"
     ]
    },
    {
     "data": {
      "image/jpeg": "[encoded data removed]",
      "text/plain": [
       "<IPython.core.display.Image object>"
      ]
     },
     "metadata": {
      "image/jpeg": {
       "height": 240,
       "width": 240
      }
     },
     "output_type": "display_data"
    },
    {
     "name": "stdout",
     "output_type": "stream",
     "text": [
      "/home/jovyan/tutorial_data/mnist_data/test/6573.jpg\n"
     ]
    },
    {
     "data": {
      "image/jpeg": "[encoded data removed]",
      "text/plain": [
       "<IPython.core.display.Image object>"
      ]
     },
     "metadata": {
      "image/jpeg": {
       "height": 240,
       "width": 240
      }
     },
     "output_type": "display_data"
    },
    {
     "name": "stdout",
     "output_type": "stream",
     "text": [
      "/home/jovyan/tutorial_data/mnist_data/test/5087.jpg\n"
     ]
    },
    {
     "data": {
      "image/jpeg": "[encoded data removed]",
      "text/plain": [
       "<IPython.core.display.Image object>"
      ]
     },
     "metadata": {
      "image/jpeg": {
       "height": 240,
       "width": 240
      }
     },
     "output_type": "display_data"
    }
   ],
   "source": [
    "%%thanosql\n",
    "PRINT IMAGE \n",
    "AS (\n",
    "    SELECT image_path, my_image_search_model_simclr_similarity1 \n",
    "    FROM (\n",
    "        SEARCH IMAGE images='tutorial_data/mnist_data/test/923.jpg' \n",
    "        USING my_image_search_model \n",
    "        AS \n",
    "        SELECT * \n",
    "        FROM mnist_test\n",
    "        )\n",
    "    ORDER BY my_image_search_model_simclr_similarity1 DESC \n",
    "    LIMIT 4\n",
    "    )"
   ]
  },
  {
   "cell_type": "markdown",
   "id": "517479e8",
   "metadata": {},
   "source": [
    "__Notes for reference__ \n",
    "\n",
    "The basic learning options of the image similarity search algorithm are learned to recognize the image as the same regardless of the image's left-right inversion, color change, etc. This is because a dog's picture should be recognized as a dog even if it is flipped or changed in color. If color changes are important, such as clothing images, or if vertical and horizontal twists are important, such as numbers, the options should be changed when learning. This tutorial shows the characteristics of these image similarity searches."
   ]
  }
 ],
 "metadata": {
  "kernelspec": {
   "display_name": "Python 3.8.9 64-bit",
   "language": "python",
   "name": "python3"
  },
  "language_info": {
   "codemirror_mode": {
    "name": "ipython",
    "version": 3
   },
   "file_extension": ".py",
   "mimetype": "text/x-python",
   "name": "python",
   "nbconvert_exporter": "python",
   "pygments_lexer": "ipython3",
   "version": "3.8.9"
  },
  "vscode": {
   "interpreter": {
    "hash": "31f2aee4e71d21fbe5cf8b01ff0e069b9275f58929596ceb00d14d90e3e16cd6"
   }
  }
 },
 "nbformat": 4,
 "nbformat_minor": 5
}
