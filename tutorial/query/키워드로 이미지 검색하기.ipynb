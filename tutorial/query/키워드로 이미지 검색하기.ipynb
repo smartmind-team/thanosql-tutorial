{
 "cells": [
  {
   "cell_type": "markdown",
   "id": "aa9f00fa-ab5b-47ad-8c1b-8519624b1d89",
   "metadata": {
    "tags": []
   },
   "source": [
    "# __키워드로 이미지 검색하기__ "
   ]
  },
  {
   "cell_type": "markdown",
   "id": "54e3f00c-4402-46e2-a589-02354f857383",
   "metadata": {},
   "source": [
    "## __0. 데이터 세트 준비__"
   ]
  },
  {
   "cell_type": "code",
   "execution_count": null,
   "id": "30339f0c-c6bc-44a3-b065-9aaf646b158a",
   "metadata": {},
   "outputs": [],
   "source": [
    "%load_ext thanosql\n",
    "%thanosql API_TOKEN={발급받은 개인 토큰}"
   ]
  },
  {
   "cell_type": "code",
   "execution_count": 2,
   "id": "981d411f-ae97-4c2a-87c5-f56180495daf",
   "metadata": {
    "tags": []
   },
   "outputs": [
    {
     "name": "stdout",
     "output_type": "stream",
     "text": [
      "Success\n"
     ]
    }
   ],
   "source": [
    "%%thanosql\n",
    "COPY diet FROM \"tutorial_data/diet_data/diet.csv\""
   ]
  },
  {
   "cell_type": "markdown",
   "id": "214a3dd0-ac55-4ed6-ad14-213ab233839e",
   "metadata": {
    "tags": []
   },
   "source": [
    "## __1. 데이터 세트 확인__\n",
    "\n",
    "키워드-이미지 검색 모델을 만들기 위해 ThanoSQL DB에 저장되어 있는 diet 테이블을 사용합니다. 아래의 쿼리 구문을 실행하고 테이블의 내용을 확인합니다."
   ]
  },
  {
   "cell_type": "code",
   "execution_count": 3,
   "id": "c74d985f-2d1a-4a54-aa26-dbf07d8fa3ef",
   "metadata": {},
   "outputs": [
    {
     "data": {
      "text/html": [
       "<div>\n",
       "<style scoped>\n",
       "    .dataframe tbody tr th:only-of-type {\n",
       "        vertical-align: middle;\n",
       "    }\n",
       "\n",
       "    .dataframe tbody tr th {\n",
       "        vertical-align: top;\n",
       "    }\n",
       "\n",
       "    .dataframe thead th {\n",
       "        text-align: right;\n",
       "    }\n",
       "</style>\n",
       "<table border=\"1\" class=\"dataframe\">\n",
       "  <thead>\n",
       "    <tr style=\"text-align: right;\">\n",
       "      <th></th>\n",
       "      <th>image</th>\n",
       "      <th>label</th>\n",
       "    </tr>\n",
       "  </thead>\n",
       "  <tbody>\n",
       "    <tr>\n",
       "      <th>0</th>\n",
       "      <td>tutorial_data/diet_data/diet/백향과/0_A220148XX_0...</td>\n",
       "      <td>백향과</td>\n",
       "    </tr>\n",
       "    <tr>\n",
       "      <th>1</th>\n",
       "      <td>tutorial_data/diet_data/diet/백향과/0_A220148XX_0...</td>\n",
       "      <td>백향과</td>\n",
       "    </tr>\n",
       "    <tr>\n",
       "      <th>2</th>\n",
       "      <td>tutorial_data/diet_data/diet/백향과/1_A220148XX_0...</td>\n",
       "      <td>백향과</td>\n",
       "    </tr>\n",
       "    <tr>\n",
       "      <th>3</th>\n",
       "      <td>tutorial_data/diet_data/diet/백향과/0_A220148XX_0...</td>\n",
       "      <td>백향과</td>\n",
       "    </tr>\n",
       "    <tr>\n",
       "      <th>4</th>\n",
       "      <td>tutorial_data/diet_data/diet/백향과/0_A220148XX_0...</td>\n",
       "      <td>백향과</td>\n",
       "    </tr>\n",
       "    <tr>\n",
       "      <th>...</th>\n",
       "      <td>...</td>\n",
       "      <td>...</td>\n",
       "    </tr>\n",
       "    <tr>\n",
       "      <th>1185</th>\n",
       "      <td>tutorial_data/diet_data/diet/사과파이/0_A020511XX_...</td>\n",
       "      <td>사과파이</td>\n",
       "    </tr>\n",
       "    <tr>\n",
       "      <th>1186</th>\n",
       "      <td>tutorial_data/diet_data/diet/사과파이/0_A020511XX_...</td>\n",
       "      <td>사과파이</td>\n",
       "    </tr>\n",
       "    <tr>\n",
       "      <th>1187</th>\n",
       "      <td>tutorial_data/diet_data/diet/사과파이/1_A020511XX_...</td>\n",
       "      <td>사과파이</td>\n",
       "    </tr>\n",
       "    <tr>\n",
       "      <th>1188</th>\n",
       "      <td>tutorial_data/diet_data/diet/사과파이/0_A020511XX_...</td>\n",
       "      <td>사과파이</td>\n",
       "    </tr>\n",
       "    <tr>\n",
       "      <th>1189</th>\n",
       "      <td>tutorial_data/diet_data/diet/사과파이/0_A020511XX_...</td>\n",
       "      <td>사과파이</td>\n",
       "    </tr>\n",
       "  </tbody>\n",
       "</table>\n",
       "<p>1190 rows × 2 columns</p>\n",
       "</div>"
      ],
      "text/plain": [
       "                                                  image label\n",
       "0     tutorial_data/diet_data/diet/백향과/0_A220148XX_0...   백향과\n",
       "1     tutorial_data/diet_data/diet/백향과/0_A220148XX_0...   백향과\n",
       "2     tutorial_data/diet_data/diet/백향과/1_A220148XX_0...   백향과\n",
       "3     tutorial_data/diet_data/diet/백향과/0_A220148XX_0...   백향과\n",
       "4     tutorial_data/diet_data/diet/백향과/0_A220148XX_0...   백향과\n",
       "...                                                 ...   ...\n",
       "1185  tutorial_data/diet_data/diet/사과파이/0_A020511XX_...  사과파이\n",
       "1186  tutorial_data/diet_data/diet/사과파이/0_A020511XX_...  사과파이\n",
       "1187  tutorial_data/diet_data/diet/사과파이/1_A020511XX_...  사과파이\n",
       "1188  tutorial_data/diet_data/diet/사과파이/0_A020511XX_...  사과파이\n",
       "1189  tutorial_data/diet_data/diet/사과파이/0_A020511XX_...  사과파이\n",
       "\n",
       "[1190 rows x 2 columns]"
      ]
     },
     "execution_count": 3,
     "metadata": {},
     "output_type": "execute_result"
    }
   ],
   "source": [
    "%%thanosql\n",
    "SELECT * \n",
    "FROM diet"
   ]
  },
  {
   "cell_type": "markdown",
   "id": "a36b8390-9114-4e5c-9abc-ffb2e9eaea8d",
   "metadata": {},
   "source": [
    "## __2. 키워드 검색 모델 생성__ \n",
    "\n",
    "이미지 검색을 위해서는 기존 데이터 테이블을 학습하여 추후 검색의 기준을 만들어줘야 합니다. 이를 위해서 이전 단계에서 확인한 데이터 세트를 사용하여 이미지 분류 모델을 만듭니다. 아래의 쿼리 구문을 실행하여 diet_image_classification이라는 이름의 모델을 만듭니다. "
   ]
  },
  {
   "cell_type": "code",
   "execution_count": 4,
   "id": "ebd1ac07-dfd3-44ce-a737-64608018163f",
   "metadata": {},
   "outputs": [
    {
     "name": "stdout",
     "output_type": "stream",
     "text": [
      "Success\n"
     ]
    }
   ],
   "source": [
    "%%thanosql\n",
    "BUILD MODEL diet_image_classification\n",
    "USING ConvNeXt_Tiny\n",
    "OPTIONS (\n",
    "    image_col='image', \n",
    "    label_col='label', \n",
    "    epochs=1\n",
    "    )\n",
    "AS \n",
    "SELECT *\n",
    "FROM diet"
   ]
  },
  {
   "cell_type": "markdown",
   "id": "1ad5e359-0ff1-4a5c-bbf1-5edb7bf15c38",
   "metadata": {},
   "source": [
    "## __3. 생성된 모델을 사용하여 키워드-이미지 검색 모델 확인__\n",
    "\n",
    "이전 단계에서 만든 이미지 예측 모델 diet_image_classification을 사용해서 특정 이미지의 목표값을 예측해 봅니다. 아래 쿼리를 수행하고 나면, 예측 결과는 predicted 컬럼에 저장되어 반환됩니다."
   ]
  },
  {
   "cell_type": "code",
   "execution_count": 5,
   "id": "23e0c1be-8d4e-4ed7-9c3c-c984e1883b49",
   "metadata": {},
   "outputs": [
    {
     "data": {
      "text/html": [
       "<div>\n",
       "<style scoped>\n",
       "    .dataframe tbody tr th:only-of-type {\n",
       "        vertical-align: middle;\n",
       "    }\n",
       "\n",
       "    .dataframe tbody tr th {\n",
       "        vertical-align: top;\n",
       "    }\n",
       "\n",
       "    .dataframe thead th {\n",
       "        text-align: right;\n",
       "    }\n",
       "</style>\n",
       "<table border=\"1\" class=\"dataframe\">\n",
       "  <thead>\n",
       "    <tr style=\"text-align: right;\">\n",
       "      <th></th>\n",
       "      <th>image</th>\n",
       "      <th>label</th>\n",
       "      <th>predicted</th>\n",
       "    </tr>\n",
       "  </thead>\n",
       "  <tbody>\n",
       "    <tr>\n",
       "      <th>0</th>\n",
       "      <td>tutorial_data/diet_data/diet/백향과/0_A220148XX_0...</td>\n",
       "      <td>백향과</td>\n",
       "      <td>복숭아</td>\n",
       "    </tr>\n",
       "    <tr>\n",
       "      <th>1</th>\n",
       "      <td>tutorial_data/diet_data/diet/백향과/0_A220148XX_0...</td>\n",
       "      <td>백향과</td>\n",
       "      <td>백향과</td>\n",
       "    </tr>\n",
       "    <tr>\n",
       "      <th>2</th>\n",
       "      <td>tutorial_data/diet_data/diet/백향과/1_A220148XX_0...</td>\n",
       "      <td>백향과</td>\n",
       "      <td>복숭아</td>\n",
       "    </tr>\n",
       "    <tr>\n",
       "      <th>3</th>\n",
       "      <td>tutorial_data/diet_data/diet/백향과/0_A220148XX_0...</td>\n",
       "      <td>백향과</td>\n",
       "      <td>복숭아</td>\n",
       "    </tr>\n",
       "    <tr>\n",
       "      <th>4</th>\n",
       "      <td>tutorial_data/diet_data/diet/백향과/0_A220148XX_0...</td>\n",
       "      <td>백향과</td>\n",
       "      <td>복숭아</td>\n",
       "    </tr>\n",
       "    <tr>\n",
       "      <th>...</th>\n",
       "      <td>...</td>\n",
       "      <td>...</td>\n",
       "      <td>...</td>\n",
       "    </tr>\n",
       "    <tr>\n",
       "      <th>1185</th>\n",
       "      <td>tutorial_data/diet_data/diet/사과파이/0_A020511XX_...</td>\n",
       "      <td>사과파이</td>\n",
       "      <td>사과파이</td>\n",
       "    </tr>\n",
       "    <tr>\n",
       "      <th>1186</th>\n",
       "      <td>tutorial_data/diet_data/diet/사과파이/0_A020511XX_...</td>\n",
       "      <td>사과파이</td>\n",
       "      <td>빵</td>\n",
       "    </tr>\n",
       "    <tr>\n",
       "      <th>1187</th>\n",
       "      <td>tutorial_data/diet_data/diet/사과파이/1_A020511XX_...</td>\n",
       "      <td>사과파이</td>\n",
       "      <td>보쌈</td>\n",
       "    </tr>\n",
       "    <tr>\n",
       "      <th>1188</th>\n",
       "      <td>tutorial_data/diet_data/diet/사과파이/0_A020511XX_...</td>\n",
       "      <td>사과파이</td>\n",
       "      <td>복숭아</td>\n",
       "    </tr>\n",
       "    <tr>\n",
       "      <th>1189</th>\n",
       "      <td>tutorial_data/diet_data/diet/사과파이/0_A020511XX_...</td>\n",
       "      <td>사과파이</td>\n",
       "      <td>사과파이</td>\n",
       "    </tr>\n",
       "  </tbody>\n",
       "</table>\n",
       "<p>1190 rows × 3 columns</p>\n",
       "</div>"
      ],
      "text/plain": [
       "                                                  image label predicted\n",
       "0     tutorial_data/diet_data/diet/백향과/0_A220148XX_0...   백향과       복숭아\n",
       "1     tutorial_data/diet_data/diet/백향과/0_A220148XX_0...   백향과       백향과\n",
       "2     tutorial_data/diet_data/diet/백향과/1_A220148XX_0...   백향과       복숭아\n",
       "3     tutorial_data/diet_data/diet/백향과/0_A220148XX_0...   백향과       복숭아\n",
       "4     tutorial_data/diet_data/diet/백향과/0_A220148XX_0...   백향과       복숭아\n",
       "...                                                 ...   ...       ...\n",
       "1185  tutorial_data/diet_data/diet/사과파이/0_A020511XX_...  사과파이      사과파이\n",
       "1186  tutorial_data/diet_data/diet/사과파이/0_A020511XX_...  사과파이         빵\n",
       "1187  tutorial_data/diet_data/diet/사과파이/1_A020511XX_...  사과파이        보쌈\n",
       "1188  tutorial_data/diet_data/diet/사과파이/0_A020511XX_...  사과파이       복숭아\n",
       "1189  tutorial_data/diet_data/diet/사과파이/0_A020511XX_...  사과파이      사과파이\n",
       "\n",
       "[1190 rows x 3 columns]"
      ]
     },
     "execution_count": 5,
     "metadata": {},
     "output_type": "execute_result"
    }
   ],
   "source": [
    "%%thanosql\n",
    "PREDICT USING diet_image_classification\n",
    "AS \n",
    "SELECT *\n",
    "FROM diet"
   ]
  },
  {
   "cell_type": "markdown",
   "id": "6d670c04-9a5b-4ad2-a2be-48b1123bd8f5",
   "metadata": {},
   "source": [
    "## __4. 생성된 모델을 이용한 검색__ \n",
    "\n",
    "이제 \"PREDICT USING\", \"SELECT\", \"WHERE\" 쿼리 구문을 사용하여 특정 조건의 데이터만을 검색합니다. label이 '사과파이'이고, 예측 결과 또한 '사과파이'인 데이터만을 검색하고 다음처럼 쿼리 구문을 작성할 수 있습니다."
   ]
  },
  {
   "cell_type": "code",
   "execution_count": 6,
   "id": "7e689ab2-1400-4518-a87f-65698bf1c579",
   "metadata": {},
   "outputs": [
    {
     "data": {
      "text/html": [
       "<div>\n",
       "<style scoped>\n",
       "    .dataframe tbody tr th:only-of-type {\n",
       "        vertical-align: middle;\n",
       "    }\n",
       "\n",
       "    .dataframe tbody tr th {\n",
       "        vertical-align: top;\n",
       "    }\n",
       "\n",
       "    .dataframe thead th {\n",
       "        text-align: right;\n",
       "    }\n",
       "</style>\n",
       "<table border=\"1\" class=\"dataframe\">\n",
       "  <thead>\n",
       "    <tr style=\"text-align: right;\">\n",
       "      <th></th>\n",
       "      <th>image</th>\n",
       "      <th>label</th>\n",
       "      <th>predicted</th>\n",
       "    </tr>\n",
       "  </thead>\n",
       "  <tbody>\n",
       "    <tr>\n",
       "      <th>0</th>\n",
       "      <td>tutorial_data/diet_data/diet/사과파이/0_A020511XX_...</td>\n",
       "      <td>사과파이</td>\n",
       "      <td>사과파이</td>\n",
       "    </tr>\n",
       "    <tr>\n",
       "      <th>1</th>\n",
       "      <td>tutorial_data/diet_data/diet/사과파이/0_A020511XX_...</td>\n",
       "      <td>사과파이</td>\n",
       "      <td>사과파이</td>\n",
       "    </tr>\n",
       "    <tr>\n",
       "      <th>2</th>\n",
       "      <td>tutorial_data/diet_data/diet/사과파이/0_A020511XX_...</td>\n",
       "      <td>사과파이</td>\n",
       "      <td>사과파이</td>\n",
       "    </tr>\n",
       "    <tr>\n",
       "      <th>3</th>\n",
       "      <td>tutorial_data/diet_data/diet/사과파이/0_A020511XX_...</td>\n",
       "      <td>사과파이</td>\n",
       "      <td>사과파이</td>\n",
       "    </tr>\n",
       "    <tr>\n",
       "      <th>4</th>\n",
       "      <td>tutorial_data/diet_data/diet/사과파이/0_A020511XX_...</td>\n",
       "      <td>사과파이</td>\n",
       "      <td>사과파이</td>\n",
       "    </tr>\n",
       "    <tr>\n",
       "      <th>5</th>\n",
       "      <td>tutorial_data/diet_data/diet/사과파이/0_A020511XX_...</td>\n",
       "      <td>사과파이</td>\n",
       "      <td>사과파이</td>\n",
       "    </tr>\n",
       "    <tr>\n",
       "      <th>6</th>\n",
       "      <td>tutorial_data/diet_data/diet/사과파이/0_A020511XX_...</td>\n",
       "      <td>사과파이</td>\n",
       "      <td>사과파이</td>\n",
       "    </tr>\n",
       "    <tr>\n",
       "      <th>7</th>\n",
       "      <td>tutorial_data/diet_data/diet/사과파이/0_A020511XX_...</td>\n",
       "      <td>사과파이</td>\n",
       "      <td>사과파이</td>\n",
       "    </tr>\n",
       "    <tr>\n",
       "      <th>8</th>\n",
       "      <td>tutorial_data/diet_data/diet/사과파이/0_A020511XX_...</td>\n",
       "      <td>사과파이</td>\n",
       "      <td>사과파이</td>\n",
       "    </tr>\n",
       "    <tr>\n",
       "      <th>9</th>\n",
       "      <td>tutorial_data/diet_data/diet/사과파이/0_A020511XX_...</td>\n",
       "      <td>사과파이</td>\n",
       "      <td>사과파이</td>\n",
       "    </tr>\n",
       "  </tbody>\n",
       "</table>\n",
       "</div>"
      ],
      "text/plain": [
       "                                               image label predicted\n",
       "0  tutorial_data/diet_data/diet/사과파이/0_A020511XX_...  사과파이      사과파이\n",
       "1  tutorial_data/diet_data/diet/사과파이/0_A020511XX_...  사과파이      사과파이\n",
       "2  tutorial_data/diet_data/diet/사과파이/0_A020511XX_...  사과파이      사과파이\n",
       "3  tutorial_data/diet_data/diet/사과파이/0_A020511XX_...  사과파이      사과파이\n",
       "4  tutorial_data/diet_data/diet/사과파이/0_A020511XX_...  사과파이      사과파이\n",
       "5  tutorial_data/diet_data/diet/사과파이/0_A020511XX_...  사과파이      사과파이\n",
       "6  tutorial_data/diet_data/diet/사과파이/0_A020511XX_...  사과파이      사과파이\n",
       "7  tutorial_data/diet_data/diet/사과파이/0_A020511XX_...  사과파이      사과파이\n",
       "8  tutorial_data/diet_data/diet/사과파이/0_A020511XX_...  사과파이      사과파이\n",
       "9  tutorial_data/diet_data/diet/사과파이/0_A020511XX_...  사과파이      사과파이"
      ]
     },
     "execution_count": 6,
     "metadata": {},
     "output_type": "execute_result"
    }
   ],
   "source": [
    "%%thanosql\n",
    "SELECT * \n",
    "FROM (\n",
    "    PREDICT USING diet_image_classification\n",
    "    AS \n",
    "    SELECT *\n",
    "    FROM diet\n",
    "    )\n",
    "WHERE label = predicted\n",
    "AND label LIKE '사과파이'\n",
    "LIMIT 10"
   ]
  }
 ],
 "metadata": {
  "kernelspec": {
   "display_name": "Python 3 (ipykernel)",
   "language": "python",
   "name": "python3"
  },
  "language_info": {
   "codemirror_mode": {
    "name": "ipython",
    "version": 3
   },
   "file_extension": ".py",
   "mimetype": "text/x-python",
   "name": "python",
   "nbconvert_exporter": "python",
   "pygments_lexer": "ipython3",
   "version": "3.9.10"
  }
 },
 "nbformat": 4,
 "nbformat_minor": 5
}
