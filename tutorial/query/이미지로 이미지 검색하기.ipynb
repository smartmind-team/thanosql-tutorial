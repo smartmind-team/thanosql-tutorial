{
 "cells": [
  {
   "cell_type": "markdown",
   "id": "e43f86f8-a77c-4f93-a194-5c8dbd954871",
   "metadata": {},
   "source": [
    "# __이미지로 이미지 검색하기__"
   ]
  },
  {
   "cell_type": "markdown",
   "id": "7b921af2-01c2-4225-823c-4f0a092b0366",
   "metadata": {},
   "source": [
    "## 시작 전 사전정보\n",
    "\n",
    "- 튜토리얼 난이도 : ★☆☆☆☆\n",
    "- 읽는데 걸리는 시간 : 7분\n",
    "- 사용 언어 : [SQL](https://ko.wikipedia.org/wiki/SQL) (100%)\n",
    "- 실행 파일 위치 : tutorial/query/이미지로 이미지 검색하기.ipynb   \n",
    "- 참고 문서 : [MNIST 데이터 세트](http://yann.lecun.com/exdb/mnist/), [A Simple Framework for Contrastive Learning of Visual Representations](https://arxiv.org/abs/2002.05709)"
   ]
  },
  {
   "cell_type": "markdown",
   "id": "6b65969e-dd45-4881-a5b3-4c140f4d8e58",
   "metadata": {},
   "source": [
    "## 튜토리얼 소개\n",
    "\n",
    "\n",
    "이미지는 고차원 데이터(높이x너비x채널[RGB]x색의 강도)로써 각 픽셀의 정보를 무작위로 생성한다면 아무 의미를 갖지 않는 이미지가 생성됩니다. 즉, 각 픽셀은 주변 픽셀과 연관된 특정 패턴을 갖는 경우에만 사람이 이미지로 인식을 할 수 있게 됩니다. 이는 이미지를 실제보다 저차원적 특성 벡터에 표현할 수 있다는 의미입니다. 최근에는 인공지능을 이용해서 각 이미지가 갖는 의미의 유사도에 따라 저차원 공간에 수치화하여 표현하는 연구들이 다방면으로 이루어지고 있으며 이는 이미지 수치화, 벡터화(Vectorization), 임베딩(Embedding) 등의 이름으로  다양하게 활용되고 있습니다. \n",
    "\n",
    "이미지의 유사도를 정의하는 방법은 여러가지가 있습니다. 색상이 비슷하거나, 이미지 내의 사물이 비슷하거나, 손글씨처럼 의미가 동일할 수도 있습니다. 유사한 이미지에 대한 정확한 정의를 내리기 어렵지만 이미지가 보유하고 있는 일반적인 특징을 인공지능은 학습하고 수치화합니다.\n",
    "\n",
    "ThanoSQL에서는 이미지를 입력하고 DB에서 유사한 이미지를 검색하기 위해 [자가학습모델(Self-Supervised Learning Model)](https://en.wikipedia.org/wiki/Self-supervised_learning)을 사용합니다. 사용자가 보유하고 있는 이미지들을 ThanoSQL의 DB에 올리면 인공지능 알고리즘을 통해 비슷한 이미지는 가깝게 다른 이미지들은 멀리 배치하며 스스로 학습을 진행합니다. 정답이 없는 데이터셋에서 이미지의 일반적인 표현을 학습하고 소량의 목푯값(Target)이 있는 이미지로 미세 조정하여 분류나 회귀 작업에 활용할 수 있습니다. \n",
    "\n",
    "또한, ThanoSQL은 인공지능 알고리즘을 이용해서 데이터 세트를 수치화 합니다. 이렇게 수치화 된 데이터는 DB의 컬럼 내에 저장되고, 이미지 간 유사도(거리) 계산을 통해 비슷한 이미지를 검색하는데 사용됩니다.\n",
    "\n",
    "__아래는 ThanoSQL 유사 이미지 검색 알고리즘의 활용 및 예시 입니다.__   \n",
    "\n",
    "- 사용자가 좋아하는 이미지를 입력받으면 DB 상에 저장되어 있는 미술 작품 중에서 비슷한 느낌의 미술 작품들을 검색하고 사용자에게 추천합니다.\n",
    "- 수천장의 사진이 담겨있는 앨범에서 유사 이미지를 찾아낼 수 있습니다.\n",
    "- 이미지의 수치화 된 값을 ThanoSQL의 DB에 저장하고, ThanoSQL Auto-ML 회귀/분류 예측 모델을 이용해서 나만의 검색 엔진이나 인공지능 모델을 만들 수 있습니다.\n",
    " \n",
    "\n",
    "    이번 튜토리얼에서는 <mark style=\"background-color:#FFD79C\">MNIST 손글씨 데이터 세트</mark>를 사용합니다. 각 이미지는 0\\~1 사이의 값을 갖는 고정 크기(28x28 = 784 픽셀) 이며, 여러 사람들이 손으로 쓴 0\\~9까지 숫자를 정답과 함께 제공합니다. 1,000개의 학습용 데이터 세트와 200개의 테스트용 데이터 세트로 이루어져 있습니다.\n",
    "    \n",
    "ThanoSQL을 사용하여 손글씨 데이터를 입력하고 DB 내에서 입력 이미지와 유사한 이미지를 검색해주는 모델을 만들어 봅니다. \n",
    "\n",
    "<img src = \"https://docs.thanosql.ai/img/thanosql_search/simclr_search/simclr_img7.png\" title = \"MNIST 데이터\">"
   ]
  },
  {
   "cell_type": "markdown",
   "id": "5fd38a02-06a5-405b-82e0-b074a3dbf589",
   "metadata": {},
   "source": [
    "## __0. 데이터 세트 준비__\n",
    "\n",
    "ThanoSQL의 쿼리 구문을 사용하기 위해서는 Docs의 ThanoSQL 워크스페이스\n",
    "에서 언급된 것처럼 API 토큰을 생성하고 아래의 쿼리를 실행해야 합니다."
   ]
  },
  {
   "cell_type": "code",
   "execution_count": null,
   "id": "cbcccdc6-d416-4064-a7c6-7d10c228171a",
   "metadata": {},
   "outputs": [],
   "source": [
    "%load_ext thanosql\n",
    "%thanosql API_TOKEN=<발급받은_API_TOKEN>"
   ]
  },
  {
   "cell_type": "code",
   "execution_count": null,
   "id": "63661751-7e32-48f7-84fa-1dd205cc5d6d",
   "metadata": {},
   "outputs": [],
   "source": [
    "%%thanosql\n",
    "COPY mnist_train \n",
    "OPTIONS (overwrite=True)\n",
    "FROM \"tutorial_data/mnist_data/mnist_train.csv\""
   ]
  },
  {
   "cell_type": "code",
   "execution_count": null,
   "id": "f65244d4-97bc-4464-aa8c-2d12a1f59435",
   "metadata": {},
   "outputs": [],
   "source": [
    "%%thanosql\n",
    "COPY mnist_test \n",
    "OPTIONS (overwrite=True)\n",
    "FROM \"tutorial_data/mnist_data/mnist_test.csv\""
   ]
  },
  {
   "cell_type": "markdown",
   "id": "d6845948",
   "metadata": {},
   "source": [
    "\"__쿼리 세부 정보__\"\n",
    "- \"__COPY__\" 쿼리 구문을 사용하여 DB에 저장 할 데이터 세트명을 지정합니다. \n",
    "- \"__OPTIONS__\" 쿼리 구문을 통해 __COPY__ 에 사용할 옵션을 지정합니다.\n",
    "    - \"overwrite\" : 동일 이름의 데이터 세트가 DB상에 존재하는 경우 덮어쓰기 가능 유무 설정. True일 경우 기존 데이터 세트는 새로운 데이터 세트로 변경됨 (True|False, DEFAULT : False)"
   ]
  },
  {
   "cell_type": "markdown",
   "id": "542deaf1-606f-49ea-9b6d-5721050ff2bf",
   "metadata": {
    "tags": []
   },
   "source": [
    "## __1. 데이터 세트 확인__\n",
    "\n",
    "손글씨 분류 모델을 만들기 위해 ThanoSQL [DB](https://ko.wikipedia.org/wiki/%EB%8D%B0%EC%9D%B4%ED%84%B0%EB%B2%A0%EC%9D%B4%EC%8A%A4)에 저장되어 있는 <mark style=\"background-color:#FFEC92\">mnist_train</mark> 테이블을 사용합니다. <mark style=\"background-color:#FFEC92\">mnist_train</mark> 테이블은 <mark style=\"background-color:#FFD79C\">MNIST</mark> 이미지 파일들이 저장되어 있는 경로와 파일 이름 그리고 라벨 정보가 담겨 있는 테이블입니다. 아래의 쿼리문을 실행하고 테이블의 내용을 확인합니다."
   ]
  },
  {
   "cell_type": "code",
   "execution_count": null,
   "id": "242430e8-09f5-4f2c-9133-21015fc0acf8",
   "metadata": {},
   "outputs": [],
   "source": [
    "%%thanosql\n",
    "SELECT * \n",
    "FROM mnist_train \n",
    "LIMIT 5"
   ]
  },
  {
   "cell_type": "markdown",
   "id": "2b4f3acf-f218-4d51-b671-7651632290ec",
   "metadata": {},
   "source": [
    "## __2. 이미지 수치화 모델 생성__\n",
    "\n",
    "이전 단계에서 확인한 <mark style=\"background-color:#FFEC92\">mnist_train</mark> 테이블을 사용하여 이미지 수치화 모델을 만듭니다. 아래의 쿼리 구문을 실행하여 <mark style=\"background-color:#E9D7FD\">my_image_search_model</mark>이라는 이름의 모델을 만듭니다.  \n",
    "(쿼리 실행 시 예상 소요 시간 : 1 min)"
   ]
  },
  {
   "cell_type": "code",
   "execution_count": null,
   "id": "3630f8f7-8229-49f5-ae32-51011e1e37c8",
   "metadata": {},
   "outputs": [],
   "source": [
    "%%thanosql\n",
    "BUILD MODEL my_image_search_model\n",
    "USING SimCLR\n",
    "OPTIONS (\n",
    "    image_col=\"image_path\",\n",
    "    max_epochs=1,\n",
    "    overwrite=True\n",
    "    )\n",
    "AS \n",
    "SELECT * \n",
    "FROM mnist_train"
   ]
  },
  {
   "cell_type": "markdown",
   "id": "1e173c0d",
   "metadata": {},
   "source": [
    "__\"쿼리 세부 정보\"__\n",
    "- \"__BUILD MODEL__\" 쿼리 구문을 사용하여 <mark style=\"background-color:#E9D7FD\">my_image_search_model</mark> 이라는 모델을 만들고 학습시킵니다.\n",
    "- \"__USING__\" 쿼리 구문을 통해 베이스 모델로 <mark style=\"background-color:#E9D7FD\">SimCLR</mark> 모델을 사용할 것을 명시합니다.\n",
    "- \"__OPTIONS__\" 쿼리 구문을 통해 모델 생성에 사용할 옵션을 지정합니다.  \n",
    "    -  \"image_col\" : 데이터 테이블에서 이미지의 경로를 담은 컬럼 (Default : \"<mark style=\"background-color:#D7D0FF \">image_path</mark>\")\n",
    "    -  \"max_epochs\" : 이미지 수치화 모델을 생성하기 위한 데이터 세트 학습 횟수\n",
    "    - \"overwrite\" : 동일 이름의 모델이 존재하는 경우 덮어쓰기 가능 유무 설정. True일 경우 기존 모델은 새로운 모델로 변경됨 (True|False, DEFAULT : False)"
   ]
  },
  {
   "cell_type": "markdown",
   "id": "fa4b8b03",
   "metadata": {},
   "source": [
    "다음 \"__CONVERT USING__ \" 쿼리 구문을 실행하여 `mnist_test` 이미지들을 수치화 합니다. 수치화 된 결과는 `mnist_test` 테이블에 <mark style=\"background-color:#D7D0FF \">my_image_search_model_simclr</mark>이라는 새로운 이름의 컬럼에 저장됩니다."
   ]
  },
  {
   "cell_type": "code",
   "execution_count": null,
   "id": "0abffc4b-aec9-444a-9546-dce181190f08",
   "metadata": {},
   "outputs": [],
   "source": [
    "%%thanosql\n",
    "CONVERT USING my_image_search_model\n",
    "OPTIONS (\n",
    "    table_name= \"mnist_test\",\n",
    "    image_col=\"image_path\"\n",
    "    )\n",
    "AS \n",
    "SELECT * \n",
    "FROM mnist_test"
   ]
  },
  {
   "cell_type": "markdown",
   "id": "ccb189a3",
   "metadata": {},
   "source": [
    "__\"쿼리 세부정보\"__\n",
    "- \"__CONVERT USING__\" 쿼리 구문은 <mark style=\"background-color:#E9D7FD\">my_image_search_model</mark>을 이미지 수치화를 위한 알고리즘으로 사용합니다.   \n",
    "- \"__OPTIONS__\" 쿼리 구문을 통해 이미지 수치화 시 필요한 변수들을 정의합니다. \n",
    "    - \"table_name\" : ThanoSQL DB 내에 저장될 테이블 이름을 정의합니다. \n",
    "    - \"image_col\" : 데이터 테이블에서 이미지의 경로를 담은 컬럼(default: \"image_path\")"
   ]
  },
  {
   "cell_type": "markdown",
   "id": "1c16f866-b5b4-4540-a848-30d0cd459165",
   "metadata": {},
   "source": [
    "## __3. 이미지 수치화 모델을 사용해서 유사 이미지 검색하기__\n",
    "\n",
    "이번 단계에서는 <mark style=\"background-color:#E9D7FD\">my_image_search_model</mark> 이미지 수치화 모델과 테스트 테이블을 사용하여 \"923.jpg\" 이미지 파일(손글씨 8)과 유사한 이미지를 검색합니다.\n",
    "\n",
    "<img src =\"https://docs.thanosql.ai/img/thanosql_search/simclr_search/simclr_img8.png\" width = \"100px\"></img>\n",
    "<br>923.jpg 이미지파일</p>"
   ]
  },
  {
   "cell_type": "code",
   "execution_count": null,
   "id": "61e0de08-b6a7-4087-8691-230243aab016",
   "metadata": {},
   "outputs": [],
   "source": [
    "%%thanosql\n",
    "SEARCH IMAGE images='tutorial_data/mnist_data/test/923.jpg' \n",
    "USING my_image_search_model \n",
    "AS\n",
    "SELECT * \n",
    "FROM mnist_test"
   ]
  },
  {
   "cell_type": "markdown",
   "id": "9871fe36",
   "metadata": {},
   "source": [
    "__\"쿼리 세부정보\"__\n",
    "- \"__SEARCH IMAGE [images|audio|videos]__\" 쿼리 구문은 검색하고자 하는 이미지|오디오|비디오 파일을 정의합니다.\n",
    "- \"__USING__\"은 이미지 수치화에 사용할 모델을 정의합니다.\n",
    "- \"__AS__\" 쿼리 구문은 검색에 사용할 임베딩 테이블을 정의합니다. `mnist_embds` 테이블을 사용합니다"
   ]
  },
  {
   "cell_type": "markdown",
   "id": "12953f08",
   "metadata": {},
   "source": [
    "다음 쿼리를 실행하여 \"__SEARCH__\" 결과를 ThanoSQL의 \"__PRINT__\" 쿼리 구문을 활용하여 가장 유사한 상위 4개를 출력합니다. 학습을 조금 밖에 진행하지 않았지만 8과 비슷한 이미지를 출력하는 것을 확인할 수 있습니다."
   ]
  },
  {
   "cell_type": "code",
   "execution_count": null,
   "id": "77af4961-def3-4884-bea2-b8e917d9ae87",
   "metadata": {},
   "outputs": [],
   "source": [
    "%%thanosql\n",
    "PRINT IMAGE \n",
    "AS (\n",
    "    SELECT image_path, my_image_search_model_simclr_similarity1 \n",
    "    FROM (\n",
    "        SEARCH IMAGE images='tutorial_data/mnist_data/test/923.jpg' \n",
    "        USING my_image_search_model \n",
    "        AS \n",
    "        SELECT * \n",
    "        FROM mnist_test\n",
    "        )\n",
    "    ORDER BY my_image_search_model_simclr_similarity1 DESC \n",
    "    LIMIT 4\n",
    "    )"
   ]
  },
  {
   "cell_type": "markdown",
   "id": "517479e8",
   "metadata": {},
   "source": [
    "\n",
    "이미지 유사도 검색 알고리즘의 기본 학습 옵션은 이미지의 좌우상하 반전, 색상의 변화 등에 관계없이 모두 같은 이미지로 인식하도록 학습이 진행 됩니다. 강아지의 사진은 뒤집히거나 색이 변해도 강아지로 인식되어야 하기 때문입니다. 의류 이미지 등과 같이 색의 변화가 중요하거나 숫자 처럼 상하, 좌우 반전이 중요한 경우 학습 시 옵션을 변경해 주어야 합니다. 본 튜토리얼에서는 이러한 이미지 유사도 검색의 특징을 보여주고 있습니다."
   ]
  }
 ],
 "metadata": {
  "kernelspec": {
   "display_name": "Python 3 (ipykernel)",
   "language": "python",
   "name": "python3"
  },
  "language_info": {
   "codemirror_mode": {
    "name": "ipython",
    "version": 3
   },
   "file_extension": ".py",
   "mimetype": "text/x-python",
   "name": "python",
   "nbconvert_exporter": "python",
   "pygments_lexer": "ipython3",
   "version": "3.9.12"
  },
  "vscode": {
   "interpreter": {
    "hash": "1e1bc7e99b2f95d9f5252b41d6fcfb61f279cf1cd0f9acb6930626c23d06a5aa"
   }
  }
 },
 "nbformat": 4,
 "nbformat_minor": 5
}
