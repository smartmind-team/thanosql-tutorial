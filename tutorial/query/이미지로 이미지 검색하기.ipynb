{
 "cells": [
  {
   "cell_type": "markdown",
   "id": "e43f86f8-a77c-4f93-a194-5c8dbd954871",
   "metadata": {},
   "source": [
    "# __이미지로 이미지 검색하기__\n",
    "\n",
    "**이미지 수치화 기술 이해하기**\n",
    "---\n",
    "👉이미지는 고차원 데이터(높이x너비x채널(RGB)x색의 강도)로써 각 픽셀의 정보를 무작위로 생성한다면 아무 의미를 갖지 않는 이미지가 생성됩니다. 즉, 각 픽셀은 주변 픽셀과 연관된 특정 패턴을 갖는 경우에만 사람이 이미지로 인식을 할 수 있게 됩니다. 이는 이미지를 실제보다 저차원적 특성 벡터에 표현할 수 있다는 의미입니다. 최근에는 인공지능을 이용해서 각 이미지가 갖는 의미의 유사도에 따라 저차원 공간에 수치화하여 표현하는 연구들이 다방면으로 이루어지고 있으며 이는 이미지 수치화, 벡터화(Vectorization), 임베딩(Embedding) 등의 이름으로 다양하게 활용되고 있습니다.\n",
    "\n",
    "**본 튜토리얼에서는**\n",
    "---\n",
    "👉 이번 튜토리얼에서는 MNIST 손글씨 데이터 세트를 사용합니다. 각 이미지는 0~1 사이의 값을 갖는 고정 크기(28x28 = 784 픽셀) 이며, 여러 사람들이 손으로 쓴 0~9까지 숫자를 정답과 함께 제공합니다. 60,000 개의 학습용 데이터 세트와 10,000개의 테스트용 데이터 세트로 이루어져 있습니다.\n",
    "\n",
    "ThanoSQL을 사용하여 손글씨 데이터를 입력하고 DB 내에서 입력 이미지와 유사한 이미지를 검색해주는 모델을 만들어 봅니다."
   ]
  },
  {
   "cell_type": "markdown",
   "id": "5fd38a02-06a5-405b-82e0-b074a3dbf589",
   "metadata": {},
   "source": [
    "## __0. 데이터 세트 확인__"
   ]
  },
  {
   "cell_type": "markdown",
   "id": "48d1d13a",
   "metadata": {},
   "source": [
    "ThanoSQL의 쿼리 구문을 사용하기 위해서는 [ThanoSQL 워크스페이스](https://docs.thanosql.ai/quick_start/how_to_use_ThanoSQL/#5-thanosql)에서 언급된 것처럼 API 토큰을 생성하고 아래의 쿼리를 실행해야 합니다."
   ]
  },
  {
   "cell_type": "code",
   "execution_count": null,
   "id": "106bb636-cbd5-4d54-b0bc-aacd6596fdca",
   "metadata": {
    "tags": []
   },
   "outputs": [],
   "source": [
    "%load_ext thanosql\n",
    "%thanosql API_TOKEN=<발급받은 개인 토큰>"
   ]
  },
  {
   "cell_type": "code",
   "execution_count": 79,
   "id": "63661751-7e32-48f7-84fa-1dd205cc5d6d",
   "metadata": {},
   "outputs": [
    {
     "name": "stdout",
     "output_type": "stream",
     "text": [
      "Success\n"
     ]
    }
   ],
   "source": [
    "%%thanosql\n",
    "COPY mnist_train FROM \"tutorial_data/mnist_data/mnist_train.csv\""
   ]
  },
  {
   "cell_type": "code",
   "execution_count": 80,
   "id": "f65244d4-97bc-4464-aa8c-2d12a1f59435",
   "metadata": {},
   "outputs": [
    {
     "name": "stdout",
     "output_type": "stream",
     "text": [
      "Success\n"
     ]
    }
   ],
   "source": [
    "%%thanosql\n",
    "COPY mnist_test FROM \"tutorial_data/mnist_data/mnist_test.csv\""
   ]
  },
  {
   "cell_type": "markdown",
   "id": "542deaf1-606f-49ea-9b6d-5721050ff2bf",
   "metadata": {
    "tags": []
   },
   "source": [
    "## __1. 데이터 세트 확인__"
   ]
  },
  {
   "cell_type": "markdown",
   "id": "f4173ef2-b099-4f54-8b20-5ecae6fab51c",
   "metadata": {},
   "source": [
    "손글씨 분류 모델을 만들기 위해 ThanoSQL DB에 저장되어 있는 mnist_train 테이블을 사용합니다. mnist_train 테이블은 MNIST 이미지 파일들이 저장되어 있는 경로와 파일 이름 그리고 라벨 정보가 담겨 있는 테이블입니다. 아래의 쿼리문을 실행하고 테이블의 내용을 확인합니다."
   ]
  },
  {
   "cell_type": "code",
   "execution_count": 81,
   "id": "242430e8-09f5-4f2c-9133-21015fc0acf8",
   "metadata": {},
   "outputs": [
    {
     "data": {
      "text/html": [
       "<div>\n",
       "<style scoped>\n",
       "    .dataframe tbody tr th:only-of-type {\n",
       "        vertical-align: middle;\n",
       "    }\n",
       "\n",
       "    .dataframe tbody tr th {\n",
       "        vertical-align: top;\n",
       "    }\n",
       "\n",
       "    .dataframe thead th {\n",
       "        text-align: right;\n",
       "    }\n",
       "</style>\n",
       "<table border=\"1\" class=\"dataframe\">\n",
       "  <thead>\n",
       "    <tr style=\"text-align: right;\">\n",
       "      <th></th>\n",
       "      <th>img_path</th>\n",
       "      <th>filename</th>\n",
       "      <th>label</th>\n",
       "    </tr>\n",
       "  </thead>\n",
       "  <tbody>\n",
       "    <tr>\n",
       "      <th>0</th>\n",
       "      <td>tutorial_data/mnist_data/train/6782.jpg</td>\n",
       "      <td>6782.jpg</td>\n",
       "      <td>5</td>\n",
       "    </tr>\n",
       "    <tr>\n",
       "      <th>1</th>\n",
       "      <td>tutorial_data/mnist_data/train/1810.jpg</td>\n",
       "      <td>1810.jpg</td>\n",
       "      <td>5</td>\n",
       "    </tr>\n",
       "    <tr>\n",
       "      <th>2</th>\n",
       "      <td>tutorial_data/mnist_data/train/33617.jpg</td>\n",
       "      <td>33617.jpg</td>\n",
       "      <td>5</td>\n",
       "    </tr>\n",
       "    <tr>\n",
       "      <th>3</th>\n",
       "      <td>tutorial_data/mnist_data/train/27802.jpg</td>\n",
       "      <td>27802.jpg</td>\n",
       "      <td>5</td>\n",
       "    </tr>\n",
       "    <tr>\n",
       "      <th>4</th>\n",
       "      <td>tutorial_data/mnist_data/train/50677.jpg</td>\n",
       "      <td>50677.jpg</td>\n",
       "      <td>5</td>\n",
       "    </tr>\n",
       "  </tbody>\n",
       "</table>\n",
       "</div>"
      ],
      "text/plain": [
       "                                   img_path   filename  label\n",
       "0   tutorial_data/mnist_data/train/6782.jpg   6782.jpg      5\n",
       "1   tutorial_data/mnist_data/train/1810.jpg   1810.jpg      5\n",
       "2  tutorial_data/mnist_data/train/33617.jpg  33617.jpg      5\n",
       "3  tutorial_data/mnist_data/train/27802.jpg  27802.jpg      5\n",
       "4  tutorial_data/mnist_data/train/50677.jpg  50677.jpg      5"
      ]
     },
     "execution_count": 81,
     "metadata": {},
     "output_type": "execute_result"
    }
   ],
   "source": [
    "%%thanosql\n",
    "SELECT * \n",
    "FROM mnist_train \n",
    "LIMIT 5"
   ]
  },
  {
   "cell_type": "markdown",
   "id": "648a0843",
   "metadata": {},
   "source": [
    "mnist_train 테이블은 아래와 같은 정보를 담고 있습니다. \"6782.jpg\" 이미지 파일은 숫자 5를 쓴 손글씨 이미지입니다.\n",
    "\n",
    "- img_path: 이미지 경로\n",
    "- filename: 파일 이름\n",
    "- label : 이미지 라벨"
   ]
  },
  {
   "cell_type": "markdown",
   "id": "2b4f3acf-f218-4d51-b671-7651632290ec",
   "metadata": {},
   "source": [
    "## __2. 이미지 수치화 모델 생성__"
   ]
  },
  {
   "cell_type": "markdown",
   "id": "fdaad6bd-ae89-4b32-9bdf-3cbe9c2e685e",
   "metadata": {},
   "source": [
    "이전 단계에서 확인한 mnist_train 테이블을 사용하여 이미지 수치화 모델을 만듭니다. 아래의 쿼리 구문을 실행하여 my_image_search_model이라는 이름의 모델을 만듭니다.  "
   ]
  },
  {
   "cell_type": "markdown",
   "id": "aa5d133a",
   "metadata": {},
   "source": [
    "(쿼리 실행 시 예상 소요 시간 : 1 min)"
   ]
  },
  {
   "cell_type": "code",
   "execution_count": 82,
   "id": "3630f8f7-8229-49f5-ae32-51011e1e37c8",
   "metadata": {},
   "outputs": [
    {
     "name": "stdout",
     "output_type": "stream",
     "text": [
      "Success\n"
     ]
    }
   ],
   "source": [
    "%%thanosql\n",
    "BUILD MODEL my_image_search_model\n",
    "USING SimCLR\n",
    "OPTIONS (\n",
    "    image_col='img_path',\n",
    "    file_name='filename',\n",
    "    max_epochs=1\n",
    "    )\n",
    "AS \n",
    "SELECT * \n",
    "FROM mnist_train"
   ]
  },
  {
   "cell_type": "markdown",
   "id": "1e173c0d",
   "metadata": {},
   "source": [
    "__쿼리 세부 정보__ \n",
    "- \"__BUILD MODEL__\" 쿼리 구문을 사용하여 mnist_model 이라는 모델을 만들고 학습시킵니다.\n",
    "- \"__USING__\" 쿼리 구문을 통해 베이스 모델로 SimCLR 모델을 사용할 것을 명시합니다.\n",
    "- \"__OPTIONS__\" 쿼리 구문을 통해 모델 생성에 사용할 옵션을 지정합니다.  \n",
    "    -  \"image_col\" : 데이터 테이블에서 이미지의 경로를 담은 컬럼 (Default : \"path\")\n",
    "    -  \"file_name\" : 데이터 테이블에서 이미지 파일 이름을 담은 컬럼\n",
    "    -  \"max_epochs\" : 이미지 수치화 모델을 생성하기 위한 데이터 세트 학습 횟수"
   ]
  },
  {
   "cell_type": "markdown",
   "id": "fa4b8b03",
   "metadata": {},
   "source": [
    "아래 쿼리 구문을 사용하여 이미지 수치화 결과를 확인합니다. `my_image_search_model`을 \"__CONVERT USING__\" 쿼리 구문을 사용하여 `mnist_test` 이미지들을 임베딩합니다. "
   ]
  },
  {
   "cell_type": "code",
   "execution_count": 83,
   "id": "0abffc4b-aec9-444a-9546-dce181190f08",
   "metadata": {},
   "outputs": [
    {
     "data": {
      "text/html": [
       "<div>\n",
       "<style scoped>\n",
       "    .dataframe tbody tr th:only-of-type {\n",
       "        vertical-align: middle;\n",
       "    }\n",
       "\n",
       "    .dataframe tbody tr th {\n",
       "        vertical-align: top;\n",
       "    }\n",
       "\n",
       "    .dataframe thead th {\n",
       "        text-align: right;\n",
       "    }\n",
       "</style>\n",
       "<table border=\"1\" class=\"dataframe\">\n",
       "  <thead>\n",
       "    <tr style=\"text-align: right;\">\n",
       "      <th></th>\n",
       "      <th>img_path</th>\n",
       "      <th>filename</th>\n",
       "      <th>label</th>\n",
       "      <th>my_image_search_model_simclr</th>\n",
       "    </tr>\n",
       "  </thead>\n",
       "  <tbody>\n",
       "    <tr>\n",
       "      <th>0</th>\n",
       "      <td>tutorial_data/mnist_data/test/5099.jpg</td>\n",
       "      <td>5099.jpg</td>\n",
       "      <td>6</td>\n",
       "      <td>[0.76583331823349, 0.5345810055732727, 0.43373...</td>\n",
       "    </tr>\n",
       "    <tr>\n",
       "      <th>1</th>\n",
       "      <td>tutorial_data/mnist_data/test/9239.jpg</td>\n",
       "      <td>9239.jpg</td>\n",
       "      <td>6</td>\n",
       "      <td>[0.7003944516181946, 0.34001582860946655, 0.42...</td>\n",
       "    </tr>\n",
       "    <tr>\n",
       "      <th>2</th>\n",
       "      <td>tutorial_data/mnist_data/test/2242.jpg</td>\n",
       "      <td>2242.jpg</td>\n",
       "      <td>6</td>\n",
       "      <td>[0.9108200669288635, 0.40680938959121704, 0.48...</td>\n",
       "    </tr>\n",
       "    <tr>\n",
       "      <th>3</th>\n",
       "      <td>tutorial_data/mnist_data/test/3451.jpg</td>\n",
       "      <td>3451.jpg</td>\n",
       "      <td>6</td>\n",
       "      <td>[0.9245117902755737, 0.5313209891319275, 0.351...</td>\n",
       "    </tr>\n",
       "    <tr>\n",
       "      <th>4</th>\n",
       "      <td>tutorial_data/mnist_data/test/2631.jpg</td>\n",
       "      <td>2631.jpg</td>\n",
       "      <td>6</td>\n",
       "      <td>[0.7445120811462402, 0.5756716728210449, 0.456...</td>\n",
       "    </tr>\n",
       "    <tr>\n",
       "      <th>...</th>\n",
       "      <td>...</td>\n",
       "      <td>...</td>\n",
       "      <td>...</td>\n",
       "      <td>...</td>\n",
       "    </tr>\n",
       "    <tr>\n",
       "      <th>195</th>\n",
       "      <td>tutorial_data/mnist_data/test/8045.jpg</td>\n",
       "      <td>8045.jpg</td>\n",
       "      <td>8</td>\n",
       "      <td>[0.6051712036132812, 0.35599127411842346, 0.40...</td>\n",
       "    </tr>\n",
       "    <tr>\n",
       "      <th>196</th>\n",
       "      <td>tutorial_data/mnist_data/test/9591.jpg</td>\n",
       "      <td>9591.jpg</td>\n",
       "      <td>8</td>\n",
       "      <td>[0.6837575435638428, 0.20702850818634033, 0.22...</td>\n",
       "    </tr>\n",
       "    <tr>\n",
       "      <th>197</th>\n",
       "      <td>tutorial_data/mnist_data/test/7425.jpg</td>\n",
       "      <td>7425.jpg</td>\n",
       "      <td>8</td>\n",
       "      <td>[0.722635805606842, 0.4351770579814911, 0.3241...</td>\n",
       "    </tr>\n",
       "    <tr>\n",
       "      <th>198</th>\n",
       "      <td>tutorial_data/mnist_data/test/2150.jpg</td>\n",
       "      <td>2150.jpg</td>\n",
       "      <td>8</td>\n",
       "      <td>[0.6432840824127197, 0.5282281041145325, 0.597...</td>\n",
       "    </tr>\n",
       "    <tr>\n",
       "      <th>199</th>\n",
       "      <td>tutorial_data/mnist_data/test/5087.jpg</td>\n",
       "      <td>5087.jpg</td>\n",
       "      <td>8</td>\n",
       "      <td>[0.8158503174781799, 0.4900054633617401, 0.361...</td>\n",
       "    </tr>\n",
       "  </tbody>\n",
       "</table>\n",
       "<p>200 rows × 4 columns</p>\n",
       "</div>"
      ],
      "text/plain": [
       "                                   img_path  filename  label  \\\n",
       "0    tutorial_data/mnist_data/test/5099.jpg  5099.jpg      6   \n",
       "1    tutorial_data/mnist_data/test/9239.jpg  9239.jpg      6   \n",
       "2    tutorial_data/mnist_data/test/2242.jpg  2242.jpg      6   \n",
       "3    tutorial_data/mnist_data/test/3451.jpg  3451.jpg      6   \n",
       "4    tutorial_data/mnist_data/test/2631.jpg  2631.jpg      6   \n",
       "..                                      ...       ...    ...   \n",
       "195  tutorial_data/mnist_data/test/8045.jpg  8045.jpg      8   \n",
       "196  tutorial_data/mnist_data/test/9591.jpg  9591.jpg      8   \n",
       "197  tutorial_data/mnist_data/test/7425.jpg  7425.jpg      8   \n",
       "198  tutorial_data/mnist_data/test/2150.jpg  2150.jpg      8   \n",
       "199  tutorial_data/mnist_data/test/5087.jpg  5087.jpg      8   \n",
       "\n",
       "                          my_image_search_model_simclr  \n",
       "0    [0.76583331823349, 0.5345810055732727, 0.43373...  \n",
       "1    [0.7003944516181946, 0.34001582860946655, 0.42...  \n",
       "2    [0.9108200669288635, 0.40680938959121704, 0.48...  \n",
       "3    [0.9245117902755737, 0.5313209891319275, 0.351...  \n",
       "4    [0.7445120811462402, 0.5756716728210449, 0.456...  \n",
       "..                                                 ...  \n",
       "195  [0.6051712036132812, 0.35599127411842346, 0.40...  \n",
       "196  [0.6837575435638428, 0.20702850818634033, 0.22...  \n",
       "197  [0.722635805606842, 0.4351770579814911, 0.3241...  \n",
       "198  [0.6432840824127197, 0.5282281041145325, 0.597...  \n",
       "199  [0.8158503174781799, 0.4900054633617401, 0.361...  \n",
       "\n",
       "[200 rows x 4 columns]"
      ]
     },
     "execution_count": 83,
     "metadata": {},
     "output_type": "execute_result"
    }
   ],
   "source": [
    "%%thanosql\n",
    "CONVERT USING my_image_search_model\n",
    "OPTIONS(\n",
    "    table_name= \"mnist_test\"\n",
    "    )\n",
    "AS \n",
    "SELECT * \n",
    "FROM mnist_test"
   ]
  },
  {
   "cell_type": "markdown",
   "id": "ccb189a3",
   "metadata": {},
   "source": [
    "__쿼리 세부 정보__ \n",
    "- \"__CONVERT USING__\" 쿼리 구문은 `my_image_search_model`을 이미지 수치화를 위한 알고리즘으로 사용합니다.   \n",
    "- \"__OPTIONS__\" 쿼리 구문을 통해 이미지 수치화 시 필요한 변수들을 정의합니다. \n",
    "    - \"table_name\" : ThanoSQL DB 내에 저장될 테이블 이름을 정의합니다. "
   ]
  },
  {
   "cell_type": "markdown",
   "id": "1705aa14",
   "metadata": {},
   "source": [
    "`mnist_test` 테이블에 `my_image_search_model_sinclr`이라는 컬럼을 새롭게 생성하고 수치화 결과를 저장합니다."
   ]
  },
  {
   "cell_type": "markdown",
   "id": "14e73da0-83cc-45c0-8512-689212fcd014",
   "metadata": {},
   "source": [
    "## __3. (이미지 폴더로부터) 이미지 수치화 결과 저장__"
   ]
  },
  {
   "cell_type": "markdown",
   "id": "2021219b-2113-47f4-8037-a9a767a6e8cc",
   "metadata": {},
   "source": [
    "아래의 쿼리 구문을 실행하여 특정 폴더 내의 전체 이미지를 기존에 학습해 둔 모델을 사용해서 수치화 합니다. 위의 쿼리와 같은 역할을 하지만 학습을 위한 입력 데이터의 구조가 다릅니다."
   ]
  },
  {
   "cell_type": "code",
   "execution_count": 84,
   "id": "ff72f182-144a-4e2f-bbf2-5765914bcc77",
   "metadata": {},
   "outputs": [
    {
     "name": "stdout",
     "output_type": "stream",
     "text": [
      "Success\n"
     ]
    }
   ],
   "source": [
    "%%thanosql\n",
    "CREATE TABLE mnist_embds\n",
    "USING my_image_search_model \n",
    "OPTIONS(\n",
    "    path_type='folder', \n",
    "    data_type='image',\n",
    "    file_type=['.jpg']\n",
    "    ) \n",
    "FROM 'tutorial_data/mnist_data/test/'"
   ]
  },
  {
   "cell_type": "markdown",
   "id": "ab51fa8f",
   "metadata": {},
   "source": [
    "__쿼리 세부 정보__\n",
    "- \"__CREATE TABLEL__\" 쿼리 구문을 사용하여 이미지 수치화 테이블(`mnist_embds`)을 만듭니다.  \n",
    "- \"__USING__\"은 이미지 수치화에 사용할 모델을 정의합니다.\n",
    "- \"__OPTIONS__\"는 이미지 수치화를 위한 이미지 파일의 속성값들을 정의합니다.\n",
    "    - \"path_type\" :  데이터가 저장되어 있는 파일 경로의 타입(folder|file)  \n",
    "    - \"data_type\" :  입력하는 비정형 데이터의 종류(image|audio|video)  \n",
    "    - \"file_type\" : 대상 파일의 확장자   \n",
    "- \"__FROM__\" 쿼리 구문을 사용하여 이미지 파일들이 들어있는 폴더의 경로를 적어줍니다.\n",
    "\n",
    "\n",
    "아래 쿼리 구문을 사용하여 생성한 이미지 수치화 결과 테이블을 확인합니다.\n",
    "각 이미지들마다 수치화 된 값들이 추가 되어있는 것을 확인할 수 있습니다."
   ]
  },
  {
   "cell_type": "code",
   "execution_count": 85,
   "id": "7af97ecb-b691-4093-9872-d627a983cb3c",
   "metadata": {},
   "outputs": [
    {
     "data": {
      "text/html": [
       "<div>\n",
       "<style scoped>\n",
       "    .dataframe tbody tr th:only-of-type {\n",
       "        vertical-align: middle;\n",
       "    }\n",
       "\n",
       "    .dataframe tbody tr th {\n",
       "        vertical-align: top;\n",
       "    }\n",
       "\n",
       "    .dataframe thead th {\n",
       "        text-align: right;\n",
       "    }\n",
       "</style>\n",
       "<table border=\"1\" class=\"dataframe\">\n",
       "  <thead>\n",
       "    <tr style=\"text-align: right;\">\n",
       "      <th></th>\n",
       "      <th>image</th>\n",
       "      <th>my_image_search_model_simclr</th>\n",
       "    </tr>\n",
       "  </thead>\n",
       "  <tbody>\n",
       "    <tr>\n",
       "      <th>0</th>\n",
       "      <td>tutorial_data/mnist_data/test/2778.jpg</td>\n",
       "      <td>[0.6986842155456543, 0.37371528148651123, 0.16...</td>\n",
       "    </tr>\n",
       "    <tr>\n",
       "      <th>1</th>\n",
       "      <td>tutorial_data/mnist_data/test/616.jpg</td>\n",
       "      <td>[0.6745059490203857, 0.6385999321937561, 0.440...</td>\n",
       "    </tr>\n",
       "    <tr>\n",
       "      <th>2</th>\n",
       "      <td>tutorial_data/mnist_data/test/1809.jpg</td>\n",
       "      <td>[0.694808840751648, 0.5267070531845093, 0.5653...</td>\n",
       "    </tr>\n",
       "    <tr>\n",
       "      <th>3</th>\n",
       "      <td>tutorial_data/mnist_data/test/5165.jpg</td>\n",
       "      <td>[0.9796649813652039, 0.632573127746582, 0.7674...</td>\n",
       "    </tr>\n",
       "    <tr>\n",
       "      <th>4</th>\n",
       "      <td>tutorial_data/mnist_data/test/8600.jpg</td>\n",
       "      <td>[0.7320713996887207, 0.30531272292137146, 0.30...</td>\n",
       "    </tr>\n",
       "  </tbody>\n",
       "</table>\n",
       "</div>"
      ],
      "text/plain": [
       "                                    image  \\\n",
       "0  tutorial_data/mnist_data/test/2778.jpg   \n",
       "1   tutorial_data/mnist_data/test/616.jpg   \n",
       "2  tutorial_data/mnist_data/test/1809.jpg   \n",
       "3  tutorial_data/mnist_data/test/5165.jpg   \n",
       "4  tutorial_data/mnist_data/test/8600.jpg   \n",
       "\n",
       "                        my_image_search_model_simclr  \n",
       "0  [0.6986842155456543, 0.37371528148651123, 0.16...  \n",
       "1  [0.6745059490203857, 0.6385999321937561, 0.440...  \n",
       "2  [0.694808840751648, 0.5267070531845093, 0.5653...  \n",
       "3  [0.9796649813652039, 0.632573127746582, 0.7674...  \n",
       "4  [0.7320713996887207, 0.30531272292137146, 0.30...  "
      ]
     },
     "execution_count": 85,
     "metadata": {},
     "output_type": "execute_result"
    }
   ],
   "source": [
    "%%thanosql\n",
    "SELECT * \n",
    "FROM mnist_embds \n",
    "LIMIT 5"
   ]
  },
  {
   "cell_type": "markdown",
   "id": "1c16f866-b5b4-4540-a848-30d0cd459165",
   "metadata": {},
   "source": [
    "## __4. 이미지 수치화 모델을 사용해서 유사 이미지 검색하기__"
   ]
  },
  {
   "cell_type": "markdown",
   "id": "f3692372-1572-4547-931d-4d3a861eb103",
   "metadata": {},
   "source": [
    "이번 단계에서는 mnist_model 이미지 수치화 모델과 mnist_embds 수치화 테이블을 사용하여 \"1.jpg\" 이미지 파일(손글씨 0)과 유사한 이미지를 검색합니다."
   ]
  },
  {
   "cell_type": "code",
   "execution_count": 86,
   "id": "61e0de08-b6a7-4087-8691-230243aab016",
   "metadata": {},
   "outputs": [
    {
     "data": {
      "text/html": [
       "<div>\n",
       "<style scoped>\n",
       "    .dataframe tbody tr th:only-of-type {\n",
       "        vertical-align: middle;\n",
       "    }\n",
       "\n",
       "    .dataframe tbody tr th {\n",
       "        vertical-align: top;\n",
       "    }\n",
       "\n",
       "    .dataframe thead th {\n",
       "        text-align: right;\n",
       "    }\n",
       "</style>\n",
       "<table border=\"1\" class=\"dataframe\">\n",
       "  <thead>\n",
       "    <tr style=\"text-align: right;\">\n",
       "      <th></th>\n",
       "      <th>image</th>\n",
       "      <th>my_image_search_model_simclr</th>\n",
       "      <th>my_image_search_model_simclr_similarity1</th>\n",
       "    </tr>\n",
       "  </thead>\n",
       "  <tbody>\n",
       "    <tr>\n",
       "      <th>0</th>\n",
       "      <td>tutorial_data/mnist_data/test/2778.jpg</td>\n",
       "      <td>[0.6986842155456543, 0.37371528148651123, 0.16...</td>\n",
       "      <td>0.870745</td>\n",
       "    </tr>\n",
       "    <tr>\n",
       "      <th>1</th>\n",
       "      <td>tutorial_data/mnist_data/test/616.jpg</td>\n",
       "      <td>[0.6745059490203857, 0.6385999321937561, 0.440...</td>\n",
       "      <td>0.877990</td>\n",
       "    </tr>\n",
       "    <tr>\n",
       "      <th>2</th>\n",
       "      <td>tutorial_data/mnist_data/test/1809.jpg</td>\n",
       "      <td>[0.694808840751648, 0.5267070531845093, 0.5653...</td>\n",
       "      <td>0.875110</td>\n",
       "    </tr>\n",
       "    <tr>\n",
       "      <th>3</th>\n",
       "      <td>tutorial_data/mnist_data/test/5165.jpg</td>\n",
       "      <td>[0.9796649813652039, 0.632573127746582, 0.7674...</td>\n",
       "      <td>0.876696</td>\n",
       "    </tr>\n",
       "    <tr>\n",
       "      <th>4</th>\n",
       "      <td>tutorial_data/mnist_data/test/8600.jpg</td>\n",
       "      <td>[0.7320713996887207, 0.30531272292137146, 0.30...</td>\n",
       "      <td>0.863469</td>\n",
       "    </tr>\n",
       "    <tr>\n",
       "      <th>...</th>\n",
       "      <td>...</td>\n",
       "      <td>...</td>\n",
       "      <td>...</td>\n",
       "    </tr>\n",
       "    <tr>\n",
       "      <th>195</th>\n",
       "      <td>tutorial_data/mnist_data/test/4949.jpg</td>\n",
       "      <td>[0.8542945981025696, 0.4021967649459839, 0.275...</td>\n",
       "      <td>0.886818</td>\n",
       "    </tr>\n",
       "    <tr>\n",
       "      <th>196</th>\n",
       "      <td>tutorial_data/mnist_data/test/6146.jpg</td>\n",
       "      <td>[0.798995852470398, 0.4366079866886139, 0.3974...</td>\n",
       "      <td>0.889189</td>\n",
       "    </tr>\n",
       "    <tr>\n",
       "      <th>197</th>\n",
       "      <td>tutorial_data/mnist_data/test/2002.jpg</td>\n",
       "      <td>[0.6420943737030029, 0.5466421246528625, 0.760...</td>\n",
       "      <td>0.883405</td>\n",
       "    </tr>\n",
       "    <tr>\n",
       "      <th>198</th>\n",
       "      <td>tutorial_data/mnist_data/test/4255.jpg</td>\n",
       "      <td>[0.7085293531417847, 0.3245007395744324, 0.238...</td>\n",
       "      <td>0.877033</td>\n",
       "    </tr>\n",
       "    <tr>\n",
       "      <th>199</th>\n",
       "      <td>tutorial_data/mnist_data/test/5644.jpg</td>\n",
       "      <td>[0.8562737107276917, 0.26753851771354675, 0.28...</td>\n",
       "      <td>0.862170</td>\n",
       "    </tr>\n",
       "  </tbody>\n",
       "</table>\n",
       "<p>200 rows × 3 columns</p>\n",
       "</div>"
      ],
      "text/plain": [
       "                                      image  \\\n",
       "0    tutorial_data/mnist_data/test/2778.jpg   \n",
       "1     tutorial_data/mnist_data/test/616.jpg   \n",
       "2    tutorial_data/mnist_data/test/1809.jpg   \n",
       "3    tutorial_data/mnist_data/test/5165.jpg   \n",
       "4    tutorial_data/mnist_data/test/8600.jpg   \n",
       "..                                      ...   \n",
       "195  tutorial_data/mnist_data/test/4949.jpg   \n",
       "196  tutorial_data/mnist_data/test/6146.jpg   \n",
       "197  tutorial_data/mnist_data/test/2002.jpg   \n",
       "198  tutorial_data/mnist_data/test/4255.jpg   \n",
       "199  tutorial_data/mnist_data/test/5644.jpg   \n",
       "\n",
       "                          my_image_search_model_simclr  \\\n",
       "0    [0.6986842155456543, 0.37371528148651123, 0.16...   \n",
       "1    [0.6745059490203857, 0.6385999321937561, 0.440...   \n",
       "2    [0.694808840751648, 0.5267070531845093, 0.5653...   \n",
       "3    [0.9796649813652039, 0.632573127746582, 0.7674...   \n",
       "4    [0.7320713996887207, 0.30531272292137146, 0.30...   \n",
       "..                                                 ...   \n",
       "195  [0.8542945981025696, 0.4021967649459839, 0.275...   \n",
       "196  [0.798995852470398, 0.4366079866886139, 0.3974...   \n",
       "197  [0.6420943737030029, 0.5466421246528625, 0.760...   \n",
       "198  [0.7085293531417847, 0.3245007395744324, 0.238...   \n",
       "199  [0.8562737107276917, 0.26753851771354675, 0.28...   \n",
       "\n",
       "     my_image_search_model_simclr_similarity1  \n",
       "0                                    0.870745  \n",
       "1                                    0.877990  \n",
       "2                                    0.875110  \n",
       "3                                    0.876696  \n",
       "4                                    0.863469  \n",
       "..                                        ...  \n",
       "195                                  0.886818  \n",
       "196                                  0.889189  \n",
       "197                                  0.883405  \n",
       "198                                  0.877033  \n",
       "199                                  0.862170  \n",
       "\n",
       "[200 rows x 3 columns]"
      ]
     },
     "execution_count": 86,
     "metadata": {},
     "output_type": "execute_result"
    }
   ],
   "source": [
    "%%thanosql\n",
    "SEARCH IMAGE images='tutorial_data/mnist_data/train/1.jpg' \n",
    "USING my_image_search_model \n",
    "AS \n",
    "SELECT * \n",
    "FROM mnist_embds"
   ]
  },
  {
   "cell_type": "markdown",
   "id": "9871fe36",
   "metadata": {},
   "source": [
    "__쿼리 세부 정보__  \n",
    "\n",
    "- \"__SEARCH IMAGE [images|audio|videos]__\" 쿼리 구문은 검색하고자 하는 이미지|오디오|비디오 파일을 정의합니다.  <br>\n",
    "- \"__USING__\"은 이미지 수치화에 사용할 모델을 정의합니다.<br>\n",
    "- \"__AS__\" 쿼리 구문은 검색에 사용할 임베딩 테이블을 정의합니다. `mnist_embds` 테이블을 사용합니다 "
   ]
  },
  {
   "cell_type": "markdown",
   "id": "12953f08",
   "metadata": {},
   "source": [
    "다음 쿼리를 실행하여 \"__SEARCH__\" 결과를 ThanoSQL의 \"__PRINT__\" 쿼리 구문을 활용하여 가장 유사한 상위 4개를 출력합니다. 학습을 조금 밖에 진행하지 않았지만 6과 비슷한 이미지를 출력하는 것을 확인할 수 있습니다."
   ]
  },
  {
   "cell_type": "code",
   "execution_count": 87,
   "id": "77af4961-def3-4884-bea2-b8e917d9ae87",
   "metadata": {},
   "outputs": [
    {
     "data": {
      "image/png": "[encoded data removed]",
      "text/plain": [
       "<Figure size 2880x2880 with 4 Axes>"
      ]
     },
     "metadata": {
      "needs_background": "light"
     },
     "output_type": "display_data"
    }
   ],
   "source": [
    "%%thanosql\n",
    "PRINT IMAGE \n",
    "AS (\n",
    "    SELECT image \n",
    "    AS image, my_image_search_model_simclr_similarity1 \n",
    "    FROM (\n",
    "        SEARCH IMAGE images='tutorial_data/mnist_data/train/1.jpg'\n",
    "        USING my_image_search_model \n",
    "        AS \n",
    "        SELECT * \n",
    "        FROM mnist_embds\n",
    "        )\n",
    "    ORDER BY my_image_search_model_simclr_similarity1 DESC \n",
    "    LIMIT 4\n",
    "    )"
   ]
  },
  {
   "cell_type": "markdown",
   "id": "517479e8",
   "metadata": {},
   "source": [
    "__참고 사항__ \n",
    "\n",
    "이미지 유사도 검색 알고리즘의 기본 학습 옵션은 이미지의 좌우상하 반전, 색상의 변화 등에 관계없이 모두 같은 이미지로 인식하도록 학습이 진행 됩니다. 강아지의 사진은 뒤집히거나 색이 변해도 강아지로 인식되어야 하기 때문입니다. 의류 이미지 등과 같이 색의 변화가 중요하거나 숫자 처럼 상하, 좌우 반전이 중요한 경우 학습 시 옵션을 변경해 주어야 합니다. 본 튜토리얼에서는 이러한 이미지 유사도 검색의 특징을 보여주고 있습니다."
   ]
  }
 ],
 "metadata": {
  "kernelspec": {
   "display_name": "Python 3 (ipykernel)",
   "language": "python",
   "name": "python3"
  },
  "language_info": {
   "codemirror_mode": {
    "name": "ipython",
    "version": 3
   },
   "file_extension": ".py",
   "mimetype": "text/x-python",
   "name": "python",
   "nbconvert_exporter": "python",
   "pygments_lexer": "ipython3",
   "version": "3.9.10"
  }
 },
 "nbformat": 4,
 "nbformat_minor": 5
}
