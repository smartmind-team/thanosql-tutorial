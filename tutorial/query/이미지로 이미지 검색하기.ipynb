{
 "cells": [
  {
   "cell_type": "markdown",
   "id": "e43f86f8-a77c-4f93-a194-5c8dbd954871",
   "metadata": {},
   "source": [
    "# __이미지로 이미지 검색하기__\n",
    "\n",
    "**이미지 수치화 기술 이해하기**\n",
    "---\n",
    "👉 이미지는 고차원 데이터(높이x너비x채널(RGB)x색의 강도)로써 각 픽셀의 정보를 무작위로 생성한다면 아무 의미를 갖지 않는 이미지가 생성됩니다. 즉, 각 픽셀은 주변 픽셀과 연관된 특정 패턴을 갖는 경우에만 사람이 이미지로 인식을 할 수 있게 됩니다. 이는 이미지를 실제보다 저차원적 특성 벡터에 표현할 수 있다는 의미입니다. 최근에는 인공지능을 이용해서 각 이미지가 갖는 의미의 유사도에 따라 저차원 공간에 수치화하여 표현하는 연구들이 다방면으로 이루어지고 있으며 이는 이미지 수치화, 벡터화(Vectorization), 임베딩(Embedding) 등의 이름으로 다양하게 활용되고 있습니다.\n",
    "\n",
    "**본 튜토리얼에서는**\n",
    "---\n",
    "👉 이번 튜토리얼에서는 MNIST 손글씨 데이터 세트를 사용합니다. 각 이미지는 0~1 사이의 값을 갖는 고정 크기(28x28 = 784 픽셀) 이며, 여러 사람들이 손으로 쓴 0~9까지 숫자를 정답과 함께 제공합니다. 1,000 개의 학습용 데이터 세트와 200개의 테스트용 데이터 세트로 이루어져 있습니다.\n",
    "\n",
    "ThanoSQL을 사용하여 손글씨 데이터를 입력하고 DB 내에서 입력 이미지와 유사한 이미지를 검색해주는 모델을 만들어 봅니다."
   ]
  },
  {
   "cell_type": "markdown",
   "id": "5fd38a02-06a5-405b-82e0-b074a3dbf589",
   "metadata": {},
   "source": [
    "## __0. 데이터 세트 확인__"
   ]
  },
  {
   "cell_type": "markdown",
   "id": "48d1d13a",
   "metadata": {},
   "source": [
    "ThanoSQL의 쿼리 구문을 사용하기 위해서는 [ThanoSQL 워크스페이스](https://docs.thanosql.ai/quick_start/how_to_use_ThanoSQL/#5-thanosql)에서 언급된 것처럼 API 토큰을 생성하고 아래의 쿼리를 실행해야 합니다."
   ]
  },
  {
   "cell_type": "code",
   "execution_count": null,
   "id": "106bb636-cbd5-4d54-b0bc-aacd6596fdca",
   "metadata": {
    "tags": []
   },
   "outputs": [],
   "source": [
    "%load_ext thanosql\n",
    "%thanosql API_TOKEN=<발급받은 개인 토큰>"
   ]
  },
  {
   "cell_type": "code",
   "execution_count": 79,
   "id": "63661751-7e32-48f7-84fa-1dd205cc5d6d",
   "metadata": {},
   "outputs": [
    {
     "name": "stdout",
     "output_type": "stream",
     "text": [
      "Success\n"
     ]
    }
   ],
   "source": [
    "%%thanosql\n",
    "COPY mnist_train FROM \"tutorial_data/mnist_data/mnist_train.csv\""
   ]
  },
  {
   "cell_type": "code",
   "execution_count": 36,
   "id": "f65244d4-97bc-4464-aa8c-2d12a1f59435",
   "metadata": {},
   "outputs": [
    {
     "name": "stdout",
     "output_type": "stream",
     "text": [
      "Success\n"
     ]
    }
   ],
   "source": [
    "%%thanosql\n",
    "COPY mnist_test FROM \"tutorial_data/mnist_data/mnist_test.csv\""
   ]
  },
  {
   "cell_type": "markdown",
   "id": "542deaf1-606f-49ea-9b6d-5721050ff2bf",
   "metadata": {
    "tags": []
   },
   "source": [
    "## __1. 데이터 세트 확인__"
   ]
  },
  {
   "cell_type": "markdown",
   "id": "f4173ef2-b099-4f54-8b20-5ecae6fab51c",
   "metadata": {},
   "source": [
    "손글씨 분류 모델을 만들기 위해 ThanoSQL DB에 저장되어 있는 mnist_train 테이블을 사용합니다. mnist_train 테이블은 MNIST 이미지 파일들이 저장되어 있는 경로와 파일 이름 그리고 라벨 정보가 담겨 있는 테이블입니다. 아래의 쿼리문을 실행하고 테이블의 내용을 확인합니다."
   ]
  },
  {
   "cell_type": "code",
   "execution_count": 53,
   "id": "242430e8-09f5-4f2c-9133-21015fc0acf8",
   "metadata": {},
   "outputs": [
    {
     "data": {
      "text/html": [
       "<div>\n",
       "<style scoped>\n",
       "    .dataframe tbody tr th:only-of-type {\n",
       "        vertical-align: middle;\n",
       "    }\n",
       "\n",
       "    .dataframe tbody tr th {\n",
       "        vertical-align: top;\n",
       "    }\n",
       "\n",
       "    .dataframe thead th {\n",
       "        text-align: right;\n",
       "    }\n",
       "</style>\n",
       "<table border=\"1\" class=\"dataframe\">\n",
       "  <thead>\n",
       "    <tr style=\"text-align: right;\">\n",
       "      <th></th>\n",
       "      <th>img_path</th>\n",
       "      <th>filename</th>\n",
       "      <th>label</th>\n",
       "    </tr>\n",
       "  </thead>\n",
       "  <tbody>\n",
       "    <tr>\n",
       "      <th>0</th>\n",
       "      <td>tutorial/mnist_data/train/6782.jpg</td>\n",
       "      <td>6782.jpg</td>\n",
       "      <td>5</td>\n",
       "    </tr>\n",
       "    <tr>\n",
       "      <th>1</th>\n",
       "      <td>tutorial/mnist_data/train/1810.jpg</td>\n",
       "      <td>1810.jpg</td>\n",
       "      <td>5</td>\n",
       "    </tr>\n",
       "    <tr>\n",
       "      <th>2</th>\n",
       "      <td>tutorial/mnist_data/train/33617.jpg</td>\n",
       "      <td>33617.jpg</td>\n",
       "      <td>5</td>\n",
       "    </tr>\n",
       "    <tr>\n",
       "      <th>3</th>\n",
       "      <td>tutorial/mnist_data/train/27802.jpg</td>\n",
       "      <td>27802.jpg</td>\n",
       "      <td>5</td>\n",
       "    </tr>\n",
       "    <tr>\n",
       "      <th>4</th>\n",
       "      <td>tutorial/mnist_data/train/50677.jpg</td>\n",
       "      <td>50677.jpg</td>\n",
       "      <td>5</td>\n",
       "    </tr>\n",
       "  </tbody>\n",
       "</table>\n",
       "</div>"
      ],
      "text/plain": [
       "                              img_path   filename  label\n",
       "0   tutorial/mnist_data/train/6782.jpg   6782.jpg      5\n",
       "1   tutorial/mnist_data/train/1810.jpg   1810.jpg      5\n",
       "2  tutorial/mnist_data/train/33617.jpg  33617.jpg      5\n",
       "3  tutorial/mnist_data/train/27802.jpg  27802.jpg      5\n",
       "4  tutorial/mnist_data/train/50677.jpg  50677.jpg      5"
      ]
     },
     "execution_count": 53,
     "metadata": {},
     "output_type": "execute_result"
    }
   ],
   "source": [
    "%%thanosql\n",
    "SELECT * \n",
    "FROM mnist_train \n",
    "LIMIT 5"
   ]
  },
  {
   "cell_type": "markdown",
   "id": "648a0843",
   "metadata": {},
   "source": [
    "mnist_train 테이블은 아래와 같은 정보를 담고 있습니다. \"6782.jpg\" 이미지 파일은 숫자 5를 쓴 손글씨 이미지입니다.\n",
    "\n",
    "- img_path: 이미지 경로\n",
    "- filename: 파일 이름\n",
    "- label : 이미지 라벨"
   ]
  },
  {
   "cell_type": "markdown",
   "id": "2b4f3acf-f218-4d51-b671-7651632290ec",
   "metadata": {},
   "source": [
    "## __2. 이미지 수치화 모델 생성__"
   ]
  },
  {
   "cell_type": "markdown",
   "id": "fdaad6bd-ae89-4b32-9bdf-3cbe9c2e685e",
   "metadata": {},
   "source": [
    "이전 단계에서 확인한 mnist_train 테이블을 사용하여 이미지 수치화 모델을 만듭니다. 아래의 쿼리 구문을 실행하여 my_image_search_model이라는 이름의 모델을 만듭니다.  "
   ]
  },
  {
   "cell_type": "markdown",
   "id": "aa5d133a",
   "metadata": {},
   "source": [
    "(쿼리 실행 시 예상 소요 시간 : 1 min)"
   ]
  },
  {
   "cell_type": "code",
   "execution_count": 66,
   "id": "3630f8f7-8229-49f5-ae32-51011e1e37c8",
   "metadata": {},
   "outputs": [
    {
     "name": "stdout",
     "output_type": "stream",
     "text": [
      "Success\n"
     ]
    }
   ],
   "source": [
    "%%thanosql\n",
    "BUILD MODEL my_image_search_model\n",
    "USING SimCLR\n",
    "OPTIONS (\n",
    "    image_col=\"img_path\",\n",
    "    max_epochs=1\n",
    "    )\n",
    "AS \n",
    "SELECT * \n",
    "FROM mnist_train"
   ]
  },
  {
   "cell_type": "markdown",
   "id": "1e173c0d",
   "metadata": {},
   "source": [
    "# __쿼리 세부 정보__ \n",
    "- \"__BUILD MODEL__\" 쿼리 구문을 사용하여 mnist_model 이라는 모델을 만들고 학습시킵니다.\n",
    "- \"__USING__\" 쿼리 구문을 통해 베이스 모델로 SimCLR 모델을 사용할 것을 명시합니다.\n",
    "- \"__OPTIONS__\" 쿼리 구문을 통해 모델 생성에 사용할 옵션을 지정합니다.  \n",
    "    -  \"image_col\" : 데이터 테이블에서 이미지의 경로를 담은 컬럼 (Default : \"image_path\")    \n",
    "    -  \"max_epochs\" : 이미지 수치화 모델을 생성하기 위한 데이터 세트 학습 횟수"
   ]
  },
  {
   "cell_type": "markdown",
   "id": "fa4b8b03",
   "metadata": {},
   "source": [
    "아래 쿼리 구문을 사용하여 이미지 수치화 결과를 확인합니다. `my_image_search_model`을 \"__CONVERT USING__\" 쿼리 구문을 사용하여 `mnist_test` 이미지들을 임베딩합니다. "
   ]
  },
  {
   "cell_type": "code",
   "execution_count": 67,
   "id": "0abffc4b-aec9-444a-9546-dce181190f08",
   "metadata": {},
   "outputs": [
    {
     "data": {
      "text/html": [
       "<div>\n",
       "<style scoped>\n",
       "    .dataframe tbody tr th:only-of-type {\n",
       "        vertical-align: middle;\n",
       "    }\n",
       "\n",
       "    .dataframe tbody tr th {\n",
       "        vertical-align: top;\n",
       "    }\n",
       "\n",
       "    .dataframe thead th {\n",
       "        text-align: right;\n",
       "    }\n",
       "</style>\n",
       "<table border=\"1\" class=\"dataframe\">\n",
       "  <thead>\n",
       "    <tr style=\"text-align: right;\">\n",
       "      <th></th>\n",
       "      <th>image_path</th>\n",
       "      <th>filename</th>\n",
       "      <th>label</th>\n",
       "      <th>my_image_search_model_simclr</th>\n",
       "    </tr>\n",
       "  </thead>\n",
       "  <tbody>\n",
       "    <tr>\n",
       "      <th>0</th>\n",
       "      <td>tutorial/mnist_data/test/5099.jpg</td>\n",
       "      <td>5099.jpg</td>\n",
       "      <td>6</td>\n",
       "      <td>[0.5699265003204346, 0.5709784030914307, 1.180...</td>\n",
       "    </tr>\n",
       "    <tr>\n",
       "      <th>1</th>\n",
       "      <td>tutorial/mnist_data/test/9239.jpg</td>\n",
       "      <td>9239.jpg</td>\n",
       "      <td>6</td>\n",
       "      <td>[0.5279982686042786, 0.40376153588294983, 0.73...</td>\n",
       "    </tr>\n",
       "    <tr>\n",
       "      <th>2</th>\n",
       "      <td>tutorial/mnist_data/test/2242.jpg</td>\n",
       "      <td>2242.jpg</td>\n",
       "      <td>6</td>\n",
       "      <td>[0.7794275283813477, 0.4868965744972229, 0.702...</td>\n",
       "    </tr>\n",
       "    <tr>\n",
       "      <th>3</th>\n",
       "      <td>tutorial/mnist_data/test/3451.jpg</td>\n",
       "      <td>3451.jpg</td>\n",
       "      <td>6</td>\n",
       "      <td>[0.8554701805114746, 0.32747817039489746, 0.33...</td>\n",
       "    </tr>\n",
       "    <tr>\n",
       "      <th>4</th>\n",
       "      <td>tutorial/mnist_data/test/2631.jpg</td>\n",
       "      <td>2631.jpg</td>\n",
       "      <td>6</td>\n",
       "      <td>[0.46291711926460266, 0.5316978693008423, 0.55...</td>\n",
       "    </tr>\n",
       "    <tr>\n",
       "      <th>...</th>\n",
       "      <td>...</td>\n",
       "      <td>...</td>\n",
       "      <td>...</td>\n",
       "      <td>...</td>\n",
       "    </tr>\n",
       "    <tr>\n",
       "      <th>195</th>\n",
       "      <td>tutorial/mnist_data/test/8045.jpg</td>\n",
       "      <td>8045.jpg</td>\n",
       "      <td>8</td>\n",
       "      <td>[0.651518702507019, 0.4232087731361389, 0.5081...</td>\n",
       "    </tr>\n",
       "    <tr>\n",
       "      <th>196</th>\n",
       "      <td>tutorial/mnist_data/test/9591.jpg</td>\n",
       "      <td>9591.jpg</td>\n",
       "      <td>8</td>\n",
       "      <td>[0.5474129915237427, 0.5146140456199646, 0.335...</td>\n",
       "    </tr>\n",
       "    <tr>\n",
       "      <th>197</th>\n",
       "      <td>tutorial/mnist_data/test/7425.jpg</td>\n",
       "      <td>7425.jpg</td>\n",
       "      <td>8</td>\n",
       "      <td>[0.6706749796867371, 0.6717699766159058, 0.703...</td>\n",
       "    </tr>\n",
       "    <tr>\n",
       "      <th>198</th>\n",
       "      <td>tutorial/mnist_data/test/2150.jpg</td>\n",
       "      <td>2150.jpg</td>\n",
       "      <td>8</td>\n",
       "      <td>[0.8785393238067627, 0.3824760317802429, 0.660...</td>\n",
       "    </tr>\n",
       "    <tr>\n",
       "      <th>199</th>\n",
       "      <td>tutorial/mnist_data/test/5087.jpg</td>\n",
       "      <td>5087.jpg</td>\n",
       "      <td>8</td>\n",
       "      <td>[0.7656486630439758, 0.6799498796463013, 0.731...</td>\n",
       "    </tr>\n",
       "  </tbody>\n",
       "</table>\n",
       "<p>200 rows × 4 columns</p>\n",
       "</div>"
      ],
      "text/plain": [
       "                            image_path  filename  label  \\\n",
       "0    tutorial/mnist_data/test/5099.jpg  5099.jpg      6   \n",
       "1    tutorial/mnist_data/test/9239.jpg  9239.jpg      6   \n",
       "2    tutorial/mnist_data/test/2242.jpg  2242.jpg      6   \n",
       "3    tutorial/mnist_data/test/3451.jpg  3451.jpg      6   \n",
       "4    tutorial/mnist_data/test/2631.jpg  2631.jpg      6   \n",
       "..                                 ...       ...    ...   \n",
       "195  tutorial/mnist_data/test/8045.jpg  8045.jpg      8   \n",
       "196  tutorial/mnist_data/test/9591.jpg  9591.jpg      8   \n",
       "197  tutorial/mnist_data/test/7425.jpg  7425.jpg      8   \n",
       "198  tutorial/mnist_data/test/2150.jpg  2150.jpg      8   \n",
       "199  tutorial/mnist_data/test/5087.jpg  5087.jpg      8   \n",
       "\n",
       "                          my_image_search_model_simclr  \n",
       "0    [0.5699265003204346, 0.5709784030914307, 1.180...  \n",
       "1    [0.5279982686042786, 0.40376153588294983, 0.73...  \n",
       "2    [0.7794275283813477, 0.4868965744972229, 0.702...  \n",
       "3    [0.8554701805114746, 0.32747817039489746, 0.33...  \n",
       "4    [0.46291711926460266, 0.5316978693008423, 0.55...  \n",
       "..                                                 ...  \n",
       "195  [0.651518702507019, 0.4232087731361389, 0.5081...  \n",
       "196  [0.5474129915237427, 0.5146140456199646, 0.335...  \n",
       "197  [0.6706749796867371, 0.6717699766159058, 0.703...  \n",
       "198  [0.8785393238067627, 0.3824760317802429, 0.660...  \n",
       "199  [0.7656486630439758, 0.6799498796463013, 0.731...  \n",
       "\n",
       "[200 rows x 4 columns]"
      ]
     },
     "execution_count": 67,
     "metadata": {},
     "output_type": "execute_result"
    }
   ],
   "source": [
    "%%thanosql\n",
    "CONVERT USING my_image_search_model\n",
    "OPTIONS (\n",
    "    table_name= \"mnist_test\",\n",
    "    image_col=\"img_path\"\n",
    "    )\n",
    "AS \n",
    "SELECT * \n",
    "FROM mnist_test"
   ]
  },
  {
   "cell_type": "markdown",
   "id": "ccb189a3",
   "metadata": {},
   "source": [
    "__쿼리 세부 정보__ \n",
    "- \"__CONVERT USING__\" 쿼리 구문은 `my_image_search_model`을 이미지 수치화를 위한 알고리즘으로 사용합니다.   \n",
    "- \"__OPTIONS__\" 쿼리 구문을 통해 이미지 수치화 시 필요한 변수들을 정의합니다. \n",
    "    - \"table_name\" : ThanoSQL DB 내에 저장될 테이블 이름을 정의합니다.\n",
    "    - \"image_col\" : 데이터 테이블에 이미지 파일 경로가 담겨있는 칼럼명을 정의합니다. (DEFAULT: \"image_path\")"
   ]
  },
  {
   "cell_type": "markdown",
   "id": "1705aa14",
   "metadata": {},
   "source": [
    "`mnist_test` 테이블에 `my_image_search_model_sinclr`이라는 컬럼을 새롭게 생성하고 수치화 결과를 저장합니다."
   ]
  },
  {
   "cell_type": "markdown",
   "id": "14e73da0-83cc-45c0-8512-689212fcd014",
   "metadata": {},
   "source": [
    "## __3. (이미지 폴더로부터) 이미지 수치화 결과 저장__"
   ]
  },
  {
   "cell_type": "markdown",
   "id": "2021219b-2113-47f4-8037-a9a767a6e8cc",
   "metadata": {},
   "source": [
    "아래의 쿼리 구문을 실행하여 특정 폴더 내의 전체 이미지를 기존에 학습해 둔 모델을 사용해서 수치화 합니다. 위의 쿼리와 같은 역할을 하지만 학습을 위한 입력 데이터의 구조가 다릅니다."
   ]
  },
  {
   "cell_type": "code",
   "execution_count": 70,
   "id": "ff72f182-144a-4e2f-bbf2-5765914bcc77",
   "metadata": {},
   "outputs": [
    {
     "name": "stdout",
     "output_type": "stream",
     "text": [
      "Success\n"
     ]
    }
   ],
   "source": [
    "%%thanosql\n",
    "CREATE TABLE mnist_embds\n",
    "USING my_image_search_model \n",
    "OPTIONS(\n",
    "    path_type='folder', \n",
    "    data_type='image',\n",
    "    file_type=['.jpg']\n",
    "    ) \n",
    "FROM 'tutorial/mnist_data/test/'"
   ]
  },
  {
   "cell_type": "markdown",
   "id": "ab51fa8f",
   "metadata": {},
   "source": [
    "__쿼리 세부 정보__\n",
    "- \"__CREATE TABLEL__\" 쿼리 구문을 사용하여 이미지 수치화 테이블(`mnist_embds`)을 만듭니다.  \n",
    "- \"__USING__\"은 이미지 수치화에 사용할 모델을 정의합니다.\n",
    "- \"__OPTIONS__\"는 이미지 수치화를 위한 이미지 파일의 속성값들을 정의합니다.\n",
    "    - \"path_type\" :  데이터가 저장되어 있는 파일 경로의 타입(folder|file)  \n",
    "    - \"data_type\" :  입력하는 비정형 데이터의 종류(image|audio|video)  \n",
    "    - \"file_type\" : 대상 파일의 확장자   \n",
    "- \"__FROM__\" 쿼리 구문을 사용하여 이미지 파일들이 들어있는 폴더의 경로를 적어줍니다.\n",
    "\n",
    "\n",
    "아래 쿼리 구문을 사용하여 생성한 이미지 수치화 결과 테이블을 확인합니다.\n",
    "각 이미지들마다 수치화 된 값들이 추가 되어있는 것을 확인할 수 있습니다."
   ]
  },
  {
   "cell_type": "code",
   "execution_count": 71,
   "id": "7af97ecb-b691-4093-9872-d627a983cb3c",
   "metadata": {},
   "outputs": [
    {
     "data": {
      "text/html": [
       "<div>\n",
       "<style scoped>\n",
       "    .dataframe tbody tr th:only-of-type {\n",
       "        vertical-align: middle;\n",
       "    }\n",
       "\n",
       "    .dataframe tbody tr th {\n",
       "        vertical-align: top;\n",
       "    }\n",
       "\n",
       "    .dataframe thead th {\n",
       "        text-align: right;\n",
       "    }\n",
       "</style>\n",
       "<table border=\"1\" class=\"dataframe\">\n",
       "  <thead>\n",
       "    <tr style=\"text-align: right;\">\n",
       "      <th></th>\n",
       "      <th>image_path</th>\n",
       "      <th>my_image_search_model_simclr</th>\n",
       "    </tr>\n",
       "  </thead>\n",
       "  <tbody>\n",
       "    <tr>\n",
       "      <th>0</th>\n",
       "      <td>tutorial/mnist_data/test/6312.jpg</td>\n",
       "      <td>[0.5931878089904785, 0.40023303031921387, 0.58...</td>\n",
       "    </tr>\n",
       "    <tr>\n",
       "      <th>1</th>\n",
       "      <td>tutorial/mnist_data/test/5462.jpg</td>\n",
       "      <td>[1.0213534832000732, 0.3441111743450165, 0.588...</td>\n",
       "    </tr>\n",
       "    <tr>\n",
       "      <th>2</th>\n",
       "      <td>tutorial/mnist_data/test/674.jpg</td>\n",
       "      <td>[0.9223511219024658, 0.360892117023468, 0.6186...</td>\n",
       "    </tr>\n",
       "    <tr>\n",
       "      <th>3</th>\n",
       "      <td>tutorial/mnist_data/test/8045.jpg</td>\n",
       "      <td>[0.651518702507019, 0.4232087731361389, 0.5081...</td>\n",
       "    </tr>\n",
       "    <tr>\n",
       "      <th>4</th>\n",
       "      <td>tutorial/mnist_data/test/8100.jpg</td>\n",
       "      <td>[0.6459276676177979, 0.3098354637622833, 0.352...</td>\n",
       "    </tr>\n",
       "  </tbody>\n",
       "</table>\n",
       "</div>"
      ],
      "text/plain": [
       "                          image_path  \\\n",
       "0  tutorial/mnist_data/test/6312.jpg   \n",
       "1  tutorial/mnist_data/test/5462.jpg   \n",
       "2   tutorial/mnist_data/test/674.jpg   \n",
       "3  tutorial/mnist_data/test/8045.jpg   \n",
       "4  tutorial/mnist_data/test/8100.jpg   \n",
       "\n",
       "                        my_image_search_model_simclr  \n",
       "0  [0.5931878089904785, 0.40023303031921387, 0.58...  \n",
       "1  [1.0213534832000732, 0.3441111743450165, 0.588...  \n",
       "2  [0.9223511219024658, 0.360892117023468, 0.6186...  \n",
       "3  [0.651518702507019, 0.4232087731361389, 0.5081...  \n",
       "4  [0.6459276676177979, 0.3098354637622833, 0.352...  "
      ]
     },
     "execution_count": 71,
     "metadata": {},
     "output_type": "execute_result"
    }
   ],
   "source": [
    "%%thanosql\n",
    "SELECT * \n",
    "FROM mnist_embds \n",
    "LIMIT 5"
   ]
  },
  {
   "cell_type": "markdown",
   "id": "1c16f866-b5b4-4540-a848-30d0cd459165",
   "metadata": {},
   "source": [
    "## __4. 이미지 수치화 모델을 사용해서 유사 이미지 검색하기__"
   ]
  },
  {
   "cell_type": "markdown",
   "id": "f3692372-1572-4547-931d-4d3a861eb103",
   "metadata": {},
   "source": [
    "이번 단계에서는 my_image_search_model 이미지 수치화 모델과 mnist_embds 수치화 테이블을 사용하여 \"923.jpg\" 이미지 파일(손글씨 8)과 유사한 이미지를 검색합니다."
   ]
  },
  {
   "cell_type": "code",
   "execution_count": 72,
   "id": "61e0de08-b6a7-4087-8691-230243aab016",
   "metadata": {},
   "outputs": [
    {
     "data": {
      "text/html": [
       "<div>\n",
       "<style scoped>\n",
       "    .dataframe tbody tr th:only-of-type {\n",
       "        vertical-align: middle;\n",
       "    }\n",
       "\n",
       "    .dataframe tbody tr th {\n",
       "        vertical-align: top;\n",
       "    }\n",
       "\n",
       "    .dataframe thead th {\n",
       "        text-align: right;\n",
       "    }\n",
       "</style>\n",
       "<table border=\"1\" class=\"dataframe\">\n",
       "  <thead>\n",
       "    <tr style=\"text-align: right;\">\n",
       "      <th></th>\n",
       "      <th>image_path</th>\n",
       "      <th>my_image_search_model_simclr</th>\n",
       "      <th>my_image_search_model_simclr_similarity1</th>\n",
       "    </tr>\n",
       "  </thead>\n",
       "  <tbody>\n",
       "    <tr>\n",
       "      <th>0</th>\n",
       "      <td>tutorial/mnist_data/test/6312.jpg</td>\n",
       "      <td>[0.5931878089904785, 0.40023303031921387, 0.58...</td>\n",
       "      <td>0.941702</td>\n",
       "    </tr>\n",
       "    <tr>\n",
       "      <th>1</th>\n",
       "      <td>tutorial/mnist_data/test/5462.jpg</td>\n",
       "      <td>[1.0213534832000732, 0.3441111743450165, 0.588...</td>\n",
       "      <td>0.952782</td>\n",
       "    </tr>\n",
       "    <tr>\n",
       "      <th>2</th>\n",
       "      <td>tutorial/mnist_data/test/674.jpg</td>\n",
       "      <td>[0.9223511219024658, 0.360892117023468, 0.6186...</td>\n",
       "      <td>0.925433</td>\n",
       "    </tr>\n",
       "    <tr>\n",
       "      <th>3</th>\n",
       "      <td>tutorial/mnist_data/test/8045.jpg</td>\n",
       "      <td>[0.651518702507019, 0.4232087731361389, 0.5081...</td>\n",
       "      <td>0.945873</td>\n",
       "    </tr>\n",
       "    <tr>\n",
       "      <th>4</th>\n",
       "      <td>tutorial/mnist_data/test/8100.jpg</td>\n",
       "      <td>[0.6459276676177979, 0.3098354637622833, 0.352...</td>\n",
       "      <td>0.930268</td>\n",
       "    </tr>\n",
       "    <tr>\n",
       "      <th>...</th>\n",
       "      <td>...</td>\n",
       "      <td>...</td>\n",
       "      <td>...</td>\n",
       "    </tr>\n",
       "    <tr>\n",
       "      <th>195</th>\n",
       "      <td>tutorial/mnist_data/test/7083.jpg</td>\n",
       "      <td>[0.48076778650283813, 0.23511473834514618, 0.3...</td>\n",
       "      <td>0.930320</td>\n",
       "    </tr>\n",
       "    <tr>\n",
       "      <th>196</th>\n",
       "      <td>tutorial/mnist_data/test/7425.jpg</td>\n",
       "      <td>[0.6706749796867371, 0.6717699766159058, 0.703...</td>\n",
       "      <td>0.945276</td>\n",
       "    </tr>\n",
       "    <tr>\n",
       "      <th>197</th>\n",
       "      <td>tutorial/mnist_data/test/2895.jpg</td>\n",
       "      <td>[0.5132360458374023, 0.5348176956176758, 0.582...</td>\n",
       "      <td>0.936391</td>\n",
       "    </tr>\n",
       "    <tr>\n",
       "      <th>198</th>\n",
       "      <td>tutorial/mnist_data/test/9001.jpg</td>\n",
       "      <td>[0.7709628343582153, 0.38765251636505127, 0.63...</td>\n",
       "      <td>0.946625</td>\n",
       "    </tr>\n",
       "    <tr>\n",
       "      <th>199</th>\n",
       "      <td>tutorial/mnist_data/test/616.jpg</td>\n",
       "      <td>[0.8388264179229736, 0.27070480585098267, 0.56...</td>\n",
       "      <td>0.941637</td>\n",
       "    </tr>\n",
       "  </tbody>\n",
       "</table>\n",
       "<p>200 rows × 3 columns</p>\n",
       "</div>"
      ],
      "text/plain": [
       "                            image_path  \\\n",
       "0    tutorial/mnist_data/test/6312.jpg   \n",
       "1    tutorial/mnist_data/test/5462.jpg   \n",
       "2     tutorial/mnist_data/test/674.jpg   \n",
       "3    tutorial/mnist_data/test/8045.jpg   \n",
       "4    tutorial/mnist_data/test/8100.jpg   \n",
       "..                                 ...   \n",
       "195  tutorial/mnist_data/test/7083.jpg   \n",
       "196  tutorial/mnist_data/test/7425.jpg   \n",
       "197  tutorial/mnist_data/test/2895.jpg   \n",
       "198  tutorial/mnist_data/test/9001.jpg   \n",
       "199   tutorial/mnist_data/test/616.jpg   \n",
       "\n",
       "                          my_image_search_model_simclr  \\\n",
       "0    [0.5931878089904785, 0.40023303031921387, 0.58...   \n",
       "1    [1.0213534832000732, 0.3441111743450165, 0.588...   \n",
       "2    [0.9223511219024658, 0.360892117023468, 0.6186...   \n",
       "3    [0.651518702507019, 0.4232087731361389, 0.5081...   \n",
       "4    [0.6459276676177979, 0.3098354637622833, 0.352...   \n",
       "..                                                 ...   \n",
       "195  [0.48076778650283813, 0.23511473834514618, 0.3...   \n",
       "196  [0.6706749796867371, 0.6717699766159058, 0.703...   \n",
       "197  [0.5132360458374023, 0.5348176956176758, 0.582...   \n",
       "198  [0.7709628343582153, 0.38765251636505127, 0.63...   \n",
       "199  [0.8388264179229736, 0.27070480585098267, 0.56...   \n",
       "\n",
       "     my_image_search_model_simclr_similarity1  \n",
       "0                                    0.941702  \n",
       "1                                    0.952782  \n",
       "2                                    0.925433  \n",
       "3                                    0.945873  \n",
       "4                                    0.930268  \n",
       "..                                        ...  \n",
       "195                                  0.930320  \n",
       "196                                  0.945276  \n",
       "197                                  0.936391  \n",
       "198                                  0.946625  \n",
       "199                                  0.941637  \n",
       "\n",
       "[200 rows x 3 columns]"
      ]
     },
     "execution_count": 72,
     "metadata": {},
     "output_type": "execute_result"
    }
   ],
   "source": [
    "%%thanosql\n",
    "SEARCH IMAGE images='tutorial/mnist_data/test/923.jpg' \n",
    "USING my_image_search_model \n",
    "AS\n",
    "SELECT * \n",
    "FROM mnist_embds"
   ]
  },
  {
   "cell_type": "markdown",
   "id": "9871fe36",
   "metadata": {},
   "source": [
    "__쿼리 세부 정보__  \n",
    "\n",
    "- \"__SEARCH IMAGE images=__\" 쿼리 구문은 검색하고자 하는 이미지 파일을 정의합니다.  <br>\n",
    "- \"__USING__\"은 이미지 수치화에 사용할 모델을 정의합니다.<br>\n",
    "- \"__AS__\" 쿼리 구문은 검색에 사용할 임베딩 테이블을 정의합니다. `mnist_embds` 테이블을 사용합니다 "
   ]
  },
  {
   "cell_type": "markdown",
   "id": "12953f08",
   "metadata": {},
   "source": [
    "다음 쿼리를 실행하여 \"__SEARCH__\" 결과를 ThanoSQL의 \"__PRINT__\" 쿼리 구문을 활용하여 가장 유사한 상위 4개를 출력합니다. 학습을 조금 밖에 진행하지 않았지만 8과 비슷한 이미지를 출력하는 것을 확인할 수 있습니다."
   ]
  },
  {
   "cell_type": "code",
   "execution_count": 73,
   "id": "77af4961-def3-4884-bea2-b8e917d9ae87",
   "metadata": {},
   "outputs": [
    {
     "data": {
      "image/png": "[encoded data removed]",
      "text/plain": [
       "<Figure size 2880x2880 with 4 Axes>"
      ]
     },
     "metadata": {
      "needs_background": "light"
     },
     "output_type": "display_data"
    }
   ],
   "source": [
    "%%thanosql\n",
    "PRINT IMAGE \n",
    "AS (\n",
    "    SELECT image_path, my_image_search_model_simclr_similarity1 \n",
    "    FROM (\n",
    "        SEARCH IMAGE images='tutorial/mnist_data/test/923.jpg' \n",
    "        USING my_image_search_model \n",
    "        AS \n",
    "        SELECT * \n",
    "        FROM mnist_embds\n",
    "        )\n",
    "    ORDER BY my_image_search_model_simclr_similarity1 DESC \n",
    "    LIMIT 4\n",
    "    )"
   ]
  },
  {
   "cell_type": "markdown",
   "id": "517479e8",
   "metadata": {},
   "source": [
    "__참고 사항__ \n",
    "\n",
    "이미지 유사도 검색 알고리즘의 기본 학습 옵션은 이미지의 좌우상하 반전, 색상의 변화 등에 관계없이 모두 같은 이미지로 인식하도록 학습이 진행 됩니다. 강아지의 사진은 뒤집히거나 색이 변해도 강아지로 인식되어야 하기 때문입니다. 의류 이미지 등과 같이 색의 변화가 중요하거나 숫자 처럼 상하, 좌우 반전이 중요한 경우 학습 시 옵션을 변경해 주어야 합니다. 본 튜토리얼에서는 이러한 이미지 유사도 검색의 특징을 보여주고 있습니다."
   ]
  }
 ],
 "metadata": {
  "kernelspec": {
   "display_name": "Python 3 (ipykernel)",
   "language": "python",
   "name": "python3"
  },
  "language_info": {
   "codemirror_mode": {
    "name": "ipython",
    "version": 3
   },
   "file_extension": ".py",
   "mimetype": "text/x-python",
   "name": "python",
   "nbconvert_exporter": "python",
   "pygments_lexer": "ipython3",
   "version": "3.9.10"
  }
 },
 "nbformat": 4,
 "nbformat_minor": 5
}
