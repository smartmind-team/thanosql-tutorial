{
 "cells": [
  {
   "cell_type": "markdown",
   "id": "e43f86f8-a77c-4f93-a194-5c8dbd954871",
   "metadata": {
    "tags": []
   },
   "source": [
    "# __이미지로 이미지 검색하기__\n",
    "\n",
    "**이미지 수치화 기술 이해하기**\n",
    "---\n",
    "👉 이미지는 고차원 데이터(높이x너비x채널(RGB)x색의 강도)로써 각 픽셀의 정보를 무작위로 생성한다면 아무 의미를 갖지 않는 이미지가 생성됩니다. 즉, 각 픽셀은 주변 픽셀과 연관된 특정 패턴을 갖는 경우에만 사람이 이미지로 인식을 할 수 있게 됩니다. 이는 이미지를 실제보다 저차원적 특성 벡터에 표현할 수 있다는 의미입니다. 최근에는 인공지능을 이용해서 각 이미지가 갖는 의미의 유사도에 따라 저차원 공간에 수치화하여 표현하는 연구들이 다방면으로 이루어지고 있으며 이는 이미지 수치화, 벡터화(Vectorization), 임베딩(Embedding) 등의 이름으로 다양하게 활용되고 있습니다.\n",
    "\n",
    "**본 튜토리얼에서는**\n",
    "---\n",
    "👉 이번 튜토리얼에서는 MNIST 손글씨 데이터 세트를 사용합니다. 각 이미지는 0~1 사이의 값을 갖는 고정 크기(28x28 = 784 픽셀) 이며, 여러 사람들이 손으로 쓴 0~9까지 숫자를 정답과 함께 제공합니다. 60,000 개의 학습용 데이터 세트와 10,000개의 테스트용 데이터 세트로 이루어져 있습니다.\n",
    "\n",
    "ThanoSQL을 사용하여 손글씨 데이터를 입력하고 DB 내에서 입력 이미지와 유사한 이미지를 검색해주는 모델을 만들어 봅니다."
   ]
  },
  {
   "cell_type": "markdown",
   "id": "5fd38a02-06a5-405b-82e0-b074a3dbf589",
   "metadata": {},
   "source": [
    "## __0. 데이터 세트 확인__"
   ]
  },
  {
   "cell_type": "markdown",
   "id": "48d1d13a",
   "metadata": {},
   "source": [
    "ThanoSQL의 쿼리 구문을 사용하기 위해서는 [ThanoSQL 워크스페이스](https://docs.thanosql.ai/quick_start/how_to_use_ThanoSQL/#5-thanosql)에서 언급된 것처럼 API 토큰을 생성하고 아래의 쿼리를 실행해야 합니다."
   ]
  },
  {
   "cell_type": "code",
   "execution_count": null,
   "id": "106bb636-cbd5-4d54-b0bc-aacd6596fdca",
   "metadata": {
    "tags": []
   },
   "outputs": [],
   "source": [
    "%load_ext thanosql\n",
    "%thanosql API_TOKEN=<발급받은 개인 토큰>"
   ]
  },
  {
   "cell_type": "code",
   "execution_count": 79,
   "id": "63661751-7e32-48f7-84fa-1dd205cc5d6d",
   "metadata": {},
   "outputs": [
    {
     "name": "stdout",
     "output_type": "stream",
     "text": [
      "Success\n"
     ]
    }
   ],
   "source": [
    "%%thanosql\n",
    "COPY mnist_train FROM \"tutorial_data/mnist_data/mnist_train.csv\""
   ]
  },
  {
   "cell_type": "code",
   "execution_count": 80,
   "id": "f65244d4-97bc-4464-aa8c-2d12a1f59435",
   "metadata": {},
   "outputs": [
    {
     "name": "stdout",
     "output_type": "stream",
     "text": [
      "Success\n"
     ]
    }
   ],
   "source": [
    "%%thanosql\n",
    "COPY mnist_test FROM \"tutorial_data/mnist_data/mnist_test.csv\""
   ]
  },
  {
   "cell_type": "markdown",
   "id": "542deaf1-606f-49ea-9b6d-5721050ff2bf",
   "metadata": {
    "tags": []
   },
   "source": [
    "## __1. 데이터 세트 확인__"
   ]
  },
  {
   "cell_type": "markdown",
   "id": "f4173ef2-b099-4f54-8b20-5ecae6fab51c",
   "metadata": {},
   "source": [
    "손글씨 분류 모델을 만들기 위해 ThanoSQL DB에 저장되어 있는 mnist_train 테이블을 사용합니다. mnist_train 테이블은 MNIST 이미지 파일들이 저장되어 있는 경로와 파일 이름 그리고 라벨 정보가 담겨 있는 테이블입니다. 아래의 쿼리문을 실행하고 테이블의 내용을 확인합니다."
   ]
  },
  {
   "cell_type": "code",
   "execution_count": 2,
   "id": "242430e8-09f5-4f2c-9133-21015fc0acf8",
   "metadata": {},
   "outputs": [
    {
     "data": {
      "text/html": [
       "<div>\n",
       "<style scoped>\n",
       "    .dataframe tbody tr th:only-of-type {\n",
       "        vertical-align: middle;\n",
       "    }\n",
       "\n",
       "    .dataframe tbody tr th {\n",
       "        vertical-align: top;\n",
       "    }\n",
       "\n",
       "    .dataframe thead th {\n",
       "        text-align: right;\n",
       "    }\n",
       "</style>\n",
       "<table border=\"1\" class=\"dataframe\">\n",
       "  <thead>\n",
       "    <tr style=\"text-align: right;\">\n",
       "      <th></th>\n",
       "      <th>img_path</th>\n",
       "      <th>filename</th>\n",
       "      <th>label</th>\n",
       "    </tr>\n",
       "  </thead>\n",
       "  <tbody>\n",
       "    <tr>\n",
       "      <th>0</th>\n",
       "      <td>data/small_mnist_data/train/6782.jpg</td>\n",
       "      <td>6782.jpg</td>\n",
       "      <td>5</td>\n",
       "    </tr>\n",
       "    <tr>\n",
       "      <th>1</th>\n",
       "      <td>data/small_mnist_data/train/1810.jpg</td>\n",
       "      <td>1810.jpg</td>\n",
       "      <td>5</td>\n",
       "    </tr>\n",
       "    <tr>\n",
       "      <th>2</th>\n",
       "      <td>data/small_mnist_data/train/33617.jpg</td>\n",
       "      <td>33617.jpg</td>\n",
       "      <td>5</td>\n",
       "    </tr>\n",
       "    <tr>\n",
       "      <th>3</th>\n",
       "      <td>data/small_mnist_data/train/27802.jpg</td>\n",
       "      <td>27802.jpg</td>\n",
       "      <td>5</td>\n",
       "    </tr>\n",
       "    <tr>\n",
       "      <th>4</th>\n",
       "      <td>data/small_mnist_data/train/50677.jpg</td>\n",
       "      <td>50677.jpg</td>\n",
       "      <td>5</td>\n",
       "    </tr>\n",
       "  </tbody>\n",
       "</table>\n",
       "</div>"
      ],
      "text/plain": [
       "                                img_path   filename  label\n",
       "0   data/small_mnist_data/train/6782.jpg   6782.jpg      5\n",
       "1   data/small_mnist_data/train/1810.jpg   1810.jpg      5\n",
       "2  data/small_mnist_data/train/33617.jpg  33617.jpg      5\n",
       "3  data/small_mnist_data/train/27802.jpg  27802.jpg      5\n",
       "4  data/small_mnist_data/train/50677.jpg  50677.jpg      5"
      ]
     },
     "execution_count": 2,
     "metadata": {},
     "output_type": "execute_result"
    }
   ],
   "source": [
    "%%thanosql\n",
    "SELECT * \n",
    "FROM mnist_train \n",
    "LIMIT 5"
   ]
  },
  {
   "cell_type": "markdown",
   "id": "648a0843",
   "metadata": {},
   "source": [
    "mnist_train 테이블은 아래와 같은 정보를 담고 있습니다. \"6782.jpg\" 이미지 파일은 숫자 5를 쓴 손글씨 이미지입니다.\n",
    "\n",
    "- img_path: 이미지 경로\n",
    "- filename: 파일 이름\n",
    "- label : 이미지 라벨"
   ]
  },
  {
   "cell_type": "markdown",
   "id": "2b4f3acf-f218-4d51-b671-7651632290ec",
   "metadata": {},
   "source": [
    "## __2. 이미지 수치화 모델 생성__"
   ]
  },
  {
   "cell_type": "markdown",
   "id": "fdaad6bd-ae89-4b32-9bdf-3cbe9c2e685e",
   "metadata": {},
   "source": [
    "이전 단계에서 확인한 mnist_train 테이블을 사용하여 이미지 수치화 모델을 만듭니다. 아래의 쿼리 구문을 실행하여 my_image_search_model이라는 이름의 모델을 만듭니다.  "
   ]
  },
  {
   "cell_type": "markdown",
   "id": "aa5d133a",
   "metadata": {},
   "source": [
    "(쿼리 실행 시 예상 소요 시간 : 1 min)"
   ]
  },
  {
   "cell_type": "code",
   "execution_count": 5,
   "id": "3630f8f7-8229-49f5-ae32-51011e1e37c8",
   "metadata": {},
   "outputs": [
    {
     "name": "stdout",
     "output_type": "stream",
     "text": [
      "Success\n"
     ]
    }
   ],
   "source": [
    "%%thanosql\n",
    "BUILD MODEL my_image_search_model\n",
    "USING SimCLR\n",
    "OPTIONS (\n",
<<<<<<< HEAD
    "    image_col='img_path',    \n",
=======
    "    image_col=\"img_path\",\n",
>>>>>>> 0034a8006c944f9efb1ec8cc099f137018fb827d
    "    max_epochs=1\n",
    "    )\n",
    "AS \n",
    "SELECT * \n",
    "FROM mnist_train"
   ]
  },
  {
   "cell_type": "markdown",
   "id": "1e173c0d",
   "metadata": {},
   "source": [
    "__쿼리 세부 정보__ \n",
    "- \"__BUILD MODEL__\" 쿼리 구문을 사용하여 mnist_model 이라는 모델을 만들고 학습시킵니다.\n",
    "- \"__USING__\" 쿼리 구문을 통해 베이스 모델로 SimCLR 모델을 사용할 것을 명시합니다.\n",
    "- \"__OPTIONS__\" 쿼리 구문을 통해 모델 생성에 사용할 옵션을 지정합니다.  \n",
    "    -  \"image_col\" : 데이터 테이블에서 이미지의 경로를 담은 컬럼 (Default : \"path\")\n",
    "    -  \"file_name\" : 데이터 테이블에서 이미지 파일 이름을 담은 컬럼\n",
    "    -  \"max_epochs\" : 이미지 수치화 모델을 생성하기 위한 데이터 세트 학습 횟수"
   ]
  },
  {
   "cell_type": "markdown",
   "id": "fa4b8b03",
   "metadata": {},
   "source": [
    "아래 쿼리 구문을 사용하여 이미지 수치화 결과를 확인합니다. `my_image_search_model`을 \"__CONVERT USING__\" 쿼리 구문을 사용하여 `mnist_test` 이미지들을 임베딩합니다. "
   ]
  },
  {
   "cell_type": "code",
   "execution_count": 6,
   "id": "0abffc4b-aec9-444a-9546-dce181190f08",
   "metadata": {},
   "outputs": [
    {
     "data": {
      "text/html": [
       "<div>\n",
       "<style scoped>\n",
       "    .dataframe tbody tr th:only-of-type {\n",
       "        vertical-align: middle;\n",
       "    }\n",
       "\n",
       "    .dataframe tbody tr th {\n",
       "        vertical-align: top;\n",
       "    }\n",
       "\n",
       "    .dataframe thead th {\n",
       "        text-align: right;\n",
       "    }\n",
       "</style>\n",
       "<table border=\"1\" class=\"dataframe\">\n",
       "  <thead>\n",
       "    <tr style=\"text-align: right;\">\n",
       "      <th></th>\n",
       "      <th>image_path</th>\n",
       "      <th>filename</th>\n",
       "      <th>label</th>\n",
       "      <th>my_image_search_model_simclr</th>\n",
       "    </tr>\n",
       "  </thead>\n",
       "  <tbody>\n",
       "    <tr>\n",
       "      <th>0</th>\n",
       "      <td>data/small_mnist_data/test/5099.jpg</td>\n",
       "      <td>5099.jpg</td>\n",
       "      <td>6</td>\n",
       "      <td>[0.36851733922958374, 0.3809371292591095, 0.43...</td>\n",
       "    </tr>\n",
       "    <tr>\n",
       "      <th>1</th>\n",
       "      <td>data/small_mnist_data/test/9239.jpg</td>\n",
       "      <td>9239.jpg</td>\n",
       "      <td>6</td>\n",
       "      <td>[0.3270382881164551, 0.4070429801940918, 0.429...</td>\n",
       "    </tr>\n",
       "    <tr>\n",
       "      <th>2</th>\n",
       "      <td>data/small_mnist_data/test/2242.jpg</td>\n",
       "      <td>2242.jpg</td>\n",
       "      <td>6</td>\n",
       "      <td>[0.33250367641448975, 0.5749425888061523, 0.46...</td>\n",
       "    </tr>\n",
       "    <tr>\n",
       "      <th>3</th>\n",
       "      <td>data/small_mnist_data/test/3451.jpg</td>\n",
       "      <td>3451.jpg</td>\n",
       "      <td>6</td>\n",
       "      <td>[0.3016360104084015, 0.5699191093444824, 0.629...</td>\n",
       "    </tr>\n",
       "    <tr>\n",
       "      <th>4</th>\n",
       "      <td>data/small_mnist_data/test/2631.jpg</td>\n",
       "      <td>2631.jpg</td>\n",
       "      <td>6</td>\n",
       "      <td>[0.3470647931098938, 0.364585280418396, 0.3704...</td>\n",
       "    </tr>\n",
       "    <tr>\n",
       "      <th>...</th>\n",
       "      <td>...</td>\n",
       "      <td>...</td>\n",
       "      <td>...</td>\n",
       "      <td>...</td>\n",
       "    </tr>\n",
       "    <tr>\n",
       "      <th>195</th>\n",
       "      <td>data/small_mnist_data/test/8045.jpg</td>\n",
       "      <td>8045.jpg</td>\n",
       "      <td>8</td>\n",
       "      <td>[0.32833123207092285, 0.5544805526733398, 0.66...</td>\n",
       "    </tr>\n",
       "    <tr>\n",
       "      <th>196</th>\n",
       "      <td>data/small_mnist_data/test/9591.jpg</td>\n",
       "      <td>9591.jpg</td>\n",
       "      <td>8</td>\n",
       "      <td>[0.31966179609298706, 0.6303644180297852, 0.45...</td>\n",
       "    </tr>\n",
       "    <tr>\n",
       "      <th>197</th>\n",
       "      <td>data/small_mnist_data/test/7425.jpg</td>\n",
       "      <td>7425.jpg</td>\n",
       "      <td>8</td>\n",
       "      <td>[0.2210414707660675, 0.5177438259124756, 0.324...</td>\n",
       "    </tr>\n",
       "    <tr>\n",
       "      <th>198</th>\n",
       "      <td>data/small_mnist_data/test/2150.jpg</td>\n",
       "      <td>2150.jpg</td>\n",
       "      <td>8</td>\n",
       "      <td>[0.46035513281822205, 0.4369577169418335, 0.49...</td>\n",
       "    </tr>\n",
       "    <tr>\n",
       "      <th>199</th>\n",
       "      <td>data/small_mnist_data/test/5087.jpg</td>\n",
       "      <td>5087.jpg</td>\n",
       "      <td>8</td>\n",
       "      <td>[0.2811943292617798, 0.5150406360626221, 0.435...</td>\n",
       "    </tr>\n",
       "  </tbody>\n",
       "</table>\n",
       "<p>200 rows × 4 columns</p>\n",
       "</div>"
      ],
      "text/plain": [
       "                              image_path  filename  label  \\\n",
       "0    data/small_mnist_data/test/5099.jpg  5099.jpg      6   \n",
       "1    data/small_mnist_data/test/9239.jpg  9239.jpg      6   \n",
       "2    data/small_mnist_data/test/2242.jpg  2242.jpg      6   \n",
       "3    data/small_mnist_data/test/3451.jpg  3451.jpg      6   \n",
       "4    data/small_mnist_data/test/2631.jpg  2631.jpg      6   \n",
       "..                                   ...       ...    ...   \n",
       "195  data/small_mnist_data/test/8045.jpg  8045.jpg      8   \n",
       "196  data/small_mnist_data/test/9591.jpg  9591.jpg      8   \n",
       "197  data/small_mnist_data/test/7425.jpg  7425.jpg      8   \n",
       "198  data/small_mnist_data/test/2150.jpg  2150.jpg      8   \n",
       "199  data/small_mnist_data/test/5087.jpg  5087.jpg      8   \n",
       "\n",
       "                          my_image_search_model_simclr  \n",
       "0    [0.36851733922958374, 0.3809371292591095, 0.43...  \n",
       "1    [0.3270382881164551, 0.4070429801940918, 0.429...  \n",
       "2    [0.33250367641448975, 0.5749425888061523, 0.46...  \n",
       "3    [0.3016360104084015, 0.5699191093444824, 0.629...  \n",
       "4    [0.3470647931098938, 0.364585280418396, 0.3704...  \n",
       "..                                                 ...  \n",
       "195  [0.32833123207092285, 0.5544805526733398, 0.66...  \n",
       "196  [0.31966179609298706, 0.6303644180297852, 0.45...  \n",
       "197  [0.2210414707660675, 0.5177438259124756, 0.324...  \n",
       "198  [0.46035513281822205, 0.4369577169418335, 0.49...  \n",
       "199  [0.2811943292617798, 0.5150406360626221, 0.435...  \n",
       "\n",
       "[200 rows x 4 columns]"
      ]
     },
     "execution_count": 6,
     "metadata": {},
     "output_type": "execute_result"
    }
   ],
   "source": [
    "%%thanosql\n",
    "CONVERT USING my_image_search_model\n",
<<<<<<< HEAD
    "OPTIONS(\n",
=======
    "OPTIONS (\n",
>>>>>>> 0034a8006c944f9efb1ec8cc099f137018fb827d
    "    table_name= \"mnist_test\",\n",
    "    image_col=\"img_path\"\n",
    "    )\n",
    "AS \n",
    "SELECT * \n",
    "FROM mnist_test"
   ]
  },
  {
   "cell_type": "markdown",
   "id": "ccb189a3",
   "metadata": {},
   "source": [
    "__쿼리 세부 정보__ \n",
    "- \"__CONVERT USING__\" 쿼리 구문은 `my_image_search_model`을 이미지 수치화를 위한 알고리즘으로 사용합니다.   \n",
    "- \"__OPTIONS__\" 쿼리 구문을 통해 이미지 수치화 시 필요한 변수들을 정의합니다. \n",
    "    - \"table_name\" : ThanoSQL DB 내에 저장될 테이블 이름을 정의합니다. "
   ]
  },
  {
   "cell_type": "markdown",
   "id": "1705aa14",
   "metadata": {},
   "source": [
    "`mnist_test` 테이블에 `my_image_search_model_sinclr`이라는 컬럼을 새롭게 생성하고 수치화 결과를 저장합니다."
   ]
  },
  {
   "cell_type": "markdown",
   "id": "14e73da0-83cc-45c0-8512-689212fcd014",
   "metadata": {},
   "source": [
    "## __3. (이미지 폴더로부터) 이미지 수치화 결과 저장__"
   ]
  },
  {
   "cell_type": "markdown",
   "id": "2021219b-2113-47f4-8037-a9a767a6e8cc",
   "metadata": {},
   "source": [
    "아래의 쿼리 구문을 실행하여 특정 폴더 내의 전체 이미지를 기존에 학습해 둔 모델을 사용해서 수치화 합니다. 위의 쿼리와 같은 역할을 하지만 학습을 위한 입력 데이터의 구조가 다릅니다."
   ]
  },
  {
   "cell_type": "code",
   "execution_count": 11,
   "id": "ff72f182-144a-4e2f-bbf2-5765914bcc77",
   "metadata": {},
   "outputs": [
    {
     "name": "stdout",
     "output_type": "stream",
     "text": [
      "Success\n"
     ]
    }
   ],
   "source": [
    "%%thanosql\n",
    "CREATE TABLE mnist_embds\n",
    "USING my_image_search_model \n",
    "OPTIONS(\n",
    "    path_type='folder', \n",
    "    data_type='image',\n",
    "    file_type=['.jpg']\n",
    "    ) \n",
    "FROM 'tutorial_data/mnist_data/test/'"
   ]
  },
  {
   "cell_type": "markdown",
   "id": "ab51fa8f",
   "metadata": {},
   "source": [
    "__쿼리 세부 정보__\n",
    "- \"__CREATE TABLEL__\" 쿼리 구문을 사용하여 이미지 수치화 테이블(`mnist_embds`)을 만듭니다.  \n",
    "- \"__USING__\"은 이미지 수치화에 사용할 모델을 정의합니다.\n",
    "- \"__OPTIONS__\"는 이미지 수치화를 위한 이미지 파일의 속성값들을 정의합니다.\n",
    "    - \"path_type\" :  데이터가 저장되어 있는 파일 경로의 타입(folder|file)  \n",
    "    - \"data_type\" :  입력하는 비정형 데이터의 종류(image|audio|video)  \n",
    "    - \"file_type\" : 대상 파일의 확장자   \n",
    "- \"__FROM__\" 쿼리 구문을 사용하여 이미지 파일들이 들어있는 폴더의 경로를 적어줍니다.\n",
    "\n",
    "\n",
    "아래 쿼리 구문을 사용하여 생성한 이미지 수치화 결과 테이블을 확인합니다.\n",
    "각 이미지들마다 수치화 된 값들이 추가 되어있는 것을 확인할 수 있습니다."
   ]
  },
  {
   "cell_type": "code",
   "execution_count": 12,
   "id": "7af97ecb-b691-4093-9872-d627a983cb3c",
   "metadata": {},
   "outputs": [
    {
     "data": {
      "text/html": [
       "<div>\n",
       "<style scoped>\n",
       "    .dataframe tbody tr th:only-of-type {\n",
       "        vertical-align: middle;\n",
       "    }\n",
       "\n",
       "    .dataframe tbody tr th {\n",
       "        vertical-align: top;\n",
       "    }\n",
       "\n",
       "    .dataframe thead th {\n",
       "        text-align: right;\n",
       "    }\n",
       "</style>\n",
       "<table border=\"1\" class=\"dataframe\">\n",
       "  <thead>\n",
       "    <tr style=\"text-align: right;\">\n",
       "      <th></th>\n",
       "      <th>image_path</th>\n",
       "      <th>my_image_search_model_simclr</th>\n",
       "    </tr>\n",
       "  </thead>\n",
       "  <tbody>\n",
       "    <tr>\n",
       "      <th>0</th>\n",
       "      <td>data/small_mnist_data/test/6312.jpg</td>\n",
       "      <td>[0.35356467962265015, 0.42193669080734253, 0.3...</td>\n",
       "    </tr>\n",
       "    <tr>\n",
       "      <th>1</th>\n",
       "      <td>data/small_mnist_data/test/5462.jpg</td>\n",
       "      <td>[0.4648500084877014, 0.4455864429473877, 0.504...</td>\n",
       "    </tr>\n",
       "    <tr>\n",
       "      <th>2</th>\n",
       "      <td>data/small_mnist_data/test/674.jpg</td>\n",
       "      <td>[0.44637295603752136, 0.254580557346344, 0.499...</td>\n",
       "    </tr>\n",
       "    <tr>\n",
       "      <th>3</th>\n",
       "      <td>data/small_mnist_data/test/8045.jpg</td>\n",
       "      <td>[0.32833123207092285, 0.5544805526733398, 0.66...</td>\n",
       "    </tr>\n",
       "    <tr>\n",
       "      <th>4</th>\n",
       "      <td>data/small_mnist_data/test/8100.jpg</td>\n",
       "      <td>[0.2152605503797531, 0.432672917842865, 0.3913...</td>\n",
       "    </tr>\n",
       "  </tbody>\n",
       "</table>\n",
       "</div>"
      ],
      "text/plain": [
       "                            image_path  \\\n",
       "0  data/small_mnist_data/test/6312.jpg   \n",
       "1  data/small_mnist_data/test/5462.jpg   \n",
       "2   data/small_mnist_data/test/674.jpg   \n",
       "3  data/small_mnist_data/test/8045.jpg   \n",
       "4  data/small_mnist_data/test/8100.jpg   \n",
       "\n",
       "                        my_image_search_model_simclr  \n",
       "0  [0.35356467962265015, 0.42193669080734253, 0.3...  \n",
       "1  [0.4648500084877014, 0.4455864429473877, 0.504...  \n",
       "2  [0.44637295603752136, 0.254580557346344, 0.499...  \n",
       "3  [0.32833123207092285, 0.5544805526733398, 0.66...  \n",
       "4  [0.2152605503797531, 0.432672917842865, 0.3913...  "
      ]
     },
     "execution_count": 12,
     "metadata": {},
     "output_type": "execute_result"
    }
   ],
   "source": [
    "%%thanosql\n",
    "SELECT * \n",
    "FROM mnist_embds \n",
    "LIMIT 5"
   ]
  },
  {
   "cell_type": "markdown",
   "id": "1c16f866-b5b4-4540-a848-30d0cd459165",
   "metadata": {},
   "source": [
    "## __4. 이미지 수치화 모델을 사용해서 유사 이미지 검색하기__"
   ]
  },
  {
   "cell_type": "markdown",
   "id": "f3692372-1572-4547-931d-4d3a861eb103",
   "metadata": {},
   "source": [
<<<<<<< HEAD
    "이번 단계에서는 mnist_model 이미지 수치화 모델과 mnist_embds 수치화 테이블을 사용하여 \"923.jpg\" 이미지 파일(손글씨 8)과 유사한 이미지를 검색합니다."
=======
    "이번 단계에서는 mnist_model 이미지 수치화 모델과 mnist_embds 수치화 테이블을 사용하여 \"1.jpg\" 이미지 파일(손글씨 0)과 유사한 이미지를 검색합니다."
>>>>>>> 0034a8006c944f9efb1ec8cc099f137018fb827d
   ]
  },
  {
   "cell_type": "code",
   "execution_count": 14,
   "id": "61e0de08-b6a7-4087-8691-230243aab016",
   "metadata": {},
   "outputs": [
    {
     "data": {
      "text/html": [
       "<div>\n",
       "<style scoped>\n",
       "    .dataframe tbody tr th:only-of-type {\n",
       "        vertical-align: middle;\n",
       "    }\n",
       "\n",
       "    .dataframe tbody tr th {\n",
       "        vertical-align: top;\n",
       "    }\n",
       "\n",
       "    .dataframe thead th {\n",
       "        text-align: right;\n",
       "    }\n",
       "</style>\n",
       "<table border=\"1\" class=\"dataframe\">\n",
       "  <thead>\n",
       "    <tr style=\"text-align: right;\">\n",
       "      <th></th>\n",
       "      <th>image_path</th>\n",
       "      <th>my_image_search_model_simclr</th>\n",
       "      <th>my_image_search_model_simclr_similarity1</th>\n",
       "    </tr>\n",
       "  </thead>\n",
       "  <tbody>\n",
       "    <tr>\n",
       "      <th>0</th>\n",
       "      <td>data/small_mnist_data/test/6312.jpg</td>\n",
       "      <td>[0.35356467962265015, 0.42193669080734253, 0.3...</td>\n",
       "      <td>0.942288</td>\n",
       "    </tr>\n",
       "    <tr>\n",
       "      <th>1</th>\n",
       "      <td>data/small_mnist_data/test/5462.jpg</td>\n",
       "      <td>[0.4648500084877014, 0.4455864429473877, 0.504...</td>\n",
       "      <td>0.957907</td>\n",
       "    </tr>\n",
       "    <tr>\n",
       "      <th>2</th>\n",
       "      <td>data/small_mnist_data/test/674.jpg</td>\n",
       "      <td>[0.44637295603752136, 0.254580557346344, 0.499...</td>\n",
       "      <td>0.948714</td>\n",
       "    </tr>\n",
       "    <tr>\n",
       "      <th>3</th>\n",
       "      <td>data/small_mnist_data/test/8045.jpg</td>\n",
       "      <td>[0.32833123207092285, 0.5544805526733398, 0.66...</td>\n",
       "      <td>0.959829</td>\n",
       "    </tr>\n",
       "    <tr>\n",
       "      <th>4</th>\n",
       "      <td>data/small_mnist_data/test/8100.jpg</td>\n",
       "      <td>[0.2152605503797531, 0.432672917842865, 0.3913...</td>\n",
       "      <td>0.934777</td>\n",
       "    </tr>\n",
       "    <tr>\n",
       "      <th>...</th>\n",
       "      <td>...</td>\n",
       "      <td>...</td>\n",
       "      <td>...</td>\n",
       "    </tr>\n",
       "    <tr>\n",
       "      <th>195</th>\n",
       "      <td>data/small_mnist_data/test/7083.jpg</td>\n",
       "      <td>[0.3092852830886841, 0.49765217304229736, 0.24...</td>\n",
       "      <td>0.947544</td>\n",
       "    </tr>\n",
       "    <tr>\n",
       "      <th>196</th>\n",
       "      <td>data/small_mnist_data/test/7425.jpg</td>\n",
       "      <td>[0.2210414707660675, 0.5177438259124756, 0.324...</td>\n",
       "      <td>0.953421</td>\n",
       "    </tr>\n",
       "    <tr>\n",
       "      <th>197</th>\n",
       "      <td>data/small_mnist_data/test/2895.jpg</td>\n",
       "      <td>[0.31555038690567017, 0.4576123356819153, 0.59...</td>\n",
       "      <td>0.952745</td>\n",
       "    </tr>\n",
       "    <tr>\n",
       "      <th>198</th>\n",
       "      <td>data/small_mnist_data/test/9001.jpg</td>\n",
       "      <td>[0.31824254989624023, 0.3472241163253784, 0.60...</td>\n",
       "      <td>0.950983</td>\n",
       "    </tr>\n",
       "    <tr>\n",
       "      <th>199</th>\n",
       "      <td>data/small_mnist_data/test/616.jpg</td>\n",
       "      <td>[0.5813194513320923, 0.5709330439567566, 0.353...</td>\n",
       "      <td>0.955315</td>\n",
       "    </tr>\n",
       "  </tbody>\n",
       "</table>\n",
       "<p>200 rows × 3 columns</p>\n",
       "</div>"
      ],
      "text/plain": [
       "                              image_path  \\\n",
       "0    data/small_mnist_data/test/6312.jpg   \n",
       "1    data/small_mnist_data/test/5462.jpg   \n",
       "2     data/small_mnist_data/test/674.jpg   \n",
       "3    data/small_mnist_data/test/8045.jpg   \n",
       "4    data/small_mnist_data/test/8100.jpg   \n",
       "..                                   ...   \n",
       "195  data/small_mnist_data/test/7083.jpg   \n",
       "196  data/small_mnist_data/test/7425.jpg   \n",
       "197  data/small_mnist_data/test/2895.jpg   \n",
       "198  data/small_mnist_data/test/9001.jpg   \n",
       "199   data/small_mnist_data/test/616.jpg   \n",
       "\n",
       "                          my_image_search_model_simclr  \\\n",
       "0    [0.35356467962265015, 0.42193669080734253, 0.3...   \n",
       "1    [0.4648500084877014, 0.4455864429473877, 0.504...   \n",
       "2    [0.44637295603752136, 0.254580557346344, 0.499...   \n",
       "3    [0.32833123207092285, 0.5544805526733398, 0.66...   \n",
       "4    [0.2152605503797531, 0.432672917842865, 0.3913...   \n",
       "..                                                 ...   \n",
       "195  [0.3092852830886841, 0.49765217304229736, 0.24...   \n",
       "196  [0.2210414707660675, 0.5177438259124756, 0.324...   \n",
       "197  [0.31555038690567017, 0.4576123356819153, 0.59...   \n",
       "198  [0.31824254989624023, 0.3472241163253784, 0.60...   \n",
       "199  [0.5813194513320923, 0.5709330439567566, 0.353...   \n",
       "\n",
       "     my_image_search_model_simclr_similarity1  \n",
       "0                                    0.942288  \n",
       "1                                    0.957907  \n",
       "2                                    0.948714  \n",
       "3                                    0.959829  \n",
       "4                                    0.934777  \n",
       "..                                        ...  \n",
       "195                                  0.947544  \n",
       "196                                  0.953421  \n",
       "197                                  0.952745  \n",
       "198                                  0.950983  \n",
       "199                                  0.955315  \n",
       "\n",
       "[200 rows x 3 columns]"
      ]
     },
     "execution_count": 14,
     "metadata": {},
     "output_type": "execute_result"
    }
   ],
   "source": [
    "%%thanosql\n",
    "SEARCH IMAGE images='tutorial_data/mnist_data/test/923.jpg' \n",
    "USING my_image_search_model \n",
    "AS\n",
    "SELECT * \n",
    "FROM mnist_embds"
   ]
  },
  {
   "cell_type": "markdown",
   "id": "9871fe36",
   "metadata": {},
   "source": [
    "__쿼리 세부 정보__  \n",
    "\n",
    "- \"__SEARCH IMAGE [images|audio|videos]__\" 쿼리 구문은 검색하고자 하는 이미지|오디오|비디오 파일을 정의합니다.  <br>\n",
    "- \"__USING__\"은 이미지 수치화에 사용할 모델을 정의합니다.<br>\n",
    "- \"__AS__\" 쿼리 구문은 검색에 사용할 임베딩 테이블을 정의합니다. `mnist_embds` 테이블을 사용합니다 "
   ]
  },
  {
   "cell_type": "markdown",
   "id": "12953f08",
   "metadata": {},
   "source": [
    "다음 쿼리를 실행하여 \"__SEARCH__\" 결과를 ThanoSQL의 \"__PRINT__\" 쿼리 구문을 활용하여 가장 유사한 상위 4개를 출력합니다. 학습을 조금 밖에 진행하지 않았지만 6과 비슷한 이미지를 출력하는 것을 확인할 수 있습니다."
   ]
  },
  {
   "cell_type": "code",
   "execution_count": 15,
   "id": "77af4961-def3-4884-bea2-b8e917d9ae87",
   "metadata": {},
   "outputs": [
    {
     "data": {
<<<<<<< HEAD
      "image/png": "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\n",
=======
      "image/png": "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",
>>>>>>> 0034a8006c944f9efb1ec8cc099f137018fb827d
      "text/plain": [
       "<Figure size 2880x2880 with 4 Axes>"
      ]
     },
     "metadata": {
      "needs_background": "light"
     },
     "output_type": "display_data"
    }
   ],
   "source": [
    "%%thanosql\n",
    "PRINT IMAGE \n",
    "AS (\n",
<<<<<<< HEAD
    "    SELECT image_path, my_image_search_model_simclr_similarity1 \n",
    "    FROM (\n",
    "        SEARCH IMAGE images='tutorial_data/mnist_data/test/923.jpg'\n",
=======
    "    SELECT image_path, my_image_search_model_sinclr_similarity1 \n",
    "    FROM (\n",
    "        SEARCH IMAGE images='tutorial_data/mnist_data/test/923.jpg' \n",
>>>>>>> 0034a8006c944f9efb1ec8cc099f137018fb827d
    "        USING my_image_search_model \n",
    "        AS \n",
    "        SELECT * \n",
    "        FROM mnist_embds\n",
    "        )\n",
    "    ORDER BY my_image_search_model_sinclr_similarity1 DESC \n",
    "    LIMIT 4\n",
    "    )"
   ]
  },
  {
<<<<<<< HEAD
   "cell_type": "code",
   "execution_count": null,
   "id": "8db1e13e-52ce-4a53-9c9d-837ffacca770",
   "metadata": {},
   "outputs": [],
   "source": []
=======
   "cell_type": "markdown",
   "id": "517479e8",
   "metadata": {},
   "source": [
    "__참고 사항__ \n",
    "\n",
    "이미지 유사도 검색 알고리즘의 기본 학습 옵션은 이미지의 좌우상하 반전, 색상의 변화 등에 관계없이 모두 같은 이미지로 인식하도록 학습이 진행 됩니다. 강아지의 사진은 뒤집히거나 색이 변해도 강아지로 인식되어야 하기 때문입니다. 의류 이미지 등과 같이 색의 변화가 중요하거나 숫자 처럼 상하, 좌우 반전이 중요한 경우 학습 시 옵션을 변경해 주어야 합니다. 본 튜토리얼에서는 이러한 이미지 유사도 검색의 특징을 보여주고 있습니다."
   ]
>>>>>>> 0034a8006c944f9efb1ec8cc099f137018fb827d
  }
 ],
 "metadata": {
  "kernelspec": {
   "display_name": "Python 3 (ipykernel)",
   "language": "python",
   "name": "python3"
  },
  "language_info": {
   "codemirror_mode": {
    "name": "ipython",
    "version": 3
   },
   "file_extension": ".py",
   "mimetype": "text/x-python",
   "name": "python",
   "nbconvert_exporter": "python",
   "pygments_lexer": "ipython3",
   "version": "3.9.10"
  }
 },
 "nbformat": 4,
 "nbformat_minor": 5
}
