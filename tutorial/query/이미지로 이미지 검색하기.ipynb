{
 "cells": [
  {
   "cell_type": "markdown",
   "id": "e43f86f8-a77c-4f93-a194-5c8dbd954871",
   "metadata": {
    "tags": []
   },
   "source": [
    "# __이미지로 이미지 검색하기__"
   ]
  },
  {
   "cell_type": "markdown",
   "id": "5fd38a02-06a5-405b-82e0-b074a3dbf589",
   "metadata": {},
   "source": [
    "## __0. 데이터 세트 확인__"
   ]
  },
  {
   "cell_type": "code",
   "execution_count": null,
   "id": "106bb636-cbd5-4d54-b0bc-aacd6596fdca",
   "metadata": {
    "tags": []
   },
   "outputs": [],
   "source": [
    "%load_ext thanosql\n",
    "%thanosql API_TOKEN={발급받은 개인 토큰}"
   ]
  },
  {
   "cell_type": "code",
   "execution_count": 79,
   "id": "63661751-7e32-48f7-84fa-1dd205cc5d6d",
   "metadata": {},
   "outputs": [
    {
     "name": "stdout",
     "output_type": "stream",
     "text": [
      "Success\n"
     ]
    }
   ],
   "source": [
    "%%thanosql\n",
    "COPY mnist_train FROM \"tutorial_data/mnist_data/mnist_train.csv\""
   ]
  },
  {
   "cell_type": "code",
   "execution_count": 80,
   "id": "f65244d4-97bc-4464-aa8c-2d12a1f59435",
   "metadata": {},
   "outputs": [
    {
     "name": "stdout",
     "output_type": "stream",
     "text": [
      "Success\n"
     ]
    }
   ],
   "source": [
    "%%thanosql\n",
    "COPY mnist_test FROM \"tutorial_data/mnist_data/mnist_test.csv\""
   ]
  },
  {
   "cell_type": "markdown",
   "id": "542deaf1-606f-49ea-9b6d-5721050ff2bf",
   "metadata": {
    "tags": []
   },
   "source": [
    "## __1. 데이터 세트 확인__"
   ]
  },
  {
   "cell_type": "markdown",
   "id": "f4173ef2-b099-4f54-8b20-5ecae6fab51c",
   "metadata": {},
   "source": [
    "손글씨 분류 모델을 만들기 위해 ThanoSQL DB에 저장되어 있는 mnist_dataset 테이블을 사용합니다. mnist_dataset 테이블은 MNIST 이미지 파일들이 저장되어 있는 경로와 파일 이름 그리고 라벨 정보가 담겨 있는 테이블입니다. 아래의 쿼리문을 실행하고 테이블의 내용을 확인합니다."
   ]
  },
  {
   "cell_type": "code",
   "execution_count": 2,
   "id": "242430e8-09f5-4f2c-9133-21015fc0acf8",
   "metadata": {},
   "outputs": [
    {
     "data": {
      "text/html": [
       "<div>\n",
       "<style scoped>\n",
       "    .dataframe tbody tr th:only-of-type {\n",
       "        vertical-align: middle;\n",
       "    }\n",
       "\n",
       "    .dataframe tbody tr th {\n",
       "        vertical-align: top;\n",
       "    }\n",
       "\n",
       "    .dataframe thead th {\n",
       "        text-align: right;\n",
       "    }\n",
       "</style>\n",
       "<table border=\"1\" class=\"dataframe\">\n",
       "  <thead>\n",
       "    <tr style=\"text-align: right;\">\n",
       "      <th></th>\n",
       "      <th>img_path</th>\n",
       "      <th>filename</th>\n",
       "      <th>label</th>\n",
       "    </tr>\n",
       "  </thead>\n",
       "  <tbody>\n",
       "    <tr>\n",
       "      <th>0</th>\n",
       "      <td>data/small_mnist_data/train/6782.jpg</td>\n",
       "      <td>6782.jpg</td>\n",
       "      <td>5</td>\n",
       "    </tr>\n",
       "    <tr>\n",
       "      <th>1</th>\n",
       "      <td>data/small_mnist_data/train/1810.jpg</td>\n",
       "      <td>1810.jpg</td>\n",
       "      <td>5</td>\n",
       "    </tr>\n",
       "    <tr>\n",
       "      <th>2</th>\n",
       "      <td>data/small_mnist_data/train/33617.jpg</td>\n",
       "      <td>33617.jpg</td>\n",
       "      <td>5</td>\n",
       "    </tr>\n",
       "    <tr>\n",
       "      <th>3</th>\n",
       "      <td>data/small_mnist_data/train/27802.jpg</td>\n",
       "      <td>27802.jpg</td>\n",
       "      <td>5</td>\n",
       "    </tr>\n",
       "    <tr>\n",
       "      <th>4</th>\n",
       "      <td>data/small_mnist_data/train/50677.jpg</td>\n",
       "      <td>50677.jpg</td>\n",
       "      <td>5</td>\n",
       "    </tr>\n",
       "  </tbody>\n",
       "</table>\n",
       "</div>"
      ],
      "text/plain": [
       "                                img_path   filename  label\n",
       "0   data/small_mnist_data/train/6782.jpg   6782.jpg      5\n",
       "1   data/small_mnist_data/train/1810.jpg   1810.jpg      5\n",
       "2  data/small_mnist_data/train/33617.jpg  33617.jpg      5\n",
       "3  data/small_mnist_data/train/27802.jpg  27802.jpg      5\n",
       "4  data/small_mnist_data/train/50677.jpg  50677.jpg      5"
      ]
     },
     "execution_count": 2,
     "metadata": {},
     "output_type": "execute_result"
    }
   ],
   "source": [
    "%%thanosql\n",
    "SELECT * \n",
    "FROM mnist_train \n",
    "LIMIT 5"
   ]
  },
  {
   "cell_type": "markdown",
   "id": "2b4f3acf-f218-4d51-b671-7651632290ec",
   "metadata": {},
   "source": [
    "## __2. 이미지 수치화 모델 생성__"
   ]
  },
  {
   "cell_type": "markdown",
   "id": "fdaad6bd-ae89-4b32-9bdf-3cbe9c2e685e",
   "metadata": {},
   "source": [
    "이전 단계에서 확인한 mnist_dataset 테이블을 사용하여 이미지 수치화 모델을 만듭니다. 아래의 쿼리 구문을 실행하여 mnist_model이라는 이름의 모델을 만듭니다."
   ]
  },
  {
   "cell_type": "code",
   "execution_count": 5,
   "id": "3630f8f7-8229-49f5-ae32-51011e1e37c8",
   "metadata": {},
   "outputs": [
    {
     "name": "stdout",
     "output_type": "stream",
     "text": [
      "Success\n"
     ]
    }
   ],
   "source": [
    "%%thanosql\n",
    "BUILD MODEL my_image_search_model\n",
    "USING SimCLR\n",
    "OPTIONS (\n",
    "    image_col='img_path',    \n",
    "    max_epochs=1\n",
    "    )\n",
    "AS \n",
    "SELECT * \n",
    "FROM mnist_train"
   ]
  },
  {
   "cell_type": "code",
   "execution_count": 6,
   "id": "0abffc4b-aec9-444a-9546-dce181190f08",
   "metadata": {},
   "outputs": [
    {
     "data": {
      "text/html": [
       "<div>\n",
       "<style scoped>\n",
       "    .dataframe tbody tr th:only-of-type {\n",
       "        vertical-align: middle;\n",
       "    }\n",
       "\n",
       "    .dataframe tbody tr th {\n",
       "        vertical-align: top;\n",
       "    }\n",
       "\n",
       "    .dataframe thead th {\n",
       "        text-align: right;\n",
       "    }\n",
       "</style>\n",
       "<table border=\"1\" class=\"dataframe\">\n",
       "  <thead>\n",
       "    <tr style=\"text-align: right;\">\n",
       "      <th></th>\n",
       "      <th>image_path</th>\n",
       "      <th>filename</th>\n",
       "      <th>label</th>\n",
       "      <th>my_image_search_model_simclr</th>\n",
       "    </tr>\n",
       "  </thead>\n",
       "  <tbody>\n",
       "    <tr>\n",
       "      <th>0</th>\n",
       "      <td>data/small_mnist_data/test/5099.jpg</td>\n",
       "      <td>5099.jpg</td>\n",
       "      <td>6</td>\n",
       "      <td>[0.36851733922958374, 0.3809371292591095, 0.43...</td>\n",
       "    </tr>\n",
       "    <tr>\n",
       "      <th>1</th>\n",
       "      <td>data/small_mnist_data/test/9239.jpg</td>\n",
       "      <td>9239.jpg</td>\n",
       "      <td>6</td>\n",
       "      <td>[0.3270382881164551, 0.4070429801940918, 0.429...</td>\n",
       "    </tr>\n",
       "    <tr>\n",
       "      <th>2</th>\n",
       "      <td>data/small_mnist_data/test/2242.jpg</td>\n",
       "      <td>2242.jpg</td>\n",
       "      <td>6</td>\n",
       "      <td>[0.33250367641448975, 0.5749425888061523, 0.46...</td>\n",
       "    </tr>\n",
       "    <tr>\n",
       "      <th>3</th>\n",
       "      <td>data/small_mnist_data/test/3451.jpg</td>\n",
       "      <td>3451.jpg</td>\n",
       "      <td>6</td>\n",
       "      <td>[0.3016360104084015, 0.5699191093444824, 0.629...</td>\n",
       "    </tr>\n",
       "    <tr>\n",
       "      <th>4</th>\n",
       "      <td>data/small_mnist_data/test/2631.jpg</td>\n",
       "      <td>2631.jpg</td>\n",
       "      <td>6</td>\n",
       "      <td>[0.3470647931098938, 0.364585280418396, 0.3704...</td>\n",
       "    </tr>\n",
       "    <tr>\n",
       "      <th>...</th>\n",
       "      <td>...</td>\n",
       "      <td>...</td>\n",
       "      <td>...</td>\n",
       "      <td>...</td>\n",
       "    </tr>\n",
       "    <tr>\n",
       "      <th>195</th>\n",
       "      <td>data/small_mnist_data/test/8045.jpg</td>\n",
       "      <td>8045.jpg</td>\n",
       "      <td>8</td>\n",
       "      <td>[0.32833123207092285, 0.5544805526733398, 0.66...</td>\n",
       "    </tr>\n",
       "    <tr>\n",
       "      <th>196</th>\n",
       "      <td>data/small_mnist_data/test/9591.jpg</td>\n",
       "      <td>9591.jpg</td>\n",
       "      <td>8</td>\n",
       "      <td>[0.31966179609298706, 0.6303644180297852, 0.45...</td>\n",
       "    </tr>\n",
       "    <tr>\n",
       "      <th>197</th>\n",
       "      <td>data/small_mnist_data/test/7425.jpg</td>\n",
       "      <td>7425.jpg</td>\n",
       "      <td>8</td>\n",
       "      <td>[0.2210414707660675, 0.5177438259124756, 0.324...</td>\n",
       "    </tr>\n",
       "    <tr>\n",
       "      <th>198</th>\n",
       "      <td>data/small_mnist_data/test/2150.jpg</td>\n",
       "      <td>2150.jpg</td>\n",
       "      <td>8</td>\n",
       "      <td>[0.46035513281822205, 0.4369577169418335, 0.49...</td>\n",
       "    </tr>\n",
       "    <tr>\n",
       "      <th>199</th>\n",
       "      <td>data/small_mnist_data/test/5087.jpg</td>\n",
       "      <td>5087.jpg</td>\n",
       "      <td>8</td>\n",
       "      <td>[0.2811943292617798, 0.5150406360626221, 0.435...</td>\n",
       "    </tr>\n",
       "  </tbody>\n",
       "</table>\n",
       "<p>200 rows × 4 columns</p>\n",
       "</div>"
      ],
      "text/plain": [
       "                              image_path  filename  label  \\\n",
       "0    data/small_mnist_data/test/5099.jpg  5099.jpg      6   \n",
       "1    data/small_mnist_data/test/9239.jpg  9239.jpg      6   \n",
       "2    data/small_mnist_data/test/2242.jpg  2242.jpg      6   \n",
       "3    data/small_mnist_data/test/3451.jpg  3451.jpg      6   \n",
       "4    data/small_mnist_data/test/2631.jpg  2631.jpg      6   \n",
       "..                                   ...       ...    ...   \n",
       "195  data/small_mnist_data/test/8045.jpg  8045.jpg      8   \n",
       "196  data/small_mnist_data/test/9591.jpg  9591.jpg      8   \n",
       "197  data/small_mnist_data/test/7425.jpg  7425.jpg      8   \n",
       "198  data/small_mnist_data/test/2150.jpg  2150.jpg      8   \n",
       "199  data/small_mnist_data/test/5087.jpg  5087.jpg      8   \n",
       "\n",
       "                          my_image_search_model_simclr  \n",
       "0    [0.36851733922958374, 0.3809371292591095, 0.43...  \n",
       "1    [0.3270382881164551, 0.4070429801940918, 0.429...  \n",
       "2    [0.33250367641448975, 0.5749425888061523, 0.46...  \n",
       "3    [0.3016360104084015, 0.5699191093444824, 0.629...  \n",
       "4    [0.3470647931098938, 0.364585280418396, 0.3704...  \n",
       "..                                                 ...  \n",
       "195  [0.32833123207092285, 0.5544805526733398, 0.66...  \n",
       "196  [0.31966179609298706, 0.6303644180297852, 0.45...  \n",
       "197  [0.2210414707660675, 0.5177438259124756, 0.324...  \n",
       "198  [0.46035513281822205, 0.4369577169418335, 0.49...  \n",
       "199  [0.2811943292617798, 0.5150406360626221, 0.435...  \n",
       "\n",
       "[200 rows x 4 columns]"
      ]
     },
     "execution_count": 6,
     "metadata": {},
     "output_type": "execute_result"
    }
   ],
   "source": [
    "%%thanosql\n",
    "CONVERT USING my_image_search_model\n",
    "OPTIONS(\n",
    "    table_name= \"mnist_test\",\n",
    "    image_col=\"img_path\"\n",
    "    )\n",
    "AS \n",
    "SELECT * \n",
    "FROM mnist_test"
   ]
  },
  {
   "cell_type": "markdown",
   "id": "14e73da0-83cc-45c0-8512-689212fcd014",
   "metadata": {},
   "source": [
    "## __3. (이미지 폴더로부터) 이미지 수치화 결과 저장__"
   ]
  },
  {
   "cell_type": "markdown",
   "id": "2021219b-2113-47f4-8037-a9a767a6e8cc",
   "metadata": {},
   "source": [
    "아래의 쿼리 구문을 실행하여 특정 폴더 내의 전체 이미지를 기존에 학습해 둔 모델을 사용해서 수치화 합니다. 위의 쿼리와 같은 역할을 하지만 학습을 위한 입력 데이터의 구조가 다릅니다."
   ]
  },
  {
   "cell_type": "code",
   "execution_count": 11,
   "id": "ff72f182-144a-4e2f-bbf2-5765914bcc77",
   "metadata": {},
   "outputs": [
    {
     "name": "stdout",
     "output_type": "stream",
     "text": [
      "Success\n"
     ]
    }
   ],
   "source": [
    "%%thanosql\n",
    "CREATE TABLE mnist_embds\n",
    "USING my_image_search_model \n",
    "OPTIONS(\n",
    "    path_type='folder', \n",
    "    data_type='image',\n",
    "    file_type=['.jpg']\n",
    "    ) \n",
    "FROM 'tutorial_data/mnist_data/test/'"
   ]
  },
  {
   "cell_type": "code",
   "execution_count": 12,
   "id": "7af97ecb-b691-4093-9872-d627a983cb3c",
   "metadata": {},
   "outputs": [
    {
     "data": {
      "text/html": [
       "<div>\n",
       "<style scoped>\n",
       "    .dataframe tbody tr th:only-of-type {\n",
       "        vertical-align: middle;\n",
       "    }\n",
       "\n",
       "    .dataframe tbody tr th {\n",
       "        vertical-align: top;\n",
       "    }\n",
       "\n",
       "    .dataframe thead th {\n",
       "        text-align: right;\n",
       "    }\n",
       "</style>\n",
       "<table border=\"1\" class=\"dataframe\">\n",
       "  <thead>\n",
       "    <tr style=\"text-align: right;\">\n",
       "      <th></th>\n",
       "      <th>image_path</th>\n",
       "      <th>my_image_search_model_simclr</th>\n",
       "    </tr>\n",
       "  </thead>\n",
       "  <tbody>\n",
       "    <tr>\n",
       "      <th>0</th>\n",
       "      <td>data/small_mnist_data/test/6312.jpg</td>\n",
       "      <td>[0.35356467962265015, 0.42193669080734253, 0.3...</td>\n",
       "    </tr>\n",
       "    <tr>\n",
       "      <th>1</th>\n",
       "      <td>data/small_mnist_data/test/5462.jpg</td>\n",
       "      <td>[0.4648500084877014, 0.4455864429473877, 0.504...</td>\n",
       "    </tr>\n",
       "    <tr>\n",
       "      <th>2</th>\n",
       "      <td>data/small_mnist_data/test/674.jpg</td>\n",
       "      <td>[0.44637295603752136, 0.254580557346344, 0.499...</td>\n",
       "    </tr>\n",
       "    <tr>\n",
       "      <th>3</th>\n",
       "      <td>data/small_mnist_data/test/8045.jpg</td>\n",
       "      <td>[0.32833123207092285, 0.5544805526733398, 0.66...</td>\n",
       "    </tr>\n",
       "    <tr>\n",
       "      <th>4</th>\n",
       "      <td>data/small_mnist_data/test/8100.jpg</td>\n",
       "      <td>[0.2152605503797531, 0.432672917842865, 0.3913...</td>\n",
       "    </tr>\n",
       "  </tbody>\n",
       "</table>\n",
       "</div>"
      ],
      "text/plain": [
       "                            image_path  \\\n",
       "0  data/small_mnist_data/test/6312.jpg   \n",
       "1  data/small_mnist_data/test/5462.jpg   \n",
       "2   data/small_mnist_data/test/674.jpg   \n",
       "3  data/small_mnist_data/test/8045.jpg   \n",
       "4  data/small_mnist_data/test/8100.jpg   \n",
       "\n",
       "                        my_image_search_model_simclr  \n",
       "0  [0.35356467962265015, 0.42193669080734253, 0.3...  \n",
       "1  [0.4648500084877014, 0.4455864429473877, 0.504...  \n",
       "2  [0.44637295603752136, 0.254580557346344, 0.499...  \n",
       "3  [0.32833123207092285, 0.5544805526733398, 0.66...  \n",
       "4  [0.2152605503797531, 0.432672917842865, 0.3913...  "
      ]
     },
     "execution_count": 12,
     "metadata": {},
     "output_type": "execute_result"
    }
   ],
   "source": [
    "%%thanosql\n",
    "SELECT * \n",
    "FROM mnist_embds \n",
    "LIMIT 5"
   ]
  },
  {
   "cell_type": "markdown",
   "id": "1c16f866-b5b4-4540-a848-30d0cd459165",
   "metadata": {},
   "source": [
    "## __4. 이미지 수치화 모델을 사용해서 유사 이미지 검색하기__"
   ]
  },
  {
   "cell_type": "markdown",
   "id": "f3692372-1572-4547-931d-4d3a861eb103",
   "metadata": {},
   "source": [
    "이번 단계에서는 mnist_model 이미지 수치화 모델과 mnist_embds 수치화 테이블을 사용하여 \"923.jpg\" 이미지 파일(손글씨 8)과 유사한 이미지를 검색합니다."
   ]
  },
  {
   "cell_type": "code",
   "execution_count": 14,
   "id": "61e0de08-b6a7-4087-8691-230243aab016",
   "metadata": {},
   "outputs": [
    {
     "data": {
      "text/html": [
       "<div>\n",
       "<style scoped>\n",
       "    .dataframe tbody tr th:only-of-type {\n",
       "        vertical-align: middle;\n",
       "    }\n",
       "\n",
       "    .dataframe tbody tr th {\n",
       "        vertical-align: top;\n",
       "    }\n",
       "\n",
       "    .dataframe thead th {\n",
       "        text-align: right;\n",
       "    }\n",
       "</style>\n",
       "<table border=\"1\" class=\"dataframe\">\n",
       "  <thead>\n",
       "    <tr style=\"text-align: right;\">\n",
       "      <th></th>\n",
       "      <th>image_path</th>\n",
       "      <th>my_image_search_model_simclr</th>\n",
       "      <th>my_image_search_model_simclr_similarity1</th>\n",
       "    </tr>\n",
       "  </thead>\n",
       "  <tbody>\n",
       "    <tr>\n",
       "      <th>0</th>\n",
       "      <td>data/small_mnist_data/test/6312.jpg</td>\n",
       "      <td>[0.35356467962265015, 0.42193669080734253, 0.3...</td>\n",
       "      <td>0.942288</td>\n",
       "    </tr>\n",
       "    <tr>\n",
       "      <th>1</th>\n",
       "      <td>data/small_mnist_data/test/5462.jpg</td>\n",
       "      <td>[0.4648500084877014, 0.4455864429473877, 0.504...</td>\n",
       "      <td>0.957907</td>\n",
       "    </tr>\n",
       "    <tr>\n",
       "      <th>2</th>\n",
       "      <td>data/small_mnist_data/test/674.jpg</td>\n",
       "      <td>[0.44637295603752136, 0.254580557346344, 0.499...</td>\n",
       "      <td>0.948714</td>\n",
       "    </tr>\n",
       "    <tr>\n",
       "      <th>3</th>\n",
       "      <td>data/small_mnist_data/test/8045.jpg</td>\n",
       "      <td>[0.32833123207092285, 0.5544805526733398, 0.66...</td>\n",
       "      <td>0.959829</td>\n",
       "    </tr>\n",
       "    <tr>\n",
       "      <th>4</th>\n",
       "      <td>data/small_mnist_data/test/8100.jpg</td>\n",
       "      <td>[0.2152605503797531, 0.432672917842865, 0.3913...</td>\n",
       "      <td>0.934777</td>\n",
       "    </tr>\n",
       "    <tr>\n",
       "      <th>...</th>\n",
       "      <td>...</td>\n",
       "      <td>...</td>\n",
       "      <td>...</td>\n",
       "    </tr>\n",
       "    <tr>\n",
       "      <th>195</th>\n",
       "      <td>data/small_mnist_data/test/7083.jpg</td>\n",
       "      <td>[0.3092852830886841, 0.49765217304229736, 0.24...</td>\n",
       "      <td>0.947544</td>\n",
       "    </tr>\n",
       "    <tr>\n",
       "      <th>196</th>\n",
       "      <td>data/small_mnist_data/test/7425.jpg</td>\n",
       "      <td>[0.2210414707660675, 0.5177438259124756, 0.324...</td>\n",
       "      <td>0.953421</td>\n",
       "    </tr>\n",
       "    <tr>\n",
       "      <th>197</th>\n",
       "      <td>data/small_mnist_data/test/2895.jpg</td>\n",
       "      <td>[0.31555038690567017, 0.4576123356819153, 0.59...</td>\n",
       "      <td>0.952745</td>\n",
       "    </tr>\n",
       "    <tr>\n",
       "      <th>198</th>\n",
       "      <td>data/small_mnist_data/test/9001.jpg</td>\n",
       "      <td>[0.31824254989624023, 0.3472241163253784, 0.60...</td>\n",
       "      <td>0.950983</td>\n",
       "    </tr>\n",
       "    <tr>\n",
       "      <th>199</th>\n",
       "      <td>data/small_mnist_data/test/616.jpg</td>\n",
       "      <td>[0.5813194513320923, 0.5709330439567566, 0.353...</td>\n",
       "      <td>0.955315</td>\n",
       "    </tr>\n",
       "  </tbody>\n",
       "</table>\n",
       "<p>200 rows × 3 columns</p>\n",
       "</div>"
      ],
      "text/plain": [
       "                              image_path  \\\n",
       "0    data/small_mnist_data/test/6312.jpg   \n",
       "1    data/small_mnist_data/test/5462.jpg   \n",
       "2     data/small_mnist_data/test/674.jpg   \n",
       "3    data/small_mnist_data/test/8045.jpg   \n",
       "4    data/small_mnist_data/test/8100.jpg   \n",
       "..                                   ...   \n",
       "195  data/small_mnist_data/test/7083.jpg   \n",
       "196  data/small_mnist_data/test/7425.jpg   \n",
       "197  data/small_mnist_data/test/2895.jpg   \n",
       "198  data/small_mnist_data/test/9001.jpg   \n",
       "199   data/small_mnist_data/test/616.jpg   \n",
       "\n",
       "                          my_image_search_model_simclr  \\\n",
       "0    [0.35356467962265015, 0.42193669080734253, 0.3...   \n",
       "1    [0.4648500084877014, 0.4455864429473877, 0.504...   \n",
       "2    [0.44637295603752136, 0.254580557346344, 0.499...   \n",
       "3    [0.32833123207092285, 0.5544805526733398, 0.66...   \n",
       "4    [0.2152605503797531, 0.432672917842865, 0.3913...   \n",
       "..                                                 ...   \n",
       "195  [0.3092852830886841, 0.49765217304229736, 0.24...   \n",
       "196  [0.2210414707660675, 0.5177438259124756, 0.324...   \n",
       "197  [0.31555038690567017, 0.4576123356819153, 0.59...   \n",
       "198  [0.31824254989624023, 0.3472241163253784, 0.60...   \n",
       "199  [0.5813194513320923, 0.5709330439567566, 0.353...   \n",
       "\n",
       "     my_image_search_model_simclr_similarity1  \n",
       "0                                    0.942288  \n",
       "1                                    0.957907  \n",
       "2                                    0.948714  \n",
       "3                                    0.959829  \n",
       "4                                    0.934777  \n",
       "..                                        ...  \n",
       "195                                  0.947544  \n",
       "196                                  0.953421  \n",
       "197                                  0.952745  \n",
       "198                                  0.950983  \n",
       "199                                  0.955315  \n",
       "\n",
       "[200 rows x 3 columns]"
      ]
     },
     "execution_count": 14,
     "metadata": {},
     "output_type": "execute_result"
    }
   ],
   "source": [
    "%%thanosql\n",
    "SEARCH IMAGE images='tutorial_data/mnist_data/test/923.jpg' \n",
    "USING my_image_search_model \n",
    "AS \n",
    "SELECT * \n",
    "FROM mnist_embds"
   ]
  },
  {
   "cell_type": "code",
   "execution_count": 15,
   "id": "77af4961-def3-4884-bea2-b8e917d9ae87",
   "metadata": {},
   "outputs": [
    {
     "data": {
      "image/png": "[encoded data removed]",
      "text/plain": [
       "<Figure size 2880x2880 with 4 Axes>"
      ]
     },
     "metadata": {
      "needs_background": "light"
     },
     "output_type": "display_data"
    }
   ],
   "source": [
    "%%thanosql\n",
    "PRINT IMAGE \n",
    "AS (\n",
    "    SELECT image_path, my_image_search_model_simclr_similarity1 \n",
    "    FROM (\n",
    "        SEARCH IMAGE images='tutorial_data/mnist_data/test/923.jpg'\n",
    "        USING my_image_search_model \n",
    "        AS \n",
    "        SELECT * \n",
    "        FROM mnist_embds\n",
    "        )\n",
    "    ORDER BY my_image_search_model_simclr_similarity1 DESC \n",
    "    LIMIT 4\n",
    "    )"
   ]
  },
  {
   "cell_type": "code",
   "execution_count": null,
   "id": "8db1e13e-52ce-4a53-9c9d-837ffacca770",
   "metadata": {},
   "outputs": [],
   "source": []
  }
 ],
 "metadata": {
  "kernelspec": {
   "display_name": "Python 3 (ipykernel)",
   "language": "python",
   "name": "python3"
  },
  "language_info": {
   "codemirror_mode": {
    "name": "ipython",
    "version": 3
   },
   "file_extension": ".py",
   "mimetype": "text/x-python",
   "name": "python",
   "nbconvert_exporter": "python",
   "pygments_lexer": "ipython3",
   "version": "3.9.10"
  }
 },
 "nbformat": 4,
 "nbformat_minor": 5
}
