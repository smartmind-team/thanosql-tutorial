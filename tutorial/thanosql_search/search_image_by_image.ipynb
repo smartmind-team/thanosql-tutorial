{
 "cells": [
  {
   "cell_type": "markdown",
   "id": "e43f86f8-a77c-4f93-a194-5c8dbd954871",
   "metadata": {},
   "source": [
    "# __이미지로 이미지 검색하기__"
   ]
  },
  {
   "cell_type": "markdown",
   "id": "7b921af2-01c2-4225-823c-4f0a092b0366",
   "metadata": {},
   "source": [
    "- 튜토리얼 난이도: ★☆☆☆☆\n",
    "- 읽는데 걸리는 시간: 7분\n",
    "- 사용 언어: [SQL](https://ko.wikipedia.org/wiki/SQL) (100%)\n",
    "- 실행 파일 위치: tutorial/thanosql_search/search_image_by_image.ipynb   \n",
    "- 참고 문서: [MNIST 데이터 세트 소개](https://ko.wikipedia.org/wiki/MNIST_%EB%8D%B0%EC%9D%B4%ED%84%B0%EB%B2%A0%EC%9D%B4%EC%8A%A4), [A Simple Framework for Contrastive Learning of Visual Representations](https://arxiv.org/abs/2002.05709)"
   ]
  },
  {
   "cell_type": "markdown",
   "id": "6b65969e-dd45-4881-a5b3-4c140f4d8e58",
   "metadata": {},
   "source": [
    "## 튜토리얼 소개\n",
    "\n",
    "<div class=\"admonition note\">\n",
    "    <h4 class=\"admonition-title\">이미지 수치화 기술 이해하기</h4>\n",
    "    <p>이미지는 고차원 데이터(높이x너비x채널[RGB]x색의 강도)로써 각 픽셀의 정보를 무작위로 생성한다면 아무 의미를 갖지 않는 이미지가 생성됩니다. 즉, 각 픽셀은 주변 픽셀과 연관된 특정 패턴을 갖는 경우에만 사람이 이미지로 인식을 할 수 있게 됩니다. 이는 이미지를 실제보다 저차원적 특성 벡터에 표현할 수 있다는 의미입니다. 최근에는 인공지능을 이용해서 각 이미지가 갖는 의미의 유사도에 따라 저차원 공간에 수치화하여 표현하는 연구들이 다방면으로 이루어지고 있으며 이는 이미지 수치화, 벡터화(Vectorization), 임베딩(Embedding) 등의 이름으로 다양하게 활용되고 있습니다.</p>\n",
    "</div>\n",
    "\n",
    "이미지의 유사도를 정의하는 방법은 여러가지가 있습니다. 색상이 비슷하거나, 이미지 내의 사물이 비슷하거나, 손글씨처럼 의미가 동일할 수도 있습니다. 유사한 이미지에 대한 정확한 정의를 내리기 어렵지만 이미지가 보유하고 있는 일반적인 특징을 인공지능은 학습하고 수치화합니다.\n",
    "\n",
    "ThanoSQL에서는 이미지를 입력하고 데이터베이스에서 유사한 이미지를 검색하기 위해 [자가학습모델(Self-Supervised Learning Model)](https://ko.wikipedia.org/wiki/%EC%9E%90%EA%B8%B0_%EC%A7%80%EB%8F%84_%ED%95%99%EC%8A%B5)을 사용합니다. 사용자가 보유하고 있는 이미지들을 ThanoSQL의 데이터베이스에 올리면 인공지능 알고리즘을 통해 비슷한 이미지는 가깝게 다른 이미지들은 멀리 배치하며 스스로 학습을 진행합니다. 정답이 없는 데이터 세트에서 이미지의 일반적인 표현을 학습하고 소량의 목푯값(Target)이 있는 이미지로 미세 조정하여 분류나 회귀 작업에 활용할 수 있습니다.\n",
    "\n",
    "또한, ThanoSQL은 인공지능 알고리즘을 이용해서 데이터 세트를 수치화 합니다. 이렇게 수치화 된 데이터는 데이터베이스의 컬럼 내에 저장되고, 이미지 간 유사도(거리) 계산을 통해 비슷한 이미지를 검색하는데 사용됩니다.\n",
    "\n",
    "__아래는 ThanoSQL 유사 이미지 검색 알고리즘의 활용 및 예시 입니다.__\n",
    "\n",
    "- 사용자가 좋아하는 이미지를 입력받으면 데이터베이스 상에 저장되어 있는 미술 작품 중에서 비슷한 느낌의 미술 작품들을 검색하고 사용자에게 추천합니다.\n",
    "- 수천장의 사진이 담겨있는 앨범에서 유사 이미지를 찾아낼 수 있습니다.\n",
    "- 이미지의 수치화 된 값을 ThanoSQL의 데이터베이스에 저장하고, ThanoSQL AutoML 회귀/분류 예측 모델을 이용해서 나만의 검색 엔진이나 인공지능 모델을 만들 수 있습니다.\n",
    " \n",
    "<div class=\"admonition note\">\n",
    "    <h4 class=\"admonition-title\">본 튜토리얼에서는</h4>\n",
    "    <p>👉 이번 튜토리얼에서는 MNIST 손글씨 데이터 세트를 사용합니다. 각 이미지는 0~1 사이의 값을 갖는 고정 크기(28x28 = 784 픽셀) 이며, 여러 사람들이 손으로 쓴 0~9까지 숫자를 정답과 함께 제공합니다. 1,000개의 학습용 데이터 세트와 200개의 테스트용 데이터 세트로 이루어져 있습니다.</p>\n",
    "</div>\n",
    "    \n",
    "ThanoSQL을 사용하여 손글씨 데이터를 입력하고 데이터베이스 내에서 입력 이미지와 유사한 이미지를 검색해주는 모델을 만들어 봅니다.\n",
    "\n",
    "[![IMAGE](https://docs.thanosql.ai/img/thanosql_search/search_image_by_image/simclr_img7.png \"MNIST 데이터\")](https://docs.thanosql.ai/img/thanosql_search/search_image_by_image/simclr_img7.png)"
   ]
  },
  {
   "cell_type": "markdown",
   "id": "5fd38a02-06a5-405b-82e0-b074a3dbf589",
   "metadata": {},
   "source": [
    "## __0. 데이터 세트 준비__\n",
    "\n",
    "ThanoSQL의 쿼리 구문을 사용하기 위해서는 [ThanoSQL 워크스페이스](https://docs.thanosql.ai/ko/getting_started/paas/workspace/lab/)에서 언급된 것처럼 API 토큰을 생성하고 아래의 쿼리를 실행해야 합니다."
   ]
  },
  {
   "cell_type": "code",
   "execution_count": null,
   "id": "cbcccdc6-d416-4064-a7c6-7d10c228171a",
   "metadata": {},
   "outputs": [],
   "source": [
    "%load_ext thanosql\n",
    "%thanosql API_TOKEN=<발급받은_API_TOKEN>"
   ]
  },
  {
   "cell_type": "markdown",
   "id": "a3fc89e5-600a-4c5f-bba2-289a425db405",
   "metadata": {},
   "source": [
    "### __데이터 세트 준비__"
   ]
  },
  {
   "cell_type": "code",
   "execution_count": 2,
   "id": "ad07a885-ee2e-4eeb-a2f0-634af9b3b843",
   "metadata": {
    "execution": {
     "iopub.execute_input": "2023-01-25T07:40:37.303077Z",
     "iopub.status.busy": "2023-01-25T07:40:37.302351Z",
     "iopub.status.idle": "2023-01-25T07:40:39.712526Z",
     "shell.execute_reply": "2023-01-25T07:40:39.711756Z",
     "shell.execute_reply.started": "2023-01-25T07:40:37.303058Z"
    }
   },
   "outputs": [
    {
     "name": "stdout",
     "output_type": "stream",
     "text": [
      "Success\n"
     ]
    }
   ],
   "source": [
    "%%thanosql\n",
    "GET THANOSQL DATASET mnist_data\n",
    "OPTIONS (overwrite=True)"
   ]
  },
  {
   "cell_type": "markdown",
   "id": "77319ae0",
   "metadata": {},
   "source": [
    "<div class=\"admonition note\">\n",
    "    <h4 class=\"admonition-title\">쿼리 세부 정보</h4>\n",
    "    <ul>\n",
    "        <li>\"<strong>GET THANOSQL DATASET</strong>\" 쿼리 구문을 사용하여 원하는 데이터 세트를 워크스페이스에 저장합니다.</li>\n",
    "        <li>\"<strong>OPTIONS</strong>\" 쿼리 구문을 통해 <strong>GET THANOSQL DATASET</strong>에 사용할 옵션을 지정합니다.\n",
    "        <ul>\n",
    "            <li>\"overwrite\": 동일 이름의 데이터 세트가 존재하는 경우 덮어쓰기 가능 여부 설정. True일 경우 기존 데이터 세트는 새로운 데이터 세트로 변경됨 (bool, optional, True|False, default: False)</li>\n",
    "        </ul>\n",
    "        </li>\n",
    "    </ul>\n",
    "</div>"
   ]
  },
  {
   "cell_type": "code",
   "execution_count": 3,
   "id": "63661751-7e32-48f7-84fa-1dd205cc5d6d",
   "metadata": {
    "execution": {
     "iopub.execute_input": "2023-01-25T07:40:39.713617Z",
     "iopub.status.busy": "2023-01-25T07:40:39.713425Z",
     "iopub.status.idle": "2023-01-25T07:40:41.290348Z",
     "shell.execute_reply": "2023-01-25T07:40:41.289635Z",
     "shell.execute_reply.started": "2023-01-25T07:40:39.713600Z"
    }
   },
   "outputs": [
    {
     "name": "stdout",
     "output_type": "stream",
     "text": [
      "Success\n"
     ]
    }
   ],
   "source": [
    "%%thanosql\n",
    "COPY mnist_train\n",
    "OPTIONS (if_exists='replace')\n",
    "FROM 'thanosql-dataset/mnist_data/mnist_train.csv'"
   ]
  },
  {
   "cell_type": "code",
   "execution_count": 4,
   "id": "f65244d4-97bc-4464-aa8c-2d12a1f59435",
   "metadata": {
    "execution": {
     "iopub.execute_input": "2023-01-25T07:40:41.291320Z",
     "iopub.status.busy": "2023-01-25T07:40:41.291139Z",
     "iopub.status.idle": "2023-01-25T07:40:42.253433Z",
     "shell.execute_reply": "2023-01-25T07:40:42.252726Z",
     "shell.execute_reply.started": "2023-01-25T07:40:41.291304Z"
    }
   },
   "outputs": [
    {
     "name": "stdout",
     "output_type": "stream",
     "text": [
      "Success\n"
     ]
    }
   ],
   "source": [
    "%%thanosql\n",
    "COPY mnist_test\n",
    "OPTIONS (if_exists='replace')\n",
    "FROM 'thanosql-dataset/mnist_data/mnist_test.csv'"
   ]
  },
  {
   "cell_type": "markdown",
   "id": "d6845948",
   "metadata": {},
   "source": [
    "<div class=\"admonition note\">\n",
    "    <h4 class=\"admonition-title\">쿼리 세부 정보</h4>\n",
    "    <ul>\n",
    "        <li>\"<strong>COPY</strong>\" 쿼리 구문을 사용하여 데이터베이스에 저장 할 테이블명을 지정합니다.</li>\n",
    "        <li>\"<strong>OPTIONS</strong>\" 쿼리 구문을 통해 <strong>COPY</strong>에 사용할 옵션을 지정합니다.\n",
    "        <ul>\n",
    "            <li>\"if_exists\": 동일 이름의 테이블이 존재하는 경우 처리하는 방법 설정. 오류 발생, 기존 테이블에 추가, 기존 테이블 대체 (str, optional, 'fail'|'replace'|'append', default: 'fail')</li>\n",
    "        </ul>\n",
    "        </li>\n",
    "    </ul>\n",
    "</div>"
   ]
  },
  {
   "cell_type": "markdown",
   "id": "542deaf1-606f-49ea-9b6d-5721050ff2bf",
   "metadata": {
    "tags": []
   },
   "source": [
    "## __1. 데이터 세트 확인__\n",
    "\n",
    "손글씨 분류 모델을 만들기 위해 ThanoSQL 워크스페이스 데이터베이스에 저장되어 있는 __mnist_train__ 테이블을 사용합니다. __mnist_train__ 테이블은 MNIST 이미지 파일들이 저장되어 있는 경로와 파일 이름 그리고 라벨 정보가 담겨 있는 테이블입니다. 아래의 쿼리 구문을 실행하고 테이블의 내용을 확인합니다."
   ]
  },
  {
   "cell_type": "code",
   "execution_count": 5,
   "id": "242430e8-09f5-4f2c-9133-21015fc0acf8",
   "metadata": {
    "execution": {
     "iopub.execute_input": "2023-01-25T07:40:42.255182Z",
     "iopub.status.busy": "2023-01-25T07:40:42.255001Z",
     "iopub.status.idle": "2023-01-25T07:40:43.257434Z",
     "shell.execute_reply": "2023-01-25T07:40:43.256750Z",
     "shell.execute_reply.started": "2023-01-25T07:40:42.255166Z"
    }
   },
   "outputs": [
    {
     "data": {
      "text/html": [
       "<div>\n",
       "<style scoped>\n",
       "    .dataframe tbody tr th:only-of-type {\n",
       "        vertical-align: middle;\n",
       "    }\n",
       "\n",
       "    .dataframe tbody tr th {\n",
       "        vertical-align: top;\n",
       "    }\n",
       "\n",
       "    .dataframe thead th {\n",
       "        text-align: right;\n",
       "    }\n",
       "</style>\n",
       "<table border=\"1\" class=\"dataframe\">\n",
       "  <thead>\n",
       "    <tr style=\"text-align: right;\">\n",
       "      <th></th>\n",
       "      <th>image_path</th>\n",
       "      <th>filename</th>\n",
       "      <th>label</th>\n",
       "    </tr>\n",
       "  </thead>\n",
       "  <tbody>\n",
       "    <tr>\n",
       "      <th>0</th>\n",
       "      <td>thanosql-dataset/mnist_data/train/6782.jpg</td>\n",
       "      <td>6782.jpg</td>\n",
       "      <td>5</td>\n",
       "    </tr>\n",
       "    <tr>\n",
       "      <th>1</th>\n",
       "      <td>thanosql-dataset/mnist_data/train/1810.jpg</td>\n",
       "      <td>1810.jpg</td>\n",
       "      <td>5</td>\n",
       "    </tr>\n",
       "    <tr>\n",
       "      <th>2</th>\n",
       "      <td>thanosql-dataset/mnist_data/train/33617.jpg</td>\n",
       "      <td>33617.jpg</td>\n",
       "      <td>5</td>\n",
       "    </tr>\n",
       "    <tr>\n",
       "      <th>3</th>\n",
       "      <td>thanosql-dataset/mnist_data/train/27802.jpg</td>\n",
       "      <td>27802.jpg</td>\n",
       "      <td>5</td>\n",
       "    </tr>\n",
       "    <tr>\n",
       "      <th>4</th>\n",
       "      <td>thanosql-dataset/mnist_data/train/50677.jpg</td>\n",
       "      <td>50677.jpg</td>\n",
       "      <td>5</td>\n",
       "    </tr>\n",
       "  </tbody>\n",
       "</table>\n",
       "</div>"
      ],
      "text/plain": [
       "                                    image_path   filename  label\n",
       "0   thanosql-dataset/mnist_data/train/6782.jpg   6782.jpg      5\n",
       "1   thanosql-dataset/mnist_data/train/1810.jpg   1810.jpg      5\n",
       "2  thanosql-dataset/mnist_data/train/33617.jpg  33617.jpg      5\n",
       "3  thanosql-dataset/mnist_data/train/27802.jpg  27802.jpg      5\n",
       "4  thanosql-dataset/mnist_data/train/50677.jpg  50677.jpg      5"
      ]
     },
     "execution_count": 5,
     "metadata": {},
     "output_type": "execute_result"
    }
   ],
   "source": [
    "%%thanosql\n",
    "SELECT *\n",
    "FROM mnist_train\n",
    "LIMIT 5"
   ]
  },
  {
   "cell_type": "markdown",
   "id": "fd02e1f5",
   "metadata": {},
   "source": [
    "<div class=\"admonition note\">\n",
    "    <h4 class=\"admonition-title\">데이터 테이블 이해하기</h4>\n",
    "    <p><strong>mnist_train</strong> 테이블은 아래와 같은 정보를 담고 있습니다. \"6782.jpg\" 이미지 파일은 숫자 5를 쓴 손글씨 이미지입니다.</p>\n",
    "    <ul>\n",
    "        <li>image_path: 이미지 경로</li>\n",
    "        <li>filename: 파일 이름</li>\n",
    "        <li>label: 이미지 라벨</li>\n",
    "    </ul>\n",
    "</div>"
   ]
  },
  {
   "cell_type": "markdown",
   "id": "2b4f3acf-f218-4d51-b671-7651632290ec",
   "metadata": {},
   "source": [
    "## __2. 이미지 수치화 모델 생성__\n",
    "\n",
    "이전 단계에서 확인한 __mnist_train__ 테이블을 사용하여 이미지 수치화 모델을 만듭니다. 아래의 쿼리 구문을 실행하여 <strong>my_image_search_model</strong>이라는 이름의 모델을 만듭니다.  \n",
    "(쿼리 실행 시 예상 소요 시간: 1 min)"
   ]
  },
  {
   "cell_type": "code",
   "execution_count": 6,
   "id": "3630f8f7-8229-49f5-ae32-51011e1e37c8",
   "metadata": {
    "execution": {
     "iopub.execute_input": "2023-01-25T07:40:43.258320Z",
     "iopub.status.busy": "2023-01-25T07:40:43.258152Z",
     "iopub.status.idle": "2023-01-25T07:40:50.488615Z",
     "shell.execute_reply": "2023-01-25T07:40:50.487969Z",
     "shell.execute_reply.started": "2023-01-25T07:40:43.258303Z"
    }
   },
   "outputs": [
    {
     "name": "stdout",
     "output_type": "stream",
     "text": [
      "Success\n"
     ]
    }
   ],
   "source": [
    "%%thanosql\n",
    "BUILD MODEL my_image_search_model\n",
    "USING SimCLR\n",
    "OPTIONS (\n",
    "    image_col='image_path',\n",
    "    max_epochs=1,\n",
    "    overwrite=True\n",
    "    )\n",
    "AS\n",
    "SELECT *\n",
    "FROM mnist_train"
   ]
  },
  {
   "cell_type": "markdown",
   "id": "1e173c0d",
   "metadata": {},
   "source": [
    "<div class=\"admonition note\">\n",
    "    <h4 class=\"admonition-title\">쿼리 세부 정보</h4>\n",
    "    <ul>\n",
    "        <li>\"<strong>BUILD MODEL</strong>\" 쿼리 구문을 사용하여 <strong>my_image_search_model</strong>이라는 모델을 만들고 학습시킵니다.</li>\n",
    "        <li>\"<strong>USING</strong>\" 쿼리 구문을 통해 베이스 모델로 <strong>SimCLR</strong>을 사용할 것을 명시합니다.</li>\n",
    "        <li>\"<strong>OPTIONS</strong>\" 쿼리 구문을 통해 모델 생성에 사용할 옵션을 지정합니다.\n",
    "        <ul>\n",
    "            <li>\"image_col\": 데이터 테이블에서 이미지의 경로를 담은 컬럼 (str, default: 'image_path')</li>\n",
    "            <li>\"max_epochs\": 이미지 수치화 모델을 생성하기 위한 데이터 세트 학습 횟수 (int, optional, default: 5)</li>\n",
    "            <li>\"overwrite\": 동일 이름의 모델이 존재하는 경우 덮어쓰기 가능 여부 설정. True일 경우 기존 모델은 새로운 모델로 변경됨 (bool, optional, True|False, default: False)</li>\n",
    "        </ul>\n",
    "        </li>\n",
    "    </ul>\n",
    "</div>"
   ]
  },
  {
   "cell_type": "markdown",
   "id": "fa4b8b03",
   "metadata": {},
   "source": [
    "다음 \"__CONVERT USING__ \" 쿼리 구문을 실행하여 __mnist_test__ 이미지를 수치화 합니다. 수치화 된 결과는 __mnist_test__ 테이블에 사용자가 옵션으로 지정한 이름(default: 'convert_result')의 컬럼에 저장됩니다."
   ]
  },
  {
   "cell_type": "code",
   "execution_count": 7,
   "id": "0abffc4b-aec9-444a-9546-dce181190f08",
   "metadata": {
    "execution": {
     "iopub.execute_input": "2023-01-25T07:40:50.489588Z",
     "iopub.status.busy": "2023-01-25T07:40:50.489415Z",
     "iopub.status.idle": "2023-01-25T07:40:52.078937Z",
     "shell.execute_reply": "2023-01-25T07:40:52.078380Z",
     "shell.execute_reply.started": "2023-01-25T07:40:50.489571Z"
    }
   },
   "outputs": [
    {
     "data": {
      "text/html": [
       "<div>\n",
       "<style scoped>\n",
       "    .dataframe tbody tr th:only-of-type {\n",
       "        vertical-align: middle;\n",
       "    }\n",
       "\n",
       "    .dataframe tbody tr th {\n",
       "        vertical-align: top;\n",
       "    }\n",
       "\n",
       "    .dataframe thead th {\n",
       "        text-align: right;\n",
       "    }\n",
       "</style>\n",
       "<table border=\"1\" class=\"dataframe\">\n",
       "  <thead>\n",
       "    <tr style=\"text-align: right;\">\n",
       "      <th></th>\n",
       "      <th>image_path</th>\n",
       "      <th>filename</th>\n",
       "      <th>label</th>\n",
       "      <th>convert_result</th>\n",
       "    </tr>\n",
       "  </thead>\n",
       "  <tbody>\n",
       "    <tr>\n",
       "      <th>0</th>\n",
       "      <td>thanosql-dataset/mnist_data/test/5099.jpg</td>\n",
       "      <td>5099.jpg</td>\n",
       "      <td>6</td>\n",
       "      <td>[b'\\xb7', b'\\x0b', b'\\xf3', b'&gt;', b'\\xe6', b'\\...</td>\n",
       "    </tr>\n",
       "    <tr>\n",
       "      <th>1</th>\n",
       "      <td>thanosql-dataset/mnist_data/test/9239.jpg</td>\n",
       "      <td>9239.jpg</td>\n",
       "      <td>6</td>\n",
       "      <td>[b'\\xab', b'u', b'|', b'&gt;', b'\\x94', b'\\xf0', ...</td>\n",
       "    </tr>\n",
       "    <tr>\n",
       "      <th>2</th>\n",
       "      <td>thanosql-dataset/mnist_data/test/2242.jpg</td>\n",
       "      <td>2242.jpg</td>\n",
       "      <td>6</td>\n",
       "      <td>[b'\\t', b'\\xcc', b'\\xaa', b'&gt;', b'}', b'\\x9d',...</td>\n",
       "    </tr>\n",
       "    <tr>\n",
       "      <th>3</th>\n",
       "      <td>thanosql-dataset/mnist_data/test/3451.jpg</td>\n",
       "      <td>3451.jpg</td>\n",
       "      <td>6</td>\n",
       "      <td>[b'\\xda', b'\\x1f', b'\\xae', b'&gt;', b'\\xd0', b'\\...</td>\n",
       "    </tr>\n",
       "    <tr>\n",
       "      <th>4</th>\n",
       "      <td>thanosql-dataset/mnist_data/test/2631.jpg</td>\n",
       "      <td>2631.jpg</td>\n",
       "      <td>6</td>\n",
       "      <td>[b'\\\\', b'\\x04', b'\\xa8', b'&gt;', b'\\x92', b'&amp;',...</td>\n",
       "    </tr>\n",
       "    <tr>\n",
       "      <th>...</th>\n",
       "      <td>...</td>\n",
       "      <td>...</td>\n",
       "      <td>...</td>\n",
       "      <td>...</td>\n",
       "    </tr>\n",
       "    <tr>\n",
       "      <th>195</th>\n",
       "      <td>thanosql-dataset/mnist_data/test/8045.jpg</td>\n",
       "      <td>8045.jpg</td>\n",
       "      <td>8</td>\n",
       "      <td>[b'L', b'\\x9c', b'\\xca', b'&gt;', b'\\xb1', b'\\xa0...</td>\n",
       "    </tr>\n",
       "    <tr>\n",
       "      <th>196</th>\n",
       "      <td>thanosql-dataset/mnist_data/test/9591.jpg</td>\n",
       "      <td>9591.jpg</td>\n",
       "      <td>8</td>\n",
       "      <td>[b'[', b'\\x90', b'\\xb3', b'&gt;', b'=', b'@', b'\\...</td>\n",
       "    </tr>\n",
       "    <tr>\n",
       "      <th>197</th>\n",
       "      <td>thanosql-dataset/mnist_data/test/7425.jpg</td>\n",
       "      <td>7425.jpg</td>\n",
       "      <td>8</td>\n",
       "      <td>[b'\\x97', b'\\xbd', b'\\xf5', b'&gt;', b'$', b'+', ...</td>\n",
       "    </tr>\n",
       "    <tr>\n",
       "      <th>198</th>\n",
       "      <td>thanosql-dataset/mnist_data/test/2150.jpg</td>\n",
       "      <td>2150.jpg</td>\n",
       "      <td>8</td>\n",
       "      <td>[b'\\xa2', b'\\x08', b'\\xaa', b'&gt;', b'\\xbe', b'\\...</td>\n",
       "    </tr>\n",
       "    <tr>\n",
       "      <th>199</th>\n",
       "      <td>thanosql-dataset/mnist_data/test/5087.jpg</td>\n",
       "      <td>5087.jpg</td>\n",
       "      <td>8</td>\n",
       "      <td>[b'\\xb6', b'\\x80', b'\\x90', b'&gt;', b'\\xb2', b'\\...</td>\n",
       "    </tr>\n",
       "  </tbody>\n",
       "</table>\n",
       "<p>200 rows × 4 columns</p>\n",
       "</div>"
      ],
      "text/plain": [
       "                                    image_path  filename  label  \\\n",
       "0    thanosql-dataset/mnist_data/test/5099.jpg  5099.jpg      6   \n",
       "1    thanosql-dataset/mnist_data/test/9239.jpg  9239.jpg      6   \n",
       "2    thanosql-dataset/mnist_data/test/2242.jpg  2242.jpg      6   \n",
       "3    thanosql-dataset/mnist_data/test/3451.jpg  3451.jpg      6   \n",
       "4    thanosql-dataset/mnist_data/test/2631.jpg  2631.jpg      6   \n",
       "..                                         ...       ...    ...   \n",
       "195  thanosql-dataset/mnist_data/test/8045.jpg  8045.jpg      8   \n",
       "196  thanosql-dataset/mnist_data/test/9591.jpg  9591.jpg      8   \n",
       "197  thanosql-dataset/mnist_data/test/7425.jpg  7425.jpg      8   \n",
       "198  thanosql-dataset/mnist_data/test/2150.jpg  2150.jpg      8   \n",
       "199  thanosql-dataset/mnist_data/test/5087.jpg  5087.jpg      8   \n",
       "\n",
       "                                        convert_result  \n",
       "0    [b'\\xb7', b'\\x0b', b'\\xf3', b'>', b'\\xe6', b'\\...  \n",
       "1    [b'\\xab', b'u', b'|', b'>', b'\\x94', b'\\xf0', ...  \n",
       "2    [b'\\t', b'\\xcc', b'\\xaa', b'>', b'}', b'\\x9d',...  \n",
       "3    [b'\\xda', b'\\x1f', b'\\xae', b'>', b'\\xd0', b'\\...  \n",
       "4    [b'\\\\', b'\\x04', b'\\xa8', b'>', b'\\x92', b'&',...  \n",
       "..                                                 ...  \n",
       "195  [b'L', b'\\x9c', b'\\xca', b'>', b'\\xb1', b'\\xa0...  \n",
       "196  [b'[', b'\\x90', b'\\xb3', b'>', b'=', b'@', b'\\...  \n",
       "197  [b'\\x97', b'\\xbd', b'\\xf5', b'>', b'$', b'+', ...  \n",
       "198  [b'\\xa2', b'\\x08', b'\\xaa', b'>', b'\\xbe', b'\\...  \n",
       "199  [b'\\xb6', b'\\x80', b'\\x90', b'>', b'\\xb2', b'\\...  \n",
       "\n",
       "[200 rows x 4 columns]"
      ]
     },
     "execution_count": 7,
     "metadata": {},
     "output_type": "execute_result"
    }
   ],
   "source": [
    "%%thanosql\n",
    "CONVERT USING my_image_search_model\n",
    "OPTIONS (\n",
    "    table_name='mnist_test',\n",
    "    image_col='image_path',\n",
    "    result_col='convert_result'\n",
    "    )\n",
    "AS\n",
    "SELECT *\n",
    "FROM mnist_test"
   ]
  },
  {
   "cell_type": "markdown",
   "id": "ccb189a3",
   "metadata": {},
   "source": [
    "<div class=\"admonition note\">\n",
    "    <h4 class=\"admonition-title\">쿼리 세부 정보</h4>\n",
    "    <ul>\n",
    "        <li>\"<strong>CONVERT USING</strong>\" 쿼리 구문은 <strong>my_image_search_model</strong> 모델을 이미지 수치화를 위한 알고리즘으로 사용합니다.</li>\n",
    "        <li>\"<strong>OPTIONS</strong>\" 쿼리 구문을 통해 이미지 수치화 시 필요한 변수들을 정의합니다.\n",
    "        <ul>\n",
    "            <li>\"table_name\": ThanoSQL 워크스페이스 데이터베이스 내에 저장될 테이블 이름. 기존에 사용한 테이블 이름으로 지정할 경우, 기존 테이블은 'convert_result' 컬럼을 추가한 테이블로 대체. 지정하지 않을 시 테이블을 저장하지 않음 (str, optional)</li>\n",
    "            <li>\"image_col\": 데이터 테이블에서 이미지의 경로를 담은 컬럼 (str, default: 'image_path')</li>\n",
    "            <li>\"result_col\": 데이터 테이블에서 수치화된 결과를 담을 컬럼 이름 (str, optional, default: 'convert_result')</li>\n",
    "        </ul>\n",
    "        </li>\n",
    "    </ul>\n",
    "</div>"
   ]
  },
  {
   "cell_type": "markdown",
   "id": "1c16f866-b5b4-4540-a848-30d0cd459165",
   "metadata": {},
   "source": [
    "## __3. 이미지 수치화 모델을 사용하여 유사 이미지 검색__\n",
    "\n",
    "이번 단계에서는 __my_image_search_model__ 이미지 수치화 모델과 테스트 테이블을 사용하여 \"923.jpg\" 이미지 파일(손글씨 8)과 유사한 이미지를 검색합니다.\n",
    "\n",
    "<a href=\"https://docs.thanosql.ai/img/thanosql_search/search_image_by_image/simclr_img8.png\">\n",
    "    <img alt=\"IMAGE\" src=\"https://docs.thanosql.ai/img/thanosql_search/search_image_by_image/simclr_img8.png\" style=\"width:100px\">\n",
    "</a>\n",
    "\n",
    "<p style=\"text-align:center\">923.jpg 이미지파일</p>"
   ]
  },
  {
   "cell_type": "code",
   "execution_count": 8,
   "id": "61e0de08-b6a7-4087-8691-230243aab016",
   "metadata": {
    "execution": {
     "iopub.execute_input": "2023-01-25T07:40:52.079956Z",
     "iopub.status.busy": "2023-01-25T07:40:52.079658Z",
     "iopub.status.idle": "2023-01-25T07:40:53.364409Z",
     "shell.execute_reply": "2023-01-25T07:40:53.363770Z",
     "shell.execute_reply.started": "2023-01-25T07:40:52.079939Z"
    }
   },
   "outputs": [
    {
     "data": {
      "text/html": [
       "<div>\n",
       "<style scoped>\n",
       "    .dataframe tbody tr th:only-of-type {\n",
       "        vertical-align: middle;\n",
       "    }\n",
       "\n",
       "    .dataframe tbody tr th {\n",
       "        vertical-align: top;\n",
       "    }\n",
       "\n",
       "    .dataframe thead th {\n",
       "        text-align: right;\n",
       "    }\n",
       "</style>\n",
       "<table border=\"1\" class=\"dataframe\">\n",
       "  <thead>\n",
       "    <tr style=\"text-align: right;\">\n",
       "      <th></th>\n",
       "      <th>image_path</th>\n",
       "      <th>filename</th>\n",
       "      <th>label</th>\n",
       "      <th>convert_result</th>\n",
       "      <th>search_result</th>\n",
       "    </tr>\n",
       "  </thead>\n",
       "  <tbody>\n",
       "    <tr>\n",
       "      <th>0</th>\n",
       "      <td>thanosql-dataset/mnist_data/test/923.jpg</td>\n",
       "      <td>923.jpg</td>\n",
       "      <td>8</td>\n",
       "      <td>[b'r', b'V', b'\\x80', b'&gt;', b'h', b'\\xc2', b'\\...</td>\n",
       "      <td>1.000000</td>\n",
       "    </tr>\n",
       "    <tr>\n",
       "      <th>1</th>\n",
       "      <td>thanosql-dataset/mnist_data/test/5087.jpg</td>\n",
       "      <td>5087.jpg</td>\n",
       "      <td>8</td>\n",
       "      <td>[b'\\xb6', b'\\x80', b'\\x90', b'&gt;', b'\\xb2', b'\\...</td>\n",
       "      <td>0.983679</td>\n",
       "    </tr>\n",
       "    <tr>\n",
       "      <th>2</th>\n",
       "      <td>thanosql-dataset/mnist_data/test/6573.jpg</td>\n",
       "      <td>6573.jpg</td>\n",
       "      <td>8</td>\n",
       "      <td>[b'\\xec', b'\\x17', b'K', b'&gt;', b'\\xa2', b'C', ...</td>\n",
       "      <td>0.983434</td>\n",
       "    </tr>\n",
       "    <tr>\n",
       "      <th>3</th>\n",
       "      <td>thanosql-dataset/mnist_data/test/7645.jpg</td>\n",
       "      <td>7645.jpg</td>\n",
       "      <td>8</td>\n",
       "      <td>[b' ', b'z', b'\\x86', b'&gt;', b'E', b'\\x1b', b'\\...</td>\n",
       "      <td>0.982089</td>\n",
       "    </tr>\n",
       "    <tr>\n",
       "      <th>4</th>\n",
       "      <td>thanosql-dataset/mnist_data/test/685.jpg</td>\n",
       "      <td>685.jpg</td>\n",
       "      <td>8</td>\n",
       "      <td>[b'\\xaa', b'C', b'\\x98', b'&gt;', b'\"', b'_', b'a...</td>\n",
       "      <td>0.979835</td>\n",
       "    </tr>\n",
       "    <tr>\n",
       "      <th>...</th>\n",
       "      <td>...</td>\n",
       "      <td>...</td>\n",
       "      <td>...</td>\n",
       "      <td>...</td>\n",
       "      <td>...</td>\n",
       "    </tr>\n",
       "    <tr>\n",
       "      <th>195</th>\n",
       "      <td>thanosql-dataset/mnist_data/test/2220.jpg</td>\n",
       "      <td>2220.jpg</td>\n",
       "      <td>4</td>\n",
       "      <td>[b'@', b'\\xec', b'\\xcb', b'&gt;', b'H', b'\\xb8', ...</td>\n",
       "      <td>0.958198</td>\n",
       "    </tr>\n",
       "    <tr>\n",
       "      <th>196</th>\n",
       "      <td>thanosql-dataset/mnist_data/test/7884.jpg</td>\n",
       "      <td>7884.jpg</td>\n",
       "      <td>5</td>\n",
       "      <td>[b'\\xc9', b'3', b'\\xcb', b'&gt;', b'\\x12', b'\\xc2...</td>\n",
       "      <td>0.957827</td>\n",
       "    </tr>\n",
       "    <tr>\n",
       "      <th>197</th>\n",
       "      <td>thanosql-dataset/mnist_data/test/2488.jpg</td>\n",
       "      <td>2488.jpg</td>\n",
       "      <td>7</td>\n",
       "      <td>[b'?', b'\\xb3', b'\\xab', b'&gt;', b'7', b'\\xa8', ...</td>\n",
       "      <td>0.956993</td>\n",
       "    </tr>\n",
       "    <tr>\n",
       "      <th>198</th>\n",
       "      <td>thanosql-dataset/mnist_data/test/7176.jpg</td>\n",
       "      <td>7176.jpg</td>\n",
       "      <td>1</td>\n",
       "      <td>[b'4', b'M', b'\\x13', b'?', b'{', b'\\x0f', b'\\...</td>\n",
       "      <td>0.955657</td>\n",
       "    </tr>\n",
       "    <tr>\n",
       "      <th>199</th>\n",
       "      <td>thanosql-dataset/mnist_data/test/9258.jpg</td>\n",
       "      <td>9258.jpg</td>\n",
       "      <td>2</td>\n",
       "      <td>[b'7', b'\\xdb', b'\\x9e', b'&gt;', b'\\x86', b'\\x10...</td>\n",
       "      <td>0.952851</td>\n",
       "    </tr>\n",
       "  </tbody>\n",
       "</table>\n",
       "<p>200 rows × 5 columns</p>\n",
       "</div>"
      ],
      "text/plain": [
       "                                    image_path  filename  label  \\\n",
       "0     thanosql-dataset/mnist_data/test/923.jpg   923.jpg      8   \n",
       "1    thanosql-dataset/mnist_data/test/5087.jpg  5087.jpg      8   \n",
       "2    thanosql-dataset/mnist_data/test/6573.jpg  6573.jpg      8   \n",
       "3    thanosql-dataset/mnist_data/test/7645.jpg  7645.jpg      8   \n",
       "4     thanosql-dataset/mnist_data/test/685.jpg   685.jpg      8   \n",
       "..                                         ...       ...    ...   \n",
       "195  thanosql-dataset/mnist_data/test/2220.jpg  2220.jpg      4   \n",
       "196  thanosql-dataset/mnist_data/test/7884.jpg  7884.jpg      5   \n",
       "197  thanosql-dataset/mnist_data/test/2488.jpg  2488.jpg      7   \n",
       "198  thanosql-dataset/mnist_data/test/7176.jpg  7176.jpg      1   \n",
       "199  thanosql-dataset/mnist_data/test/9258.jpg  9258.jpg      2   \n",
       "\n",
       "                                        convert_result  search_result  \n",
       "0    [b'r', b'V', b'\\x80', b'>', b'h', b'\\xc2', b'\\...       1.000000  \n",
       "1    [b'\\xb6', b'\\x80', b'\\x90', b'>', b'\\xb2', b'\\...       0.983679  \n",
       "2    [b'\\xec', b'\\x17', b'K', b'>', b'\\xa2', b'C', ...       0.983434  \n",
       "3    [b' ', b'z', b'\\x86', b'>', b'E', b'\\x1b', b'\\...       0.982089  \n",
       "4    [b'\\xaa', b'C', b'\\x98', b'>', b'\"', b'_', b'a...       0.979835  \n",
       "..                                                 ...            ...  \n",
       "195  [b'@', b'\\xec', b'\\xcb', b'>', b'H', b'\\xb8', ...       0.958198  \n",
       "196  [b'\\xc9', b'3', b'\\xcb', b'>', b'\\x12', b'\\xc2...       0.957827  \n",
       "197  [b'?', b'\\xb3', b'\\xab', b'>', b'7', b'\\xa8', ...       0.956993  \n",
       "198  [b'4', b'M', b'\\x13', b'?', b'{', b'\\x0f', b'\\...       0.955657  \n",
       "199  [b'7', b'\\xdb', b'\\x9e', b'>', b'\\x86', b'\\x10...       0.952851  \n",
       "\n",
       "[200 rows x 5 columns]"
      ]
     },
     "execution_count": 8,
     "metadata": {},
     "output_type": "execute_result"
    }
   ],
   "source": [
    "%%thanosql\n",
    "SEARCH IMAGE\n",
    "USING my_image_search_model\n",
    "OPTIONS (\n",
    "    search_by='image',\n",
    "    search_input='thanosql-dataset/mnist_data/test/923.jpg',\n",
    "    emb_col='convert_result',\n",
    "    result_col='search_result'\n",
    "    )\n",
    "AS\n",
    "SELECT *\n",
    "FROM mnist_test"
   ]
  },
  {
   "cell_type": "markdown",
   "id": "9871fe36",
   "metadata": {},
   "source": [
    "<div class=\"admonition note\">\n",
    "    <h4 class=\"admonition-title\">쿼리 세부 정보</h4>\n",
    "    <ul>\n",
    "        <li>\"<strong>SEARCH IMAGE [image|text|audio|video]</strong>\" 쿼리 구문은 검색하고자 하는 이미지|텍스트|오디오|비디오 파일을 정의합니다.</li>\n",
    "        <li>\"<strong>USING</strong>\"은 이미지 수치화에 사용할 모델을 정의합니다.</li>\n",
    "        <li>\"<strong>OPTIONS</strong>\" 쿼리 구문을 통해 이미지 검색 시 필요한 변수들을 정의합니다.\n",
    "        <ul>\n",
    "                <li>\"search_by\": 검색할 때 사용할 이미지|텍스트|오디오|비디오 타입 (str)</li>\n",
    "                <li>\"search_input\": 검색할 때 사용할 입력값 (str)</li>\n",
    "                <li>\"emb_col\": 데이터 테이블에서 수치화된 결과를 담은 컬럼 (str)</li>\n",
    "                <li>\"result_col\": 데이터 테이블에서 검색 결과를 담을 컬럼 이름 (str, optional, default: 'search_result')</li>\n",
    "        </ul>\n",
    "        </li>\n",
    "        <li>\"<strong>AS</strong>\" 쿼리 구문은 검색에 사용할 임베딩 테이블을 정의합니다. <strong>mnist_test</strong> 테이블을 사용합니다.</li>\n",
    "    </ul>\n",
    "</div>"
   ]
  },
  {
   "cell_type": "markdown",
   "id": "12953f08",
   "metadata": {},
   "source": [
    "다음 쿼리를 실행하여 \"__SEARCH__\" 결과를 ThanoSQL의 \"__PRINT__\" 쿼리 구문을 활용하여 가장 유사한 상위 4개를 출력합니다. 학습을 조금 밖에 진행하지 않았지만 8과 비슷한 이미지를 출력하는 것을 확인할 수 있습니다."
   ]
  },
  {
   "cell_type": "code",
   "execution_count": 9,
   "id": "77af4961-def3-4884-bea2-b8e917d9ae87",
   "metadata": {
    "execution": {
     "iopub.execute_input": "2023-01-25T07:40:53.365328Z",
     "iopub.status.busy": "2023-01-25T07:40:53.365155Z",
     "iopub.status.idle": "2023-01-25T07:40:54.759088Z",
     "shell.execute_reply": "2023-01-25T07:40:54.758486Z",
     "shell.execute_reply.started": "2023-01-25T07:40:53.365311Z"
    }
   },
   "outputs": [
    {
     "name": "stdout",
     "output_type": "stream",
     "text": [
      "/home/jovyan/thanosql-dataset/mnist_data/test/923.jpg\n"
     ]
    },
    {
     "data": {
      "image/jpeg": "[encoded data removed]",
      "text/plain": [
       "<IPython.core.display.Image object>"
      ]
     },
     "metadata": {
      "image/jpeg": {
       "height": 240,
       "width": 240
      }
     },
     "output_type": "display_data"
    },
    {
     "name": "stdout",
     "output_type": "stream",
     "text": [
      "/home/jovyan/thanosql-dataset/mnist_data/test/5087.jpg\n"
     ]
    },
    {
     "data": {
      "image/jpeg": "[encoded data removed]",
      "text/plain": [
       "<IPython.core.display.Image object>"
      ]
     },
     "metadata": {
      "image/jpeg": {
       "height": 240,
       "width": 240
      }
     },
     "output_type": "display_data"
    },
    {
     "name": "stdout",
     "output_type": "stream",
     "text": [
      "/home/jovyan/thanosql-dataset/mnist_data/test/6573.jpg\n"
     ]
    },
    {
     "data": {
      "image/jpeg": "[encoded data removed]",
      "text/plain": [
       "<IPython.core.display.Image object>"
      ]
     },
     "metadata": {
      "image/jpeg": {
       "height": 240,
       "width": 240
      }
     },
     "output_type": "display_data"
    },
    {
     "name": "stdout",
     "output_type": "stream",
     "text": [
      "/home/jovyan/thanosql-dataset/mnist_data/test/7645.jpg\n"
     ]
    },
    {
     "data": {
      "image/jpeg": "[encoded data removed]",
      "text/plain": [
       "<IPython.core.display.Image object>"
      ]
     },
     "metadata": {
      "image/jpeg": {
       "height": 240,
       "width": 240
      }
     },
     "output_type": "display_data"
    }
   ],
   "source": [
    "%%thanosql\n",
    "PRINT IMAGE\n",
    "AS (\n",
    "    SELECT image_path, search_result\n",
    "    FROM (\n",
    "        SEARCH IMAGE \n",
    "        USING my_image_search_model\n",
    "        OPTIONS (\n",
    "            search_by='image',\n",
    "            search_input='thanosql-dataset/mnist_data/test/923.jpg',\n",
    "            emb_col='convert_result',\n",
    "            result_col='search_result',\n",
    "            top_k=4\n",
    "            )\n",
    "        AS\n",
    "        SELECT *\n",
    "        FROM mnist_test\n",
    "        )\n",
    "    )"
   ]
  },
  {
   "cell_type": "markdown",
   "id": "517479e8",
   "metadata": {},
   "source": [
    "<div class=\"admonition danger\">\n",
    "    <h4 class=\"admonition-title\">참고 사항</h4>\n",
    "    <p>이미지 유사도 검색 알고리즘의 기본 학습 옵션은 이미지의 좌우상하 반전, 색상의 변화 등에 관계없이 모두 같은 이미지로 인식하도록 학습이 진행 됩니다. 강아지의 사진은 뒤집히거나 색이 변해도 강아지로 인식되어야 하기 때문입니다. 의류 이미지 등과 같이 색의 변화가 중요하거나 숫자 처럼 상하, 좌우 반전이 중요한 경우 학습 시 옵션을 변경해 주어야 합니다. 본 튜토리얼에서는 이러한 이미지 유사도 검색의 특징을 보여주고 있습니다.</p>\n",
    "</div>"
   ]
  },
  {
   "cell_type": "markdown",
   "id": "cae8f0cd",
   "metadata": {},
   "source": [
    "## __4. 튜토리얼을 마치며__\n",
    "\n",
    "이번 튜토리얼에서는 MNIST 손글씨 데이터 세트를 사용하여 이미지 수치화와 수치화 결과를 바탕으로한 유사 이미지 검색까지 진행해 보았습니다. 이번 튜토리얼에서는 이미지 유사도의 정확도보다도 작동 위주의 설명으로 진행하였습니다. 이미지 수치화 모델은 각 이미지 데이터 세트에 맞는 정밀한 튜닝과 소량의 정답을 학습 시에 추가하여 정확도를 향상 시킬 수 있습니다.\n",
    "\n",
    "* [나만의 데이터 업로드하기](https://docs.thanosql.ai/ko/getting_started/data_upload/)\n",
    "* [나만의 데이터 테이블 생성하기](https://docs.thanosql.ai/ko/how-to_guides/ThanoSQL_query/COPY_SYNTAX/)\n",
    "* [나만의 모델 업로드하기](https://docs.thanosql.ai/ko/how-to_guides/ThanoSQL_query/UPLOAD_MODEL_SYNTAX/)\n",
    "\n",
    "<div class=\"admonition tip\">\n",
    "    <h4 class=\"admonition-title\">나만의 서비스를 위한 모델 배포 관련 문의</h4>\n",
    "    <p>ThanoSQL을 활용해 나만의 모델을 만들거나, 나의 서비스에 적용하는데 어려움이 있다면 언제든 아래로 문의주세요😊</p>\n",
    "    <p>유사 이미지 검색 모델 구축 관련 문의: <a href=\"mailto:contact@smartmind.team\">contact@smartmind.team</a></p>\n",
    "</div>"
   ]
  }
 ],
 "metadata": {
  "kernelspec": {
   "display_name": "Python 3 (ipykernel)",
   "language": "python",
   "name": "python3"
  },
  "language_info": {
   "codemirror_mode": {
    "name": "ipython",
    "version": 3
   },
   "file_extension": ".py",
   "mimetype": "text/x-python",
   "name": "python",
   "nbconvert_exporter": "python",
   "pygments_lexer": "ipython3",
   "version": "3.8.13"
  },
  "vscode": {
   "interpreter": {
    "hash": "aee8b7b246df8f9039afb4144a1f6fd8d2ca17a180786b69acc140d282b71a49"
   }
  }
 },
 "nbformat": 4,
 "nbformat_minor": 5
}
