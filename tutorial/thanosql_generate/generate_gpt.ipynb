{
 "cells": [
  {
   "attachments": {},
   "cell_type": "markdown",
   "id": "e43f86f8-a77c-4f93-a194-5c8dbd954871",
   "metadata": {},
   "source": [
    "# __생성형 모델로 다양한 기능 수행하기__"
   ]
  },
  {
   "attachments": {},
   "cell_type": "markdown",
   "id": "7b921af2-01c2-4225-823c-4f0a092b0366",
   "metadata": {},
   "source": [
    "- 튜토리얼 난이도: ★☆☆☆☆\n",
    "- 읽는데 걸리는 시간: 7분\n",
    "- 사용 언어: [SQL](https://ko.wikipedia.org/wiki/SQL) (100%)\n",
    "- 실행 파일 위치: tutorial/thanosql_generate/generate_gpt.ipynb   "
   ]
  },
  {
   "attachments": {},
   "cell_type": "markdown",
   "id": "6b65969e-dd45-4881-a5b3-4c140f4d8e58",
   "metadata": {},
   "source": [
    "## 튜토리얼 소개\n",
    " \n",
    "<div class=\"admonition note\">\n",
    "    <h4 class=\"admonition-title\">본 튜토리얼에서는</h4>\n",
    "    <p>👉 이번 튜토리얼에서는 성형외과 VOC 데이터 세트를 사용합니다. 각 VOC는 고객과 상담사가 나눈 상담 내용을 담고 있으며 tx와 rx로 화자가 구분되어 있습니다.\n",
    "</div>\n",
    "    \n",
    "ThanoSQL을 사용하여 VOC 데이터를 입력하고 다양한 생성형 기능들을 수행해 봅니다."
   ]
  },
  {
   "attachments": {},
   "cell_type": "markdown",
   "id": "5fd38a02-06a5-405b-82e0-b074a3dbf589",
   "metadata": {},
   "source": [
    "## __0. 데이터 세트 준비__\n",
    "\n",
    "ThanoSQL의 쿼리 구문을 사용하기 위해서는 [ThanoSQL 워크스페이스](https://docs.thanosql.ai/ko/getting_started/paas/workspace/lab/)에서 언급된 것처럼 API 토큰을 생성하고 아래의 쿼리를 실행해야 합니다."
   ]
  },
  {
   "cell_type": "code",
   "execution_count": null,
   "id": "cbcccdc6-d416-4064-a7c6-7d10c228171a",
   "metadata": {},
   "outputs": [],
   "source": [
    "%load_ext thanosql\n",
    "%thanosql API_TOKEN=<발급받은_API_TOKEN>"
   ]
  },
  {
   "attachments": {},
   "cell_type": "markdown",
   "id": "a3fc89e5-600a-4c5f-bba2-289a425db405",
   "metadata": {},
   "source": [
    "### __데이터 세트 준비__"
   ]
  },
  {
   "cell_type": "code",
   "execution_count": 2,
   "id": "ad07a885-ee2e-4eeb-a2f0-634af9b3b843",
   "metadata": {
    "execution": {
     "iopub.execute_input": "2023-01-25T07:40:37.303077Z",
     "iopub.status.busy": "2023-01-25T07:40:37.302351Z",
     "iopub.status.idle": "2023-01-25T07:40:39.712526Z",
     "shell.execute_reply": "2023-01-25T07:40:39.711756Z",
     "shell.execute_reply.started": "2023-01-25T07:40:37.303058Z"
    }
   },
   "outputs": [
    {
     "name": "stdout",
     "output_type": "stream",
     "text": [
      "Success\n"
     ]
    }
   ],
   "source": [
    "%%thanosql\n",
    "GET THANOSQL DATASET healthcare_data\n",
    "OPTIONS (overwrite=True)"
   ]
  },
  {
   "attachments": {},
   "cell_type": "markdown",
   "id": "77319ae0",
   "metadata": {},
   "source": [
    "<div class=\"admonition note\">\n",
    "    <h4 class=\"admonition-title\">쿼리 세부 정보</h4>\n",
    "    <ul>\n",
    "        <li>\"<strong>GET THANOSQL DATASET</strong>\" 쿼리 구문을 사용하여 원하는 데이터 세트를 워크스페이스에 저장합니다.</li>\n",
    "        <li>\"<strong>OPTIONS</strong>\" 쿼리 구문을 통해 <strong>GET THANOSQL DATASET</strong>에 사용할 옵션을 지정합니다.\n",
    "        <ul>\n",
    "            <li>\"overwrite\": 동일 이름의 데이터 세트가 존재하는 경우 덮어쓰기 가능 여부 설정. True일 경우 기존 데이터 세트는 새로운 데이터 세트로 변경됨 (bool, optional, True|False, default: False)</li>\n",
    "        </ul>\n",
    "        </li>\n",
    "    </ul>\n",
    "</div>"
   ]
  },
  {
   "cell_type": "code",
   "execution_count": 3,
   "id": "63661751-7e32-48f7-84fa-1dd205cc5d6d",
   "metadata": {
    "execution": {
     "iopub.execute_input": "2023-01-25T07:40:39.713617Z",
     "iopub.status.busy": "2023-01-25T07:40:39.713425Z",
     "iopub.status.idle": "2023-01-25T07:40:41.290348Z",
     "shell.execute_reply": "2023-01-25T07:40:41.289635Z",
     "shell.execute_reply.started": "2023-01-25T07:40:39.713600Z"
    }
   },
   "outputs": [
    {
     "name": "stdout",
     "output_type": "stream",
     "text": [
      "Success\n"
     ]
    }
   ],
   "source": [
    "%%thanosql\n",
    "COPY healthcare_test\n",
    "OPTIONS (if_exists='replace')\n",
    "FROM 'thanosql-dataset/healthcare_data/healthcare_test.csv'"
   ]
  },
  {
   "attachments": {},
   "cell_type": "markdown",
   "id": "542deaf1-606f-49ea-9b6d-5721050ff2bf",
   "metadata": {
    "tags": []
   },
   "source": [
    "## __1. 데이터 세트 확인__"
   ]
  },
  {
   "cell_type": "code",
   "execution_count": 5,
   "id": "242430e8-09f5-4f2c-9133-21015fc0acf8",
   "metadata": {
    "execution": {
     "iopub.execute_input": "2023-01-25T07:40:42.255182Z",
     "iopub.status.busy": "2023-01-25T07:40:42.255001Z",
     "iopub.status.idle": "2023-01-25T07:40:43.257434Z",
     "shell.execute_reply": "2023-01-25T07:40:43.256750Z",
     "shell.execute_reply.started": "2023-01-25T07:40:42.255166Z"
    }
   },
   "outputs": [
    {
     "data": {
      "text/html": [
       "<div>\n",
       "<style scoped>\n",
       "    .dataframe tbody tr th:only-of-type {\n",
       "        vertical-align: middle;\n",
       "    }\n",
       "\n",
       "    .dataframe tbody tr th {\n",
       "        vertical-align: top;\n",
       "    }\n",
       "\n",
       "    .dataframe thead th {\n",
       "        text-align: right;\n",
       "    }\n",
       "</style>\n",
       "<table border=\"1\" class=\"dataframe\">\n",
       "  <thead>\n",
       "    <tr style=\"text-align: right;\">\n",
       "      <th></th>\n",
       "      <th>image_path</th>\n",
       "      <th>filename</th>\n",
       "      <th>label</th>\n",
       "    </tr>\n",
       "  </thead>\n",
       "  <tbody>\n",
       "    <tr>\n",
       "      <th>0</th>\n",
       "      <td>thanosql-dataset/mnist_data/train/6782.jpg</td>\n",
       "      <td>6782.jpg</td>\n",
       "      <td>5</td>\n",
       "    </tr>\n",
       "    <tr>\n",
       "      <th>1</th>\n",
       "      <td>thanosql-dataset/mnist_data/train/1810.jpg</td>\n",
       "      <td>1810.jpg</td>\n",
       "      <td>5</td>\n",
       "    </tr>\n",
       "    <tr>\n",
       "      <th>2</th>\n",
       "      <td>thanosql-dataset/mnist_data/train/33617.jpg</td>\n",
       "      <td>33617.jpg</td>\n",
       "      <td>5</td>\n",
       "    </tr>\n",
       "    <tr>\n",
       "      <th>3</th>\n",
       "      <td>thanosql-dataset/mnist_data/train/27802.jpg</td>\n",
       "      <td>27802.jpg</td>\n",
       "      <td>5</td>\n",
       "    </tr>\n",
       "    <tr>\n",
       "      <th>4</th>\n",
       "      <td>thanosql-dataset/mnist_data/train/50677.jpg</td>\n",
       "      <td>50677.jpg</td>\n",
       "      <td>5</td>\n",
       "    </tr>\n",
       "  </tbody>\n",
       "</table>\n",
       "</div>"
      ],
      "text/plain": [
       "                                    image_path   filename  label\n",
       "0   thanosql-dataset/mnist_data/train/6782.jpg   6782.jpg      5\n",
       "1   thanosql-dataset/mnist_data/train/1810.jpg   1810.jpg      5\n",
       "2  thanosql-dataset/mnist_data/train/33617.jpg  33617.jpg      5\n",
       "3  thanosql-dataset/mnist_data/train/27802.jpg  27802.jpg      5\n",
       "4  thanosql-dataset/mnist_data/train/50677.jpg  50677.jpg      5"
      ]
     },
     "execution_count": 5,
     "metadata": {},
     "output_type": "execute_result"
    }
   ],
   "source": [
    "%%thanosql\n",
    "SELECT *\n",
    "FROM healthcare_test\n",
    "LIMIT 5"
   ]
  },
  {
   "attachments": {},
   "cell_type": "markdown",
   "id": "fd02e1f5",
   "metadata": {},
   "source": [
    "<div class=\"admonition note\">\n",
    "    <h4 class=\"admonition-title\">데이터 테이블 이해하기</h4>\n",
    "    <p><strong>healthcare_test</strong> 테이블은 아래와 같은 정보를 담고 있습니다.</p>\n",
    "    <ul>\n",
    "        <li>cleaned_text: VOC 전사 텍스트</li>\n",
    "    </ul>\n",
    "</div>"
   ]
  },
  {
   "attachments": {},
   "cell_type": "markdown",
   "id": "2b4f3acf-f218-4d51-b671-7651632290ec",
   "metadata": {},
   "source": [
    "## __2. FAQ 생성__"
   ]
  },
  {
   "cell_type": "code",
   "execution_count": null,
   "id": "3630f8f7-8229-49f5-ae32-51011e1e37c8",
   "metadata": {
    "execution": {
     "iopub.execute_input": "2023-01-25T07:40:43.258320Z",
     "iopub.status.busy": "2023-01-25T07:40:43.258152Z",
     "iopub.status.idle": "2023-01-25T07:40:50.488615Z",
     "shell.execute_reply": "2023-01-25T07:40:50.487969Z",
     "shell.execute_reply.started": "2023-01-25T07:40:43.258303Z"
    }
   },
   "outputs": [
    {
     "name": "stdout",
     "output_type": "stream",
     "text": [
      "Success\n"
     ]
    }
   ],
   "source": [
    "%%thanosql\n",
    "GENERATE USING GPT\n",
    "OPTIONS (\n",
    "    task = 'faq', \n",
    "    text_col='cleaned_text',\n",
    "    result_col='faq_result'\n",
    "    )\n",
    "AS \n",
    "SELECT *\n",
    "FROM healthcare_test"
   ]
  },
  {
   "attachments": {},
   "cell_type": "markdown",
   "id": "1e173c0d",
   "metadata": {},
   "source": [
    "<div class=\"admonition note\">\n",
    "    <h4 class=\"admonition-title\">쿼리 세부 정보</h4>\n",
    "    <ul>\n",
    "        <li>\"<strong>GENERATE</strong>\" 쿼리 구문을 통해 생성형 모델로 특정 기능을 실행합니다.</li>\n",
    "        <li>\"<strong>USING</strong>\" 쿼리 구문을 통해 생성형 모델로 <strong>GPT</strong>을 사용할 것을 명시합니다.</li>\n",
    "        <li>\"<strong>OPTIONS</strong>\" 쿼리 구문을 통해 모델에 사용할 옵션을 지정합니다.\n",
    "        <ul>\n",
    "            <li>\"task\": 생성형 모델로 실행할 테스크명</li>\n",
    "            <li>\"text_col\": FAQ 생성에 입력될 인풋 칼럼명</li>\n",
    "            <li>\"result_col\": FAQ 결괏값을 저장할 칼럼명</li>\n",
    "        </ul>\n",
    "        </li>\n",
    "    </ul>\n",
    "</div>"
   ]
  },
  {
   "cell_type": "markdown",
   "id": "4ffaf644",
   "metadata": {},
   "source": [
    "## __3. 키워드 추출__"
   ]
  },
  {
   "cell_type": "code",
   "execution_count": null,
   "id": "0abffc4b-aec9-444a-9546-dce181190f08",
   "metadata": {
    "execution": {
     "iopub.execute_input": "2023-01-25T07:40:50.489588Z",
     "iopub.status.busy": "2023-01-25T07:40:50.489415Z",
     "iopub.status.idle": "2023-01-25T07:40:52.078937Z",
     "shell.execute_reply": "2023-01-25T07:40:52.078380Z",
     "shell.execute_reply.started": "2023-01-25T07:40:50.489571Z"
    }
   },
   "outputs": [],
   "source": [
    "%%thanosql\n",
    "GENERATE USING GPT\n",
    "OPTIONS (\n",
    "    task = 'keywords', \n",
    "    text_col='cleaned_text',\n",
    "    result_col='keywords_result'\n",
    "    )\n",
    "AS \n",
    "SELECT *\n",
    "FROM healthcare_test"
   ]
  },
  {
   "attachments": {},
   "cell_type": "markdown",
   "id": "ccb189a3",
   "metadata": {},
   "source": [
    "<div class=\"admonition note\">\n",
    "    <h4 class=\"admonition-title\">쿼리 세부 정보</h4>\n",
    "    <ul>\n",
    "        <li>\"<strong>GENERATE</strong>\" 쿼리 구문을 통해 생성형 모델로 특정 기능을 실행합니다.</li>\n",
    "        <li>\"<strong>USING</strong>\" 쿼리 구문을 통해 생성형 모델로 <strong>GPT</strong>을 사용할 것을 명시합니다.</li>\n",
    "        <li>\"<strong>OPTIONS</strong>\" 쿼리 구문을 통해 모델에 사용할 옵션을 지정합니다.\n",
    "        <ul>\n",
    "            <li>\"task\": 생성형 모델로 실행할 테스크명</li>\n",
    "            <li>\"text_col\": 키워드 추출에 입력될 인풋 칼럼명</li>\n",
    "            <li>\"result_col\": 키워드 추출 결괏값을 저장할 칼럼명</li>\n",
    "        </ul>\n",
    "        </li>\n",
    "    </ul>\n",
    "</div>"
   ]
  },
  {
   "cell_type": "markdown",
   "id": "131a2f2f",
   "metadata": {},
   "source": [
    "## __4. 서비스 평가__"
   ]
  },
  {
   "cell_type": "code",
   "execution_count": null,
   "id": "d8ec9088",
   "metadata": {},
   "outputs": [],
   "source": [
    "%%thanosql\n",
    "GENERATE USING GPT\n",
    "OPTIONS (\n",
    "    task = 'service_evaluation', \n",
    "    text_col='cleaned_text',\n",
    "    result_col='service_evaluation_result'\n",
    "    )\n",
    "AS \n",
    "SELECT *\n",
    "FROM healthcare_test"
   ]
  },
  {
   "cell_type": "markdown",
   "id": "09576bd7",
   "metadata": {},
   "source": [
    "<div class=\"admonition note\">\n",
    "    <h4 class=\"admonition-title\">쿼리 세부 정보</h4>\n",
    "    <ul>\n",
    "        <li>\"<strong>GENERATE</strong>\" 쿼리 구문을 통해 생성형 모델로 특정 기능을 실행합니다.</li>\n",
    "        <li>\"<strong>USING</strong>\" 쿼리 구문을 통해 생성형 모델로 <strong>GPT</strong>을 사용할 것을 명시합니다.</li>\n",
    "        <li>\"<strong>OPTIONS</strong>\" 쿼리 구문을 통해 모델에 사용할 옵션을 지정합니다.\n",
    "        <ul>\n",
    "            <li>\"task\": 생성형 모델로 실행할 테스크명</li>\n",
    "            <li>\"text_col\": 서비스 평가에 입력될 인풋 칼럼명</li>\n",
    "            <li>\"result_col\": 서비스 평가 결괏값을 저장할 칼럼명</li>\n",
    "        </ul>\n",
    "        </li>\n",
    "    </ul>\n",
    "</div>"
   ]
  },
  {
   "cell_type": "markdown",
   "id": "ca0454fb",
   "metadata": {},
   "source": [
    "## __5. 내용 요약__"
   ]
  },
  {
   "cell_type": "code",
   "execution_count": null,
   "id": "9b413c51",
   "metadata": {},
   "outputs": [],
   "source": [
    "%%thanosql\n",
    "GENERATE USING GPT\n",
    "OPTIONS (\n",
    "    task = 'summary', \n",
    "    text_col='cleaned_text',\n",
    "    result_col='summary_result'\n",
    "    )\n",
    "AS \n",
    "SELECT *\n",
    "FROM healthcare_test"
   ]
  },
  {
   "cell_type": "markdown",
   "id": "ededa81e",
   "metadata": {},
   "source": [
    "<div class=\"admonition note\">\n",
    "    <h4 class=\"admonition-title\">쿼리 세부 정보</h4>\n",
    "    <ul>\n",
    "        <li>\"<strong>GENERATE</strong>\" 쿼리 구문을 통해 생성형 모델로 특정 기능을 실행합니다.</li>\n",
    "        <li>\"<strong>USING</strong>\" 쿼리 구문을 통해 생성형 모델로 <strong>GPT</strong>을 사용할 것을 명시합니다.</li>\n",
    "        <li>\"<strong>OPTIONS</strong>\" 쿼리 구문을 통해 모델에 사용할 옵션을 지정합니다.\n",
    "        <ul>\n",
    "            <li>\"task\": 생성형 모델로 실행할 테스크명</li>\n",
    "            <li>\"text_col\": 내용 요약에 입력될 인풋 칼럼명</li>\n",
    "            <li>\"result_col\": 내용 요약 결괏값을 저장할 칼럼명</li>\n",
    "        </ul>\n",
    "        </li>\n",
    "    </ul>\n",
    "</div>"
   ]
  },
  {
   "cell_type": "markdown",
   "id": "d25418ba",
   "metadata": {},
   "source": [
    "## __6. 감정 분석__"
   ]
  },
  {
   "cell_type": "code",
   "execution_count": null,
   "id": "2d40c6c3",
   "metadata": {},
   "outputs": [],
   "source": [
    "%%thanosql\n",
    "GENERATE USING GPT\n",
    "OPTIONS (\n",
    "    task = 'sentiment_analysis', \n",
    "    text_col='cleaned_text',\n",
    "    result_col='sentiment_analysis_result'\n",
    "    )\n",
    "AS \n",
    "SELECT *\n",
    "FROM healthcare_test"
   ]
  },
  {
   "cell_type": "markdown",
   "id": "629b4e73",
   "metadata": {},
   "source": [
    "<div class=\"admonition note\">\n",
    "    <h4 class=\"admonition-title\">쿼리 세부 정보</h4>\n",
    "    <ul>\n",
    "        <li>\"<strong>GENERATE</strong>\" 쿼리 구문을 통해 생성형 모델로 특정 기능을 실행합니다.</li>\n",
    "        <li>\"<strong>USING</strong>\" 쿼리 구문을 통해 생성형 모델로 <strong>GPT</strong>을 사용할 것을 명시합니다.</li>\n",
    "        <li>\"<strong>OPTIONS</strong>\" 쿼리 구문을 통해 모델에 사용할 옵션을 지정합니다.\n",
    "        <ul>\n",
    "            <li>\"task\": 생성형 모델로 실행할 테스크명</li>\n",
    "            <li>\"text_col\": 감정 분석에 입력될 인풋 칼럼명</li>\n",
    "            <li>\"result_col\": 감정 분석 결괏값을 저장할 칼럼명</li>\n",
    "        </ul>\n",
    "        </li>\n",
    "    </ul>\n",
    "</div>"
   ]
  },
  {
   "attachments": {},
   "cell_type": "markdown",
   "id": "cae8f0cd",
   "metadata": {},
   "source": [
    "## __7. 튜토리얼을 마치며__\n",
    "\n",
    "<div class=\"admonition tip\">\n",
    "    <h4 class=\"admonition-title\">나만의 서비스를 위한 모델 배포 관련 문의</h4>\n",
    "    <p>ThanoSQL을 활용해 나만의 모델을 만들거나, 나의 서비스에 적용하는데 어려움이 있다면 언제든 아래로 문의주세요😊</p>\n",
    "    <p>유사 이미지 검색 모델 구축 관련 문의: <a href=\"mailto:contact@smartmind.team\">contact@smartmind.team</a></p>\n",
    "</div>"
   ]
  }
 ],
 "metadata": {
  "kernelspec": {
   "display_name": "Python 3 (ipykernel)",
   "language": "python",
   "name": "python3"
  },
  "language_info": {
   "codemirror_mode": {
    "name": "ipython",
    "version": 3
   },
   "file_extension": ".py",
   "mimetype": "text/x-python",
   "name": "python",
   "nbconvert_exporter": "python",
   "pygments_lexer": "ipython3",
   "version": "3.8.13"
  },
  "vscode": {
   "interpreter": {
    "hash": "aee8b7b246df8f9039afb4144a1f6fd8d2ca17a180786b69acc140d282b71a49"
   }
  }
 },
 "nbformat": 4,
 "nbformat_minor": 5
}
