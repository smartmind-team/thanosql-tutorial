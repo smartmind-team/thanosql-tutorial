{
 "cells": [
  {
   "cell_type": "markdown",
   "id": "d7619d53-33a7-480a-91ec-dff71eefd99f",
   "metadata": {
    "tags": []
   },
   "source": [
    "# __Hello ThanoSQL!__\n",
    "\n",
    "ThanoSQL은 정형과 비정형 데이터 모두 SQL 만으로 쿼리(Query, 질의)와 AI(인공지능) 모델링이 가능한 통합 플랫폼입니다. RDB(Relational DataBase, 관계형 데이터베이스), AI 그리고 Big Data Platform의 기능을 하나의 플랫폼에서 적용할 수 있으며 AI 기반의 디지털 전환 시 발생하는 비효율성을 획기적으로 줄일 수 있습니다.\n",
    "\n",
    "- ThanoSQL은 정형과 비정형 데이터 모두 SQL만으로 쿼리가 가능하며, 빠른 AI 모델링이 가능합니다.\n",
    "- 람다 아키텍처 기반의 비정형 빅데이터 플랫폼을 ThanoSQL 하나로 대체하여 개발, 배포 그리고 운영을 하나의 프로세스로 가능하게 합니다.\n",
    "- 빅데이터 처리 및 분산 병렬처리 기술을 기반으로 하여 기존 대비 2배 이상 빠르게 데이터 처리가 가능합니다.\n",
    "\n",
    "## __ThanoSQL 워크스페이스 사용__\n",
    "ThanoSQL의 워크스페이스는 [Jupyter Lab](https://github.com/jupyterlab/jupyterlab)을 기반으로 하는 웹 기반 컴퓨팅 환경입니다.\n",
    "\n",
    "이 환경에서 `ThanoSQL`을 본격적으로 사용하기 위해서는 먼저 `thanosql` cell magic을 불러와야 합니다.\n",
    "\n",
    "(상단의 실행 버튼을 누르거나, `Ctrl + Enter` 혹은 `Shift + Enter` 단축키로도 실행할 수 있습니다.)"
   ]
  },
  {
   "cell_type": "code",
   "execution_count": 1,
   "id": "99673df8-293d-41ee-8f43-d6ffe3739f90",
   "metadata": {
    "tags": []
   },
   "outputs": [],
   "source": [
    "%load_ext thanosql"
   ]
  },
  {
   "cell_type": "markdown",
   "id": "7d421d64-ae65-43be-bc15-c31c036079fb",
   "metadata": {},
   "source": [
    "다음으로, 각 사용자의 워크스페이스 API_TOKEN 설정을 위해 브라우저 상단의 `Get API_TOKEN` 버튼을 누른 후 붙여넣기하여 설정해줍니다.\n",
    "\n",
    "```\n",
    "%thanosql API_TOKEN=<발급받은_API_TOKEN>\n",
    "\n",
    "예시)\n",
    "%thanosql API_TOKEN=eyJhbGciOiJIUzI1NiIsInR..\n",
    "```"
   ]
  },
  {
   "cell_type": "code",
   "execution_count": null,
   "id": "68fbbf28-ac43-4a46-93ff-89ece6ccab31",
   "metadata": {
    "tags": []
   },
   "outputs": [],
   "source": [
    "%thanosql API_TOKEN=<발급받은_API_TOKEN>"
   ]
  },
  {
   "cell_type": "markdown",
   "id": "80527c2b-c636-420d-97e0-e2fb4f7dc38d",
   "metadata": {},
   "source": [
    "`ThanoSQL`을 사용할 모든 준비가 끝났습니다.\n",
    "\n",
    "아래 ThanoSQL문을 실행시키면 Pre-built된 ThanoSQL 모델 목록을 확인 할 수 있습니다."
   ]
  },
  {
   "cell_type": "code",
   "execution_count": 3,
   "id": "702ea2c1-fbd5-4de1-a190-5a1e841f9d11",
   "metadata": {
    "tags": []
   },
   "outputs": [
    {
     "data": {
      "text/html": [
       "<div>\n",
       "<style scoped>\n",
       "    .dataframe tbody tr th:only-of-type {\n",
       "        vertical-align: middle;\n",
       "    }\n",
       "\n",
       "    .dataframe tbody tr th {\n",
       "        vertical-align: top;\n",
       "    }\n",
       "\n",
       "    .dataframe thead th {\n",
       "        text-align: right;\n",
       "    }\n",
       "</style>\n",
       "<table border=\"1\" class=\"dataframe\">\n",
       "  <thead>\n",
       "    <tr style=\"text-align: right;\">\n",
       "      <th></th>\n",
       "      <th>model_name</th>\n",
       "      <th>model</th>\n",
       "    </tr>\n",
       "  </thead>\n",
       "  <tbody>\n",
       "    <tr>\n",
       "      <th>0</th>\n",
       "      <td>tutorial_audio_recognition</td>\n",
       "      <td>Wav2Vec2En</td>\n",
       "    </tr>\n",
       "    <tr>\n",
       "      <th>1</th>\n",
       "      <td>tutorial_text_classification</td>\n",
       "      <td>ElectraEn</td>\n",
       "    </tr>\n",
       "    <tr>\n",
       "      <th>2</th>\n",
       "      <td>tutorial_search_simclr</td>\n",
       "      <td>SimCLR</td>\n",
       "    </tr>\n",
       "    <tr>\n",
       "      <th>3</th>\n",
       "      <td>tutorial_image_classification</td>\n",
       "      <td>ConvNeXt_Tiny</td>\n",
       "    </tr>\n",
       "    <tr>\n",
       "      <th>4</th>\n",
       "      <td>tutorial_search_clip</td>\n",
       "      <td>CLIPEn</td>\n",
       "    </tr>\n",
       "  </tbody>\n",
       "</table>\n",
       "</div>"
      ],
      "text/plain": [
       "                      model_name          model\n",
       "0     tutorial_audio_recognition     Wav2Vec2En\n",
       "1   tutorial_text_classification      ElectraEn\n",
       "2         tutorial_search_simclr         SimCLR\n",
       "3  tutorial_image_classification  ConvNeXt_Tiny\n",
       "4           tutorial_search_clip         CLIPEn"
      ]
     },
     "execution_count": 3,
     "metadata": {},
     "output_type": "execute_result"
    }
   ],
   "source": [
    "%%thanosql\n",
    "LIST THANOSQL MODEL"
   ]
  },
  {
   "cell_type": "markdown",
   "id": "4a981cd8",
   "metadata": {},
   "source": [
    "## __튜토리얼 가져오기__\n",
    "특정 튜토리얼을 가지고 오고 싶다면 아래의 문을 실행시키면 됩니다. 가져올 튜토리얼의 Github URL은 아래의 링크를 통해 확인할 수 있습니다.\n",
    "\n",
    "[튜토리얼 Github URL 리스트](https://docs.thanosql.ai/tutorial/tutorial_wget_list/)"
   ]
  },
  {
   "cell_type": "code",
   "execution_count": null,
   "id": "3b76ccf3",
   "metadata": {},
   "outputs": [],
   "source": [
    "!wget [가져올 Tutorial의 Github URL]"
   ]
  },
  {
   "cell_type": "markdown",
   "id": "a040eed0-d41c-4dbf-be46-ff1a60695910",
   "metadata": {},
   "source": [
    "더 많은 ThanoSQL 사용법과 Tutorial은 [ThanoSQL 기술 문서](https://docs.thanosql.ai)에서 확인하세요."
   ]
  }
 ],
 "metadata": {
  "kernelspec": {
   "display_name": "Python 3.8.9 64-bit",
   "language": "python",
   "name": "python3"
  },
  "language_info": {
   "codemirror_mode": {
    "name": "ipython",
    "version": 3
   },
   "file_extension": ".py",
   "mimetype": "text/x-python",
   "name": "python",
   "nbconvert_exporter": "python",
   "pygments_lexer": "ipython3",
   "version": "3.8.9"
  },
  "vscode": {
   "interpreter": {
    "hash": "31f2aee4e71d21fbe5cf8b01ff0e069b9275f58929596ceb00d14d90e3e16cd6"
   }
  }
 },
 "nbformat": 4,
 "nbformat_minor": 5
}
