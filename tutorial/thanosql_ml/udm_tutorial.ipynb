{
 "cells": [
  {
   "attachments": {},
   "cell_type": "markdown",
   "metadata": {},
   "source": [
    "# __사용자의 모델을 ThanoSQL에서 사용하기__"
   ]
  },
  {
   "attachments": {},
   "cell_type": "markdown",
   "metadata": {},
   "source": [
    "- 튜토리얼 난이도: ★★☆☆☆\n",
    "- 읽는데 걸리는 시간: 10분\n",
    "- 사용 언어: [SQL](https://ko.wikipedia.org/wiki/SQL) (50%), [Python](https://ko.wikipedia.org/wiki/%ED%8C%8C%EC%9D%B4%EC%8D%AC) (50%)\n",
    "- 실행 파일 위치: tutorial/thanosql_ml/udm_tutorial.ipynb\n",
    "- 참고 문서: [Beans 데이터 세트](https://github.com/AI-Lab-Makerere/ibean)"
   ]
  },
  {
   "attachments": {},
   "cell_type": "markdown",
   "metadata": {},
   "source": [
    "## 튜토리얼 소개\n",
    "\n",
    "<div class=\"admonition warning\">\n",
    "    <p>해당 기능은 유료 버전에서 원할하게 작동합니다.</p>\n",
    "</div>\n",
    "\n",
    "\n",
    "ThanoSQL에서는 사용자가 만들거나 가지고 있는 모델에 대하여 ThanoSQL 워크스페이스와 데이터베이스에 올리고 예측에 사용할 수 있는 기능을 제공하고 있습니다.\n",
    "\n",
    "<div class=\"admonition note\">\n",
    "    <h4 class=\"admonition-title\">본 튜토리얼에서는</h4>\n",
    "    <p>👉 beans 데이터 세트는 우간다의 농업 연구를 담당하는 국가 기관인 국립 작물 자원 연구소(NaCRRI)와 협력하여 Makerere AI 연구소가 우간다의 여러 지역에서 현장에서 촬영한 잎 이미지입니다. 데이터는 총 3개의 클래스로 구성되어 있습니다. 2개의 질병 클래스와 건강 클래스이고, 질병은 각각 세균모무늬병(Angular leaf spot)과 콩 녹병(Bean rust)입니다. 본 튜토리얼에서는 이미지 분류 모델을 학습시켜서 사용자 모델을 만든 후 ThanoSQL에 올리고 예측해 봅니다.</p>\n",
    "</div>"
   ]
  },
  {
   "attachments": {},
   "cell_type": "markdown",
   "metadata": {},
   "source": [
    "## __#. 파이썬을 이용한 데이터 세트 및 모델 준비__"
   ]
  },
  {
   "attachments": {},
   "cell_type": "markdown",
   "metadata": {},
   "source": [
    "### __데이터 세트 준비__"
   ]
  },
  {
   "attachments": {},
   "cell_type": "markdown",
   "metadata": {},
   "source": [
    "#### 데이터 다운로드 및 압축풀기"
   ]
  },
  {
   "cell_type": "code",
   "execution_count": 1,
   "metadata": {
    "execution": {
     "iopub.execute_input": "2022-11-30T08:54:07.516088Z",
     "iopub.status.busy": "2022-11-30T08:54:07.515672Z",
     "iopub.status.idle": "2022-11-30T08:54:11.669791Z",
     "shell.execute_reply": "2022-11-30T08:54:11.668816Z",
     "shell.execute_reply.started": "2022-11-30T08:54:07.516004Z"
    },
    "tags": []
   },
   "outputs": [],
   "source": [
    "import os\n",
    "from shutil import unpack_archive\n",
    "from urllib.request import urlretrieve\n",
    "\n",
    "url = \"https://storage.googleapis.com/ibeans\"\n",
    "\n",
    "for split in [\"train\", \"validation\", \"test\"]:\n",
    "    urlretrieve(f\"{url}/{split}.zip\", f\"{split}.zip\")\n",
    "    unpack_archive(f\"{split}.zip\", \".\")\n",
    "    os.remove(f\"{split}.zip\")"
   ]
  },
  {
   "attachments": {},
   "cell_type": "markdown",
   "metadata": {},
   "source": [
    "#### 패키지 설치"
   ]
  },
  {
   "cell_type": "code",
   "execution_count": null,
   "metadata": {
    "tags": []
   },
   "outputs": [],
   "source": [
    "!pip install torch torchvision"
   ]
  },
  {
   "attachments": {},
   "cell_type": "markdown",
   "metadata": {},
   "source": [
    "#### 훈련용 데이터 세트 생성\n",
    "\n",
    "이후의 코드는 해당 [링크](https://pytorch.org/tutorials/beginner/transfer_learning_tutorial.html)에서 가져와 약간의 조정을 거친 것입니다."
   ]
  },
  {
   "cell_type": "code",
   "execution_count": null,
   "metadata": {
    "tags": []
   },
   "outputs": [],
   "source": [
    "from torch.utils.data import DataLoader\n",
    "from torchvision import transforms as T\n",
    "from torchvision.datasets import ImageFolder\n",
    "\n",
    "data_transforms = {\n",
    "    \"train\": T.Compose(\n",
    "        [\n",
    "            T.RandomResizedCrop(224),\n",
    "            T.RandomHorizontalFlip(),\n",
    "            T.ToTensor(),\n",
    "            T.Normalize([0.485, 0.456, 0.406], [0.229, 0.224, 0.225]),\n",
    "        ]\n",
    "    ),\n",
    "    \"validation\": T.Compose(\n",
    "        [\n",
    "            T.Resize(224),\n",
    "            T.CenterCrop(224),\n",
    "            T.ToTensor(),\n",
    "            T.Normalize([0.485, 0.456, 0.406], [0.229, 0.224, 0.225]),\n",
    "        ]\n",
    "    ),\n",
    "}\n",
    "\n",
    "image_datasets = {\n",
    "    split: ImageFolder(split, data_transforms[split])\n",
    "    for split in [\"train\", \"validation\"]\n",
    "}\n",
    "dataloaders = {\n",
    "    split: DataLoader(image_datasets[split], batch_size=8, shuffle=split == \"train\")\n",
    "    for split in [\"train\", \"validation\"]\n",
    "}\n",
    "dataset_sizes = {split: len(image_datasets[split]) for split in [\"train\", \"validation\"]}"
   ]
  },
  {
   "attachments": {},
   "cell_type": "markdown",
   "metadata": {},
   "source": [
    "### __모델 준비__"
   ]
  },
  {
   "attachments": {},
   "cell_type": "markdown",
   "metadata": {},
   "source": [
    "#### 모델 학습 코드 작성하기"
   ]
  },
  {
   "cell_type": "code",
   "execution_count": 3,
   "metadata": {
    "execution": {
     "iopub.execute_input": "2022-11-30T08:54:12.622119Z",
     "iopub.status.busy": "2022-11-30T08:54:12.621904Z",
     "iopub.status.idle": "2022-11-30T08:54:12.630169Z",
     "shell.execute_reply": "2022-11-30T08:54:12.629432Z",
     "shell.execute_reply.started": "2022-11-30T08:54:12.622104Z"
    },
    "tags": []
   },
   "outputs": [],
   "source": [
    "import time\n",
    "import copy\n",
    "import torch\n",
    "\n",
    "\n",
    "def train_model(model, criterion, optimizer, num_epochs=3):\n",
    "    start_time = time.time()\n",
    "    device = torch.device(\"cuda\" if torch.cuda.is_available() else \"cpu\")\n",
    "    model.to(device)\n",
    "    best_model_weights = copy.deepcopy(model.state_dict())\n",
    "    best_acc = 0.0\n",
    "\n",
    "    for epoch in range(num_epochs):\n",
    "        print(f\"Epoch {epoch}/{num_epochs - 1}\")\n",
    "        print(\"-\" * 10)\n",
    "\n",
    "        # 각 에폭(epoch)은 학습 단계와 검증 단계를 갖습니다.\n",
    "        for phase in [\"train\", \"validation\"]:\n",
    "            if phase == \"train\":\n",
    "                model.train()\n",
    "            else:\n",
    "                model.eval()\n",
    "\n",
    "            running_loss = 0.0\n",
    "            running_corrects = 0\n",
    "\n",
    "            for inputs, labels in dataloaders[phase]:\n",
    "                inputs = inputs.to(device)\n",
    "                labels = labels.to(device)\n",
    "\n",
    "                # 매개변수 경사도를 0으로 설정\n",
    "                optimizer.zero_grad()\n",
    "\n",
    "                # 순전파\n",
    "                # 학습 단계에서만 연산 기록을 추적\n",
    "                with torch.set_grad_enabled(phase == \"train\"):\n",
    "                    outputs = model(inputs)\n",
    "                    preds = torch.argmax(outputs, dim=1)\n",
    "                    loss = criterion(outputs, labels)\n",
    "\n",
    "                    # 학습 단계인 경우에만 역전파\n",
    "                    if phase == \"train\":\n",
    "                        loss.backward()\n",
    "                        optimizer.step()\n",
    "\n",
    "                # 통계\n",
    "                running_loss += loss.item() * inputs.size(0)\n",
    "                running_corrects += torch.sum(preds == labels.data)\n",
    "\n",
    "            epoch_loss = running_loss / dataset_sizes[phase]\n",
    "            epoch_acc = running_corrects / dataset_sizes[phase]\n",
    "\n",
    "            print(f\"{phase} Loss: {epoch_loss:.4f} Acc: {epoch_acc:.4f}\")\n",
    "\n",
    "            # 모델의 정확도가 기존의 최고 정확도보다 높다면 저장\n",
    "            if phase == \"validation\" and epoch_acc > best_acc:\n",
    "                best_acc = epoch_acc\n",
    "                best_model_weights = copy.deepcopy(model.state_dict())\n",
    "\n",
    "        print()\n",
    "\n",
    "    time_elapsed = time.time() - start_time\n",
    "    print(f\"Training complete in {time_elapsed // 60:.0f}m {time_elapsed % 60:.0f}s\")\n",
    "    print(f\"Best val Acc: {best_acc:4f}\")\n",
    "\n",
    "    # 가장 나은 모델 가중치를 불러옴\n",
    "    model.load_state_dict(best_model_weights)\n",
    "    return model"
   ]
  },
  {
   "attachments": {},
   "cell_type": "markdown",
   "metadata": {},
   "source": [
    "#### 모델 불러오기\n",
    "\n",
    "mobilevit v2를 사용합니다. 작고 가볍지만 정확도는 높아 빠른 튜토리얼에 적합합니다."
   ]
  },
  {
   "cell_type": "code",
   "execution_count": null,
   "metadata": {
    "tags": []
   },
   "outputs": [],
   "source": [
    "model = torch.hub.load(\"rwightman/pytorch-image-models\", \"mobilevitv2_050\", pretrained=True, num_classes=3)\n",
    "optimizer = torch.optim.Adam(model.parameters(), lr=0.001)\n",
    "criterion = torch.nn.CrossEntropyLoss()"
   ]
  },
  {
   "attachments": {},
   "cell_type": "markdown",
   "metadata": {},
   "source": [
    "#### 모델 훈련 및 저장"
   ]
  },
  {
   "cell_type": "code",
   "execution_count": 5,
   "metadata": {
    "execution": {
     "iopub.execute_input": "2022-11-30T08:54:13.823232Z",
     "iopub.status.busy": "2022-11-30T08:54:13.732322Z",
     "iopub.status.idle": "2022-11-30T08:55:11.555170Z",
     "shell.execute_reply": "2022-11-30T08:55:11.554119Z",
     "shell.execute_reply.started": "2022-11-30T08:54:13.823156Z"
    },
    "tags": []
   },
   "outputs": [
    {
     "name": "stdout",
     "output_type": "stream",
     "text": [
      "Epoch 0/0\n",
      "----------\n",
      "train Loss: 0.5792 Acc: 0.8153\n",
      "validation Loss: 0.1912 Acc: 0.9323\n",
      "\n",
      "Training complete in 0m 58s\n",
      "Best val Acc: 0.932331\n"
     ]
    }
   ],
   "source": [
    "trained_model = train_model(model, criterion, optimizer, num_epochs=1)"
   ]
  },
  {
   "cell_type": "code",
   "execution_count": 6,
   "metadata": {
    "execution": {
     "iopub.execute_input": "2022-11-30T08:55:11.557302Z",
     "iopub.status.busy": "2022-11-30T08:55:11.557049Z",
     "iopub.status.idle": "2022-11-30T08:55:11.592439Z",
     "shell.execute_reply": "2022-11-30T08:55:11.591550Z",
     "shell.execute_reply.started": "2022-11-30T08:55:11.557285Z"
    },
    "tags": []
   },
   "outputs": [],
   "source": [
    "torch.save(trained_model, \"trained_model.pth\")"
   ]
  },
  {
   "attachments": {},
   "cell_type": "markdown",
   "metadata": {},
   "source": [
    "#### ThanoSQL에 입력할 데이터프레임 생성"
   ]
  },
  {
   "cell_type": "code",
   "execution_count": 7,
   "metadata": {
    "execution": {
     "iopub.execute_input": "2022-11-30T08:55:11.593442Z",
     "iopub.status.busy": "2022-11-30T08:55:11.593260Z",
     "iopub.status.idle": "2022-11-30T08:55:19.315743Z",
     "shell.execute_reply": "2022-11-30T08:55:19.314633Z",
     "shell.execute_reply.started": "2022-11-30T08:55:11.593425Z"
    }
   },
   "outputs": [],
   "source": [
    "import numpy as np\n",
    "import pandas as pd\n",
    "\n",
    "test_dataset = ImageFolder(\"test\", data_transforms[\"validation\"])\n",
    "\n",
    "data = np.stack([img.numpy() for img, _ in test_dataset])\n",
    "df = pd.DataFrame(pd.Series(data.tolist()), columns=[\"image\"])  # column 이름을 \"image\"로 지정해야 합니다.\n",
    "df.to_pickle(\"test_data.pkl\")"
   ]
  },
  {
   "attachments": {},
   "cell_type": "markdown",
   "metadata": {},
   "source": [
    "## __0. 데이터 세트 준비__\n",
    "\n",
    "ThanoSQL의 쿼리 구문을 사용하기 위해서는 [ThanoSQL 워크스페이스](https://docs.thanosql.ai/ko/getting_started/paas/workspace/lab/)에서 언급된 것처럼 API 토큰을 생성하고 아래의 쿼리를 실행해야 합니다."
   ]
  },
  {
   "cell_type": "code",
   "execution_count": null,
   "metadata": {},
   "outputs": [],
   "source": [
    "%load_ext thanosql\n",
    "%thanosql API_TOKEN=<발급받은_API_TOKEN>"
   ]
  },
  {
   "attachments": {},
   "cell_type": "markdown",
   "metadata": {},
   "source": [
    "### __데이터 세트 준비__"
   ]
  },
  {
   "cell_type": "code",
   "execution_count": 9,
   "metadata": {
    "execution": {
     "iopub.execute_input": "2022-11-30T08:55:19.394636Z",
     "iopub.status.busy": "2022-11-30T08:55:19.394393Z",
     "iopub.status.idle": "2022-11-30T08:55:55.812231Z",
     "shell.execute_reply": "2022-11-30T08:55:55.811079Z",
     "shell.execute_reply.started": "2022-11-30T08:55:19.394621Z"
    },
    "tags": []
   },
   "outputs": [
    {
     "name": "stdout",
     "output_type": "stream",
     "text": [
      "Success\n"
     ]
    }
   ],
   "source": [
    "%%thanosql\n",
    "COPY beans_test\n",
    "OPTIONS (if_exists='replace')\n",
    "FROM 'test_data.pkl'"
   ]
  },
  {
   "attachments": {},
   "cell_type": "markdown",
   "metadata": {},
   "source": [
    "<div class=\"admonition note\">\n",
    "    <h4 class=\"admonition-title\">쿼리 세부 정보</h4>\n",
    "    <ul>\n",
    "        <li>\"<strong>COPY</strong>\" 쿼리 구문을 사용하여 데이터베이스에 저장 할 테이블명을 지정합니다.</li>\n",
    "        <li>\"<strong>OPTIONS</strong>\" 쿼리 구문을 통해 <strong>COPY</strong>에 사용할 옵션을 지정합니다.\n",
    "        <ul>\n",
    "            <li>\"if_exists\": 동일 이름의 테이블이 존재하는 경우 처리하는 방법 설정. 오류 발생, 기존 테이블에 추가, 기존 테이블 대체 (str, optional, 'fail'|'replace'|'append', default: 'fail')</li>\n",
    "        </ul>\n",
    "        </li>\n",
    "    </ul>\n",
    "</div>"
   ]
  },
  {
   "attachments": {},
   "cell_type": "markdown",
   "metadata": {},
   "source": [
    "## __1. 데이터 세트 확인__\n",
    "\n",
    "본 튜토리얼을 진행하기 위해 ThanoSQL 워크스페이스 데이터베이스에 저장되어 있는 __beans_test__ 테이블을 사용합니다. 아래의 쿼리 구문을 실행하고 테이블의 내용을 확인합니다."
   ]
  },
  {
   "cell_type": "code",
   "execution_count": 10,
   "metadata": {
    "execution": {
     "iopub.execute_input": "2022-11-30T08:55:55.814798Z",
     "iopub.status.busy": "2022-11-30T08:55:55.814548Z",
     "iopub.status.idle": "2022-11-30T08:55:56.976842Z",
     "shell.execute_reply": "2022-11-30T08:55:56.976006Z",
     "shell.execute_reply.started": "2022-11-30T08:55:55.814775Z"
    }
   },
   "outputs": [
    {
     "data": {
      "text/html": [
       "<div>\n",
       "<style scoped>\n",
       "    .dataframe tbody tr th:only-of-type {\n",
       "        vertical-align: middle;\n",
       "    }\n",
       "\n",
       "    .dataframe tbody tr th {\n",
       "        vertical-align: top;\n",
       "    }\n",
       "\n",
       "    .dataframe thead th {\n",
       "        text-align: right;\n",
       "    }\n",
       "</style>\n",
       "<table border=\"1\" class=\"dataframe\">\n",
       "  <thead>\n",
       "    <tr style=\"text-align: right;\">\n",
       "      <th></th>\n",
       "      <th>image</th>\n",
       "    </tr>\n",
       "  </thead>\n",
       "  <tbody>\n",
       "    <tr>\n",
       "      <th>0</th>\n",
       "      <td>[[[-0.028684020042419434, -0.04580877348780632...</td>\n",
       "    </tr>\n",
       "    <tr>\n",
       "      <th>1</th>\n",
       "      <td>[[[-0.0629335269331932, -0.0629335269331932, -...</td>\n",
       "    </tr>\n",
       "    <tr>\n",
       "      <th>2</th>\n",
       "      <td>[[[1.9577873945236206, 1.8721636533737183, 1.7...</td>\n",
       "    </tr>\n",
       "    <tr>\n",
       "      <th>3</th>\n",
       "      <td>[[[0.21106265485286713, 0.0569397434592247, -0...</td>\n",
       "    </tr>\n",
       "    <tr>\n",
       "      <th>4</th>\n",
       "      <td>[[[-1.3815395832061768, -1.432913899421692, -1...</td>\n",
       "    </tr>\n",
       "  </tbody>\n",
       "</table>\n",
       "</div>"
      ],
      "text/plain": [
       "                                               image\n",
       "0  [[[-0.028684020042419434, -0.04580877348780632...\n",
       "1  [[[-0.0629335269331932, -0.0629335269331932, -...\n",
       "2  [[[1.9577873945236206, 1.8721636533737183, 1.7...\n",
       "3  [[[0.21106265485286713, 0.0569397434592247, -0...\n",
       "4  [[[-1.3815395832061768, -1.432913899421692, -1..."
      ]
     },
     "execution_count": 10,
     "metadata": {},
     "output_type": "execute_result"
    }
   ],
   "source": [
    "%%thanosql\n",
    "SELECT *\n",
    "FROM beans_test\n",
    "LIMIT 5"
   ]
  },
  {
   "attachments": {},
   "cell_type": "markdown",
   "metadata": {},
   "source": [
    "<div class=\"admonition note\">\n",
    "    <h4 class=\"admonition-title\">데이터 테이블 이해하기</h4>\n",
    "    <p><strong>beans_test</strong> 테이블은 아래와 같은 정보를 담고 있습니다.</p>\n",
    "    <ul>\n",
    "        <li>image: numpy 형식으로 저장한 이미지</li>\n",
    "    </ul>\n",
    "</div>"
   ]
  },
  {
   "attachments": {},
   "cell_type": "markdown",
   "metadata": {},
   "source": [
    "## __2. 사용자 모델 업로드__\n",
    "\n",
    "이전 단계에서 파이썬을 이용하여 사용자가 만든 모델을 아래의 쿼리 구문을 실행하여 <strong>beans_mobilevit</strong>이라는 이름의 모델을 업로드합니다."
   ]
  },
  {
   "cell_type": "code",
   "execution_count": 11,
   "metadata": {
    "execution": {
     "iopub.execute_input": "2022-11-30T08:55:56.977837Z",
     "iopub.status.busy": "2022-11-30T08:55:56.977679Z",
     "iopub.status.idle": "2022-11-30T08:55:57.434689Z",
     "shell.execute_reply": "2022-11-30T08:55:57.433628Z",
     "shell.execute_reply.started": "2022-11-30T08:55:56.977823Z"
    }
   },
   "outputs": [
    {
     "name": "stdout",
     "output_type": "stream",
     "text": [
      "Success\n"
     ]
    }
   ],
   "source": [
    "%%thanosql\n",
    "UPLOAD MODEL beans_mobilevit\n",
    "OPTIONS (\n",
    "    framework='pytorch',\n",
    "    overwrite=True\n",
    "    )\n",
    "FROM 'trained_model.pth'"
   ]
  },
  {
   "attachments": {},
   "cell_type": "markdown",
   "metadata": {},
   "source": [
    "<div class=\"admonition note\">\n",
    "    <h4 class=\"admonition-title\">쿼리 세부 정보</h4>\n",
    "    <ul>\n",
    "        <li>\"<strong>UPLOAD MODEL</strong>\" 쿼리 구문을 사용하여 <strong>beans_mobilevit</strong>이라는 모델을 업로드 시킵니다.</li>\n",
    "        <li>\"<strong>OPTIONS</strong>\" 쿼리 구문을 통해 모델 업로드에 사용할 옵션을 지정합니다.\n",
    "        <ul>\n",
    "            <li>\"framework\": 모델의 프레임워크 (str, default: 'pytorch')</li>\n",
    "            <li>\"overwrite\": 동일 이름의 모델이 존재하는 경우 덮어쓰기 가능 여부 설정. True일 경우 기존 모델은 새로운 모델로 변경됨 (bool, optional, True|False, default: False)</li>\n",
    "        </ul>\n",
    "        </li>\n",
    "    </ul>\n",
    "</div>"
   ]
  },
  {
   "attachments": {},
   "cell_type": "markdown",
   "metadata": {},
   "source": [
    "<div class=\"admonition warning\">\n",
    "    <p>현재 ThanoSQL은 pytorch 형식의 모델만 지원합니다.</p>\n",
    "</div>"
   ]
  },
  {
   "attachments": {},
   "cell_type": "markdown",
   "metadata": {},
   "source": [
    "## __3. 사용자 모델을 사용하여 예측__\n",
    "\n",
    "이전 단계에서 업로드한 사용자 모델을 사용해 콩의 클래스를 예측해 봅니다."
   ]
  },
  {
   "cell_type": "code",
   "execution_count": 12,
   "metadata": {
    "execution": {
     "iopub.execute_input": "2022-11-30T08:55:57.436336Z",
     "iopub.status.busy": "2022-11-30T08:55:57.436022Z",
     "iopub.status.idle": "2022-11-30T08:56:02.252012Z",
     "shell.execute_reply": "2022-11-30T08:56:02.251065Z",
     "shell.execute_reply.started": "2022-11-30T08:55:57.436307Z"
    },
    "tags": []
   },
   "outputs": [
    {
     "data": {
      "text/html": [
       "<div>\n",
       "<style scoped>\n",
       "    .dataframe tbody tr th:only-of-type {\n",
       "        vertical-align: middle;\n",
       "    }\n",
       "\n",
       "    .dataframe tbody tr th {\n",
       "        vertical-align: top;\n",
       "    }\n",
       "\n",
       "    .dataframe thead th {\n",
       "        text-align: right;\n",
       "    }\n",
       "</style>\n",
       "<table border=\"1\" class=\"dataframe\">\n",
       "  <thead>\n",
       "    <tr style=\"text-align: right;\">\n",
       "      <th></th>\n",
       "      <th>image</th>\n",
       "      <th>predicted</th>\n",
       "    </tr>\n",
       "  </thead>\n",
       "  <tbody>\n",
       "    <tr>\n",
       "      <th>0</th>\n",
       "      <td>[[[-0.7821731567382812, -0.9362959265708923, -...</td>\n",
       "      <td>[0.464764267206192, 2.2284131050109863, -2.832...</td>\n",
       "    </tr>\n",
       "    <tr>\n",
       "      <th>1</th>\n",
       "      <td>[[[0.7248052358627319, 0.8104289770126343, 0.8...</td>\n",
       "      <td>[-0.7518391609191895, 2.296389102935791, -1.67...</td>\n",
       "    </tr>\n",
       "    <tr>\n",
       "      <th>2</th>\n",
       "      <td>[[[0.1083141341805458, 0.31381115317344666, 0....</td>\n",
       "      <td>[2.892843008041382, -1.4041131734848022, -1.36...</td>\n",
       "    </tr>\n",
       "    <tr>\n",
       "      <th>3</th>\n",
       "      <td>[[[-0.23418104648590088, -0.38830381631851196,...</td>\n",
       "      <td>[-1.4550528526306152, 2.636288642883301, -1.30...</td>\n",
       "    </tr>\n",
       "    <tr>\n",
       "      <th>4</th>\n",
       "      <td>[[[-1.809658408164978, -1.689785122871399, -1....</td>\n",
       "      <td>[-1.589335560798645, -0.9054973125457764, 2.46...</td>\n",
       "    </tr>\n",
       "  </tbody>\n",
       "</table>\n",
       "</div>"
      ],
      "text/plain": [
       "                                               image  \\\n",
       "0  [[[-0.7821731567382812, -0.9362959265708923, -...   \n",
       "1  [[[0.7248052358627319, 0.8104289770126343, 0.8...   \n",
       "2  [[[0.1083141341805458, 0.31381115317344666, 0....   \n",
       "3  [[[-0.23418104648590088, -0.38830381631851196,...   \n",
       "4  [[[-1.809658408164978, -1.689785122871399, -1....   \n",
       "\n",
       "                                           predicted  \n",
       "0  [0.464764267206192, 2.2284131050109863, -2.832...  \n",
       "1  [-0.7518391609191895, 2.296389102935791, -1.67...  \n",
       "2  [2.892843008041382, -1.4041131734848022, -1.36...  \n",
       "3  [-1.4550528526306152, 2.636288642883301, -1.30...  \n",
       "4  [-1.589335560798645, -0.9054973125457764, 2.46...  "
      ]
     },
     "execution_count": 12,
     "metadata": {},
     "output_type": "execute_result"
    }
   ],
   "source": [
    "%%thanosql\n",
    "PREDICT USING beans_mobilevit\n",
    "OPTIONS (\n",
    "    result_col='predicted'\n",
    "    )\n",
    "AS (\n",
    "    SELECT *\n",
    "    FROM beans_test\n",
    "    ORDER BY RANDOM()\n",
    "    LIMIT 5\n",
    "    )"
   ]
  },
  {
   "attachments": {},
   "cell_type": "markdown",
   "metadata": {},
   "source": [
    "<div class=\"admonition note\">\n",
    "    <h4 class=\"admonition-title\">쿼리 세부 정보</h4>\n",
    "    <ul>\n",
    "        <li>\"<strong>PREDICT USING</strong>\" 쿼리 구문을 사용하여 <strong>beans_mobilevit</strong> 모델을 예측에 사용합니다.</li>\n",
    "        <li>\"<strong>OPTIONS</strong>\" 쿼리 구문을 통해 예측에 사용할 옵션을 지정합니다.\n",
    "        <ul>\n",
    "            <li>\"result_col\": 데이터 테이블에서 예측 결과를 담을 컬럼 이름 (str, optional, default: 'predict_result')</li>\n",
    "        </ul>\n",
    "        </li>\n",
    "    </ul>\n",
    "</div>"
   ]
  },
  {
   "cell_type": "code",
   "execution_count": 13,
   "metadata": {
    "execution": {
     "iopub.execute_input": "2022-11-30T08:56:02.252931Z",
     "iopub.status.busy": "2022-11-30T08:56:02.252775Z",
     "iopub.status.idle": "2022-11-30T08:56:02.956763Z",
     "shell.execute_reply": "2022-11-30T08:56:02.955984Z",
     "shell.execute_reply.started": "2022-11-30T08:56:02.252916Z"
    },
    "tags": []
   },
   "outputs": [
    {
     "data": {
      "text/html": [
       "<div>\n",
       "<style scoped>\n",
       "    .dataframe tbody tr th:only-of-type {\n",
       "        vertical-align: middle;\n",
       "    }\n",
       "\n",
       "    .dataframe tbody tr th {\n",
       "        vertical-align: top;\n",
       "    }\n",
       "\n",
       "    .dataframe thead th {\n",
       "        text-align: right;\n",
       "    }\n",
       "</style>\n",
       "<table border=\"1\" class=\"dataframe\">\n",
       "  <thead>\n",
       "    <tr style=\"text-align: right;\">\n",
       "      <th></th>\n",
       "      <th>image</th>\n",
       "      <th>predicted</th>\n",
       "    </tr>\n",
       "  </thead>\n",
       "  <tbody>\n",
       "    <tr>\n",
       "      <th>0</th>\n",
       "      <td>[[[-0.7821731567382812, -0.9362959265708923, -...</td>\n",
       "      <td>bean_rust</td>\n",
       "    </tr>\n",
       "    <tr>\n",
       "      <th>1</th>\n",
       "      <td>[[[0.7248052358627319, 0.8104289770126343, 0.8...</td>\n",
       "      <td>bean_rust</td>\n",
       "    </tr>\n",
       "    <tr>\n",
       "      <th>2</th>\n",
       "      <td>[[[0.1083141341805458, 0.31381115317344666, 0....</td>\n",
       "      <td>angular_leaf_spot</td>\n",
       "    </tr>\n",
       "    <tr>\n",
       "      <th>3</th>\n",
       "      <td>[[[-0.23418104648590088, -0.38830381631851196,...</td>\n",
       "      <td>bean_rust</td>\n",
       "    </tr>\n",
       "    <tr>\n",
       "      <th>4</th>\n",
       "      <td>[[[-1.809658408164978, -1.689785122871399, -1....</td>\n",
       "      <td>healthy</td>\n",
       "    </tr>\n",
       "  </tbody>\n",
       "</table>\n",
       "</div>"
      ],
      "text/plain": [
       "                                               image          predicted\n",
       "0  [[[-0.7821731567382812, -0.9362959265708923, -...          bean_rust\n",
       "1  [[[0.7248052358627319, 0.8104289770126343, 0.8...          bean_rust\n",
       "2  [[[0.1083141341805458, 0.31381115317344666, 0....  angular_leaf_spot\n",
       "3  [[[-0.23418104648590088, -0.38830381631851196,...          bean_rust\n",
       "4  [[[-1.809658408164978, -1.689785122871399, -1....            healthy"
      ]
     },
     "execution_count": 13,
     "metadata": {},
     "output_type": "execute_result"
    }
   ],
   "source": [
    "pred_df = _  # 가장 마지막에 사용된 객체를 불러옵니다.\n",
    "pred_df[\"predicted\"] = pred_df[\"predicted\"].apply(np.argmax)\n",
    "pred_df[\"predicted\"] = pred_df[\"predicted\"].apply(test_dataset.classes.__getitem__)\n",
    "pred_df"
   ]
  },
  {
   "attachments": {},
   "cell_type": "markdown",
   "metadata": {},
   "source": [
    "## __4. 튜토리얼을 마치며__\n",
    "\n",
    "이번 튜토리얼에서는 사용자 정의 모델을 ThanoSQL에 올린 후 beans 데이터 세트를 사용하여 사용자 모델을 예측에 사용해 보았습니다. 해당 튜토리얼을 참고하여 다양한 모델들을 ThanoSQL에 올리고 사용할 수 있습니다.\n",
    "\n",
    "* [나만의 데이터 업로드하기](https://docs.thanosql.ai/ko/getting_started/data_upload/)\n",
    "* [나만의 데이터 테이블 생성하기](https://docs.thanosql.ai/ko/how-to_guides/ThanoSQL_query/COPY_SYNTAX/)\n",
    "* [나만의 모델 업로드하기](https://docs.thanosql.ai/ko/how-to_guides/ThanoSQL_query/UPLOAD_MODEL_SYNTAX/)\n",
    "\n",
    "<div class=\"admonition tip\">\n",
    "    <h4 class=\"admonition-title\">나만의 서비스를 위한 모델 배포 관련 문의</h4>\n",
    "    <p>ThanoSQL을 활용해 나만의 모델을 만들거나, 나의 서비스에 적용하는데 어려움이 있다면 언제든 아래로 문의주세요😊</p>\n",
    "    <p>사용자 정의 모델 구축 관련 문의: <a href=\"mailto:contact@smartmind.team\">contact@smartmind.team</a></p>\n",
    "</div>"
   ]
  }
 ],
 "metadata": {
  "kernelspec": {
   "display_name": "Python 3 (ipykernel)",
   "language": "python",
   "name": "python3"
  },
  "language_info": {
   "codemirror_mode": {
    "name": "ipython",
    "version": 3
   },
   "file_extension": ".py",
   "mimetype": "text/x-python",
   "name": "python",
   "nbconvert_exporter": "python",
   "pygments_lexer": "ipython3",
   "version": "3.8.10 (default, Nov 14 2022, 12:59:47) \n[GCC 9.4.0]"
  },
  "vscode": {
   "interpreter": {
    "hash": "916dbcbb3f70747c44a77c7bcd40155683ae19c65e1c03b4aa3499c5328201f1"
   }
  }
 },
 "nbformat": 4,
 "nbformat_minor": 4
}
